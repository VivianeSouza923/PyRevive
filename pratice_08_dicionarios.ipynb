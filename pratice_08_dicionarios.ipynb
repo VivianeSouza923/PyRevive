{
  "cells": [
    {
      "cell_type": "markdown",
      "metadata": {
        "id": "view-in-github",
        "colab_type": "text"
      },
      "source": [
        "<a href=\"https://colab.research.google.com/github/VivianeSouza923/PyRevive/blob/main/pratice_08_dicionarios.ipynb\" target=\"_parent\"><img src=\"https://colab.research.google.com/assets/colab-badge.svg\" alt=\"Open In Colab\"/></a>"
      ]
    },
    {
      "cell_type": "markdown",
      "metadata": {
        "id": "rf2CG60HfS-7"
      },
      "source": [
        "## **Python Essencial para Data Science**\n",
        "**Prof. Dr. Samuel Martins (@hisamuka @xavecoding)** <br/>\n",
        "xavecoding: https://youtube.com/c/xavecoding <br/><br/>\n",
        "\n",
        "<a rel=\"license\" href=\"http://creativecommons.org/licenses/by-nc-sa/4.0/\"><img alt=\"Creative Commons License\" style=\"border-width:0\" src=\"https://i.creativecommons.org/l/by-nc-sa/4.0/88x31.png\" /></a><br />This work is licensed under a <a rel=\"license\" href=\"http://creativecommons.org/licenses/by-nc-sa/4.0/\">Creative Commons Attribution-NonCommercial-ShareAlike 4.0 International License</a>."
      ]
    },
    {
      "cell_type": "markdown",
      "metadata": {
        "id": "F9h8V1nafS-9"
      },
      "source": [
        "## Dicionários (tabelas hash)\n",
        "Dicionários são tabelas hash: estruturas que mapeiams _chaves_ à _valores_. <br/>\n",
        "Muito utilizado quando queremos **acesso rápido** (_O(1)_) a elementos/valores associados a uma dada chave."
      ]
    },
    {
      "cell_type": "code",
      "execution_count": null,
      "metadata": {
        "colab": {
          "base_uri": "https://localhost:8080/"
        },
        "id": "Svqx-U-bfS--",
        "outputId": "b57bc1b4-d495-4eff-d106-349249016f42"
      },
      "outputs": [
        {
          "output_type": "stream",
          "name": "stdout",
          "text": [
            "Viviane 27 54\n"
          ]
        }
      ],
      "source": [
        "# Alternativa 1: sem usar dicionários. Tudo solto, digamos assim:\n",
        "\n",
        "nome = 'Viviane'\n",
        "idade = 27\n",
        "peso =  54\n",
        "\n",
        "print(nome, idade, peso)"
      ]
    },
    {
      "cell_type": "code",
      "source": [
        "# alternativa 2: usando lista ou tupla\n",
        "\n",
        "vivi_tupla = ('Viviane', 27, 54)\n",
        "vivi_lista = list(vivi_tupla)\n",
        "vivi_lista"
      ],
      "metadata": {
        "colab": {
          "base_uri": "https://localhost:8080/"
        },
        "id": "WILOrc49f_QW",
        "outputId": "0762621e-1b50-453e-b22e-b86522d855e3"
      },
      "execution_count": null,
      "outputs": [
        {
          "output_type": "execute_result",
          "data": {
            "text/plain": [
              "['Viviane', 27, 54]"
            ]
          },
          "metadata": {},
          "execution_count": 30
        }
      ]
    },
    {
      "cell_type": "code",
      "source": [
        "vivi_lista[0]\n"
      ],
      "metadata": {
        "colab": {
          "base_uri": "https://localhost:8080/",
          "height": 35
        },
        "id": "T6O1ohF1gmoV",
        "outputId": "a430a114-1b73-4e15-abf9-5309232d087c"
      },
      "execution_count": null,
      "outputs": [
        {
          "output_type": "execute_result",
          "data": {
            "text/plain": [
              "'Viviane'"
            ],
            "application/vnd.google.colaboratory.intrinsic+json": {
              "type": "string"
            }
          },
          "metadata": {},
          "execution_count": 31
        }
      ]
    },
    {
      "cell_type": "code",
      "source": [
        "vivi_lista[1]\n"
      ],
      "metadata": {
        "colab": {
          "base_uri": "https://localhost:8080/"
        },
        "id": "V1JnENhWgtal",
        "outputId": "368ca73a-1900-4a03-8ac0-71a4ebcecbdf"
      },
      "execution_count": null,
      "outputs": [
        {
          "output_type": "execute_result",
          "data": {
            "text/plain": [
              "27"
            ]
          },
          "metadata": {},
          "execution_count": 32
        }
      ]
    },
    {
      "cell_type": "code",
      "source": [
        "vivi_lista[2]"
      ],
      "metadata": {
        "colab": {
          "base_uri": "https://localhost:8080/"
        },
        "id": "QkvLZnbagu_a",
        "outputId": "1a0f59af-c124-4539-f3a1-773e2264c6ec"
      },
      "execution_count": null,
      "outputs": [
        {
          "output_type": "execute_result",
          "data": {
            "text/plain": [
              "54"
            ]
          },
          "metadata": {},
          "execution_count": 33
        }
      ]
    },
    {
      "cell_type": "code",
      "source": [
        "# Finalmente a alternativa 3, que é com dicionário: - O dicionário é composto por uma variável que armazena um par de chaves\n",
        "# e dentro delas contém a chave (nome da variável): e seu valor. se houver mais de 1 chave-valor, eles são separados por\n",
        "# vírgulas\n",
        "\n",
        "vivi_dicionario = {'nome': 'Viviane', 'idade': 27, 'peso': 54}\n",
        "print(vivi_dicionario)\n",
        "\n"
      ],
      "metadata": {
        "colab": {
          "base_uri": "https://localhost:8080/"
        },
        "id": "E4ExorTrgiZF",
        "outputId": "2172f8d7-2ef9-4540-d9ba-e76b7d668e15"
      },
      "execution_count": null,
      "outputs": [
        {
          "output_type": "stream",
          "name": "stdout",
          "text": [
            "{'nome': 'Viviane', 'idade': 27, 'peso': 54}\n"
          ]
        }
      ]
    },
    {
      "cell_type": "markdown",
      "metadata": {
        "id": "evGfBgfLfS--"
      },
      "source": [
        "Neste caso, 'nome', 'idade' e 'peso' sãos as chaves com os respectivos valores 'Luke Skywalker', 16, 60.0."
      ]
    },
    {
      "cell_type": "markdown",
      "metadata": {
        "id": "bvp2vY1xfS-_"
      },
      "source": [
        "Um dado _valor_ é acessado passando a _chave_ via **colchetes**:"
      ]
    },
    {
      "cell_type": "code",
      "execution_count": null,
      "metadata": {
        "colab": {
          "base_uri": "https://localhost:8080/",
          "height": 35
        },
        "id": "IfPegj2xfS-_",
        "outputId": "096c0c13-6fb0-4c30-834d-999b9e97f84f"
      },
      "outputs": [
        {
          "output_type": "execute_result",
          "data": {
            "text/plain": [
              "'Viviane'"
            ],
            "application/vnd.google.colaboratory.intrinsic+json": {
              "type": "string"
            }
          },
          "metadata": {},
          "execution_count": 42
        }
      ],
      "source": [
        "# qual valor (Viviane) tem dentro dessa chave ['nome'] em dicionários (vivi_dicionario)\n",
        "vivi_dicionario['nome']"
      ]
    },
    {
      "cell_type": "code",
      "source": [
        "vivi_dicionario['idade']"
      ],
      "metadata": {
        "colab": {
          "base_uri": "https://localhost:8080/"
        },
        "id": "K_EMMS_ihdWC",
        "outputId": "600fd9b6-d278-4bb8-f4ae-c7d170edf8a1"
      },
      "execution_count": null,
      "outputs": [
        {
          "output_type": "execute_result",
          "data": {
            "text/plain": [
              "27"
            ]
          },
          "metadata": {},
          "execution_count": 43
        }
      ]
    },
    {
      "cell_type": "code",
      "source": [
        "vivi_dicionario['peso']"
      ],
      "metadata": {
        "colab": {
          "base_uri": "https://localhost:8080/"
        },
        "id": "5pyhQsHAhjw6",
        "outputId": "b7c85fe1-3b1a-4bda-cbc9-2b08ccd02f20"
      },
      "execution_count": null,
      "outputs": [
        {
          "output_type": "execute_result",
          "data": {
            "text/plain": [
              "54"
            ]
          },
          "metadata": {},
          "execution_count": 44
        }
      ]
    },
    {
      "cell_type": "code",
      "source": [
        "# Observe que não dá para procurar por índice, como fazemos com listas\n",
        "vivi_dicionario[0]"
      ],
      "metadata": {
        "colab": {
          "base_uri": "https://localhost:8080/",
          "height": 194
        },
        "id": "ZKQ07DGphmBU",
        "outputId": "bec12f71-9774-427b-b9d4-846ca37d8a99"
      },
      "execution_count": null,
      "outputs": [
        {
          "output_type": "error",
          "ename": "KeyError",
          "evalue": "0",
          "traceback": [
            "\u001b[0;31m---------------------------------------------------------------------------\u001b[0m",
            "\u001b[0;31mKeyError\u001b[0m                                  Traceback (most recent call last)",
            "\u001b[0;32m<ipython-input-45-50bfc3563a9c>\u001b[0m in \u001b[0;36m<cell line: 2>\u001b[0;34m()\u001b[0m\n\u001b[1;32m      1\u001b[0m \u001b[0;31m# Observe que não dá para procurar por índice, como fazemos com listas\u001b[0m\u001b[0;34m\u001b[0m\u001b[0;34m\u001b[0m\u001b[0m\n\u001b[0;32m----> 2\u001b[0;31m \u001b[0mvivi_dicionario\u001b[0m\u001b[0;34m[\u001b[0m\u001b[0;36m0\u001b[0m\u001b[0;34m]\u001b[0m\u001b[0;34m\u001b[0m\u001b[0;34m\u001b[0m\u001b[0m\n\u001b[0m",
            "\u001b[0;31mKeyError\u001b[0m: 0"
          ]
        }
      ]
    },
    {
      "cell_type": "markdown",
      "metadata": {
        "id": "ciXyAQW8fS-_"
      },
      "source": [
        "Podemos alterar um valor acessando da mesma maneira:"
      ]
    },
    {
      "cell_type": "code",
      "execution_count": null,
      "metadata": {
        "id": "zOg6A2-tfS-_",
        "outputId": "8b372d74-1c8d-41de-d29d-b6af297fe307",
        "colab": {
          "base_uri": "https://localhost:8080/"
        }
      },
      "outputs": [
        {
          "output_type": "stream",
          "name": "stdout",
          "text": [
            "{'nome': 'Viviane', 'idade': 28, 'peso': 54}\n"
          ]
        }
      ],
      "source": [
        "vivi_dicionario['idade'] = 28\n",
        "print(vivi_dicionario)"
      ]
    },
    {
      "cell_type": "markdown",
      "metadata": {
        "id": "c1YALdSufS-_"
      },
      "source": [
        "Podemos **adicionar** um nome elemento, apenas informando o novo _par de chaves e valor_:"
      ]
    },
    {
      "cell_type": "code",
      "execution_count": null,
      "metadata": {
        "id": "MViphDyWfS-_",
        "outputId": "bf56966f-2257-4268-82a8-215e2fdf3409",
        "colab": {
          "base_uri": "https://localhost:8080/"
        }
      },
      "outputs": [
        {
          "output_type": "stream",
          "name": "stdout",
          "text": [
            "{'nome': 'Viviane', 'idade': 28, 'peso': 54, 'eh linda': True}\n"
          ]
        }
      ],
      "source": [
        "vivi_dicionario['eh linda'] = True\n",
        "print(vivi_dicionario)"
      ]
    },
    {
      "cell_type": "markdown",
      "metadata": {
        "id": "M7WnIlzofS_A"
      },
      "source": [
        "Note que usamos **diversos tipos** de _valores_ no mesmo dicionário. Podemos também usar **mais um tipo de chaves**, apesar que, geralmente, isso não é muito usado."
      ]
    },
    {
      "cell_type": "code",
      "execution_count": null,
      "metadata": {
        "id": "5j8KcOykfS_A",
        "outputId": "6be7ea0f-3b23-450c-e67d-5dde5bc433f0",
        "colab": {
          "base_uri": "https://localhost:8080/"
        }
      },
      "outputs": [
        {
          "output_type": "stream",
          "name": "stdout",
          "text": [
            "{'nome': 'Viviane', 'idade': 28, 'peso': 54, 'eh linda': True, 0: 'zero'}\n"
          ]
        }
      ],
      "source": [
        "vivi_dicionario[0] = 'zero'\n",
        "print(vivi_dicionario)"
      ]
    },
    {
      "cell_type": "markdown",
      "metadata": {
        "id": "pS_l5uiRfS_A"
      },
      "source": [
        "Para copiar um dicionário:"
      ]
    },
    {
      "cell_type": "code",
      "execution_count": null,
      "metadata": {
        "id": "wvIUyPjlfS_A",
        "outputId": "307f137d-c29f-4d92-a246-c230633b8031",
        "colab": {
          "base_uri": "https://localhost:8080/"
        }
      },
      "outputs": [
        {
          "output_type": "stream",
          "name": "stdout",
          "text": [
            "{'nome': 'Viviane', 'idade': 28, 'peso': 54, 'eh linda': True}\n"
          ]
        }
      ],
      "source": [
        "# o dict() faz a cópia de quem está dento de seus parênteses\n",
        "copia_dicVivi = dict(vivi_dicionario)\n",
        "# vou usar o pop() na cópia, pois eu quero remover um item do dicionário. Para remover o item do dicionário, eu passo a chave dele\n",
        "# e passo um None para no caso de erro e tals, de n haver aquela chave. Passando o None e não existindo aquela chave,\n",
        "# não irá acontecer nada.\n",
        "copia_dicVivi.pop(0, None)\n",
        "print(copia_dicVivi)"
      ]
    },
    {
      "cell_type": "markdown",
      "metadata": {
        "id": "TH1Yq38gfS_A"
      },
      "source": [
        "#### Checando se um dicionário possui uma dada chave"
      ]
    },
    {
      "cell_type": "code",
      "execution_count": null,
      "metadata": {
        "id": "S3yS7i3RfS_A",
        "outputId": "4acc6c09-2ab2-48cf-bf89-859d32ef61dd",
        "colab": {
          "base_uri": "https://localhost:8080/"
        }
      },
      "outputs": [
        {
          "output_type": "execute_result",
          "data": {
            "text/plain": [
              "{'nome': 'Viviane', 'idade': 28, 'peso': 54, 'eh linda': True, 0: 'zero'}"
            ]
          },
          "metadata": {},
          "execution_count": 57
        }
      ],
      "source": [
        "vivi_dicionario"
      ]
    },
    {
      "cell_type": "code",
      "source": [
        "# chave in dicionario\n",
        "'nome' in vivi_dicionario"
      ],
      "metadata": {
        "id": "Y5OwN6A3LDI8",
        "outputId": "95f93e7f-e762-42b1-c7c9-bf1e320ae6a1",
        "colab": {
          "base_uri": "https://localhost:8080/"
        }
      },
      "execution_count": null,
      "outputs": [
        {
          "output_type": "execute_result",
          "data": {
            "text/plain": [
              "True"
            ]
          },
          "metadata": {},
          "execution_count": 58
        }
      ]
    },
    {
      "cell_type": "code",
      "source": [
        "'idade' in vivi_dicionario"
      ],
      "metadata": {
        "id": "FHslQv8OLPRb",
        "outputId": "ea387879-67d0-4691-dc77-7623f684d058",
        "colab": {
          "base_uri": "https://localhost:8080/"
        }
      },
      "execution_count": null,
      "outputs": [
        {
          "output_type": "execute_result",
          "data": {
            "text/plain": [
              "True"
            ]
          },
          "metadata": {},
          "execution_count": 59
        }
      ]
    },
    {
      "cell_type": "code",
      "source": [
        "'peso' in vivi_dicionario"
      ],
      "metadata": {
        "id": "fhGeoERQLTWN",
        "outputId": "8f77f43e-15f0-46d4-a95c-043bffa1e71f",
        "colab": {
          "base_uri": "https://localhost:8080/"
        }
      },
      "execution_count": null,
      "outputs": [
        {
          "output_type": "execute_result",
          "data": {
            "text/plain": [
              "True"
            ]
          },
          "metadata": {},
          "execution_count": 60
        }
      ]
    },
    {
      "cell_type": "code",
      "source": [
        "'eh linda' in vivi_dicionario"
      ],
      "metadata": {
        "id": "9dhjjLWeLWiK",
        "outputId": "15806293-2850-44d0-e028-f538b80099f7",
        "colab": {
          "base_uri": "https://localhost:8080/"
        }
      },
      "execution_count": null,
      "outputs": [
        {
          "output_type": "execute_result",
          "data": {
            "text/plain": [
              "True"
            ]
          },
          "metadata": {},
          "execution_count": 61
        }
      ]
    },
    {
      "cell_type": "code",
      "source": [
        "0 in vivi_dicionario"
      ],
      "metadata": {
        "id": "KvIe3uTqLaBL",
        "outputId": "17bfe440-ba57-429f-a24f-533fa9737f16",
        "colab": {
          "base_uri": "https://localhost:8080/"
        }
      },
      "execution_count": null,
      "outputs": [
        {
          "output_type": "execute_result",
          "data": {
            "text/plain": [
              "True"
            ]
          },
          "metadata": {},
          "execution_count": 62
        }
      ]
    },
    {
      "cell_type": "code",
      "source": [
        "0 in copia_dicVivi"
      ],
      "metadata": {
        "id": "sKJrEKIaLiEg",
        "outputId": "460baf5e-76e2-4420-e2c9-a53754818b85",
        "colab": {
          "base_uri": "https://localhost:8080/"
        }
      },
      "execution_count": null,
      "outputs": [
        {
          "output_type": "execute_result",
          "data": {
            "text/plain": [
              "False"
            ]
          },
          "metadata": {},
          "execution_count": 64
        }
      ]
    },
    {
      "cell_type": "code",
      "source": [
        "# chave not in dicionario\n",
        "'nome' not in vivi_dicionario"
      ],
      "metadata": {
        "id": "cv8Tw9jQLqMN",
        "outputId": "eace15c4-be77-4c52-af87-8a37f716d683",
        "colab": {
          "base_uri": "https://localhost:8080/"
        }
      },
      "execution_count": null,
      "outputs": [
        {
          "output_type": "execute_result",
          "data": {
            "text/plain": [
              "False"
            ]
          },
          "metadata": {},
          "execution_count": 66
        }
      ]
    },
    {
      "cell_type": "markdown",
      "metadata": {
        "id": "X-AUDtE-fS_A"
      },
      "source": [
        "#### For-each em Dicionários"
      ]
    },
    {
      "cell_type": "code",
      "execution_count": null,
      "metadata": {
        "id": "t61GKR29fS_A",
        "outputId": "b9d011c7-1662-43fb-d580-6aa8a96195ca",
        "colab": {
          "base_uri": "https://localhost:8080/"
        }
      },
      "outputs": [
        {
          "output_type": "stream",
          "name": "stdout",
          "text": [
            "vivi_dicionario['nome'] = Viviane\n",
            "vivi_dicionario['idade'] = 28\n",
            "vivi_dicionario['peso'] = 54\n",
            "vivi_dicionario['eh linda'] = True\n",
            "vivi_dicionario['0'] = zero\n"
          ]
        }
      ],
      "source": [
        "for chave in vivi_dicionario:\n",
        "  print(f'vivi_dicionario[\\'{chave}\\'] = {vivi_dicionario[chave]}')"
      ]
    },
    {
      "cell_type": "code",
      "execution_count": null,
      "metadata": {
        "id": "oorRbjaAfS_B",
        "outputId": "1ba8bb27-d389-442e-cb14-ba6bffbaa3a2",
        "colab": {
          "base_uri": "https://localhost:8080/"
        }
      },
      "outputs": [
        {
          "output_type": "stream",
          "name": "stdout",
          "text": [
            "dict_keys(['nome', 'idade', 'peso', 'eh linda', 0])\n"
          ]
        }
      ],
      "source": [
        "# pegar todas as chaves e fazer uma lista delas\n",
        "lista_de_chaves = vivi_dicionario.keys()\n",
        "# não fica tão bonita\n",
        "print(lista_de_chaves)"
      ]
    },
    {
      "cell_type": "code",
      "execution_count": null,
      "metadata": {
        "id": "9ABC2aFvfS_B",
        "outputId": "a4b05a7f-1263-4c28-d5ec-cf35f40032bd",
        "colab": {
          "base_uri": "https://localhost:8080/"
        }
      },
      "outputs": [
        {
          "output_type": "stream",
          "name": "stdout",
          "text": [
            "nome\n",
            "idade\n",
            "peso\n",
            "eh linda\n",
            "0\n"
          ]
        }
      ],
      "source": [
        "for chave in lista_de_chaves:\n",
        "  print(f'{chave}')"
      ]
    },
    {
      "cell_type": "code",
      "execution_count": null,
      "metadata": {
        "id": "1DvcoEoyfS_B",
        "outputId": "76254589-fec9-4afe-e51c-8dc3eaa4bb2a",
        "colab": {
          "base_uri": "https://localhost:8080/"
        }
      },
      "outputs": [
        {
          "output_type": "execute_result",
          "data": {
            "text/plain": [
              "dict_items([('nome', 'Viviane'), ('idade', 28), ('peso', 54), ('eh linda', True), (0, 'zero')])"
            ]
          },
          "metadata": {},
          "execution_count": 79
        }
      ],
      "source": [
        "# pegar todas as chaves e fazer uma lista de tupla delas\n",
        "lista_de_tuplas = vivi_dicionario.items()\n",
        "lista_de_tuplas"
      ]
    },
    {
      "cell_type": "code",
      "execution_count": null,
      "metadata": {
        "id": "k9hIOPsofS_B",
        "outputId": "fa369186-02a8-4e6f-d9aa-2d9f0790209e",
        "colab": {
          "base_uri": "https://localhost:8080/"
        }
      },
      "outputs": [
        {
          "output_type": "stream",
          "name": "stdout",
          "text": [
            "vivi_dicionario['nome'] = Viviane\n",
            "vivi_dicionario['idade'] = 28\n",
            "vivi_dicionario['peso'] = 54\n",
            "vivi_dicionario['eh linda'] = True\n",
            "vivi_dicionario['0'] = zero\n"
          ]
        }
      ],
      "source": [
        "for chave, item in lista_de_tuplas:\n",
        "  print(f'vivi_dicionario[\\'{chave}\\'] = {item}')"
      ]
    },
    {
      "cell_type": "markdown",
      "metadata": {
        "id": "ftVPP3IPfS_B"
      },
      "source": [
        "#### Dictionary Comprehensions"
      ]
    },
    {
      "cell_type": "code",
      "execution_count": 1,
      "metadata": {
        "id": "UQmCDf-4fS_B",
        "outputId": "bb871d00-00ba-47f8-c9cb-3e87d9b101c9",
        "colab": {
          "base_uri": "https://localhost:8080/"
        }
      },
      "outputs": [
        {
          "output_type": "stream",
          "name": "stdout",
          "text": [
            "['Alana', 'Bernardo', 'Caio', 'Diana', 'Eliana', 'Francisca']\n"
          ]
        }
      ],
      "source": [
        "# vou começar pegando uma lista de Strings\n",
        "\n",
        "lista_de_nomes = ['Alana', 'Bernardo', 'Caio', 'Diana', 'Eliana', 'Francisca']\n",
        "print(lista_de_nomes)"
      ]
    },
    {
      "cell_type": "code",
      "execution_count": 3,
      "metadata": {
        "id": "ce8bc03FfS_B",
        "outputId": "355727c0-8391-4d60-be9b-9ea1e1ca41c7",
        "colab": {
          "base_uri": "https://localhost:8080/"
        }
      },
      "outputs": [
        {
          "output_type": "execute_result",
          "data": {
            "text/plain": [
              "{'Alana': 'A',\n",
              " 'Bernardo': 'B',\n",
              " 'Caio': 'C',\n",
              " 'Diana': 'D',\n",
              " 'Eliana': 'E',\n",
              " 'Francisca': 'F'}"
            ]
          },
          "metadata": {},
          "execution_count": 3
        }
      ],
      "source": [
        "# como construir um dicionário Comprehensions de fato?\n",
        "# entre chaves, você irá colocar o for e antes dele, você bota o que será, entende? O quê e como deve ser printado\n",
        "# dicionario = {i: i[0]  for i in lista}\n",
        "dicio_iniciais_nomes = {nome: nome[0] for nome in lista_de_nomes}\n",
        "dicio_iniciais_nomes"
      ]
    }
  ],
  "metadata": {
    "kernelspec": {
      "display_name": "Python 3",
      "language": "python",
      "name": "python3"
    },
    "language_info": {
      "codemirror_mode": {
        "name": "ipython",
        "version": 3
      },
      "file_extension": ".py",
      "mimetype": "text/x-python",
      "name": "python",
      "nbconvert_exporter": "python",
      "pygments_lexer": "ipython3",
      "version": "3.9.0"
    },
    "colab": {
      "provenance": [],
      "include_colab_link": true
    }
  },
  "nbformat": 4,
  "nbformat_minor": 0
}