{
  "cells": [
    {
      "cell_type": "markdown",
      "metadata": {
        "id": "view-in-github",
        "colab_type": "text"
      },
      "source": [
        "<a href=\"https://colab.research.google.com/github/VivianeSouza923/PyRevive/blob/main/pratice_08_dicionarios.ipynb\" target=\"_parent\"><img src=\"https://colab.research.google.com/assets/colab-badge.svg\" alt=\"Open In Colab\"/></a>"
      ]
    },
    {
      "cell_type": "markdown",
      "metadata": {
        "id": "rf2CG60HfS-7"
      },
      "source": [
        "## **Python Essencial para Data Science**\n",
        "**Prof. Dr. Samuel Martins (@hisamuka @xavecoding)** <br/>\n",
        "xavecoding: https://youtube.com/c/xavecoding <br/><br/>\n",
        "\n",
        "<a rel=\"license\" href=\"http://creativecommons.org/licenses/by-nc-sa/4.0/\"><img alt=\"Creative Commons License\" style=\"border-width:0\" src=\"https://i.creativecommons.org/l/by-nc-sa/4.0/88x31.png\" /></a><br />This work is licensed under a <a rel=\"license\" href=\"http://creativecommons.org/licenses/by-nc-sa/4.0/\">Creative Commons Attribution-NonCommercial-ShareAlike 4.0 International License</a>."
      ]
    },
    {
      "cell_type": "markdown",
      "metadata": {
        "id": "F9h8V1nafS-9"
      },
      "source": [
        "## Dicionários (tabelas hash)\n",
        "Dicionários são tabelas hash: estruturas que mapeiams _chaves_ à _valores_. <br/>\n",
        "Muito utilizado quando queremos **acesso rápido** (_O(1)_) a elementos/valores associados a uma dada chave."
      ]
    },
    {
      "cell_type": "code",
      "execution_count": 3,
      "metadata": {
        "colab": {
          "base_uri": "https://localhost:8080/"
        },
        "id": "Svqx-U-bfS--",
        "outputId": "9f62b7d6-217e-4c63-e8b2-aeb966e3ef27"
      },
      "outputs": [
        {
          "output_type": "stream",
          "name": "stdout",
          "text": [
            "Viviane 27 54\n"
          ]
        }
      ],
      "source": [
        "# Alternativa 1: sem usar dicionários. Tudo solto, digamos assim:\n",
        "\n",
        "nome = 'Viviane'\n",
        "idade = 27\n",
        "peso =  54\n",
        "\n",
        "print(nome, idade, peso)"
      ]
    },
    {
      "cell_type": "code",
      "source": [
        "# alternativa 2: usando lista ou tupla\n",
        "\n",
        "vivi_tupla = ('Viviane', 27, 54)\n",
        "vivi_lista = list(vivi_tupla)\n",
        "vivi_lista"
      ],
      "metadata": {
        "colab": {
          "base_uri": "https://localhost:8080/"
        },
        "id": "WILOrc49f_QW",
        "outputId": "81d77a16-b3fb-4606-d5f6-67d8f5f20f64"
      },
      "execution_count": 4,
      "outputs": [
        {
          "output_type": "execute_result",
          "data": {
            "text/plain": [
              "['Viviane', 27, 54]"
            ]
          },
          "metadata": {},
          "execution_count": 4
        }
      ]
    },
    {
      "cell_type": "code",
      "source": [
        "vivi_lista[0]\n"
      ],
      "metadata": {
        "colab": {
          "base_uri": "https://localhost:8080/",
          "height": 36
        },
        "id": "T6O1ohF1gmoV",
        "outputId": "4e64e839-0bed-4ea0-ad00-d5b505a30836"
      },
      "execution_count": 7,
      "outputs": [
        {
          "output_type": "execute_result",
          "data": {
            "text/plain": [
              "'Viviane'"
            ],
            "application/vnd.google.colaboratory.intrinsic+json": {
              "type": "string"
            }
          },
          "metadata": {},
          "execution_count": 7
        }
      ]
    },
    {
      "cell_type": "code",
      "source": [
        "vivi_lista[1]\n"
      ],
      "metadata": {
        "colab": {
          "base_uri": "https://localhost:8080/"
        },
        "id": "V1JnENhWgtal",
        "outputId": "0425e577-e7bf-47cb-9729-8c253c0cc7bf"
      },
      "execution_count": 8,
      "outputs": [
        {
          "output_type": "execute_result",
          "data": {
            "text/plain": [
              "27"
            ]
          },
          "metadata": {},
          "execution_count": 8
        }
      ]
    },
    {
      "cell_type": "code",
      "source": [
        "vivi_lista[2]"
      ],
      "metadata": {
        "colab": {
          "base_uri": "https://localhost:8080/"
        },
        "id": "QkvLZnbagu_a",
        "outputId": "b89eb914-55fa-4fe9-d62e-47bc883d3cdd"
      },
      "execution_count": 9,
      "outputs": [
        {
          "output_type": "execute_result",
          "data": {
            "text/plain": [
              "54"
            ]
          },
          "metadata": {},
          "execution_count": 9
        }
      ]
    },
    {
      "cell_type": "code",
      "source": [
        "# Finalmente a alternativa 3, que é com dicionário: - O dicionário é composto por uma variável que armazena um par de chaves\n",
        "# e dentro delas contém a chave (nome da variável): e seu valor. se houver mais de 1 chave-valor, eles são separados por\n",
        "# vírgulas\n",
        "\n",
        "vivi_dicionario = {nome: 'Viviane', idade: 27, peso: 54}\n",
        "vivi_dicionario\n",
        "\n"
      ],
      "metadata": {
        "colab": {
          "base_uri": "https://localhost:8080/"
        },
        "id": "E4ExorTrgiZF",
        "outputId": "9e4f253e-8cac-4649-f80c-42223ffb952b"
      },
      "execution_count": 11,
      "outputs": [
        {
          "output_type": "execute_result",
          "data": {
            "text/plain": [
              "{'Viviane': 'Viviane', 27: 27, 54: 54}"
            ]
          },
          "metadata": {},
          "execution_count": 11
        }
      ]
    },
    {
      "cell_type": "markdown",
      "metadata": {
        "id": "evGfBgfLfS--"
      },
      "source": [
        "Neste caso, 'nome', 'idade' e 'peso' sãos as chaves com os respectivos valores 'Luke Skywalker', 16, 60.0."
      ]
    },
    {
      "cell_type": "markdown",
      "metadata": {
        "id": "bvp2vY1xfS-_"
      },
      "source": [
        "Um dado _valor_ é acessado passando a _chave_ via **colchetes**:"
      ]
    },
    {
      "cell_type": "code",
      "execution_count": 12,
      "metadata": {
        "colab": {
          "base_uri": "https://localhost:8080/",
          "height": 36
        },
        "id": "IfPegj2xfS-_",
        "outputId": "0190c2f0-8c40-4a23-a47f-51fe29563a56"
      },
      "outputs": [
        {
          "output_type": "execute_result",
          "data": {
            "text/plain": [
              "'Viviane'"
            ],
            "application/vnd.google.colaboratory.intrinsic+json": {
              "type": "string"
            }
          },
          "metadata": {},
          "execution_count": 12
        }
      ],
      "source": [
        "vivi_dicionario[nome]"
      ]
    },
    {
      "cell_type": "code",
      "source": [
        "vivi_dicionario[idade]"
      ],
      "metadata": {
        "colab": {
          "base_uri": "https://localhost:8080/"
        },
        "id": "K_EMMS_ihdWC",
        "outputId": "a254042a-58de-4d85-99a8-5259f161e28c"
      },
      "execution_count": 14,
      "outputs": [
        {
          "output_type": "execute_result",
          "data": {
            "text/plain": [
              "27"
            ]
          },
          "metadata": {},
          "execution_count": 14
        }
      ]
    },
    {
      "cell_type": "code",
      "source": [
        "vivi_dicionario[peso]"
      ],
      "metadata": {
        "colab": {
          "base_uri": "https://localhost:8080/"
        },
        "id": "5pyhQsHAhjw6",
        "outputId": "be198338-727a-47fb-8452-0c1c78ec326c"
      },
      "execution_count": 15,
      "outputs": [
        {
          "output_type": "execute_result",
          "data": {
            "text/plain": [
              "54"
            ]
          },
          "metadata": {},
          "execution_count": 15
        }
      ]
    },
    {
      "cell_type": "code",
      "source": [
        "# Observe que não dá para procurar por índice, como fazemos com listas\n",
        "vivi_dicionario[0]"
      ],
      "metadata": {
        "colab": {
          "base_uri": "https://localhost:8080/",
          "height": 180
        },
        "id": "ZKQ07DGphmBU",
        "outputId": "74decb33-0cce-451d-d8f2-bdf4fcdd2b77"
      },
      "execution_count": 16,
      "outputs": [
        {
          "output_type": "error",
          "ename": "KeyError",
          "evalue": "0",
          "traceback": [
            "\u001b[0;31m---------------------------------------------------------------------------\u001b[0m",
            "\u001b[0;31mKeyError\u001b[0m                                  Traceback (most recent call last)",
            "\u001b[0;32m<ipython-input-16-8098a18f1ff1>\u001b[0m in \u001b[0;36m<cell line: 1>\u001b[0;34m()\u001b[0m\n\u001b[0;32m----> 1\u001b[0;31m \u001b[0mvivi_dicionario\u001b[0m\u001b[0;34m[\u001b[0m\u001b[0;36m0\u001b[0m\u001b[0;34m]\u001b[0m\u001b[0;34m\u001b[0m\u001b[0;34m\u001b[0m\u001b[0m\n\u001b[0m",
            "\u001b[0;31mKeyError\u001b[0m: 0"
          ]
        }
      ]
    },
    {
      "cell_type": "markdown",
      "metadata": {
        "id": "ciXyAQW8fS-_"
      },
      "source": [
        "Podemos alterar um valor acessando da mesma maneira:"
      ]
    },
    {
      "cell_type": "code",
      "execution_count": null,
      "metadata": {
        "id": "zOg6A2-tfS-_"
      },
      "outputs": [],
      "source": []
    },
    {
      "cell_type": "markdown",
      "metadata": {
        "id": "c1YALdSufS-_"
      },
      "source": [
        "Podemos **adicionar** um nome elemento, apenas informando o novo _par de chaves e valor_:"
      ]
    },
    {
      "cell_type": "code",
      "execution_count": null,
      "metadata": {
        "id": "MViphDyWfS-_"
      },
      "outputs": [],
      "source": []
    },
    {
      "cell_type": "markdown",
      "metadata": {
        "id": "M7WnIlzofS_A"
      },
      "source": [
        "Note que usamos **diversos tipos** de _valores_ no mesmo dicionário. Podemos também usar **mais um tipo de chaves**, apesar que, geralmente, isso não é muito usado."
      ]
    },
    {
      "cell_type": "code",
      "execution_count": null,
      "metadata": {
        "id": "5j8KcOykfS_A"
      },
      "outputs": [],
      "source": []
    },
    {
      "cell_type": "markdown",
      "metadata": {
        "id": "pS_l5uiRfS_A"
      },
      "source": [
        "Para copiar um dicionário:"
      ]
    },
    {
      "cell_type": "code",
      "execution_count": null,
      "metadata": {
        "id": "wvIUyPjlfS_A"
      },
      "outputs": [],
      "source": []
    },
    {
      "cell_type": "markdown",
      "metadata": {
        "id": "TH1Yq38gfS_A"
      },
      "source": [
        "#### Checando se um dicionário possui uma dada chave"
      ]
    },
    {
      "cell_type": "code",
      "execution_count": null,
      "metadata": {
        "id": "S3yS7i3RfS_A"
      },
      "outputs": [],
      "source": []
    },
    {
      "cell_type": "markdown",
      "metadata": {
        "id": "X-AUDtE-fS_A"
      },
      "source": [
        "#### For-each em Dicionários"
      ]
    },
    {
      "cell_type": "code",
      "execution_count": null,
      "metadata": {
        "id": "t61GKR29fS_A"
      },
      "outputs": [],
      "source": []
    },
    {
      "cell_type": "code",
      "execution_count": null,
      "metadata": {
        "id": "oorRbjaAfS_B"
      },
      "outputs": [],
      "source": []
    },
    {
      "cell_type": "code",
      "execution_count": null,
      "metadata": {
        "id": "9ABC2aFvfS_B"
      },
      "outputs": [],
      "source": []
    },
    {
      "cell_type": "code",
      "execution_count": null,
      "metadata": {
        "id": "1DvcoEoyfS_B"
      },
      "outputs": [],
      "source": []
    },
    {
      "cell_type": "code",
      "execution_count": null,
      "metadata": {
        "id": "k9hIOPsofS_B"
      },
      "outputs": [],
      "source": []
    },
    {
      "cell_type": "code",
      "execution_count": null,
      "metadata": {
        "id": "jCpl_6AEfS_B"
      },
      "outputs": [],
      "source": []
    },
    {
      "cell_type": "code",
      "execution_count": null,
      "metadata": {
        "id": "K4Mp9SGGfS_B"
      },
      "outputs": [],
      "source": []
    },
    {
      "cell_type": "markdown",
      "metadata": {
        "id": "ftVPP3IPfS_B"
      },
      "source": [
        "#### Dictionary Comprehensions"
      ]
    },
    {
      "cell_type": "code",
      "execution_count": null,
      "metadata": {
        "id": "UQmCDf-4fS_B"
      },
      "outputs": [],
      "source": []
    },
    {
      "cell_type": "code",
      "execution_count": null,
      "metadata": {
        "id": "ce8bc03FfS_B"
      },
      "outputs": [],
      "source": []
    }
  ],
  "metadata": {
    "kernelspec": {
      "display_name": "Python 3",
      "language": "python",
      "name": "python3"
    },
    "language_info": {
      "codemirror_mode": {
        "name": "ipython",
        "version": 3
      },
      "file_extension": ".py",
      "mimetype": "text/x-python",
      "name": "python",
      "nbconvert_exporter": "python",
      "pygments_lexer": "ipython3",
      "version": "3.9.0"
    },
    "colab": {
      "provenance": [],
      "include_colab_link": true
    }
  },
  "nbformat": 4,
  "nbformat_minor": 0
}