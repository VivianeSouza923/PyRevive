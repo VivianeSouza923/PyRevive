{
  "cells": [
    {
      "cell_type": "markdown",
      "metadata": {
        "id": "view-in-github",
        "colab_type": "text"
      },
      "source": [
        "<a href=\"https://colab.research.google.com/github/VivianeSouza923/PyRevive/blob/main/pratice_02_funcoes.ipynb\" target=\"_parent\"><img src=\"https://colab.research.google.com/assets/colab-badge.svg\" alt=\"Open In Colab\"/></a>"
      ]
    },
    {
      "cell_type": "markdown",
      "metadata": {
        "id": "AcbSeZE1j7GQ"
      },
      "source": [
        "## **Python Essencial para Data Science**\n",
        "**Prof. Dr. Samuel Martins (@hisamuka @xavecoding)** <br/>\n",
        "xavecoding: https://youtube.com/c/xavecoding <br/><br/>\n",
        "\n",
        "<a rel=\"license\" href=\"http://creativecommons.org/licenses/by-nc-sa/4.0/\"><img alt=\"Creative Commons License\" style=\"border-width:0\" src=\"https://i.creativecommons.org/l/by-nc-sa/4.0/88x31.png\" /></a><br />This work is licensed under a <a rel=\"license\" href=\"http://creativecommons.org/licenses/by-nc-sa/4.0/\">Creative Commons Attribution-NonCommercial-ShareAlike 4.0 International License</a>."
      ]
    },
    {
      "cell_type": "markdown",
      "metadata": {
        "id": "INrHQfEYj7GR"
      },
      "source": [
        "## Funções\n",
        "\n",
        "### Esqueleto de uma função em python:\n",
        "<code>\n",
        "def functionName(param1, param2, param3=val):\n",
        "    instruction 01\n",
        "    instruction 02\n",
        "    return X\n",
        "<code>"
      ]
    },
    {
      "cell_type": "markdown",
      "metadata": {
        "id": "7cqs3TrDj7GR"
      },
      "source": [
        "### Funções podem NÃO ter retorno"
      ]
    },
    {
      "cell_type": "code",
      "execution_count": 3,
      "metadata": {
        "colab": {
          "base_uri": "https://localhost:8080/"
        },
        "id": "Y9FD5hoUj7GS",
        "outputId": "aee79f9a-6b82-4a1e-f828-83154a33b2d7"
      },
      "outputs": [
        {
          "output_type": "stream",
          "name": "stdout",
          "text": [
            "6\n",
            "909000\n"
          ]
        }
      ],
      "source": [
        "def multiplicacao(x, y):\n",
        "  print(x*y)\n",
        "\n",
        "\n",
        "a = 2\n",
        "b = 3\n",
        "\n",
        "multiplicacao(a, b)\n",
        "\n",
        "c = 200\n",
        "d = 4545\n",
        "\n",
        "multiplicacao(c, d)"
      ]
    },
    {
      "cell_type": "markdown",
      "metadata": {
        "id": "IUOTDW1Hj7GS"
      },
      "source": [
        "### Funções podem ter retorno"
      ]
    },
    {
      "cell_type": "code",
      "execution_count": 5,
      "metadata": {
        "colab": {
          "base_uri": "https://localhost:8080/"
        },
        "id": "z00sW4v4j7GS",
        "outputId": "7637c7d0-b03e-4186-9c39-4f2b6657aad6"
      },
      "outputs": [
        {
          "output_type": "execute_result",
          "data": {
            "text/plain": [
              "70.88934187536401"
            ]
          },
          "metadata": {},
          "execution_count": 5
        }
      ],
      "source": [
        "def divisao(x, y):\n",
        "  return y/x\n",
        "\n",
        "a = 2\n",
        "b = 3\n",
        "\n",
        "divisao(a, b)\n",
        "\n",
        "c = 3434\n",
        "d = 243434\n",
        "\n",
        "divisao(c, d)"
      ]
    },
    {
      "cell_type": "markdown",
      "metadata": {
        "id": "bYET5tCBj7GS"
      },
      "source": [
        "### Funções podem ter múltiplos retornos"
      ]
    },
    {
      "cell_type": "code",
      "execution_count": 7,
      "metadata": {
        "colab": {
          "base_uri": "https://localhost:8080/"
        },
        "id": "lCHx0reij7GS",
        "outputId": "0c476cd2-21a7-4f7b-fbd3-cceffecb0866"
      },
      "outputs": [
        {
          "output_type": "execute_result",
          "data": {
            "text/plain": [
              "(411993026705466, 218388.72424828477)"
            ]
          },
          "metadata": {},
          "execution_count": 7
        }
      ],
      "source": [
        "def div_with_mult(x, y):\n",
        "  return x*y, y/x\n",
        "\n",
        "a = 2\n",
        "b = 3\n",
        "\n",
        "div_with_mult(a, b)\n",
        "\n",
        "\n",
        "c = 43434\n",
        "d = 9485495849\n",
        "\n",
        "\n",
        "div_with_mult(c, d)"
      ]
    },
    {
      "cell_type": "markdown",
      "metadata": {
        "id": "AHxt09lzj7GS"
      },
      "source": [
        "### Escopo\n",
        "Todo **escopo** em Python (funções, loops, condicionais, classes, etc...) usam *dois pontos (:)* e *identação*:\n",
        "Os **dois pontos (:)** servem para _\"abrir\"_ o escopo, e _cada instrução_ dentro do escopo devem ser **identadas** à direita.\n",
        "\n",
        "Convenciona-se usar *espaços* ao invés de *tabs* para a **identação**. Todas as instruções do escopo **devem ter a mesma identação** (p. ex, a mesma quantidade de espaços)."
      ]
    },
    {
      "cell_type": "markdown",
      "metadata": {
        "id": "rZId5DVzj7GT"
      },
      "source": [
        "<code>\n",
        "def functionName(param1, param2, param3=val):\n",
        "    instruction 01  # 4 espaços de identação\n",
        "    instruction 02  # 4 espaços de identação\n",
        "    return X  # 4 espaços de identação\n",
        "</code>"
      ]
    },
    {
      "cell_type": "markdown",
      "metadata": {
        "id": "kLlBQiqGj7GT"
      },
      "source": [
        "### Funções com parâmetros default (opcionais)"
      ]
    },
    {
      "cell_type": "markdown",
      "metadata": {
        "id": "uFYfS2fPj7GT"
      },
      "source": [
        "Os parâmetros opcionais (ou seja, com valores _default_) devem sempre serem **os últimos parâmetros da função**."
      ]
    },
    {
      "cell_type": "code",
      "execution_count": 24,
      "metadata": {
        "colab": {
          "base_uri": "https://localhost:8080/"
        },
        "id": "YqpHIE26j7GT",
        "outputId": "cd7a0d90-c2b6-48f1-d474-113dc4cfb229"
      },
      "outputs": [
        {
          "output_type": "stream",
          "name": "stdout",
          "text": [
            "O Thorin eh lindo. Ele tem 6 aninhos e pesa 20.02kg\n",
            "O Alesi eh lindo. Ele tem 31 aninhos e pesa 57kg\n",
            "O Vivi eh lindo. Ele tem 27 aninhos e pesa 20kg\n"
          ]
        }
      ],
      "source": [
        "def thorinho(nome, idade, peso=20):\n",
        "  return print(f'O {nome} eh lindo. Ele tem {idade} aninhos e pesa {peso}kg')\n",
        "\n",
        "\n",
        "nome_1 = 'Thorin'\n",
        "idade_1 = 6\n",
        "peso_1 = 20.02\n",
        "\n",
        "thorinho(nome_1, idade_1, peso_1)\n",
        "\n",
        "\n",
        "nome_2 = 'Alesi'\n",
        "idade_2 = 31\n",
        "peso_2 = 57\n",
        "\n",
        "\n",
        "thorinho(nome_2, idade_2, peso_2)\n",
        "\n",
        "\n"
      ]
    },
    {
      "cell_type": "markdown",
      "metadata": {
        "id": "2jdy5hrCj7GT"
      },
      "source": [
        "<br/>\n",
        "Caso o parâmetro não seja chamado, seu valor default é usado."
      ]
    },
    {
      "cell_type": "code",
      "execution_count": 25,
      "metadata": {
        "colab": {
          "base_uri": "https://localhost:8080/"
        },
        "id": "OfLwQkp9j7GT",
        "outputId": "9b9baab3-e4b4-4185-bf99-4545c855284b"
      },
      "outputs": [
        {
          "output_type": "stream",
          "name": "stdout",
          "text": [
            "O Vivi eh lindo. Ele tem 27 aninhos e pesa 20kg\n"
          ]
        }
      ],
      "source": [
        "\n",
        "\n",
        "nome_3 = 'Vivi'\n",
        "idade_3 = 27\n",
        "\n",
        "\n",
        "thorinho(nome_3, idade_3)\n"
      ]
    },
    {
      "cell_type": "markdown",
      "metadata": {
        "id": "GDcTyp86j7GT"
      },
      "source": [
        "### Parâmetros Nomeados\n",
        "Ao chamar uma função, podemos passar seus parâmetros em qualquer ordem. Basta que informemos o nome do argumento/variável da função."
      ]
    },
    {
      "cell_type": "code",
      "execution_count": null,
      "metadata": {
        "id": "N33ZvCb0j7GT"
      },
      "outputs": [],
      "source": []
    },
    {
      "cell_type": "markdown",
      "metadata": {
        "id": "69tli8fKj7GT"
      },
      "source": [
        "### Function Annotations (PEP 3107)\n",
        "Há a possibilidade de indicar o tipo de parâmetros e retorno de funções em Python. <br/>\n",
        "Isso se chama _function annotation_.\n",
        "\n",
        "Os tipos definidos **apenas** servem como indicativo ao programador dos tipos de dados esperados. <br/>\n",
        "Algumas bibliotecas externas também podem interpretar tais \"metas anotações\" para algum propósito.\n",
        "\n",
        "Portanto, o interpretador python **NÃO** leva essas anotações de tipos em consideração durante sua execução."
      ]
    },
    {
      "cell_type": "code",
      "execution_count": null,
      "metadata": {
        "id": "tWbhqCoZj7GT"
      },
      "outputs": [],
      "source": []
    },
    {
      "cell_type": "markdown",
      "metadata": {
        "id": "v4DjkPgxj7GT"
      },
      "source": [
        "Parâmetros de outros tipos são aceitos e processados normalmente."
      ]
    },
    {
      "cell_type": "code",
      "execution_count": null,
      "metadata": {
        "id": "63kWdP1qj7GT"
      },
      "outputs": [],
      "source": []
    },
    {
      "cell_type": "markdown",
      "metadata": {
        "id": "gMJq-lwVj7GT"
      },
      "source": [
        "### Comentários e Docstring\n",
        "Em Python, comentários são definidos de duas maneiras:\n",
        "\n",
        "1. Utilizando # (comentário de uma linha só)"
      ]
    },
    {
      "cell_type": "code",
      "execution_count": null,
      "metadata": {
        "id": "6IZF27yRj7GT"
      },
      "outputs": [],
      "source": [
        "# este é um comentário de uma linha só"
      ]
    },
    {
      "cell_type": "markdown",
      "metadata": {
        "id": "luFd4us1j7GU"
      },
      "source": [
        "2. Usando _Docstrings_ (múltiplas linhas)"
      ]
    },
    {
      "cell_type": "code",
      "execution_count": null,
      "metadata": {
        "id": "aHgDs6Rvj7GU",
        "outputId": "b48e328d-31b5-4663-b9c4-4226e107550e"
      },
      "outputs": [
        {
          "data": {
            "text/plain": [
              "'Este é um comentário\\nde múltiplas\\nlinhas'"
            ]
          },
          "execution_count": 11,
          "metadata": {},
          "output_type": "execute_result"
        }
      ],
      "source": [
        "'''Este é um comentário\n",
        "de múltiplas\n",
        "linhas'''\n"
      ]
    },
    {
      "cell_type": "code",
      "execution_count": null,
      "metadata": {
        "id": "gb7jXtq5j7GU",
        "outputId": "68904272-6bb4-4658-e63a-7f21757ce3b1"
      },
      "outputs": [
        {
          "data": {
            "text/plain": [
              "'Este é outro comentário\\nde múltiplas\\nlinhas'"
            ]
          },
          "execution_count": 12,
          "metadata": {},
          "output_type": "execute_result"
        }
      ],
      "source": [
        "\"\"\"Este é outro comentário\n",
        "de múltiplas\n",
        "linhas\"\"\""
      ]
    },
    {
      "cell_type": "markdown",
      "metadata": {
        "id": "lhzrUAZ9j7GU"
      },
      "source": [
        "<br/>\n",
        "Docstrings podem ser usados para documentar funções:"
      ]
    },
    {
      "cell_type": "code",
      "execution_count": null,
      "metadata": {
        "id": "TmTUJvZMj7GU"
      },
      "outputs": [],
      "source": [
        "def soma(x, y):\n",
        "    '''Esta função soma dois números inteiros.\n",
        "\n",
        "    Parameters:\n",
        "    x (int): Primeiro número inteiro.\n",
        "    y (int): Segundo número inteiro.\n",
        "\n",
        "    Returns:\n",
        "    int: Soma resultante\n",
        "    '''\n",
        "    return x + y"
      ]
    },
    {
      "cell_type": "markdown",
      "metadata": {
        "id": "g0ThPXtbj7GU"
      },
      "source": [
        "<br/>\n",
        "Quando uma função (ou classe) está documentada usando _docstring_, é possível usar a função **help()** para ler a documentação:"
      ]
    },
    {
      "cell_type": "code",
      "execution_count": null,
      "metadata": {
        "id": "Xg7CU2Osj7GV"
      },
      "outputs": [],
      "source": []
    },
    {
      "cell_type": "code",
      "execution_count": null,
      "metadata": {
        "id": "LX5Fn6_uj7GV"
      },
      "outputs": [],
      "source": []
    }
  ],
  "metadata": {
    "kernelspec": {
      "display_name": "Python 3",
      "language": "python",
      "name": "python3"
    },
    "language_info": {
      "codemirror_mode": {
        "name": "ipython",
        "version": 3
      },
      "file_extension": ".py",
      "mimetype": "text/x-python",
      "name": "python",
      "nbconvert_exporter": "python",
      "pygments_lexer": "ipython3",
      "version": "3.9.0"
    },
    "colab": {
      "provenance": [],
      "include_colab_link": true
    }
  },
  "nbformat": 4,
  "nbformat_minor": 0
}