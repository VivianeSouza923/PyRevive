{
  "cells": [
    {
      "cell_type": "markdown",
      "metadata": {
        "id": "view-in-github",
        "colab_type": "text"
      },
      "source": [
        "<a href=\"https://colab.research.google.com/github/VivianeSouza923/PyRevive/blob/main/pratice_02_funcoes.ipynb\" target=\"_parent\"><img src=\"https://colab.research.google.com/assets/colab-badge.svg\" alt=\"Open In Colab\"/></a>"
      ]
    },
    {
      "cell_type": "markdown",
      "metadata": {
        "id": "AcbSeZE1j7GQ"
      },
      "source": [
        "## **Python Essencial para Data Science**\n",
        "**Prof. Dr. Samuel Martins (@hisamuka @xavecoding)** <br/>\n",
        "xavecoding: https://youtube.com/c/xavecoding <br/><br/>\n",
        "\n",
        "<a rel=\"license\" href=\"http://creativecommons.org/licenses/by-nc-sa/4.0/\"><img alt=\"Creative Commons License\" style=\"border-width:0\" src=\"https://i.creativecommons.org/l/by-nc-sa/4.0/88x31.png\" /></a><br />This work is licensed under a <a rel=\"license\" href=\"http://creativecommons.org/licenses/by-nc-sa/4.0/\">Creative Commons Attribution-NonCommercial-ShareAlike 4.0 International License</a>."
      ]
    },
    {
      "cell_type": "markdown",
      "metadata": {
        "id": "INrHQfEYj7GR"
      },
      "source": [
        "## Funções\n",
        "\n",
        "### Esqueleto de uma função em python:\n",
        "<code>\n",
        "def functionName(param1, param2, param3=val):\n",
        "    instruction 01\n",
        "    instruction 02\n",
        "    return X\n",
        "<code>"
      ]
    },
    {
      "cell_type": "markdown",
      "metadata": {
        "id": "7cqs3TrDj7GR"
      },
      "source": [
        "### Funções podem NÃO ter retorno"
      ]
    },
    {
      "cell_type": "code",
      "execution_count": 1,
      "metadata": {
        "colab": {
          "base_uri": "https://localhost:8080/"
        },
        "id": "Y9FD5hoUj7GS",
        "outputId": "f8452ddc-7931-4057-a30c-58d66fe46cdb"
      },
      "outputs": [
        {
          "output_type": "stream",
          "name": "stdout",
          "text": [
            "6\n",
            "909000\n"
          ]
        }
      ],
      "source": [
        "def multiplicacao(x, y):\n",
        "  print(x*y)\n",
        "\n",
        "\n",
        "a = 2\n",
        "b = 3\n",
        "\n",
        "multiplicacao(a, b)\n",
        "\n",
        "c = 200\n",
        "d = 4545\n",
        "\n",
        "multiplicacao(c, d)"
      ]
    },
    {
      "cell_type": "markdown",
      "metadata": {
        "id": "IUOTDW1Hj7GS"
      },
      "source": [
        "### Funções podem ter retorno"
      ]
    },
    {
      "cell_type": "code",
      "execution_count": 2,
      "metadata": {
        "colab": {
          "base_uri": "https://localhost:8080/"
        },
        "id": "z00sW4v4j7GS",
        "outputId": "f62d96cc-9e39-4cb0-d794-e1b1fb64fb28"
      },
      "outputs": [
        {
          "output_type": "execute_result",
          "data": {
            "text/plain": [
              "70.88934187536401"
            ]
          },
          "metadata": {},
          "execution_count": 2
        }
      ],
      "source": [
        "def divisao(x, y):\n",
        "  return y/x\n",
        "\n",
        "a = 2\n",
        "b = 3\n",
        "\n",
        "divisao(a, b)\n",
        "\n",
        "c = 3434\n",
        "d = 243434\n",
        "\n",
        "divisao(c, d)"
      ]
    },
    {
      "cell_type": "markdown",
      "metadata": {
        "id": "bYET5tCBj7GS"
      },
      "source": [
        "### Funções podem ter múltiplos retornos"
      ]
    },
    {
      "cell_type": "code",
      "execution_count": 3,
      "metadata": {
        "colab": {
          "base_uri": "https://localhost:8080/"
        },
        "id": "lCHx0reij7GS",
        "outputId": "06b16f55-43ea-4720-ca8d-3c1b236a11e9"
      },
      "outputs": [
        {
          "output_type": "execute_result",
          "data": {
            "text/plain": [
              "(411993026705466, 218388.72424828477)"
            ]
          },
          "metadata": {},
          "execution_count": 3
        }
      ],
      "source": [
        "def div_with_mult(x, y):\n",
        "  return x*y, y/x\n",
        "\n",
        "a = 2\n",
        "b = 3\n",
        "\n",
        "div_with_mult(a, b)\n",
        "\n",
        "\n",
        "c = 43434\n",
        "d = 9485495849\n",
        "\n",
        "\n",
        "div_with_mult(c, d)"
      ]
    },
    {
      "cell_type": "markdown",
      "metadata": {
        "id": "AHxt09lzj7GS"
      },
      "source": [
        "### Escopo\n",
        "Todo **escopo** em Python (funções, loops, condicionais, classes, etc...) usam *dois pontos (:)* e *identação*:\n",
        "Os **dois pontos (:)** servem para _\"abrir\"_ o escopo, e _cada instrução_ dentro do escopo devem ser **identadas** à direita.\n",
        "\n",
        "Convenciona-se usar *espaços* ao invés de *tabs* para a **identação**. Todas as instruções do escopo **devem ter a mesma identação** (p. ex, a mesma quantidade de espaços)."
      ]
    },
    {
      "cell_type": "markdown",
      "metadata": {
        "id": "rZId5DVzj7GT"
      },
      "source": [
        "<code>\n",
        "def functionName(param1, param2, param3=val):\n",
        "    instruction 01  # 4 espaços de identação\n",
        "    instruction 02  # 4 espaços de identação\n",
        "    return X  # 4 espaços de identação\n",
        "</code>"
      ]
    },
    {
      "cell_type": "markdown",
      "metadata": {
        "id": "kLlBQiqGj7GT"
      },
      "source": [
        "### Funções com parâmetros default (opcionais)"
      ]
    },
    {
      "cell_type": "markdown",
      "metadata": {
        "id": "uFYfS2fPj7GT"
      },
      "source": [
        "Os parâmetros opcionais (ou seja, com valores _default_) devem sempre serem **os últimos parâmetros da função**."
      ]
    },
    {
      "cell_type": "code",
      "execution_count": 4,
      "metadata": {
        "colab": {
          "base_uri": "https://localhost:8080/"
        },
        "id": "YqpHIE26j7GT",
        "outputId": "dfffc5b8-5975-4eb4-c951-f1e68709fd74"
      },
      "outputs": [
        {
          "output_type": "stream",
          "name": "stdout",
          "text": [
            "O Thorin eh lindo. Ele tem 6 aninhos e pesa 20.02kg\n",
            "O Alesi eh lindo. Ele tem 31 aninhos e pesa 57kg\n"
          ]
        }
      ],
      "source": [
        "def thorinho(nome, idade, peso=20):\n",
        "  return print(f'O {nome} eh lindo. Ele tem {idade} aninhos e pesa {peso}kg')\n",
        "\n",
        "\n",
        "nome_1 = 'Thorin'\n",
        "idade_1 = 6\n",
        "peso_1 = 20.02\n",
        "\n",
        "thorinho(nome_1, idade_1, peso_1)\n",
        "\n",
        "\n",
        "nome_2 = 'Alesi'\n",
        "idade_2 = 31\n",
        "peso_2 = 57\n",
        "\n",
        "\n",
        "thorinho(nome_2, idade_2, peso_2)\n",
        "\n",
        "\n"
      ]
    },
    {
      "cell_type": "markdown",
      "metadata": {
        "id": "2jdy5hrCj7GT"
      },
      "source": [
        "<br/>\n",
        "Caso o parâmetro não seja chamado, seu valor default é usado."
      ]
    },
    {
      "cell_type": "code",
      "execution_count": 5,
      "metadata": {
        "colab": {
          "base_uri": "https://localhost:8080/"
        },
        "id": "OfLwQkp9j7GT",
        "outputId": "46201f7d-5acb-45af-e36d-dcda714a7885"
      },
      "outputs": [
        {
          "output_type": "stream",
          "name": "stdout",
          "text": [
            "O Vivi eh lindo. Ele tem 27 aninhos e pesa 20kg\n"
          ]
        }
      ],
      "source": [
        "\n",
        "\n",
        "nome_3 = 'Vivi'\n",
        "idade_3 = 27\n",
        "\n",
        "\n",
        "thorinho(nome_3, idade_3)\n"
      ]
    },
    {
      "cell_type": "markdown",
      "metadata": {
        "id": "GDcTyp86j7GT"
      },
      "source": [
        "### Parâmetros Nomeados\n",
        "Ao chamar uma função, podemos passar seus parâmetros em qualquer ordem. Basta que informemos o nome do argumento/variável da função."
      ]
    },
    {
      "cell_type": "code",
      "execution_count": 7,
      "metadata": {
        "id": "N33ZvCb0j7GT",
        "colab": {
          "base_uri": "https://localhost:8080/"
        },
        "outputId": "1ea91f2d-8429-4caa-9e41-0118dabbb719"
      },
      "outputs": [
        {
          "output_type": "stream",
          "name": "stdout",
          "text": [
            "O Thorin eh lindo. Ele tem 6 aninhos e pesa 20kg\n"
          ]
        }
      ],
      "source": [
        "thorinho(peso=20, idade=6, nome='Thorin')"
      ]
    },
    {
      "cell_type": "markdown",
      "metadata": {
        "id": "69tli8fKj7GT"
      },
      "source": [
        "### Function Annotations (PEP 3107)\n",
        "Há a possibilidade de indicar o tipo de parâmetros e retorno de funções em Python. <br/>\n",
        "Isso se chama _function annotation_.\n",
        "\n",
        "Os tipos definidos **apenas** servem como indicativo ao programador dos tipos de dados esperados. <br/>\n",
        "Algumas bibliotecas externas também podem interpretar tais \"metas anotações\" para algum propósito.\n",
        "\n",
        "Portanto, o interpretador python **NÃO** leva essas anotações de tipos em consideração durante sua execução."
      ]
    },
    {
      "cell_type": "code",
      "execution_count": 10,
      "metadata": {
        "id": "tWbhqCoZj7GT",
        "colab": {
          "base_uri": "https://localhost:8080/"
        },
        "outputId": "aab30f2a-26ee-4b04-8a23-ea9a98b8f525"
      },
      "outputs": [
        {
          "output_type": "execute_result",
          "data": {
            "text/plain": [
              "7"
            ]
          },
          "metadata": {},
          "execution_count": 10
        }
      ],
      "source": [
        "def sub_de_int(x: int, y: int) -> int:\n",
        "  return x - y\n",
        "\n",
        "\n",
        "\n",
        "a = 30\n",
        "b = 23\n",
        "\n",
        "\n",
        "sub_de_int(a, b)"
      ]
    },
    {
      "cell_type": "markdown",
      "metadata": {
        "id": "v4DjkPgxj7GT"
      },
      "source": [
        "Parâmetros de outros tipos são aceitos e processados normalmente."
      ]
    },
    {
      "cell_type": "code",
      "execution_count": 11,
      "metadata": {
        "id": "63kWdP1qj7GT",
        "colab": {
          "base_uri": "https://localhost:8080/"
        },
        "outputId": "dd527382-14e8-4000-9b4f-70249e64e9cd"
      },
      "outputs": [
        {
          "output_type": "execute_result",
          "data": {
            "text/plain": [
              "8.399999999999999"
            ]
          },
          "metadata": {},
          "execution_count": 11
        }
      ],
      "source": [
        "c = 20.4\n",
        "d = 12\n",
        "\n",
        "sub_de_int(c, d)"
      ]
    },
    {
      "cell_type": "markdown",
      "metadata": {
        "id": "gMJq-lwVj7GT"
      },
      "source": [
        "### Comentários e Docstring\n",
        "Em Python, comentários são definidos de duas maneiras:\n",
        "\n",
        "1. Utilizando # (comentário de uma linha só)"
      ]
    },
    {
      "cell_type": "code",
      "execution_count": 12,
      "metadata": {
        "id": "6IZF27yRj7GT"
      },
      "outputs": [],
      "source": [
        "# este é um comentário de uma linha só"
      ]
    },
    {
      "cell_type": "markdown",
      "metadata": {
        "id": "luFd4us1j7GU"
      },
      "source": [
        "2. Usando _Docstrings_ (múltiplas linhas)"
      ]
    },
    {
      "cell_type": "code",
      "execution_count": 13,
      "metadata": {
        "id": "aHgDs6Rvj7GU",
        "outputId": "37c2ce30-d272-410d-f691-c23a77570667",
        "colab": {
          "base_uri": "https://localhost:8080/",
          "height": 35
        }
      },
      "outputs": [
        {
          "output_type": "execute_result",
          "data": {
            "text/plain": [
              "'Este é um comentário\\nde múltiplas\\nlinhas'"
            ],
            "application/vnd.google.colaboratory.intrinsic+json": {
              "type": "string"
            }
          },
          "metadata": {},
          "execution_count": 13
        }
      ],
      "source": [
        "'''Este é um comentário\n",
        "de múltiplas\n",
        "linhas'''\n"
      ]
    },
    {
      "cell_type": "code",
      "execution_count": null,
      "metadata": {
        "id": "gb7jXtq5j7GU",
        "outputId": "68904272-6bb4-4658-e63a-7f21757ce3b1"
      },
      "outputs": [
        {
          "data": {
            "text/plain": [
              "'Este é outro comentário\\nde múltiplas\\nlinhas'"
            ]
          },
          "execution_count": 12,
          "metadata": {},
          "output_type": "execute_result"
        }
      ],
      "source": [
        "\"\"\"Este é outro comentário\n",
        "de múltiplas\n",
        "linhas\"\"\""
      ]
    },
    {
      "cell_type": "markdown",
      "metadata": {
        "id": "lhzrUAZ9j7GU"
      },
      "source": [
        "<br/>\n",
        "Docstrings podem ser usados para documentar funções:"
      ]
    },
    {
      "cell_type": "code",
      "execution_count": 14,
      "metadata": {
        "id": "TmTUJvZMj7GU"
      },
      "outputs": [],
      "source": [
        "def soma(x, y):\n",
        "    '''Esta função soma dois números inteiros.\n",
        "\n",
        "    Parameters:\n",
        "    x (int): Primeiro número inteiro.\n",
        "    y (int): Segundo número inteiro.\n",
        "\n",
        "    Returns:\n",
        "    int: Soma resultante\n",
        "    '''\n",
        "    return x + y"
      ]
    },
    {
      "cell_type": "markdown",
      "metadata": {
        "id": "g0ThPXtbj7GU"
      },
      "source": [
        "<br/>\n",
        "Quando uma função (ou classe) está documentada usando _docstring_, é possível usar a função **help()** para ler a documentação:"
      ]
    },
    {
      "cell_type": "code",
      "execution_count": 15,
      "metadata": {
        "id": "Xg7CU2Osj7GV",
        "colab": {
          "base_uri": "https://localhost:8080/"
        },
        "outputId": "27e46a33-7ec5-4954-c6e2-b84521ca0795"
      },
      "outputs": [
        {
          "output_type": "stream",
          "name": "stdout",
          "text": [
            "Help on function soma in module __main__:\n",
            "\n",
            "soma(x, y)\n",
            "    Esta função soma dois números inteiros.\n",
            "    \n",
            "    Parameters:\n",
            "    x (int): Primeiro número inteiro.\n",
            "    y (int): Segundo número inteiro.\n",
            "    \n",
            "    Returns:\n",
            "    int: Soma resultante\n",
            "\n"
          ]
        }
      ],
      "source": [
        "help(soma)"
      ]
    },
    {
      "cell_type": "code",
      "execution_count": 16,
      "metadata": {
        "id": "LX5Fn6_uj7GV",
        "colab": {
          "base_uri": "https://localhost:8080/"
        },
        "outputId": "2d5239e0-fc5b-49e0-f838-ec3f2b705b2f"
      },
      "outputs": [
        {
          "output_type": "stream",
          "name": "stdout",
          "text": [
            "Help on class type in module builtins:\n",
            "\n",
            "class type(object)\n",
            " |  type(object) -> the object's type\n",
            " |  type(name, bases, dict, **kwds) -> a new type\n",
            " |  \n",
            " |  Methods defined here:\n",
            " |  \n",
            " |  __call__(self, /, *args, **kwargs)\n",
            " |      Call self as a function.\n",
            " |  \n",
            " |  __delattr__(self, name, /)\n",
            " |      Implement delattr(self, name).\n",
            " |  \n",
            " |  __dir__(self, /)\n",
            " |      Specialized __dir__ implementation for types.\n",
            " |  \n",
            " |  __getattribute__(self, name, /)\n",
            " |      Return getattr(self, name).\n",
            " |  \n",
            " |  __init__(self, /, *args, **kwargs)\n",
            " |      Initialize self.  See help(type(self)) for accurate signature.\n",
            " |  \n",
            " |  __instancecheck__(self, instance, /)\n",
            " |      Check if an object is an instance.\n",
            " |  \n",
            " |  __or__(self, value, /)\n",
            " |      Return self|value.\n",
            " |  \n",
            " |  __repr__(self, /)\n",
            " |      Return repr(self).\n",
            " |  \n",
            " |  __ror__(self, value, /)\n",
            " |      Return value|self.\n",
            " |  \n",
            " |  __setattr__(self, name, value, /)\n",
            " |      Implement setattr(self, name, value).\n",
            " |  \n",
            " |  __sizeof__(self, /)\n",
            " |      Return memory consumption of the type object.\n",
            " |  \n",
            " |  __subclasscheck__(self, subclass, /)\n",
            " |      Check if a class is a subclass.\n",
            " |  \n",
            " |  __subclasses__(self, /)\n",
            " |      Return a list of immediate subclasses.\n",
            " |  \n",
            " |  mro(self, /)\n",
            " |      Return a type's method resolution order.\n",
            " |  \n",
            " |  ----------------------------------------------------------------------\n",
            " |  Class methods defined here:\n",
            " |  \n",
            " |  __prepare__(...)\n",
            " |      __prepare__() -> dict\n",
            " |      used to create the namespace for the class statement\n",
            " |  \n",
            " |  ----------------------------------------------------------------------\n",
            " |  Static methods defined here:\n",
            " |  \n",
            " |  __new__(*args, **kwargs)\n",
            " |      Create and return a new object.  See help(type) for accurate signature.\n",
            " |  \n",
            " |  ----------------------------------------------------------------------\n",
            " |  Data descriptors defined here:\n",
            " |  \n",
            " |  __abstractmethods__\n",
            " |  \n",
            " |  __annotations__\n",
            " |  \n",
            " |  __dict__\n",
            " |  \n",
            " |  __text_signature__\n",
            " |  \n",
            " |  ----------------------------------------------------------------------\n",
            " |  Data and other attributes defined here:\n",
            " |  \n",
            " |  __base__ = <class 'object'>\n",
            " |      The base class of the class hierarchy.\n",
            " |      \n",
            " |      When called, it accepts no arguments and returns a new featureless\n",
            " |      instance that has no instance attributes and cannot be given any.\n",
            " |  \n",
            " |  \n",
            " |  __bases__ = (<class 'object'>,)\n",
            " |  \n",
            " |  __basicsize__ = 888\n",
            " |  \n",
            " |  __dictoffset__ = 264\n",
            " |  \n",
            " |  __flags__ = 2148031744\n",
            " |  \n",
            " |  __itemsize__ = 40\n",
            " |  \n",
            " |  __mro__ = (<class 'type'>, <class 'object'>)\n",
            " |  \n",
            " |  __weakrefoffset__ = 368\n",
            "\n"
          ]
        }
      ],
      "source": [
        "help(type)"
      ]
    },
    {
      "cell_type": "code",
      "source": [
        "help(print)"
      ],
      "metadata": {
        "colab": {
          "base_uri": "https://localhost:8080/"
        },
        "id": "DaNIGWFxp9h6",
        "outputId": "d4402727-78f9-4db5-fc3d-fd60e4cbf8d2"
      },
      "execution_count": 17,
      "outputs": [
        {
          "output_type": "stream",
          "name": "stdout",
          "text": [
            "Help on built-in function print in module builtins:\n",
            "\n",
            "print(...)\n",
            "    print(value, ..., sep=' ', end='\\n', file=sys.stdout, flush=False)\n",
            "    \n",
            "    Prints the values to a stream, or to sys.stdout by default.\n",
            "    Optional keyword arguments:\n",
            "    file:  a file-like object (stream); defaults to the current sys.stdout.\n",
            "    sep:   string inserted between values, default a space.\n",
            "    end:   string appended after the last value, default a newline.\n",
            "    flush: whether to forcibly flush the stream.\n",
            "\n"
          ]
        }
      ]
    }
  ],
  "metadata": {
    "kernelspec": {
      "display_name": "Python 3",
      "language": "python",
      "name": "python3"
    },
    "language_info": {
      "codemirror_mode": {
        "name": "ipython",
        "version": 3
      },
      "file_extension": ".py",
      "mimetype": "text/x-python",
      "name": "python",
      "nbconvert_exporter": "python",
      "pygments_lexer": "ipython3",
      "version": "3.9.0"
    },
    "colab": {
      "provenance": [],
      "include_colab_link": true
    }
  },
  "nbformat": 4,
  "nbformat_minor": 0
}