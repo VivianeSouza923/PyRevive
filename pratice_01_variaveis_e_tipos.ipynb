{
  "cells": [
    {
      "cell_type": "markdown",
      "metadata": {
        "id": "view-in-github",
        "colab_type": "text"
      },
      "source": [
        "<a href=\"https://colab.research.google.com/github/VivianeSouza923/PyRevive/blob/main/pratice_01_variaveis_e_tipos.ipynb\" target=\"_parent\"><img src=\"https://colab.research.google.com/assets/colab-badge.svg\" alt=\"Open In Colab\"/></a>"
      ]
    },
    {
      "cell_type": "markdown",
      "metadata": {
        "id": "LqKZ114LM5Mp"
      },
      "source": [
        "## **Python Essencial para Data Science**\n",
        "**Prof. Dr. Samuel Martins (@hisamuka @xavecoding)** <br/>\n",
        "xavecoding: https://youtube.com/c/xavecoding <br/>\n",
        "\n",
        "Neste tutorial, vamos aprender os conceitos básicos para desenvolvermos nossos primeiros programas em Python! <br/>\n",
        "Boa parte dos exemplos deste tutorial é inspirado no [curso de Python do Kaggle](https://www.kaggle.com/learn/python). <br/><br/>\n",
        "\n",
        "<a rel=\"license\" href=\"http://creativecommons.org/licenses/by-nc-sa/4.0/\"><img alt=\"Creative Commons License\" style=\"border-width:0\" src=\"https://i.creativecommons.org/l/by-nc-sa/4.0/88x31.png\" /></a><br />This work is licensed under a <a rel=\"license\" href=\"http://creativecommons.org/licenses/by-nc-sa/4.0/\">Creative Commons Attribution-NonCommercial-ShareAlike 4.0 International License</a>."
      ]
    },
    {
      "cell_type": "code",
      "execution_count": 1,
      "metadata": {
        "colab": {
          "base_uri": "https://localhost:8080/",
          "height": 17
        },
        "id": "parXyOODM5Mq",
        "outputId": "90e30d52-ceb6-4dd0-a496-5ee2d4150712"
      },
      "outputs": [
        {
          "output_type": "display_data",
          "data": {
            "text/plain": [
              "<IPython.core.display.HTML object>"
            ],
            "text/html": [
              "<style>\n",
              "table {float:left}\n",
              "</style>\n"
            ]
          },
          "metadata": {}
        }
      ],
      "source": [
        "%%html\n",
        "<style>\n",
        "table {float:left}\n",
        "</style>"
      ]
    },
    {
      "cell_type": "markdown",
      "metadata": {
        "id": "XdXwYO1jM5Mr"
      },
      "source": [
        "## Variáveis\n",
        "\n",
        "### Tipos\n",
        "Python tem diferentes tipos de dados, mas no fundo, *tudo é um objeto*. <br/>\n",
        "Variáveis podem ser definidas em qualquer lugar.\n",
        "\n",
        "Veja alguns tipos:\n",
        "\n",
        "| Tipo    | Exemplo           |\n",
        "|---------|-------------------|\n",
        "| Integer | 1 10 -4           |\n",
        "| Float   | 1.0 -0.223 3.1415 |\n",
        "| String  | \"Hello world\"     |"
      ]
    },
    {
      "cell_type": "markdown",
      "metadata": {
        "id": "ZfbaMieKM5Mr"
      },
      "source": [
        "## Instanciando variáveis"
      ]
    },
    {
      "cell_type": "code",
      "execution_count": 2,
      "metadata": {
        "id": "84APv1veM5Ms"
      },
      "outputs": [],
      "source": [
        "# instaciando variáveis, é criar variáveis:\n",
        "\n",
        "nome = 'Thorin'\n",
        "idade = 6\n",
        "peso = 20\n"
      ]
    },
    {
      "cell_type": "markdown",
      "metadata": {
        "id": "gPVrde38M5Ms"
      },
      "source": [
        "### Type()\n",
        "Use a função <code>type()</code> para descobrir o tipo de uma variável."
      ]
    },
    {
      "cell_type": "code",
      "execution_count": 4,
      "metadata": {
        "colab": {
          "base_uri": "https://localhost:8080/"
        },
        "id": "GeyX0xwIM5Ms",
        "outputId": "d1cc39e0-af21-4879-ec5f-a36c6ad7806f"
      },
      "outputs": [
        {
          "output_type": "execute_result",
          "data": {
            "text/plain": [
              "int"
            ]
          },
          "metadata": {},
          "execution_count": 4
        }
      ],
      "source": [
        "type(idade)"
      ]
    },
    {
      "cell_type": "markdown",
      "metadata": {
        "id": "U2YmtvwiM5Ms"
      },
      "source": [
        "### Dir()\n",
        "Use a função <code>dir()</code> para descobrir **todos os métodos** associados a um objeto:"
      ]
    },
    {
      "cell_type": "code",
      "execution_count": null,
      "metadata": {
        "id": "0Of-6jfoM5Ms"
      },
      "outputs": [],
      "source": []
    },
    {
      "cell_type": "markdown",
      "metadata": {
        "id": "0qFDp2FjM5Ms"
      },
      "source": [
        "### Usando métodos\n",
        "Métodos podem ser acessados usando: <code>objeto.metodo</code>"
      ]
    },
    {
      "cell_type": "code",
      "execution_count": null,
      "metadata": {
        "id": "zcPINLXNM5Ms"
      },
      "outputs": [],
      "source": []
    },
    {
      "cell_type": "markdown",
      "metadata": {
        "id": "m8y7q8XoM5Ms"
      },
      "source": [
        "### Atribuição Múltipla"
      ]
    },
    {
      "cell_type": "code",
      "execution_count": null,
      "metadata": {
        "id": "8mDv5wrnM5Ms"
      },
      "outputs": [],
      "source": []
    },
    {
      "cell_type": "markdown",
      "metadata": {
        "id": "siW_kiv1M5Ms"
      },
      "source": [
        "### Python é uma linguagem *case-sensitive*"
      ]
    },
    {
      "cell_type": "code",
      "execution_count": null,
      "metadata": {
        "id": "wRhLb9exM5Ms"
      },
      "outputs": [],
      "source": []
    },
    {
      "cell_type": "markdown",
      "metadata": {
        "id": "OjO6QHrtM5Ms"
      },
      "source": [
        "### Dinamicamente e Fortemente tipada\n",
        "\n",
        "**Dinamicamente:** o tipo é definido no momento da atribuição\n",
        "**Fortemente:** o interpretador não muda o tipo de uma variável inesperadamente"
      ]
    },
    {
      "cell_type": "code",
      "execution_count": null,
      "metadata": {
        "id": "jxY5jU-xM5Ms"
      },
      "outputs": [],
      "source": []
    },
    {
      "cell_type": "markdown",
      "metadata": {
        "id": "lgMAzbtGM5Mt"
      },
      "source": [
        "### Conversão de Tipos (*Casting*)"
      ]
    },
    {
      "cell_type": "code",
      "execution_count": null,
      "metadata": {
        "id": "XK5cnk_1M5Mt"
      },
      "outputs": [],
      "source": []
    },
    {
      "cell_type": "markdown",
      "metadata": {
        "id": "GdvpjDqVM5Mt"
      },
      "source": [
        "### Operadores Aritméticos\n",
        "\n",
        "| Operador     | Nome                 | Descrição                                                                            |\n",
        "|--------------|----------------------|--------------------------------------------------------------------------------------|\n",
        "| ``a + b``    | Adição               | Soma de ``a`` e ``b``                                                                |\n",
        "| ``a - b``    | Subtração            | Diferença de ``a`` e ``b``                                                           |\n",
        "| ``a * b``    | Multiplicação        | Produto de ``a`` e ``b``                                                             |\n",
        "| ``a / b``    | Divisão 'verdadeira' | Quociente de ``a`` e ``b``                                                           |\n",
        "| ``a // b``   | Piso da Divisão      | Quociente de ``a`` e ``b``, removendo partes fracionadas (arredondamento para baixo) |\n",
        "| ``a % b``    | Módulo               | Resto da divisão de a ``a`` por ``b``                                                |\n",
        "| ``a ** b``   | Exponenciação        | ``a`` elevado a ``b``                                                                |\n",
        "| ``-a``       | Negação              | Negativo de ``a``                                                                    |"
      ]
    },
    {
      "cell_type": "code",
      "execution_count": null,
      "metadata": {
        "id": "9O5gLtu4M5Mt"
      },
      "outputs": [],
      "source": []
    },
    {
      "cell_type": "code",
      "execution_count": null,
      "metadata": {
        "id": "U-mWHTn0M5Mt"
      },
      "outputs": [],
      "source": []
    },
    {
      "cell_type": "markdown",
      "metadata": {
        "id": "mrguNH1gM5Mt"
      },
      "source": [
        "### A função print()\n",
        "A função _print()_ imprime uma string na tela/console. <br/>\n",
        "Uma string pode ser definida com **aspas simples ''** ou **aspas duplas \"\"**.\n",
        "\n",
        "Por convenção, a comunidade usa **aspas simples ''**"
      ]
    },
    {
      "cell_type": "code",
      "execution_count": null,
      "metadata": {
        "id": "ZILtr0AdM5Mt"
      },
      "outputs": [],
      "source": []
    },
    {
      "cell_type": "markdown",
      "metadata": {
        "id": "-e6PviuHM5Mt"
      },
      "source": [
        "<br/>Para imprimir valores de _variáveis_ junto com uma _string/texto_, utilize a letra **_f_** antes das primeiras aspas, e coloque a variável entre **_{}_** (Python 3.6+):"
      ]
    },
    {
      "cell_type": "code",
      "execution_count": null,
      "metadata": {
        "id": "Fh-qkdUsM5Mt"
      },
      "outputs": [],
      "source": []
    },
    {
      "cell_type": "markdown",
      "metadata": {
        "id": "gxLICrqVM5Mt"
      },
      "source": [
        "<br/>\n",
        "Alternativa, temos outras formas de impressão vindas de versões mais antigas do Python, porém ainda válidas:"
      ]
    },
    {
      "cell_type": "code",
      "execution_count": null,
      "metadata": {
        "id": "0HjNrEoKM5Mt"
      },
      "outputs": [],
      "source": []
    },
    {
      "cell_type": "code",
      "execution_count": null,
      "metadata": {
        "id": "TYbaVnXEM5Mt"
      },
      "outputs": [],
      "source": []
    },
    {
      "cell_type": "code",
      "execution_count": null,
      "metadata": {
        "id": "II3BCYCqM5Mt"
      },
      "outputs": [],
      "source": []
    }
  ],
  "metadata": {
    "kernelspec": {
      "display_name": "Python 3",
      "language": "python",
      "name": "python3"
    },
    "language_info": {
      "codemirror_mode": {
        "name": "ipython",
        "version": 3
      },
      "file_extension": ".py",
      "mimetype": "text/x-python",
      "name": "python",
      "nbconvert_exporter": "python",
      "pygments_lexer": "ipython3",
      "version": "3.9.0"
    },
    "colab": {
      "provenance": [],
      "include_colab_link": true
    }
  },
  "nbformat": 4,
  "nbformat_minor": 0
}