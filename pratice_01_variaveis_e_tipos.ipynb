{
  "cells": [
    {
      "cell_type": "markdown",
      "metadata": {
        "id": "view-in-github",
        "colab_type": "text"
      },
      "source": [
        "<a href=\"https://colab.research.google.com/github/VivianeSouza923/PyRevive/blob/main/pratice_01_variaveis_e_tipos.ipynb\" target=\"_parent\"><img src=\"https://colab.research.google.com/assets/colab-badge.svg\" alt=\"Open In Colab\"/></a>"
      ]
    },
    {
      "cell_type": "markdown",
      "metadata": {
        "id": "LqKZ114LM5Mp"
      },
      "source": [
        "## **Python Essencial para Data Science**\n",
        "**Prof. Dr. Samuel Martins (@hisamuka @xavecoding)** <br/>\n",
        "xavecoding: https://youtube.com/c/xavecoding <br/>\n",
        "\n",
        "Neste tutorial, vamos aprender os conceitos básicos para desenvolvermos nossos primeiros programas em Python! <br/>\n",
        "Boa parte dos exemplos deste tutorial é inspirado no [curso de Python do Kaggle](https://www.kaggle.com/learn/python). <br/><br/>\n",
        "\n",
        "<a rel=\"license\" href=\"http://creativecommons.org/licenses/by-nc-sa/4.0/\"><img alt=\"Creative Commons License\" style=\"border-width:0\" src=\"https://i.creativecommons.org/l/by-nc-sa/4.0/88x31.png\" /></a><br />This work is licensed under a <a rel=\"license\" href=\"http://creativecommons.org/licenses/by-nc-sa/4.0/\">Creative Commons Attribution-NonCommercial-ShareAlike 4.0 International License</a>."
      ]
    },
    {
      "cell_type": "code",
      "execution_count": 1,
      "metadata": {
        "colab": {
          "base_uri": "https://localhost:8080/",
          "height": 17
        },
        "id": "parXyOODM5Mq",
        "outputId": "90e30d52-ceb6-4dd0-a496-5ee2d4150712"
      },
      "outputs": [
        {
          "output_type": "display_data",
          "data": {
            "text/plain": [
              "<IPython.core.display.HTML object>"
            ],
            "text/html": [
              "<style>\n",
              "table {float:left}\n",
              "</style>\n"
            ]
          },
          "metadata": {}
        }
      ],
      "source": [
        "%%html\n",
        "<style>\n",
        "table {float:left}\n",
        "</style>"
      ]
    },
    {
      "cell_type": "markdown",
      "metadata": {
        "id": "XdXwYO1jM5Mr"
      },
      "source": [
        "## Variáveis\n",
        "\n",
        "### Tipos\n",
        "Python tem diferentes tipos de dados, mas no fundo, *tudo é um objeto*. <br/>\n",
        "Variáveis podem ser definidas em qualquer lugar.\n",
        "\n",
        "Veja alguns tipos:\n",
        "\n",
        "| Tipo    | Exemplo           |\n",
        "|---------|-------------------|\n",
        "| Integer | 1 10 -4           |\n",
        "| Float   | 1.0 -0.223 3.1415 |\n",
        "| String  | \"Hello world\"     |"
      ]
    },
    {
      "cell_type": "markdown",
      "metadata": {
        "id": "ZfbaMieKM5Mr"
      },
      "source": [
        "## Instanciando variáveis"
      ]
    },
    {
      "cell_type": "code",
      "execution_count": 2,
      "metadata": {
        "id": "84APv1veM5Ms"
      },
      "outputs": [],
      "source": [
        "# instaciando variáveis, é criar variáveis:\n",
        "\n",
        "nome = 'Thorin'\n",
        "idade = 6\n",
        "peso = 20\n"
      ]
    },
    {
      "cell_type": "markdown",
      "metadata": {
        "id": "gPVrde38M5Ms"
      },
      "source": [
        "### Type()\n",
        "Use a função <code>type()</code> para descobrir o tipo de uma variável."
      ]
    },
    {
      "cell_type": "code",
      "execution_count": 4,
      "metadata": {
        "colab": {
          "base_uri": "https://localhost:8080/"
        },
        "id": "GeyX0xwIM5Ms",
        "outputId": "d1cc39e0-af21-4879-ec5f-a36c6ad7806f"
      },
      "outputs": [
        {
          "output_type": "execute_result",
          "data": {
            "text/plain": [
              "int"
            ]
          },
          "metadata": {},
          "execution_count": 4
        }
      ],
      "source": [
        "type(idade)"
      ]
    },
    {
      "cell_type": "markdown",
      "metadata": {
        "id": "U2YmtvwiM5Ms"
      },
      "source": [
        "### Dir()\n",
        "Use a função <code>dir()</code> para descobrir **todos os métodos** associados a um objeto:"
      ]
    },
    {
      "cell_type": "code",
      "execution_count": 7,
      "metadata": {
        "colab": {
          "base_uri": "https://localhost:8080/"
        },
        "id": "0Of-6jfoM5Ms",
        "outputId": "c072bc4f-4b57-4bbe-cf8f-ee81b75789db"
      },
      "outputs": [
        {
          "output_type": "execute_result",
          "data": {
            "text/plain": [
              "['__abs__',\n",
              " '__add__',\n",
              " '__and__',\n",
              " '__bool__',\n",
              " '__ceil__',\n",
              " '__class__',\n",
              " '__delattr__',\n",
              " '__dir__',\n",
              " '__divmod__',\n",
              " '__doc__',\n",
              " '__eq__',\n",
              " '__float__',\n",
              " '__floor__',\n",
              " '__floordiv__',\n",
              " '__format__',\n",
              " '__ge__',\n",
              " '__getattribute__',\n",
              " '__getnewargs__',\n",
              " '__gt__',\n",
              " '__hash__',\n",
              " '__index__',\n",
              " '__init__',\n",
              " '__init_subclass__',\n",
              " '__int__',\n",
              " '__invert__',\n",
              " '__le__',\n",
              " '__lshift__',\n",
              " '__lt__',\n",
              " '__mod__',\n",
              " '__mul__',\n",
              " '__ne__',\n",
              " '__neg__',\n",
              " '__new__',\n",
              " '__or__',\n",
              " '__pos__',\n",
              " '__pow__',\n",
              " '__radd__',\n",
              " '__rand__',\n",
              " '__rdivmod__',\n",
              " '__reduce__',\n",
              " '__reduce_ex__',\n",
              " '__repr__',\n",
              " '__rfloordiv__',\n",
              " '__rlshift__',\n",
              " '__rmod__',\n",
              " '__rmul__',\n",
              " '__ror__',\n",
              " '__round__',\n",
              " '__rpow__',\n",
              " '__rrshift__',\n",
              " '__rshift__',\n",
              " '__rsub__',\n",
              " '__rtruediv__',\n",
              " '__rxor__',\n",
              " '__setattr__',\n",
              " '__sizeof__',\n",
              " '__str__',\n",
              " '__sub__',\n",
              " '__subclasshook__',\n",
              " '__truediv__',\n",
              " '__trunc__',\n",
              " '__xor__',\n",
              " 'as_integer_ratio',\n",
              " 'bit_count',\n",
              " 'bit_length',\n",
              " 'conjugate',\n",
              " 'denominator',\n",
              " 'from_bytes',\n",
              " 'imag',\n",
              " 'numerator',\n",
              " 'real',\n",
              " 'to_bytes']"
            ]
          },
          "metadata": {},
          "execution_count": 7
        }
      ],
      "source": [
        "dir(peso)"
      ]
    },
    {
      "cell_type": "markdown",
      "metadata": {
        "id": "0qFDp2FjM5Ms"
      },
      "source": [
        "### Usando métodos\n",
        "Métodos podem ser acessados usando: <code>objeto.metodo</code>"
      ]
    },
    {
      "cell_type": "code",
      "execution_count": 18,
      "metadata": {
        "colab": {
          "base_uri": "https://localhost:8080/"
        },
        "id": "zcPINLXNM5Ms",
        "outputId": "fd190d86-6b46-44f8-be38-5c4602f089d0"
      },
      "outputs": [
        {
          "output_type": "execute_result",
          "data": {
            "text/plain": [
              "2"
            ]
          },
          "metadata": {},
          "execution_count": 18
        }
      ],
      "source": [
        "peso.bit_count()"
      ]
    },
    {
      "cell_type": "code",
      "source": [
        "peso.denominator"
      ],
      "metadata": {
        "colab": {
          "base_uri": "https://localhost:8080/"
        },
        "id": "E-J6HfonOdws",
        "outputId": "ef6f6b2f-ca71-4b59-a59b-0166c1d4633f"
      },
      "execution_count": 10,
      "outputs": [
        {
          "output_type": "execute_result",
          "data": {
            "text/plain": [
              "1"
            ]
          },
          "metadata": {},
          "execution_count": 10
        }
      ]
    },
    {
      "cell_type": "code",
      "source": [
        "peso.numerator"
      ],
      "metadata": {
        "colab": {
          "base_uri": "https://localhost:8080/"
        },
        "id": "JIpeCX83Oqjb",
        "outputId": "13c12b35-6f4d-44bc-c866-66bd9889d25c"
      },
      "execution_count": 11,
      "outputs": [
        {
          "output_type": "execute_result",
          "data": {
            "text/plain": [
              "20"
            ]
          },
          "metadata": {},
          "execution_count": 11
        }
      ]
    },
    {
      "cell_type": "code",
      "source": [
        "peso.real"
      ],
      "metadata": {
        "colab": {
          "base_uri": "https://localhost:8080/"
        },
        "id": "29v35MV_OxgB",
        "outputId": "23dd59f1-9195-4c22-d073-dc8d05c707bc"
      },
      "execution_count": 12,
      "outputs": [
        {
          "output_type": "execute_result",
          "data": {
            "text/plain": [
              "20"
            ]
          },
          "metadata": {},
          "execution_count": 12
        }
      ]
    },
    {
      "cell_type": "code",
      "source": [
        "idade.imag"
      ],
      "metadata": {
        "colab": {
          "base_uri": "https://localhost:8080/"
        },
        "id": "PC9A9dKHO1Lv",
        "outputId": "43c6808b-922f-44da-be6f-09b7568b964a"
      },
      "execution_count": 13,
      "outputs": [
        {
          "output_type": "execute_result",
          "data": {
            "text/plain": [
              "0"
            ]
          },
          "metadata": {},
          "execution_count": 13
        }
      ]
    },
    {
      "cell_type": "code",
      "source": [
        "nome.title()"
      ],
      "metadata": {
        "colab": {
          "base_uri": "https://localhost:8080/",
          "height": 35
        },
        "id": "DDaQWRoyO4Fc",
        "outputId": "1221bac1-752c-4448-d278-840a7619c249"
      },
      "execution_count": 16,
      "outputs": [
        {
          "output_type": "execute_result",
          "data": {
            "text/plain": [
              "'Thorin'"
            ],
            "application/vnd.google.colaboratory.intrinsic+json": {
              "type": "string"
            }
          },
          "metadata": {},
          "execution_count": 16
        }
      ]
    },
    {
      "cell_type": "code",
      "source": [
        "nome.casefold()"
      ],
      "metadata": {
        "colab": {
          "base_uri": "https://localhost:8080/",
          "height": 35
        },
        "id": "Fjw-uMl0PAgF",
        "outputId": "e46f643a-9d67-47aa-dfe1-08f3aaa5d6a7"
      },
      "execution_count": 17,
      "outputs": [
        {
          "output_type": "execute_result",
          "data": {
            "text/plain": [
              "'thorin'"
            ],
            "application/vnd.google.colaboratory.intrinsic+json": {
              "type": "string"
            }
          },
          "metadata": {},
          "execution_count": 17
        }
      ]
    },
    {
      "cell_type": "code",
      "source": [
        "nome.encode()"
      ],
      "metadata": {
        "colab": {
          "base_uri": "https://localhost:8080/"
        },
        "id": "5ZCMtz21PLUc",
        "outputId": "104286f7-9baf-453e-f70b-ce012126e4ed"
      },
      "execution_count": 19,
      "outputs": [
        {
          "output_type": "execute_result",
          "data": {
            "text/plain": [
              "b'Thorin'"
            ]
          },
          "metadata": {},
          "execution_count": 19
        }
      ]
    },
    {
      "cell_type": "code",
      "source": [
        "idade.conjugate()"
      ],
      "metadata": {
        "colab": {
          "base_uri": "https://localhost:8080/"
        },
        "id": "MLwFS2-cPOd1",
        "outputId": "32668faf-5713-40d3-c9dc-bc1f47611efe"
      },
      "execution_count": 20,
      "outputs": [
        {
          "output_type": "execute_result",
          "data": {
            "text/plain": [
              "6"
            ]
          },
          "metadata": {},
          "execution_count": 20
        }
      ]
    },
    {
      "cell_type": "markdown",
      "metadata": {
        "id": "m8y7q8XoM5Ms"
      },
      "source": [
        "### Atribuição Múltipla"
      ]
    },
    {
      "cell_type": "code",
      "execution_count": 21,
      "metadata": {
        "id": "8mDv5wrnM5Ms"
      },
      "outputs": [],
      "source": [
        "nome, idade, peso = 'Thorin', 6, 20"
      ]
    },
    {
      "cell_type": "markdown",
      "metadata": {
        "id": "siW_kiv1M5Ms"
      },
      "source": [
        "### Python é uma linguagem *case-sensitive*"
      ]
    },
    {
      "cell_type": "code",
      "execution_count": 24,
      "metadata": {
        "colab": {
          "base_uri": "https://localhost:8080/",
          "height": 175
        },
        "id": "wRhLb9exM5Ms",
        "outputId": "73edd60a-6a38-4414-a814-6758ac7f1204"
      },
      "outputs": [
        {
          "output_type": "error",
          "ename": "NameError",
          "evalue": "ignored",
          "traceback": [
            "\u001b[0;31m---------------------------------------------------------------------------\u001b[0m",
            "\u001b[0;31mNameError\u001b[0m                                 Traceback (most recent call last)",
            "\u001b[0;32m<ipython-input-24-d79eb0f8a845>\u001b[0m in \u001b[0;36m<cell line: 1>\u001b[0;34m()\u001b[0m\n\u001b[0;32m----> 1\u001b[0;31m \u001b[0mNome\u001b[0m\u001b[0;34m\u001b[0m\u001b[0;34m\u001b[0m\u001b[0m\n\u001b[0m",
            "\u001b[0;31mNameError\u001b[0m: name 'Nome' is not defined"
          ]
        }
      ],
      "source": [
        "Nome\n"
      ]
    },
    {
      "cell_type": "code",
      "source": [
        "nome"
      ],
      "metadata": {
        "colab": {
          "base_uri": "https://localhost:8080/",
          "height": 35
        },
        "id": "Iahoy7bTPnhn",
        "outputId": "95d6265d-787b-484b-b1bd-fcbed7cbc4e1"
      },
      "execution_count": 25,
      "outputs": [
        {
          "output_type": "execute_result",
          "data": {
            "text/plain": [
              "'Thorin'"
            ],
            "application/vnd.google.colaboratory.intrinsic+json": {
              "type": "string"
            }
          },
          "metadata": {},
          "execution_count": 25
        }
      ]
    },
    {
      "cell_type": "code",
      "source": [
        "NOME"
      ],
      "metadata": {
        "colab": {
          "base_uri": "https://localhost:8080/",
          "height": 175
        },
        "id": "jMjmYahdPpT_",
        "outputId": "148f21cf-8926-4d13-8988-c41677ea3c22"
      },
      "execution_count": 26,
      "outputs": [
        {
          "output_type": "error",
          "ename": "NameError",
          "evalue": "ignored",
          "traceback": [
            "\u001b[0;31m---------------------------------------------------------------------------\u001b[0m",
            "\u001b[0;31mNameError\u001b[0m                                 Traceback (most recent call last)",
            "\u001b[0;32m<ipython-input-26-85de8b3a09f7>\u001b[0m in \u001b[0;36m<cell line: 1>\u001b[0;34m()\u001b[0m\n\u001b[0;32m----> 1\u001b[0;31m \u001b[0mNOME\u001b[0m\u001b[0;34m\u001b[0m\u001b[0;34m\u001b[0m\u001b[0m\n\u001b[0m",
            "\u001b[0;31mNameError\u001b[0m: name 'NOME' is not defined"
          ]
        }
      ]
    },
    {
      "cell_type": "markdown",
      "metadata": {
        "id": "OjO6QHrtM5Ms"
      },
      "source": [
        "### Dinamicamente e Fortemente tipada\n",
        "\n",
        "**Dinamicamente:** o tipo é definido no momento da atribuição\n",
        "**Fortemente:** o interpretador não muda o tipo de uma variável inesperadamente"
      ]
    },
    {
      "cell_type": "code",
      "execution_count": 29,
      "metadata": {
        "colab": {
          "base_uri": "https://localhost:8080/"
        },
        "id": "jxY5jU-xM5Ms",
        "outputId": "49308c31-e0eb-4f16-c44d-1b13281926f3"
      },
      "outputs": [
        {
          "output_type": "stream",
          "name": "stdout",
          "text": [
            "1\n",
            "VIVI\n"
          ]
        }
      ],
      "source": [
        "A = 1\n",
        "print(A)\n",
        "\n",
        "A = 'VIVI'\n",
        "print(A)"
      ]
    },
    {
      "cell_type": "markdown",
      "metadata": {
        "id": "lgMAzbtGM5Mt"
      },
      "source": [
        "### Conversão de Tipos (*Casting*)"
      ]
    },
    {
      "cell_type": "code",
      "execution_count": 31,
      "metadata": {
        "colab": {
          "base_uri": "https://localhost:8080/",
          "height": 35
        },
        "id": "XK5cnk_1M5Mt",
        "outputId": "e9c1890c-30d3-427a-c8f9-146ce8b9018a"
      },
      "outputs": [
        {
          "output_type": "execute_result",
          "data": {
            "text/plain": [
              "'6'"
            ],
            "application/vnd.google.colaboratory.intrinsic+json": {
              "type": "string"
            }
          },
          "metadata": {},
          "execution_count": 31
        }
      ],
      "source": [
        "# transformei em String a idade do Thorinho\n",
        "str(idade)"
      ]
    },
    {
      "cell_type": "code",
      "source": [
        "# transformei em ponto flutuante o peso do Thorinho\n",
        "float(peso)"
      ],
      "metadata": {
        "colab": {
          "base_uri": "https://localhost:8080/"
        },
        "id": "T0TUMuemRJvB",
        "outputId": "e200fb23-3487-4440-fbb5-81a61a9b2cbd"
      },
      "execution_count": 33,
      "outputs": [
        {
          "output_type": "execute_result",
          "data": {
            "text/plain": [
              "20.0"
            ]
          },
          "metadata": {},
          "execution_count": 33
        }
      ]
    },
    {
      "cell_type": "markdown",
      "metadata": {
        "id": "GdvpjDqVM5Mt"
      },
      "source": [
        "### Operadores Aritméticos\n",
        "\n",
        "| Operador     | Nome                 | Descrição                                                                            |\n",
        "|--------------|----------------------|--------------------------------------------------------------------------------------|\n",
        "| ``a + b``    | Adição               | Soma de ``a`` e ``b``                                                                |\n",
        "| ``a - b``    | Subtração            | Diferença de ``a`` e ``b``                                                           |\n",
        "| ``a * b``    | Multiplicação        | Produto de ``a`` e ``b``                                                             |\n",
        "| ``a / b``    | Divisão 'verdadeira' | Quociente de ``a`` e ``b``                                                           |\n",
        "| ``a // b``   | Piso da Divisão      | Quociente de ``a`` e ``b``, removendo partes fracionadas (arredondamento para baixo) |\n",
        "| ``a % b``    | Módulo               | Resto da divisão de a ``a`` por ``b``                                                |\n",
        "| ``a ** b``   | Exponenciação        | ``a`` elevado a ``b``                                                                |\n",
        "| ``-a``       | Negação              | Negativo de ``a``                                                                    |"
      ]
    },
    {
      "cell_type": "code",
      "source": [
        "a = 4\n",
        "b = 2"
      ],
      "metadata": {
        "id": "mJhYo8MTS-BS"
      },
      "execution_count": 40,
      "outputs": []
    },
    {
      "cell_type": "code",
      "source": [
        "a + b\n"
      ],
      "metadata": {
        "colab": {
          "base_uri": "https://localhost:8080/"
        },
        "id": "k5LsI-2nTJE_",
        "outputId": "98fe8cde-0fe7-4406-dd9e-f9b36382171b"
      },
      "execution_count": 41,
      "outputs": [
        {
          "output_type": "execute_result",
          "data": {
            "text/plain": [
              "6"
            ]
          },
          "metadata": {},
          "execution_count": 41
        }
      ]
    },
    {
      "cell_type": "code",
      "source": [
        "a - b"
      ],
      "metadata": {
        "colab": {
          "base_uri": "https://localhost:8080/"
        },
        "id": "2XRpciUKTLUX",
        "outputId": "e00d5196-d1b5-4408-ad66-a8168cbcd233"
      },
      "execution_count": 42,
      "outputs": [
        {
          "output_type": "execute_result",
          "data": {
            "text/plain": [
              "2"
            ]
          },
          "metadata": {},
          "execution_count": 42
        }
      ]
    },
    {
      "cell_type": "code",
      "source": [
        "a * b"
      ],
      "metadata": {
        "colab": {
          "base_uri": "https://localhost:8080/"
        },
        "id": "QYdSuJ43TM5e",
        "outputId": "5dba791e-a66b-4f8a-896f-0009d70acd0f"
      },
      "execution_count": 43,
      "outputs": [
        {
          "output_type": "execute_result",
          "data": {
            "text/plain": [
              "8"
            ]
          },
          "metadata": {},
          "execution_count": 43
        }
      ]
    },
    {
      "cell_type": "code",
      "source": [
        "a / b"
      ],
      "metadata": {
        "colab": {
          "base_uri": "https://localhost:8080/"
        },
        "id": "8eneoyoMTO2r",
        "outputId": "b7cac4b4-0cae-43cf-c87e-ccb08d349d11"
      },
      "execution_count": 44,
      "outputs": [
        {
          "output_type": "execute_result",
          "data": {
            "text/plain": [
              "2.0"
            ]
          },
          "metadata": {},
          "execution_count": 44
        }
      ]
    },
    {
      "cell_type": "code",
      "source": [
        "a // b"
      ],
      "metadata": {
        "colab": {
          "base_uri": "https://localhost:8080/"
        },
        "id": "hgeqkcsFTUgI",
        "outputId": "b3099b4d-2a19-4d1a-b30a-b617cef8474d"
      },
      "execution_count": 45,
      "outputs": [
        {
          "output_type": "execute_result",
          "data": {
            "text/plain": [
              "2"
            ]
          },
          "metadata": {},
          "execution_count": 45
        }
      ]
    },
    {
      "cell_type": "code",
      "source": [
        "a % b"
      ],
      "metadata": {
        "colab": {
          "base_uri": "https://localhost:8080/"
        },
        "id": "Gj-IRRTRTXHO",
        "outputId": "d6309687-d148-4269-a141-ef8037b59919"
      },
      "execution_count": 46,
      "outputs": [
        {
          "output_type": "execute_result",
          "data": {
            "text/plain": [
              "0"
            ]
          },
          "metadata": {},
          "execution_count": 46
        }
      ]
    },
    {
      "cell_type": "code",
      "source": [
        "a ** b"
      ],
      "metadata": {
        "colab": {
          "base_uri": "https://localhost:8080/"
        },
        "id": "L4YOb0RiTZI7",
        "outputId": "10567b99-13a9-4a81-8cb8-63e3ee9a4e6a"
      },
      "execution_count": 47,
      "outputs": [
        {
          "output_type": "execute_result",
          "data": {
            "text/plain": [
              "16"
            ]
          },
          "metadata": {},
          "execution_count": 47
        }
      ]
    },
    {
      "cell_type": "code",
      "source": [
        "-a"
      ],
      "metadata": {
        "colab": {
          "base_uri": "https://localhost:8080/"
        },
        "id": "uqiR4WXFTcWl",
        "outputId": "3193c86d-f7dc-48da-911c-2873f0e3a2ae"
      },
      "execution_count": 48,
      "outputs": [
        {
          "output_type": "execute_result",
          "data": {
            "text/plain": [
              "-4"
            ]
          },
          "metadata": {},
          "execution_count": 48
        }
      ]
    },
    {
      "cell_type": "markdown",
      "metadata": {
        "id": "mrguNH1gM5Mt"
      },
      "source": [
        "### A função print()\n",
        "A função _print()_ imprime uma string na tela/console. <br/>\n",
        "Uma string pode ser definida com **aspas simples ''** ou **aspas duplas \"\"**.\n",
        "\n",
        "Por convenção, a comunidade usa **aspas simples ''**"
      ]
    },
    {
      "cell_type": "code",
      "source": [
        "print('Vivi e Alesi irão se casar, em nome de Jesus <3')"
      ],
      "metadata": {
        "colab": {
          "base_uri": "https://localhost:8080/"
        },
        "id": "ws8KQN0NTIe2",
        "outputId": "c92dff60-92c0-4ca0-b0ab-596bd804da65"
      },
      "execution_count": 49,
      "outputs": [
        {
          "output_type": "stream",
          "name": "stdout",
          "text": [
            "Vivi e Alesi irão se casar, em nome de Jesus <3\n"
          ]
        }
      ]
    },
    {
      "cell_type": "code",
      "execution_count": 50,
      "metadata": {
        "colab": {
          "base_uri": "https://localhost:8080/"
        },
        "id": "ZILtr0AdM5Mt",
        "outputId": "f3f33aa5-8898-4435-90ea-9b67d002305b"
      },
      "outputs": [
        {
          "output_type": "stream",
          "name": "stdout",
          "text": [
            "Nossa família será para glória de Deus\n"
          ]
        }
      ],
      "source": [
        "print(\"Nossa família será para glória de Deus\")"
      ]
    },
    {
      "cell_type": "markdown",
      "metadata": {
        "id": "-e6PviuHM5Mt"
      },
      "source": [
        "<br/>Para imprimir valores de _variáveis_ junto com uma _string/texto_, utilize a letra **_f_** antes das primeiras aspas, e coloque a variável entre **_{}_** (Python 3.6+):"
      ]
    },
    {
      "cell_type": "code",
      "execution_count": 52,
      "metadata": {
        "colab": {
          "base_uri": "https://localhost:8080/"
        },
        "id": "Fh-qkdUsM5Mt",
        "outputId": "bc00eef5-fdc1-49f8-a66a-81c2be35c17d"
      },
      "outputs": [
        {
          "output_type": "stream",
          "name": "stdout",
          "text": [
            "O nome do cachorrinho mais lindo eh Thorin\n",
            "O nome do cachorrinho mais lindo eh Thorin\n",
            "Ele tem 6 aninhos\n",
            "E pesa 20kg de muita fofura\n"
          ]
        }
      ],
      "source": [
        "print(f'O nome do cachorrinho mais lindo eh {nome}')\n",
        "print(f'O nome do cachorrinho mais lindo eh {nome}\\nEle tem {idade} aninhos\\nE pesa {peso}kg de muita fofura')"
      ]
    },
    {
      "cell_type": "markdown",
      "metadata": {
        "id": "gxLICrqVM5Mt"
      },
      "source": [
        "<br/>\n",
        "Alternativa, temos outras formas de impressão vindas de versões mais antigas do Python, porém ainda válidas:"
      ]
    },
    {
      "cell_type": "code",
      "execution_count": 54,
      "metadata": {
        "colab": {
          "base_uri": "https://localhost:8080/"
        },
        "id": "0HjNrEoKM5Mt",
        "outputId": "30ad6feb-a19b-4d6e-9e71-921944a1a604"
      },
      "outputs": [
        {
          "output_type": "stream",
          "name": "stdout",
          "text": [
            "O nome do cachorrinho mais lindo eh Thorin\n",
            "O nome do cachorrinho mais lindo eh Thorin\n",
            "Ele tem 6 aninhos\n",
            "E pesa 20kg de muita fofura\n"
          ]
        }
      ],
      "source": [
        "print('O nome do cachorrinho mais lindo eh {}'.format(nome))\n",
        "print('O nome do cachorrinho mais lindo eh {0}\\nEle tem {1} aninhos\\nE pesa {2}kg de muita fofura'.format(nome, idade, peso))"
      ]
    },
    {
      "cell_type": "code",
      "execution_count": 58,
      "metadata": {
        "colab": {
          "base_uri": "https://localhost:8080/"
        },
        "id": "TYbaVnXEM5Mt",
        "outputId": "0d32fb92-ce30-49ec-a53d-cea34d86b57e"
      },
      "outputs": [
        {
          "output_type": "stream",
          "name": "stdout",
          "text": [
            "O nome do cachorrinho mais lindo eh Thorin\n",
            "Ele tem 6 aninhos\n",
            "E pesa 20.00 kg de muita fofura\n"
          ]
        }
      ],
      "source": [
        "print('O nome do cachorrinho mais lindo eh %s' % nome)\n",
        "print('Ele tem %d aninhos' % idade)\n",
        "print('E pesa %.2f kg de muita fofura' % peso)"
      ]
    },
    {
      "cell_type": "code",
      "execution_count": 59,
      "metadata": {
        "colab": {
          "base_uri": "https://localhost:8080/"
        },
        "id": "II3BCYCqM5Mt",
        "outputId": "b17d6fba-fcf7-4e22-a911-9779f4bd3e6a"
      },
      "outputs": [
        {
          "output_type": "stream",
          "name": "stdout",
          "text": [
            "O nome do cachorrinho mais lindo eh Thorin\n",
            "Ele tem 6 aninhos\n",
            "E ele pesa 20.00 kg de muita fofura\n"
          ]
        }
      ],
      "source": [
        "print('O nome do cachorrinho mais lindo eh %s\\nEle tem %d aninhos\\nE ele pesa %.2f kg de muita fofura' %(nome, idade, peso))"
      ]
    }
  ],
  "metadata": {
    "kernelspec": {
      "display_name": "Python 3",
      "language": "python",
      "name": "python3"
    },
    "language_info": {
      "codemirror_mode": {
        "name": "ipython",
        "version": 3
      },
      "file_extension": ".py",
      "mimetype": "text/x-python",
      "name": "python",
      "nbconvert_exporter": "python",
      "pygments_lexer": "ipython3",
      "version": "3.9.0"
    },
    "colab": {
      "provenance": [],
      "include_colab_link": true
    }
  },
  "nbformat": 4,
  "nbformat_minor": 0
}