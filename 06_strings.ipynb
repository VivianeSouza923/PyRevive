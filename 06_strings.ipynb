{
  "cells": [
    {
      "cell_type": "markdown",
      "metadata": {
        "id": "view-in-github",
        "colab_type": "text"
      },
      "source": [
        "<a href=\"https://colab.research.google.com/github/VivianeSouza923/PyRevive/blob/main/06_strings.ipynb\" target=\"_parent\"><img src=\"https://colab.research.google.com/assets/colab-badge.svg\" alt=\"Open In Colab\"/></a>"
      ]
    },
    {
      "cell_type": "markdown",
      "metadata": {
        "id": "VgrOwrC4QmGL"
      },
      "source": [
        "## **Python Essencial para Data Science**\n",
        "**Prof. Dr. Samuel Martins (@hisamuka @xavecoding)** <br/>\n",
        "xavecoding: https://youtube.com/c/xavecoding <br/><br/>\n",
        "\n",
        "<a rel=\"license\" href=\"http://creativecommons.org/licenses/by-nc-sa/4.0/\"><img alt=\"Creative Commons License\" style=\"border-width:0\" src=\"https://i.creativecommons.org/l/by-nc-sa/4.0/88x31.png\" /></a><br />This work is licensed under a <a rel=\"license\" href=\"http://creativecommons.org/licenses/by-nc-sa/4.0/\">Creative Commons Attribution-NonCommercial-ShareAlike 4.0 International License</a>."
      ]
    },
    {
      "cell_type": "markdown",
      "metadata": {
        "id": "04aUeBbeQmGO"
      },
      "source": [
        "## Strings"
      ]
    },
    {
      "cell_type": "markdown",
      "metadata": {
        "id": "kg94o4fWQmGP"
      },
      "source": [
        "#### Strings são também sequências"
      ]
    },
    {
      "cell_type": "code",
      "execution_count": 1,
      "metadata": {
        "colab": {
          "base_uri": "https://localhost:8080/"
        },
        "id": "FRSLYFkvQmGP",
        "outputId": "6503cc30-dcc2-4100-e9c0-dfa067ee600a"
      },
      "outputs": [
        {
          "output_type": "stream",
          "name": "stdout",
          "text": [
            "Luke skywalker\n",
            "Darth Vader\n"
          ]
        }
      ],
      "source": [
        "nome_1 = 'Luke skywalker'  # essa é a convenção da comunidade do Python\n",
        "nome_2 = \"Darth Vader\" # aqui botamos só para vermos que também conseguimos com aspas dupla, mas é mais usado a aspas simples, pois como dito é convenção da comunidade\n",
        "\n",
        "# prova de que dá certo em ambos os casos\n",
        "print(nome_1)\n",
        "print(nome_2)"
      ]
    },
    {
      "cell_type": "code",
      "execution_count": 2,
      "metadata": {
        "colab": {
          "base_uri": "https://localhost:8080/",
          "height": 36
        },
        "id": "JjKLXWdsQmGR",
        "outputId": "6d1fb12f-8808-4d73-8a24-af76ffbcd5db"
      },
      "outputs": [
        {
          "output_type": "execute_result",
          "data": {
            "text/plain": [
              "'k'"
            ],
            "application/vnd.google.colaboratory.intrinsic+json": {
              "type": "string"
            }
          },
          "metadata": {},
          "execution_count": 2
        }
      ],
      "source": [
        "nome_1[6]"
      ]
    },
    {
      "cell_type": "code",
      "execution_count": 3,
      "metadata": {
        "colab": {
          "base_uri": "https://localhost:8080/",
          "height": 36
        },
        "id": "Xtdl34dcQmGR",
        "outputId": "8eb107c3-e047-4ed6-e584-0700edc02c96"
      },
      "outputs": [
        {
          "output_type": "execute_result",
          "data": {
            "text/plain": [
              "'a'"
            ],
            "application/vnd.google.colaboratory.intrinsic+json": {
              "type": "string"
            }
          },
          "metadata": {},
          "execution_count": 3
        }
      ],
      "source": [
        "nome_1[9]"
      ]
    },
    {
      "cell_type": "code",
      "execution_count": 4,
      "metadata": {
        "colab": {
          "base_uri": "https://localhost:8080/",
          "height": 36
        },
        "id": "AGux707-QmGS",
        "outputId": "c417abfe-8d17-4e21-94d3-0907ed32f787"
      },
      "outputs": [
        {
          "output_type": "execute_result",
          "data": {
            "text/plain": [
              "'e'"
            ],
            "application/vnd.google.colaboratory.intrinsic+json": {
              "type": "string"
            }
          },
          "metadata": {},
          "execution_count": 4
        }
      ],
      "source": [
        "nome_1[-2]  # retorna o penúltimo caracter"
      ]
    },
    {
      "cell_type": "code",
      "execution_count": 5,
      "metadata": {
        "colab": {
          "base_uri": "https://localhost:8080/",
          "height": 36
        },
        "id": "qNMmuUyCQmGS",
        "outputId": "fa94d12e-71ae-4fa2-dc39-6d01839e9e5b"
      },
      "outputs": [
        {
          "output_type": "execute_result",
          "data": {
            "text/plain": [
              "'Luke s'"
            ],
            "application/vnd.google.colaboratory.intrinsic+json": {
              "type": "string"
            }
          },
          "metadata": {},
          "execution_count": 5
        }
      ],
      "source": [
        "nome_1[:6] # vai do início até o 6, sendo que o 6 é exclusivo"
      ]
    },
    {
      "cell_type": "code",
      "execution_count": 6,
      "metadata": {
        "colab": {
          "base_uri": "https://localhost:8080/"
        },
        "id": "P26YmklxQmGS",
        "outputId": "45ff2791-a3e0-47dd-faf4-0ce70f003dcf"
      },
      "outputs": [
        {
          "output_type": "execute_result",
          "data": {
            "text/plain": [
              "14"
            ]
          },
          "metadata": {},
          "execution_count": 6
        }
      ],
      "source": [
        "# quantos caracteres possui a string? Qual o tamanho da string?\n",
        "# usamos a função len() para isso\n",
        "len(nome_1)"
      ]
    },
    {
      "cell_type": "markdown",
      "metadata": {
        "id": "jf5glGjBQmGT"
      },
      "source": [
        "#### Strings são imutáveis"
      ]
    },
    {
      "cell_type": "code",
      "execution_count": 7,
      "metadata": {
        "id": "LpmyqLBYQmGU"
      },
      "outputs": [],
      "source": [
        "nome = 'Luke skywalker'"
      ]
    },
    {
      "cell_type": "code",
      "execution_count": 8,
      "metadata": {
        "colab": {
          "base_uri": "https://localhost:8080/",
          "height": 36
        },
        "id": "6Cez15dKQmGV",
        "outputId": "30e1f487-b701-4389-9248-dd22db537558"
      },
      "outputs": [
        {
          "output_type": "execute_result",
          "data": {
            "text/plain": [
              "'s'"
            ],
            "application/vnd.google.colaboratory.intrinsic+json": {
              "type": "string"
            }
          },
          "metadata": {},
          "execution_count": 8
        }
      ],
      "source": [
        "nome[5]"
      ]
    },
    {
      "cell_type": "code",
      "execution_count": 9,
      "metadata": {
        "colab": {
          "base_uri": "https://localhost:8080/",
          "height": 180
        },
        "id": "xDXx9IJYQmGV",
        "outputId": "dbc0a590-6d85-4aa1-dfa2-99d6f3a0e0b0"
      },
      "outputs": [
        {
          "output_type": "error",
          "ename": "TypeError",
          "evalue": "ignored",
          "traceback": [
            "\u001b[0;31m---------------------------------------------------------------------------\u001b[0m",
            "\u001b[0;31mTypeError\u001b[0m                                 Traceback (most recent call last)",
            "\u001b[0;32m<ipython-input-9-ea996ec9f516>\u001b[0m in \u001b[0;36m<cell line: 1>\u001b[0;34m()\u001b[0m\n\u001b[0;32m----> 1\u001b[0;31m \u001b[0mnome\u001b[0m\u001b[0;34m[\u001b[0m\u001b[0;36m5\u001b[0m\u001b[0;34m]\u001b[0m \u001b[0;34m=\u001b[0m \u001b[0;34m'S'\u001b[0m\u001b[0;34m\u001b[0m\u001b[0;34m\u001b[0m\u001b[0m\n\u001b[0m",
            "\u001b[0;31mTypeError\u001b[0m: 'str' object does not support item assignment"
          ]
        }
      ],
      "source": [
        "nome[5] = 'S'"
      ]
    },
    {
      "cell_type": "markdown",
      "metadata": {
        "id": "3gB_1X3PQmGW"
      },
      "source": [
        "Para fazer a substituição de um caracter em uma posição específica, precisaremos fazer uma \"gambiarra\" que veremos jajá."
      ]
    },
    {
      "cell_type": "markdown",
      "metadata": {
        "id": "crkiGTOdQmGi"
      },
      "source": [
        "### Métodos de Strings"
      ]
    },
    {
      "cell_type": "markdown",
      "metadata": {
        "id": "qNjmp10GQmGj"
      },
      "source": [
        "`.upper()` retorna a string com todas as letras maiúscula"
      ]
    },
    {
      "cell_type": "code",
      "execution_count": 10,
      "metadata": {
        "colab": {
          "base_uri": "https://localhost:8080/",
          "height": 36
        },
        "id": "s5v0F1hIQmGk",
        "outputId": "1b6d682b-04ad-4f1b-f954-814d38a7243b"
      },
      "outputs": [
        {
          "output_type": "execute_result",
          "data": {
            "text/plain": [
              "'LUKE SKYWALKER'"
            ],
            "application/vnd.google.colaboratory.intrinsic+json": {
              "type": "string"
            }
          },
          "metadata": {},
          "execution_count": 10
        }
      ],
      "source": [
        "nome.upper()  # retorna uma cópia"
      ]
    },
    {
      "cell_type": "code",
      "execution_count": 11,
      "metadata": {
        "colab": {
          "base_uri": "https://localhost:8080/",
          "height": 36
        },
        "id": "LZo0HICuQmGk",
        "outputId": "4e8c8fb0-9371-4b4e-d70d-d7a3abecf744"
      },
      "outputs": [
        {
          "output_type": "execute_result",
          "data": {
            "text/plain": [
              "'Luke skywalker'"
            ],
            "application/vnd.google.colaboratory.intrinsic+json": {
              "type": "string"
            }
          },
          "metadata": {},
          "execution_count": 11
        }
      ],
      "source": [
        "nome"
      ]
    },
    {
      "cell_type": "code",
      "execution_count": 12,
      "metadata": {
        "colab": {
          "base_uri": "https://localhost:8080/"
        },
        "id": "kjjAdUu6QmGl",
        "outputId": "b9be2e0f-be98-4175-f21d-4ffc616224ac"
      },
      "outputs": [
        {
          "output_type": "stream",
          "name": "stdout",
          "text": [
            "Luke skywalker\n",
            "LUKE SKYWALKER\n"
          ]
        }
      ],
      "source": [
        "nome_maiscula = nome.upper()\n",
        "print(nome)\n",
        "print(nome_maiscula)"
      ]
    },
    {
      "cell_type": "markdown",
      "metadata": {
        "id": "JbCwn0L3QmGl"
      },
      "source": [
        "`.lower()` retorna a string com todas as letras minúsculas"
      ]
    },
    {
      "cell_type": "code",
      "execution_count": 13,
      "metadata": {
        "colab": {
          "base_uri": "https://localhost:8080/"
        },
        "id": "nEJSRzS0QmGl",
        "outputId": "18243b07-3f97-4ae7-8ff7-ed927f74824d"
      },
      "outputs": [
        {
          "output_type": "stream",
          "name": "stdout",
          "text": [
            "Luke skywalker\n",
            "luke skywalker\n"
          ]
        }
      ],
      "source": [
        "nome_minuscula = nome.lower()\n",
        "print(nome)\n",
        "print(nome_minuscula)"
      ]
    },
    {
      "cell_type": "code",
      "execution_count": 14,
      "metadata": {
        "colab": {
          "base_uri": "https://localhost:8080/"
        },
        "id": "oJuwEzHpQmGm",
        "outputId": "f5c24866-4b2c-49e7-f3ab-665dd041662a"
      },
      "outputs": [
        {
          "output_type": "stream",
          "name": "stdout",
          "text": [
            "LUKE SKYWALKER\n",
            "luke skywalker\n"
          ]
        }
      ],
      "source": [
        "nome_de_maiscula_para_minuscula = nome_maiscula.lower()\n",
        "print(nome_maiscula)\n",
        "print(nome_de_maiscula_para_minuscula)"
      ]
    },
    {
      "cell_type": "markdown",
      "metadata": {
        "id": "p_U5vNxbQmGm"
      },
      "source": [
        "`str.startswith(substring)` checa se a string `str` começa com a substring `substring`."
      ]
    },
    {
      "cell_type": "code",
      "execution_count": 16,
      "metadata": {
        "id": "H8IT7qGKQmGm",
        "outputId": "52b6ebc1-1989-48eb-c250-ac384a1e55d4",
        "colab": {
          "base_uri": "https://localhost:8080/"
        }
      },
      "outputs": [
        {
          "output_type": "stream",
          "name": "stdout",
          "text": [
            "Luke skywalker\n",
            "LUKE SKYWALKER\n",
            "luke skywalker\n"
          ]
        }
      ],
      "source": [
        "\n",
        "print(nome)\n",
        "print(nome_maiscula)\n",
        "print(nome_minuscula)"
      ]
    },
    {
      "cell_type": "code",
      "execution_count": 17,
      "metadata": {
        "id": "CMdyJ1lQQmGn",
        "outputId": "3e4c9c79-171d-42cd-d8a2-60508512ca52",
        "colab": {
          "base_uri": "https://localhost:8080/"
        }
      },
      "outputs": [
        {
          "output_type": "execute_result",
          "data": {
            "text/plain": [
              "True"
            ]
          },
          "metadata": {},
          "execution_count": 17
        }
      ],
      "source": [
        "# quando eu quero saber se essa string começa com determinada coisa, é só usar o startswith (o nome já é dito, \"começa com\")\n",
        "nome.startswith('Luke')"
      ]
    },
    {
      "cell_type": "code",
      "execution_count": 18,
      "metadata": {
        "id": "8oO-dRtMQmGn",
        "outputId": "0fb6d5b5-b3bf-447f-ffc6-0963fd1d8757",
        "colab": {
          "base_uri": "https://localhost:8080/"
        }
      },
      "outputs": [
        {
          "output_type": "execute_result",
          "data": {
            "text/plain": [
              "False"
            ]
          },
          "metadata": {},
          "execution_count": 18
        }
      ],
      "source": [
        "# vale lembrar que o valor de retorno é booleano\n",
        "nome.startswith('LUKE')"
      ]
    },
    {
      "cell_type": "code",
      "execution_count": 19,
      "metadata": {
        "id": "pi2B9E1nQmGn",
        "outputId": "3f232734-e74f-42d3-b1a4-db611442472a",
        "colab": {
          "base_uri": "https://localhost:8080/"
        }
      },
      "outputs": [
        {
          "output_type": "execute_result",
          "data": {
            "text/plain": [
              "True"
            ]
          },
          "metadata": {},
          "execution_count": 19
        }
      ],
      "source": [
        "nome_maiscula.startswith('LUKE')"
      ]
    },
    {
      "cell_type": "markdown",
      "metadata": {
        "id": "onXSVqgFQmGn"
      },
      "source": [
        "`str.endswith(substring)` checa se a string `str` termina com a substring `substring`."
      ]
    },
    {
      "cell_type": "code",
      "execution_count": 20,
      "metadata": {
        "id": "pxwLVbeGQmGo",
        "outputId": "c97919ae-e4d6-4aa5-fa6e-f819fc41d1c0",
        "colab": {
          "base_uri": "https://localhost:8080/"
        }
      },
      "outputs": [
        {
          "output_type": "stream",
          "name": "stdout",
          "text": [
            "Luke skywalker\n",
            "LUKE SKYWALKER\n",
            "luke skywalker\n"
          ]
        }
      ],
      "source": [
        "print(nome)\n",
        "print(nome_maiscula)\n",
        "print(nome_minuscula)"
      ]
    },
    {
      "cell_type": "code",
      "execution_count": 21,
      "metadata": {
        "id": "MoMY1RcDQmGo",
        "outputId": "067efba9-c4d4-4855-caa2-e82955e479c6",
        "colab": {
          "base_uri": "https://localhost:8080/"
        }
      },
      "outputs": [
        {
          "output_type": "execute_result",
          "data": {
            "text/plain": [
              "True"
            ]
          },
          "metadata": {},
          "execution_count": 21
        }
      ],
      "source": [
        "# string tal termina com coisa tal? é literalmente isso. Só usar endswith( \"termina com\")\n",
        "nome.endswith('r')"
      ]
    },
    {
      "cell_type": "code",
      "execution_count": 22,
      "metadata": {
        "id": "aXYE_z_SQmGo",
        "outputId": "7bc8e38b-fb73-4c1a-d820-edfe4cc2801b",
        "colab": {
          "base_uri": "https://localhost:8080/"
        }
      },
      "outputs": [
        {
          "output_type": "execute_result",
          "data": {
            "text/plain": [
              "True"
            ]
          },
          "metadata": {},
          "execution_count": 22
        }
      ],
      "source": [
        "# retorno é booleano\n",
        "nome.endswith('walker')"
      ]
    },
    {
      "cell_type": "code",
      "execution_count": 23,
      "metadata": {
        "id": "-a_JQNZcQmGo",
        "outputId": "9bb3fe2e-3f8d-4b03-e0f9-e6b4d1dfef2d",
        "colab": {
          "base_uri": "https://localhost:8080/"
        }
      },
      "outputs": [
        {
          "output_type": "execute_result",
          "data": {
            "text/plain": [
              "False"
            ]
          },
          "metadata": {},
          "execution_count": 23
        }
      ],
      "source": [
        "nome.endswith('WALKER')"
      ]
    },
    {
      "cell_type": "code",
      "execution_count": 24,
      "metadata": {
        "id": "HiHTLvJLQmGp",
        "outputId": "0200d447-eef2-43ad-f915-99c3501917cf",
        "colab": {
          "base_uri": "https://localhost:8080/"
        }
      },
      "outputs": [
        {
          "output_type": "execute_result",
          "data": {
            "text/plain": [
              "True"
            ]
          },
          "metadata": {},
          "execution_count": 24
        }
      ],
      "source": [
        "nome_maiscula.endswith('WALKER')"
      ]
    },
    {
      "cell_type": "code",
      "execution_count": 26,
      "metadata": {
        "id": "kNxzKRBRQmGp",
        "outputId": "08873e65-1765-4406-9a06-a39f9dd5b022",
        "colab": {
          "base_uri": "https://localhost:8080/"
        }
      },
      "outputs": [
        {
          "output_type": "stream",
          "name": "stdout",
          "text": [
            "É uma imagem png\n"
          ]
        }
      ],
      "source": [
        "arquivo = 'imagem.png'\n",
        "\n",
        "# checar se a extensão do arquivo é .png\n",
        "if arquivo.endswith('.png'):\n",
        "    print('É uma imagem png')\n",
        "else:\n",
        "    print('O arquivo não é PNG')"
      ]
    },
    {
      "cell_type": "code",
      "execution_count": 29,
      "metadata": {
        "id": "gXiUYgSXQmGq",
        "outputId": "e5a0e966-5e9a-40b5-acd6-0910ea60b09a",
        "colab": {
          "base_uri": "https://localhost:8080/"
        }
      },
      "outputs": [
        {
          "output_type": "stream",
          "name": "stdout",
          "text": [
            "É uma imagem png\n"
          ]
        }
      ],
      "source": [
        "arquivo = 'imagem.PNG'\n",
        "\n",
        "# checar se a extensão do arquivo é .png\n",
        "# if arquivo.endswith('.png') or arquivo.endswith('.PNG'):\n",
        "if arquivo.upper().endswith('.PNG'):\n",
        "    print('É uma imagem png')\n",
        "else:\n",
        "    print('O arquivo não é PNG')"
      ]
    },
    {
      "cell_type": "code",
      "execution_count": 30,
      "metadata": {
        "id": "nwHM-E0qQmGq",
        "outputId": "183444ff-4beb-4c64-c67e-d6c2903e1de4",
        "colab": {
          "base_uri": "https://localhost:8080/"
        }
      },
      "outputs": [
        {
          "output_type": "stream",
          "name": "stdout",
          "text": [
            "É uma imagem png\n"
          ]
        }
      ],
      "source": [
        "arquivo = 'imagem.png'\n",
        "\n",
        "# checar se a extensão do arquivo é .png\n",
        "# if arquivo.endswith('.png') or arquivo.endswith('.PNG'):\n",
        "if arquivo.upper().endswith('.PNG'):\n",
        "    print('É uma imagem png')\n",
        "else:\n",
        "    print('O arquivo não é PNG')"
      ]
    },
    {
      "cell_type": "markdown",
      "metadata": {
        "id": "tEwoAb6_QmGr"
      },
      "source": [
        "`string.split(substring)` divide uma string, a partir de uma substring passada, retorna uma lista com as divisões."
      ]
    },
    {
      "cell_type": "code",
      "execution_count": 31,
      "metadata": {
        "id": "-R9woe0IQmGr",
        "outputId": "bf2b0adb-f225-4d26-d063-695c9d1d9bdc",
        "colab": {
          "base_uri": "https://localhost:8080/"
        }
      },
      "outputs": [
        {
          "output_type": "stream",
          "name": "stdout",
          "text": [
            "['~', 'documentos', 'arquivos']\n"
          ]
        }
      ],
      "source": [
        "diretorio = '~/documentos/arquivos'\n",
        "\n",
        "# separa de acordo com o que eu quero, passando um caractere, por exemplo\n",
        "subdiretorios = diretorio.split('/')\n",
        "print(subdiretorios)"
      ]
    },
    {
      "cell_type": "code",
      "execution_count": 36,
      "metadata": {
        "id": "iWW6xc2uQmGr",
        "outputId": "6a64aa8f-370d-4cda-9cdf-c12b572a3048",
        "colab": {
          "base_uri": "https://localhost:8080/",
          "height": 36
        }
      },
      "outputs": [
        {
          "output_type": "execute_result",
          "data": {
            "text/plain": [
              "'imagem'"
            ],
            "application/vnd.google.colaboratory.intrinsic+json": {
              "type": "string"
            }
          },
          "metadata": {},
          "execution_count": 36
        }
      ],
      "source": [
        "arquivo = 'imagem.png'\n",
        "filename_sem_extensao = arquivo.split('.png')[0] # esse zerinho, é só pra eu ver só a primeira posição que vai ser \"imagem\" porque foi gerada uma lista com dois itens, imagem e vazio\n",
        "filename_sem_extensao"
      ]
    },
    {
      "cell_type": "code",
      "execution_count": 38,
      "metadata": {
        "id": "L9DMMkGwQmGs",
        "outputId": "048b2939-74d3-4fcf-e054-2c6975fd6c11",
        "colab": {
          "base_uri": "https://localhost:8080/"
        }
      },
      "outputs": [
        {
          "output_type": "execute_result",
          "data": {
            "text/plain": [
              "['imagem.png']"
            ]
          },
          "metadata": {},
          "execution_count": 38
        }
      ],
      "source": [
        "# como não tem \".jpeg\", nada aconteceu\n",
        "arquivo.split('.jpeg')"
      ]
    },
    {
      "cell_type": "markdown",
      "metadata": {
        "id": "uk9EJi4WQmGs"
      },
      "source": [
        "`join` junta uma lista de strings, a partir de uma substring."
      ]
    },
    {
      "cell_type": "code",
      "execution_count": 39,
      "metadata": {
        "id": "vTUIFfYmQmGt",
        "outputId": "8cee4e25-05c1-4226-8b5d-f683ba338a22",
        "colab": {
          "base_uri": "https://localhost:8080/"
        }
      },
      "outputs": [
        {
          "output_type": "stream",
          "name": "stdout",
          "text": [
            "['~', 'documentos', 'arquivos']\n",
            "~/documentos/arquivos\n"
          ]
        }
      ],
      "source": [
        "print(subdiretorios)\n",
        "diretorio_completo = '/'.join(subdiretorios)\n",
        "print(diretorio_completo)"
      ]
    },
    {
      "cell_type": "code",
      "execution_count": 40,
      "metadata": {
        "id": "ELixUEUxQmGt",
        "outputId": "2dd0fb8d-5ee0-4ec3-937e-70ae766a68ba",
        "colab": {
          "base_uri": "https://localhost:8080/"
        }
      },
      "outputs": [
        {
          "output_type": "stream",
          "name": "stdout",
          "text": [
            "Luke skywalker\n"
          ]
        }
      ],
      "source": [
        "# gambiarra para alterar um único caracter de um dado index de uma string\n",
        "nome = 'Luke skywalker'\n",
        "print(nome)"
      ]
    },
    {
      "cell_type": "code",
      "execution_count": 42,
      "metadata": {
        "id": "FEnx-OOIQmGt",
        "outputId": "84ce8923-f871-4d01-b3de-81351a958bd8",
        "colab": {
          "base_uri": "https://localhost:8080/",
          "height": 198
        }
      },
      "outputs": [
        {
          "output_type": "error",
          "ename": "TypeError",
          "evalue": "ignored",
          "traceback": [
            "\u001b[0;31m---------------------------------------------------------------------------\u001b[0m",
            "\u001b[0;31mTypeError\u001b[0m                                 Traceback (most recent call last)",
            "\u001b[0;32m<ipython-input-42-87c31c4f1b17>\u001b[0m in \u001b[0;36m<cell line: 2>\u001b[0;34m()\u001b[0m\n\u001b[1;32m      1\u001b[0m \u001b[0;31m# não dá pra fazer assim\u001b[0m\u001b[0;34m\u001b[0m\u001b[0;34m\u001b[0m\u001b[0m\n\u001b[0;32m----> 2\u001b[0;31m \u001b[0mnome\u001b[0m\u001b[0;34m[\u001b[0m\u001b[0;36m5\u001b[0m\u001b[0;34m]\u001b[0m \u001b[0;34m=\u001b[0m \u001b[0;34m'S'\u001b[0m\u001b[0;34m\u001b[0m\u001b[0;34m\u001b[0m\u001b[0m\n\u001b[0m",
            "\u001b[0;31mTypeError\u001b[0m: 'str' object does not support item assignment"
          ]
        }
      ],
      "source": [
        "# não dá pra fazer assim\n",
        "nome[5] = 'S'"
      ]
    },
    {
      "cell_type": "code",
      "execution_count": 43,
      "metadata": {
        "id": "C4s3SjZZQmGt",
        "outputId": "ae7d7400-8efb-4887-9d0d-84721cd85a03",
        "colab": {
          "base_uri": "https://localhost:8080/"
        }
      },
      "outputs": [
        {
          "output_type": "execute_result",
          "data": {
            "text/plain": [
              "['L', 'u', 'k', 'e', ' ', 's', 'k', 'y', 'w', 'a', 'l', 'k', 'e', 'r']"
            ]
          },
          "metadata": {},
          "execution_count": 43
        }
      ],
      "source": [
        "# o jeito de fazer, é convertendo a string para lista\n",
        "nome_como_lista = list(nome)\n",
        "nome_como_lista"
      ]
    },
    {
      "cell_type": "code",
      "execution_count": 44,
      "metadata": {
        "id": "DicWaDEGQmGu",
        "outputId": "801f5731-d3e2-4ed2-fd4c-2758c1110d85",
        "colab": {
          "base_uri": "https://localhost:8080/"
        }
      },
      "outputs": [
        {
          "output_type": "execute_result",
          "data": {
            "text/plain": [
              "['L', 'u', 'k', 'e', ' ', 'S', 'k', 'y', 'w', 'a', 'l', 'k', 'e', 'r']"
            ]
          },
          "metadata": {},
          "execution_count": 44
        }
      ],
      "source": [
        "# e ai sim, vai funcionar\n",
        "nome_como_lista[5] = 'S'\n",
        "nome_como_lista"
      ]
    },
    {
      "cell_type": "code",
      "execution_count": 45,
      "metadata": {
        "id": "wK9NMTroQmGu",
        "outputId": "3547cb2b-35e9-4d30-bdeb-e9daf115b41f",
        "colab": {
          "base_uri": "https://localhost:8080/",
          "height": 36
        }
      },
      "outputs": [
        {
          "output_type": "execute_result",
          "data": {
            "text/plain": [
              "'Luke Skywalker'"
            ],
            "application/vnd.google.colaboratory.intrinsic+json": {
              "type": "string"
            }
          },
          "metadata": {},
          "execution_count": 45
        }
      ],
      "source": [
        "# depois só juntar os caracteres\n",
        "''.join(nome_como_lista)"
      ]
    },
    {
      "cell_type": "markdown",
      "metadata": {
        "id": "JQh7-Qx6QmGv"
      },
      "source": [
        "`replace` substitui uma (sub)string específica com outra (sub)string específica."
      ]
    },
    {
      "cell_type": "code",
      "execution_count": 46,
      "metadata": {
        "id": "JsfPMi_FQmGv",
        "outputId": "82f54c61-c721-4412-d1cb-755413cd31db",
        "colab": {
          "base_uri": "https://localhost:8080/"
        }
      },
      "outputs": [
        {
          "output_type": "stream",
          "name": "stdout",
          "text": [
            "I like bananas\n"
          ]
        }
      ],
      "source": [
        "txt = \"I like bananas\"\n",
        "print(txt)"
      ]
    },
    {
      "cell_type": "code",
      "execution_count": 47,
      "metadata": {
        "id": "mne9u3ZLQmGw",
        "outputId": "23bdfaa7-31db-40a1-f21c-adb2668155b2",
        "colab": {
          "base_uri": "https://localhost:8080/"
        }
      },
      "outputs": [
        {
          "output_type": "stream",
          "name": "stdout",
          "text": [
            "I like bananas\n",
            "I like apples\n"
          ]
        }
      ],
      "source": [
        "# replace (\"quem eu quero substituir\", \"quem eu quero colocar no lugar\")\n",
        "novo_txt = txt.replace(\"bananas\", \"apples\")\n",
        "print(txt)\n",
        "print(novo_txt)"
      ]
    },
    {
      "cell_type": "markdown",
      "metadata": {
        "id": "ufl9Mk2mQmGw"
      },
      "source": [
        "#### Concatenando strings"
      ]
    },
    {
      "cell_type": "code",
      "execution_count": 48,
      "metadata": {
        "id": "r_Tkj6aRQmGx",
        "outputId": "20a6ab0b-0ddb-4d6d-903e-6a52e8483607",
        "colab": {
          "base_uri": "https://localhost:8080/"
        }
      },
      "outputs": [
        {
          "output_type": "stream",
          "name": "stdout",
          "text": [
            "~/documentos/arquivos\n",
            "imagem.png\n"
          ]
        }
      ],
      "source": [
        "print(diretorio)\n",
        "print(arquivo)"
      ]
    },
    {
      "cell_type": "code",
      "execution_count": 49,
      "metadata": {
        "id": "ve7zxhAKQmGx",
        "outputId": "1be78d44-61d0-4502-cb02-9d35d33f41c7",
        "colab": {
          "base_uri": "https://localhost:8080/"
        }
      },
      "outputs": [
        {
          "output_type": "stream",
          "name": "stdout",
          "text": [
            "~/documentos/arquivos/imagem.png\n"
          ]
        }
      ],
      "source": [
        "# no caso específico de manipulação de filenames,\n",
        "# o python fornece o módulo os.path para isso\n",
        "caminho_completo = diretorio + '/' + arquivo\n",
        "print(caminho_completo)"
      ]
    },
    {
      "cell_type": "code",
      "execution_count": 50,
      "metadata": {
        "id": "qS5Fe-2XQmGx",
        "outputId": "d89ca129-a745-4f53-8f76-b0b8e1fe5510",
        "colab": {
          "base_uri": "https://localhost:8080/",
          "height": 55
        }
      },
      "outputs": [
        {
          "output_type": "stream",
          "name": "stdout",
          "text": [
            "I like bananas\n"
          ]
        },
        {
          "output_type": "execute_result",
          "data": {
            "text/plain": [
              "'I like apples'"
            ],
            "application/vnd.google.colaboratory.intrinsic+json": {
              "type": "string"
            }
          },
          "metadata": {},
          "execution_count": 50
        }
      ],
      "source": [
        "# outras gambiarras\n",
        "print(txt)\n",
        "# usar slice\n",
        "txt[:7] + 'apples'"
      ]
    }
  ],
  "metadata": {
    "kernelspec": {
      "display_name": "Python 3",
      "language": "python",
      "name": "python3"
    },
    "language_info": {
      "codemirror_mode": {
        "name": "ipython",
        "version": 3
      },
      "file_extension": ".py",
      "mimetype": "text/x-python",
      "name": "python",
      "nbconvert_exporter": "python",
      "pygments_lexer": "ipython3",
      "version": "3.8.5"
    },
    "colab": {
      "provenance": [],
      "include_colab_link": true
    }
  },
  "nbformat": 4,
  "nbformat_minor": 0
}