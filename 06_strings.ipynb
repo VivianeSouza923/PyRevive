{
  "cells": [
    {
      "cell_type": "markdown",
      "metadata": {
        "id": "view-in-github",
        "colab_type": "text"
      },
      "source": [
        "<a href=\"https://colab.research.google.com/github/VivianeSouza923/PyRevive/blob/main/06_strings.ipynb\" target=\"_parent\"><img src=\"https://colab.research.google.com/assets/colab-badge.svg\" alt=\"Open In Colab\"/></a>"
      ]
    },
    {
      "cell_type": "markdown",
      "metadata": {
        "id": "VgrOwrC4QmGL"
      },
      "source": [
        "## **Python Essencial para Data Science**\n",
        "**Prof. Dr. Samuel Martins (@hisamuka @xavecoding)** <br/>\n",
        "xavecoding: https://youtube.com/c/xavecoding <br/><br/>\n",
        "\n",
        "<a rel=\"license\" href=\"http://creativecommons.org/licenses/by-nc-sa/4.0/\"><img alt=\"Creative Commons License\" style=\"border-width:0\" src=\"https://i.creativecommons.org/l/by-nc-sa/4.0/88x31.png\" /></a><br />This work is licensed under a <a rel=\"license\" href=\"http://creativecommons.org/licenses/by-nc-sa/4.0/\">Creative Commons Attribution-NonCommercial-ShareAlike 4.0 International License</a>."
      ]
    },
    {
      "cell_type": "markdown",
      "metadata": {
        "id": "04aUeBbeQmGO"
      },
      "source": [
        "## Strings"
      ]
    },
    {
      "cell_type": "markdown",
      "metadata": {
        "id": "kg94o4fWQmGP"
      },
      "source": [
        "#### Strings são também sequências"
      ]
    },
    {
      "cell_type": "code",
      "execution_count": 1,
      "metadata": {
        "colab": {
          "base_uri": "https://localhost:8080/"
        },
        "id": "FRSLYFkvQmGP",
        "outputId": "02df96c8-b5c5-4dbb-e644-eca7f25fc953"
      },
      "outputs": [
        {
          "output_type": "stream",
          "name": "stdout",
          "text": [
            "Luke skywalker\n",
            "Darth Vader\n"
          ]
        }
      ],
      "source": [
        "nome_1 = 'Luke skywalker'  # essa é a convenção da comunidade do Python\n",
        "nome_2 = \"Darth Vader\" # aqui botamos só para vermos que também conseguimos com aspas dupla, mas é mais usado a aspas simples, pois como dito é convenção da comunidade\n",
        "\n",
        "# prova de que dá certo em ambos os casos\n",
        "print(nome_1)\n",
        "print(nome_2)"
      ]
    },
    {
      "cell_type": "code",
      "execution_count": 2,
      "metadata": {
        "colab": {
          "base_uri": "https://localhost:8080/",
          "height": 35
        },
        "id": "JjKLXWdsQmGR",
        "outputId": "d88a0922-28eb-4e4d-88a0-89ac4f1f8c0d"
      },
      "outputs": [
        {
          "output_type": "execute_result",
          "data": {
            "text/plain": [
              "'k'"
            ],
            "application/vnd.google.colaboratory.intrinsic+json": {
              "type": "string"
            }
          },
          "metadata": {},
          "execution_count": 2
        }
      ],
      "source": [
        "nome_1[6]"
      ]
    },
    {
      "cell_type": "code",
      "execution_count": 3,
      "metadata": {
        "colab": {
          "base_uri": "https://localhost:8080/",
          "height": 35
        },
        "id": "Xtdl34dcQmGR",
        "outputId": "fb8cebac-d720-4950-8db4-555fdffc4d05"
      },
      "outputs": [
        {
          "output_type": "execute_result",
          "data": {
            "text/plain": [
              "'a'"
            ],
            "application/vnd.google.colaboratory.intrinsic+json": {
              "type": "string"
            }
          },
          "metadata": {},
          "execution_count": 3
        }
      ],
      "source": [
        "nome_1[9]"
      ]
    },
    {
      "cell_type": "code",
      "execution_count": 5,
      "metadata": {
        "colab": {
          "base_uri": "https://localhost:8080/",
          "height": 35
        },
        "id": "AGux707-QmGS",
        "outputId": "590633aa-8cf4-4725-ca9d-56412d9fe7c8"
      },
      "outputs": [
        {
          "output_type": "execute_result",
          "data": {
            "text/plain": [
              "'e'"
            ],
            "application/vnd.google.colaboratory.intrinsic+json": {
              "type": "string"
            }
          },
          "metadata": {},
          "execution_count": 5
        }
      ],
      "source": [
        "nome_1[-2]  # retorna o penúltimo caracter"
      ]
    },
    {
      "cell_type": "code",
      "execution_count": 6,
      "metadata": {
        "colab": {
          "base_uri": "https://localhost:8080/",
          "height": 35
        },
        "id": "qNMmuUyCQmGS",
        "outputId": "4499c148-cb20-40b1-ebe6-bb81bbc3e562"
      },
      "outputs": [
        {
          "output_type": "execute_result",
          "data": {
            "text/plain": [
              "'Luke s'"
            ],
            "application/vnd.google.colaboratory.intrinsic+json": {
              "type": "string"
            }
          },
          "metadata": {},
          "execution_count": 6
        }
      ],
      "source": [
        "nome_1[:6] # vai do início até o 6, sendo que o 6 é exclusivo"
      ]
    },
    {
      "cell_type": "code",
      "execution_count": 7,
      "metadata": {
        "colab": {
          "base_uri": "https://localhost:8080/"
        },
        "id": "P26YmklxQmGS",
        "outputId": "78888ba5-8493-4a26-9264-604037f7e558"
      },
      "outputs": [
        {
          "output_type": "execute_result",
          "data": {
            "text/plain": [
              "14"
            ]
          },
          "metadata": {},
          "execution_count": 7
        }
      ],
      "source": [
        "# quantos caracteres possui a string? Qual o tamanho da string?\n",
        "# usamos a função len() para isso\n",
        "len(nome_1)"
      ]
    },
    {
      "cell_type": "markdown",
      "metadata": {
        "id": "jf5glGjBQmGT"
      },
      "source": [
        "#### Strings são imutáveis"
      ]
    },
    {
      "cell_type": "code",
      "execution_count": 8,
      "metadata": {
        "id": "LpmyqLBYQmGU"
      },
      "outputs": [],
      "source": [
        "nome = 'Luke skywalker'"
      ]
    },
    {
      "cell_type": "code",
      "execution_count": 9,
      "metadata": {
        "colab": {
          "base_uri": "https://localhost:8080/",
          "height": 35
        },
        "id": "6Cez15dKQmGV",
        "outputId": "5ce1dbb9-8da6-416a-c3f4-de72c1ba3677"
      },
      "outputs": [
        {
          "output_type": "execute_result",
          "data": {
            "text/plain": [
              "'s'"
            ],
            "application/vnd.google.colaboratory.intrinsic+json": {
              "type": "string"
            }
          },
          "metadata": {},
          "execution_count": 9
        }
      ],
      "source": [
        "nome[5]"
      ]
    },
    {
      "cell_type": "code",
      "execution_count": 10,
      "metadata": {
        "colab": {
          "base_uri": "https://localhost:8080/",
          "height": 177
        },
        "id": "xDXx9IJYQmGV",
        "outputId": "22392375-5c5c-4e2f-df40-f3d5ecf224ad"
      },
      "outputs": [
        {
          "output_type": "error",
          "ename": "TypeError",
          "evalue": "ignored",
          "traceback": [
            "\u001b[0;31m---------------------------------------------------------------------------\u001b[0m",
            "\u001b[0;31mTypeError\u001b[0m                                 Traceback (most recent call last)",
            "\u001b[0;32m<ipython-input-10-ea996ec9f516>\u001b[0m in \u001b[0;36m<cell line: 1>\u001b[0;34m()\u001b[0m\n\u001b[0;32m----> 1\u001b[0;31m \u001b[0mnome\u001b[0m\u001b[0;34m[\u001b[0m\u001b[0;36m5\u001b[0m\u001b[0;34m]\u001b[0m \u001b[0;34m=\u001b[0m \u001b[0;34m'S'\u001b[0m\u001b[0;34m\u001b[0m\u001b[0;34m\u001b[0m\u001b[0m\n\u001b[0m",
            "\u001b[0;31mTypeError\u001b[0m: 'str' object does not support item assignment"
          ]
        }
      ],
      "source": [
        "nome[5] = 'S'"
      ]
    },
    {
      "cell_type": "markdown",
      "metadata": {
        "id": "3gB_1X3PQmGW"
      },
      "source": [
        "Para fazer a substituição de um caracter em uma posição específica, precisaremos fazer uma \"gambiarra\" que veremos jajá."
      ]
    },
    {
      "cell_type": "markdown",
      "metadata": {
        "id": "crkiGTOdQmGi"
      },
      "source": [
        "### Métodos de Strings"
      ]
    },
    {
      "cell_type": "markdown",
      "metadata": {
        "id": "qNjmp10GQmGj"
      },
      "source": [
        "`.upper()` retorna a string com todas as letras maiúscula"
      ]
    },
    {
      "cell_type": "code",
      "execution_count": 11,
      "metadata": {
        "colab": {
          "base_uri": "https://localhost:8080/",
          "height": 35
        },
        "id": "s5v0F1hIQmGk",
        "outputId": "195d5cdd-2cb1-4eb4-c4ca-eef56aba29f2"
      },
      "outputs": [
        {
          "output_type": "execute_result",
          "data": {
            "text/plain": [
              "'LUKE SKYWALKER'"
            ],
            "application/vnd.google.colaboratory.intrinsic+json": {
              "type": "string"
            }
          },
          "metadata": {},
          "execution_count": 11
        }
      ],
      "source": [
        "nome.upper()  # retorna uma cópia"
      ]
    },
    {
      "cell_type": "code",
      "execution_count": 12,
      "metadata": {
        "colab": {
          "base_uri": "https://localhost:8080/",
          "height": 35
        },
        "id": "LZo0HICuQmGk",
        "outputId": "add40571-897a-4f6f-d8a4-1c05b2c8342d"
      },
      "outputs": [
        {
          "output_type": "execute_result",
          "data": {
            "text/plain": [
              "'Luke skywalker'"
            ],
            "application/vnd.google.colaboratory.intrinsic+json": {
              "type": "string"
            }
          },
          "metadata": {},
          "execution_count": 12
        }
      ],
      "source": [
        "nome"
      ]
    },
    {
      "cell_type": "code",
      "execution_count": 13,
      "metadata": {
        "colab": {
          "base_uri": "https://localhost:8080/"
        },
        "id": "kjjAdUu6QmGl",
        "outputId": "a534d952-60b6-4d82-bd2c-8940963aa308"
      },
      "outputs": [
        {
          "output_type": "stream",
          "name": "stdout",
          "text": [
            "Luke skywalker\n",
            "LUKE SKYWALKER\n"
          ]
        }
      ],
      "source": [
        "nome_maiscula = nome.upper()\n",
        "print(nome)\n",
        "print(nome_maiscula)"
      ]
    },
    {
      "cell_type": "markdown",
      "metadata": {
        "id": "JbCwn0L3QmGl"
      },
      "source": [
        "`.lower()` retorna a string com todas as letras minúsculas"
      ]
    },
    {
      "cell_type": "code",
      "execution_count": 14,
      "metadata": {
        "colab": {
          "base_uri": "https://localhost:8080/"
        },
        "id": "nEJSRzS0QmGl",
        "outputId": "57fffd1c-78e1-46d7-c4c6-7f7abd8023a6"
      },
      "outputs": [
        {
          "output_type": "stream",
          "name": "stdout",
          "text": [
            "Luke skywalker\n",
            "luke skywalker\n"
          ]
        }
      ],
      "source": [
        "nome_minuscula = nome.lower()\n",
        "print(nome)\n",
        "print(nome_minuscula)"
      ]
    },
    {
      "cell_type": "code",
      "execution_count": 15,
      "metadata": {
        "colab": {
          "base_uri": "https://localhost:8080/"
        },
        "id": "oJuwEzHpQmGm",
        "outputId": "8c4efe4e-2cae-4aae-b169-b030cb5a9794"
      },
      "outputs": [
        {
          "output_type": "stream",
          "name": "stdout",
          "text": [
            "LUKE SKYWALKER\n",
            "luke skywalker\n"
          ]
        }
      ],
      "source": [
        "nome_de_maiscula_para_minuscula = nome_maiscula.lower()\n",
        "print(nome_maiscula)\n",
        "print(nome_de_maiscula_para_minuscula)"
      ]
    },
    {
      "cell_type": "markdown",
      "metadata": {
        "id": "p_U5vNxbQmGm"
      },
      "source": [
        "`str.startswith(substring)` checa se a string `str` começa com a substring `substring`."
      ]
    },
    {
      "cell_type": "code",
      "execution_count": null,
      "metadata": {
        "id": "H8IT7qGKQmGm",
        "outputId": "2a016b7e-ec9a-489f-b1b2-b372f82efe50"
      },
      "outputs": [
        {
          "name": "stdout",
          "output_type": "stream",
          "text": [
            "Luke skywalker\n",
            "LUKE SKYWALKER\n",
            "luke skywalker\n"
          ]
        }
      ],
      "source": [
        "# CONTINUAAAAR\n",
        "print(nome)\n",
        "print(nome_maiscula)\n",
        "print(nome_minuscula)"
      ]
    },
    {
      "cell_type": "code",
      "execution_count": null,
      "metadata": {
        "id": "CMdyJ1lQQmGn",
        "outputId": "86bc4cf1-53b4-45ae-eaf9-444940736385"
      },
      "outputs": [
        {
          "data": {
            "text/plain": [
              "True"
            ]
          },
          "execution_count": 21,
          "metadata": {},
          "output_type": "execute_result"
        }
      ],
      "source": [
        "nome.startswith('Luke')"
      ]
    },
    {
      "cell_type": "code",
      "execution_count": null,
      "metadata": {
        "id": "8oO-dRtMQmGn",
        "outputId": "8ed31699-2f97-4a6f-ed64-5cd7e762fd43"
      },
      "outputs": [
        {
          "data": {
            "text/plain": [
              "False"
            ]
          },
          "execution_count": 22,
          "metadata": {},
          "output_type": "execute_result"
        }
      ],
      "source": [
        "nome.startswith('LUKE')"
      ]
    },
    {
      "cell_type": "code",
      "execution_count": null,
      "metadata": {
        "id": "pi2B9E1nQmGn",
        "outputId": "1fa0821f-78e3-4fc0-a90c-14ace9283753"
      },
      "outputs": [
        {
          "data": {
            "text/plain": [
              "True"
            ]
          },
          "execution_count": 23,
          "metadata": {},
          "output_type": "execute_result"
        }
      ],
      "source": [
        "nome_maiscula.startswith('LUKE')"
      ]
    },
    {
      "cell_type": "markdown",
      "metadata": {
        "id": "onXSVqgFQmGn"
      },
      "source": [
        "`str.endswith(substring)` checa se a string `str` termina com a substring `substring`."
      ]
    },
    {
      "cell_type": "code",
      "execution_count": null,
      "metadata": {
        "id": "pxwLVbeGQmGo",
        "outputId": "5d2fadff-2e49-4b1e-8193-6bbacb7b6626"
      },
      "outputs": [
        {
          "name": "stdout",
          "output_type": "stream",
          "text": [
            "Luke skywalker\n",
            "LUKE SKYWALKER\n",
            "luke skywalker\n"
          ]
        }
      ],
      "source": [
        "print(nome)\n",
        "print(nome_maiscula)\n",
        "print(nome_minuscula)"
      ]
    },
    {
      "cell_type": "code",
      "execution_count": null,
      "metadata": {
        "id": "MoMY1RcDQmGo",
        "outputId": "9da84764-c39f-4dd9-a904-ea24a4891d68"
      },
      "outputs": [
        {
          "data": {
            "text/plain": [
              "True"
            ]
          },
          "execution_count": 25,
          "metadata": {},
          "output_type": "execute_result"
        }
      ],
      "source": [
        "nome.endswith('r')"
      ]
    },
    {
      "cell_type": "code",
      "execution_count": null,
      "metadata": {
        "id": "aXYE_z_SQmGo",
        "outputId": "57cfef37-97ed-4b98-92aa-3cc9d9626c0a"
      },
      "outputs": [
        {
          "data": {
            "text/plain": [
              "True"
            ]
          },
          "execution_count": 26,
          "metadata": {},
          "output_type": "execute_result"
        }
      ],
      "source": [
        "nome.endswith('walker')"
      ]
    },
    {
      "cell_type": "code",
      "execution_count": null,
      "metadata": {
        "id": "-a_JQNZcQmGo",
        "outputId": "093baab2-7c90-4b90-94bf-0de5f005d366"
      },
      "outputs": [
        {
          "data": {
            "text/plain": [
              "False"
            ]
          },
          "execution_count": 27,
          "metadata": {},
          "output_type": "execute_result"
        }
      ],
      "source": [
        "nome.endswith('WALKER')"
      ]
    },
    {
      "cell_type": "code",
      "execution_count": null,
      "metadata": {
        "id": "HiHTLvJLQmGp",
        "outputId": "b68ccb9c-fcfb-4fd9-fe6a-dbd895178a85"
      },
      "outputs": [
        {
          "data": {
            "text/plain": [
              "True"
            ]
          },
          "execution_count": 29,
          "metadata": {},
          "output_type": "execute_result"
        }
      ],
      "source": [
        "nome_maiscula.endswith('WALKER')"
      ]
    },
    {
      "cell_type": "code",
      "execution_count": null,
      "metadata": {
        "id": "kNxzKRBRQmGp",
        "outputId": "7efcfdb1-bb29-4eb9-e8b1-a941d900637d"
      },
      "outputs": [
        {
          "name": "stdout",
          "output_type": "stream",
          "text": [
            "É uma imagem png\n"
          ]
        }
      ],
      "source": [
        "arquivo = 'imagem.png'\n",
        "\n",
        "# checar se a extensão do arquivo é .png\n",
        "if arquivo.endswith('.png'):\n",
        "    print('É uma imagem png')\n",
        "else:\n",
        "    print('O arquivo não é PNG')"
      ]
    },
    {
      "cell_type": "code",
      "execution_count": null,
      "metadata": {
        "id": "gXiUYgSXQmGq",
        "outputId": "781c7f99-1804-4e6d-81bb-8b882006f3d9"
      },
      "outputs": [
        {
          "name": "stdout",
          "output_type": "stream",
          "text": [
            "É uma imagem png\n"
          ]
        }
      ],
      "source": [
        "arquivo = 'imagem.PNG'\n",
        "\n",
        "# checar se a extensão do arquivo é .png\n",
        "# if arquivo.endswith('.png') or arquivo.endswith('.PNG'):\n",
        "if arquivo.upper().endswith('.PNG'):\n",
        "    print('É uma imagem png')\n",
        "else:\n",
        "    print('O arquivo não é PNG')"
      ]
    },
    {
      "cell_type": "code",
      "execution_count": null,
      "metadata": {
        "id": "nwHM-E0qQmGq",
        "outputId": "12423fb1-8e89-4bd3-ebb2-e7b351e84163"
      },
      "outputs": [
        {
          "name": "stdout",
          "output_type": "stream",
          "text": [
            "É uma imagem png\n"
          ]
        }
      ],
      "source": [
        "arquivo = 'imagem.png'\n",
        "\n",
        "# checar se a extensão do arquivo é .png\n",
        "# if arquivo.endswith('.png') or arquivo.endswith('.PNG'):\n",
        "if arquivo.upper().endswith('.PNG'):\n",
        "    print('É uma imagem png')\n",
        "else:\n",
        "    print('O arquivo não é PNG')"
      ]
    },
    {
      "cell_type": "markdown",
      "metadata": {
        "id": "tEwoAb6_QmGr"
      },
      "source": [
        "`string.split(substring)` divide uma string, a partir de uma substring passada, retorna uma lista com as divisões."
      ]
    },
    {
      "cell_type": "code",
      "execution_count": null,
      "metadata": {
        "id": "-R9woe0IQmGr",
        "outputId": "67177fe9-03f4-4f18-f652-00b452b91c09"
      },
      "outputs": [
        {
          "name": "stdout",
          "output_type": "stream",
          "text": [
            "['~', 'documentos', 'arquivos']\n"
          ]
        }
      ],
      "source": [
        "diretorio = '~/documentos/arquivos'\n",
        "\n",
        "subdiretorios = diretorio.split('/')\n",
        "print(subdiretorios)"
      ]
    },
    {
      "cell_type": "code",
      "execution_count": null,
      "metadata": {
        "id": "iWW6xc2uQmGr",
        "outputId": "b29dd2d9-5f62-4918-a9cc-273bef0b041e"
      },
      "outputs": [
        {
          "data": {
            "text/plain": [
              "'imagem'"
            ]
          },
          "execution_count": 38,
          "metadata": {},
          "output_type": "execute_result"
        }
      ],
      "source": [
        "arquivo = 'imagem.png'\n",
        "filename_sem_extensao = arquivo.split('.png')[0]\n",
        "filename_sem_extensao"
      ]
    },
    {
      "cell_type": "code",
      "execution_count": null,
      "metadata": {
        "id": "L9DMMkGwQmGs",
        "outputId": "aaf5ae76-fc08-4d94-857b-01cc9596891d"
      },
      "outputs": [
        {
          "data": {
            "text/plain": [
              "['imagem.png']"
            ]
          },
          "execution_count": 39,
          "metadata": {},
          "output_type": "execute_result"
        }
      ],
      "source": [
        "arquivo.split('.jpeg')"
      ]
    },
    {
      "cell_type": "markdown",
      "metadata": {
        "id": "uk9EJi4WQmGs"
      },
      "source": [
        "`join` junta uma lista de strings, a partir de uma substring."
      ]
    },
    {
      "cell_type": "code",
      "execution_count": null,
      "metadata": {
        "id": "vTUIFfYmQmGt",
        "outputId": "acb44aad-67c2-40b7-840a-1423dcfa8ebf"
      },
      "outputs": [
        {
          "name": "stdout",
          "output_type": "stream",
          "text": [
            "['~', 'documentos', 'arquivos']\n",
            "~/documentos/arquivos\n"
          ]
        }
      ],
      "source": [
        "print(subdiretorios)\n",
        "diretorio_completo = '/'.join(subdiretorios)\n",
        "print(diretorio_completo)"
      ]
    },
    {
      "cell_type": "code",
      "execution_count": null,
      "metadata": {
        "id": "ELixUEUxQmGt",
        "outputId": "b3ec18a7-817c-4af2-acc7-be14740d39b2"
      },
      "outputs": [
        {
          "name": "stdout",
          "output_type": "stream",
          "text": [
            "Luke skywalker\n"
          ]
        }
      ],
      "source": [
        "# gambiarra para alterar um único caracter de um dado index de uma string\n",
        "nome = 'Luke skywalker'\n",
        "print(nome)"
      ]
    },
    {
      "cell_type": "code",
      "execution_count": null,
      "metadata": {
        "id": "FEnx-OOIQmGt",
        "outputId": "2df9450c-6ab5-4b6b-c9dc-c6f2a6a2225a"
      },
      "outputs": [
        {
          "ename": "TypeError",
          "evalue": "'str' object does not support item assignment",
          "output_type": "error",
          "traceback": [
            "\u001b[0;31m---------------------------------------------------------------------\u001b[0m",
            "\u001b[0;31mTypeError\u001b[0m                           Traceback (most recent call last)",
            "\u001b[0;32m<ipython-input-49-ea996ec9f516>\u001b[0m in \u001b[0;36m<module>\u001b[0;34m\u001b[0m\n\u001b[0;32m----> 1\u001b[0;31m \u001b[0mnome\u001b[0m\u001b[0;34m[\u001b[0m\u001b[0;36m5\u001b[0m\u001b[0;34m]\u001b[0m \u001b[0;34m=\u001b[0m \u001b[0;34m'S'\u001b[0m\u001b[0;34m\u001b[0m\u001b[0;34m\u001b[0m\u001b[0m\n\u001b[0m",
            "\u001b[0;31mTypeError\u001b[0m: 'str' object does not support item assignment"
          ]
        }
      ],
      "source": [
        "nome[5] = 'S'"
      ]
    },
    {
      "cell_type": "code",
      "execution_count": null,
      "metadata": {
        "id": "C4s3SjZZQmGt",
        "outputId": "af40b352-03f5-45b9-98bb-0eb09db71008"
      },
      "outputs": [
        {
          "data": {
            "text/plain": [
              "['L', 'u', 'k', 'e', ' ', 's', 'k', 'y', 'w', 'a', 'l', 'k', 'e', 'r']"
            ]
          },
          "execution_count": 51,
          "metadata": {},
          "output_type": "execute_result"
        }
      ],
      "source": [
        "nome_como_lista = list(nome)\n",
        "nome_como_lista"
      ]
    },
    {
      "cell_type": "code",
      "execution_count": null,
      "metadata": {
        "id": "DicWaDEGQmGu",
        "outputId": "8cab5c28-3ed9-4f35-8cbe-85c36b6dfda9"
      },
      "outputs": [
        {
          "data": {
            "text/plain": [
              "['L', 'u', 'k', 'e', ' ', 'S', 'k', 'y', 'w', 'a', 'l', 'k', 'e', 'r']"
            ]
          },
          "execution_count": 53,
          "metadata": {},
          "output_type": "execute_result"
        }
      ],
      "source": [
        "nome_como_lista[5] = 'S'\n",
        "nome_como_lista"
      ]
    },
    {
      "cell_type": "code",
      "execution_count": null,
      "metadata": {
        "id": "wK9NMTroQmGu",
        "outputId": "232c1c47-dd0a-4e63-b9f5-3ca1c928ba4f"
      },
      "outputs": [
        {
          "data": {
            "text/plain": [
              "'Luke Skywalker'"
            ]
          },
          "execution_count": 58,
          "metadata": {},
          "output_type": "execute_result"
        }
      ],
      "source": [
        "''.join(nome_como_lista)"
      ]
    },
    {
      "cell_type": "markdown",
      "metadata": {
        "id": "JQh7-Qx6QmGv"
      },
      "source": [
        "`replace` substitui uma (sub)string específica com outra (sub)string específica."
      ]
    },
    {
      "cell_type": "code",
      "execution_count": null,
      "metadata": {
        "id": "JsfPMi_FQmGv",
        "outputId": "9fed7bb2-78fc-417e-b5d7-84600b472c24"
      },
      "outputs": [
        {
          "name": "stdout",
          "output_type": "stream",
          "text": [
            "I like bananas\n"
          ]
        }
      ],
      "source": [
        "txt = \"I like bananas\"\n",
        "print(txt)"
      ]
    },
    {
      "cell_type": "code",
      "execution_count": null,
      "metadata": {
        "id": "mne9u3ZLQmGw",
        "outputId": "0faac2c3-4db5-4653-fc2c-115916aad72d"
      },
      "outputs": [
        {
          "name": "stdout",
          "output_type": "stream",
          "text": [
            "I like bananas\n",
            "I like apples\n"
          ]
        }
      ],
      "source": [
        "novo_txt = txt.replace(\"bananas\", \"apples\")\n",
        "print(txt)\n",
        "print(novo_txt)"
      ]
    },
    {
      "cell_type": "markdown",
      "metadata": {
        "id": "ufl9Mk2mQmGw"
      },
      "source": [
        "#### Concatenando strings"
      ]
    },
    {
      "cell_type": "code",
      "execution_count": null,
      "metadata": {
        "id": "r_Tkj6aRQmGx",
        "outputId": "5f3b4eef-ef88-438e-9474-ffff35475d52"
      },
      "outputs": [
        {
          "name": "stdout",
          "output_type": "stream",
          "text": [
            "~/documentos/arquivos\n",
            "imagem.png\n"
          ]
        }
      ],
      "source": [
        "print(diretorio)\n",
        "print(arquivo)"
      ]
    },
    {
      "cell_type": "code",
      "execution_count": null,
      "metadata": {
        "id": "ve7zxhAKQmGx",
        "outputId": "293bc314-02a8-4870-e290-19e7a27348a0"
      },
      "outputs": [
        {
          "name": "stdout",
          "output_type": "stream",
          "text": [
            "~/documentos/arquivos/imagem.png\n"
          ]
        }
      ],
      "source": [
        "# no caso específico de manipulação de filenames,\n",
        "# o python fornece o módulo os.path para isso\n",
        "caminho_completo = diretorio + '/' + arquivo\n",
        "print(caminho_completo)"
      ]
    },
    {
      "cell_type": "code",
      "execution_count": null,
      "metadata": {
        "id": "qS5Fe-2XQmGx",
        "outputId": "a358728c-22da-424d-d594-58bbaddcd16b"
      },
      "outputs": [
        {
          "name": "stdout",
          "output_type": "stream",
          "text": [
            "I like bananas\n"
          ]
        },
        {
          "data": {
            "text/plain": [
              "'I like apples'"
            ]
          },
          "execution_count": 67,
          "metadata": {},
          "output_type": "execute_result"
        }
      ],
      "source": [
        "# outras gambiarras\n",
        "print(txt)\n",
        "txt[:7] + 'apples'"
      ]
    }
  ],
  "metadata": {
    "kernelspec": {
      "display_name": "Python 3",
      "language": "python",
      "name": "python3"
    },
    "language_info": {
      "codemirror_mode": {
        "name": "ipython",
        "version": 3
      },
      "file_extension": ".py",
      "mimetype": "text/x-python",
      "name": "python",
      "nbconvert_exporter": "python",
      "pygments_lexer": "ipython3",
      "version": "3.8.5"
    },
    "colab": {
      "provenance": [],
      "include_colab_link": true
    }
  },
  "nbformat": 4,
  "nbformat_minor": 0
}