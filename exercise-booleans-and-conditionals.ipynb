{
 "cells": [
  {
   "cell_type": "markdown",
   "id": "254bed81",
   "metadata": {
    "papermill": {
     "duration": 0.011591,
     "end_time": "2023-07-20T23:03:46.274994",
     "exception": false,
     "start_time": "2023-07-20T23:03:46.263403",
     "status": "completed"
    },
    "tags": []
   },
   "source": [
    "**This notebook is an exercise in the [Python](https://www.kaggle.com/learn/python) course.  You can reference the tutorial at [this link](https://www.kaggle.com/colinmorris/booleans-and-conditionals).**\n",
    "\n",
    "---\n"
   ]
  },
  {
   "cell_type": "markdown",
   "id": "c91d696e",
   "metadata": {
    "papermill": {
     "duration": 0.011532,
     "end_time": "2023-07-20T23:03:46.298249",
     "exception": false,
     "start_time": "2023-07-20T23:03:46.286717",
     "status": "completed"
    },
    "tags": []
   },
   "source": [
    "In this exercise, you'll put to work what you have learned about booleans and conditionals.\n",
    "\n",
    "To get started, **run the setup code below** before writing your own code (and if you leave this notebook and come back later, don't forget to run the setup code again)."
   ]
  },
  {
   "cell_type": "code",
   "execution_count": 1,
   "id": "e5b3037e",
   "metadata": {
    "execution": {
     "iopub.execute_input": "2023-07-20T23:03:46.322553Z",
     "iopub.status.busy": "2023-07-20T23:03:46.322152Z",
     "iopub.status.idle": "2023-07-20T23:03:46.373800Z",
     "shell.execute_reply": "2023-07-20T23:03:46.372672Z"
    },
    "papermill": {
     "duration": 0.066923,
     "end_time": "2023-07-20T23:03:46.376468",
     "exception": false,
     "start_time": "2023-07-20T23:03:46.309545",
     "status": "completed"
    },
    "tags": []
   },
   "outputs": [
    {
     "name": "stdout",
     "output_type": "stream",
     "text": [
      "Setup complete.\n"
     ]
    }
   ],
   "source": [
    "from learntools.core import binder; binder.bind(globals())\n",
    "from learntools.python.ex3 import *\n",
    "print('Setup complete.')"
   ]
  },
  {
   "cell_type": "markdown",
   "id": "2eef81a7",
   "metadata": {
    "papermill": {
     "duration": 0.010872,
     "end_time": "2023-07-20T23:03:46.399299",
     "exception": false,
     "start_time": "2023-07-20T23:03:46.388427",
     "status": "completed"
    },
    "tags": []
   },
   "source": [
    "# 1.\n",
    "\n",
    "Many programming languages have [`sign`](https://en.wikipedia.org/wiki/Sign_function) available as a built-in function. Python doesn't, but we can define our own!\n",
    "\n",
    "In the cell below, define a function called `sign` which takes a numerical argument and returns -1 if it's negative, 1 if it's positive, and 0 if it's 0."
   ]
  },
  {
   "cell_type": "code",
   "execution_count": 2,
   "id": "bcb62e2f",
   "metadata": {
    "execution": {
     "iopub.execute_input": "2023-07-20T23:03:46.425266Z",
     "iopub.status.busy": "2023-07-20T23:03:46.424872Z",
     "iopub.status.idle": "2023-07-20T23:03:46.435726Z",
     "shell.execute_reply": "2023-07-20T23:03:46.434618Z"
    },
    "papermill": {
     "duration": 0.026174,
     "end_time": "2023-07-20T23:03:46.438338",
     "exception": false,
     "start_time": "2023-07-20T23:03:46.412164",
     "status": "completed"
    },
    "tags": []
   },
   "outputs": [
    {
     "data": {
      "application/javascript": [
       "parent.postMessage({\"jupyterEvent\": \"custom.exercise_interaction\", \"data\": {\"outcomeType\": 1, \"valueTowardsCompletion\": 0.2, \"interactionType\": 1, \"questionType\": 2, \"questionId\": \"1_SignFunctionProblem\", \"learnToolsVersion\": \"0.3.4\", \"failureMessage\": \"\", \"exceptionClass\": \"\", \"trace\": \"\"}}, \"*\")"
      ],
      "text/plain": [
       "<IPython.core.display.Javascript object>"
      ]
     },
     "metadata": {},
     "output_type": "display_data"
    },
    {
     "data": {
      "text/markdown": [
       "<span style=\"color:#33cc33\">Correct</span>"
      ],
      "text/plain": [
       "Correct"
      ]
     },
     "metadata": {},
     "output_type": "display_data"
    }
   ],
   "source": [
    "def sign(num):\n",
    "    if(num<0):\n",
    "        return -1\n",
    "    elif(num==0):\n",
    "        return 0\n",
    "    else:\n",
    "        return 1\n",
    "\n",
    "\n",
    "# Check your answer\n",
    "q1.check()"
   ]
  },
  {
   "cell_type": "code",
   "execution_count": 3,
   "id": "75701701",
   "metadata": {
    "execution": {
     "iopub.execute_input": "2023-07-20T23:03:46.465535Z",
     "iopub.status.busy": "2023-07-20T23:03:46.465166Z",
     "iopub.status.idle": "2023-07-20T23:03:46.474185Z",
     "shell.execute_reply": "2023-07-20T23:03:46.473079Z"
    },
    "papermill": {
     "duration": 0.026508,
     "end_time": "2023-07-20T23:03:46.476512",
     "exception": false,
     "start_time": "2023-07-20T23:03:46.450004",
     "status": "completed"
    },
    "tags": []
   },
   "outputs": [
    {
     "data": {
      "application/javascript": [
       "parent.postMessage({\"jupyterEvent\": \"custom.exercise_interaction\", \"data\": {\"interactionType\": 3, \"questionType\": 2, \"questionId\": \"1_SignFunctionProblem\", \"learnToolsVersion\": \"0.3.4\", \"valueTowardsCompletion\": 0.0, \"failureMessage\": \"\", \"exceptionClass\": \"\", \"trace\": \"\", \"outcomeType\": 4}}, \"*\")"
      ],
      "text/plain": [
       "<IPython.core.display.Javascript object>"
      ]
     },
     "metadata": {},
     "output_type": "display_data"
    },
    {
     "data": {
      "text/markdown": [
       "<span style=\"color:#33cc99\">Solution:</span> \n",
       "```python\n",
       "def sign(x):\n",
       "    if x > 0:\n",
       "        return 1\n",
       "    elif x < 0:\n",
       "        return -1\n",
       "    else:\n",
       "        return 0\n",
       "```"
      ],
      "text/plain": [
       "Solution: \n",
       "```python\n",
       "def sign(x):\n",
       "    if x > 0:\n",
       "        return 1\n",
       "    elif x < 0:\n",
       "        return -1\n",
       "    else:\n",
       "        return 0\n",
       "```"
      ]
     },
     "metadata": {},
     "output_type": "display_data"
    }
   ],
   "source": [
    "q1.solution()"
   ]
  },
  {
   "cell_type": "markdown",
   "id": "2989e6e2",
   "metadata": {
    "papermill": {
     "duration": 0.011588,
     "end_time": "2023-07-20T23:03:46.500220",
     "exception": false,
     "start_time": "2023-07-20T23:03:46.488632",
     "status": "completed"
    },
    "tags": []
   },
   "source": [
    "# 2.\n",
    "\n",
    "We've decided to add \"logging\" to our `to_smash` function from the previous exercise."
   ]
  },
  {
   "cell_type": "code",
   "execution_count": 4,
   "id": "b2101198",
   "metadata": {
    "execution": {
     "iopub.execute_input": "2023-07-20T23:03:46.525678Z",
     "iopub.status.busy": "2023-07-20T23:03:46.525305Z",
     "iopub.status.idle": "2023-07-20T23:03:46.534226Z",
     "shell.execute_reply": "2023-07-20T23:03:46.532742Z"
    },
    "papermill": {
     "duration": 0.024869,
     "end_time": "2023-07-20T23:03:46.536947",
     "exception": false,
     "start_time": "2023-07-20T23:03:46.512078",
     "status": "completed"
    },
    "tags": []
   },
   "outputs": [
    {
     "name": "stdout",
     "output_type": "stream",
     "text": [
      "Splitting 91 candies\n"
     ]
    },
    {
     "data": {
      "text/plain": [
       "1"
      ]
     },
     "execution_count": 4,
     "metadata": {},
     "output_type": "execute_result"
    }
   ],
   "source": [
    "def to_smash(total_candies):\n",
    "    \"\"\"Return the number of leftover candies that must be smashed after distributing\n",
    "    the given number of candies evenly between 3 friends.\n",
    "    \n",
    "    >>> to_smash(91)\n",
    "    1\n",
    "    \"\"\"\n",
    "    print(\"Splitting\", total_candies, \"candies\")\n",
    "    return total_candies % 3\n",
    "\n",
    "to_smash(91)"
   ]
  },
  {
   "cell_type": "markdown",
   "id": "8776343f",
   "metadata": {
    "papermill": {
     "duration": 0.011813,
     "end_time": "2023-07-20T23:03:46.561555",
     "exception": false,
     "start_time": "2023-07-20T23:03:46.549742",
     "status": "completed"
    },
    "tags": []
   },
   "source": [
    "What happens if we call it with `total_candies = 1`?"
   ]
  },
  {
   "cell_type": "code",
   "execution_count": 5,
   "id": "225672b0",
   "metadata": {
    "execution": {
     "iopub.execute_input": "2023-07-20T23:03:46.588021Z",
     "iopub.status.busy": "2023-07-20T23:03:46.587603Z",
     "iopub.status.idle": "2023-07-20T23:03:46.594645Z",
     "shell.execute_reply": "2023-07-20T23:03:46.593677Z"
    },
    "papermill": {
     "duration": 0.023101,
     "end_time": "2023-07-20T23:03:46.596875",
     "exception": false,
     "start_time": "2023-07-20T23:03:46.573774",
     "status": "completed"
    },
    "tags": []
   },
   "outputs": [
    {
     "name": "stdout",
     "output_type": "stream",
     "text": [
      "Splitting 1 candies\n"
     ]
    },
    {
     "data": {
      "text/plain": [
       "1"
      ]
     },
     "execution_count": 5,
     "metadata": {},
     "output_type": "execute_result"
    }
   ],
   "source": [
    "to_smash(1)"
   ]
  },
  {
   "cell_type": "markdown",
   "id": "f1fb4777",
   "metadata": {
    "papermill": {
     "duration": 0.012075,
     "end_time": "2023-07-20T23:03:46.621383",
     "exception": false,
     "start_time": "2023-07-20T23:03:46.609308",
     "status": "completed"
    },
    "tags": []
   },
   "source": [
    "That isn't great grammar!\n",
    "\n",
    "Modify the definition in the cell below to correct the grammar of our print statement. (If there's only one candy, we should use the singular \"candy\" instead of the plural \"candies\")"
   ]
  },
  {
   "cell_type": "code",
   "execution_count": 6,
   "id": "06e7de7e",
   "metadata": {
    "execution": {
     "iopub.execute_input": "2023-07-20T23:03:46.648573Z",
     "iopub.status.busy": "2023-07-20T23:03:46.648179Z",
     "iopub.status.idle": "2023-07-20T23:03:46.660693Z",
     "shell.execute_reply": "2023-07-20T23:03:46.659248Z"
    },
    "papermill": {
     "duration": 0.029243,
     "end_time": "2023-07-20T23:03:46.663413",
     "exception": false,
     "start_time": "2023-07-20T23:03:46.634170",
     "status": "completed"
    },
    "tags": []
   },
   "outputs": [
    {
     "name": "stdout",
     "output_type": "stream",
     "text": [
      "Splitting 91 candies\n",
      "Splitting 1 candy\n"
     ]
    },
    {
     "data": {
      "text/plain": [
       "1"
      ]
     },
     "execution_count": 6,
     "metadata": {},
     "output_type": "execute_result"
    }
   ],
   "source": [
    "def to_smash(total_candies):\n",
    "    \"\"\"Return the number of leftover candies that must be smashed after distributing\n",
    "    the given number of candies evenly between 3 friends.\n",
    "    \n",
    "    >>> to_smash(91)\n",
    "    1\n",
    "    \"\"\"\n",
    "    if total_candies < 2:\n",
    "        print(\"Splitting\", total_candies, \"candy\")\n",
    "    else:\n",
    "            print(\"Splitting\", total_candies, \"candies\")\n",
    "    return total_candies % 3\n",
    "\n",
    "to_smash(91)\n",
    "to_smash(1)"
   ]
  },
  {
   "cell_type": "markdown",
   "id": "ac5f6901",
   "metadata": {
    "papermill": {
     "duration": 0.012213,
     "end_time": "2023-07-20T23:03:46.688323",
     "exception": false,
     "start_time": "2023-07-20T23:03:46.676110",
     "status": "completed"
    },
    "tags": []
   },
   "source": [
    "To get credit for completing this problem, and to see the official answer, run the code cell below."
   ]
  },
  {
   "cell_type": "code",
   "execution_count": 7,
   "id": "2d3811a9",
   "metadata": {
    "execution": {
     "iopub.execute_input": "2023-07-20T23:03:46.715089Z",
     "iopub.status.busy": "2023-07-20T23:03:46.714527Z",
     "iopub.status.idle": "2023-07-20T23:03:46.724372Z",
     "shell.execute_reply": "2023-07-20T23:03:46.723234Z"
    },
    "papermill": {
     "duration": 0.025855,
     "end_time": "2023-07-20T23:03:46.726749",
     "exception": false,
     "start_time": "2023-07-20T23:03:46.700894",
     "status": "completed"
    },
    "tags": []
   },
   "outputs": [
    {
     "data": {
      "application/javascript": [
       "parent.postMessage({\"jupyterEvent\": \"custom.exercise_interaction\", \"data\": {\"interactionType\": 3, \"questionType\": 4, \"questionId\": \"2_PluralizationProblem\", \"learnToolsVersion\": \"0.3.4\", \"valueTowardsCompletion\": 0.0, \"failureMessage\": \"\", \"exceptionClass\": \"\", \"trace\": \"\", \"outcomeType\": 4}}, \"*\")"
      ],
      "text/plain": [
       "<IPython.core.display.Javascript object>"
      ]
     },
     "metadata": {},
     "output_type": "display_data"
    },
    {
     "data": {
      "text/markdown": [
       "<span style=\"color:#33cc99\">Solution:</span> A straightforward (and totally fine) solution is to replace the original `print` call with:\n",
       "\n",
       "```python\n",
       "if total_candies == 1:\n",
       "    print(\"Splitting 1 candy\")\n",
       "else:\n",
       "    print(\"Splitting\", total_candies, \"candies\")\n",
       "```\n",
       "\n",
       "Here's a slightly more succinct solution using a conditional expression:\n",
       "\n",
       "```python\n",
       "print(\"Splitting\", total_candies, \"candy\" if total_candies == 1 else \"candies\")\n",
       "```"
      ],
      "text/plain": [
       "Solution: A straightforward (and totally fine) solution is to replace the original `print` call with:\n",
       "\n",
       "```python\n",
       "if total_candies == 1:\n",
       "    print(\"Splitting 1 candy\")\n",
       "else:\n",
       "    print(\"Splitting\", total_candies, \"candies\")\n",
       "```\n",
       "\n",
       "Here's a slightly more succinct solution using a conditional expression:\n",
       "\n",
       "```python\n",
       "print(\"Splitting\", total_candies, \"candy\" if total_candies == 1 else \"candies\")\n",
       "```"
      ]
     },
     "metadata": {},
     "output_type": "display_data"
    }
   ],
   "source": [
    "# Check your answer (Run this code cell to receive credit!)\n",
    "q2.solution()"
   ]
  },
  {
   "cell_type": "markdown",
   "id": "f2ca5bd1",
   "metadata": {
    "papermill": {
     "duration": 0.013226,
     "end_time": "2023-07-20T23:03:46.753608",
     "exception": false,
     "start_time": "2023-07-20T23:03:46.740382",
     "status": "completed"
    },
    "tags": []
   },
   "source": [
    "# 3. <span title=\"A bit spicy\" style=\"color: darkgreen \">🌶️</span>\n",
    "\n",
    "In the tutorial, we talked about deciding whether we're prepared for the weather. I said that I'm safe from today's weather if...\n",
    "- I have an umbrella...\n",
    "- or if the rain isn't too heavy and I have a hood...\n",
    "- otherwise, I'm still fine unless it's raining *and* it's a workday\n",
    "\n",
    "The function below uses our first attempt at turning this logic into a Python expression. I claimed that there was a bug in that code. Can you find it?\n",
    "\n",
    "To prove that `prepared_for_weather` is buggy, come up with a set of inputs where either:\n",
    "- the function returns `False` (but should have returned `True`), or\n",
    "- the function returned `True` (but should have returned `False`).\n",
    "\n",
    "To get credit for completing this question, your code should return a <font color='#33cc33'>Correct</font> result."
   ]
  },
  {
   "cell_type": "code",
   "execution_count": 8,
   "id": "3b1a2170",
   "metadata": {
    "execution": {
     "iopub.execute_input": "2023-07-20T23:03:46.781531Z",
     "iopub.status.busy": "2023-07-20T23:03:46.781158Z",
     "iopub.status.idle": "2023-07-20T23:03:46.792303Z",
     "shell.execute_reply": "2023-07-20T23:03:46.791503Z"
    },
    "papermill": {
     "duration": 0.027701,
     "end_time": "2023-07-20T23:03:46.794402",
     "exception": false,
     "start_time": "2023-07-20T23:03:46.766701",
     "status": "completed"
    },
    "tags": []
   },
   "outputs": [
    {
     "name": "stdout",
     "output_type": "stream",
     "text": [
      "False\n"
     ]
    },
    {
     "data": {
      "application/javascript": [
       "parent.postMessage({\"jupyterEvent\": \"custom.exercise_interaction\", \"data\": {\"outcomeType\": 1, \"valueTowardsCompletion\": 0.2, \"interactionType\": 1, \"questionType\": 1, \"questionId\": \"3_WeatherDebug\", \"learnToolsVersion\": \"0.3.4\", \"failureMessage\": \"\", \"exceptionClass\": \"\", \"trace\": \"\"}}, \"*\")"
      ],
      "text/plain": [
       "<IPython.core.display.Javascript object>"
      ]
     },
     "metadata": {},
     "output_type": "display_data"
    },
    {
     "data": {
      "text/markdown": [
       "<span style=\"color:#33cc33\">Correct:</span> \n",
       "\n",
       "One example of a failing test case is:\n",
       "\n",
       "```python\n",
       "have_umbrella = False\n",
       "rain_level = 0.0\n",
       "have_hood = False\n",
       "is_workday = False\n",
       "```\n",
       "\n",
       "Clearly we're prepared for the weather in this case. It's not raining. Not only that, it's not a workday, so we don't even need to leave the house! But our function will return False on these inputs.\n",
       "\n",
       "The key problem is that Python implictly parenthesizes the last part as:\n",
       "\n",
       "```python\n",
       "(not (rain_level > 0)) and is_workday\n",
       "```\n",
       "\n",
       "Whereas what we were trying to express would look more like:\n",
       "\n",
       "```python\n",
       "not (rain_level > 0 and is_workday)\n",
       "```\n"
      ],
      "text/plain": [
       "Correct: \n",
       "\n",
       "One example of a failing test case is:\n",
       "\n",
       "```python\n",
       "have_umbrella = False\n",
       "rain_level = 0.0\n",
       "have_hood = False\n",
       "is_workday = False\n",
       "```\n",
       "\n",
       "Clearly we're prepared for the weather in this case. It's not raining. Not only that, it's not a workday, so we don't even need to leave the house! But our function will return False on these inputs.\n",
       "\n",
       "The key problem is that Python implictly parenthesizes the last part as:\n",
       "\n",
       "```python\n",
       "(not (rain_level > 0)) and is_workday\n",
       "```\n",
       "\n",
       "Whereas what we were trying to express would look more like:\n",
       "\n",
       "```python\n",
       "not (rain_level > 0 and is_workday)\n",
       "```"
      ]
     },
     "metadata": {},
     "output_type": "display_data"
    }
   ],
   "source": [
    "def prepared_for_weather(have_umbrella, rain_level, have_hood, is_workday):\n",
    "    # Don't change this code. Our goal is just to find the bug, not fix it!\n",
    "    return have_umbrella or rain_level < 5 and have_hood or not rain_level > 0 and is_workday\n",
    "\n",
    "# Change the values of these inputs so they represent a case where prepared_for_weather\n",
    "# returns the wrong answer.\n",
    "have_umbrella = False\n",
    "rain_level = 10.0\n",
    "have_hood = True\n",
    "is_workday = False\n",
    "\n",
    "# Check what the function returns given the current values of the variables above\n",
    "actual = prepared_for_weather(have_umbrella, rain_level, have_hood, is_workday)\n",
    "print(actual)\n",
    "\n",
    "# Check your answer\n",
    "q3.check()"
   ]
  },
  {
   "cell_type": "code",
   "execution_count": 9,
   "id": "d88a9d24",
   "metadata": {
    "execution": {
     "iopub.execute_input": "2023-07-20T23:03:46.823145Z",
     "iopub.status.busy": "2023-07-20T23:03:46.822711Z",
     "iopub.status.idle": "2023-07-20T23:03:46.834476Z",
     "shell.execute_reply": "2023-07-20T23:03:46.833734Z"
    },
    "papermill": {
     "duration": 0.028606,
     "end_time": "2023-07-20T23:03:46.836575",
     "exception": false,
     "start_time": "2023-07-20T23:03:46.807969",
     "status": "completed"
    },
    "tags": []
   },
   "outputs": [
    {
     "data": {
      "application/javascript": [
       "parent.postMessage({\"jupyterEvent\": \"custom.exercise_interaction\", \"data\": {\"interactionType\": 2, \"questionType\": 1, \"questionId\": \"3_WeatherDebug\", \"learnToolsVersion\": \"0.3.4\", \"valueTowardsCompletion\": 0.0, \"failureMessage\": \"\", \"exceptionClass\": \"\", \"trace\": \"\", \"outcomeType\": 4}}, \"*\")"
      ],
      "text/plain": [
       "<IPython.core.display.Javascript object>"
      ]
     },
     "metadata": {},
     "output_type": "display_data"
    },
    {
     "data": {
      "text/markdown": [
       "<span style=\"color:#3366cc\">Hint:</span> Take a look at how we fixed our original expression in the main lesson. We added parentheses around certain subexpressions. The bug in this code is caused by Python evaluating certain operations in the \"wrong\" order."
      ],
      "text/plain": [
       "Hint: Take a look at how we fixed our original expression in the main lesson. We added parentheses around certain subexpressions. The bug in this code is caused by Python evaluating certain operations in the \"wrong\" order."
      ]
     },
     "metadata": {},
     "output_type": "display_data"
    },
    {
     "data": {
      "application/javascript": [
       "parent.postMessage({\"jupyterEvent\": \"custom.exercise_interaction\", \"data\": {\"interactionType\": 3, \"questionType\": 1, \"questionId\": \"3_WeatherDebug\", \"learnToolsVersion\": \"0.3.4\", \"valueTowardsCompletion\": 0.0, \"failureMessage\": \"\", \"exceptionClass\": \"\", \"trace\": \"\", \"outcomeType\": 4}}, \"*\")"
      ],
      "text/plain": [
       "<IPython.core.display.Javascript object>"
      ]
     },
     "metadata": {},
     "output_type": "display_data"
    },
    {
     "data": {
      "text/markdown": [
       "<span style=\"color:#33cc99\">Solution:</span> One example of a failing test case is:\n",
       "\n",
       "```python\n",
       "have_umbrella = False\n",
       "rain_level = 0.0\n",
       "have_hood = False\n",
       "is_workday = False\n",
       "```\n",
       "\n",
       "Clearly we're prepared for the weather in this case. It's not raining. Not only that, it's not a workday, so we don't even need to leave the house! But our function will return False on these inputs.\n",
       "\n",
       "The key problem is that Python implictly parenthesizes the last part as:\n",
       "\n",
       "```python\n",
       "(not (rain_level > 0)) and is_workday\n",
       "```\n",
       "\n",
       "Whereas what we were trying to express would look more like:\n",
       "\n",
       "```python\n",
       "not (rain_level > 0 and is_workday)\n",
       "```\n"
      ],
      "text/plain": [
       "Solution: One example of a failing test case is:\n",
       "\n",
       "```python\n",
       "have_umbrella = False\n",
       "rain_level = 0.0\n",
       "have_hood = False\n",
       "is_workday = False\n",
       "```\n",
       "\n",
       "Clearly we're prepared for the weather in this case. It's not raining. Not only that, it's not a workday, so we don't even need to leave the house! But our function will return False on these inputs.\n",
       "\n",
       "The key problem is that Python implictly parenthesizes the last part as:\n",
       "\n",
       "```python\n",
       "(not (rain_level > 0)) and is_workday\n",
       "```\n",
       "\n",
       "Whereas what we were trying to express would look more like:\n",
       "\n",
       "```python\n",
       "not (rain_level > 0 and is_workday)\n",
       "```"
      ]
     },
     "metadata": {},
     "output_type": "display_data"
    }
   ],
   "source": [
    "q3.hint()\n",
    "q3.solution()"
   ]
  },
  {
   "cell_type": "markdown",
   "id": "b1ccfa4e",
   "metadata": {
    "papermill": {
     "duration": 0.013875,
     "end_time": "2023-07-20T23:03:46.864740",
     "exception": false,
     "start_time": "2023-07-20T23:03:46.850865",
     "status": "completed"
    },
    "tags": []
   },
   "source": [
    "# 4.\n",
    "\n",
    "The function `is_negative` below is implemented correctly - it returns True if the given number is negative and False otherwise.\n",
    "\n",
    "However, it's more verbose than it needs to be. We can actually reduce the number of lines of code in this function by *75%* while keeping the same behaviour. \n",
    "\n",
    "See if you can come up with an equivalent body that uses just **one line** of code, and put it in the function `concise_is_negative`. (HINT: you don't even need Python's ternary syntax)"
   ]
  },
  {
   "cell_type": "code",
   "execution_count": 10,
   "id": "f5e32e1d",
   "metadata": {
    "execution": {
     "iopub.execute_input": "2023-07-20T23:03:46.895039Z",
     "iopub.status.busy": "2023-07-20T23:03:46.894660Z",
     "iopub.status.idle": "2023-07-20T23:03:46.903797Z",
     "shell.execute_reply": "2023-07-20T23:03:46.903004Z"
    },
    "papermill": {
     "duration": 0.027425,
     "end_time": "2023-07-20T23:03:46.906200",
     "exception": false,
     "start_time": "2023-07-20T23:03:46.878775",
     "status": "completed"
    },
    "tags": []
   },
   "outputs": [
    {
     "data": {
      "application/javascript": [
       "parent.postMessage({\"jupyterEvent\": \"custom.exercise_interaction\", \"data\": {\"outcomeType\": 1, \"valueTowardsCompletion\": 0.2, \"interactionType\": 1, \"questionType\": 2, \"questionId\": \"4_ConciseIsNegative\", \"learnToolsVersion\": \"0.3.4\", \"failureMessage\": \"\", \"exceptionClass\": \"\", \"trace\": \"\"}}, \"*\")"
      ],
      "text/plain": [
       "<IPython.core.display.Javascript object>"
      ]
     },
     "metadata": {},
     "output_type": "display_data"
    },
    {
     "data": {
      "text/markdown": [
       "<span style=\"color:#33cc33\">Correct</span>"
      ],
      "text/plain": [
       "Correct"
      ]
     },
     "metadata": {},
     "output_type": "display_data"
    }
   ],
   "source": [
    "def is_negative(number):\n",
    "    if number < 0:\n",
    "        return True\n",
    "    else:\n",
    "        return False\n",
    "\n",
    "def concise_is_negative(number):\n",
    "    return number < 0\n",
    "\n",
    "# Check your answer\n",
    "q4.check()"
   ]
  },
  {
   "cell_type": "code",
   "execution_count": 11,
   "id": "bcac25f8",
   "metadata": {
    "execution": {
     "iopub.execute_input": "2023-07-20T23:03:46.937218Z",
     "iopub.status.busy": "2023-07-20T23:03:46.936827Z",
     "iopub.status.idle": "2023-07-20T23:03:46.950101Z",
     "shell.execute_reply": "2023-07-20T23:03:46.948876Z"
    },
    "papermill": {
     "duration": 0.031742,
     "end_time": "2023-07-20T23:03:46.952476",
     "exception": false,
     "start_time": "2023-07-20T23:03:46.920734",
     "status": "completed"
    },
    "tags": []
   },
   "outputs": [
    {
     "data": {
      "application/javascript": [
       "parent.postMessage({\"jupyterEvent\": \"custom.exercise_interaction\", \"data\": {\"interactionType\": 2, \"questionType\": 2, \"questionId\": \"4_ConciseIsNegative\", \"learnToolsVersion\": \"0.3.4\", \"valueTowardsCompletion\": 0.0, \"failureMessage\": \"\", \"exceptionClass\": \"\", \"trace\": \"\", \"outcomeType\": 4}}, \"*\")"
      ],
      "text/plain": [
       "<IPython.core.display.Javascript object>"
      ]
     },
     "metadata": {},
     "output_type": "display_data"
    },
    {
     "data": {
      "text/markdown": [
       "<span style=\"color:#3366cc\">Hint:</span> If the value of the expression `number < 0` is `True`, then we return `True`. If it's `False`, then we return `False`..."
      ],
      "text/plain": [
       "Hint: If the value of the expression `number < 0` is `True`, then we return `True`. If it's `False`, then we return `False`..."
      ]
     },
     "metadata": {},
     "output_type": "display_data"
    },
    {
     "data": {
      "application/javascript": [
       "parent.postMessage({\"jupyterEvent\": \"custom.exercise_interaction\", \"data\": {\"interactionType\": 3, \"questionType\": 2, \"questionId\": \"4_ConciseIsNegative\", \"learnToolsVersion\": \"0.3.4\", \"valueTowardsCompletion\": 0.0, \"failureMessage\": \"\", \"exceptionClass\": \"\", \"trace\": \"\", \"outcomeType\": 4}}, \"*\")"
      ],
      "text/plain": [
       "<IPython.core.display.Javascript object>"
      ]
     },
     "metadata": {},
     "output_type": "display_data"
    },
    {
     "data": {
      "text/markdown": [
       "<span style=\"color:#33cc99\">Solution:</span> \n",
       "```python\n",
       "return number < 0\n",
       "```"
      ],
      "text/plain": [
       "Solution: \n",
       "```python\n",
       "return number < 0\n",
       "```"
      ]
     },
     "metadata": {},
     "output_type": "display_data"
    }
   ],
   "source": [
    "q4.hint()\n",
    "q4.solution()"
   ]
  },
  {
   "cell_type": "markdown",
   "id": "74803d67",
   "metadata": {
    "papermill": {
     "duration": 0.015512,
     "end_time": "2023-07-20T23:03:46.983456",
     "exception": false,
     "start_time": "2023-07-20T23:03:46.967944",
     "status": "completed"
    },
    "tags": []
   },
   "source": [
    "# 5a.\n",
    "\n",
    "The boolean variables `ketchup`, `mustard` and `onion` represent whether a customer wants a particular topping on their hot dog. We want to implement a number of boolean functions that correspond to some yes-or-no questions about the customer's order. For example:"
   ]
  },
  {
   "cell_type": "code",
   "execution_count": 12,
   "id": "dd1165ad",
   "metadata": {
    "execution": {
     "iopub.execute_input": "2023-07-20T23:03:47.016908Z",
     "iopub.status.busy": "2023-07-20T23:03:47.015754Z",
     "iopub.status.idle": "2023-07-20T23:03:47.020604Z",
     "shell.execute_reply": "2023-07-20T23:03:47.019867Z"
    },
    "papermill": {
     "duration": 0.023299,
     "end_time": "2023-07-20T23:03:47.022578",
     "exception": false,
     "start_time": "2023-07-20T23:03:46.999279",
     "status": "completed"
    },
    "tags": []
   },
   "outputs": [],
   "source": [
    "def onionless(ketchup, mustard, onion):\n",
    "    \"\"\"Return whether the customer doesn't want onions.\n",
    "    \"\"\"\n",
    "    return not onion"
   ]
  },
  {
   "cell_type": "code",
   "execution_count": 13,
   "id": "714ff4a4",
   "metadata": {
    "execution": {
     "iopub.execute_input": "2023-07-20T23:03:47.055223Z",
     "iopub.status.busy": "2023-07-20T23:03:47.054859Z",
     "iopub.status.idle": "2023-07-20T23:03:47.062778Z",
     "shell.execute_reply": "2023-07-20T23:03:47.061750Z"
    },
    "papermill": {
     "duration": 0.026656,
     "end_time": "2023-07-20T23:03:47.064809",
     "exception": false,
     "start_time": "2023-07-20T23:03:47.038153",
     "status": "completed"
    },
    "tags": []
   },
   "outputs": [
    {
     "data": {
      "application/javascript": [
       "parent.postMessage({\"jupyterEvent\": \"custom.exercise_interaction\", \"data\": {\"outcomeType\": 4, \"interactionType\": 1, \"questionType\": 2, \"questionId\": \"5.1_AllToppings\", \"learnToolsVersion\": \"0.3.4\", \"valueTowardsCompletion\": 0.0, \"failureMessage\": \"\", \"exceptionClass\": \"\", \"trace\": \"\"}}, \"*\")"
      ],
      "text/plain": [
       "<IPython.core.display.Javascript object>"
      ]
     },
     "metadata": {},
     "output_type": "display_data"
    },
    {
     "data": {
      "text/markdown": [
       "<span style=\"color:#ccaa33\">Check:</span> When you've updated the starter code, `check()` will tell you whether your code is correct. "
      ],
      "text/plain": [
       "Check: When you've updated the starter code, `check()` will tell you whether your code is correct. "
      ]
     },
     "metadata": {},
     "output_type": "display_data"
    }
   ],
   "source": [
    "def wants_all_toppings(ketchup, mustard, onion):\n",
    "    \"\"\"Return whether the customer wants \"the works\" (all 3 toppings)\n",
    "    \"\"\"\n",
    "    pass\n",
    "\n",
    "# Check your answer\n",
    "q5.a.check()"
   ]
  },
  {
   "cell_type": "code",
   "execution_count": 14,
   "id": "5ff56421",
   "metadata": {
    "execution": {
     "iopub.execute_input": "2023-07-20T23:03:47.098161Z",
     "iopub.status.busy": "2023-07-20T23:03:47.097714Z",
     "iopub.status.idle": "2023-07-20T23:03:47.103052Z",
     "shell.execute_reply": "2023-07-20T23:03:47.101932Z"
    },
    "papermill": {
     "duration": 0.024718,
     "end_time": "2023-07-20T23:03:47.105233",
     "exception": false,
     "start_time": "2023-07-20T23:03:47.080515",
     "status": "completed"
    },
    "tags": []
   },
   "outputs": [],
   "source": [
    "#q5.a.hint()\n",
    "#q5.a.solution()"
   ]
  },
  {
   "cell_type": "markdown",
   "id": "461a3514",
   "metadata": {
    "papermill": {
     "duration": 0.015336,
     "end_time": "2023-07-20T23:03:47.136280",
     "exception": false,
     "start_time": "2023-07-20T23:03:47.120944",
     "status": "completed"
    },
    "tags": []
   },
   "source": [
    "# 5b.\n",
    "\n",
    "For the next function, fill in the body to match the English description in the docstring. "
   ]
  },
  {
   "cell_type": "code",
   "execution_count": 15,
   "id": "4281436a",
   "metadata": {
    "execution": {
     "iopub.execute_input": "2023-07-20T23:03:47.169412Z",
     "iopub.status.busy": "2023-07-20T23:03:47.168988Z",
     "iopub.status.idle": "2023-07-20T23:03:47.179240Z",
     "shell.execute_reply": "2023-07-20T23:03:47.178115Z"
    },
    "papermill": {
     "duration": 0.029639,
     "end_time": "2023-07-20T23:03:47.181571",
     "exception": false,
     "start_time": "2023-07-20T23:03:47.151932",
     "status": "completed"
    },
    "tags": []
   },
   "outputs": [
    {
     "data": {
      "application/javascript": [
       "parent.postMessage({\"jupyterEvent\": \"custom.exercise_interaction\", \"data\": {\"outcomeType\": 4, \"interactionType\": 1, \"questionType\": 2, \"questionId\": \"5.2_PlainDog\", \"learnToolsVersion\": \"0.3.4\", \"valueTowardsCompletion\": 0.0, \"failureMessage\": \"\", \"exceptionClass\": \"\", \"trace\": \"\"}}, \"*\")"
      ],
      "text/plain": [
       "<IPython.core.display.Javascript object>"
      ]
     },
     "metadata": {},
     "output_type": "display_data"
    },
    {
     "data": {
      "text/markdown": [
       "<span style=\"color:#ccaa33\">Check:</span> When you've updated the starter code, `check()` will tell you whether your code is correct. "
      ],
      "text/plain": [
       "Check: When you've updated the starter code, `check()` will tell you whether your code is correct. "
      ]
     },
     "metadata": {},
     "output_type": "display_data"
    }
   ],
   "source": [
    "def wants_plain_hotdog(ketchup, mustard, onion):\n",
    "    \"\"\"Return whether the customer wants a plain hot dog with no toppings.\n",
    "    \"\"\"\n",
    "    pass\n",
    "\n",
    "# Check your answer\n",
    "q5.b.check()"
   ]
  },
  {
   "cell_type": "code",
   "execution_count": 16,
   "id": "79e1b9a4",
   "metadata": {
    "execution": {
     "iopub.execute_input": "2023-07-20T23:03:47.215754Z",
     "iopub.status.busy": "2023-07-20T23:03:47.215348Z",
     "iopub.status.idle": "2023-07-20T23:03:47.220332Z",
     "shell.execute_reply": "2023-07-20T23:03:47.219090Z"
    },
    "papermill": {
     "duration": 0.024722,
     "end_time": "2023-07-20T23:03:47.222657",
     "exception": false,
     "start_time": "2023-07-20T23:03:47.197935",
     "status": "completed"
    },
    "tags": []
   },
   "outputs": [],
   "source": [
    "#q5.b.hint()\n",
    "#q5.b.solution()"
   ]
  },
  {
   "cell_type": "markdown",
   "id": "e8a0773c",
   "metadata": {
    "papermill": {
     "duration": 0.015861,
     "end_time": "2023-07-20T23:03:47.255124",
     "exception": false,
     "start_time": "2023-07-20T23:03:47.239263",
     "status": "completed"
    },
    "tags": []
   },
   "source": [
    "# 5c.\n",
    "\n",
    "You know what to do: for the next function, fill in the body to match the English description in the docstring."
   ]
  },
  {
   "cell_type": "code",
   "execution_count": 17,
   "id": "7ed7dafc",
   "metadata": {
    "execution": {
     "iopub.execute_input": "2023-07-20T23:03:47.289585Z",
     "iopub.status.busy": "2023-07-20T23:03:47.289179Z",
     "iopub.status.idle": "2023-07-20T23:03:47.298179Z",
     "shell.execute_reply": "2023-07-20T23:03:47.297355Z"
    },
    "papermill": {
     "duration": 0.02866,
     "end_time": "2023-07-20T23:03:47.300304",
     "exception": false,
     "start_time": "2023-07-20T23:03:47.271644",
     "status": "completed"
    },
    "tags": []
   },
   "outputs": [
    {
     "data": {
      "application/javascript": [
       "parent.postMessage({\"jupyterEvent\": \"custom.exercise_interaction\", \"data\": {\"outcomeType\": 4, \"interactionType\": 1, \"questionType\": 2, \"questionId\": \"5.3_OneSauce\", \"learnToolsVersion\": \"0.3.4\", \"valueTowardsCompletion\": 0.0, \"failureMessage\": \"\", \"exceptionClass\": \"\", \"trace\": \"\"}}, \"*\")"
      ],
      "text/plain": [
       "<IPython.core.display.Javascript object>"
      ]
     },
     "metadata": {},
     "output_type": "display_data"
    },
    {
     "data": {
      "text/markdown": [
       "<span style=\"color:#ccaa33\">Check:</span> When you've updated the starter code, `check()` will tell you whether your code is correct. "
      ],
      "text/plain": [
       "Check: When you've updated the starter code, `check()` will tell you whether your code is correct. "
      ]
     },
     "metadata": {},
     "output_type": "display_data"
    }
   ],
   "source": [
    "def exactly_one_sauce(ketchup, mustard, onion):\n",
    "    \"\"\"Return whether the customer wants either ketchup or mustard, but not both.\n",
    "    (You may be familiar with this operation under the name \"exclusive or\")\n",
    "    \"\"\"\n",
    "    pass\n",
    "\n",
    "# Check your answer\n",
    "q5.c.check()"
   ]
  },
  {
   "cell_type": "code",
   "execution_count": 18,
   "id": "95ee9c7b",
   "metadata": {
    "execution": {
     "iopub.execute_input": "2023-07-20T23:03:47.335584Z",
     "iopub.status.busy": "2023-07-20T23:03:47.335216Z",
     "iopub.status.idle": "2023-07-20T23:03:47.339371Z",
     "shell.execute_reply": "2023-07-20T23:03:47.338310Z"
    },
    "papermill": {
     "duration": 0.02473,
     "end_time": "2023-07-20T23:03:47.341907",
     "exception": false,
     "start_time": "2023-07-20T23:03:47.317177",
     "status": "completed"
    },
    "tags": []
   },
   "outputs": [],
   "source": [
    "#q5.c.hint()\n",
    "#q5.c.solution()"
   ]
  },
  {
   "cell_type": "markdown",
   "id": "23ad38a0",
   "metadata": {
    "papermill": {
     "duration": 0.016099,
     "end_time": "2023-07-20T23:03:47.374569",
     "exception": false,
     "start_time": "2023-07-20T23:03:47.358470",
     "status": "completed"
    },
    "tags": []
   },
   "source": [
    "# 6. <span title=\"A bit spicy\" style=\"color: darkgreen \">🌶️</span>\n",
    "\n",
    "We’ve seen that calling `bool()` on an integer returns `False` if it’s equal to 0 and `True` otherwise. What happens if we call `int()` on a bool? Try it out in the notebook cell below.\n",
    "\n",
    "Can you take advantage of this to write a succinct function that corresponds to the English sentence \"does the customer want exactly one topping?\"?"
   ]
  },
  {
   "cell_type": "code",
   "execution_count": 19,
   "id": "13b0f8a4",
   "metadata": {
    "execution": {
     "iopub.execute_input": "2023-07-20T23:03:47.409508Z",
     "iopub.status.busy": "2023-07-20T23:03:47.409139Z",
     "iopub.status.idle": "2023-07-20T23:03:47.417979Z",
     "shell.execute_reply": "2023-07-20T23:03:47.416907Z"
    },
    "papermill": {
     "duration": 0.029254,
     "end_time": "2023-07-20T23:03:47.420304",
     "exception": false,
     "start_time": "2023-07-20T23:03:47.391050",
     "status": "completed"
    },
    "tags": []
   },
   "outputs": [
    {
     "data": {
      "application/javascript": [
       "parent.postMessage({\"jupyterEvent\": \"custom.exercise_interaction\", \"data\": {\"outcomeType\": 4, \"interactionType\": 1, \"questionType\": 2, \"questionId\": \"6_OneTopping\", \"learnToolsVersion\": \"0.3.4\", \"valueTowardsCompletion\": 0.0, \"failureMessage\": \"\", \"exceptionClass\": \"\", \"trace\": \"\"}}, \"*\")"
      ],
      "text/plain": [
       "<IPython.core.display.Javascript object>"
      ]
     },
     "metadata": {},
     "output_type": "display_data"
    },
    {
     "data": {
      "text/markdown": [
       "<span style=\"color:#ccaa33\">Check:</span> When you've updated the starter code, `check()` will tell you whether your code is correct. "
      ],
      "text/plain": [
       "Check: When you've updated the starter code, `check()` will tell you whether your code is correct. "
      ]
     },
     "metadata": {},
     "output_type": "display_data"
    }
   ],
   "source": [
    "def exactly_one_topping(ketchup, mustard, onion):\n",
    "    \"\"\"Return whether the customer wants exactly one of the three available toppings\n",
    "    on their hot dog.\n",
    "    \"\"\"\n",
    "    pass\n",
    "\n",
    "# Check your answer\n",
    "q6.check()"
   ]
  },
  {
   "cell_type": "code",
   "execution_count": 20,
   "id": "0810bcb2",
   "metadata": {
    "execution": {
     "iopub.execute_input": "2023-07-20T23:03:47.456116Z",
     "iopub.status.busy": "2023-07-20T23:03:47.455693Z",
     "iopub.status.idle": "2023-07-20T23:03:47.460728Z",
     "shell.execute_reply": "2023-07-20T23:03:47.458724Z"
    },
    "papermill": {
     "duration": 0.0262,
     "end_time": "2023-07-20T23:03:47.463478",
     "exception": false,
     "start_time": "2023-07-20T23:03:47.437278",
     "status": "completed"
    },
    "tags": []
   },
   "outputs": [],
   "source": [
    "#q6.hint()\n",
    "#q6.solution()"
   ]
  },
  {
   "cell_type": "markdown",
   "id": "bf869072",
   "metadata": {
    "papermill": {
     "duration": 0.016569,
     "end_time": "2023-07-20T23:03:47.497127",
     "exception": false,
     "start_time": "2023-07-20T23:03:47.480558",
     "status": "completed"
    },
    "tags": []
   },
   "source": [
    "# 7. <span title=\"A bit spicy\" style=\"color: darkgreen \">🌶️</span> (Optional)\n",
    "\n",
    "In this problem we'll be working with a simplified version of [blackjack](https://en.wikipedia.org/wiki/Blackjack) (aka twenty-one). In this version there is one player (who you'll control) and a dealer. Play proceeds as follows:\n",
    "\n",
    "- The player is dealt two face-up cards. The dealer is dealt one face-up card.\n",
    "- The player may ask to be dealt another card ('hit') as many times as they wish. If the sum of their cards exceeds 21, they lose the round immediately.\n",
    "- The dealer then deals additional cards to himself until either:\n",
    "    - the sum of the dealer's cards exceeds 21, in which case the player wins the round\n",
    "    - the sum of the dealer's cards is greater than or equal to 17. If the player's total is greater than the dealer's, the player wins. Otherwise, the dealer wins (even in case of a tie).\n",
    "    \n",
    "When calculating the sum of cards, Jack, Queen, and King count for 10. Aces can count as 1 or 11 (when referring to a player's \"total\" above, we mean the largest total that can be made without exceeding 21. So e.g. A+8 = 19, A+8+8 = 17)\n",
    "\n",
    "For this problem, you'll write a function representing the player's decision-making strategy in this game. We've provided a very unintelligent implementation below:"
   ]
  },
  {
   "cell_type": "code",
   "execution_count": 21,
   "id": "0e40a039",
   "metadata": {
    "execution": {
     "iopub.execute_input": "2023-07-20T23:03:47.533437Z",
     "iopub.status.busy": "2023-07-20T23:03:47.532788Z",
     "iopub.status.idle": "2023-07-20T23:03:47.538225Z",
     "shell.execute_reply": "2023-07-20T23:03:47.537453Z"
    },
    "papermill": {
     "duration": 0.026291,
     "end_time": "2023-07-20T23:03:47.540423",
     "exception": false,
     "start_time": "2023-07-20T23:03:47.514132",
     "status": "completed"
    },
    "tags": []
   },
   "outputs": [],
   "source": [
    "def should_hit(dealer_total, player_total, player_low_aces, player_high_aces):\n",
    "    \"\"\"Return True if the player should hit (request another card) given the current game\n",
    "    state, or False if the player should stay.\n",
    "    When calculating a hand's total value, we count aces as \"high\" (with value 11) if doing so\n",
    "    doesn't bring the total above 21, otherwise we count them as low (with value 1). \n",
    "    For example, if the player's hand is {A, A, A, 7}, we will count it as 11 + 1 + 1 + 7,\n",
    "    and therefore set player_total=20, player_low_aces=2, player_high_aces=1.\n",
    "    \"\"\"\n",
    "    return False"
   ]
  },
  {
   "cell_type": "markdown",
   "id": "912b07de",
   "metadata": {
    "papermill": {
     "duration": 0.016808,
     "end_time": "2023-07-20T23:03:47.574687",
     "exception": false,
     "start_time": "2023-07-20T23:03:47.557879",
     "status": "completed"
    },
    "tags": []
   },
   "source": [
    "This very conservative agent *always* sticks with the hand of two cards that they're dealt.\n",
    "\n",
    "We'll be simulating games between your player agent and our own dealer agent by calling your function.\n",
    "\n",
    "Try running the function below to see an example of a simulated game:"
   ]
  },
  {
   "cell_type": "code",
   "execution_count": 22,
   "id": "8589d89c",
   "metadata": {
    "execution": {
     "iopub.execute_input": "2023-07-20T23:03:47.611080Z",
     "iopub.status.busy": "2023-07-20T23:03:47.610403Z",
     "iopub.status.idle": "2023-07-20T23:03:47.616391Z",
     "shell.execute_reply": "2023-07-20T23:03:47.615280Z"
    },
    "papermill": {
     "duration": 0.02716,
     "end_time": "2023-07-20T23:03:47.618815",
     "exception": false,
     "start_time": "2023-07-20T23:03:47.591655",
     "status": "completed"
    },
    "tags": []
   },
   "outputs": [
    {
     "name": "stdout",
     "output_type": "stream",
     "text": [
      "Player starts with 8 and J (total = 18)\n",
      "Dealer starts with 10\n",
      "\n",
      "__Player's turn__\n",
      "Player stays\n",
      "\n",
      "__Dealer's turn__\n",
      "Dealer hits and receives 5. (total = 15)\n",
      "Dealer hits and receives J. (total = 25)\n",
      "Dealer busts! Player wins.\n"
     ]
    }
   ],
   "source": [
    "q7.simulate_one_game()"
   ]
  },
  {
   "cell_type": "markdown",
   "id": "4d9029e4",
   "metadata": {
    "papermill": {
     "duration": 0.017298,
     "end_time": "2023-07-20T23:03:47.653891",
     "exception": false,
     "start_time": "2023-07-20T23:03:47.636593",
     "status": "completed"
    },
    "tags": []
   },
   "source": [
    "The real test of your agent's mettle is their average win rate over many games. Try calling the function below to simulate 50000 games of blackjack (it may take a couple seconds):"
   ]
  },
  {
   "cell_type": "code",
   "execution_count": 23,
   "id": "191be3e5",
   "metadata": {
    "execution": {
     "iopub.execute_input": "2023-07-20T23:03:47.690341Z",
     "iopub.status.busy": "2023-07-20T23:03:47.689968Z",
     "iopub.status.idle": "2023-07-20T23:03:49.840094Z",
     "shell.execute_reply": "2023-07-20T23:03:49.839085Z"
    },
    "papermill": {
     "duration": 2.171857,
     "end_time": "2023-07-20T23:03:49.843175",
     "exception": false,
     "start_time": "2023-07-20T23:03:47.671318",
     "status": "completed"
    },
    "tags": []
   },
   "outputs": [
    {
     "name": "stdout",
     "output_type": "stream",
     "text": [
      "Player won 19123 out of 50000 games (win rate = 38.2%)\n"
     ]
    }
   ],
   "source": [
    "q7.simulate(n_games=50000)"
   ]
  },
  {
   "cell_type": "markdown",
   "id": "f08dbf7e",
   "metadata": {
    "papermill": {
     "duration": 0.017229,
     "end_time": "2023-07-20T23:03:49.878388",
     "exception": false,
     "start_time": "2023-07-20T23:03:49.861159",
     "status": "completed"
    },
    "tags": []
   },
   "source": [
    "Our dumb agent that completely ignores the game state still manages to win shockingly often!\n",
    "\n",
    "Try adding some more smarts to the `should_hit` function and see how it affects the results."
   ]
  },
  {
   "cell_type": "code",
   "execution_count": 24,
   "id": "6daa93c4",
   "metadata": {
    "execution": {
     "iopub.execute_input": "2023-07-20T23:03:49.915691Z",
     "iopub.status.busy": "2023-07-20T23:03:49.915314Z",
     "iopub.status.idle": "2023-07-20T23:03:52.088928Z",
     "shell.execute_reply": "2023-07-20T23:03:52.087737Z"
    },
    "papermill": {
     "duration": 2.195767,
     "end_time": "2023-07-20T23:03:52.091563",
     "exception": false,
     "start_time": "2023-07-20T23:03:49.895796",
     "status": "completed"
    },
    "tags": []
   },
   "outputs": [
    {
     "name": "stdout",
     "output_type": "stream",
     "text": [
      "Player won 18976 out of 50000 games (win rate = 38.0%)\n"
     ]
    }
   ],
   "source": [
    "def should_hit(dealer_total, player_total, player_low_aces, player_high_aces):\n",
    "    \"\"\"Return True if the player should hit (request another card) given the current game\n",
    "    state, or False if the player should stay.\n",
    "    When calculating a hand's total value, we count aces as \"high\" (with value 11) if doing so\n",
    "    doesn't bring the total above 21, otherwise we count them as low (with value 1). \n",
    "    For example, if the player's hand is {A, A, A, 7}, we will count it as 11 + 1 + 1 + 7,\n",
    "    and therefore set player_total=20, player_low_aces=2, player_high_aces=1.\n",
    "    \"\"\"\n",
    "    return False\n",
    "\n",
    "q7.simulate(n_games=50000)"
   ]
  },
  {
   "cell_type": "markdown",
   "id": "505df17a",
   "metadata": {
    "papermill": {
     "duration": 0.017421,
     "end_time": "2023-07-20T23:03:52.127140",
     "exception": false,
     "start_time": "2023-07-20T23:03:52.109719",
     "status": "completed"
    },
    "tags": []
   },
   "source": [
    "# Keep Going\n",
    "\n",
    "Learn about **[lists and tuples](https://www.kaggle.com/colinmorris/lists)** to handle multiple items of data in a systematic way."
   ]
  },
  {
   "cell_type": "markdown",
   "id": "3a2dc3f7",
   "metadata": {
    "papermill": {
     "duration": 0.01744,
     "end_time": "2023-07-20T23:03:52.162263",
     "exception": false,
     "start_time": "2023-07-20T23:03:52.144823",
     "status": "completed"
    },
    "tags": []
   },
   "source": [
    "---\n",
    "\n",
    "\n",
    "\n",
    "\n",
    "*Have questions or comments? Visit the [course discussion forum](https://www.kaggle.com/learn/python/discussion) to chat with other learners.*"
   ]
  }
 ],
 "metadata": {
  "kernelspec": {
   "display_name": "Python 3",
   "language": "python",
   "name": "python3"
  },
  "language_info": {
   "codemirror_mode": {
    "name": "ipython",
    "version": 3
   },
   "file_extension": ".py",
   "mimetype": "text/x-python",
   "name": "python",
   "nbconvert_exporter": "python",
   "pygments_lexer": "ipython3",
   "version": "3.10.12"
  },
  "papermill": {
   "default_parameters": {},
   "duration": 18.335755,
   "end_time": "2023-07-20T23:03:53.002803",
   "environment_variables": {},
   "exception": null,
   "input_path": "__notebook__.ipynb",
   "output_path": "__notebook__.ipynb",
   "parameters": {},
   "start_time": "2023-07-20T23:03:34.667048",
   "version": "2.4.0"
  }
 },
 "nbformat": 4,
 "nbformat_minor": 5
}
