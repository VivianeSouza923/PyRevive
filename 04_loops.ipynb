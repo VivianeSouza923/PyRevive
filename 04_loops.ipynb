{
  "cells": [
    {
      "cell_type": "markdown",
      "metadata": {
        "id": "view-in-github",
        "colab_type": "text"
      },
      "source": [
        "<a href=\"https://colab.research.google.com/github/VivianeSouza923/PyRevive/blob/main/04_loops.ipynb\" target=\"_parent\"><img src=\"https://colab.research.google.com/assets/colab-badge.svg\" alt=\"Open In Colab\"/></a>"
      ]
    },
    {
      "cell_type": "markdown",
      "metadata": {
        "id": "DsRnqi80Utxk"
      },
      "source": [
        "## **Python Essencial para Data Science**\n",
        "**Prof. Dr. Samuel Martins (@hisamuka @xavecoding)** <br/>\n",
        "xavecoding: https://youtube.com/c/xavecoding <br/><br/>\n",
        "\n",
        "<a rel=\"license\" href=\"http://creativecommons.org/licenses/by-nc-sa/4.0/\"><img alt=\"Creative Commons License\" style=\"border-width:0\" src=\"https://i.creativecommons.org/l/by-nc-sa/4.0/88x31.png\" /></a><br />This work is licensed under a <a rel=\"license\" href=\"http://creativecommons.org/licenses/by-nc-sa/4.0/\">Creative Commons Attribution-NonCommercial-ShareAlike 4.0 International License</a>."
      ]
    },
    {
      "cell_type": "markdown",
      "metadata": {
        "id": "ATMRgQ2LUtxm"
      },
      "source": [
        "## Loops\n",
        "Antes de definirmos os *laços de repetição em Python (loops)*, vamos ver como definimos intervalos no Python:"
      ]
    },
    {
      "cell_type": "markdown",
      "metadata": {
        "id": "Ff3tgR6yUtxm"
      },
      "source": [
        "### Gerando intervalos com a função `range()`\n",
        "Um dos exemplos mais comuns de loops é iterar para um dado **intervalo de valores**.\n",
        "\n",
        "Suponha que desejamos codificar um loop que itere de 0 até n-1, onde o parâmetro *n* é definido pelo usuário. <br/>\n",
        "Em linguagem C, teríamos algo como:\n",
        "<code>\n",
        "for (int i = 0; i < n; i++) {\n",
        "    ...\n",
        "}\n",
        "</code>\n",
        "    \n",
        "Em *Python*, podemos gerar intervalos de valores muito mais fácil, apenas utilizando o comando `range()`, que possui a assinatura: <br/>\n",
        "`range(start, end, step)`."
      ]
    },
    {
      "cell_type": "markdown",
      "metadata": {
        "id": "DN347tPVUtxm"
      },
      "source": [
        "#### Entendendo os índices de um Intervalo\n",
        "Um intervalo em python sempre **inclui** o número passado como **limite inferior** e *exclui* o número do *limite superior* do intervalo.\n",
        "\n",
        "P. ex., o intervalo definido pelos números `10 15` corresponde, na verdade, ao intervalo [10, 15), ou seja, [10, 11, 12, 13, 14]"
      ]
    },
    {
      "cell_type": "markdown",
      "metadata": {
        "id": "kMFyxAUIUtxn"
      },
      "source": [
        "#### Gerando um intervalo de 0..n-1\n",
        "Se passarmos apenas **um valor/parâmetro** para a função `range()`, a mesma retorna um intervalor de 0 até o valor -1."
      ]
    },
    {
      "cell_type": "code",
      "execution_count": 1,
      "metadata": {
        "colab": {
          "base_uri": "https://localhost:8080/"
        },
        "id": "MYee5dNCUtxn",
        "outputId": "56406ae0-b94d-4c76-c222-04f7463b041b"
      },
      "outputs": [
        {
          "output_type": "execute_result",
          "data": {
            "text/plain": [
              "range(0, 10)"
            ]
          },
          "metadata": {},
          "execution_count": 1
        }
      ],
      "source": [
        "# gera um intervalo [0, 10), com step=1, onde o 10 não está incluso na lista de valores do intervalo --> [ - INCLUI, ) - EXCLUI\n",
        "# ou seja, teremos os números de 0 a 9\n",
        "range(10)"
      ]
    },
    {
      "cell_type": "code",
      "source": [
        "range(16) # segundo o que vimos, vai de 0 até 16. Isso pq informamos apenas 1 valor, então automaticamente ele é considerado o limite (end) e o start vai começar em zero."
      ],
      "metadata": {
        "colab": {
          "base_uri": "https://localhost:8080/"
        },
        "id": "YrGfqXtmY-IF",
        "outputId": "7cb8c521-786c-49c4-f4a9-db3a8c5d98fe"
      },
      "execution_count": 2,
      "outputs": [
        {
          "output_type": "execute_result",
          "data": {
            "text/plain": [
              "range(0, 16)"
            ]
          },
          "metadata": {},
          "execution_count": 2
        }
      ]
    },
    {
      "cell_type": "code",
      "execution_count": 4,
      "metadata": {
        "colab": {
          "base_uri": "https://localhost:8080/"
        },
        "id": "_rVDixRFUtxn",
        "outputId": "9afa07b9-f0a6-42bc-fb0e-ff0bd67c84be"
      },
      "outputs": [
        {
          "output_type": "execute_result",
          "data": {
            "text/plain": [
              "range"
            ]
          },
          "metadata": {},
          "execution_count": 4
        }
      ],
      "source": [
        "# o tipo da função range() é range mesmo\n",
        "type(range(10))"
      ]
    },
    {
      "cell_type": "markdown",
      "metadata": {
        "id": "NpRRZZErUtxo"
      },
      "source": [
        "Note que o retorno é um `range(0, 10)`. Internamente, este tipo é uma _lista_ contendo todos os números do intervalo. <br/>\n",
        "Para termos acesso a tal lista explicitamente, precisamos converter o range em uma **`list`**:"
      ]
    },
    {
      "cell_type": "code",
      "execution_count": 8,
      "metadata": {
        "colab": {
          "base_uri": "https://localhost:8080/"
        },
        "id": "Q0qUp_hyUtxo",
        "outputId": "f8be0d0c-d473-4ad4-aa8a-dc6cdd8199d9"
      },
      "outputs": [
        {
          "output_type": "execute_result",
          "data": {
            "text/plain": [
              "[0, 1, 2, 3, 4, 5, 6, 7, 8, 9]"
            ]
          },
          "metadata": {},
          "execution_count": 8
        }
      ],
      "source": [
        "# converte o intervalo range(0, 10) na lista de números do intervalo\n",
        "list(range(10))\n"
      ]
    },
    {
      "cell_type": "code",
      "source": [
        "list(range(16))"
      ],
      "metadata": {
        "colab": {
          "base_uri": "https://localhost:8080/"
        },
        "id": "OqrsTF5hcFMF",
        "outputId": "aa7857e6-c837-41f7-a77b-ef6d205af836"
      },
      "execution_count": 9,
      "outputs": [
        {
          "output_type": "execute_result",
          "data": {
            "text/plain": [
              "[0, 1, 2, 3, 4, 5, 6, 7, 8, 9, 10, 11, 12, 13, 14, 15]"
            ]
          },
          "metadata": {},
          "execution_count": 9
        }
      ]
    },
    {
      "cell_type": "markdown",
      "metadata": {
        "id": "Z9XmeWLPUtxo"
      },
      "source": [
        "#### Gerando um intervalo de Inicio até Fim-1\n",
        "Podemos querer alterar o valor **inicial** do intervalo, que é 0 por padrão. Para isso, devemos passar 2 parâmetros para o `range()`, sendo o primeiro deles o limite inferior (incluso) do intervalo (_lower bound_) e o segundo é o limite superior (excluso) do intevarlo (_upper bound_):"
      ]
    },
    {
      "cell_type": "code",
      "execution_count": 10,
      "metadata": {
        "colab": {
          "base_uri": "https://localhost:8080/"
        },
        "id": "vGKec5KBUtxo",
        "outputId": "5523931c-b108-4105-ce22-82a7e1011a2a"
      },
      "outputs": [
        {
          "output_type": "execute_result",
          "data": {
            "text/plain": [
              "range(11, 21)"
            ]
          },
          "metadata": {},
          "execution_count": 10
        }
      ],
      "source": [
        "range(11, 21)  # gera o intervalo de números [11, 21) ==> números de 11 a 21, sendo que o 21 é exclusivo (ou seja, é mostrado até o número 20)"
      ]
    },
    {
      "cell_type": "code",
      "source": [
        "range(6, 26)"
      ],
      "metadata": {
        "colab": {
          "base_uri": "https://localhost:8080/"
        },
        "id": "hQvGkQLicWTR",
        "outputId": "b3be49b1-eebe-4df1-8e34-fc2ef8c02ea6"
      },
      "execution_count": 11,
      "outputs": [
        {
          "output_type": "execute_result",
          "data": {
            "text/plain": [
              "range(6, 26)"
            ]
          },
          "metadata": {},
          "execution_count": 11
        }
      ]
    },
    {
      "cell_type": "code",
      "execution_count": 12,
      "metadata": {
        "colab": {
          "base_uri": "https://localhost:8080/"
        },
        "id": "3FTDn5W4Utxo",
        "outputId": "d409f9f7-5659-4ca7-b620-6c5f4cfbfa24"
      },
      "outputs": [
        {
          "output_type": "execute_result",
          "data": {
            "text/plain": [
              "[11, 12, 13, 14, 15, 16, 17, 18, 19, 20]"
            ]
          },
          "metadata": {},
          "execution_count": 12
        }
      ],
      "source": [
        "list(range(11, 21))"
      ]
    },
    {
      "cell_type": "markdown",
      "metadata": {
        "id": "axdvrFrNUtxo"
      },
      "source": [
        "#### Especificando o passo do intervalo\n",
        "Por padrão, os intervalos fornecem números sequenciais, ou seja, com **passo/incremento** igual a 1. <br/>\n",
        "Podemos alterar tal **passo**. Para isso, basta passarmos um terceiro parâmetro no `range()`"
      ]
    },
    {
      "cell_type": "code",
      "execution_count": 13,
      "metadata": {
        "colab": {
          "base_uri": "https://localhost:8080/"
        },
        "id": "sf52l3NYUtxo",
        "outputId": "7bd60515-01ed-4363-b10e-a7e947308166"
      },
      "outputs": [
        {
          "output_type": "execute_result",
          "data": {
            "text/plain": [
              "range(11, 21, 2)"
            ]
          },
          "metadata": {},
          "execution_count": 13
        }
      ],
      "source": [
        "range(11, 21, 2)  # ==> for (int i = 11; i < 21; i += 2)"
      ]
    },
    {
      "cell_type": "code",
      "source": [
        "range(6, 21, 3) # aqui começa no 6 e vai de 3 em 3 até chegar no limite que é 21 (veja bem que como é de 3 em 3, ele vai o mais longe possível, dentro do limite)"
      ],
      "metadata": {
        "colab": {
          "base_uri": "https://localhost:8080/"
        },
        "id": "M4zR9fw6d_Gk",
        "outputId": "a4b44db4-fba8-4f63-db85-8a777dc69cd4"
      },
      "execution_count": 16,
      "outputs": [
        {
          "output_type": "execute_result",
          "data": {
            "text/plain": [
              "range(6, 21, 3)"
            ]
          },
          "metadata": {},
          "execution_count": 16
        }
      ]
    },
    {
      "cell_type": "code",
      "execution_count": 17,
      "metadata": {
        "colab": {
          "base_uri": "https://localhost:8080/"
        },
        "id": "JE1HV0upUtxo",
        "outputId": "5e7cfd0c-21ba-470c-c47a-5ce860c48ffb"
      },
      "outputs": [
        {
          "output_type": "execute_result",
          "data": {
            "text/plain": [
              "[11, 13, 15, 17, 19]"
            ]
          },
          "metadata": {},
          "execution_count": 17
        }
      ],
      "source": [
        "list(range(11, 21, 2))"
      ]
    },
    {
      "cell_type": "code",
      "source": [
        "list(range(6, 21, 3))"
      ],
      "metadata": {
        "colab": {
          "base_uri": "https://localhost:8080/"
        },
        "id": "aBczhX84eQ6d",
        "outputId": "7e8766d1-acb2-4679-f9c0-2824de0f26bd"
      },
      "execution_count": 18,
      "outputs": [
        {
          "output_type": "execute_result",
          "data": {
            "text/plain": [
              "[6, 9, 12, 15, 18]"
            ]
          },
          "metadata": {},
          "execution_count": 18
        }
      ]
    },
    {
      "cell_type": "code",
      "execution_count": 19,
      "metadata": {
        "colab": {
          "base_uri": "https://localhost:8080/"
        },
        "id": "o9Rm4dqRUtxo",
        "outputId": "6dd0a204-1ae7-4429-f13a-86d8923ea179"
      },
      "outputs": [
        {
          "output_type": "execute_result",
          "data": {
            "text/plain": [
              "[0, 2, 4, 6, 8]"
            ]
          },
          "metadata": {},
          "execution_count": 19
        }
      ],
      "source": [
        "# outro exemplo\n",
        "list(range(0, 10, 2))"
      ]
    },
    {
      "cell_type": "markdown",
      "metadata": {
        "id": "0xqc_aSOUtxo"
      },
      "source": [
        "### `for`\n",
        "O esqueleto de um for-loop é:\n",
        "<code>\n",
        "for i in collection:\n",
        "    Instruction 01\n",
        "    Instruction 02\n",
        "    ...\n",
        "</code><br/>\n",
        "\n",
        "onde _collection_ é uma coleção de valores que será iterado. <br/>\n",
        "No esqueleto acima, a cada iteração, a variável `i` terá um valor da _collection_.\n",
        "\n",
        "A _collection_ pode ser, por exemplo, um `range()` ou uma `list`:"
      ]
    },
    {
      "cell_type": "code",
      "execution_count": 20,
      "metadata": {
        "colab": {
          "base_uri": "https://localhost:8080/"
        },
        "id": "spGRYfn1Utxp",
        "outputId": "f8b8a288-54f1-41f4-c3fb-e5e40d725f3c"
      },
      "outputs": [
        {
          "output_type": "stream",
          "name": "stdout",
          "text": [
            "i = 0\n",
            "i = 1\n",
            "i = 2\n",
            "i = 3\n",
            "i = 4\n",
            "i = 5\n",
            "i = 6\n",
            "i = 7\n",
            "i = 8\n",
            "i = 9\n"
          ]
        }
      ],
      "source": [
        "# para cada i de 0 a 9\n",
        "# ele vai percorrer cada item dessa range/lista, usando i como referÊncia\n",
        "for i in range(10):\n",
        "  # e cada iteração fará isso\n",
        "    print(f'i = {i}')"
      ]
    },
    {
      "cell_type": "code",
      "source": [
        "for i in range (25):\n",
        "  print(f'i = {i}')"
      ],
      "metadata": {
        "colab": {
          "base_uri": "https://localhost:8080/"
        },
        "id": "_pm0KRUYfvBK",
        "outputId": "f433c871-9fbf-49b5-c80d-b5d802b0e38d"
      },
      "execution_count": 21,
      "outputs": [
        {
          "output_type": "stream",
          "name": "stdout",
          "text": [
            "i = 0\n",
            "i = 1\n",
            "i = 2\n",
            "i = 3\n",
            "i = 4\n",
            "i = 5\n",
            "i = 6\n",
            "i = 7\n",
            "i = 8\n",
            "i = 9\n",
            "i = 10\n",
            "i = 11\n",
            "i = 12\n",
            "i = 13\n",
            "i = 14\n",
            "i = 15\n",
            "i = 16\n",
            "i = 17\n",
            "i = 18\n",
            "i = 19\n",
            "i = 20\n",
            "i = 21\n",
            "i = 22\n",
            "i = 23\n",
            "i = 24\n"
          ]
        }
      ]
    },
    {
      "cell_type": "code",
      "execution_count": 22,
      "metadata": {
        "colab": {
          "base_uri": "https://localhost:8080/"
        },
        "id": "wUvq4gl3Utxp",
        "outputId": "ee0a520e-2934-40a8-a6dc-ff4d8e777810"
      },
      "outputs": [
        {
          "output_type": "stream",
          "name": "stdout",
          "text": [
            "num = 12\n",
            "num = 14\n",
            "num = 16\n",
            "num = 18\n",
            "num = 20\n"
          ]
        }
      ],
      "source": [
        "# para cada elemento par no intervalo de [12, 21)\n",
        "for num in range(12, 21, 2):\n",
        "    print(f'num = {num}')"
      ]
    },
    {
      "cell_type": "code",
      "source": [
        "for a in range(6, 38, 4):\n",
        "  print(f'a = {a}')"
      ],
      "metadata": {
        "colab": {
          "base_uri": "https://localhost:8080/"
        },
        "id": "XehK7xaQf3hS",
        "outputId": "fe1f06f8-e8cd-4120-9ea9-a27ca9f5dfdf"
      },
      "execution_count": 23,
      "outputs": [
        {
          "output_type": "stream",
          "name": "stdout",
          "text": [
            "a = 6\n",
            "a = 10\n",
            "a = 14\n",
            "a = 18\n",
            "a = 22\n",
            "a = 26\n",
            "a = 30\n",
            "a = 34\n"
          ]
        }
      ]
    },
    {
      "cell_type": "code",
      "execution_count": 24,
      "metadata": {
        "colab": {
          "base_uri": "https://localhost:8080/"
        },
        "id": "4qFPfHrqUtxp",
        "outputId": "f71e1baa-87c2-414f-c5f8-06944cccc164"
      },
      "outputs": [
        {
          "output_type": "execute_result",
          "data": {
            "text/plain": [
              "[12, 14, 16, 18, 20]"
            ]
          },
          "metadata": {},
          "execution_count": 24
        }
      ],
      "source": [
        "lista_de_pares = list(range(12, 21, 2))\n",
        "lista_de_pares"
      ]
    },
    {
      "cell_type": "code",
      "execution_count": 25,
      "metadata": {
        "colab": {
          "base_uri": "https://localhost:8080/"
        },
        "id": "3PCNuXaOUtxp",
        "outputId": "c7f0b5e5-a1ac-4c24-cf97-5d91d1725952"
      },
      "outputs": [
        {
          "output_type": "stream",
          "name": "stdout",
          "text": [
            "num = 12\n",
            "num = 14\n",
            "num = 16\n",
            "num = 18\n",
            "num = 20\n"
          ]
        }
      ],
      "source": [
        "# para cada elemento da lista `lista_de_pares`\n",
        "for num in lista_de_pares:\n",
        "    print(f'num = {num}')"
      ]
    },
    {
      "cell_type": "markdown",
      "metadata": {
        "id": "EDIGvBiJUtxp"
      },
      "source": [
        "### While\n",
        "<code>\n",
        "while condition:\n",
        "    Instruction 01\n",
        "    Instruction 02\n",
        "    ...\n",
        "</code>"
      ]
    },
    {
      "cell_type": "code",
      "execution_count": 26,
      "metadata": {
        "colab": {
          "base_uri": "https://localhost:8080/"
        },
        "id": "39bWh95PUtxp",
        "outputId": "2b7617ce-cba8-44d6-f537-02ab035e8c7b"
      },
      "outputs": [
        {
          "output_type": "stream",
          "name": "stdout",
          "text": [
            "i = 0\n",
            "i = 1\n",
            "i = 2\n",
            "i = 3\n",
            "i = 4\n",
            "i = 5\n",
            "i = 6\n",
            "i = 7\n",
            "i = 8\n",
            "i = 9\n"
          ]
        }
      ],
      "source": [
        "# cria e inicializa a variável\n",
        "i = 0\n",
        "\n",
        "# enquanto essa variável for menor que 10:\n",
        "while i < 10:\n",
        "    # faça isso\n",
        "    print(f'i = {i}')\n",
        "    # e incremente essa variável\n",
        "    i += 1\n",
        "\n",
        "# ao incrementar, ela vai voltar para verificar se i<10 e fazer de novo essas ações (sendo a condição true). é um loop."
      ]
    },
    {
      "cell_type": "code",
      "source": [
        "# exemplo de decremento\n",
        "i = 32\n",
        "\n",
        "\n",
        "while i >= 0:\n",
        "  print(f'i = {i}')\n",
        "  i -= 1\n"
      ],
      "metadata": {
        "colab": {
          "base_uri": "https://localhost:8080/"
        },
        "id": "QYiZIuhiibd8",
        "outputId": "2ac6cfe5-9369-4b2d-f5d0-005323079714"
      },
      "execution_count": 29,
      "outputs": [
        {
          "output_type": "stream",
          "name": "stdout",
          "text": [
            "i = 32\n",
            "i = 31\n",
            "i = 30\n",
            "i = 29\n",
            "i = 28\n",
            "i = 27\n",
            "i = 26\n",
            "i = 25\n",
            "i = 24\n",
            "i = 23\n",
            "i = 22\n",
            "i = 21\n",
            "i = 20\n",
            "i = 19\n",
            "i = 18\n",
            "i = 17\n",
            "i = 16\n",
            "i = 15\n",
            "i = 14\n",
            "i = 13\n",
            "i = 12\n",
            "i = 11\n",
            "i = 10\n",
            "i = 9\n",
            "i = 8\n",
            "i = 7\n",
            "i = 6\n",
            "i = 5\n",
            "i = 4\n",
            "i = 3\n",
            "i = 2\n",
            "i = 1\n",
            "i = 0\n"
          ]
        }
      ]
    },
    {
      "cell_type": "code",
      "execution_count": 30,
      "metadata": {
        "colab": {
          "base_uri": "https://localhost:8080/"
        },
        "id": "d0FfWEdEUtxp",
        "outputId": "f29aa1e4-0cee-4797-8cae-22a65a3895f9"
      },
      "outputs": [
        {
          "output_type": "stream",
          "name": "stdout",
          "text": [
            "i = 0\n",
            "j = 0\n",
            "i = 1\n",
            "j = 1\n",
            "i = 2\n",
            "j = 2\n",
            "i = 3\n",
            "j = 3\n",
            "i = 4\n",
            "j = 4\n"
          ]
        }
      ],
      "source": [
        "# utilizando condições booleanas em while\n",
        "i = 0\n",
        "j = 0\n",
        "\n",
        "# isso pode ser feito, sem problema algum. Ligar duas condições através de um operador booleano, transformando tudo em uma única condição (no final, é isso)\n",
        "while i < 10 and j < 5:\n",
        "    print(f'i = {i}')\n",
        "    print(f'j = {j}')\n",
        "    i += 1\n",
        "    j += 1"
      ]
    },
    {
      "cell_type": "code",
      "source": [
        "# decremento\n",
        "\n",
        "i = 20\n",
        "b = 14\n",
        "\n",
        "while b >= 0 or i >= 0:\n",
        "  print(f'i = {i}')\n",
        "  print(f'b = {b}')\n",
        "\n",
        "  i -= 1\n",
        "  b -= 1"
      ],
      "metadata": {
        "colab": {
          "base_uri": "https://localhost:8080/"
        },
        "id": "UFQ5dN1zkAUY",
        "outputId": "aa82b204-bb57-44b3-ea71-79620cf68175"
      },
      "execution_count": 35,
      "outputs": [
        {
          "output_type": "stream",
          "name": "stdout",
          "text": [
            "i = 20\n",
            "b = 14\n",
            "i = 19\n",
            "b = 13\n",
            "i = 18\n",
            "b = 12\n",
            "i = 17\n",
            "b = 11\n",
            "i = 16\n",
            "b = 10\n",
            "i = 15\n",
            "b = 9\n",
            "i = 14\n",
            "b = 8\n",
            "i = 13\n",
            "b = 7\n",
            "i = 12\n",
            "b = 6\n",
            "i = 11\n",
            "b = 5\n",
            "i = 10\n",
            "b = 4\n",
            "i = 9\n",
            "b = 3\n",
            "i = 8\n",
            "b = 2\n",
            "i = 7\n",
            "b = 1\n",
            "i = 6\n",
            "b = 0\n",
            "i = 5\n",
            "b = -1\n",
            "i = 4\n",
            "b = -2\n",
            "i = 3\n",
            "b = -3\n",
            "i = 2\n",
            "b = -4\n",
            "i = 1\n",
            "b = -5\n",
            "i = 0\n",
            "b = -6\n"
          ]
        }
      ]
    }
  ],
  "metadata": {
    "kernelspec": {
      "display_name": "Python 3",
      "language": "python",
      "name": "python3"
    },
    "language_info": {
      "codemirror_mode": {
        "name": "ipython",
        "version": 3
      },
      "file_extension": ".py",
      "mimetype": "text/x-python",
      "name": "python",
      "nbconvert_exporter": "python",
      "pygments_lexer": "ipython3",
      "version": "3.8.5"
    },
    "colab": {
      "provenance": [],
      "include_colab_link": true
    }
  },
  "nbformat": 4,
  "nbformat_minor": 0
}