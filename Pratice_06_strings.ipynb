{
  "cells": [
    {
      "cell_type": "markdown",
      "metadata": {
        "id": "view-in-github",
        "colab_type": "text"
      },
      "source": [
        "<a href=\"https://colab.research.google.com/github/VivianeSouza923/PyRevive/blob/main/Pratice_06_strings.ipynb\" target=\"_parent\"><img src=\"https://colab.research.google.com/assets/colab-badge.svg\" alt=\"Open In Colab\"/></a>"
      ]
    },
    {
      "cell_type": "markdown",
      "metadata": {
        "id": "_TKMH0LfxhJ9"
      },
      "source": [
        "## **Python Essencial para Data Science**\n",
        "**Prof. Dr. Samuel Martins (@hisamuka @xavecoding)** <br/>\n",
        "xavecoding: https://youtube.com/c/xavecoding <br/><br/>\n",
        "\n",
        "<a rel=\"license\" href=\"http://creativecommons.org/licenses/by-nc-sa/4.0/\"><img alt=\"Creative Commons License\" style=\"border-width:0\" src=\"https://i.creativecommons.org/l/by-nc-sa/4.0/88x31.png\" /></a><br />This work is licensed under a <a rel=\"license\" href=\"http://creativecommons.org/licenses/by-nc-sa/4.0/\">Creative Commons Attribution-NonCommercial-ShareAlike 4.0 International License</a>."
      ]
    },
    {
      "cell_type": "markdown",
      "metadata": {
        "id": "il_UmtDJxhKB"
      },
      "source": [
        "## Strings"
      ]
    },
    {
      "cell_type": "markdown",
      "metadata": {
        "id": "QcCj3oopxhKB"
      },
      "source": [
        "#### Strings são também sequências"
      ]
    },
    {
      "cell_type": "code",
      "execution_count": 2,
      "metadata": {
        "colab": {
          "base_uri": "https://localhost:8080/"
        },
        "id": "W24l0RDhxhKC",
        "outputId": "fc852081-9778-419d-db1f-16b51d9ecc1a"
      },
      "outputs": [
        {
          "output_type": "stream",
          "name": "stdout",
          "text": [
            "Viviane Souza\n",
            "Alesi Fernandes\n"
          ]
        }
      ],
      "source": [
        "nome = 'Viviane Souza'\n",
        "nome1 = \"Alesi Fernandes\"\n",
        "\n",
        "print(nome)\n",
        "print(nome1)"
      ]
    },
    {
      "cell_type": "code",
      "source": [
        "nome[6]"
      ],
      "metadata": {
        "colab": {
          "base_uri": "https://localhost:8080/",
          "height": 36
        },
        "id": "5BJHc4EkyAqW",
        "outputId": "e17ff418-3343-4e9d-c77a-d1ab0d896364"
      },
      "execution_count": 3,
      "outputs": [
        {
          "output_type": "execute_result",
          "data": {
            "text/plain": [
              "'e'"
            ],
            "application/vnd.google.colaboratory.intrinsic+json": {
              "type": "string"
            }
          },
          "metadata": {},
          "execution_count": 3
        }
      ]
    },
    {
      "cell_type": "code",
      "source": [
        "nome1[9]"
      ],
      "metadata": {
        "colab": {
          "base_uri": "https://localhost:8080/",
          "height": 36
        },
        "id": "IdsNK9OfyFkF",
        "outputId": "5fcd652f-4fe9-48d2-ab99-df07053c4b60"
      },
      "execution_count": 4,
      "outputs": [
        {
          "output_type": "execute_result",
          "data": {
            "text/plain": [
              "'n'"
            ],
            "application/vnd.google.colaboratory.intrinsic+json": {
              "type": "string"
            }
          },
          "metadata": {},
          "execution_count": 4
        }
      ]
    },
    {
      "cell_type": "code",
      "source": [
        "len(nome)"
      ],
      "metadata": {
        "colab": {
          "base_uri": "https://localhost:8080/"
        },
        "id": "HSF-qRmEy7hV",
        "outputId": "174931e6-878a-43b5-91f1-e5b1315bd8bd"
      },
      "execution_count": 5,
      "outputs": [
        {
          "output_type": "execute_result",
          "data": {
            "text/plain": [
              "13"
            ]
          },
          "metadata": {},
          "execution_count": 5
        }
      ]
    },
    {
      "cell_type": "code",
      "source": [
        "len(nome1)"
      ],
      "metadata": {
        "colab": {
          "base_uri": "https://localhost:8080/"
        },
        "id": "qOckWd4Oy9-1",
        "outputId": "fc7009db-16e0-42f4-8e92-89c69fc8255b"
      },
      "execution_count": 6,
      "outputs": [
        {
          "output_type": "execute_result",
          "data": {
            "text/plain": [
              "15"
            ]
          },
          "metadata": {},
          "execution_count": 6
        }
      ]
    },
    {
      "cell_type": "markdown",
      "metadata": {
        "id": "3Mz8TptBxhKD"
      },
      "source": [
        "#### Strings são imutáveis"
      ]
    },
    {
      "cell_type": "code",
      "execution_count": 7,
      "metadata": {
        "colab": {
          "base_uri": "https://localhost:8080/",
          "height": 180
        },
        "id": "z0wA6-8LxhKD",
        "outputId": "022f69f0-a676-4160-c682-1dc8a22b30f5"
      },
      "outputs": [
        {
          "output_type": "error",
          "ename": "TypeError",
          "evalue": "'str' object does not support item assignment",
          "traceback": [
            "\u001b[0;31m---------------------------------------------------------------------------\u001b[0m",
            "\u001b[0;31mTypeError\u001b[0m                                 Traceback (most recent call last)",
            "\u001b[0;32m<ipython-input-7-3ca47d8aa1b9>\u001b[0m in \u001b[0;36m<cell line: 1>\u001b[0;34m()\u001b[0m\n\u001b[0;32m----> 1\u001b[0;31m \u001b[0mnome\u001b[0m\u001b[0;34m[\u001b[0m\u001b[0;36m9\u001b[0m\u001b[0;34m]\u001b[0m \u001b[0;34m=\u001b[0m \u001b[0;34m'K'\u001b[0m\u001b[0;34m\u001b[0m\u001b[0;34m\u001b[0m\u001b[0m\n\u001b[0m",
            "\u001b[0;31mTypeError\u001b[0m: 'str' object does not support item assignment"
          ]
        }
      ],
      "source": [
        "nome[9] = 'K'"
      ]
    },
    {
      "cell_type": "markdown",
      "metadata": {
        "id": "noQx3fP0xhKD"
      },
      "source": [
        "### Métodos de Strings"
      ]
    },
    {
      "cell_type": "markdown",
      "metadata": {
        "id": "-BCBc4TjxhKD"
      },
      "source": [
        "`.upper()` retorna a string com todas as letras maiúscula"
      ]
    },
    {
      "cell_type": "code",
      "execution_count": 8,
      "metadata": {
        "colab": {
          "base_uri": "https://localhost:8080/",
          "height": 36
        },
        "id": "ehYTeO8lxhKD",
        "outputId": "2eb73a44-01ed-464d-8ba0-c58bd4186f93"
      },
      "outputs": [
        {
          "output_type": "execute_result",
          "data": {
            "text/plain": [
              "'VIVIANE SOUZA'"
            ],
            "application/vnd.google.colaboratory.intrinsic+json": {
              "type": "string"
            }
          },
          "metadata": {},
          "execution_count": 8
        }
      ],
      "source": [
        "nome.upper()"
      ]
    },
    {
      "cell_type": "code",
      "source": [
        "nome1.upper()"
      ],
      "metadata": {
        "colab": {
          "base_uri": "https://localhost:8080/",
          "height": 36
        },
        "id": "czmx0PH2zJdh",
        "outputId": "6dc4c9c4-876a-4eb1-f5c8-68c01fb0548e"
      },
      "execution_count": 9,
      "outputs": [
        {
          "output_type": "execute_result",
          "data": {
            "text/plain": [
              "'ALESI FERNANDES'"
            ],
            "application/vnd.google.colaboratory.intrinsic+json": {
              "type": "string"
            }
          },
          "metadata": {},
          "execution_count": 9
        }
      ]
    },
    {
      "cell_type": "markdown",
      "metadata": {
        "id": "aJJGW8q2xhKE"
      },
      "source": [
        "`.lower()` retorna a string com todas as letras minúsculas"
      ]
    },
    {
      "cell_type": "code",
      "execution_count": 10,
      "metadata": {
        "colab": {
          "base_uri": "https://localhost:8080/",
          "height": 36
        },
        "id": "g4asKqjGxhKE",
        "outputId": "d45b043f-c6b1-47eb-e1d8-3144f2928416"
      },
      "outputs": [
        {
          "output_type": "execute_result",
          "data": {
            "text/plain": [
              "'viviane souza'"
            ],
            "application/vnd.google.colaboratory.intrinsic+json": {
              "type": "string"
            }
          },
          "metadata": {},
          "execution_count": 10
        }
      ],
      "source": [
        "nome.lower()"
      ]
    },
    {
      "cell_type": "code",
      "source": [
        "nome1.lower()"
      ],
      "metadata": {
        "colab": {
          "base_uri": "https://localhost:8080/",
          "height": 36
        },
        "id": "IsqZ5E6qzN0a",
        "outputId": "6c75bb40-de04-48cc-cdbf-5eba77c4274e"
      },
      "execution_count": 11,
      "outputs": [
        {
          "output_type": "execute_result",
          "data": {
            "text/plain": [
              "'alesi fernandes'"
            ],
            "application/vnd.google.colaboratory.intrinsic+json": {
              "type": "string"
            }
          },
          "metadata": {},
          "execution_count": 11
        }
      ]
    },
    {
      "cell_type": "markdown",
      "metadata": {
        "id": "prbNe1RXxhKE"
      },
      "source": [
        "`str.startswith(substring)` checa se a string `str` começa com a substring `substring`."
      ]
    },
    {
      "cell_type": "code",
      "execution_count": 12,
      "metadata": {
        "colab": {
          "base_uri": "https://localhost:8080/"
        },
        "id": "AAONYOMexhKF",
        "outputId": "92368c3c-70c7-41f0-8e95-87933d811a0e"
      },
      "outputs": [
        {
          "output_type": "execute_result",
          "data": {
            "text/plain": [
              "False"
            ]
          },
          "metadata": {},
          "execution_count": 12
        }
      ],
      "source": [
        "nome.startswith('Gi')"
      ]
    },
    {
      "cell_type": "code",
      "execution_count": 13,
      "metadata": {
        "colab": {
          "base_uri": "https://localhost:8080/"
        },
        "id": "OiZSYRKtxhKF",
        "outputId": "d9372756-53b0-4443-a2f9-9515b6dd2c4f"
      },
      "outputs": [
        {
          "output_type": "execute_result",
          "data": {
            "text/plain": [
              "True"
            ]
          },
          "metadata": {},
          "execution_count": 13
        }
      ],
      "source": [
        "nome.startswith('Viv')"
      ]
    },
    {
      "cell_type": "code",
      "source": [
        "nome1.startswith('ALE')"
      ],
      "metadata": {
        "colab": {
          "base_uri": "https://localhost:8080/"
        },
        "id": "3xVzA-Geza09",
        "outputId": "bb6ec430-dc14-4cf8-8267-c46ebc966250"
      },
      "execution_count": 15,
      "outputs": [
        {
          "output_type": "execute_result",
          "data": {
            "text/plain": [
              "False"
            ]
          },
          "metadata": {},
          "execution_count": 15
        }
      ]
    },
    {
      "cell_type": "code",
      "source": [
        "nome1.startswith('Alesi')"
      ],
      "metadata": {
        "colab": {
          "base_uri": "https://localhost:8080/"
        },
        "id": "X2-erTDZzeHh",
        "outputId": "1a31dfa1-aa43-4261-df36-8ad507871b6f"
      },
      "execution_count": 16,
      "outputs": [
        {
          "output_type": "execute_result",
          "data": {
            "text/plain": [
              "True"
            ]
          },
          "metadata": {},
          "execution_count": 16
        }
      ]
    },
    {
      "cell_type": "markdown",
      "metadata": {
        "id": "I8YecUwAxhKF"
      },
      "source": [
        "`str.endswith(substring)` checa se a string `str` termina com a substring `substring`."
      ]
    },
    {
      "cell_type": "code",
      "execution_count": 17,
      "metadata": {
        "colab": {
          "base_uri": "https://localhost:8080/"
        },
        "id": "QHF64TQMxhKF",
        "outputId": "9d746101-e0b9-47b4-ea4c-3071c5889b5c"
      },
      "outputs": [
        {
          "output_type": "execute_result",
          "data": {
            "text/plain": [
              "True"
            ]
          },
          "metadata": {},
          "execution_count": 17
        }
      ],
      "source": [
        "nome.endswith('uza')"
      ]
    },
    {
      "cell_type": "code",
      "source": [
        "nome.endswith('abc')"
      ],
      "metadata": {
        "colab": {
          "base_uri": "https://localhost:8080/"
        },
        "id": "SdpK7sHOz0eS",
        "outputId": "4d9ad00f-4107-428b-a2d0-be494bcf56ec"
      },
      "execution_count": 18,
      "outputs": [
        {
          "output_type": "execute_result",
          "data": {
            "text/plain": [
              "False"
            ]
          },
          "metadata": {},
          "execution_count": 18
        }
      ]
    },
    {
      "cell_type": "code",
      "source": [
        "nome1.endswith('des')"
      ],
      "metadata": {
        "colab": {
          "base_uri": "https://localhost:8080/"
        },
        "id": "aatsMKcp0LbG",
        "outputId": "f5d80947-3a89-44b9-9d7a-f3c60399cf5a"
      },
      "execution_count": 19,
      "outputs": [
        {
          "output_type": "execute_result",
          "data": {
            "text/plain": [
              "True"
            ]
          },
          "metadata": {},
          "execution_count": 19
        }
      ]
    },
    {
      "cell_type": "code",
      "source": [
        "nome1.endswith('DES')"
      ],
      "metadata": {
        "colab": {
          "base_uri": "https://localhost:8080/"
        },
        "id": "OWOjeQwy0PNX",
        "outputId": "61f42b06-94dd-4ab5-a118-1b17adcff610"
      },
      "execution_count": 20,
      "outputs": [
        {
          "output_type": "execute_result",
          "data": {
            "text/plain": [
              "False"
            ]
          },
          "metadata": {},
          "execution_count": 20
        }
      ]
    },
    {
      "cell_type": "markdown",
      "metadata": {
        "id": "3txUP9t0xhKF"
      },
      "source": [
        "`string.split(substring)` divide uma string, a partir de uma substring passada, retorna uma lista com as divisões."
      ]
    },
    {
      "cell_type": "code",
      "execution_count": 21,
      "metadata": {
        "colab": {
          "base_uri": "https://localhost:8080/",
          "height": 36
        },
        "id": "OZfyHahjxhKF",
        "outputId": "e54dbb09-405d-49db-a0f9-9c3b60270f39"
      },
      "outputs": [
        {
          "output_type": "execute_result",
          "data": {
            "text/plain": [
              "'~*users*vivi*music'"
            ],
            "application/vnd.google.colaboratory.intrinsic+json": {
              "type": "string"
            }
          },
          "metadata": {},
          "execution_count": 21
        }
      ],
      "source": [
        "strinf = '~*users*vivi*music'\n",
        "strinf"
      ]
    },
    {
      "cell_type": "code",
      "execution_count": 22,
      "metadata": {
        "id": "NJ-5g_usxhKG",
        "colab": {
          "base_uri": "https://localhost:8080/"
        },
        "outputId": "bb002632-d3ed-4252-bdfe-37ba84039658"
      },
      "outputs": [
        {
          "output_type": "execute_result",
          "data": {
            "text/plain": [
              "['~', 'users', 'vivi', 'music']"
            ]
          },
          "metadata": {},
          "execution_count": 22
        }
      ],
      "source": [
        "strinf.split('*')"
      ]
    },
    {
      "cell_type": "code",
      "source": [
        "print(strinf)"
      ],
      "metadata": {
        "colab": {
          "base_uri": "https://localhost:8080/"
        },
        "id": "ME2OCNbeMnF5",
        "outputId": "98242214-1418-4760-a3cc-d42c96835f5f"
      },
      "execution_count": 23,
      "outputs": [
        {
          "output_type": "stream",
          "name": "stdout",
          "text": [
            "~*users*vivi*music\n"
          ]
        }
      ]
    },
    {
      "cell_type": "code",
      "source": [
        "nova_dir = '|'.join(strinf)"
      ],
      "metadata": {
        "id": "5xWUugHiM0p2"
      },
      "execution_count": 25,
      "outputs": []
    },
    {
      "cell_type": "code",
      "source": [
        "nova_dir"
      ],
      "metadata": {
        "colab": {
          "base_uri": "https://localhost:8080/",
          "height": 36
        },
        "id": "1nviKhb7NNKg",
        "outputId": "cdb9c816-c363-45ff-a8d9-21f26fa4f615"
      },
      "execution_count": 26,
      "outputs": [
        {
          "output_type": "execute_result",
          "data": {
            "text/plain": [
              "'~|*|u|s|e|r|s|*|v|i|v|i|*|m|u|s|i|c'"
            ],
            "application/vnd.google.colaboratory.intrinsic+json": {
              "type": "string"
            }
          },
          "metadata": {},
          "execution_count": 26
        }
      ]
    },
    {
      "cell_type": "code",
      "source": [
        "# já feito"
      ],
      "metadata": {
        "id": "GJeRoyG1NW4T"
      },
      "execution_count": null,
      "outputs": []
    },
    {
      "cell_type": "markdown",
      "metadata": {
        "id": "r2uxGRO4xhKG"
      },
      "source": [
        "`join` junta uma lista de strings, a partir de uma substring."
      ]
    },
    {
      "cell_type": "code",
      "execution_count": 28,
      "metadata": {
        "id": "pEg5uEO0xhKG",
        "colab": {
          "base_uri": "https://localhost:8080/",
          "height": 36
        },
        "outputId": "72e73c7b-5a42-4541-bce5-c835b9d6d745"
      },
      "outputs": [
        {
          "output_type": "execute_result",
          "data": {
            "text/plain": [
              "'~***u*s*e*r*s***v*i*v*i***m*u*s*i*c'"
            ],
            "application/vnd.google.colaboratory.intrinsic+json": {
              "type": "string"
            }
          },
          "metadata": {},
          "execution_count": 28
        }
      ],
      "source": [
        "# já feito"
      ]
    },
    {
      "cell_type": "markdown",
      "metadata": {
        "id": "BGbSoCckxhKG"
      },
      "source": [
        "#### Concatenando strings"
      ]
    },
    {
      "cell_type": "code",
      "execution_count": null,
      "metadata": {
        "id": "lluZIiFWxhKG"
      },
      "outputs": [],
      "source": [
        "# já feito"
      ]
    },
    {
      "cell_type": "code",
      "execution_count": null,
      "metadata": {
        "id": "e0z_UOznxhKG"
      },
      "outputs": [],
      "source": [
        "# já feito"
      ]
    }
  ],
  "metadata": {
    "kernelspec": {
      "display_name": "Python 3",
      "language": "python",
      "name": "python3"
    },
    "language_info": {
      "codemirror_mode": {
        "name": "ipython",
        "version": 3
      },
      "file_extension": ".py",
      "mimetype": "text/x-python",
      "name": "python",
      "nbconvert_exporter": "python",
      "pygments_lexer": "ipython3",
      "version": "3.9.0"
    },
    "colab": {
      "provenance": [],
      "include_colab_link": true
    }
  },
  "nbformat": 4,
  "nbformat_minor": 0
}