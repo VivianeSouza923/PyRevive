{
  "cells": [
    {
      "cell_type": "markdown",
      "metadata": {
        "id": "view-in-github",
        "colab_type": "text"
      },
      "source": [
        "<a href=\"https://colab.research.google.com/github/VivianeSouza923/PyRevive/blob/main/pratice_07_tuplas.ipynb\" target=\"_parent\"><img src=\"https://colab.research.google.com/assets/colab-badge.svg\" alt=\"Open In Colab\"/></a>"
      ]
    },
    {
      "cell_type": "markdown",
      "metadata": {
        "id": "nE-pGX34i0Wp"
      },
      "source": [
        "## **Python Essencial para Data Science**\n",
        "**Prof. Dr. Samuel Martins (@hisamuka @xavecoding)** <br/>\n",
        "xavecoding: https://youtube.com/c/xavecoding <br/><br/>\n",
        "\n",
        "<a rel=\"license\" href=\"http://creativecommons.org/licenses/by-nc-sa/4.0/\"><img alt=\"Creative Commons License\" style=\"border-width:0\" src=\"https://i.creativecommons.org/l/by-nc-sa/4.0/88x31.png\" /></a><br />This work is licensed under a <a rel=\"license\" href=\"http://creativecommons.org/licenses/by-nc-sa/4.0/\">Creative Commons Attribution-NonCommercial-ShareAlike 4.0 International License</a>."
      ]
    },
    {
      "cell_type": "markdown",
      "metadata": {
        "id": "p6f3oob2i0Wr"
      },
      "source": [
        "## Tuplas\n",
        "Tuplas são estruturas muito semelhantes às listas. Eles diferem de duas maneiras:"
      ]
    },
    {
      "cell_type": "markdown",
      "metadata": {
        "id": "uWQz4v8ii0Ws"
      },
      "source": [
        "1. Elas usam _parênteses_ ao invés de _colchetes_:"
      ]
    },
    {
      "cell_type": "code",
      "execution_count": 1,
      "metadata": {
        "colab": {
          "base_uri": "https://localhost:8080/"
        },
        "id": "vgntcu7Ui0Ws",
        "outputId": "f26a07a4-2361-4063-f67d-917199b788b3"
      },
      "outputs": [
        {
          "output_type": "execute_result",
          "data": {
            "text/plain": [
              "(1, 2, 3, 4)"
            ]
          },
          "metadata": {},
          "execution_count": 1
        }
      ],
      "source": [
        "tupla1 = (1, 2, 3, 4)\n",
        "tupla1"
      ]
    },
    {
      "cell_type": "markdown",
      "metadata": {
        "id": "Ec_6FsIzi0Ws"
      },
      "source": [
        "2. Elas **não** podem ser modificadas (**imutáveis**)"
      ]
    },
    {
      "cell_type": "code",
      "execution_count": 4,
      "metadata": {
        "colab": {
          "base_uri": "https://localhost:8080/"
        },
        "id": "NbolDYgVi0Wt",
        "outputId": "895a617c-16a5-48e2-c2c4-7d208ec0608a"
      },
      "outputs": [
        {
          "output_type": "execute_result",
          "data": {
            "text/plain": [
              "1"
            ]
          },
          "metadata": {},
          "execution_count": 4
        }
      ],
      "source": [
        "# posso printar por posição, como uma lista, mas não consigo modificar (vide célula abaixo)\n",
        "tupla1[0]"
      ]
    },
    {
      "cell_type": "code",
      "source": [
        "tupla1[0] = 0"
      ],
      "metadata": {
        "colab": {
          "base_uri": "https://localhost:8080/",
          "height": 180
        },
        "id": "KwmLGLLYjRER",
        "outputId": "83fc8d15-f66b-4e47-9461-496381895e5a"
      },
      "execution_count": 5,
      "outputs": [
        {
          "output_type": "error",
          "ename": "TypeError",
          "evalue": "'tuple' object does not support item assignment",
          "traceback": [
            "\u001b[0;31m---------------------------------------------------------------------------\u001b[0m",
            "\u001b[0;31mTypeError\u001b[0m                                 Traceback (most recent call last)",
            "\u001b[0;32m<ipython-input-5-5f44ee9c7f69>\u001b[0m in \u001b[0;36m<cell line: 1>\u001b[0;34m()\u001b[0m\n\u001b[0;32m----> 1\u001b[0;31m \u001b[0mtupla1\u001b[0m\u001b[0;34m[\u001b[0m\u001b[0;36m0\u001b[0m\u001b[0;34m]\u001b[0m \u001b[0;34m=\u001b[0m \u001b[0;36m0\u001b[0m\u001b[0;34m\u001b[0m\u001b[0;34m\u001b[0m\u001b[0m\n\u001b[0m",
            "\u001b[0;31mTypeError\u001b[0m: 'tuple' object does not support item assignment"
          ]
        }
      ]
    },
    {
      "cell_type": "markdown",
      "metadata": {
        "id": "-p7dl-hEi0Wt"
      },
      "source": [
        "#### Convertendo uma lista em tuplas e vice-versa"
      ]
    },
    {
      "cell_type": "code",
      "execution_count": 9,
      "metadata": {
        "colab": {
          "base_uri": "https://localhost:8080/"
        },
        "id": "cOBvl4oBi0Wt",
        "outputId": "02142875-b510-44ce-a298-0a5c169422d6"
      },
      "outputs": [
        {
          "output_type": "stream",
          "name": "stdout",
          "text": [
            "[1, 2, 3, 4]\n"
          ]
        }
      ],
      "source": [
        "lista1 = [0, 1, 1, 2, 5]\n",
        "lista1_tupla = list(tupla1)\n",
        "lista1_tupla\n",
        "print(lista1_tupla)"
      ]
    },
    {
      "cell_type": "code",
      "source": [
        "print(lista1_tupla)"
      ],
      "metadata": {
        "colab": {
          "base_uri": "https://localhost:8080/"
        },
        "id": "HgCNxQuAjpU6",
        "outputId": "de8e3032-90a6-46f9-afe8-8b3ced66da63"
      },
      "execution_count": 10,
      "outputs": [
        {
          "output_type": "stream",
          "name": "stdout",
          "text": [
            "[1, 2, 3, 4]\n"
          ]
        }
      ]
    },
    {
      "cell_type": "code",
      "source": [
        "tupla1_lista = tuple(lista1)\n",
        "tupla1_lista"
      ],
      "metadata": {
        "colab": {
          "base_uri": "https://localhost:8080/"
        },
        "id": "ZOEIq6zskRFn",
        "outputId": "9337c584-7379-491b-b00b-fa00d51f5729"
      },
      "execution_count": 11,
      "outputs": [
        {
          "output_type": "execute_result",
          "data": {
            "text/plain": [
              "(0, 1, 1, 2, 5)"
            ]
          },
          "metadata": {},
          "execution_count": 11
        }
      ]
    },
    {
      "cell_type": "code",
      "source": [
        "print(tupla1_lista)"
      ],
      "metadata": {
        "colab": {
          "base_uri": "https://localhost:8080/"
        },
        "id": "xyvhRxs8krM4",
        "outputId": "3b9d67d4-4cfb-4b5d-cd15-5b3a6cd389f3"
      },
      "execution_count": 12,
      "outputs": [
        {
          "output_type": "stream",
          "name": "stdout",
          "text": [
            "(0, 1, 1, 2, 5)\n"
          ]
        }
      ]
    },
    {
      "cell_type": "markdown",
      "metadata": {
        "id": "9f-U0RCNi0Wt"
      },
      "source": [
        "### Descompactando tuplas"
      ]
    },
    {
      "cell_type": "code",
      "execution_count": 13,
      "metadata": {
        "colab": {
          "base_uri": "https://localhost:8080/"
        },
        "id": "Qfzg61QSi0Wt",
        "outputId": "afb323dc-53d7-44bc-c0b2-5c2e2c19cd52"
      },
      "outputs": [
        {
          "output_type": "execute_result",
          "data": {
            "text/plain": [
              "('a', 'b', 'c')"
            ]
          },
          "metadata": {},
          "execution_count": 13
        }
      ],
      "source": [
        "tupla2 = ('a', 'b', 'c')\n",
        "tupla2"
      ]
    },
    {
      "cell_type": "code",
      "source": [
        "a, b, c = tupla2\n",
        "\n",
        "print(tupla2)\n",
        "print(a)\n",
        "print(b)\n",
        "print(c)"
      ],
      "metadata": {
        "colab": {
          "base_uri": "https://localhost:8080/"
        },
        "id": "jop8vUS7k196",
        "outputId": "b81acb30-d82b-4fca-a622-219c4874901e"
      },
      "execution_count": 14,
      "outputs": [
        {
          "output_type": "stream",
          "name": "stdout",
          "text": [
            "('a', 'b', 'c')\n",
            "a\n",
            "b\n",
            "c\n"
          ]
        }
      ]
    },
    {
      "cell_type": "markdown",
      "metadata": {
        "id": "fPag8zbCi0Wt"
      },
      "source": [
        "### Zip: Compactando listas"
      ]
    },
    {
      "cell_type": "code",
      "execution_count": 34,
      "metadata": {
        "colab": {
          "base_uri": "https://localhost:8080/"
        },
        "id": "ag80RPOZi0Wt",
        "outputId": "65006b6d-152f-47f5-e6bc-4e6e0c0b31e1"
      },
      "outputs": [
        {
          "output_type": "execute_result",
          "data": {
            "text/plain": [
              "<zip at 0x7dbad709adc0>"
            ]
          },
          "metadata": {},
          "execution_count": 34
        }
      ],
      "source": [
        "lista2 = ['Alesi', 'Vivi', 'Thorin']\n",
        "lista3 = [31, 27, 6]\n",
        "\n",
        "lista_zipada = zip(lista2, lista3)\n",
        "\n",
        "# não dá para imprimir um elemento zipado, digamos assim\n",
        "lista_zipada\n",
        "\n",
        "#qual a alternativa? - transformá-lo em um iterável, ou seja, lista, tupla...\n"
      ]
    },
    {
      "cell_type": "code",
      "execution_count": 35,
      "metadata": {
        "colab": {
          "base_uri": "https://localhost:8080/"
        },
        "id": "O-iJWCc2i0Wt",
        "outputId": "de868125-dc79-416c-8841-eb11e3197862"
      },
      "outputs": [
        {
          "output_type": "execute_result",
          "data": {
            "text/plain": [
              "(('Alesi', 31), ('Vivi', 27), ('Thorin', 6))"
            ]
          },
          "metadata": {},
          "execution_count": 35
        }
      ],
      "source": [
        "tupla3 = tuple(lista_zipada)\n",
        "tupla3"
      ]
    },
    {
      "cell_type": "code",
      "execution_count": 39,
      "metadata": {
        "colab": {
          "base_uri": "https://localhost:8080/"
        },
        "id": "aXgv9Juki0Wt",
        "outputId": "bc7d76a8-bbbd-4679-cff1-88883939a648"
      },
      "outputs": [
        {
          "output_type": "stream",
          "name": "stdout",
          "text": [
            "('Alesi', 31)\n",
            "('Vivi', 27)\n",
            "('Thorin', 6)\n"
          ]
        }
      ],
      "source": [
        "for x in tupla3:\n",
        "  print(x)\n"
      ]
    },
    {
      "cell_type": "code",
      "source": [
        "for x, y in tupla3:\n",
        "  print(x)\n",
        "  print(y)\n"
      ],
      "metadata": {
        "colab": {
          "base_uri": "https://localhost:8080/"
        },
        "id": "qVWrXnq9mLXW",
        "outputId": "bbca6366-6ce9-47f2-9729-81de738bce2f"
      },
      "execution_count": 40,
      "outputs": [
        {
          "output_type": "stream",
          "name": "stdout",
          "text": [
            "Alesi\n",
            "31\n",
            "Vivi\n",
            "27\n",
            "Thorin\n",
            "6\n"
          ]
        }
      ]
    },
    {
      "cell_type": "code",
      "source": [
        "for x, y in zip(lista2, lista3):\n",
        "  print(x)\n",
        "  print(y)"
      ],
      "metadata": {
        "colab": {
          "base_uri": "https://localhost:8080/"
        },
        "id": "MyWUjuCYnL3g",
        "outputId": "b02beccf-a18d-4382-b484-dfc9ef183d9b"
      },
      "execution_count": 42,
      "outputs": [
        {
          "output_type": "stream",
          "name": "stdout",
          "text": [
            "Alesi\n",
            "31\n",
            "Vivi\n",
            "27\n",
            "Thorin\n",
            "6\n"
          ]
        }
      ]
    }
  ],
  "metadata": {
    "kernelspec": {
      "display_name": "Python 3",
      "language": "python",
      "name": "python3"
    },
    "language_info": {
      "codemirror_mode": {
        "name": "ipython",
        "version": 3
      },
      "file_extension": ".py",
      "mimetype": "text/x-python",
      "name": "python",
      "nbconvert_exporter": "python",
      "pygments_lexer": "ipython3",
      "version": "3.9.0"
    },
    "colab": {
      "provenance": [],
      "include_colab_link": true
    }
  },
  "nbformat": 4,
  "nbformat_minor": 0
}