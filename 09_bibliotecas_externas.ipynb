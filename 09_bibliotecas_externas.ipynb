{
  "cells": [
    {
      "cell_type": "markdown",
      "metadata": {
        "id": "sv9QPSGcDYoq"
      },
      "source": [
        "## **Python Essencial para Data Science**\n",
        "**Prof. Dr. Samuel Martins (@hisamuka @xavecoding)** <br/>\n",
        "xavecoding: https://youtube.com/c/xavecoding <br/><br/>\n",
        "\n",
        "<a rel=\"license\" href=\"http://creativecommons.org/licenses/by-nc-sa/4.0/\"><img alt=\"Creative Commons License\" style=\"border-width:0\" src=\"https://i.creativecommons.org/l/by-nc-sa/4.0/88x31.png\" /></a><br />This work is licensed under a <a rel=\"license\" href=\"http://creativecommons.org/licenses/by-nc-sa/4.0/\">Creative Commons Attribution-NonCommercial-ShareAlike 4.0 International License</a>."
      ]
    },
    {
      "cell_type": "markdown",
      "metadata": {
        "id": "aQBql2mZDYor"
      },
      "source": [
        "## Módulos internos/externos"
      ]
    },
    {
      "cell_type": "markdown",
      "metadata": {
        "id": "zscdgsiADYos"
      },
      "source": [
        "#### Importando um módulo (biblioteca)"
      ]
    },
    {
      "cell_type": "code",
      "execution_count": 1,
      "metadata": {
        "id": "TimCjajXDYos"
      },
      "outputs": [],
      "source": [
        "# importa a lib math, assim eu posso usar funções que tem nela\n",
        "import math"
      ]
    },
    {
      "cell_type": "code",
      "execution_count": 2,
      "metadata": {
        "id": "52PC1l68DYot",
        "outputId": "0090a8da-65cd-448c-8eb2-a276f4fb75cd",
        "colab": {
          "base_uri": "https://localhost:8080/"
        }
      },
      "outputs": [
        {
          "output_type": "execute_result",
          "data": {
            "text/plain": [
              "1024.0"
            ]
          },
          "metadata": {},
          "execution_count": 2
        }
      ],
      "source": [
        "# pow é uma função que tem dentro da lib math. Para usá-la, eu só preciso botar assim:\n",
        "# math.pow(base, expoente)\n",
        "math.pow(2, 10)"
      ]
    },
    {
      "cell_type": "markdown",
      "metadata": {
        "id": "14kbo5fsDYou"
      },
      "source": [
        "#### Atribuindo um nome diferente (alias) a um modulo importado"
      ]
    },
    {
      "cell_type": "code",
      "execution_count": null,
      "metadata": {
        "id": "T19QOberDYou"
      },
      "outputs": [],
      "source": [
        "import random as ran"
      ]
    },
    {
      "cell_type": "code",
      "execution_count": null,
      "metadata": {
        "id": "XrHW24K7DYou",
        "outputId": "47620baf-da37-427b-b4f2-bab84105f4eb"
      },
      "outputs": [
        {
          "data": {
            "text/plain": [
              "4"
            ]
          },
          "execution_count": 9,
          "metadata": {},
          "output_type": "execute_result"
        }
      ],
      "source": [
        "ran.randint(0, 10)"
      ]
    },
    {
      "cell_type": "code",
      "execution_count": null,
      "metadata": {
        "id": "RzDKHVhyDYou",
        "outputId": "b37c530b-9368-4191-f742-23bc17a613c4"
      },
      "outputs": [
        {
          "name": "stdout",
          "output_type": "stream",
          "text": [
            "Help on method randint in module random:\n",
            "\n",
            "randint(a, b) method of random.Random instance\n",
            "    Return random integer in range [a, b], including both end points.\n",
            "\n"
          ]
        }
      ],
      "source": [
        "help(ran.randint)"
      ]
    },
    {
      "cell_type": "code",
      "execution_count": null,
      "metadata": {
        "id": "m3l3beH4DYov"
      },
      "outputs": [],
      "source": [
        "import numpy as np"
      ]
    },
    {
      "cell_type": "code",
      "execution_count": null,
      "metadata": {
        "id": "rTAEvSWyDYov",
        "outputId": "d8e2d283-867f-4dca-c437-57db19ce83b5"
      },
      "outputs": [
        {
          "data": {
            "text/plain": [
              "array([0, 1, 2, 3, 4, 5, 6, 7, 8, 9])"
            ]
          },
          "execution_count": 14,
          "metadata": {},
          "output_type": "execute_result"
        }
      ],
      "source": [
        "np.arange(10)"
      ]
    },
    {
      "cell_type": "markdown",
      "metadata": {
        "id": "__VQr6xgDYov"
      },
      "source": [
        "#### Importando apenas algumas \"coisas\" (funções, atributos, constantes, ...) de um módulo\n",
        "Deixa todas as \"coisas\" acessíveis sem a necessidade de chamar `modulo.coisa`"
      ]
    },
    {
      "cell_type": "code",
      "execution_count": null,
      "metadata": {
        "id": "IrsSqu7CDYov"
      },
      "outputs": [],
      "source": [
        "from math import log2, pi, sqrt"
      ]
    },
    {
      "cell_type": "code",
      "execution_count": null,
      "metadata": {
        "id": "-Zuoq_hvDYov",
        "outputId": "b70efa14-9be7-4e70-efe8-315e7784f180"
      },
      "outputs": [
        {
          "name": "stdout",
          "output_type": "stream",
          "text": [
            "1.4142135623730951\n",
            "4.0\n",
            "3.141592653589793\n"
          ]
        }
      ],
      "source": [
        "print(sqrt(2))\n",
        "print(log2(16))\n",
        "print(pi)"
      ]
    },
    {
      "cell_type": "markdown",
      "metadata": {
        "id": "KSByZLbhDYow"
      },
      "source": [
        "#### Importando todas as \"coisas\" (funções, atributos, constantes, ...) de um módulo"
      ]
    },
    {
      "cell_type": "code",
      "execution_count": null,
      "metadata": {
        "id": "Y-QeWyMYDYow",
        "outputId": "6a180ffb-896a-4a56-8511-241f65bc0b04"
      },
      "outputs": [
        {
          "data": {
            "text/plain": [
              "2.0"
            ]
          },
          "execution_count": 24,
          "metadata": {},
          "output_type": "execute_result"
        }
      ],
      "source": [
        "from math import *\n",
        "\n",
        "log10(100)"
      ]
    },
    {
      "cell_type": "markdown",
      "metadata": {
        "id": "yUrJfN7xDYow"
      },
      "source": [
        "Apesar de se possível, tal prática **não é indicada**, uma vez que (1) \"coisas\", p. ex., de módulos diferentes mas de mesmo nome podem ser importadas, e (2) pode não haver necessidade de ter acesso a todas as \"coisas\" do módulo."
      ]
    },
    {
      "cell_type": "markdown",
      "metadata": {
        "id": "k-DwsYSdDYow"
      },
      "source": [
        "### Submódulos\n",
        "Alguns módulos podem possuir **submódulos**:"
      ]
    },
    {
      "cell_type": "code",
      "execution_count": null,
      "metadata": {
        "id": "3gOuO1hPDYow"
      },
      "outputs": [],
      "source": [
        "import numpy as np"
      ]
    },
    {
      "cell_type": "code",
      "execution_count": null,
      "metadata": {
        "id": "mm4HilljDYow",
        "outputId": "81ef85cb-ced3-4656-c015-6ee624125157"
      },
      "outputs": [
        {
          "data": {
            "text/plain": [
              "<module 'numpy.random' from '/home/hisamuka/yeah/lib/python3.8/site-packages/numpy/random/__init__.py'>"
            ]
          },
          "execution_count": 27,
          "metadata": {},
          "output_type": "execute_result"
        }
      ],
      "source": [
        "np.random"
      ]
    },
    {
      "cell_type": "code",
      "execution_count": null,
      "metadata": {
        "id": "nUbBflM2DYow",
        "outputId": "bacbac19-e2b4-4d20-aa70-9511b5c3246f"
      },
      "outputs": [
        {
          "data": {
            "text/plain": [
              "9"
            ]
          },
          "execution_count": 28,
          "metadata": {},
          "output_type": "execute_result"
        }
      ],
      "source": [
        "from numpy import random\n",
        "random.randint(0, 10)"
      ]
    },
    {
      "cell_type": "markdown",
      "metadata": {
        "id": "ZrNWIn5MDYow"
      },
      "source": [
        "### Módulos Uteis"
      ]
    },
    {
      "cell_type": "markdown",
      "metadata": {
        "id": "ea_1X0EeDYow"
      },
      "source": [
        "- `os`: funções do sistema operacional\n",
        "- `glob`: funções para criar listas a partir de diretórios do sistema\n",
        "- `shutil`: funções para gerenciar arquivos e diretórios\n",
        "- `math`: funções matemáticas\n",
        "- `random`: geradores de números aleatórios\n",
        "- `pickle`: protocolos para (de-)serialização de dados de entrada e saída"
      ]
    },
    {
      "cell_type": "markdown",
      "metadata": {
        "id": "elCNp9jIDYox"
      },
      "source": [
        "### Outros Tópicos"
      ]
    },
    {
      "cell_type": "markdown",
      "metadata": {
        "id": "FR-QdJ4cDYox"
      },
      "source": [
        "- Manipulação de arquivos\n",
        "- Orientação a objetos\n",
        "    - Classes\n",
        "    - Objetos\n",
        "    - Métodos, métodos estáticos\n",
        "    - Herança\n",
        "- Básico da biblioteca `numpy`\n",
        "- Básico da biblioteca `matplotlib`"
      ]
    }
  ],
  "metadata": {
    "kernelspec": {
      "display_name": "Python 3",
      "language": "python",
      "name": "python3"
    },
    "language_info": {
      "codemirror_mode": {
        "name": "ipython",
        "version": 3
      },
      "file_extension": ".py",
      "mimetype": "text/x-python",
      "name": "python",
      "nbconvert_exporter": "python",
      "pygments_lexer": "ipython3",
      "version": "3.8.5"
    },
    "colab": {
      "provenance": []
    }
  },
  "nbformat": 4,
  "nbformat_minor": 0
}