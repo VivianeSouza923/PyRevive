{
  "cells": [
    {
      "cell_type": "markdown",
      "metadata": {
        "id": "view-in-github",
        "colab_type": "text"
      },
      "source": [
        "<a href=\"https://colab.research.google.com/github/VivianeSouza923/PyRevive/blob/main/pratice_05_lists.ipynb\" target=\"_parent\"><img src=\"https://colab.research.google.com/assets/colab-badge.svg\" alt=\"Open In Colab\"/></a>"
      ]
    },
    {
      "cell_type": "markdown",
      "metadata": {
        "id": "LnsRD45AdnYT"
      },
      "source": [
        "## **Python Essencial para Data Science**\n",
        "**Prof. Dr. Samuel Martins (@hisamuka @xavecoding)** <br/>\n",
        "xavecoding: https://youtube.com/c/xavecoding <br/><br/>\n",
        "\n",
        "<a rel=\"license\" href=\"http://creativecommons.org/licenses/by-nc-sa/4.0/\"><img alt=\"Creative Commons License\" style=\"border-width:0\" src=\"https://i.creativecommons.org/l/by-nc-sa/4.0/88x31.png\" /></a><br />This work is licensed under a <a rel=\"license\" href=\"http://creativecommons.org/licenses/by-nc-sa/4.0/\">Creative Commons Attribution-NonCommercial-ShareAlike 4.0 International License</a>."
      ]
    },
    {
      "cell_type": "markdown",
      "metadata": {
        "id": "G3wHOM1OdnYV"
      },
      "source": [
        "## Lists\n",
        "Listas em Python representam uma **sequência de elementos _ordenados_**."
      ]
    },
    {
      "cell_type": "code",
      "execution_count": 1,
      "metadata": {
        "colab": {
          "base_uri": "https://localhost:8080/"
        },
        "id": "GxAvGbc-dnYV",
        "outputId": "3fc1e85e-5ba3-4385-96e9-88b99d0efe6c"
      },
      "outputs": [
        {
          "output_type": "execute_result",
          "data": {
            "text/plain": [
              "['linda', 'inteligente', 'de Deus', 'mulher virtuosa']"
            ]
          },
          "metadata": {},
          "execution_count": 1
        }
      ],
      "source": [
        "viviane = ['linda', 'inteligente', 'de Deus', 'mulher virtuosa']\n",
        "viviane"
      ]
    },
    {
      "cell_type": "code",
      "source": [
        "type(viviane)"
      ],
      "metadata": {
        "colab": {
          "base_uri": "https://localhost:8080/"
        },
        "id": "C-xPXVn9qgPC",
        "outputId": "1d4b3fae-d5d3-4b74-98c2-66b27f8e5011"
      },
      "execution_count": 2,
      "outputs": [
        {
          "output_type": "execute_result",
          "data": {
            "text/plain": [
              "list"
            ]
          },
          "metadata": {},
          "execution_count": 2
        }
      ]
    },
    {
      "cell_type": "markdown",
      "metadata": {
        "id": "YuuZyfQPdnYV"
      },
      "source": [
        "A **ordenação** dos elementos refere-se a seus _posicionamentos_ na lista, ou seja, o primeiro elemento da lista é o 20, o segundo é o 11, e assim por diante. <br/>\n",
        "A **ordem** dos valores/conteúdos é outra coisa."
      ]
    },
    {
      "cell_type": "code",
      "execution_count": 3,
      "metadata": {
        "colab": {
          "base_uri": "https://localhost:8080/",
          "height": 35
        },
        "id": "1ANkTZbFdnYW",
        "outputId": "17936458-cb8a-449a-9806-0465b6e6d680"
      },
      "outputs": [
        {
          "output_type": "execute_result",
          "data": {
            "text/plain": [
              "'de Deus'"
            ],
            "application/vnd.google.colaboratory.intrinsic+json": {
              "type": "string"
            }
          },
          "metadata": {},
          "execution_count": 3
        }
      ],
      "source": [
        "viviane[2]"
      ]
    },
    {
      "cell_type": "markdown",
      "metadata": {
        "id": "E5tDYPpKdnYW"
      },
      "source": [
        "#### Listas vazias"
      ]
    },
    {
      "cell_type": "code",
      "execution_count": 4,
      "metadata": {
        "colab": {
          "base_uri": "https://localhost:8080/"
        },
        "id": "14upujwBdnYW",
        "outputId": "07d7cb53-71ab-4b90-858a-b7f255d7b26f"
      },
      "outputs": [
        {
          "output_type": "execute_result",
          "data": {
            "text/plain": [
              "[]"
            ]
          },
          "metadata": {},
          "execution_count": 4
        }
      ],
      "source": [
        "listinha = []\n",
        "listinha"
      ]
    },
    {
      "cell_type": "code",
      "execution_count": 5,
      "metadata": {
        "colab": {
          "base_uri": "https://localhost:8080/"
        },
        "id": "SJbe0GL1dnYW",
        "outputId": "1a574f65-7c01-4c59-cf69-866b0c059613"
      },
      "outputs": [
        {
          "output_type": "execute_result",
          "data": {
            "text/plain": [
              "[]"
            ]
          },
          "metadata": {},
          "execution_count": 5
        }
      ],
      "source": [
        "listinha_1 = list()\n",
        "listinha_1"
      ]
    },
    {
      "cell_type": "markdown",
      "metadata": {
        "id": "Ia3-gD1ndnYW"
      },
      "source": [
        "#### Listas podem ter elementos de _qualquer tipo_"
      ]
    },
    {
      "cell_type": "code",
      "execution_count": 6,
      "metadata": {
        "colab": {
          "base_uri": "https://localhost:8080/"
        },
        "id": "2qI7E-jFdnYW",
        "outputId": "fe0de639-46ad-4bd7-faf3-bc990fd2b3a6"
      },
      "outputs": [
        {
          "output_type": "execute_result",
          "data": {
            "text/plain": [
              "[1, 2, 3, 4, 5, 6, 7]"
            ]
          },
          "metadata": {},
          "execution_count": 6
        }
      ],
      "source": [
        "listinha_2 = [1, 2, 3, 4, 5, 6, 7]\n",
        "listinha_2"
      ]
    },
    {
      "cell_type": "markdown",
      "metadata": {
        "id": "JEwaUT6rdnYW"
      },
      "source": [
        "#### Listas podem ter _tipos diferentes_ numa lista:"
      ]
    },
    {
      "cell_type": "code",
      "execution_count": 9,
      "metadata": {
        "colab": {
          "base_uri": "https://localhost:8080/"
        },
        "id": "zRJQz_1idnYW",
        "outputId": "0fceb7a4-6ddc-434f-ce6f-5b22c8c6f85d"
      },
      "outputs": [
        {
          "output_type": "stream",
          "name": "stdout",
          "text": [
            "['brilhosa', 5, 2.6, True]\n"
          ]
        }
      ],
      "source": [
        "listinha_3 = ['brilhosa', 5, 2.6, True]\n",
        "listinha_3\n"
      ]
    },
    {
      "cell_type": "code",
      "source": [
        "print(listinha_3)"
      ],
      "metadata": {
        "colab": {
          "base_uri": "https://localhost:8080/"
        },
        "id": "312Nxy2bruAC",
        "outputId": "2ff2a8ae-f170-47cf-963e-f3a7459d383e"
      },
      "execution_count": 10,
      "outputs": [
        {
          "output_type": "stream",
          "name": "stdout",
          "text": [
            "['brilhosa', 5, 2.6, True]\n"
          ]
        }
      ]
    },
    {
      "cell_type": "markdown",
      "metadata": {
        "id": "Sj-NmvR6dnYW"
      },
      "source": [
        "#### Podemos ter listas de listas"
      ]
    },
    {
      "cell_type": "code",
      "execution_count": 11,
      "metadata": {
        "colab": {
          "base_uri": "https://localhost:8080/"
        },
        "id": "fUIwguondnYW",
        "outputId": "d2f353f4-3e3e-4df5-81e7-56745fb5bd71"
      },
      "outputs": [
        {
          "output_type": "execute_result",
          "data": {
            "text/plain": [
              "[['vivi', 'alesi', 'thorin'], [True, False, True], [1, 2, 3]]"
            ]
          },
          "metadata": {},
          "execution_count": 11
        }
      ],
      "source": [
        "matriz = [['vivi', 'alesi', 'thorin'], [True, False, True], [1, 2, 3]]\n",
        "matriz"
      ]
    },
    {
      "cell_type": "code",
      "execution_count": 12,
      "metadata": {
        "colab": {
          "base_uri": "https://localhost:8080/"
        },
        "id": "MT3grZ2GdnYW",
        "outputId": "7aefc4ed-57d6-4ce9-cd9f-3288e16c961f"
      },
      "outputs": [
        {
          "output_type": "stream",
          "name": "stdout",
          "text": [
            "[['vivi', 'alesi', 'thorin'], [True, False, True], [1, 2, 3]]\n"
          ]
        }
      ],
      "source": [
        "print(matriz)"
      ]
    },
    {
      "cell_type": "code",
      "execution_count": 13,
      "metadata": {
        "colab": {
          "base_uri": "https://localhost:8080/"
        },
        "id": "k8_Hu4QKdnYW",
        "outputId": "d52da0cc-facf-4922-c84a-7977e07c719c"
      },
      "outputs": [
        {
          "output_type": "execute_result",
          "data": {
            "text/plain": [
              "list"
            ]
          },
          "metadata": {},
          "execution_count": 13
        }
      ],
      "source": [
        "type(matriz)"
      ]
    },
    {
      "cell_type": "code",
      "execution_count": 14,
      "metadata": {
        "colab": {
          "base_uri": "https://localhost:8080/"
        },
        "id": "ggPmvx0odnYX",
        "outputId": "65dda076-a04f-465c-c427-0026a67ef756"
      },
      "outputs": [
        {
          "output_type": "execute_result",
          "data": {
            "text/plain": [
              "list"
            ]
          },
          "metadata": {},
          "execution_count": 14
        }
      ],
      "source": [
        "type(matriz[1])"
      ]
    },
    {
      "cell_type": "code",
      "execution_count": 15,
      "metadata": {
        "colab": {
          "base_uri": "https://localhost:8080/"
        },
        "id": "R0KDbUdQdnYX",
        "outputId": "283d9dd2-e072-4a6f-fae5-49bc0649245e"
      },
      "outputs": [
        {
          "output_type": "stream",
          "name": "stdout",
          "text": [
            "['vivi', 'alesi', 'thorin']\n",
            "[True, False, True]\n",
            "[1, 2, 3]\n"
          ]
        }
      ],
      "source": [
        "for linha in matriz:\n",
        "  print(linha)"
      ]
    },
    {
      "cell_type": "code",
      "source": [
        "matriz[1][0]"
      ],
      "metadata": {
        "colab": {
          "base_uri": "https://localhost:8080/"
        },
        "id": "Zb9eoFmesix6",
        "outputId": "ab1601b0-1eef-4bdd-d9e0-c485deb42dcc"
      },
      "execution_count": 16,
      "outputs": [
        {
          "output_type": "execute_result",
          "data": {
            "text/plain": [
              "True"
            ]
          },
          "metadata": {},
          "execution_count": 16
        }
      ]
    },
    {
      "cell_type": "markdown",
      "metadata": {
        "id": "3yCjnnqUdnYX"
      },
      "source": [
        "### Indexação\n",
        "\n",
        "Cada elemento de uma lista é indexado a uma posição. <br/>\n",
        "Podemos acessar um elemento passando seu índice com []:"
      ]
    },
    {
      "cell_type": "code",
      "execution_count": 19,
      "metadata": {
        "colab": {
          "base_uri": "https://localhost:8080/"
        },
        "id": "t-e0AebsdnYX",
        "outputId": "f4a2282e-f684-4b38-95e5-17403431ba6d"
      },
      "outputs": [
        {
          "output_type": "execute_result",
          "data": {
            "text/plain": [
              "2.6"
            ]
          },
          "metadata": {},
          "execution_count": 19
        }
      ],
      "source": [
        "listinha_3[2]"
      ]
    },
    {
      "cell_type": "code",
      "execution_count": 20,
      "metadata": {
        "colab": {
          "base_uri": "https://localhost:8080/",
          "height": 35
        },
        "id": "0TLbioTLdnYX",
        "outputId": "e8978f5e-f44c-41bb-a077-07a5e3e5ac34"
      },
      "outputs": [
        {
          "output_type": "execute_result",
          "data": {
            "text/plain": [
              "'brilhosa'"
            ],
            "application/vnd.google.colaboratory.intrinsic+json": {
              "type": "string"
            }
          },
          "metadata": {},
          "execution_count": 20
        }
      ],
      "source": [
        "listinha_3[0]"
      ]
    },
    {
      "cell_type": "code",
      "execution_count": 21,
      "metadata": {
        "colab": {
          "base_uri": "https://localhost:8080/"
        },
        "id": "tPOamSJNdnYX",
        "outputId": "aa82e9e7-f480-4e02-e55b-6dd87633b0fc"
      },
      "outputs": [
        {
          "output_type": "execute_result",
          "data": {
            "text/plain": [
              "4"
            ]
          },
          "metadata": {},
          "execution_count": 21
        }
      ],
      "source": [
        "len(listinha_3)"
      ]
    },
    {
      "cell_type": "code",
      "source": [
        "listinha_3[3]"
      ],
      "metadata": {
        "colab": {
          "base_uri": "https://localhost:8080/"
        },
        "id": "RXHDdoNdtYUj",
        "outputId": "92c90c62-d1cc-44c7-ef2b-18ae080aff0b"
      },
      "execution_count": 23,
      "outputs": [
        {
          "output_type": "execute_result",
          "data": {
            "text/plain": [
              "True"
            ]
          },
          "metadata": {},
          "execution_count": 23
        }
      ]
    },
    {
      "cell_type": "code",
      "source": [
        "listinha_3[4]"
      ],
      "metadata": {
        "colab": {
          "base_uri": "https://localhost:8080/",
          "height": 175
        },
        "id": "fmOeT-zOtr1u",
        "outputId": "643fd777-2179-464a-856a-bbe02028cf7d"
      },
      "execution_count": 24,
      "outputs": [
        {
          "output_type": "error",
          "ename": "IndexError",
          "evalue": "ignored",
          "traceback": [
            "\u001b[0;31m---------------------------------------------------------------------------\u001b[0m",
            "\u001b[0;31mIndexError\u001b[0m                                Traceback (most recent call last)",
            "\u001b[0;32m<ipython-input-24-7989e07cfac5>\u001b[0m in \u001b[0;36m<cell line: 1>\u001b[0;34m()\u001b[0m\n\u001b[0;32m----> 1\u001b[0;31m \u001b[0mlistinha_3\u001b[0m\u001b[0;34m[\u001b[0m\u001b[0;36m4\u001b[0m\u001b[0;34m]\u001b[0m\u001b[0;34m\u001b[0m\u001b[0;34m\u001b[0m\u001b[0m\n\u001b[0m",
            "\u001b[0;31mIndexError\u001b[0m: list index out of range"
          ]
        }
      ]
    },
    {
      "cell_type": "markdown",
      "metadata": {
        "id": "ZcjFUS2BdnYX"
      },
      "source": [
        "Listas em Python suporta **índices negativos**, cuja ordem de indexação é o contrário, começando do final para o início:"
      ]
    },
    {
      "cell_type": "code",
      "execution_count": 25,
      "metadata": {
        "colab": {
          "base_uri": "https://localhost:8080/"
        },
        "id": "6FPwG5v1dnYX",
        "outputId": "d66f501c-1e56-4e6e-f5b5-df0e8ddd0d02"
      },
      "outputs": [
        {
          "output_type": "execute_result",
          "data": {
            "text/plain": [
              "True"
            ]
          },
          "metadata": {},
          "execution_count": 25
        }
      ],
      "source": [
        "listinha_3[-1]"
      ]
    },
    {
      "cell_type": "code",
      "execution_count": 27,
      "metadata": {
        "colab": {
          "base_uri": "https://localhost:8080/"
        },
        "id": "taVK0ZUmdnYX",
        "outputId": "625b1397-10c4-45cb-cd91-990fbad801df"
      },
      "outputs": [
        {
          "output_type": "execute_result",
          "data": {
            "text/plain": [
              "2.6"
            ]
          },
          "metadata": {},
          "execution_count": 27
        }
      ],
      "source": [
        "listinha_3[-2]"
      ]
    },
    {
      "cell_type": "code",
      "source": [
        "listinha_3[-3]"
      ],
      "metadata": {
        "colab": {
          "base_uri": "https://localhost:8080/"
        },
        "id": "ri8FC-0MuN6_",
        "outputId": "4bbe25e0-4ba5-4cd2-dcef-eddc735d811e"
      },
      "execution_count": 28,
      "outputs": [
        {
          "output_type": "execute_result",
          "data": {
            "text/plain": [
              "5"
            ]
          },
          "metadata": {},
          "execution_count": 28
        }
      ]
    },
    {
      "cell_type": "code",
      "source": [
        "listinha_3[-4]"
      ],
      "metadata": {
        "colab": {
          "base_uri": "https://localhost:8080/",
          "height": 35
        },
        "id": "kw9oDwkfuRCX",
        "outputId": "c0861046-445a-40ee-e604-bf91dca41ba6"
      },
      "execution_count": 29,
      "outputs": [
        {
          "output_type": "execute_result",
          "data": {
            "text/plain": [
              "'brilhosa'"
            ],
            "application/vnd.google.colaboratory.intrinsic+json": {
              "type": "string"
            }
          },
          "metadata": {},
          "execution_count": 29
        }
      ]
    },
    {
      "cell_type": "code",
      "source": [
        "len(listinha_3)"
      ],
      "metadata": {
        "colab": {
          "base_uri": "https://localhost:8080/"
        },
        "id": "VAfrOOrZuXW-",
        "outputId": "111f5f5e-4982-47b2-92da-01548cae3d7f"
      },
      "execution_count": 32,
      "outputs": [
        {
          "output_type": "execute_result",
          "data": {
            "text/plain": [
              "4"
            ]
          },
          "metadata": {},
          "execution_count": 32
        }
      ]
    },
    {
      "cell_type": "markdown",
      "metadata": {
        "id": "lWVtuIvndnYX"
      },
      "source": [
        "Podemos também acessar o _último elemento_ da lista desta maneira:"
      ]
    },
    {
      "cell_type": "code",
      "execution_count": 33,
      "metadata": {
        "colab": {
          "base_uri": "https://localhost:8080/"
        },
        "id": "dUaFr4hldnYX",
        "outputId": "f382e634-a974-4355-8432-cbc2a62b45c9"
      },
      "outputs": [
        {
          "output_type": "execute_result",
          "data": {
            "text/plain": [
              "True"
            ]
          },
          "metadata": {},
          "execution_count": 33
        }
      ],
      "source": [
        "listinha_3[len(listinha_3) - 1]"
      ]
    },
    {
      "cell_type": "markdown",
      "metadata": {
        "id": "MEbUnC9WdnYX"
      },
      "source": [
        "Inline-style:\n",
        "![](./imagens/exemplo_lista_indices.png)"
      ]
    },
    {
      "cell_type": "markdown",
      "metadata": {
        "id": "GiU_8yfFdnYX"
      },
      "source": [
        "### Slicing (fatiamento)\n",
        "Podemos retornar **uma cópia** dos elementos de um **intervalo contínuo** de uma lista."
      ]
    },
    {
      "cell_type": "code",
      "execution_count": 34,
      "metadata": {
        "colab": {
          "base_uri": "https://localhost:8080/"
        },
        "id": "Sh4Jgpn6dnYX",
        "outputId": "1bc51920-a4c6-467f-a5ca-4169f344c37a"
      },
      "outputs": [
        {
          "output_type": "execute_result",
          "data": {
            "text/plain": [
              "[2, 3, 4, 5]"
            ]
          },
          "metadata": {},
          "execution_count": 34
        }
      ],
      "source": [
        "listinha_2[1:5]"
      ]
    },
    {
      "cell_type": "markdown",
      "metadata": {
        "id": "O0L8ZtFbdnYX"
      },
      "source": [
        "`planetas[0:3]` é nosso jeito de consultar os elementos da lista `planetas` do índice 0 até o índice 3 (sem incluí-lo)."
      ]
    },
    {
      "cell_type": "markdown",
      "metadata": {
        "id": "SNUi6rcJdnYX"
      },
      "source": [
        "#### Entendendo os índices de um Intervalo\n",
        "Um intervalo em python sempre **inclui** o número passado como **limite inferior** e *exclui* o número do *limite superior* do intervalo.\n",
        "\n",
        "`[10:15]` são os números do intervalo [10, 15), ou seja, [10, 11, 12, 13, 14]"
      ]
    },
    {
      "cell_type": "markdown",
      "metadata": {
        "id": "w1-RHXsMdnYX"
      },
      "source": [
        "#### De volta ao slicing"
      ]
    },
    {
      "cell_type": "markdown",
      "metadata": {
        "id": "ak6BQ73gdnYX"
      },
      "source": [
        "Os índices iniciais e finais do intervalo do _slicing_ são **opcionais**.\n",
        "\n",
        "Se não informarmos o _índice inicial_, o valor 0 é assumido:"
      ]
    },
    {
      "cell_type": "code",
      "execution_count": 35,
      "metadata": {
        "colab": {
          "base_uri": "https://localhost:8080/"
        },
        "id": "YhDBz9epdnYY",
        "outputId": "883109b9-b077-43ec-dfb5-eff960dac09d"
      },
      "outputs": [
        {
          "output_type": "execute_result",
          "data": {
            "text/plain": [
              "[1, 2, 3, 4, 5, 6]"
            ]
          },
          "metadata": {},
          "execution_count": 35
        }
      ],
      "source": [
        "listinha_2[:6]"
      ]
    },
    {
      "cell_type": "code",
      "execution_count": 36,
      "metadata": {
        "colab": {
          "base_uri": "https://localhost:8080/"
        },
        "id": "EqKs9zB4dnYY",
        "outputId": "07d83f5e-cf58-48fc-cd88-a7268780869e"
      },
      "outputs": [
        {
          "output_type": "execute_result",
          "data": {
            "text/plain": [
              "[1, 2, 3]"
            ]
          },
          "metadata": {},
          "execution_count": 36
        }
      ],
      "source": [
        "listinha_2[:3]"
      ]
    },
    {
      "cell_type": "markdown",
      "metadata": {
        "id": "yGiKhkcidnYY"
      },
      "source": [
        "Se ignorarmos o _índice final_, é assumido o _tamanho da lista_ `len(lista)`:"
      ]
    },
    {
      "cell_type": "code",
      "execution_count": 37,
      "metadata": {
        "colab": {
          "base_uri": "https://localhost:8080/"
        },
        "id": "EyBKqaQMdnYY",
        "outputId": "40642a50-b66f-4038-f8e8-aa80ca088519"
      },
      "outputs": [
        {
          "output_type": "execute_result",
          "data": {
            "text/plain": [
              "[4, 5, 6, 7]"
            ]
          },
          "metadata": {},
          "execution_count": 37
        }
      ],
      "source": [
        "listinha_2[3:]"
      ]
    },
    {
      "cell_type": "markdown",
      "metadata": {
        "id": "HoIgSaOQdnYY"
      },
      "source": [
        "Podemos também fazer o slicing com **índices negativos**:"
      ]
    },
    {
      "cell_type": "code",
      "execution_count": 38,
      "metadata": {
        "colab": {
          "base_uri": "https://localhost:8080/"
        },
        "id": "KxxugHArdnYZ",
        "outputId": "365a58e6-679e-4f8e-8391-b69c5927f5cc"
      },
      "outputs": [
        {
          "output_type": "execute_result",
          "data": {
            "text/plain": [
              "[4, 5]"
            ]
          },
          "metadata": {},
          "execution_count": 38
        }
      ],
      "source": [
        "listinha_2[3:-2]"
      ]
    },
    {
      "cell_type": "markdown",
      "metadata": {
        "id": "QWqL0K0-dnYZ"
      },
      "source": [
        "`planetas[1:-1]` considera o intervalo que vai do índice [1], o **incluindo**, até o índice [-1] ou [len(planetas) - 1], no exemplo é o índice [7], o **excluindo**. <br/>\n",
        "Portanto, o intervalo retornado contém os índices [1, 2, 3, 4, 5, 6]."
      ]
    },
    {
      "cell_type": "markdown",
      "metadata": {
        "id": "W1SKAdpednYZ"
      },
      "source": [
        "<br/>"
      ]
    },
    {
      "cell_type": "markdown",
      "metadata": {
        "id": "tisqPt3VdnYa"
      },
      "source": [
        "Outro exemplo:"
      ]
    },
    {
      "cell_type": "code",
      "execution_count": 39,
      "metadata": {
        "colab": {
          "base_uri": "https://localhost:8080/"
        },
        "id": "MnEUluqhdnYa",
        "outputId": "4df03259-9e94-402c-d677-963d114f4081"
      },
      "outputs": [
        {
          "output_type": "execute_result",
          "data": {
            "text/plain": [
              "[6, 7]"
            ]
          },
          "metadata": {},
          "execution_count": 39
        }
      ],
      "source": [
        "listinha_2[5:]"
      ]
    },
    {
      "cell_type": "code",
      "execution_count": 40,
      "metadata": {
        "colab": {
          "base_uri": "https://localhost:8080/"
        },
        "id": "XKiqa4bUdnYa",
        "outputId": "92226712-8100-4160-c7a5-bef359434069"
      },
      "outputs": [
        {
          "output_type": "execute_result",
          "data": {
            "text/plain": [
              "[5, 6]"
            ]
          },
          "metadata": {},
          "execution_count": 40
        }
      ],
      "source": [
        "listinha_2[4:-1]"
      ]
    },
    {
      "cell_type": "markdown",
      "metadata": {
        "id": "fPpX69qbdnYa"
      },
      "source": [
        "Vamos entender o intervalo `[-3:]`.\n",
        "\n",
        "O índice `[-3]` corresponde ao índice `[len(planetas) - 3]`, ou seja, o índice `[5]`. <br/>\n",
        "Portanto, `[-3:]` é sinônonimo de `[5:]`.\n",
        "\n",
        "Ao omitir o último índice do intervalo, consideramos por padrão `len(planetas)`, que é 8. <br/>\n",
        "Logo, `[-3:]` é o mesmo que `[5:8]`, que resulta nos índices `[5, 6, 7]`, que são os índices dos 3 últimos elementos dessa lista."
      ]
    },
    {
      "cell_type": "markdown",
      "metadata": {
        "id": "lI96Rz6KdnYa"
      },
      "source": [
        "#### Os elementos retornados pelo Slicing de Listas a uma variável são CÓPIAS"
      ]
    },
    {
      "cell_type": "code",
      "execution_count": 64,
      "metadata": {
        "colab": {
          "base_uri": "https://localhost:8080/"
        },
        "id": "4Y4CuqZbdnYa",
        "outputId": "3a84d335-03de-4c9b-b190-722c7cafa002"
      },
      "outputs": [
        {
          "output_type": "execute_result",
          "data": {
            "text/plain": [
              "[2, 3, 4, 5]"
            ]
          },
          "metadata": {},
          "execution_count": 64
        }
      ],
      "source": [
        "copy_listinha = listinha_2[1:5]\n",
        "copy_listinha"
      ]
    },
    {
      "cell_type": "code",
      "execution_count": 42,
      "metadata": {
        "colab": {
          "base_uri": "https://localhost:8080/"
        },
        "id": "Ke0833VcdnYa",
        "outputId": "388dd884-7607-46aa-c45b-81baf7207486"
      },
      "outputs": [
        {
          "output_type": "execute_result",
          "data": {
            "text/plain": [
              "[1, 2, 3, 4, 5, 6, 7]"
            ]
          },
          "metadata": {},
          "execution_count": 42
        }
      ],
      "source": [
        "listinha_2"
      ]
    },
    {
      "cell_type": "code",
      "source": [
        "copy_listinha[2] = 2.5\n",
        "copy_listinha"
      ],
      "metadata": {
        "colab": {
          "base_uri": "https://localhost:8080/"
        },
        "id": "Lop5FpG1yMiE",
        "outputId": "462c787a-06ec-4167-ce43-47d5ae6df0c0"
      },
      "execution_count": 65,
      "outputs": [
        {
          "output_type": "execute_result",
          "data": {
            "text/plain": [
              "[2, 3, 2.5, 5]"
            ]
          },
          "metadata": {},
          "execution_count": 65
        }
      ]
    },
    {
      "cell_type": "markdown",
      "metadata": {
        "id": "UqbTex_PdnYa"
      },
      "source": [
        "#### Alteração de Múltiplos elementos de uma Lista via Slicing"
      ]
    },
    {
      "cell_type": "code",
      "execution_count": 66,
      "metadata": {
        "colab": {
          "base_uri": "https://localhost:8080/"
        },
        "id": "colQadtSdnYa",
        "outputId": "9494fd8b-b20a-461e-929e-922ec8e39fb1"
      },
      "outputs": [
        {
          "output_type": "execute_result",
          "data": {
            "text/plain": [
              "['a', 'b', 2.5, 5]"
            ]
          },
          "metadata": {},
          "execution_count": 66
        }
      ],
      "source": [
        "copy_listinha[0] = 'a'\n",
        "copy_listinha[1] = 'b'\n",
        "copy_listinha"
      ]
    },
    {
      "cell_type": "code",
      "source": [
        "copy_listinha[:2] = ['c', 'd']\n",
        "copy_listinha"
      ],
      "metadata": {
        "colab": {
          "base_uri": "https://localhost:8080/"
        },
        "id": "uVJOmyfkynyv",
        "outputId": "e5f66b0f-6a3e-43e7-fa7d-407500460356"
      },
      "execution_count": 67,
      "outputs": [
        {
          "output_type": "execute_result",
          "data": {
            "text/plain": [
              "['c', 'd', 2.5, 5]"
            ]
          },
          "metadata": {},
          "execution_count": 67
        }
      ]
    },
    {
      "cell_type": "markdown",
      "metadata": {
        "id": "wWK6widKdnYa"
      },
      "source": [
        "<br/>\n",
        "\n",
        "Se o **número de elementos atribuídos for DIFERENTE do número de elementos do slicing**, os elementos excedentos ou faltantes da lista são ignorados ===> TOME CUIDADO"
      ]
    },
    {
      "cell_type": "code",
      "execution_count": 68,
      "metadata": {
        "colab": {
          "base_uri": "https://localhost:8080/"
        },
        "id": "kpRtt4fMdnYa",
        "outputId": "24b51816-f292-4cd2-afe7-976bdc97b0d1"
      },
      "outputs": [
        {
          "output_type": "execute_result",
          "data": {
            "text/plain": [
              "['e', 5]"
            ]
          },
          "metadata": {},
          "execution_count": 68
        }
      ],
      "source": [
        "copy_listinha[:3] = 'e'\n",
        "copy_listinha"
      ]
    },
    {
      "cell_type": "markdown",
      "metadata": {
        "id": "57OV6SW8dnYa"
      },
      "source": [
        "### For-each em Listas\n",
        "Como mostrado no notebook anterior, podemos iterar elementos em uma lista:"
      ]
    },
    {
      "cell_type": "code",
      "execution_count": 69,
      "metadata": {
        "colab": {
          "base_uri": "https://localhost:8080/"
        },
        "id": "UD-YPxkOdnYa",
        "outputId": "537e2734-38e4-4238-9da9-1a35a26c677a"
      },
      "outputs": [
        {
          "output_type": "execute_result",
          "data": {
            "text/plain": [
              "[1, 2, 3, 4, 5, 6, 7]"
            ]
          },
          "metadata": {},
          "execution_count": 69
        }
      ],
      "source": [
        "listinha_2"
      ]
    },
    {
      "cell_type": "code",
      "execution_count": 70,
      "metadata": {
        "colab": {
          "base_uri": "https://localhost:8080/"
        },
        "id": "qorIpuFJdnYa",
        "outputId": "018a778a-b0f2-40e0-b4e6-f449cfbaee91"
      },
      "outputs": [
        {
          "output_type": "stream",
          "name": "stdout",
          "text": [
            "item = 1\n",
            "item = 2\n",
            "item = 3\n",
            "item = 4\n",
            "item = 5\n",
            "item = 6\n",
            "item = 7\n"
          ]
        }
      ],
      "source": [
        "for lista in listinha_2:\n",
        "  print(f'item = {lista}')"
      ]
    },
    {
      "cell_type": "code",
      "execution_count": 71,
      "metadata": {
        "colab": {
          "base_uri": "https://localhost:8080/"
        },
        "id": "uC-2_YYAdnYa",
        "outputId": "f97e05ba-2bed-4c8b-f6c5-5b25ff535afb"
      },
      "outputs": [
        {
          "output_type": "stream",
          "name": "stdout",
          "text": [
            "item = 2\n",
            "item = 3\n",
            "item = 4\n"
          ]
        }
      ],
      "source": [
        "for lista in listinha_2[1:4]:\n",
        "  print(f'item = {lista}')\n"
      ]
    },
    {
      "cell_type": "markdown",
      "metadata": {
        "id": "scDJhcKOdnYa"
      },
      "source": [
        "No `for`, podemos também recuperar o **índice** e o *elemento* de uma lista, basta usarmos o comando `enumerate`:\n",
        "\n",
        "<code>\n",
        "    for i, elemento in enumerate(lista):\n",
        "        intrução 01\n",
        "        ....\n",
        "</code>"
      ]
    },
    {
      "cell_type": "code",
      "execution_count": 76,
      "metadata": {
        "colab": {
          "base_uri": "https://localhost:8080/"
        },
        "id": "Vy0Un7gVdnYb",
        "outputId": "d7719b30-8817-4de4-d275-16c18f6e5ec8"
      },
      "outputs": [
        {
          "output_type": "stream",
          "name": "stdout",
          "text": [
            "item[0] = indice0 1\n",
            "item[1] = indice1 2\n",
            "item[2] = indice2 3\n",
            "item[3] = indice3 4\n",
            "item[4] = indice4 5\n",
            "item[5] = indice5 6\n",
            "item[6] = indice6 7\n"
          ]
        }
      ],
      "source": [
        "for i, lista in enumerate(listinha_2):\n",
        "  print(f'item[{i}] = indice{i} {lista}')"
      ]
    },
    {
      "cell_type": "code",
      "execution_count": 77,
      "metadata": {
        "colab": {
          "base_uri": "https://localhost:8080/"
        },
        "id": "62J0UiDadnYb",
        "outputId": "8bc6ef1d-9cc6-4b30-cea6-2b9debffed9f"
      },
      "outputs": [
        {
          "output_type": "stream",
          "name": "stdout",
          "text": [
            "item[0] = indice0 1\n",
            "item[1] = indice1 2\n",
            "item[2] = indice2 3\n",
            "item[3] = indice3 4\n"
          ]
        }
      ],
      "source": [
        "for i, lista in enumerate(listinha_2[:4]):\n",
        "  print(f'item[{i}] = indice{i} {lista}')"
      ]
    },
    {
      "cell_type": "markdown",
      "metadata": {
        "id": "MTGXVaDxdnYb"
      },
      "source": [
        "### Funções de Listas"
      ]
    },
    {
      "cell_type": "code",
      "execution_count": null,
      "metadata": {
        "id": "xlR5LSoPdnYb"
      },
      "outputs": [],
      "source": []
    },
    {
      "cell_type": "markdown",
      "metadata": {
        "id": "yi3vvaDwdnYb"
      },
      "source": [
        "`len` retorna o tamanho de uma lista (número de elements)"
      ]
    },
    {
      "cell_type": "code",
      "execution_count": null,
      "metadata": {
        "id": "SNTI71IudnYb"
      },
      "outputs": [],
      "source": []
    },
    {
      "cell_type": "markdown",
      "metadata": {
        "id": "M4-SCpDEdnYb"
      },
      "source": [
        "`min` retorna o menor elemento de uma lista"
      ]
    },
    {
      "cell_type": "code",
      "execution_count": null,
      "metadata": {
        "id": "a10r089gdnYb"
      },
      "outputs": [],
      "source": []
    },
    {
      "cell_type": "markdown",
      "metadata": {
        "id": "YzDEYEX8dnYb"
      },
      "source": [
        "`max` retorna o maior elemento de uma lista"
      ]
    },
    {
      "cell_type": "code",
      "execution_count": null,
      "metadata": {
        "id": "HXw4u7OUdnYb"
      },
      "outputs": [],
      "source": []
    },
    {
      "cell_type": "markdown",
      "metadata": {
        "id": "vtC28Mz2dnYb"
      },
      "source": [
        "`sum` retorna a soma de elementos de uma lista"
      ]
    },
    {
      "cell_type": "code",
      "execution_count": null,
      "metadata": {
        "id": "p1qkQ_IsdnYb"
      },
      "outputs": [],
      "source": []
    },
    {
      "cell_type": "markdown",
      "metadata": {
        "id": "e5M_ofhSdnYb"
      },
      "source": [
        "### Métodos de Listas"
      ]
    },
    {
      "cell_type": "markdown",
      "metadata": {
        "id": "NQ6rdeiMdnYb"
      },
      "source": [
        "`list.append` modifica uma lista adicionando um item (de qualquer tipo) no final."
      ]
    },
    {
      "cell_type": "code",
      "execution_count": null,
      "metadata": {
        "id": "L0v-NpPddnYb"
      },
      "outputs": [],
      "source": []
    },
    {
      "cell_type": "code",
      "execution_count": null,
      "metadata": {
        "id": "xJDSBfe_dnYb"
      },
      "outputs": [],
      "source": []
    },
    {
      "cell_type": "markdown",
      "metadata": {
        "id": "FedhxhXfdnYb"
      },
      "source": [
        "`list.pop` remove e retorna o último elemento da lista:"
      ]
    },
    {
      "cell_type": "code",
      "execution_count": null,
      "metadata": {
        "id": "7OAL18dVdnYc"
      },
      "outputs": [],
      "source": []
    },
    {
      "cell_type": "code",
      "execution_count": null,
      "metadata": {
        "id": "NUCu2JtbdnYc"
      },
      "outputs": [],
      "source": []
    },
    {
      "cell_type": "markdown",
      "metadata": {
        "id": "18qcNBy4dnYc"
      },
      "source": [
        "`reverse` reverte a ordem dos elementos da lista."
      ]
    },
    {
      "cell_type": "code",
      "execution_count": null,
      "metadata": {
        "id": "tLmSYqYPdnYc"
      },
      "outputs": [],
      "source": []
    },
    {
      "cell_type": "code",
      "execution_count": null,
      "metadata": {
        "id": "hX3juhpwdnYc"
      },
      "outputs": [],
      "source": []
    },
    {
      "cell_type": "markdown",
      "metadata": {
        "id": "_RvsfEI_dnYc"
      },
      "source": [
        "O possível problema é que a **própria lista** é revertida. <br>\n",
        "Caso você deseje ter uma **cópia revertida** da lista:"
      ]
    },
    {
      "cell_type": "code",
      "execution_count": null,
      "metadata": {
        "id": "9dSnKzYsdnYc"
      },
      "outputs": [],
      "source": []
    },
    {
      "cell_type": "markdown",
      "metadata": {
        "id": "KfplyGKldnYc"
      },
      "source": [
        "#### Ordenação de listas"
      ]
    },
    {
      "cell_type": "markdown",
      "metadata": {
        "id": "rYCbrmSLdnYc"
      },
      "source": [
        "`sorted` retorna uma versão **ordernada (em ordem crescente)** de uma lista (NÃO ALTERA A LISTA ATUAL)"
      ]
    },
    {
      "cell_type": "code",
      "execution_count": null,
      "metadata": {
        "id": "CSGKs6TgdnYc"
      },
      "outputs": [],
      "source": []
    },
    {
      "cell_type": "code",
      "execution_count": null,
      "metadata": {
        "id": "PlPWGPMrdnYc"
      },
      "outputs": [],
      "source": []
    },
    {
      "cell_type": "markdown",
      "metadata": {
        "id": "UBieutLrdnYc"
      },
      "source": [
        "##### Para ordernar em **ordem descrente**"
      ]
    },
    {
      "cell_type": "code",
      "execution_count": null,
      "metadata": {
        "id": "9v38nzN-dnYd"
      },
      "outputs": [],
      "source": []
    },
    {
      "cell_type": "code",
      "execution_count": null,
      "metadata": {
        "id": "7fIVbjdSdnYd"
      },
      "outputs": [],
      "source": []
    },
    {
      "cell_type": "markdown",
      "metadata": {
        "id": "PPTNQ_gbdnYd"
      },
      "source": [
        "#### Buscando elementos em uma lista"
      ]
    },
    {
      "cell_type": "markdown",
      "metadata": {
        "id": "lf1B732UdnYd"
      },
      "source": [
        "`list.index` retorna o índice de um dado elemento da lista, ou lança uma exception caso ele não esteja presente na lista."
      ]
    },
    {
      "cell_type": "code",
      "execution_count": null,
      "metadata": {
        "id": "MQLrjpnldnYd"
      },
      "outputs": [],
      "source": []
    },
    {
      "cell_type": "code",
      "execution_count": null,
      "metadata": {
        "id": "YOG3FZUDdnYd"
      },
      "outputs": [],
      "source": []
    },
    {
      "cell_type": "code",
      "execution_count": null,
      "metadata": {
        "id": "eQmw2NAodnYd"
      },
      "outputs": [],
      "source": []
    },
    {
      "cell_type": "markdown",
      "metadata": {
        "id": "qkYdChA4dnYd"
      },
      "source": [
        "Outra alternativa melhor para saber se **uma lista contém ou não um dado elemento**, sem o lançamento de exception, é usar o `in`:"
      ]
    },
    {
      "cell_type": "code",
      "execution_count": null,
      "metadata": {
        "id": "4zbo49y4dnYd"
      },
      "outputs": [],
      "source": []
    },
    {
      "cell_type": "code",
      "execution_count": null,
      "metadata": {
        "id": "t6KxW5pMdnYd"
      },
      "outputs": [],
      "source": []
    },
    {
      "cell_type": "markdown",
      "metadata": {
        "id": "aKcD1hRYdnYd"
      },
      "source": [
        "Podemos ainda usar o `not in` para checar se a lista **não possui um dado elemento**:"
      ]
    },
    {
      "cell_type": "code",
      "execution_count": null,
      "metadata": {
        "id": "AMi05ukpdnYe"
      },
      "outputs": [],
      "source": []
    },
    {
      "cell_type": "markdown",
      "metadata": {
        "id": "DTyW36J5dnYe"
      },
      "source": [
        "#### Concatenando listas\n",
        "Suponha que desejamos juntar/concatenar duas listas em uma só. <br/>\n",
        "Podemos tentar usar o método `append`, pois ele adiciona um dado elemento ao final da lista.\n",
        "Vejamos:"
      ]
    },
    {
      "cell_type": "code",
      "execution_count": null,
      "metadata": {
        "id": "2Fj9Ur7EdnYe"
      },
      "outputs": [],
      "source": []
    },
    {
      "cell_type": "code",
      "execution_count": null,
      "metadata": {
        "id": "iXnF_0NSdnYe"
      },
      "outputs": [],
      "source": []
    },
    {
      "cell_type": "code",
      "execution_count": null,
      "metadata": {
        "id": "qX2bVNRadnYe"
      },
      "outputs": [],
      "source": []
    },
    {
      "cell_type": "code",
      "execution_count": null,
      "metadata": {
        "id": "HQJ9E_R3dnYe"
      },
      "outputs": [],
      "source": []
    },
    {
      "cell_type": "markdown",
      "metadata": {
        "id": "6eWuWB-qdnYe"
      },
      "source": [
        "Note que a a lista `cidades_estado_sp` tem agora alguns elementos que são _strings_, e o último elemento é uma _lista_. <br/>\n",
        "O que queremos, na verdade, é ter uma lista **apenas com _strings_**.\n",
        "\n",
        "Para isso, podemo usar o método `lista.extend(lista_2)` que vai copiar todos os elementos dentro da lista `lista_2` e colocá-los no final da lista `lista`."
      ]
    },
    {
      "cell_type": "code",
      "execution_count": null,
      "metadata": {
        "id": "bzc34eaMdnYe"
      },
      "outputs": [],
      "source": []
    },
    {
      "cell_type": "code",
      "execution_count": null,
      "metadata": {
        "id": "numbLWrednYe"
      },
      "outputs": [],
      "source": []
    },
    {
      "cell_type": "markdown",
      "metadata": {
        "id": "ouv3VEKddnYe"
      },
      "source": [
        "### List Comprehensions\n",
        "É uma forma curta de se criar listas."
      ]
    },
    {
      "cell_type": "markdown",
      "metadata": {
        "id": "fiHj2vpfdnYe"
      },
      "source": [
        "**Ex 1)** Suponha que queremos criar uma lista cujo valor do índice [i] é i^2 (o índice ao quadrado). <br/>\n",
        "Uma forma padrão seria:"
      ]
    },
    {
      "cell_type": "code",
      "execution_count": null,
      "metadata": {
        "id": "u5GYTucRdnYe"
      },
      "outputs": [],
      "source": []
    },
    {
      "cell_type": "markdown",
      "metadata": {
        "id": "tLBJUL0cdnYe"
      },
      "source": [
        "Usando o **list comprehensions**:"
      ]
    },
    {
      "cell_type": "code",
      "execution_count": null,
      "metadata": {
        "id": "AxC23ZYldnYf"
      },
      "outputs": [],
      "source": []
    },
    {
      "cell_type": "markdown",
      "metadata": {
        "id": "10nLjKjEdnYf"
      },
      "source": [
        "**Ex 2)** Filtrando os elementos negativos de uma lista:"
      ]
    },
    {
      "cell_type": "code",
      "execution_count": null,
      "metadata": {
        "id": "HQ2yDzyUdnYf"
      },
      "outputs": [],
      "source": []
    },
    {
      "cell_type": "markdown",
      "metadata": {
        "id": "6Z8YU6a3dnYf"
      },
      "source": [
        "Outra maneira de aplicar funções a listas é usar **lambda functions**."
      ]
    },
    {
      "cell_type": "markdown",
      "metadata": {
        "id": "XKD230QsdnYf"
      },
      "source": [
        "**Ex 3)** Lambda functions:"
      ]
    },
    {
      "cell_type": "code",
      "execution_count": null,
      "metadata": {
        "id": "KIvR7M24dnYf"
      },
      "outputs": [],
      "source": []
    }
  ],
  "metadata": {
    "kernelspec": {
      "display_name": "Python 3",
      "language": "python",
      "name": "python3"
    },
    "language_info": {
      "codemirror_mode": {
        "name": "ipython",
        "version": 3
      },
      "file_extension": ".py",
      "mimetype": "text/x-python",
      "name": "python",
      "nbconvert_exporter": "python",
      "pygments_lexer": "ipython3",
      "version": "3.9.0"
    },
    "colab": {
      "provenance": [],
      "include_colab_link": true
    }
  },
  "nbformat": 4,
  "nbformat_minor": 0
}