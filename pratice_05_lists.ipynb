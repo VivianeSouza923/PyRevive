{
  "cells": [
    {
      "cell_type": "markdown",
      "metadata": {
        "id": "view-in-github",
        "colab_type": "text"
      },
      "source": [
        "<a href=\"https://colab.research.google.com/github/VivianeSouza923/PyRevive/blob/main/pratice_05_lists.ipynb\" target=\"_parent\"><img src=\"https://colab.research.google.com/assets/colab-badge.svg\" alt=\"Open In Colab\"/></a>"
      ]
    },
    {
      "cell_type": "markdown",
      "metadata": {
        "id": "LnsRD45AdnYT"
      },
      "source": [
        "## **Python Essencial para Data Science**\n",
        "**Prof. Dr. Samuel Martins (@hisamuka @xavecoding)** <br/>\n",
        "xavecoding: https://youtube.com/c/xavecoding <br/><br/>\n",
        "\n",
        "<a rel=\"license\" href=\"http://creativecommons.org/licenses/by-nc-sa/4.0/\"><img alt=\"Creative Commons License\" style=\"border-width:0\" src=\"https://i.creativecommons.org/l/by-nc-sa/4.0/88x31.png\" /></a><br />This work is licensed under a <a rel=\"license\" href=\"http://creativecommons.org/licenses/by-nc-sa/4.0/\">Creative Commons Attribution-NonCommercial-ShareAlike 4.0 International License</a>."
      ]
    },
    {
      "cell_type": "markdown",
      "metadata": {
        "id": "G3wHOM1OdnYV"
      },
      "source": [
        "## Lists\n",
        "Listas em Python representam uma **sequência de elementos _ordenados_**."
      ]
    },
    {
      "cell_type": "code",
      "execution_count": 1,
      "metadata": {
        "colab": {
          "base_uri": "https://localhost:8080/"
        },
        "id": "GxAvGbc-dnYV",
        "outputId": "039555c7-288e-4011-d005-9de4ba05e7a4"
      },
      "outputs": [
        {
          "output_type": "execute_result",
          "data": {
            "text/plain": [
              "['linda', 'inteligente', 'de Deus', 'mulher virtuosa']"
            ]
          },
          "metadata": {},
          "execution_count": 1
        }
      ],
      "source": [
        "viviane = ['linda', 'inteligente', 'de Deus', 'mulher virtuosa']\n",
        "viviane"
      ]
    },
    {
      "cell_type": "code",
      "source": [
        "type(viviane)"
      ],
      "metadata": {
        "colab": {
          "base_uri": "https://localhost:8080/"
        },
        "id": "C-xPXVn9qgPC",
        "outputId": "f3b86ba2-ed1f-4f52-a1db-cb354cc2af55"
      },
      "execution_count": 2,
      "outputs": [
        {
          "output_type": "execute_result",
          "data": {
            "text/plain": [
              "list"
            ]
          },
          "metadata": {},
          "execution_count": 2
        }
      ]
    },
    {
      "cell_type": "markdown",
      "metadata": {
        "id": "YuuZyfQPdnYV"
      },
      "source": [
        "A **ordenação** dos elementos refere-se a seus _posicionamentos_ na lista, ou seja, o primeiro elemento da lista é o 20, o segundo é o 11, e assim por diante. <br/>\n",
        "A **ordem** dos valores/conteúdos é outra coisa."
      ]
    },
    {
      "cell_type": "code",
      "execution_count": 3,
      "metadata": {
        "colab": {
          "base_uri": "https://localhost:8080/",
          "height": 35
        },
        "id": "1ANkTZbFdnYW",
        "outputId": "4b96e5d2-2056-4591-e168-b5b6324fed75"
      },
      "outputs": [
        {
          "output_type": "execute_result",
          "data": {
            "text/plain": [
              "'de Deus'"
            ],
            "application/vnd.google.colaboratory.intrinsic+json": {
              "type": "string"
            }
          },
          "metadata": {},
          "execution_count": 3
        }
      ],
      "source": [
        "viviane[2]"
      ]
    },
    {
      "cell_type": "markdown",
      "metadata": {
        "id": "E5tDYPpKdnYW"
      },
      "source": [
        "#### Listas vazias"
      ]
    },
    {
      "cell_type": "code",
      "execution_count": 4,
      "metadata": {
        "colab": {
          "base_uri": "https://localhost:8080/"
        },
        "id": "14upujwBdnYW",
        "outputId": "473f2a58-0278-42b5-af3a-eacc9640a947"
      },
      "outputs": [
        {
          "output_type": "execute_result",
          "data": {
            "text/plain": [
              "[]"
            ]
          },
          "metadata": {},
          "execution_count": 4
        }
      ],
      "source": [
        "listinha = []\n",
        "listinha"
      ]
    },
    {
      "cell_type": "code",
      "execution_count": 5,
      "metadata": {
        "colab": {
          "base_uri": "https://localhost:8080/"
        },
        "id": "SJbe0GL1dnYW",
        "outputId": "1ae679b2-7d05-4b76-f530-aa414e840796"
      },
      "outputs": [
        {
          "output_type": "execute_result",
          "data": {
            "text/plain": [
              "[]"
            ]
          },
          "metadata": {},
          "execution_count": 5
        }
      ],
      "source": [
        "listinha_1 = list()\n",
        "listinha_1"
      ]
    },
    {
      "cell_type": "markdown",
      "metadata": {
        "id": "Ia3-gD1ndnYW"
      },
      "source": [
        "#### Listas podem ter elementos de _qualquer tipo_"
      ]
    },
    {
      "cell_type": "code",
      "execution_count": 6,
      "metadata": {
        "colab": {
          "base_uri": "https://localhost:8080/"
        },
        "id": "2qI7E-jFdnYW",
        "outputId": "88ac575e-ff33-441b-9173-0c27ce4a6203"
      },
      "outputs": [
        {
          "output_type": "execute_result",
          "data": {
            "text/plain": [
              "[1, 2, 3, 4, 5, 6, 7]"
            ]
          },
          "metadata": {},
          "execution_count": 6
        }
      ],
      "source": [
        "listinha_2 = [1, 2, 3, 4, 5, 6, 7]\n",
        "listinha_2"
      ]
    },
    {
      "cell_type": "markdown",
      "metadata": {
        "id": "JEwaUT6rdnYW"
      },
      "source": [
        "#### Listas podem ter _tipos diferentes_ numa lista:"
      ]
    },
    {
      "cell_type": "code",
      "execution_count": 7,
      "metadata": {
        "colab": {
          "base_uri": "https://localhost:8080/"
        },
        "id": "zRJQz_1idnYW",
        "outputId": "5534b971-c289-497b-f828-b89c27f72752"
      },
      "outputs": [
        {
          "output_type": "execute_result",
          "data": {
            "text/plain": [
              "['brilhosa', 5, 2.6, True]"
            ]
          },
          "metadata": {},
          "execution_count": 7
        }
      ],
      "source": [
        "listinha_3 = ['brilhosa', 5, 2.6, True]\n",
        "listinha_3\n"
      ]
    },
    {
      "cell_type": "code",
      "source": [
        "print(listinha_3)"
      ],
      "metadata": {
        "colab": {
          "base_uri": "https://localhost:8080/"
        },
        "id": "312Nxy2bruAC",
        "outputId": "80b6a697-addd-4695-b477-10a70fc37673"
      },
      "execution_count": 8,
      "outputs": [
        {
          "output_type": "stream",
          "name": "stdout",
          "text": [
            "['brilhosa', 5, 2.6, True]\n"
          ]
        }
      ]
    },
    {
      "cell_type": "markdown",
      "metadata": {
        "id": "Sj-NmvR6dnYW"
      },
      "source": [
        "#### Podemos ter listas de listas"
      ]
    },
    {
      "cell_type": "code",
      "execution_count": 9,
      "metadata": {
        "colab": {
          "base_uri": "https://localhost:8080/"
        },
        "id": "fUIwguondnYW",
        "outputId": "3084f5f0-7d64-4a4d-e240-321b85211073"
      },
      "outputs": [
        {
          "output_type": "execute_result",
          "data": {
            "text/plain": [
              "[['vivi', 'alesi', 'thorin'], [True, False, True], [1, 2, 3]]"
            ]
          },
          "metadata": {},
          "execution_count": 9
        }
      ],
      "source": [
        "matriz = [['vivi', 'alesi', 'thorin'], [True, False, True], [1, 2, 3]]\n",
        "matriz"
      ]
    },
    {
      "cell_type": "code",
      "execution_count": 10,
      "metadata": {
        "colab": {
          "base_uri": "https://localhost:8080/"
        },
        "id": "MT3grZ2GdnYW",
        "outputId": "485b8439-9c3a-4e18-8fe8-f1eddd7d424a"
      },
      "outputs": [
        {
          "output_type": "stream",
          "name": "stdout",
          "text": [
            "[['vivi', 'alesi', 'thorin'], [True, False, True], [1, 2, 3]]\n"
          ]
        }
      ],
      "source": [
        "print(matriz)"
      ]
    },
    {
      "cell_type": "code",
      "execution_count": 11,
      "metadata": {
        "colab": {
          "base_uri": "https://localhost:8080/"
        },
        "id": "k8_Hu4QKdnYW",
        "outputId": "06fac6e7-6c60-4764-a032-4bba456466a2"
      },
      "outputs": [
        {
          "output_type": "execute_result",
          "data": {
            "text/plain": [
              "list"
            ]
          },
          "metadata": {},
          "execution_count": 11
        }
      ],
      "source": [
        "type(matriz)"
      ]
    },
    {
      "cell_type": "code",
      "execution_count": 12,
      "metadata": {
        "colab": {
          "base_uri": "https://localhost:8080/"
        },
        "id": "ggPmvx0odnYX",
        "outputId": "3682d452-1e5b-4667-ed4d-e3e68b8c8244"
      },
      "outputs": [
        {
          "output_type": "execute_result",
          "data": {
            "text/plain": [
              "list"
            ]
          },
          "metadata": {},
          "execution_count": 12
        }
      ],
      "source": [
        "type(matriz[1])"
      ]
    },
    {
      "cell_type": "code",
      "execution_count": 13,
      "metadata": {
        "colab": {
          "base_uri": "https://localhost:8080/"
        },
        "id": "R0KDbUdQdnYX",
        "outputId": "be50c9bb-c692-49e9-b458-39b2f0d00fb7"
      },
      "outputs": [
        {
          "output_type": "stream",
          "name": "stdout",
          "text": [
            "['vivi', 'alesi', 'thorin']\n",
            "[True, False, True]\n",
            "[1, 2, 3]\n"
          ]
        }
      ],
      "source": [
        "for linha in matriz:\n",
        "  print(linha)"
      ]
    },
    {
      "cell_type": "code",
      "source": [
        "matriz[1][0]"
      ],
      "metadata": {
        "colab": {
          "base_uri": "https://localhost:8080/"
        },
        "id": "Zb9eoFmesix6",
        "outputId": "8c5b5ad0-5ac5-46ef-9e25-f86b70554fce"
      },
      "execution_count": 14,
      "outputs": [
        {
          "output_type": "execute_result",
          "data": {
            "text/plain": [
              "True"
            ]
          },
          "metadata": {},
          "execution_count": 14
        }
      ]
    },
    {
      "cell_type": "markdown",
      "metadata": {
        "id": "3yCjnnqUdnYX"
      },
      "source": [
        "### Indexação\n",
        "\n",
        "Cada elemento de uma lista é indexado a uma posição. <br/>\n",
        "Podemos acessar um elemento passando seu índice com []:"
      ]
    },
    {
      "cell_type": "code",
      "execution_count": 15,
      "metadata": {
        "colab": {
          "base_uri": "https://localhost:8080/"
        },
        "id": "t-e0AebsdnYX",
        "outputId": "49302d54-f8bf-457b-b0e4-b488e1f4739e"
      },
      "outputs": [
        {
          "output_type": "execute_result",
          "data": {
            "text/plain": [
              "2.6"
            ]
          },
          "metadata": {},
          "execution_count": 15
        }
      ],
      "source": [
        "listinha_3[2]"
      ]
    },
    {
      "cell_type": "code",
      "execution_count": 16,
      "metadata": {
        "colab": {
          "base_uri": "https://localhost:8080/",
          "height": 35
        },
        "id": "0TLbioTLdnYX",
        "outputId": "a521fc88-a98a-4143-a760-57a3eb602cf2"
      },
      "outputs": [
        {
          "output_type": "execute_result",
          "data": {
            "text/plain": [
              "'brilhosa'"
            ],
            "application/vnd.google.colaboratory.intrinsic+json": {
              "type": "string"
            }
          },
          "metadata": {},
          "execution_count": 16
        }
      ],
      "source": [
        "listinha_3[0]"
      ]
    },
    {
      "cell_type": "code",
      "execution_count": 17,
      "metadata": {
        "colab": {
          "base_uri": "https://localhost:8080/"
        },
        "id": "tPOamSJNdnYX",
        "outputId": "d543db6b-0206-4a08-ffd4-8dbbd91257f0"
      },
      "outputs": [
        {
          "output_type": "execute_result",
          "data": {
            "text/plain": [
              "4"
            ]
          },
          "metadata": {},
          "execution_count": 17
        }
      ],
      "source": [
        "len(listinha_3)"
      ]
    },
    {
      "cell_type": "code",
      "source": [
        "listinha_3[3]"
      ],
      "metadata": {
        "colab": {
          "base_uri": "https://localhost:8080/"
        },
        "id": "RXHDdoNdtYUj",
        "outputId": "6179a065-c37f-4cf7-82f5-a59b4fc9331c"
      },
      "execution_count": 18,
      "outputs": [
        {
          "output_type": "execute_result",
          "data": {
            "text/plain": [
              "True"
            ]
          },
          "metadata": {},
          "execution_count": 18
        }
      ]
    },
    {
      "cell_type": "code",
      "source": [
        "listinha_3[4]"
      ],
      "metadata": {
        "colab": {
          "base_uri": "https://localhost:8080/",
          "height": 177
        },
        "id": "fmOeT-zOtr1u",
        "outputId": "ba1fcde4-b68c-4ff5-b6f0-6c011ff93d53"
      },
      "execution_count": 19,
      "outputs": [
        {
          "output_type": "error",
          "ename": "IndexError",
          "evalue": "ignored",
          "traceback": [
            "\u001b[0;31m---------------------------------------------------------------------------\u001b[0m",
            "\u001b[0;31mIndexError\u001b[0m                                Traceback (most recent call last)",
            "\u001b[0;32m<ipython-input-19-7989e07cfac5>\u001b[0m in \u001b[0;36m<cell line: 1>\u001b[0;34m()\u001b[0m\n\u001b[0;32m----> 1\u001b[0;31m \u001b[0mlistinha_3\u001b[0m\u001b[0;34m[\u001b[0m\u001b[0;36m4\u001b[0m\u001b[0;34m]\u001b[0m\u001b[0;34m\u001b[0m\u001b[0;34m\u001b[0m\u001b[0m\n\u001b[0m",
            "\u001b[0;31mIndexError\u001b[0m: list index out of range"
          ]
        }
      ]
    },
    {
      "cell_type": "markdown",
      "metadata": {
        "id": "ZcjFUS2BdnYX"
      },
      "source": [
        "Listas em Python suporta **índices negativos**, cuja ordem de indexação é o contrário, começando do final para o início:"
      ]
    },
    {
      "cell_type": "code",
      "execution_count": 20,
      "metadata": {
        "colab": {
          "base_uri": "https://localhost:8080/"
        },
        "id": "6FPwG5v1dnYX",
        "outputId": "f500d127-9261-4aba-a58b-76b6c9d6c897"
      },
      "outputs": [
        {
          "output_type": "execute_result",
          "data": {
            "text/plain": [
              "True"
            ]
          },
          "metadata": {},
          "execution_count": 20
        }
      ],
      "source": [
        "listinha_3[-1]"
      ]
    },
    {
      "cell_type": "code",
      "execution_count": 21,
      "metadata": {
        "colab": {
          "base_uri": "https://localhost:8080/"
        },
        "id": "taVK0ZUmdnYX",
        "outputId": "bddc00be-4722-4ab8-bdbf-fac0440ecbb2"
      },
      "outputs": [
        {
          "output_type": "execute_result",
          "data": {
            "text/plain": [
              "2.6"
            ]
          },
          "metadata": {},
          "execution_count": 21
        }
      ],
      "source": [
        "listinha_3[-2]"
      ]
    },
    {
      "cell_type": "code",
      "source": [
        "listinha_3[-3]"
      ],
      "metadata": {
        "colab": {
          "base_uri": "https://localhost:8080/"
        },
        "id": "ri8FC-0MuN6_",
        "outputId": "6c77c4db-d285-4bad-91f6-aedc6051676b"
      },
      "execution_count": 22,
      "outputs": [
        {
          "output_type": "execute_result",
          "data": {
            "text/plain": [
              "5"
            ]
          },
          "metadata": {},
          "execution_count": 22
        }
      ]
    },
    {
      "cell_type": "code",
      "source": [
        "listinha_3[-4]"
      ],
      "metadata": {
        "colab": {
          "base_uri": "https://localhost:8080/",
          "height": 35
        },
        "id": "kw9oDwkfuRCX",
        "outputId": "dcbe56bd-a281-4ee5-858b-487e7ae4917e"
      },
      "execution_count": 23,
      "outputs": [
        {
          "output_type": "execute_result",
          "data": {
            "text/plain": [
              "'brilhosa'"
            ],
            "application/vnd.google.colaboratory.intrinsic+json": {
              "type": "string"
            }
          },
          "metadata": {},
          "execution_count": 23
        }
      ]
    },
    {
      "cell_type": "code",
      "source": [
        "len(listinha_3)"
      ],
      "metadata": {
        "colab": {
          "base_uri": "https://localhost:8080/"
        },
        "id": "VAfrOOrZuXW-",
        "outputId": "0ce287eb-90bb-41ea-b3cd-5de5b802814f"
      },
      "execution_count": 24,
      "outputs": [
        {
          "output_type": "execute_result",
          "data": {
            "text/plain": [
              "4"
            ]
          },
          "metadata": {},
          "execution_count": 24
        }
      ]
    },
    {
      "cell_type": "markdown",
      "metadata": {
        "id": "lWVtuIvndnYX"
      },
      "source": [
        "Podemos também acessar o _último elemento_ da lista desta maneira:"
      ]
    },
    {
      "cell_type": "code",
      "execution_count": 25,
      "metadata": {
        "colab": {
          "base_uri": "https://localhost:8080/"
        },
        "id": "dUaFr4hldnYX",
        "outputId": "d3d92a5d-5d5e-47fa-a7a6-9614aec19f44"
      },
      "outputs": [
        {
          "output_type": "execute_result",
          "data": {
            "text/plain": [
              "True"
            ]
          },
          "metadata": {},
          "execution_count": 25
        }
      ],
      "source": [
        "listinha_3[len(listinha_3) - 1]"
      ]
    },
    {
      "cell_type": "markdown",
      "metadata": {
        "id": "MEbUnC9WdnYX"
      },
      "source": [
        "Inline-style:\n",
        "![](https://github.com/VivianeSouza923/PyRevive/blob/main/imagens/exemplo_lista_indices.png?raw=1)"
      ]
    },
    {
      "cell_type": "markdown",
      "metadata": {
        "id": "GiU_8yfFdnYX"
      },
      "source": [
        "### Slicing (fatiamento)\n",
        "Podemos retornar **uma cópia** dos elementos de um **intervalo contínuo** de uma lista."
      ]
    },
    {
      "cell_type": "code",
      "execution_count": 26,
      "metadata": {
        "colab": {
          "base_uri": "https://localhost:8080/"
        },
        "id": "Sh4Jgpn6dnYX",
        "outputId": "84398418-21ac-4635-dc70-b5ab65e5df7b"
      },
      "outputs": [
        {
          "output_type": "execute_result",
          "data": {
            "text/plain": [
              "[2, 3, 4, 5]"
            ]
          },
          "metadata": {},
          "execution_count": 26
        }
      ],
      "source": [
        "listinha_2[1:5]"
      ]
    },
    {
      "cell_type": "markdown",
      "metadata": {
        "id": "O0L8ZtFbdnYX"
      },
      "source": [
        "`planetas[0:3]` é nosso jeito de consultar os elementos da lista `planetas` do índice 0 até o índice 3 (sem incluí-lo)."
      ]
    },
    {
      "cell_type": "markdown",
      "metadata": {
        "id": "SNUi6rcJdnYX"
      },
      "source": [
        "#### Entendendo os índices de um Intervalo\n",
        "Um intervalo em python sempre **inclui** o número passado como **limite inferior** e *exclui* o número do *limite superior* do intervalo.\n",
        "\n",
        "`[10:15]` são os números do intervalo [10, 15), ou seja, [10, 11, 12, 13, 14]"
      ]
    },
    {
      "cell_type": "markdown",
      "metadata": {
        "id": "w1-RHXsMdnYX"
      },
      "source": [
        "#### De volta ao slicing"
      ]
    },
    {
      "cell_type": "markdown",
      "metadata": {
        "id": "ak6BQ73gdnYX"
      },
      "source": [
        "Os índices iniciais e finais do intervalo do _slicing_ são **opcionais**.\n",
        "\n",
        "Se não informarmos o _índice inicial_, o valor 0 é assumido:"
      ]
    },
    {
      "cell_type": "code",
      "execution_count": 27,
      "metadata": {
        "colab": {
          "base_uri": "https://localhost:8080/"
        },
        "id": "YhDBz9epdnYY",
        "outputId": "ee6c0327-5a2c-4fc8-a52c-32d9d8fbf29d"
      },
      "outputs": [
        {
          "output_type": "execute_result",
          "data": {
            "text/plain": [
              "[1, 2, 3, 4, 5, 6]"
            ]
          },
          "metadata": {},
          "execution_count": 27
        }
      ],
      "source": [
        "listinha_2[:6]"
      ]
    },
    {
      "cell_type": "code",
      "execution_count": 28,
      "metadata": {
        "colab": {
          "base_uri": "https://localhost:8080/"
        },
        "id": "EqKs9zB4dnYY",
        "outputId": "e51deb7d-d55d-46a9-8619-9169ca1dfe48"
      },
      "outputs": [
        {
          "output_type": "execute_result",
          "data": {
            "text/plain": [
              "[1, 2, 3]"
            ]
          },
          "metadata": {},
          "execution_count": 28
        }
      ],
      "source": [
        "listinha_2[:3]"
      ]
    },
    {
      "cell_type": "markdown",
      "metadata": {
        "id": "yGiKhkcidnYY"
      },
      "source": [
        "Se ignorarmos o _índice final_, é assumido o _tamanho da lista_ `len(lista)`:"
      ]
    },
    {
      "cell_type": "code",
      "execution_count": 29,
      "metadata": {
        "colab": {
          "base_uri": "https://localhost:8080/"
        },
        "id": "EyBKqaQMdnYY",
        "outputId": "1a10edb1-365a-42de-e5c3-f75409b93c94"
      },
      "outputs": [
        {
          "output_type": "execute_result",
          "data": {
            "text/plain": [
              "[4, 5, 6, 7]"
            ]
          },
          "metadata": {},
          "execution_count": 29
        }
      ],
      "source": [
        "listinha_2[3:]"
      ]
    },
    {
      "cell_type": "markdown",
      "metadata": {
        "id": "HoIgSaOQdnYY"
      },
      "source": [
        "Podemos também fazer o slicing com **índices negativos**:"
      ]
    },
    {
      "cell_type": "code",
      "execution_count": 30,
      "metadata": {
        "colab": {
          "base_uri": "https://localhost:8080/"
        },
        "id": "KxxugHArdnYZ",
        "outputId": "736de093-06e0-4b90-ded7-8f1d7169a766"
      },
      "outputs": [
        {
          "output_type": "execute_result",
          "data": {
            "text/plain": [
              "[4, 5]"
            ]
          },
          "metadata": {},
          "execution_count": 30
        }
      ],
      "source": [
        "listinha_2[3:-2]"
      ]
    },
    {
      "cell_type": "markdown",
      "metadata": {
        "id": "QWqL0K0-dnYZ"
      },
      "source": [
        "`planetas[1:-1]` considera o intervalo que vai do índice [1], o **incluindo**, até o índice [-1] ou [len(planetas) - 1], no exemplo é o índice [7], o **excluindo**. <br/>\n",
        "Portanto, o intervalo retornado contém os índices [1, 2, 3, 4, 5, 6]."
      ]
    },
    {
      "cell_type": "markdown",
      "metadata": {
        "id": "W1SKAdpednYZ"
      },
      "source": [
        "<br/>"
      ]
    },
    {
      "cell_type": "markdown",
      "metadata": {
        "id": "tisqPt3VdnYa"
      },
      "source": [
        "Outro exemplo:"
      ]
    },
    {
      "cell_type": "code",
      "execution_count": 31,
      "metadata": {
        "colab": {
          "base_uri": "https://localhost:8080/"
        },
        "id": "MnEUluqhdnYa",
        "outputId": "e7d01d7f-122e-4eca-b83b-dbeb14c6d41f"
      },
      "outputs": [
        {
          "output_type": "execute_result",
          "data": {
            "text/plain": [
              "[6, 7]"
            ]
          },
          "metadata": {},
          "execution_count": 31
        }
      ],
      "source": [
        "listinha_2[5:]"
      ]
    },
    {
      "cell_type": "code",
      "execution_count": 32,
      "metadata": {
        "colab": {
          "base_uri": "https://localhost:8080/"
        },
        "id": "XKiqa4bUdnYa",
        "outputId": "bb2fe795-40d3-4300-bb03-88b9f595f276"
      },
      "outputs": [
        {
          "output_type": "execute_result",
          "data": {
            "text/plain": [
              "[5, 6]"
            ]
          },
          "metadata": {},
          "execution_count": 32
        }
      ],
      "source": [
        "listinha_2[4:-1]"
      ]
    },
    {
      "cell_type": "markdown",
      "metadata": {
        "id": "fPpX69qbdnYa"
      },
      "source": [
        "Vamos entender o intervalo `[-3:]`.\n",
        "\n",
        "O índice `[-3]` corresponde ao índice `[len(planetas) - 3]`, ou seja, o índice `[5]`. <br/>\n",
        "Portanto, `[-3:]` é sinônonimo de `[5:]`.\n",
        "\n",
        "Ao omitir o último índice do intervalo, consideramos por padrão `len(planetas)`, que é 8. <br/>\n",
        "Logo, `[-3:]` é o mesmo que `[5:8]`, que resulta nos índices `[5, 6, 7]`, que são os índices dos 3 últimos elementos dessa lista."
      ]
    },
    {
      "cell_type": "markdown",
      "metadata": {
        "id": "lI96Rz6KdnYa"
      },
      "source": [
        "#### Os elementos retornados pelo Slicing de Listas a uma variável são CÓPIAS"
      ]
    },
    {
      "cell_type": "code",
      "execution_count": 33,
      "metadata": {
        "colab": {
          "base_uri": "https://localhost:8080/"
        },
        "id": "4Y4CuqZbdnYa",
        "outputId": "970aa931-ec4b-47da-ecb6-b0faffde97f1"
      },
      "outputs": [
        {
          "output_type": "execute_result",
          "data": {
            "text/plain": [
              "[2, 3, 4, 5]"
            ]
          },
          "metadata": {},
          "execution_count": 33
        }
      ],
      "source": [
        "copy_listinha = listinha_2[1:5]\n",
        "copy_listinha"
      ]
    },
    {
      "cell_type": "code",
      "execution_count": 34,
      "metadata": {
        "colab": {
          "base_uri": "https://localhost:8080/"
        },
        "id": "Ke0833VcdnYa",
        "outputId": "b16ee3ed-cbc1-44f1-9e5f-a5a725d6dbb2"
      },
      "outputs": [
        {
          "output_type": "execute_result",
          "data": {
            "text/plain": [
              "[1, 2, 3, 4, 5, 6, 7]"
            ]
          },
          "metadata": {},
          "execution_count": 34
        }
      ],
      "source": [
        "listinha_2"
      ]
    },
    {
      "cell_type": "code",
      "source": [
        "copy_listinha[2] = 2.5\n",
        "copy_listinha"
      ],
      "metadata": {
        "colab": {
          "base_uri": "https://localhost:8080/"
        },
        "id": "Lop5FpG1yMiE",
        "outputId": "54d090b0-819b-4233-ef1a-a3dc83365f4c"
      },
      "execution_count": 35,
      "outputs": [
        {
          "output_type": "execute_result",
          "data": {
            "text/plain": [
              "[2, 3, 2.5, 5]"
            ]
          },
          "metadata": {},
          "execution_count": 35
        }
      ]
    },
    {
      "cell_type": "markdown",
      "metadata": {
        "id": "UqbTex_PdnYa"
      },
      "source": [
        "#### Alteração de Múltiplos elementos de uma Lista via Slicing"
      ]
    },
    {
      "cell_type": "code",
      "execution_count": 36,
      "metadata": {
        "colab": {
          "base_uri": "https://localhost:8080/"
        },
        "id": "colQadtSdnYa",
        "outputId": "2d655da5-5d3e-4535-e249-9df02bd6454d"
      },
      "outputs": [
        {
          "output_type": "execute_result",
          "data": {
            "text/plain": [
              "['a', 'b', 2.5, 5]"
            ]
          },
          "metadata": {},
          "execution_count": 36
        }
      ],
      "source": [
        "copy_listinha[0] = 'a'\n",
        "copy_listinha[1] = 'b'\n",
        "copy_listinha"
      ]
    },
    {
      "cell_type": "code",
      "source": [
        "copy_listinha[:2] = ['c', 'd']\n",
        "copy_listinha"
      ],
      "metadata": {
        "colab": {
          "base_uri": "https://localhost:8080/"
        },
        "id": "uVJOmyfkynyv",
        "outputId": "5b64157c-e149-41ff-a813-8eff5bf7420d"
      },
      "execution_count": 37,
      "outputs": [
        {
          "output_type": "execute_result",
          "data": {
            "text/plain": [
              "['c', 'd', 2.5, 5]"
            ]
          },
          "metadata": {},
          "execution_count": 37
        }
      ]
    },
    {
      "cell_type": "markdown",
      "metadata": {
        "id": "wWK6widKdnYa"
      },
      "source": [
        "<br/>\n",
        "\n",
        "Se o **número de elementos atribuídos for DIFERENTE do número de elementos do slicing**, os elementos excedentos ou faltantes da lista são ignorados ===> TOME CUIDADO"
      ]
    },
    {
      "cell_type": "code",
      "execution_count": 38,
      "metadata": {
        "colab": {
          "base_uri": "https://localhost:8080/"
        },
        "id": "kpRtt4fMdnYa",
        "outputId": "44730fbe-7125-4acc-98ee-be9401374921"
      },
      "outputs": [
        {
          "output_type": "execute_result",
          "data": {
            "text/plain": [
              "['e', 5]"
            ]
          },
          "metadata": {},
          "execution_count": 38
        }
      ],
      "source": [
        "copy_listinha[:3] = 'e'\n",
        "copy_listinha"
      ]
    },
    {
      "cell_type": "markdown",
      "metadata": {
        "id": "57OV6SW8dnYa"
      },
      "source": [
        "### For-each em Listas\n",
        "Como mostrado no notebook anterior, podemos iterar elementos em uma lista:"
      ]
    },
    {
      "cell_type": "code",
      "execution_count": 39,
      "metadata": {
        "colab": {
          "base_uri": "https://localhost:8080/"
        },
        "id": "UD-YPxkOdnYa",
        "outputId": "a9a5b7ec-9c9f-42a0-9cfe-c9f05b8be15e"
      },
      "outputs": [
        {
          "output_type": "execute_result",
          "data": {
            "text/plain": [
              "[1, 2, 3, 4, 5, 6, 7]"
            ]
          },
          "metadata": {},
          "execution_count": 39
        }
      ],
      "source": [
        "listinha_2"
      ]
    },
    {
      "cell_type": "code",
      "execution_count": 40,
      "metadata": {
        "colab": {
          "base_uri": "https://localhost:8080/"
        },
        "id": "qorIpuFJdnYa",
        "outputId": "551221e5-dc78-43da-b643-c085eef74940"
      },
      "outputs": [
        {
          "output_type": "stream",
          "name": "stdout",
          "text": [
            "item = 1\n",
            "item = 2\n",
            "item = 3\n",
            "item = 4\n",
            "item = 5\n",
            "item = 6\n",
            "item = 7\n"
          ]
        }
      ],
      "source": [
        "for lista in listinha_2:\n",
        "  print(f'item = {lista}')"
      ]
    },
    {
      "cell_type": "code",
      "execution_count": 41,
      "metadata": {
        "colab": {
          "base_uri": "https://localhost:8080/"
        },
        "id": "uC-2_YYAdnYa",
        "outputId": "b4921fe9-fd10-42be-a566-f2b553016ba7"
      },
      "outputs": [
        {
          "output_type": "stream",
          "name": "stdout",
          "text": [
            "item = 2\n",
            "item = 3\n",
            "item = 4\n"
          ]
        }
      ],
      "source": [
        "for lista in listinha_2[1:4]:\n",
        "  print(f'item = {lista}')\n"
      ]
    },
    {
      "cell_type": "markdown",
      "metadata": {
        "id": "scDJhcKOdnYa"
      },
      "source": [
        "No `for`, podemos também recuperar o **índice** e o *elemento* de uma lista, basta usarmos o comando `enumerate`:\n",
        "\n",
        "<code>\n",
        "    for i, elemento in enumerate(lista):\n",
        "        intrução 01\n",
        "        ....\n",
        "</code>"
      ]
    },
    {
      "cell_type": "code",
      "execution_count": 42,
      "metadata": {
        "colab": {
          "base_uri": "https://localhost:8080/"
        },
        "id": "Vy0Un7gVdnYb",
        "outputId": "68bc91d7-4cb4-4f62-e35b-c0b29a69c230"
      },
      "outputs": [
        {
          "output_type": "stream",
          "name": "stdout",
          "text": [
            "item[0] = indice0 1\n",
            "item[1] = indice1 2\n",
            "item[2] = indice2 3\n",
            "item[3] = indice3 4\n",
            "item[4] = indice4 5\n",
            "item[5] = indice5 6\n",
            "item[6] = indice6 7\n"
          ]
        }
      ],
      "source": [
        "for i, lista in enumerate(listinha_2):\n",
        "  print(f'item[{i}] = indice{i} {lista}')"
      ]
    },
    {
      "cell_type": "code",
      "execution_count": 43,
      "metadata": {
        "colab": {
          "base_uri": "https://localhost:8080/"
        },
        "id": "62J0UiDadnYb",
        "outputId": "ff81fa85-53e6-4fe0-88c5-1624147abfdc"
      },
      "outputs": [
        {
          "output_type": "stream",
          "name": "stdout",
          "text": [
            "item[0] = indice0 1\n",
            "item[1] = indice1 2\n",
            "item[2] = indice2 3\n",
            "item[3] = indice3 4\n"
          ]
        }
      ],
      "source": [
        "for i, lista in enumerate(listinha_2[:4]):\n",
        "  print(f'item[{i}] = indice{i} {lista}')"
      ]
    },
    {
      "cell_type": "markdown",
      "metadata": {
        "id": "MTGXVaDxdnYb"
      },
      "source": [
        "### Funções de Listas"
      ]
    },
    {
      "cell_type": "code",
      "execution_count": 44,
      "metadata": {
        "id": "xlR5LSoPdnYb",
        "outputId": "4944e405-2d8c-4ff8-eccf-cd8aafc76c39",
        "colab": {
          "base_uri": "https://localhost:8080/"
        }
      },
      "outputs": [
        {
          "output_type": "execute_result",
          "data": {
            "text/plain": [
              "0"
            ]
          },
          "metadata": {},
          "execution_count": 44
        }
      ],
      "source": [
        "len(listinha)"
      ]
    },
    {
      "cell_type": "code",
      "source": [
        "print(listinha)"
      ],
      "metadata": {
        "id": "UV_GODJPH4KO",
        "outputId": "14ebb79e-7e3b-439f-c777-ea245076e1c3",
        "colab": {
          "base_uri": "https://localhost:8080/"
        }
      },
      "execution_count": 45,
      "outputs": [
        {
          "output_type": "stream",
          "name": "stdout",
          "text": [
            "[]\n"
          ]
        }
      ]
    },
    {
      "cell_type": "code",
      "source": [
        "print(listinha_2)"
      ],
      "metadata": {
        "id": "rGdi-cIuIHK8",
        "outputId": "a8af40a7-5432-44b6-cbd1-a097ca165f95",
        "colab": {
          "base_uri": "https://localhost:8080/"
        }
      },
      "execution_count": 46,
      "outputs": [
        {
          "output_type": "stream",
          "name": "stdout",
          "text": [
            "[1, 2, 3, 4, 5, 6, 7]\n"
          ]
        }
      ]
    },
    {
      "cell_type": "markdown",
      "metadata": {
        "id": "yi3vvaDwdnYb"
      },
      "source": [
        "`len` retorna o tamanho de uma lista (número de elements)"
      ]
    },
    {
      "cell_type": "code",
      "execution_count": 47,
      "metadata": {
        "id": "SNTI71IudnYb",
        "outputId": "57fdf9ef-8c47-4b3c-c62f-36d0296446e8",
        "colab": {
          "base_uri": "https://localhost:8080/"
        }
      },
      "outputs": [
        {
          "output_type": "execute_result",
          "data": {
            "text/plain": [
              "7"
            ]
          },
          "metadata": {},
          "execution_count": 47
        }
      ],
      "source": [
        "len(listinha_2)"
      ]
    },
    {
      "cell_type": "markdown",
      "metadata": {
        "id": "M4-SCpDEdnYb"
      },
      "source": [
        "`min` retorna o menor elemento de uma lista"
      ]
    },
    {
      "cell_type": "code",
      "execution_count": 48,
      "metadata": {
        "id": "a10r089gdnYb",
        "outputId": "f0817024-3e14-4a00-a225-b5c8c121bfa8",
        "colab": {
          "base_uri": "https://localhost:8080/"
        }
      },
      "outputs": [
        {
          "output_type": "execute_result",
          "data": {
            "text/plain": [
              "1"
            ]
          },
          "metadata": {},
          "execution_count": 48
        }
      ],
      "source": [
        "min(listinha_2)"
      ]
    },
    {
      "cell_type": "markdown",
      "metadata": {
        "id": "YzDEYEX8dnYb"
      },
      "source": [
        "`max` retorna o maior elemento de uma lista"
      ]
    },
    {
      "cell_type": "code",
      "execution_count": 49,
      "metadata": {
        "id": "HXw4u7OUdnYb",
        "outputId": "28eb8a0f-fe72-4a03-f34b-8460f22cb50d",
        "colab": {
          "base_uri": "https://localhost:8080/"
        }
      },
      "outputs": [
        {
          "output_type": "execute_result",
          "data": {
            "text/plain": [
              "7"
            ]
          },
          "metadata": {},
          "execution_count": 49
        }
      ],
      "source": [
        "max(listinha_2)"
      ]
    },
    {
      "cell_type": "markdown",
      "metadata": {
        "id": "vtC28Mz2dnYb"
      },
      "source": [
        "`sum` retorna a soma de elementos de uma lista"
      ]
    },
    {
      "cell_type": "code",
      "execution_count": 50,
      "metadata": {
        "id": "p1qkQ_IsdnYb",
        "outputId": "f5336232-c3fd-4147-8612-339805ad3a7b",
        "colab": {
          "base_uri": "https://localhost:8080/"
        }
      },
      "outputs": [
        {
          "output_type": "execute_result",
          "data": {
            "text/plain": [
              "28"
            ]
          },
          "metadata": {},
          "execution_count": 50
        }
      ],
      "source": [
        "sum(listinha_2)"
      ]
    },
    {
      "cell_type": "markdown",
      "metadata": {
        "id": "e5M_ofhSdnYb"
      },
      "source": [
        "### Métodos de Listas"
      ]
    },
    {
      "cell_type": "markdown",
      "metadata": {
        "id": "NQ6rdeiMdnYb"
      },
      "source": [
        "`list.append` modifica uma lista adicionando um item (de qualquer tipo) no final."
      ]
    },
    {
      "cell_type": "code",
      "execution_count": 51,
      "metadata": {
        "id": "L0v-NpPddnYb"
      },
      "outputs": [],
      "source": [
        "listinha.append(1)"
      ]
    },
    {
      "cell_type": "code",
      "execution_count": 52,
      "metadata": {
        "id": "xJDSBfe_dnYb",
        "outputId": "98dcb0f8-831d-438e-bf8b-748d77dc11a4",
        "colab": {
          "base_uri": "https://localhost:8080/"
        }
      },
      "outputs": [
        {
          "output_type": "execute_result",
          "data": {
            "text/plain": [
              "[1]"
            ]
          },
          "metadata": {},
          "execution_count": 52
        }
      ],
      "source": [
        "listinha"
      ]
    },
    {
      "cell_type": "code",
      "source": [
        "listinha_2.append(100)"
      ],
      "metadata": {
        "id": "qgbZlibxImMX"
      },
      "execution_count": 53,
      "outputs": []
    },
    {
      "cell_type": "code",
      "source": [
        "listinha_2"
      ],
      "metadata": {
        "id": "DDibTAbHItlg",
        "outputId": "d4a3c182-d259-4155-858a-bfa2b6f8468a",
        "colab": {
          "base_uri": "https://localhost:8080/"
        }
      },
      "execution_count": 54,
      "outputs": [
        {
          "output_type": "execute_result",
          "data": {
            "text/plain": [
              "[1, 2, 3, 4, 5, 6, 7, 100]"
            ]
          },
          "metadata": {},
          "execution_count": 54
        }
      ]
    },
    {
      "cell_type": "markdown",
      "metadata": {
        "id": "FedhxhXfdnYb"
      },
      "source": [
        "`list.pop` remove e retorna o último elemento da lista:"
      ]
    },
    {
      "cell_type": "code",
      "execution_count": 55,
      "metadata": {
        "id": "7OAL18dVdnYc",
        "outputId": "a9ad2a5b-fbb9-4571-fcf5-1e0baf46dabd",
        "colab": {
          "base_uri": "https://localhost:8080/"
        }
      },
      "outputs": [
        {
          "output_type": "execute_result",
          "data": {
            "text/plain": [
              "100"
            ]
          },
          "metadata": {},
          "execution_count": 55
        }
      ],
      "source": [
        "listinha_2.pop()"
      ]
    },
    {
      "cell_type": "code",
      "execution_count": 56,
      "metadata": {
        "id": "NUCu2JtbdnYc",
        "outputId": "c5a7bfbf-ba11-4c9c-f745-9e3e7d0fdefa",
        "colab": {
          "base_uri": "https://localhost:8080/"
        }
      },
      "outputs": [
        {
          "output_type": "execute_result",
          "data": {
            "text/plain": [
              "[1, 2, 3, 4, 5, 6, 7]"
            ]
          },
          "metadata": {},
          "execution_count": 56
        }
      ],
      "source": [
        "listinha_2"
      ]
    },
    {
      "cell_type": "markdown",
      "metadata": {
        "id": "18qcNBy4dnYc"
      },
      "source": [
        "`reverse` reverte a ordem dos elementos da lista."
      ]
    },
    {
      "cell_type": "code",
      "execution_count": 57,
      "metadata": {
        "id": "tLmSYqYPdnYc"
      },
      "outputs": [],
      "source": [
        "listinha_2.reverse()"
      ]
    },
    {
      "cell_type": "code",
      "execution_count": 58,
      "metadata": {
        "id": "hX3juhpwdnYc",
        "outputId": "5e0f4cd5-68bd-4118-e1dc-8859d7614ddd",
        "colab": {
          "base_uri": "https://localhost:8080/"
        }
      },
      "outputs": [
        {
          "output_type": "execute_result",
          "data": {
            "text/plain": [
              "[7, 6, 5, 4, 3, 2, 1]"
            ]
          },
          "metadata": {},
          "execution_count": 58
        }
      ],
      "source": [
        "listinha_2"
      ]
    },
    {
      "cell_type": "markdown",
      "metadata": {
        "id": "_RvsfEI_dnYc"
      },
      "source": [
        "O possível problema é que a **própria lista** é revertida. <br>\n",
        "Caso você deseje ter uma **cópia revertida** da lista:"
      ]
    },
    {
      "cell_type": "code",
      "execution_count": 59,
      "metadata": {
        "id": "9dSnKzYsdnYc"
      },
      "outputs": [],
      "source": [
        "listinha_copy = list(listinha_2)"
      ]
    },
    {
      "cell_type": "code",
      "source": [
        "listinha_copy"
      ],
      "metadata": {
        "id": "3dRSgGxSJrtP",
        "outputId": "68ba6eb9-7f7e-4f90-fa28-39107ae577b4",
        "colab": {
          "base_uri": "https://localhost:8080/"
        }
      },
      "execution_count": 60,
      "outputs": [
        {
          "output_type": "execute_result",
          "data": {
            "text/plain": [
              "[7, 6, 5, 4, 3, 2, 1]"
            ]
          },
          "metadata": {},
          "execution_count": 60
        }
      ]
    },
    {
      "cell_type": "markdown",
      "metadata": {
        "id": "KfplyGKldnYc"
      },
      "source": [
        "#### Ordenação de listas"
      ]
    },
    {
      "cell_type": "markdown",
      "metadata": {
        "id": "rYCbrmSLdnYc"
      },
      "source": [
        "`sorted` retorna uma versão **ordernada (em ordem crescente)** de uma lista (NÃO ALTERA A LISTA ATUAL)"
      ]
    },
    {
      "cell_type": "code",
      "execution_count": 61,
      "metadata": {
        "id": "CSGKs6TgdnYc"
      },
      "outputs": [],
      "source": [
        "listinha_copy1 = sorted(listinha_copy)"
      ]
    },
    {
      "cell_type": "code",
      "execution_count": 62,
      "metadata": {
        "id": "PlPWGPMrdnYc",
        "outputId": "3d5cd530-828a-4399-e9e6-d1f8057e3a2e",
        "colab": {
          "base_uri": "https://localhost:8080/"
        }
      },
      "outputs": [
        {
          "output_type": "execute_result",
          "data": {
            "text/plain": [
              "[1, 2, 3, 4, 5, 6, 7]"
            ]
          },
          "metadata": {},
          "execution_count": 62
        }
      ],
      "source": [
        "listinha_copy1"
      ]
    },
    {
      "cell_type": "markdown",
      "metadata": {
        "id": "UBieutLrdnYc"
      },
      "source": [
        "##### Para ordernar em **ordem descrente**"
      ]
    },
    {
      "cell_type": "code",
      "execution_count": 63,
      "metadata": {
        "id": "9v38nzN-dnYd"
      },
      "outputs": [],
      "source": [
        "listinha_cpy2 = sorted(listinha_2)"
      ]
    },
    {
      "cell_type": "code",
      "execution_count": 64,
      "metadata": {
        "id": "7fIVbjdSdnYd",
        "outputId": "e1f0e96b-3a31-4e23-85ee-c7911c63ba67",
        "colab": {
          "base_uri": "https://localhost:8080/"
        }
      },
      "outputs": [
        {
          "output_type": "execute_result",
          "data": {
            "text/plain": [
              "[1, 2, 3, 4, 5, 6, 7]"
            ]
          },
          "metadata": {},
          "execution_count": 64
        }
      ],
      "source": [
        "listinha_cpy2"
      ]
    },
    {
      "cell_type": "code",
      "source": [
        "#em ordem decrescente\n",
        "listinha_2.reverse()"
      ],
      "metadata": {
        "id": "syIQrVdjKa4d"
      },
      "execution_count": 65,
      "outputs": []
    },
    {
      "cell_type": "code",
      "source": [
        "listinha_2"
      ],
      "metadata": {
        "id": "a6rom9N1K1OH",
        "outputId": "effba56d-8e26-47b1-80c3-21b90464af28",
        "colab": {
          "base_uri": "https://localhost:8080/"
        }
      },
      "execution_count": 66,
      "outputs": [
        {
          "output_type": "execute_result",
          "data": {
            "text/plain": [
              "[1, 2, 3, 4, 5, 6, 7]"
            ]
          },
          "metadata": {},
          "execution_count": 66
        }
      ]
    },
    {
      "cell_type": "markdown",
      "source": [],
      "metadata": {
        "id": "_V7jI9ohKdLb"
      }
    },
    {
      "cell_type": "markdown",
      "metadata": {
        "id": "PPTNQ_gbdnYd"
      },
      "source": [
        "#### Buscando elementos em uma lista"
      ]
    },
    {
      "cell_type": "markdown",
      "metadata": {
        "id": "lf1B732UdnYd"
      },
      "source": [
        "`list.index` retorna o índice de um dado elemento da lista, ou lança uma exception caso ele não esteja presente na lista."
      ]
    },
    {
      "cell_type": "code",
      "execution_count": 67,
      "metadata": {
        "id": "MQLrjpnldnYd",
        "outputId": "59ce0cf4-fe53-42e6-943d-c3c237ddf23d",
        "colab": {
          "base_uri": "https://localhost:8080/"
        }
      },
      "outputs": [
        {
          "output_type": "execute_result",
          "data": {
            "text/plain": [
              "2"
            ]
          },
          "metadata": {},
          "execution_count": 67
        }
      ],
      "source": [
        "listinha_2.index(3)"
      ]
    },
    {
      "cell_type": "code",
      "execution_count": 68,
      "metadata": {
        "id": "YOG3FZUDdnYd",
        "outputId": "0e5efb59-9800-4e51-b7e9-aa2f0c231293",
        "colab": {
          "base_uri": "https://localhost:8080/"
        }
      },
      "outputs": [
        {
          "output_type": "execute_result",
          "data": {
            "text/plain": [
              "['brilhosa', 5, 2.6, True]"
            ]
          },
          "metadata": {},
          "execution_count": 68
        }
      ],
      "source": [
        "listinha_3"
      ]
    },
    {
      "cell_type": "code",
      "execution_count": 69,
      "metadata": {
        "id": "eQmw2NAodnYd",
        "outputId": "4e67b431-eb3d-4caa-c115-0f8f5b01d8bc",
        "colab": {
          "base_uri": "https://localhost:8080/"
        }
      },
      "outputs": [
        {
          "output_type": "execute_result",
          "data": {
            "text/plain": [
              "3"
            ]
          },
          "metadata": {},
          "execution_count": 69
        }
      ],
      "source": [
        "listinha_3.index(True)"
      ]
    },
    {
      "cell_type": "markdown",
      "metadata": {
        "id": "qkYdChA4dnYd"
      },
      "source": [
        "Outra alternativa melhor para saber se **uma lista contém ou não um dado elemento**, sem o lançamento de exception, é usar o `in`:"
      ]
    },
    {
      "cell_type": "code",
      "execution_count": 70,
      "metadata": {
        "id": "4zbo49y4dnYd",
        "outputId": "3680ce4a-f6e3-437f-ffe0-3a203e17e306",
        "colab": {
          "base_uri": "https://localhost:8080/"
        }
      },
      "outputs": [
        {
          "output_type": "execute_result",
          "data": {
            "text/plain": [
              "True"
            ]
          },
          "metadata": {},
          "execution_count": 70
        }
      ],
      "source": [
        "'brilhosa' in listinha_3"
      ]
    },
    {
      "cell_type": "code",
      "execution_count": 71,
      "metadata": {
        "id": "t6KxW5pMdnYd",
        "outputId": "7f979c34-73b0-41a9-c01a-faeda363cad7",
        "colab": {
          "base_uri": "https://localhost:8080/"
        }
      },
      "outputs": [
        {
          "output_type": "execute_result",
          "data": {
            "text/plain": [
              "False"
            ]
          },
          "metadata": {},
          "execution_count": 71
        }
      ],
      "source": [
        "'ano' in listinha_3"
      ]
    },
    {
      "cell_type": "markdown",
      "metadata": {
        "id": "aKcD1hRYdnYd"
      },
      "source": [
        "Podemos ainda usar o `not in` para checar se a lista **não possui um dado elemento**:"
      ]
    },
    {
      "cell_type": "code",
      "execution_count": 72,
      "metadata": {
        "id": "AMi05ukpdnYe",
        "outputId": "4f8fc8bb-2aa5-43e5-8682-6a622122ac72",
        "colab": {
          "base_uri": "https://localhost:8080/"
        }
      },
      "outputs": [
        {
          "output_type": "execute_result",
          "data": {
            "text/plain": [
              "False"
            ]
          },
          "metadata": {},
          "execution_count": 72
        }
      ],
      "source": [
        "'brilhosa' not in listinha_3"
      ]
    },
    {
      "cell_type": "code",
      "source": [
        "'ano' not in listinha_3"
      ],
      "metadata": {
        "id": "uEKwX_X-M8Zo",
        "outputId": "717cb9ed-be20-4930-baaf-cafc6e85f6bf",
        "colab": {
          "base_uri": "https://localhost:8080/"
        }
      },
      "execution_count": 73,
      "outputs": [
        {
          "output_type": "execute_result",
          "data": {
            "text/plain": [
              "True"
            ]
          },
          "metadata": {},
          "execution_count": 73
        }
      ]
    },
    {
      "cell_type": "markdown",
      "metadata": {
        "id": "DTyW36J5dnYe"
      },
      "source": [
        "#### Concatenando listas\n",
        "Suponha que desejamos juntar/concatenar duas listas em uma só. <br/>\n",
        "Podemos tentar usar o método `append`, pois ele adiciona um dado elemento ao final da lista.\n",
        "Vejamos:"
      ]
    },
    {
      "cell_type": "code",
      "execution_count": 74,
      "metadata": {
        "id": "2Fj9Ur7EdnYe",
        "outputId": "1eb8e05a-6f55-4335-8886-177b9da04f4b",
        "colab": {
          "base_uri": "https://localhost:8080/"
        }
      },
      "outputs": [
        {
          "output_type": "execute_result",
          "data": {
            "text/plain": [
              "['brilhosa', 5, 2.6, True, 1, 2, 3, 4, 5, 6, 7]"
            ]
          },
          "metadata": {},
          "execution_count": 74
        }
      ],
      "source": [
        "listinha_3 + listinha_2"
      ]
    },
    {
      "cell_type": "code",
      "execution_count": 75,
      "metadata": {
        "id": "iXnF_0NSdnYe"
      },
      "outputs": [],
      "source": [
        "lista_final = list(listinha_2)\n",
        "lista_final.append(listinha_3)"
      ]
    },
    {
      "cell_type": "code",
      "execution_count": 76,
      "metadata": {
        "id": "qX2bVNRadnYe",
        "outputId": "7e93c73d-e347-4da0-ade5-8a7926705205",
        "colab": {
          "base_uri": "https://localhost:8080/"
        }
      },
      "outputs": [
        {
          "output_type": "execute_result",
          "data": {
            "text/plain": [
              "[1, 2, 3, 4, 5, 6, 7, ['brilhosa', 5, 2.6, True]]"
            ]
          },
          "metadata": {},
          "execution_count": 76
        }
      ],
      "source": [
        "lista_final"
      ]
    },
    {
      "cell_type": "code",
      "execution_count": 77,
      "metadata": {
        "id": "HQJ9E_R3dnYe"
      },
      "outputs": [],
      "source": [
        "lista_final = list(listinha_2)\n",
        "lista_final.extend(listinha_3)"
      ]
    },
    {
      "cell_type": "code",
      "source": [
        "lista_final"
      ],
      "metadata": {
        "id": "YXrb4UxWO9pU",
        "outputId": "7a18bae4-58bc-4cba-e5b6-15e76f25f1ac",
        "colab": {
          "base_uri": "https://localhost:8080/"
        }
      },
      "execution_count": 78,
      "outputs": [
        {
          "output_type": "execute_result",
          "data": {
            "text/plain": [
              "[1, 2, 3, 4, 5, 6, 7, 'brilhosa', 5, 2.6, True]"
            ]
          },
          "metadata": {},
          "execution_count": 78
        }
      ]
    },
    {
      "cell_type": "markdown",
      "metadata": {
        "id": "6eWuWB-qdnYe"
      },
      "source": [
        "Note que a a lista `cidades_estado_sp` tem agora alguns elementos que são _strings_, e o último elemento é uma _lista_. <br/>\n",
        "O que queremos, na verdade, é ter uma lista **apenas com _strings_**.\n",
        "\n",
        "Para isso, podemo usar o método `lista.extend(lista_2)` que vai copiar todos os elementos dentro da lista `lista_2` e colocá-los no final da lista `lista`."
      ]
    },
    {
      "cell_type": "markdown",
      "metadata": {
        "id": "ouv3VEKddnYe"
      },
      "source": [
        "### List Comprehensions\n",
        "É uma forma curta de se criar listas."
      ]
    },
    {
      "cell_type": "markdown",
      "metadata": {
        "id": "fiHj2vpfdnYe"
      },
      "source": [
        "**Ex 1)** Suponha que queremos criar uma lista cujo valor do índice [i] é i^2 (o índice ao quadrado). <br/>\n",
        "Uma forma padrão seria:"
      ]
    },
    {
      "cell_type": "code",
      "execution_count": 79,
      "metadata": {
        "id": "u5GYTucRdnYe"
      },
      "outputs": [],
      "source": [
        "# [expr for item in lista]\n",
        "lista1 = [i+i for i in listinha_2]"
      ]
    },
    {
      "cell_type": "markdown",
      "metadata": {
        "id": "tLBJUL0cdnYe"
      },
      "source": [
        "Usando o **list comprehensions**:"
      ]
    },
    {
      "cell_type": "code",
      "execution_count": 80,
      "metadata": {
        "id": "AxC23ZYldnYf",
        "outputId": "a8365c8f-23b2-4336-8ad8-ada1c44544fa",
        "colab": {
          "base_uri": "https://localhost:8080/"
        }
      },
      "outputs": [
        {
          "output_type": "execute_result",
          "data": {
            "text/plain": [
              "[2, 4, 6, 8, 10, 12, 14]"
            ]
          },
          "metadata": {},
          "execution_count": 80
        }
      ],
      "source": [
        "lista1"
      ]
    },
    {
      "cell_type": "markdown",
      "metadata": {
        "id": "10nLjKjEdnYf"
      },
      "source": [
        "**Ex 2)** Filtrando os elementos negativos de uma lista:"
      ]
    },
    {
      "cell_type": "code",
      "execution_count": 81,
      "metadata": {
        "id": "HQ2yDzyUdnYf",
        "outputId": "54010c37-d582-40db-af66-f6eba912b916",
        "colab": {
          "base_uri": "https://localhost:8080/"
        }
      },
      "outputs": [
        {
          "output_type": "stream",
          "name": "stdout",
          "text": [
            "[5, 9, 8]\n"
          ]
        }
      ],
      "source": [
        "listin = [-2, 5, 9, 8, -7]\n",
        "\n",
        "positive_list = []\n",
        "\n",
        "for num in listin:\n",
        "  if num >= 0:\n",
        "    positive_list.append(num)\n",
        "\n",
        "print(positive_list)\n"
      ]
    },
    {
      "cell_type": "markdown",
      "metadata": {
        "id": "6Z8YU6a3dnYf"
      },
      "source": [
        "Outra maneira de aplicar funções a listas é usar **lambda functions**."
      ]
    },
    {
      "cell_type": "markdown",
      "metadata": {
        "id": "XKD230QsdnYf"
      },
      "source": [
        "**Ex 3)** Lambda functions:"
      ]
    },
    {
      "cell_type": "code",
      "execution_count": 86,
      "metadata": {
        "id": "KIvR7M24dnYf",
        "colab": {
          "base_uri": "https://localhost:8080/"
        },
        "outputId": "ff177794-d1b7-4f2a-e0d7-5d739b4bf1fa"
      },
      "outputs": [
        {
          "output_type": "execute_result",
          "data": {
            "text/plain": [
              "[1, 8, 27, 64, 125, 216, 343]"
            ]
          },
          "metadata": {},
          "execution_count": 86
        }
      ],
      "source": [
        "cubo_of_x = list(map(lambda x: x**3, listinha_2))\n",
        "cubo_of_x\n"
      ]
    },
    {
      "cell_type": "code",
      "source": [
        "print(map(lambda x: x**3, listinha_2))"
      ],
      "metadata": {
        "colab": {
          "base_uri": "https://localhost:8080/"
        },
        "id": "OccM_hMCOVyE",
        "outputId": "f22fdc97-2a11-4920-d3a5-8dd9dd34c429"
      },
      "execution_count": 88,
      "outputs": [
        {
          "output_type": "stream",
          "name": "stdout",
          "text": [
            "<map object at 0x7b56210d9870>\n"
          ]
        }
      ]
    }
  ],
  "metadata": {
    "kernelspec": {
      "display_name": "Python 3",
      "language": "python",
      "name": "python3"
    },
    "language_info": {
      "codemirror_mode": {
        "name": "ipython",
        "version": 3
      },
      "file_extension": ".py",
      "mimetype": "text/x-python",
      "name": "python",
      "nbconvert_exporter": "python",
      "pygments_lexer": "ipython3",
      "version": "3.9.0"
    },
    "colab": {
      "provenance": [],
      "include_colab_link": true
    }
  },
  "nbformat": 4,
  "nbformat_minor": 0
}