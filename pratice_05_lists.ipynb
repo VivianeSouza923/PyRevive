{
  "cells": [
    {
      "cell_type": "markdown",
      "metadata": {
        "id": "view-in-github",
        "colab_type": "text"
      },
      "source": [
        "<a href=\"https://colab.research.google.com/github/VivianeSouza923/PyRevive/blob/main/pratice_05_lists.ipynb\" target=\"_parent\"><img src=\"https://colab.research.google.com/assets/colab-badge.svg\" alt=\"Open In Colab\"/></a>"
      ]
    },
    {
      "cell_type": "markdown",
      "metadata": {
        "id": "LnsRD45AdnYT"
      },
      "source": [
        "## **Python Essencial para Data Science**\n",
        "**Prof. Dr. Samuel Martins (@hisamuka @xavecoding)** <br/>\n",
        "xavecoding: https://youtube.com/c/xavecoding <br/><br/>\n",
        "\n",
        "<a rel=\"license\" href=\"http://creativecommons.org/licenses/by-nc-sa/4.0/\"><img alt=\"Creative Commons License\" style=\"border-width:0\" src=\"https://i.creativecommons.org/l/by-nc-sa/4.0/88x31.png\" /></a><br />This work is licensed under a <a rel=\"license\" href=\"http://creativecommons.org/licenses/by-nc-sa/4.0/\">Creative Commons Attribution-NonCommercial-ShareAlike 4.0 International License</a>."
      ]
    },
    {
      "cell_type": "markdown",
      "metadata": {
        "id": "G3wHOM1OdnYV"
      },
      "source": [
        "## Lists\n",
        "Listas em Python representam uma **sequência de elementos _ordenados_**."
      ]
    },
    {
      "cell_type": "code",
      "execution_count": 1,
      "metadata": {
        "colab": {
          "base_uri": "https://localhost:8080/"
        },
        "id": "GxAvGbc-dnYV",
        "outputId": "0b282489-c263-4a82-e44e-6fa511970b43"
      },
      "outputs": [
        {
          "output_type": "execute_result",
          "data": {
            "text/plain": [
              "['linda', 'inteligente', 'de Deus', 'mulher virtuosa']"
            ]
          },
          "metadata": {},
          "execution_count": 1
        }
      ],
      "source": [
        "viviane = ['linda', 'inteligente', 'de Deus', 'mulher virtuosa']\n",
        "viviane"
      ]
    },
    {
      "cell_type": "code",
      "source": [
        "type(viviane)"
      ],
      "metadata": {
        "colab": {
          "base_uri": "https://localhost:8080/"
        },
        "id": "C-xPXVn9qgPC",
        "outputId": "d5873ff5-ac45-4f3c-f6be-8f1db5c02fe5"
      },
      "execution_count": 2,
      "outputs": [
        {
          "output_type": "execute_result",
          "data": {
            "text/plain": [
              "list"
            ]
          },
          "metadata": {},
          "execution_count": 2
        }
      ]
    },
    {
      "cell_type": "markdown",
      "metadata": {
        "id": "YuuZyfQPdnYV"
      },
      "source": [
        "A **ordenação** dos elementos refere-se a seus _posicionamentos_ na lista, ou seja, o primeiro elemento da lista é o 20, o segundo é o 11, e assim por diante. <br/>\n",
        "A **ordem** dos valores/conteúdos é outra coisa."
      ]
    },
    {
      "cell_type": "code",
      "execution_count": 3,
      "metadata": {
        "colab": {
          "base_uri": "https://localhost:8080/",
          "height": 35
        },
        "id": "1ANkTZbFdnYW",
        "outputId": "d4b8f816-3df9-474f-850a-de563d404d0c"
      },
      "outputs": [
        {
          "output_type": "execute_result",
          "data": {
            "text/plain": [
              "'de Deus'"
            ],
            "application/vnd.google.colaboratory.intrinsic+json": {
              "type": "string"
            }
          },
          "metadata": {},
          "execution_count": 3
        }
      ],
      "source": [
        "viviane[2]"
      ]
    },
    {
      "cell_type": "markdown",
      "metadata": {
        "id": "E5tDYPpKdnYW"
      },
      "source": [
        "#### Listas vazias"
      ]
    },
    {
      "cell_type": "code",
      "execution_count": 4,
      "metadata": {
        "colab": {
          "base_uri": "https://localhost:8080/"
        },
        "id": "14upujwBdnYW",
        "outputId": "c1ddef6d-95bc-4e77-959b-45717e795867"
      },
      "outputs": [
        {
          "output_type": "execute_result",
          "data": {
            "text/plain": [
              "[]"
            ]
          },
          "metadata": {},
          "execution_count": 4
        }
      ],
      "source": [
        "listinha = []\n",
        "listinha"
      ]
    },
    {
      "cell_type": "code",
      "execution_count": 5,
      "metadata": {
        "colab": {
          "base_uri": "https://localhost:8080/"
        },
        "id": "SJbe0GL1dnYW",
        "outputId": "fd0d9ad3-70da-4f80-89ae-5033fe48f5b5"
      },
      "outputs": [
        {
          "output_type": "execute_result",
          "data": {
            "text/plain": [
              "[]"
            ]
          },
          "metadata": {},
          "execution_count": 5
        }
      ],
      "source": [
        "listinha_1 = list()\n",
        "listinha_1"
      ]
    },
    {
      "cell_type": "markdown",
      "metadata": {
        "id": "Ia3-gD1ndnYW"
      },
      "source": [
        "#### Listas podem ter elementos de _qualquer tipo_"
      ]
    },
    {
      "cell_type": "code",
      "execution_count": 6,
      "metadata": {
        "colab": {
          "base_uri": "https://localhost:8080/"
        },
        "id": "2qI7E-jFdnYW",
        "outputId": "3800de5e-cbaf-48c5-e33a-dc4582fd4323"
      },
      "outputs": [
        {
          "output_type": "execute_result",
          "data": {
            "text/plain": [
              "[1, 2, 3, 4, 5, 6, 7]"
            ]
          },
          "metadata": {},
          "execution_count": 6
        }
      ],
      "source": [
        "listinha_2 = [1, 2, 3, 4, 5, 6, 7]\n",
        "listinha_2"
      ]
    },
    {
      "cell_type": "markdown",
      "metadata": {
        "id": "JEwaUT6rdnYW"
      },
      "source": [
        "#### Listas podem ter _tipos diferentes_ numa lista:"
      ]
    },
    {
      "cell_type": "code",
      "execution_count": 7,
      "metadata": {
        "colab": {
          "base_uri": "https://localhost:8080/"
        },
        "id": "zRJQz_1idnYW",
        "outputId": "2ebf9627-a6ec-472b-883b-5de5dcd19be3"
      },
      "outputs": [
        {
          "output_type": "execute_result",
          "data": {
            "text/plain": [
              "['brilhosa', 5, 2.6, True]"
            ]
          },
          "metadata": {},
          "execution_count": 7
        }
      ],
      "source": [
        "listinha_3 = ['brilhosa', 5, 2.6, True]\n",
        "listinha_3\n"
      ]
    },
    {
      "cell_type": "code",
      "source": [
        "print(listinha_3)"
      ],
      "metadata": {
        "colab": {
          "base_uri": "https://localhost:8080/"
        },
        "id": "312Nxy2bruAC",
        "outputId": "26e4bacc-424c-46ce-a03c-a8abfde891a7"
      },
      "execution_count": 8,
      "outputs": [
        {
          "output_type": "stream",
          "name": "stdout",
          "text": [
            "['brilhosa', 5, 2.6, True]\n"
          ]
        }
      ]
    },
    {
      "cell_type": "markdown",
      "metadata": {
        "id": "Sj-NmvR6dnYW"
      },
      "source": [
        "#### Podemos ter listas de listas"
      ]
    },
    {
      "cell_type": "code",
      "execution_count": 9,
      "metadata": {
        "colab": {
          "base_uri": "https://localhost:8080/"
        },
        "id": "fUIwguondnYW",
        "outputId": "84b003f4-4d4a-43f4-c464-7c427c96413f"
      },
      "outputs": [
        {
          "output_type": "execute_result",
          "data": {
            "text/plain": [
              "[['vivi', 'alesi', 'thorin'], [True, False, True], [1, 2, 3]]"
            ]
          },
          "metadata": {},
          "execution_count": 9
        }
      ],
      "source": [
        "matriz = [['vivi', 'alesi', 'thorin'], [True, False, True], [1, 2, 3]]\n",
        "matriz"
      ]
    },
    {
      "cell_type": "code",
      "execution_count": 10,
      "metadata": {
        "colab": {
          "base_uri": "https://localhost:8080/"
        },
        "id": "MT3grZ2GdnYW",
        "outputId": "7c0489dd-eb4c-4f49-8b9c-70c65d2d2ab5"
      },
      "outputs": [
        {
          "output_type": "stream",
          "name": "stdout",
          "text": [
            "[['vivi', 'alesi', 'thorin'], [True, False, True], [1, 2, 3]]\n"
          ]
        }
      ],
      "source": [
        "print(matriz)"
      ]
    },
    {
      "cell_type": "code",
      "execution_count": 11,
      "metadata": {
        "colab": {
          "base_uri": "https://localhost:8080/"
        },
        "id": "k8_Hu4QKdnYW",
        "outputId": "bf21ee6b-ad72-464b-9a58-8abc2f2bd2df"
      },
      "outputs": [
        {
          "output_type": "execute_result",
          "data": {
            "text/plain": [
              "list"
            ]
          },
          "metadata": {},
          "execution_count": 11
        }
      ],
      "source": [
        "type(matriz)"
      ]
    },
    {
      "cell_type": "code",
      "execution_count": 12,
      "metadata": {
        "colab": {
          "base_uri": "https://localhost:8080/"
        },
        "id": "ggPmvx0odnYX",
        "outputId": "bd13cd75-c181-4d5b-e22e-9321c6846c04"
      },
      "outputs": [
        {
          "output_type": "execute_result",
          "data": {
            "text/plain": [
              "list"
            ]
          },
          "metadata": {},
          "execution_count": 12
        }
      ],
      "source": [
        "type(matriz[1])"
      ]
    },
    {
      "cell_type": "code",
      "execution_count": 13,
      "metadata": {
        "colab": {
          "base_uri": "https://localhost:8080/"
        },
        "id": "R0KDbUdQdnYX",
        "outputId": "7157740e-c01a-4e57-85bb-54a6e58b3042"
      },
      "outputs": [
        {
          "output_type": "stream",
          "name": "stdout",
          "text": [
            "['vivi', 'alesi', 'thorin']\n",
            "[True, False, True]\n",
            "[1, 2, 3]\n"
          ]
        }
      ],
      "source": [
        "for linha in matriz:\n",
        "  print(linha)"
      ]
    },
    {
      "cell_type": "code",
      "source": [
        "matriz[1][0]"
      ],
      "metadata": {
        "colab": {
          "base_uri": "https://localhost:8080/"
        },
        "id": "Zb9eoFmesix6",
        "outputId": "cf048197-268a-4184-ad69-7d508662b9cc"
      },
      "execution_count": 14,
      "outputs": [
        {
          "output_type": "execute_result",
          "data": {
            "text/plain": [
              "True"
            ]
          },
          "metadata": {},
          "execution_count": 14
        }
      ]
    },
    {
      "cell_type": "markdown",
      "metadata": {
        "id": "3yCjnnqUdnYX"
      },
      "source": [
        "### Indexação\n",
        "\n",
        "Cada elemento de uma lista é indexado a uma posição. <br/>\n",
        "Podemos acessar um elemento passando seu índice com []:"
      ]
    },
    {
      "cell_type": "code",
      "execution_count": 15,
      "metadata": {
        "colab": {
          "base_uri": "https://localhost:8080/"
        },
        "id": "t-e0AebsdnYX",
        "outputId": "263bbbc1-a85f-413f-e6fa-20d1429ed729"
      },
      "outputs": [
        {
          "output_type": "execute_result",
          "data": {
            "text/plain": [
              "2.6"
            ]
          },
          "metadata": {},
          "execution_count": 15
        }
      ],
      "source": [
        "listinha_3[2]"
      ]
    },
    {
      "cell_type": "code",
      "execution_count": 16,
      "metadata": {
        "colab": {
          "base_uri": "https://localhost:8080/",
          "height": 35
        },
        "id": "0TLbioTLdnYX",
        "outputId": "660d0856-1211-4d21-d7b6-74a18e2ab387"
      },
      "outputs": [
        {
          "output_type": "execute_result",
          "data": {
            "text/plain": [
              "'brilhosa'"
            ],
            "application/vnd.google.colaboratory.intrinsic+json": {
              "type": "string"
            }
          },
          "metadata": {},
          "execution_count": 16
        }
      ],
      "source": [
        "listinha_3[0]"
      ]
    },
    {
      "cell_type": "code",
      "execution_count": 17,
      "metadata": {
        "colab": {
          "base_uri": "https://localhost:8080/"
        },
        "id": "tPOamSJNdnYX",
        "outputId": "bf2ea93c-860d-473c-8bda-a9591a289453"
      },
      "outputs": [
        {
          "output_type": "execute_result",
          "data": {
            "text/plain": [
              "4"
            ]
          },
          "metadata": {},
          "execution_count": 17
        }
      ],
      "source": [
        "len(listinha_3)"
      ]
    },
    {
      "cell_type": "code",
      "source": [
        "listinha_3[3]"
      ],
      "metadata": {
        "colab": {
          "base_uri": "https://localhost:8080/"
        },
        "id": "RXHDdoNdtYUj",
        "outputId": "2e612267-7f45-454e-9d96-4c26fd1dcd4d"
      },
      "execution_count": 18,
      "outputs": [
        {
          "output_type": "execute_result",
          "data": {
            "text/plain": [
              "True"
            ]
          },
          "metadata": {},
          "execution_count": 18
        }
      ]
    },
    {
      "cell_type": "code",
      "source": [
        "listinha_3[4]"
      ],
      "metadata": {
        "colab": {
          "base_uri": "https://localhost:8080/",
          "height": 177
        },
        "id": "fmOeT-zOtr1u",
        "outputId": "9c73c2ad-4390-489e-ad41-d1d385d18dd6"
      },
      "execution_count": 19,
      "outputs": [
        {
          "output_type": "error",
          "ename": "IndexError",
          "evalue": "ignored",
          "traceback": [
            "\u001b[0;31m---------------------------------------------------------------------------\u001b[0m",
            "\u001b[0;31mIndexError\u001b[0m                                Traceback (most recent call last)",
            "\u001b[0;32m<ipython-input-19-7989e07cfac5>\u001b[0m in \u001b[0;36m<cell line: 1>\u001b[0;34m()\u001b[0m\n\u001b[0;32m----> 1\u001b[0;31m \u001b[0mlistinha_3\u001b[0m\u001b[0;34m[\u001b[0m\u001b[0;36m4\u001b[0m\u001b[0;34m]\u001b[0m\u001b[0;34m\u001b[0m\u001b[0;34m\u001b[0m\u001b[0m\n\u001b[0m",
            "\u001b[0;31mIndexError\u001b[0m: list index out of range"
          ]
        }
      ]
    },
    {
      "cell_type": "markdown",
      "metadata": {
        "id": "ZcjFUS2BdnYX"
      },
      "source": [
        "Listas em Python suporta **índices negativos**, cuja ordem de indexação é o contrário, começando do final para o início:"
      ]
    },
    {
      "cell_type": "code",
      "execution_count": 20,
      "metadata": {
        "colab": {
          "base_uri": "https://localhost:8080/"
        },
        "id": "6FPwG5v1dnYX",
        "outputId": "6ca55dc8-6d8d-41be-eb4c-87655e012565"
      },
      "outputs": [
        {
          "output_type": "execute_result",
          "data": {
            "text/plain": [
              "True"
            ]
          },
          "metadata": {},
          "execution_count": 20
        }
      ],
      "source": [
        "listinha_3[-1]"
      ]
    },
    {
      "cell_type": "code",
      "execution_count": 21,
      "metadata": {
        "colab": {
          "base_uri": "https://localhost:8080/"
        },
        "id": "taVK0ZUmdnYX",
        "outputId": "3b367df6-2c77-4b40-e086-e034cf8ff853"
      },
      "outputs": [
        {
          "output_type": "execute_result",
          "data": {
            "text/plain": [
              "2.6"
            ]
          },
          "metadata": {},
          "execution_count": 21
        }
      ],
      "source": [
        "listinha_3[-2]"
      ]
    },
    {
      "cell_type": "code",
      "source": [
        "listinha_3[-3]"
      ],
      "metadata": {
        "colab": {
          "base_uri": "https://localhost:8080/"
        },
        "id": "ri8FC-0MuN6_",
        "outputId": "93ba17ee-5bde-45e2-b3bc-415d645b6814"
      },
      "execution_count": 22,
      "outputs": [
        {
          "output_type": "execute_result",
          "data": {
            "text/plain": [
              "5"
            ]
          },
          "metadata": {},
          "execution_count": 22
        }
      ]
    },
    {
      "cell_type": "code",
      "source": [
        "listinha_3[-4]"
      ],
      "metadata": {
        "colab": {
          "base_uri": "https://localhost:8080/",
          "height": 35
        },
        "id": "kw9oDwkfuRCX",
        "outputId": "fa823317-a1be-4736-8c73-668b38c0a2ae"
      },
      "execution_count": 23,
      "outputs": [
        {
          "output_type": "execute_result",
          "data": {
            "text/plain": [
              "'brilhosa'"
            ],
            "application/vnd.google.colaboratory.intrinsic+json": {
              "type": "string"
            }
          },
          "metadata": {},
          "execution_count": 23
        }
      ]
    },
    {
      "cell_type": "code",
      "source": [
        "len(listinha_3)"
      ],
      "metadata": {
        "colab": {
          "base_uri": "https://localhost:8080/"
        },
        "id": "VAfrOOrZuXW-",
        "outputId": "96e20d7c-3d27-41b2-d740-c51e9c277d2d"
      },
      "execution_count": 24,
      "outputs": [
        {
          "output_type": "execute_result",
          "data": {
            "text/plain": [
              "4"
            ]
          },
          "metadata": {},
          "execution_count": 24
        }
      ]
    },
    {
      "cell_type": "markdown",
      "metadata": {
        "id": "lWVtuIvndnYX"
      },
      "source": [
        "Podemos também acessar o _último elemento_ da lista desta maneira:"
      ]
    },
    {
      "cell_type": "code",
      "execution_count": 25,
      "metadata": {
        "colab": {
          "base_uri": "https://localhost:8080/"
        },
        "id": "dUaFr4hldnYX",
        "outputId": "63215503-e5d5-4528-d4c3-52b189fa7ef6"
      },
      "outputs": [
        {
          "output_type": "execute_result",
          "data": {
            "text/plain": [
              "True"
            ]
          },
          "metadata": {},
          "execution_count": 25
        }
      ],
      "source": [
        "listinha_3[len(listinha_3) - 1]"
      ]
    },
    {
      "cell_type": "markdown",
      "metadata": {
        "id": "MEbUnC9WdnYX"
      },
      "source": [
        "Inline-style:\n",
        "![](https://github.com/VivianeSouza923/PyRevive/blob/main/imagens/exemplo_lista_indices.png?raw=1)"
      ]
    },
    {
      "cell_type": "markdown",
      "metadata": {
        "id": "GiU_8yfFdnYX"
      },
      "source": [
        "### Slicing (fatiamento)\n",
        "Podemos retornar **uma cópia** dos elementos de um **intervalo contínuo** de uma lista."
      ]
    },
    {
      "cell_type": "code",
      "execution_count": 26,
      "metadata": {
        "colab": {
          "base_uri": "https://localhost:8080/"
        },
        "id": "Sh4Jgpn6dnYX",
        "outputId": "6338c720-8233-4639-b0a3-b5d3fbd0f8a8"
      },
      "outputs": [
        {
          "output_type": "execute_result",
          "data": {
            "text/plain": [
              "[2, 3, 4, 5]"
            ]
          },
          "metadata": {},
          "execution_count": 26
        }
      ],
      "source": [
        "listinha_2[1:5]"
      ]
    },
    {
      "cell_type": "markdown",
      "metadata": {
        "id": "O0L8ZtFbdnYX"
      },
      "source": [
        "`planetas[0:3]` é nosso jeito de consultar os elementos da lista `planetas` do índice 0 até o índice 3 (sem incluí-lo)."
      ]
    },
    {
      "cell_type": "markdown",
      "metadata": {
        "id": "SNUi6rcJdnYX"
      },
      "source": [
        "#### Entendendo os índices de um Intervalo\n",
        "Um intervalo em python sempre **inclui** o número passado como **limite inferior** e *exclui* o número do *limite superior* do intervalo.\n",
        "\n",
        "`[10:15]` são os números do intervalo [10, 15), ou seja, [10, 11, 12, 13, 14]"
      ]
    },
    {
      "cell_type": "markdown",
      "metadata": {
        "id": "w1-RHXsMdnYX"
      },
      "source": [
        "#### De volta ao slicing"
      ]
    },
    {
      "cell_type": "markdown",
      "metadata": {
        "id": "ak6BQ73gdnYX"
      },
      "source": [
        "Os índices iniciais e finais do intervalo do _slicing_ são **opcionais**.\n",
        "\n",
        "Se não informarmos o _índice inicial_, o valor 0 é assumido:"
      ]
    },
    {
      "cell_type": "code",
      "execution_count": 27,
      "metadata": {
        "colab": {
          "base_uri": "https://localhost:8080/"
        },
        "id": "YhDBz9epdnYY",
        "outputId": "a8d532c6-c652-4f3f-ae99-0ffe6b681dc1"
      },
      "outputs": [
        {
          "output_type": "execute_result",
          "data": {
            "text/plain": [
              "[1, 2, 3, 4, 5, 6]"
            ]
          },
          "metadata": {},
          "execution_count": 27
        }
      ],
      "source": [
        "listinha_2[:6]"
      ]
    },
    {
      "cell_type": "code",
      "execution_count": 28,
      "metadata": {
        "colab": {
          "base_uri": "https://localhost:8080/"
        },
        "id": "EqKs9zB4dnYY",
        "outputId": "0b710f08-6735-44b6-b2dc-ac2a25ef62b4"
      },
      "outputs": [
        {
          "output_type": "execute_result",
          "data": {
            "text/plain": [
              "[1, 2, 3]"
            ]
          },
          "metadata": {},
          "execution_count": 28
        }
      ],
      "source": [
        "listinha_2[:3]"
      ]
    },
    {
      "cell_type": "markdown",
      "metadata": {
        "id": "yGiKhkcidnYY"
      },
      "source": [
        "Se ignorarmos o _índice final_, é assumido o _tamanho da lista_ `len(lista)`:"
      ]
    },
    {
      "cell_type": "code",
      "execution_count": 29,
      "metadata": {
        "colab": {
          "base_uri": "https://localhost:8080/"
        },
        "id": "EyBKqaQMdnYY",
        "outputId": "b5e8f1e3-1653-478b-fc43-579238e3bc05"
      },
      "outputs": [
        {
          "output_type": "execute_result",
          "data": {
            "text/plain": [
              "[4, 5, 6, 7]"
            ]
          },
          "metadata": {},
          "execution_count": 29
        }
      ],
      "source": [
        "listinha_2[3:]"
      ]
    },
    {
      "cell_type": "markdown",
      "metadata": {
        "id": "HoIgSaOQdnYY"
      },
      "source": [
        "Podemos também fazer o slicing com **índices negativos**:"
      ]
    },
    {
      "cell_type": "code",
      "execution_count": 30,
      "metadata": {
        "colab": {
          "base_uri": "https://localhost:8080/"
        },
        "id": "KxxugHArdnYZ",
        "outputId": "660c147d-fb45-426a-b13a-33545facbaaf"
      },
      "outputs": [
        {
          "output_type": "execute_result",
          "data": {
            "text/plain": [
              "[4, 5]"
            ]
          },
          "metadata": {},
          "execution_count": 30
        }
      ],
      "source": [
        "listinha_2[3:-2]"
      ]
    },
    {
      "cell_type": "markdown",
      "metadata": {
        "id": "QWqL0K0-dnYZ"
      },
      "source": [
        "`planetas[1:-1]` considera o intervalo que vai do índice [1], o **incluindo**, até o índice [-1] ou [len(planetas) - 1], no exemplo é o índice [7], o **excluindo**. <br/>\n",
        "Portanto, o intervalo retornado contém os índices [1, 2, 3, 4, 5, 6]."
      ]
    },
    {
      "cell_type": "markdown",
      "metadata": {
        "id": "W1SKAdpednYZ"
      },
      "source": [
        "<br/>"
      ]
    },
    {
      "cell_type": "markdown",
      "metadata": {
        "id": "tisqPt3VdnYa"
      },
      "source": [
        "Outro exemplo:"
      ]
    },
    {
      "cell_type": "code",
      "execution_count": 31,
      "metadata": {
        "colab": {
          "base_uri": "https://localhost:8080/"
        },
        "id": "MnEUluqhdnYa",
        "outputId": "a9c7b0f4-cd4c-40e8-b299-1128d10129cb"
      },
      "outputs": [
        {
          "output_type": "execute_result",
          "data": {
            "text/plain": [
              "[6, 7]"
            ]
          },
          "metadata": {},
          "execution_count": 31
        }
      ],
      "source": [
        "listinha_2[5:]"
      ]
    },
    {
      "cell_type": "code",
      "execution_count": 32,
      "metadata": {
        "colab": {
          "base_uri": "https://localhost:8080/"
        },
        "id": "XKiqa4bUdnYa",
        "outputId": "70795c9c-1e8b-4cf4-ccaa-3ffbae8cb084"
      },
      "outputs": [
        {
          "output_type": "execute_result",
          "data": {
            "text/plain": [
              "[5, 6]"
            ]
          },
          "metadata": {},
          "execution_count": 32
        }
      ],
      "source": [
        "listinha_2[4:-1]"
      ]
    },
    {
      "cell_type": "markdown",
      "metadata": {
        "id": "fPpX69qbdnYa"
      },
      "source": [
        "Vamos entender o intervalo `[-3:]`.\n",
        "\n",
        "O índice `[-3]` corresponde ao índice `[len(planetas) - 3]`, ou seja, o índice `[5]`. <br/>\n",
        "Portanto, `[-3:]` é sinônonimo de `[5:]`.\n",
        "\n",
        "Ao omitir o último índice do intervalo, consideramos por padrão `len(planetas)`, que é 8. <br/>\n",
        "Logo, `[-3:]` é o mesmo que `[5:8]`, que resulta nos índices `[5, 6, 7]`, que são os índices dos 3 últimos elementos dessa lista."
      ]
    },
    {
      "cell_type": "markdown",
      "metadata": {
        "id": "lI96Rz6KdnYa"
      },
      "source": [
        "#### Os elementos retornados pelo Slicing de Listas a uma variável são CÓPIAS"
      ]
    },
    {
      "cell_type": "code",
      "execution_count": 33,
      "metadata": {
        "colab": {
          "base_uri": "https://localhost:8080/"
        },
        "id": "4Y4CuqZbdnYa",
        "outputId": "1e069e34-912c-4403-aa62-e61040bf3d31"
      },
      "outputs": [
        {
          "output_type": "execute_result",
          "data": {
            "text/plain": [
              "[2, 3, 4, 5]"
            ]
          },
          "metadata": {},
          "execution_count": 33
        }
      ],
      "source": [
        "copy_listinha = listinha_2[1:5]\n",
        "copy_listinha"
      ]
    },
    {
      "cell_type": "code",
      "execution_count": 34,
      "metadata": {
        "colab": {
          "base_uri": "https://localhost:8080/"
        },
        "id": "Ke0833VcdnYa",
        "outputId": "9711e8f0-a66e-4786-c03c-0aadd3348dc7"
      },
      "outputs": [
        {
          "output_type": "execute_result",
          "data": {
            "text/plain": [
              "[1, 2, 3, 4, 5, 6, 7]"
            ]
          },
          "metadata": {},
          "execution_count": 34
        }
      ],
      "source": [
        "listinha_2"
      ]
    },
    {
      "cell_type": "code",
      "source": [
        "copy_listinha[2] = 2.5\n",
        "copy_listinha"
      ],
      "metadata": {
        "colab": {
          "base_uri": "https://localhost:8080/"
        },
        "id": "Lop5FpG1yMiE",
        "outputId": "a24c657c-ea41-4d36-8b34-a7b04657f228"
      },
      "execution_count": 35,
      "outputs": [
        {
          "output_type": "execute_result",
          "data": {
            "text/plain": [
              "[2, 3, 2.5, 5]"
            ]
          },
          "metadata": {},
          "execution_count": 35
        }
      ]
    },
    {
      "cell_type": "markdown",
      "metadata": {
        "id": "UqbTex_PdnYa"
      },
      "source": [
        "#### Alteração de Múltiplos elementos de uma Lista via Slicing"
      ]
    },
    {
      "cell_type": "code",
      "execution_count": 36,
      "metadata": {
        "colab": {
          "base_uri": "https://localhost:8080/"
        },
        "id": "colQadtSdnYa",
        "outputId": "744e8a60-b65e-49c3-cbeb-611c4580323c"
      },
      "outputs": [
        {
          "output_type": "execute_result",
          "data": {
            "text/plain": [
              "['a', 'b', 2.5, 5]"
            ]
          },
          "metadata": {},
          "execution_count": 36
        }
      ],
      "source": [
        "copy_listinha[0] = 'a'\n",
        "copy_listinha[1] = 'b'\n",
        "copy_listinha"
      ]
    },
    {
      "cell_type": "code",
      "source": [
        "copy_listinha[:2] = ['c', 'd']\n",
        "copy_listinha"
      ],
      "metadata": {
        "colab": {
          "base_uri": "https://localhost:8080/"
        },
        "id": "uVJOmyfkynyv",
        "outputId": "a26828de-1f16-4857-cabe-084065b9e151"
      },
      "execution_count": 37,
      "outputs": [
        {
          "output_type": "execute_result",
          "data": {
            "text/plain": [
              "['c', 'd', 2.5, 5]"
            ]
          },
          "metadata": {},
          "execution_count": 37
        }
      ]
    },
    {
      "cell_type": "markdown",
      "metadata": {
        "id": "wWK6widKdnYa"
      },
      "source": [
        "<br/>\n",
        "\n",
        "Se o **número de elementos atribuídos for DIFERENTE do número de elementos do slicing**, os elementos excedentos ou faltantes da lista são ignorados ===> TOME CUIDADO"
      ]
    },
    {
      "cell_type": "code",
      "execution_count": 38,
      "metadata": {
        "colab": {
          "base_uri": "https://localhost:8080/"
        },
        "id": "kpRtt4fMdnYa",
        "outputId": "cfec53c8-dc76-43ff-a32c-3dd8d406e246"
      },
      "outputs": [
        {
          "output_type": "execute_result",
          "data": {
            "text/plain": [
              "['e', 5]"
            ]
          },
          "metadata": {},
          "execution_count": 38
        }
      ],
      "source": [
        "copy_listinha[:3] = 'e'\n",
        "copy_listinha"
      ]
    },
    {
      "cell_type": "markdown",
      "metadata": {
        "id": "57OV6SW8dnYa"
      },
      "source": [
        "### For-each em Listas\n",
        "Como mostrado no notebook anterior, podemos iterar elementos em uma lista:"
      ]
    },
    {
      "cell_type": "code",
      "execution_count": 39,
      "metadata": {
        "colab": {
          "base_uri": "https://localhost:8080/"
        },
        "id": "UD-YPxkOdnYa",
        "outputId": "bcc386c7-9dca-4714-edc2-2d18bf451c53"
      },
      "outputs": [
        {
          "output_type": "execute_result",
          "data": {
            "text/plain": [
              "[1, 2, 3, 4, 5, 6, 7]"
            ]
          },
          "metadata": {},
          "execution_count": 39
        }
      ],
      "source": [
        "listinha_2"
      ]
    },
    {
      "cell_type": "code",
      "execution_count": 40,
      "metadata": {
        "colab": {
          "base_uri": "https://localhost:8080/"
        },
        "id": "qorIpuFJdnYa",
        "outputId": "7653849e-2c54-42dc-ad71-01a43dc6a476"
      },
      "outputs": [
        {
          "output_type": "stream",
          "name": "stdout",
          "text": [
            "item = 1\n",
            "item = 2\n",
            "item = 3\n",
            "item = 4\n",
            "item = 5\n",
            "item = 6\n",
            "item = 7\n"
          ]
        }
      ],
      "source": [
        "for lista in listinha_2:\n",
        "  print(f'item = {lista}')"
      ]
    },
    {
      "cell_type": "code",
      "execution_count": 41,
      "metadata": {
        "colab": {
          "base_uri": "https://localhost:8080/"
        },
        "id": "uC-2_YYAdnYa",
        "outputId": "db44c7ad-27e7-4947-f11e-1fe6dacb8c11"
      },
      "outputs": [
        {
          "output_type": "stream",
          "name": "stdout",
          "text": [
            "item = 2\n",
            "item = 3\n",
            "item = 4\n"
          ]
        }
      ],
      "source": [
        "for lista in listinha_2[1:4]:\n",
        "  print(f'item = {lista}')\n"
      ]
    },
    {
      "cell_type": "markdown",
      "metadata": {
        "id": "scDJhcKOdnYa"
      },
      "source": [
        "No `for`, podemos também recuperar o **índice** e o *elemento* de uma lista, basta usarmos o comando `enumerate`:\n",
        "\n",
        "<code>\n",
        "    for i, elemento in enumerate(lista):\n",
        "        intrução 01\n",
        "        ....\n",
        "</code>"
      ]
    },
    {
      "cell_type": "code",
      "execution_count": 42,
      "metadata": {
        "colab": {
          "base_uri": "https://localhost:8080/"
        },
        "id": "Vy0Un7gVdnYb",
        "outputId": "8789832f-0e1b-4c5c-dd23-26ae3d980cad"
      },
      "outputs": [
        {
          "output_type": "stream",
          "name": "stdout",
          "text": [
            "item[0] = indice0 1\n",
            "item[1] = indice1 2\n",
            "item[2] = indice2 3\n",
            "item[3] = indice3 4\n",
            "item[4] = indice4 5\n",
            "item[5] = indice5 6\n",
            "item[6] = indice6 7\n"
          ]
        }
      ],
      "source": [
        "for i, lista in enumerate(listinha_2):\n",
        "  print(f'item[{i}] = indice{i} {lista}')"
      ]
    },
    {
      "cell_type": "code",
      "execution_count": 43,
      "metadata": {
        "colab": {
          "base_uri": "https://localhost:8080/"
        },
        "id": "62J0UiDadnYb",
        "outputId": "8f8470f6-45ef-4743-e596-9bec595dac05"
      },
      "outputs": [
        {
          "output_type": "stream",
          "name": "stdout",
          "text": [
            "item[0] = indice0 1\n",
            "item[1] = indice1 2\n",
            "item[2] = indice2 3\n",
            "item[3] = indice3 4\n"
          ]
        }
      ],
      "source": [
        "for i, lista in enumerate(listinha_2[:4]):\n",
        "  print(f'item[{i}] = indice{i} {lista}')"
      ]
    },
    {
      "cell_type": "markdown",
      "metadata": {
        "id": "MTGXVaDxdnYb"
      },
      "source": [
        "### Funções de Listas"
      ]
    },
    {
      "cell_type": "code",
      "execution_count": 44,
      "metadata": {
        "id": "xlR5LSoPdnYb",
        "outputId": "a8cb3a49-644e-46d2-f0e2-d5af0b7320f4",
        "colab": {
          "base_uri": "https://localhost:8080/"
        }
      },
      "outputs": [
        {
          "output_type": "execute_result",
          "data": {
            "text/plain": [
              "0"
            ]
          },
          "metadata": {},
          "execution_count": 44
        }
      ],
      "source": [
        "len(listinha)"
      ]
    },
    {
      "cell_type": "code",
      "source": [
        "print(listinha)"
      ],
      "metadata": {
        "id": "UV_GODJPH4KO",
        "outputId": "4fe8dcf7-6ee0-49fa-f6c6-546ec791e2c6",
        "colab": {
          "base_uri": "https://localhost:8080/"
        }
      },
      "execution_count": 47,
      "outputs": [
        {
          "output_type": "stream",
          "name": "stdout",
          "text": [
            "[]\n"
          ]
        }
      ]
    },
    {
      "cell_type": "code",
      "source": [
        "print(listinha_2)"
      ],
      "metadata": {
        "id": "rGdi-cIuIHK8",
        "outputId": "5e49921a-fb7c-4a84-a108-5795a27f414f",
        "colab": {
          "base_uri": "https://localhost:8080/"
        }
      },
      "execution_count": 49,
      "outputs": [
        {
          "output_type": "stream",
          "name": "stdout",
          "text": [
            "[1, 2, 3, 4, 5, 6, 7]\n"
          ]
        }
      ]
    },
    {
      "cell_type": "markdown",
      "metadata": {
        "id": "yi3vvaDwdnYb"
      },
      "source": [
        "`len` retorna o tamanho de uma lista (número de elements)"
      ]
    },
    {
      "cell_type": "code",
      "execution_count": 50,
      "metadata": {
        "id": "SNTI71IudnYb",
        "outputId": "4f44835d-77ac-4a64-fc73-09588d0b7d9b",
        "colab": {
          "base_uri": "https://localhost:8080/"
        }
      },
      "outputs": [
        {
          "output_type": "execute_result",
          "data": {
            "text/plain": [
              "7"
            ]
          },
          "metadata": {},
          "execution_count": 50
        }
      ],
      "source": [
        "len(listinha_2)"
      ]
    },
    {
      "cell_type": "markdown",
      "metadata": {
        "id": "M4-SCpDEdnYb"
      },
      "source": [
        "`min` retorna o menor elemento de uma lista"
      ]
    },
    {
      "cell_type": "code",
      "execution_count": 52,
      "metadata": {
        "id": "a10r089gdnYb",
        "outputId": "a7379a98-d2ea-459b-f80d-9bd8b85f1b82",
        "colab": {
          "base_uri": "https://localhost:8080/"
        }
      },
      "outputs": [
        {
          "output_type": "execute_result",
          "data": {
            "text/plain": [
              "1"
            ]
          },
          "metadata": {},
          "execution_count": 52
        }
      ],
      "source": [
        "min(listinha_2)"
      ]
    },
    {
      "cell_type": "markdown",
      "metadata": {
        "id": "YzDEYEX8dnYb"
      },
      "source": [
        "`max` retorna o maior elemento de uma lista"
      ]
    },
    {
      "cell_type": "code",
      "execution_count": 53,
      "metadata": {
        "id": "HXw4u7OUdnYb",
        "outputId": "abfd4fe8-26fe-4470-a8b6-d86e6c41e885",
        "colab": {
          "base_uri": "https://localhost:8080/"
        }
      },
      "outputs": [
        {
          "output_type": "execute_result",
          "data": {
            "text/plain": [
              "7"
            ]
          },
          "metadata": {},
          "execution_count": 53
        }
      ],
      "source": [
        "max(listinha_2)"
      ]
    },
    {
      "cell_type": "markdown",
      "metadata": {
        "id": "vtC28Mz2dnYb"
      },
      "source": [
        "`sum` retorna a soma de elementos de uma lista"
      ]
    },
    {
      "cell_type": "code",
      "execution_count": 54,
      "metadata": {
        "id": "p1qkQ_IsdnYb",
        "outputId": "55473ce5-f203-41ca-873d-f963c0e1c582",
        "colab": {
          "base_uri": "https://localhost:8080/"
        }
      },
      "outputs": [
        {
          "output_type": "execute_result",
          "data": {
            "text/plain": [
              "28"
            ]
          },
          "metadata": {},
          "execution_count": 54
        }
      ],
      "source": [
        "sum(listinha_2)"
      ]
    },
    {
      "cell_type": "markdown",
      "metadata": {
        "id": "e5M_ofhSdnYb"
      },
      "source": [
        "### Métodos de Listas"
      ]
    },
    {
      "cell_type": "markdown",
      "metadata": {
        "id": "NQ6rdeiMdnYb"
      },
      "source": [
        "`list.append` modifica uma lista adicionando um item (de qualquer tipo) no final."
      ]
    },
    {
      "cell_type": "code",
      "execution_count": 55,
      "metadata": {
        "id": "L0v-NpPddnYb"
      },
      "outputs": [],
      "source": [
        "listinha.append(1)"
      ]
    },
    {
      "cell_type": "code",
      "execution_count": 56,
      "metadata": {
        "id": "xJDSBfe_dnYb",
        "outputId": "ab511113-1bf0-4dff-e296-b6414eb06638",
        "colab": {
          "base_uri": "https://localhost:8080/"
        }
      },
      "outputs": [
        {
          "output_type": "execute_result",
          "data": {
            "text/plain": [
              "[1]"
            ]
          },
          "metadata": {},
          "execution_count": 56
        }
      ],
      "source": [
        "listinha"
      ]
    },
    {
      "cell_type": "code",
      "source": [
        "listinha_2.append(100)"
      ],
      "metadata": {
        "id": "qgbZlibxImMX"
      },
      "execution_count": 58,
      "outputs": []
    },
    {
      "cell_type": "code",
      "source": [
        "listinha_2"
      ],
      "metadata": {
        "id": "DDibTAbHItlg",
        "outputId": "01eeccbd-529f-423e-ae16-77341fc37f04",
        "colab": {
          "base_uri": "https://localhost:8080/"
        }
      },
      "execution_count": 59,
      "outputs": [
        {
          "output_type": "execute_result",
          "data": {
            "text/plain": [
              "[1, 2, 3, 4, 5, 6, 7, 100]"
            ]
          },
          "metadata": {},
          "execution_count": 59
        }
      ]
    },
    {
      "cell_type": "markdown",
      "metadata": {
        "id": "FedhxhXfdnYb"
      },
      "source": [
        "`list.pop` remove e retorna o último elemento da lista:"
      ]
    },
    {
      "cell_type": "code",
      "execution_count": 60,
      "metadata": {
        "id": "7OAL18dVdnYc",
        "outputId": "036f073d-a746-400f-b850-d2dca1a9cfd3",
        "colab": {
          "base_uri": "https://localhost:8080/"
        }
      },
      "outputs": [
        {
          "output_type": "execute_result",
          "data": {
            "text/plain": [
              "100"
            ]
          },
          "metadata": {},
          "execution_count": 60
        }
      ],
      "source": [
        "listinha_2.pop()"
      ]
    },
    {
      "cell_type": "code",
      "execution_count": 61,
      "metadata": {
        "id": "NUCu2JtbdnYc",
        "outputId": "b7a234a8-c3e2-483d-8c69-2aa38b7f562e",
        "colab": {
          "base_uri": "https://localhost:8080/"
        }
      },
      "outputs": [
        {
          "output_type": "execute_result",
          "data": {
            "text/plain": [
              "[1, 2, 3, 4, 5, 6, 7]"
            ]
          },
          "metadata": {},
          "execution_count": 61
        }
      ],
      "source": [
        "listinha_2"
      ]
    },
    {
      "cell_type": "markdown",
      "metadata": {
        "id": "18qcNBy4dnYc"
      },
      "source": [
        "`reverse` reverte a ordem dos elementos da lista."
      ]
    },
    {
      "cell_type": "code",
      "execution_count": 62,
      "metadata": {
        "id": "tLmSYqYPdnYc"
      },
      "outputs": [],
      "source": [
        "listinha_2.reverse()"
      ]
    },
    {
      "cell_type": "code",
      "execution_count": 63,
      "metadata": {
        "id": "hX3juhpwdnYc",
        "outputId": "7bbb904e-ff13-4ac6-9819-e2ae4494adc7",
        "colab": {
          "base_uri": "https://localhost:8080/"
        }
      },
      "outputs": [
        {
          "output_type": "execute_result",
          "data": {
            "text/plain": [
              "[7, 6, 5, 4, 3, 2, 1]"
            ]
          },
          "metadata": {},
          "execution_count": 63
        }
      ],
      "source": [
        "listinha_2"
      ]
    },
    {
      "cell_type": "markdown",
      "metadata": {
        "id": "_RvsfEI_dnYc"
      },
      "source": [
        "O possível problema é que a **própria lista** é revertida. <br>\n",
        "Caso você deseje ter uma **cópia revertida** da lista:"
      ]
    },
    {
      "cell_type": "code",
      "execution_count": 65,
      "metadata": {
        "id": "9dSnKzYsdnYc"
      },
      "outputs": [],
      "source": [
        "listinha_copy = list(listinha_2)"
      ]
    },
    {
      "cell_type": "code",
      "source": [
        "listinha_copy"
      ],
      "metadata": {
        "id": "3dRSgGxSJrtP",
        "outputId": "7be382db-e90b-4989-8f4d-153e3d50b6fb",
        "colab": {
          "base_uri": "https://localhost:8080/"
        }
      },
      "execution_count": 66,
      "outputs": [
        {
          "output_type": "execute_result",
          "data": {
            "text/plain": [
              "[7, 6, 5, 4, 3, 2, 1]"
            ]
          },
          "metadata": {},
          "execution_count": 66
        }
      ]
    },
    {
      "cell_type": "markdown",
      "metadata": {
        "id": "KfplyGKldnYc"
      },
      "source": [
        "#### Ordenação de listas"
      ]
    },
    {
      "cell_type": "markdown",
      "metadata": {
        "id": "rYCbrmSLdnYc"
      },
      "source": [
        "`sorted` retorna uma versão **ordernada (em ordem crescente)** de uma lista (NÃO ALTERA A LISTA ATUAL)"
      ]
    },
    {
      "cell_type": "code",
      "execution_count": 69,
      "metadata": {
        "id": "CSGKs6TgdnYc"
      },
      "outputs": [],
      "source": [
        "listinha_copy1 = sorted(listinha_copy)"
      ]
    },
    {
      "cell_type": "code",
      "execution_count": 70,
      "metadata": {
        "id": "PlPWGPMrdnYc",
        "outputId": "0e93b77f-e1a2-4283-e515-7d124d3adf08",
        "colab": {
          "base_uri": "https://localhost:8080/"
        }
      },
      "outputs": [
        {
          "output_type": "execute_result",
          "data": {
            "text/plain": [
              "[1, 2, 3, 4, 5, 6, 7]"
            ]
          },
          "metadata": {},
          "execution_count": 70
        }
      ],
      "source": [
        "listinha_copy1"
      ]
    },
    {
      "cell_type": "markdown",
      "metadata": {
        "id": "UBieutLrdnYc"
      },
      "source": [
        "##### Para ordernar em **ordem descrente**"
      ]
    },
    {
      "cell_type": "code",
      "execution_count": 77,
      "metadata": {
        "id": "9v38nzN-dnYd"
      },
      "outputs": [],
      "source": [
        "listinha_cpy2 = sorted(listinha_2)"
      ]
    },
    {
      "cell_type": "code",
      "execution_count": 78,
      "metadata": {
        "id": "7fIVbjdSdnYd",
        "outputId": "af304b62-c31a-4066-e6f3-ef369c72b7a3",
        "colab": {
          "base_uri": "https://localhost:8080/"
        }
      },
      "outputs": [
        {
          "output_type": "execute_result",
          "data": {
            "text/plain": [
              "[1, 2, 3, 4, 5, 6, 7]"
            ]
          },
          "metadata": {},
          "execution_count": 78
        }
      ],
      "source": [
        "listinha_cpy2"
      ]
    },
    {
      "cell_type": "code",
      "source": [
        "#em ordem decrescente\n",
        "listinha_2.reverse()"
      ],
      "metadata": {
        "id": "syIQrVdjKa4d"
      },
      "execution_count": 86,
      "outputs": []
    },
    {
      "cell_type": "code",
      "source": [
        "listinha_2"
      ],
      "metadata": {
        "id": "a6rom9N1K1OH",
        "outputId": "40468361-a415-4bb8-85f0-742c0c782a8f",
        "colab": {
          "base_uri": "https://localhost:8080/"
        }
      },
      "execution_count": 88,
      "outputs": [
        {
          "output_type": "execute_result",
          "data": {
            "text/plain": [
              "[7, 6, 5, 4, 3, 2, 1]"
            ]
          },
          "metadata": {},
          "execution_count": 88
        }
      ]
    },
    {
      "cell_type": "markdown",
      "source": [],
      "metadata": {
        "id": "_V7jI9ohKdLb"
      }
    },
    {
      "cell_type": "markdown",
      "metadata": {
        "id": "PPTNQ_gbdnYd"
      },
      "source": [
        "#### Buscando elementos em uma lista"
      ]
    },
    {
      "cell_type": "markdown",
      "metadata": {
        "id": "lf1B732UdnYd"
      },
      "source": [
        "`list.index` retorna o índice de um dado elemento da lista, ou lança uma exception caso ele não esteja presente na lista."
      ]
    },
    {
      "cell_type": "code",
      "execution_count": 89,
      "metadata": {
        "id": "MQLrjpnldnYd",
        "outputId": "7e235f68-a068-4358-dc6e-d5fe67182818",
        "colab": {
          "base_uri": "https://localhost:8080/"
        }
      },
      "outputs": [
        {
          "output_type": "execute_result",
          "data": {
            "text/plain": [
              "4"
            ]
          },
          "metadata": {},
          "execution_count": 89
        }
      ],
      "source": [
        "listinha_2.index(3)"
      ]
    },
    {
      "cell_type": "code",
      "execution_count": 90,
      "metadata": {
        "id": "YOG3FZUDdnYd",
        "outputId": "1c4b8d6a-e09d-4b05-cbbd-f0f64c9ccc0d",
        "colab": {
          "base_uri": "https://localhost:8080/"
        }
      },
      "outputs": [
        {
          "output_type": "execute_result",
          "data": {
            "text/plain": [
              "['brilhosa', 5, 2.6, True]"
            ]
          },
          "metadata": {},
          "execution_count": 90
        }
      ],
      "source": [
        "listinha_3"
      ]
    },
    {
      "cell_type": "code",
      "execution_count": 91,
      "metadata": {
        "id": "eQmw2NAodnYd",
        "outputId": "7e841e65-ee93-488f-cb6b-f0b53d571f23",
        "colab": {
          "base_uri": "https://localhost:8080/"
        }
      },
      "outputs": [
        {
          "output_type": "execute_result",
          "data": {
            "text/plain": [
              "3"
            ]
          },
          "metadata": {},
          "execution_count": 91
        }
      ],
      "source": [
        "listinha_3.index(True)"
      ]
    },
    {
      "cell_type": "markdown",
      "metadata": {
        "id": "qkYdChA4dnYd"
      },
      "source": [
        "Outra alternativa melhor para saber se **uma lista contém ou não um dado elemento**, sem o lançamento de exception, é usar o `in`:"
      ]
    },
    {
      "cell_type": "code",
      "execution_count": 92,
      "metadata": {
        "id": "4zbo49y4dnYd",
        "outputId": "cf451324-c6bb-4ab9-cecd-23f4025ebe13",
        "colab": {
          "base_uri": "https://localhost:8080/"
        }
      },
      "outputs": [
        {
          "output_type": "execute_result",
          "data": {
            "text/plain": [
              "True"
            ]
          },
          "metadata": {},
          "execution_count": 92
        }
      ],
      "source": [
        "'brilhosa' in listinha_3"
      ]
    },
    {
      "cell_type": "code",
      "execution_count": 93,
      "metadata": {
        "id": "t6KxW5pMdnYd",
        "outputId": "dfa780b7-bdab-423f-883a-5519c16b6540",
        "colab": {
          "base_uri": "https://localhost:8080/"
        }
      },
      "outputs": [
        {
          "output_type": "execute_result",
          "data": {
            "text/plain": [
              "False"
            ]
          },
          "metadata": {},
          "execution_count": 93
        }
      ],
      "source": [
        "'ano' in listinha_3"
      ]
    },
    {
      "cell_type": "markdown",
      "metadata": {
        "id": "aKcD1hRYdnYd"
      },
      "source": [
        "Podemos ainda usar o `not in` para checar se a lista **não possui um dado elemento**:"
      ]
    },
    {
      "cell_type": "code",
      "execution_count": 94,
      "metadata": {
        "id": "AMi05ukpdnYe",
        "outputId": "da5c880e-fc12-470f-c510-9a9253934be5",
        "colab": {
          "base_uri": "https://localhost:8080/"
        }
      },
      "outputs": [
        {
          "output_type": "execute_result",
          "data": {
            "text/plain": [
              "False"
            ]
          },
          "metadata": {},
          "execution_count": 94
        }
      ],
      "source": [
        "'brilhosa' not in listinha_3"
      ]
    },
    {
      "cell_type": "code",
      "source": [
        "'ano' not in listinha_3"
      ],
      "metadata": {
        "id": "uEKwX_X-M8Zo",
        "outputId": "6e450758-96ea-469e-ac3a-9940f21d548a",
        "colab": {
          "base_uri": "https://localhost:8080/"
        }
      },
      "execution_count": 95,
      "outputs": [
        {
          "output_type": "execute_result",
          "data": {
            "text/plain": [
              "True"
            ]
          },
          "metadata": {},
          "execution_count": 95
        }
      ]
    },
    {
      "cell_type": "markdown",
      "metadata": {
        "id": "DTyW36J5dnYe"
      },
      "source": [
        "#### Concatenando listas\n",
        "Suponha que desejamos juntar/concatenar duas listas em uma só. <br/>\n",
        "Podemos tentar usar o método `append`, pois ele adiciona um dado elemento ao final da lista.\n",
        "Vejamos:"
      ]
    },
    {
      "cell_type": "code",
      "execution_count": 96,
      "metadata": {
        "id": "2Fj9Ur7EdnYe",
        "outputId": "ddc1f378-5913-4ed2-9088-d2065257cf12",
        "colab": {
          "base_uri": "https://localhost:8080/"
        }
      },
      "outputs": [
        {
          "output_type": "execute_result",
          "data": {
            "text/plain": [
              "['brilhosa', 5, 2.6, True, 7, 6, 5, 4, 3, 2, 1]"
            ]
          },
          "metadata": {},
          "execution_count": 96
        }
      ],
      "source": [
        "listinha_3 + listinha_2"
      ]
    },
    {
      "cell_type": "code",
      "execution_count": 102,
      "metadata": {
        "id": "iXnF_0NSdnYe"
      },
      "outputs": [],
      "source": [
        "lista_final = list(listinha_2)\n",
        "lista_final.append(listinha_3)"
      ]
    },
    {
      "cell_type": "code",
      "execution_count": 101,
      "metadata": {
        "id": "qX2bVNRadnYe",
        "outputId": "99cfcc72-0bd9-4e26-eca3-669e58de3524",
        "colab": {
          "base_uri": "https://localhost:8080/"
        }
      },
      "outputs": [
        {
          "output_type": "execute_result",
          "data": {
            "text/plain": [
              "[7, 6, 5, 4, 3, 2, 1, ['brilhosa', 5, 2.6, True]]"
            ]
          },
          "metadata": {},
          "execution_count": 101
        }
      ],
      "source": [
        "lista_final"
      ]
    },
    {
      "cell_type": "code",
      "execution_count": 103,
      "metadata": {
        "id": "HQJ9E_R3dnYe"
      },
      "outputs": [],
      "source": [
        "lista_final = list(listinha_2)\n",
        "lista_final.extend(listinha_3)"
      ]
    },
    {
      "cell_type": "code",
      "source": [
        "lista_final"
      ],
      "metadata": {
        "id": "YXrb4UxWO9pU",
        "outputId": "73ac39e3-701a-4891-816f-4c0d10d74c04",
        "colab": {
          "base_uri": "https://localhost:8080/"
        }
      },
      "execution_count": 104,
      "outputs": [
        {
          "output_type": "execute_result",
          "data": {
            "text/plain": [
              "[7, 6, 5, 4, 3, 2, 1, 'brilhosa', 5, 2.6, True]"
            ]
          },
          "metadata": {},
          "execution_count": 104
        }
      ]
    },
    {
      "cell_type": "markdown",
      "metadata": {
        "id": "6eWuWB-qdnYe"
      },
      "source": [
        "Note que a a lista `cidades_estado_sp` tem agora alguns elementos que são _strings_, e o último elemento é uma _lista_. <br/>\n",
        "O que queremos, na verdade, é ter uma lista **apenas com _strings_**.\n",
        "\n",
        "Para isso, podemo usar o método `lista.extend(lista_2)` que vai copiar todos os elementos dentro da lista `lista_2` e colocá-los no final da lista `lista`."
      ]
    },
    {
      "cell_type": "markdown",
      "metadata": {
        "id": "ouv3VEKddnYe"
      },
      "source": [
        "### List Comprehensions\n",
        "É uma forma curta de se criar listas."
      ]
    },
    {
      "cell_type": "markdown",
      "metadata": {
        "id": "fiHj2vpfdnYe"
      },
      "source": [
        "**Ex 1)** Suponha que queremos criar uma lista cujo valor do índice [i] é i^2 (o índice ao quadrado). <br/>\n",
        "Uma forma padrão seria:"
      ]
    },
    {
      "cell_type": "code",
      "execution_count": 105,
      "metadata": {
        "id": "u5GYTucRdnYe"
      },
      "outputs": [],
      "source": [
        "# [expr for item in lista]\n",
        "lista1 = [i+i for i in listinha_2]"
      ]
    },
    {
      "cell_type": "markdown",
      "metadata": {
        "id": "tLBJUL0cdnYe"
      },
      "source": [
        "Usando o **list comprehensions**:"
      ]
    },
    {
      "cell_type": "code",
      "execution_count": 106,
      "metadata": {
        "id": "AxC23ZYldnYf",
        "outputId": "fb362ad9-b5a4-4e0a-d91e-db693094f87f",
        "colab": {
          "base_uri": "https://localhost:8080/"
        }
      },
      "outputs": [
        {
          "output_type": "execute_result",
          "data": {
            "text/plain": [
              "[14, 12, 10, 8, 6, 4, 2]"
            ]
          },
          "metadata": {},
          "execution_count": 106
        }
      ],
      "source": [
        "lista1"
      ]
    },
    {
      "cell_type": "markdown",
      "metadata": {
        "id": "10nLjKjEdnYf"
      },
      "source": [
        "**Ex 2)** Filtrando os elementos negativos de uma lista:"
      ]
    },
    {
      "cell_type": "code",
      "execution_count": 107,
      "metadata": {
        "id": "HQ2yDzyUdnYf",
        "outputId": "67599bc5-9bd9-47fe-8b79-699d784569bc",
        "colab": {
          "base_uri": "https://localhost:8080/"
        }
      },
      "outputs": [
        {
          "output_type": "stream",
          "name": "stdout",
          "text": [
            "[5, 9, 8]\n"
          ]
        }
      ],
      "source": [
        "listin = [-2, 5, 9, 8, -7]\n",
        "\n",
        "positive_list = []\n",
        "\n",
        "for num in listin:\n",
        "  if num >= 0:\n",
        "    positive_list.append(num)\n",
        "\n",
        "print(positive_list)\n"
      ]
    },
    {
      "cell_type": "markdown",
      "metadata": {
        "id": "6Z8YU6a3dnYf"
      },
      "source": [
        "Outra maneira de aplicar funções a listas é usar **lambda functions**."
      ]
    },
    {
      "cell_type": "markdown",
      "metadata": {
        "id": "XKD230QsdnYf"
      },
      "source": [
        "**Ex 3)** Lambda functions:"
      ]
    },
    {
      "cell_type": "code",
      "execution_count": null,
      "metadata": {
        "id": "KIvR7M24dnYf"
      },
      "outputs": [],
      "source": [
        "#CONTINUAR"
      ]
    }
  ],
  "metadata": {
    "kernelspec": {
      "display_name": "Python 3",
      "language": "python",
      "name": "python3"
    },
    "language_info": {
      "codemirror_mode": {
        "name": "ipython",
        "version": 3
      },
      "file_extension": ".py",
      "mimetype": "text/x-python",
      "name": "python",
      "nbconvert_exporter": "python",
      "pygments_lexer": "ipython3",
      "version": "3.9.0"
    },
    "colab": {
      "provenance": [],
      "include_colab_link": true
    }
  },
  "nbformat": 4,
  "nbformat_minor": 0
}