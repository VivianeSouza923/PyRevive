{
 "cells": [
  {
   "cell_type": "markdown",
   "id": "68d0e3e9",
   "metadata": {
    "papermill": {
     "duration": 0.006481,
     "end_time": "2023-07-04T13:38:13.503167",
     "exception": false,
     "start_time": "2023-07-04T13:38:13.496686",
     "status": "completed"
    },
    "tags": []
   },
   "source": [
    "**This notebook is an exercise in the [Python](https://www.kaggle.com/learn/python) course.  You can reference the tutorial at [this link](https://www.kaggle.com/colinmorris/functions-and-getting-help).**\n",
    "\n",
    "---\n"
   ]
  },
  {
   "cell_type": "markdown",
   "id": "231bca75",
   "metadata": {
    "papermill": {
     "duration": 0.005535,
     "end_time": "2023-07-04T13:38:13.514726",
     "exception": false,
     "start_time": "2023-07-04T13:38:13.509191",
     "status": "completed"
    },
    "tags": []
   },
   "source": [
    "Functions are powerful. Try writing some yourself.\n",
    "\n",
    "As before, don't forget to run the setup code below before jumping into question 1."
   ]
  },
  {
   "cell_type": "code",
   "execution_count": 1,
   "id": "91e4c8f2",
   "metadata": {
    "_kg_hide-input": true,
    "_kg_hide-output": true,
    "execution": {
     "iopub.execute_input": "2023-07-04T13:38:13.528779Z",
     "iopub.status.busy": "2023-07-04T13:38:13.527859Z",
     "iopub.status.idle": "2023-07-04T13:38:13.571998Z",
     "shell.execute_reply": "2023-07-04T13:38:13.570909Z"
    },
    "papermill": {
     "duration": 0.054342,
     "end_time": "2023-07-04T13:38:13.574683",
     "exception": false,
     "start_time": "2023-07-04T13:38:13.520341",
     "status": "completed"
    },
    "tags": []
   },
   "outputs": [
    {
     "name": "stdout",
     "output_type": "stream",
     "text": [
      "Setup complete.\n"
     ]
    }
   ],
   "source": [
    "# SETUP. You don't need to worry for now about what this code does or how it works.\n",
    "from learntools.core import binder; binder.bind(globals())\n",
    "from learntools.python.ex2 import *\n",
    "print('Setup complete.')"
   ]
  },
  {
   "cell_type": "markdown",
   "id": "cef3ec7c",
   "metadata": {
    "papermill": {
     "duration": 0.0057,
     "end_time": "2023-07-04T13:38:13.586211",
     "exception": false,
     "start_time": "2023-07-04T13:38:13.580511",
     "status": "completed"
    },
    "tags": []
   },
   "source": [
    "# 1.\n",
    "\n",
    "Complete the body of the following function according to its docstring.\n",
    "\n",
    "HINT: Python has a built-in function `round`."
   ]
  },
  {
   "cell_type": "code",
   "execution_count": 2,
   "id": "8c599e5e",
   "metadata": {
    "execution": {
     "iopub.execute_input": "2023-07-04T13:38:13.600261Z",
     "iopub.status.busy": "2023-07-04T13:38:13.599467Z",
     "iopub.status.idle": "2023-07-04T13:38:13.611177Z",
     "shell.execute_reply": "2023-07-04T13:38:13.610131Z"
    },
    "papermill": {
     "duration": 0.021334,
     "end_time": "2023-07-04T13:38:13.613452",
     "exception": false,
     "start_time": "2023-07-04T13:38:13.592118",
     "status": "completed"
    },
    "tags": []
   },
   "outputs": [
    {
     "data": {
      "application/javascript": [
       "parent.postMessage({\"jupyterEvent\": \"custom.exercise_interaction\", \"data\": {\"outcomeType\": 1, \"valueTowardsCompletion\": 0.16666666666666666, \"interactionType\": 1, \"questionType\": 2, \"questionId\": \"1_RoundFunctionProblem\", \"learnToolsVersion\": \"0.3.4\", \"failureMessage\": \"\", \"exceptionClass\": \"\", \"trace\": \"\"}}, \"*\")"
      ],
      "text/plain": [
       "<IPython.core.display.Javascript object>"
      ]
     },
     "metadata": {},
     "output_type": "display_data"
    },
    {
     "data": {
      "text/markdown": [
       "<span style=\"color:#33cc33\">Correct</span>"
      ],
      "text/plain": [
       "Correct"
      ]
     },
     "metadata": {},
     "output_type": "display_data"
    }
   ],
   "source": [
    "def round_to_two_places(num):\n",
    "    \"\"\"Return the given number rounded to two decimal places. \n",
    "    \n",
    "    >>> round_to_two_places(3.14159)\n",
    "    3.14\n",
    "    \"\"\"\n",
    "    # só usar a function round, passando como parâmetros o meu número e em seguida o número de casas decimais que quero\n",
    "    # isso logo no return\n",
    "    # e fim, querida\n",
    "    return round(num, 2)\n",
    "     \n",
    "\n",
    "# Check your answer\n",
    "q1.check()"
   ]
  },
  {
   "cell_type": "code",
   "execution_count": 3,
   "id": "dfef9d46",
   "metadata": {
    "execution": {
     "iopub.execute_input": "2023-07-04T13:38:13.628297Z",
     "iopub.status.busy": "2023-07-04T13:38:13.627529Z",
     "iopub.status.idle": "2023-07-04T13:38:13.640994Z",
     "shell.execute_reply": "2023-07-04T13:38:13.640040Z"
    },
    "papermill": {
     "duration": 0.023495,
     "end_time": "2023-07-04T13:38:13.643172",
     "exception": false,
     "start_time": "2023-07-04T13:38:13.619677",
     "status": "completed"
    },
    "tags": []
   },
   "outputs": [
    {
     "data": {
      "application/javascript": [
       "parent.postMessage({\"jupyterEvent\": \"custom.exercise_interaction\", \"data\": {\"interactionType\": 2, \"questionType\": 2, \"questionId\": \"1_RoundFunctionProblem\", \"learnToolsVersion\": \"0.3.4\", \"valueTowardsCompletion\": 0.0, \"failureMessage\": \"\", \"exceptionClass\": \"\", \"trace\": \"\", \"outcomeType\": 4}}, \"*\")"
      ],
      "text/plain": [
       "<IPython.core.display.Javascript object>"
      ]
     },
     "metadata": {},
     "output_type": "display_data"
    },
    {
     "data": {
      "text/markdown": [
       "<span style=\"color:#3366cc\">Hint:</span> Run `help(round)` in the console (or in a code cell) to learn more about the round function. You'll need to use the function's optional second argument."
      ],
      "text/plain": [
       "Hint: Run `help(round)` in the console (or in a code cell) to learn more about the round function. You'll need to use the function's optional second argument."
      ]
     },
     "metadata": {},
     "output_type": "display_data"
    },
    {
     "data": {
      "application/javascript": [
       "parent.postMessage({\"jupyterEvent\": \"custom.exercise_interaction\", \"data\": {\"interactionType\": 3, \"questionType\": 2, \"questionId\": \"1_RoundFunctionProblem\", \"learnToolsVersion\": \"0.3.4\", \"valueTowardsCompletion\": 0.0, \"failureMessage\": \"\", \"exceptionClass\": \"\", \"trace\": \"\", \"outcomeType\": 4}}, \"*\")"
      ],
      "text/plain": [
       "<IPython.core.display.Javascript object>"
      ]
     },
     "metadata": {},
     "output_type": "display_data"
    },
    {
     "data": {
      "text/markdown": [
       "<span style=\"color:#33cc99\">Solution:</span> \n",
       "```python\n",
       "return round(num, 2)\n",
       "```"
      ],
      "text/plain": [
       "Solution: \n",
       "```python\n",
       "return round(num, 2)\n",
       "```"
      ]
     },
     "metadata": {},
     "output_type": "display_data"
    }
   ],
   "source": [
    "# Uncomment the following for a hint\n",
    "q1.hint()\n",
    "# Or uncomment the following to peek at the solution\n",
    "q1.solution()"
   ]
  },
  {
   "cell_type": "markdown",
   "id": "9816aacb",
   "metadata": {
    "papermill": {
     "duration": 0.006529,
     "end_time": "2023-07-04T13:38:13.658176",
     "exception": false,
     "start_time": "2023-07-04T13:38:13.651647",
     "status": "completed"
    },
    "tags": []
   },
   "source": [
    "# 2.\n",
    "The help for `round` says that `ndigits` (the second argument) may be negative.\n",
    "What do you think will happen when it is? Try some examples in the following cell."
   ]
  },
  {
   "cell_type": "code",
   "execution_count": 4,
   "id": "1c003fba",
   "metadata": {
    "execution": {
     "iopub.execute_input": "2023-07-04T13:38:13.673997Z",
     "iopub.status.busy": "2023-07-04T13:38:13.673255Z",
     "iopub.status.idle": "2023-07-04T13:38:13.680642Z",
     "shell.execute_reply": "2023-07-04T13:38:13.679480Z"
    },
    "papermill": {
     "duration": 0.017883,
     "end_time": "2023-07-04T13:38:13.682828",
     "exception": false,
     "start_time": "2023-07-04T13:38:13.664945",
     "status": "completed"
    },
    "tags": []
   },
   "outputs": [
    {
     "name": "stdout",
     "output_type": "stream",
     "text": [
      "0.0\n",
      "0.0\n",
      "314200\n",
      "0\n",
      "0.0\n",
      "300.0\n"
     ]
    }
   ],
   "source": [
    "print(round(3.14159, -2))\n",
    "print(round(3.14159, -10))\n",
    "print(round(314159, -2))\n",
    "print(round(31, -5))\n",
    "print(round(3.14159, -1))\n",
    "print(round(314.159, -2))"
   ]
  },
  {
   "cell_type": "markdown",
   "id": "4972d106",
   "metadata": {
    "papermill": {
     "duration": 0.006527,
     "end_time": "2023-07-04T13:38:13.696220",
     "exception": false,
     "start_time": "2023-07-04T13:38:13.689693",
     "status": "completed"
    },
    "tags": []
   },
   "source": [
    "Can you think of a case where this would be useful?  Once you're ready, run the code cell below to see the answer and to receive credit for completing the problem."
   ]
  },
  {
   "cell_type": "code",
   "execution_count": 5,
   "id": "7b9ed81d",
   "metadata": {
    "execution": {
     "iopub.execute_input": "2023-07-04T13:38:13.712000Z",
     "iopub.status.busy": "2023-07-04T13:38:13.711597Z",
     "iopub.status.idle": "2023-07-04T13:38:13.720388Z",
     "shell.execute_reply": "2023-07-04T13:38:13.719334Z"
    },
    "papermill": {
     "duration": 0.019125,
     "end_time": "2023-07-04T13:38:13.722417",
     "exception": false,
     "start_time": "2023-07-04T13:38:13.703292",
     "status": "completed"
    },
    "tags": []
   },
   "outputs": [
    {
     "data": {
      "application/javascript": [
       "parent.postMessage({\"jupyterEvent\": \"custom.exercise_interaction\", \"data\": {\"interactionType\": 3, \"questionType\": 4, \"questionId\": \"2_RoundNdigitsProblem\", \"learnToolsVersion\": \"0.3.4\", \"valueTowardsCompletion\": 0.0, \"failureMessage\": \"\", \"exceptionClass\": \"\", \"trace\": \"\", \"outcomeType\": 4}}, \"*\")"
      ],
      "text/plain": [
       "<IPython.core.display.Javascript object>"
      ]
     },
     "metadata": {},
     "output_type": "display_data"
    },
    {
     "data": {
      "text/markdown": [
       "<span style=\"color:#33cc99\">Solution:</span> As you've seen, `ndigits=-1` rounds to the nearest 10, `ndigits=-2` rounds to the nearest 100 and so on. Where might this be useful? Suppose we're dealing with large numbers:\n",
       "\n",
       "> The area of Finland is 338,424 km²  \n",
       "> The area of Greenland is 2,166,086 km²\n",
       "\n",
       "We probably don't care whether it's really 338,424, or 338,425, or 338,177. All those digits of accuracy are just distracting. We can chop them off by calling `round()` with `ndigits=-3`:\n",
       "\n",
       "> The area of Finland is 338,000 km²  \n",
       "> The area of Greenland is 2,166,000 km²\n",
       "\n",
       "(We'll talk about how we would get the commas later when we talk about string formatting :))\n"
      ],
      "text/plain": [
       "Solution: As you've seen, `ndigits=-1` rounds to the nearest 10, `ndigits=-2` rounds to the nearest 100 and so on. Where might this be useful? Suppose we're dealing with large numbers:\n",
       "\n",
       "> The area of Finland is 338,424 km²  \n",
       "> The area of Greenland is 2,166,086 km²\n",
       "\n",
       "We probably don't care whether it's really 338,424, or 338,425, or 338,177. All those digits of accuracy are just distracting. We can chop them off by calling `round()` with `ndigits=-3`:\n",
       "\n",
       "> The area of Finland is 338,000 km²  \n",
       "> The area of Greenland is 2,166,000 km²\n",
       "\n",
       "(We'll talk about how we would get the commas later when we talk about string formatting :))"
      ]
     },
     "metadata": {},
     "output_type": "display_data"
    }
   ],
   "source": [
    "# Check your answer (Run this code cell to receive credit!)\n",
    "q2.solution()"
   ]
  },
  {
   "cell_type": "markdown",
   "id": "0278a018",
   "metadata": {
    "papermill": {
     "duration": 0.007109,
     "end_time": "2023-07-04T13:38:13.736715",
     "exception": false,
     "start_time": "2023-07-04T13:38:13.729606",
     "status": "completed"
    },
    "tags": []
   },
   "source": [
    "# 3.\n",
    "\n",
    "In the previous exercise, the candy-sharing friends Alice, Bob and Carol tried to split candies evenly. For the sake of their friendship, any candies left over would be smashed. For example, if they collectively bring home 91 candies, they'll take 30 each and smash 1.\n",
    "\n",
    "Below is a simple function that will calculate the number of candies to smash for *any* number of total candies.\n",
    "\n",
    "Modify it so that it optionally takes a second argument representing the number of friends the candies are being split between. If no second argument is provided, it should assume 3 friends, as before.\n",
    "\n",
    "Update the docstring to reflect this new behaviour."
   ]
  },
  {
   "cell_type": "code",
   "execution_count": 6,
   "id": "357ebbfe",
   "metadata": {
    "execution": {
     "iopub.execute_input": "2023-07-04T13:38:13.753020Z",
     "iopub.status.busy": "2023-07-04T13:38:13.752331Z",
     "iopub.status.idle": "2023-07-04T13:38:13.760835Z",
     "shell.execute_reply": "2023-07-04T13:38:13.760113Z"
    },
    "papermill": {
     "duration": 0.019286,
     "end_time": "2023-07-04T13:38:13.763128",
     "exception": false,
     "start_time": "2023-07-04T13:38:13.743842",
     "status": "completed"
    },
    "tags": []
   },
   "outputs": [
    {
     "data": {
      "application/javascript": [
       "parent.postMessage({\"jupyterEvent\": \"custom.exercise_interaction\", \"data\": {\"outcomeType\": 2, \"failureMessage\": \"`to_smash` should be callable with two arguments (e.g. `to_smash(10, 2)`\", \"interactionType\": 1, \"questionType\": 2, \"questionId\": \"3_CandySmashingFunctionProblem\", \"learnToolsVersion\": \"0.3.4\", \"valueTowardsCompletion\": 0.0, \"exceptionClass\": \"\", \"trace\": \"\"}}, \"*\")"
      ],
      "text/plain": [
       "<IPython.core.display.Javascript object>"
      ]
     },
     "metadata": {},
     "output_type": "display_data"
    },
    {
     "data": {
      "text/markdown": [
       "<span style=\"color:#cc3333\">Incorrect:</span> `to_smash` should be callable with two arguments (e.g. `to_smash(10, 2)`"
      ],
      "text/plain": [
       "Incorrect: `to_smash` should be callable with two arguments (e.g. `to_smash(10, 2)`"
      ]
     },
     "metadata": {},
     "output_type": "display_data"
    }
   ],
   "source": [
    "def to_smash(total_candies):\n",
    "    \"\"\"Return the number of leftover candies that must be smashed after distributing\n",
    "    the given number of candies evenly between 3 friends.\n",
    "    \n",
    "    >>> to_smash(91)\n",
    "    1\n",
    "    \"\"\"\n",
    "    return total_candies % 3\n",
    "\n",
    "# Check your answer\n",
    "q3.check()"
   ]
  },
  {
   "cell_type": "code",
   "execution_count": 7,
   "id": "b641acf8",
   "metadata": {
    "execution": {
     "iopub.execute_input": "2023-07-04T13:38:13.780824Z",
     "iopub.status.busy": "2023-07-04T13:38:13.780143Z",
     "iopub.status.idle": "2023-07-04T13:38:13.784004Z",
     "shell.execute_reply": "2023-07-04T13:38:13.783268Z"
    },
    "papermill": {
     "duration": 0.014802,
     "end_time": "2023-07-04T13:38:13.786104",
     "exception": false,
     "start_time": "2023-07-04T13:38:13.771302",
     "status": "completed"
    },
    "tags": []
   },
   "outputs": [],
   "source": [
    "#q3.hint()"
   ]
  },
  {
   "cell_type": "code",
   "execution_count": 8,
   "id": "d0603d9e",
   "metadata": {
    "execution": {
     "iopub.execute_input": "2023-07-04T13:38:13.803561Z",
     "iopub.status.busy": "2023-07-04T13:38:13.802860Z",
     "iopub.status.idle": "2023-07-04T13:38:13.806589Z",
     "shell.execute_reply": "2023-07-04T13:38:13.805892Z"
    },
    "papermill": {
     "duration": 0.014797,
     "end_time": "2023-07-04T13:38:13.808608",
     "exception": false,
     "start_time": "2023-07-04T13:38:13.793811",
     "status": "completed"
    },
    "tags": []
   },
   "outputs": [],
   "source": [
    "#q3.solution()"
   ]
  },
  {
   "cell_type": "markdown",
   "id": "356f02fd",
   "metadata": {
    "papermill": {
     "duration": 0.007606,
     "end_time": "2023-07-04T13:38:13.824045",
     "exception": false,
     "start_time": "2023-07-04T13:38:13.816439",
     "status": "completed"
    },
    "tags": []
   },
   "source": [
    "# 4. (Optional)\n",
    "\n",
    "It may not be fun, but reading and understanding error messages will be an important part of your Python career.\n",
    "\n",
    "Each code cell below contains some commented buggy code. For each cell...\n",
    "\n",
    "1. Read the code and predict what you think will happen when it's run.\n",
    "2. Then uncomment the code and run it to see what happens. (**Tip**: In the kernel editor, you can highlight several lines and press `ctrl`+`/` to toggle commenting.)\n",
    "3. Fix the code (so that it accomplishes its intended purpose without throwing an exception)\n",
    "\n",
    "<!-- TODO: should this be autochecked? Delta is probably pretty small. -->"
   ]
  },
  {
   "cell_type": "code",
   "execution_count": 9,
   "id": "2f173398",
   "metadata": {
    "execution": {
     "iopub.execute_input": "2023-07-04T13:38:13.842024Z",
     "iopub.status.busy": "2023-07-04T13:38:13.841308Z",
     "iopub.status.idle": "2023-07-04T13:38:13.845322Z",
     "shell.execute_reply": "2023-07-04T13:38:13.844524Z"
    },
    "papermill": {
     "duration": 0.015234,
     "end_time": "2023-07-04T13:38:13.847352",
     "exception": false,
     "start_time": "2023-07-04T13:38:13.832118",
     "status": "completed"
    },
    "tags": []
   },
   "outputs": [],
   "source": [
    "# ruound_to_two_places(9.9999)"
   ]
  },
  {
   "cell_type": "code",
   "execution_count": 10,
   "id": "b04ebb0c",
   "metadata": {
    "execution": {
     "iopub.execute_input": "2023-07-04T13:38:13.864728Z",
     "iopub.status.busy": "2023-07-04T13:38:13.864348Z",
     "iopub.status.idle": "2023-07-04T13:38:13.868528Z",
     "shell.execute_reply": "2023-07-04T13:38:13.867527Z"
    },
    "papermill": {
     "duration": 0.015521,
     "end_time": "2023-07-04T13:38:13.870652",
     "exception": false,
     "start_time": "2023-07-04T13:38:13.855131",
     "status": "completed"
    },
    "tags": []
   },
   "outputs": [],
   "source": [
    "# x = -10\n",
    "# y = 5\n",
    "# # Which of the two variables above has the smallest absolute value?\n",
    "# smallest_abs = min(abs(x, y))"
   ]
  },
  {
   "cell_type": "code",
   "execution_count": 11,
   "id": "fca080fb",
   "metadata": {
    "execution": {
     "iopub.execute_input": "2023-07-04T13:38:13.888340Z",
     "iopub.status.busy": "2023-07-04T13:38:13.887620Z",
     "iopub.status.idle": "2023-07-04T13:38:13.892178Z",
     "shell.execute_reply": "2023-07-04T13:38:13.891213Z"
    },
    "papermill": {
     "duration": 0.015725,
     "end_time": "2023-07-04T13:38:13.894378",
     "exception": false,
     "start_time": "2023-07-04T13:38:13.878653",
     "status": "completed"
    },
    "tags": []
   },
   "outputs": [],
   "source": [
    "# def f(x):\n",
    "#     y = abs(x)\n",
    "# return y\n",
    "\n",
    "# print(f(5))"
   ]
  },
  {
   "cell_type": "markdown",
   "id": "e0ae469f",
   "metadata": {
    "papermill": {
     "duration": 0.007687,
     "end_time": "2023-07-04T13:38:13.910083",
     "exception": false,
     "start_time": "2023-07-04T13:38:13.902396",
     "status": "completed"
    },
    "tags": []
   },
   "source": [
    "# Keep Going\n",
    "\n",
    "Nice job with the code. Next up, you'll learn about *conditionals*, which you'll need to **[write interesting programs](https://www.kaggle.com/colinmorris/booleans-and-conditionals)**. "
   ]
  },
  {
   "cell_type": "markdown",
   "id": "fa631a53",
   "metadata": {
    "papermill": {
     "duration": 0.007801,
     "end_time": "2023-07-04T13:38:13.925788",
     "exception": false,
     "start_time": "2023-07-04T13:38:13.917987",
     "status": "completed"
    },
    "tags": []
   },
   "source": [
    "---\n",
    "\n",
    "\n",
    "\n",
    "\n",
    "*Have questions or comments? Visit the [course discussion forum](https://www.kaggle.com/learn/python/discussion) to chat with other learners.*"
   ]
  }
 ],
 "metadata": {
  "kernelspec": {
   "display_name": "Python 3",
   "language": "python",
   "name": "python3"
  },
  "language_info": {
   "codemirror_mode": {
    "name": "ipython",
    "version": 3
   },
   "file_extension": ".py",
   "mimetype": "text/x-python",
   "name": "python",
   "nbconvert_exporter": "python",
   "pygments_lexer": "ipython3",
   "version": "3.10.10"
  },
  "papermill": {
   "default_parameters": {},
   "duration": 12.743904,
   "end_time": "2023-07-04T13:38:14.757249",
   "environment_variables": {},
   "exception": null,
   "input_path": "__notebook__.ipynb",
   "output_path": "__notebook__.ipynb",
   "parameters": {},
   "start_time": "2023-07-04T13:38:02.013345",
   "version": "2.4.0"
  }
 },
 "nbformat": 4,
 "nbformat_minor": 5
}
