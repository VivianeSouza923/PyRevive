{
 "cells": [
  {
   "cell_type": "markdown",
   "id": "5bb00682",
   "metadata": {
    "papermill": {
     "duration": 0.007406,
     "end_time": "2023-07-10T23:43:47.324137",
     "exception": false,
     "start_time": "2023-07-10T23:43:47.316731",
     "status": "completed"
    },
    "tags": []
   },
   "source": [
    "**This notebook is an exercise in the [Python](https://www.kaggle.com/learn/python) course.  You can reference the tutorial at [this link](https://www.kaggle.com/colinmorris/functions-and-getting-help).**\n",
    "\n",
    "---\n"
   ]
  },
  {
   "cell_type": "markdown",
   "id": "41441b7d",
   "metadata": {
    "papermill": {
     "duration": 0.006443,
     "end_time": "2023-07-10T23:43:47.337605",
     "exception": false,
     "start_time": "2023-07-10T23:43:47.331162",
     "status": "completed"
    },
    "tags": []
   },
   "source": [
    "Functions are powerful. Try writing some yourself.\n",
    "\n",
    "As before, don't forget to run the setup code below before jumping into question 1."
   ]
  },
  {
   "cell_type": "code",
   "execution_count": 1,
   "id": "babb8fb5",
   "metadata": {
    "_kg_hide-input": true,
    "_kg_hide-output": true,
    "execution": {
     "iopub.execute_input": "2023-07-10T23:43:47.353611Z",
     "iopub.status.busy": "2023-07-10T23:43:47.353142Z",
     "iopub.status.idle": "2023-07-10T23:43:47.406884Z",
     "shell.execute_reply": "2023-07-10T23:43:47.405643Z"
    },
    "papermill": {
     "duration": 0.065357,
     "end_time": "2023-07-10T23:43:47.409810",
     "exception": false,
     "start_time": "2023-07-10T23:43:47.344453",
     "status": "completed"
    },
    "tags": []
   },
   "outputs": [
    {
     "name": "stdout",
     "output_type": "stream",
     "text": [
      "Setup complete.\n"
     ]
    }
   ],
   "source": [
    "# SETUP. You don't need to worry for now about what this code does or how it works.\n",
    "from learntools.core import binder; binder.bind(globals())\n",
    "from learntools.python.ex2 import *\n",
    "print('Setup complete.')"
   ]
  },
  {
   "cell_type": "markdown",
   "id": "41f5c651",
   "metadata": {
    "papermill": {
     "duration": 0.00634,
     "end_time": "2023-07-10T23:43:47.423086",
     "exception": false,
     "start_time": "2023-07-10T23:43:47.416746",
     "status": "completed"
    },
    "tags": []
   },
   "source": [
    "# 1.\n",
    "\n",
    "Complete the body of the following function according to its docstring.\n",
    "\n",
    "HINT: Python has a built-in function `round`."
   ]
  },
  {
   "cell_type": "code",
   "execution_count": 2,
   "id": "d8bc9ec1",
   "metadata": {
    "execution": {
     "iopub.execute_input": "2023-07-10T23:43:47.438120Z",
     "iopub.status.busy": "2023-07-10T23:43:47.437713Z",
     "iopub.status.idle": "2023-07-10T23:43:47.449163Z",
     "shell.execute_reply": "2023-07-10T23:43:47.448041Z"
    },
    "papermill": {
     "duration": 0.021946,
     "end_time": "2023-07-10T23:43:47.451651",
     "exception": false,
     "start_time": "2023-07-10T23:43:47.429705",
     "status": "completed"
    },
    "tags": []
   },
   "outputs": [
    {
     "data": {
      "application/javascript": [
       "parent.postMessage({\"jupyterEvent\": \"custom.exercise_interaction\", \"data\": {\"outcomeType\": 1, \"valueTowardsCompletion\": 0.16666666666666666, \"interactionType\": 1, \"questionType\": 2, \"questionId\": \"1_RoundFunctionProblem\", \"learnToolsVersion\": \"0.3.4\", \"failureMessage\": \"\", \"exceptionClass\": \"\", \"trace\": \"\"}}, \"*\")"
      ],
      "text/plain": [
       "<IPython.core.display.Javascript object>"
      ]
     },
     "metadata": {},
     "output_type": "display_data"
    },
    {
     "data": {
      "text/markdown": [
       "<span style=\"color:#33cc33\">Correct</span>"
      ],
      "text/plain": [
       "Correct"
      ]
     },
     "metadata": {},
     "output_type": "display_data"
    }
   ],
   "source": [
    "def round_to_two_places(num):\n",
    "    \"\"\"Return the given number rounded to two decimal places. \n",
    "    \n",
    "    >>> round_to_two_places(3.14159)\n",
    "    3.14\n",
    "    \"\"\"\n",
    "    # só usar a function round, passando como parâmetros o meu número e em seguida o número de casas decimais que quero\n",
    "    # isso logo no return\n",
    "    # e fim, querida\n",
    "    return round(num, 2)\n",
    "     \n",
    "\n",
    "# Check your answer\n",
    "q1.check()"
   ]
  },
  {
   "cell_type": "code",
   "execution_count": 3,
   "id": "0509624a",
   "metadata": {
    "execution": {
     "iopub.execute_input": "2023-07-10T23:43:47.468051Z",
     "iopub.status.busy": "2023-07-10T23:43:47.467595Z",
     "iopub.status.idle": "2023-07-10T23:43:47.482335Z",
     "shell.execute_reply": "2023-07-10T23:43:47.481018Z"
    },
    "papermill": {
     "duration": 0.02622,
     "end_time": "2023-07-10T23:43:47.484793",
     "exception": false,
     "start_time": "2023-07-10T23:43:47.458573",
     "status": "completed"
    },
    "tags": []
   },
   "outputs": [
    {
     "data": {
      "application/javascript": [
       "parent.postMessage({\"jupyterEvent\": \"custom.exercise_interaction\", \"data\": {\"interactionType\": 2, \"questionType\": 2, \"questionId\": \"1_RoundFunctionProblem\", \"learnToolsVersion\": \"0.3.4\", \"valueTowardsCompletion\": 0.0, \"failureMessage\": \"\", \"exceptionClass\": \"\", \"trace\": \"\", \"outcomeType\": 4}}, \"*\")"
      ],
      "text/plain": [
       "<IPython.core.display.Javascript object>"
      ]
     },
     "metadata": {},
     "output_type": "display_data"
    },
    {
     "data": {
      "text/markdown": [
       "<span style=\"color:#3366cc\">Hint:</span> Run `help(round)` in the console (or in a code cell) to learn more about the round function. You'll need to use the function's optional second argument."
      ],
      "text/plain": [
       "Hint: Run `help(round)` in the console (or in a code cell) to learn more about the round function. You'll need to use the function's optional second argument."
      ]
     },
     "metadata": {},
     "output_type": "display_data"
    },
    {
     "data": {
      "application/javascript": [
       "parent.postMessage({\"jupyterEvent\": \"custom.exercise_interaction\", \"data\": {\"interactionType\": 3, \"questionType\": 2, \"questionId\": \"1_RoundFunctionProblem\", \"learnToolsVersion\": \"0.3.4\", \"valueTowardsCompletion\": 0.0, \"failureMessage\": \"\", \"exceptionClass\": \"\", \"trace\": \"\", \"outcomeType\": 4}}, \"*\")"
      ],
      "text/plain": [
       "<IPython.core.display.Javascript object>"
      ]
     },
     "metadata": {},
     "output_type": "display_data"
    },
    {
     "data": {
      "text/markdown": [
       "<span style=\"color:#33cc99\">Solution:</span> \n",
       "```python\n",
       "return round(num, 2)\n",
       "```"
      ],
      "text/plain": [
       "Solution: \n",
       "```python\n",
       "return round(num, 2)\n",
       "```"
      ]
     },
     "metadata": {},
     "output_type": "display_data"
    }
   ],
   "source": [
    "# Uncomment the following for a hint\n",
    "q1.hint()\n",
    "# Or uncomment the following to peek at the solution\n",
    "q1.solution()"
   ]
  },
  {
   "cell_type": "markdown",
   "id": "020836b7",
   "metadata": {
    "papermill": {
     "duration": 0.007141,
     "end_time": "2023-07-10T23:43:47.499928",
     "exception": false,
     "start_time": "2023-07-10T23:43:47.492787",
     "status": "completed"
    },
    "tags": []
   },
   "source": [
    "# 2.\n",
    "The help for `round` says that `ndigits` (the second argument) may be negative.\n",
    "What do you think will happen when it is? Try some examples in the following cell."
   ]
  },
  {
   "cell_type": "code",
   "execution_count": 4,
   "id": "22d12447",
   "metadata": {
    "execution": {
     "iopub.execute_input": "2023-07-10T23:43:47.517024Z",
     "iopub.status.busy": "2023-07-10T23:43:47.516629Z",
     "iopub.status.idle": "2023-07-10T23:43:47.523761Z",
     "shell.execute_reply": "2023-07-10T23:43:47.522563Z"
    },
    "papermill": {
     "duration": 0.01918,
     "end_time": "2023-07-10T23:43:47.526649",
     "exception": false,
     "start_time": "2023-07-10T23:43:47.507469",
     "status": "completed"
    },
    "tags": []
   },
   "outputs": [
    {
     "name": "stdout",
     "output_type": "stream",
     "text": [
      "0.0\n",
      "0.0\n",
      "314200\n",
      "0\n",
      "0.0\n",
      "300.0\n"
     ]
    }
   ],
   "source": [
    "print(round(3.14159, -2))\n",
    "print(round(3.14159, -10))\n",
    "print(round(314159, -2))\n",
    "print(round(31, -5))\n",
    "print(round(3.14159, -1))\n",
    "print(round(314.159, -2))"
   ]
  },
  {
   "cell_type": "markdown",
   "id": "14a93213",
   "metadata": {
    "papermill": {
     "duration": 0.008698,
     "end_time": "2023-07-10T23:43:47.543405",
     "exception": false,
     "start_time": "2023-07-10T23:43:47.534707",
     "status": "completed"
    },
    "tags": []
   },
   "source": [
    "Can you think of a case where this would be useful?  Once you're ready, run the code cell below to see the answer and to receive credit for completing the problem."
   ]
  },
  {
   "cell_type": "code",
   "execution_count": 5,
   "id": "5c9e81c9",
   "metadata": {
    "execution": {
     "iopub.execute_input": "2023-07-10T23:43:47.560975Z",
     "iopub.status.busy": "2023-07-10T23:43:47.560555Z",
     "iopub.status.idle": "2023-07-10T23:43:47.570975Z",
     "shell.execute_reply": "2023-07-10T23:43:47.569343Z"
    },
    "papermill": {
     "duration": 0.02317,
     "end_time": "2023-07-10T23:43:47.574022",
     "exception": false,
     "start_time": "2023-07-10T23:43:47.550852",
     "status": "completed"
    },
    "tags": []
   },
   "outputs": [
    {
     "data": {
      "application/javascript": [
       "parent.postMessage({\"jupyterEvent\": \"custom.exercise_interaction\", \"data\": {\"interactionType\": 3, \"questionType\": 4, \"questionId\": \"2_RoundNdigitsProblem\", \"learnToolsVersion\": \"0.3.4\", \"valueTowardsCompletion\": 0.0, \"failureMessage\": \"\", \"exceptionClass\": \"\", \"trace\": \"\", \"outcomeType\": 4}}, \"*\")"
      ],
      "text/plain": [
       "<IPython.core.display.Javascript object>"
      ]
     },
     "metadata": {},
     "output_type": "display_data"
    },
    {
     "data": {
      "text/markdown": [
       "<span style=\"color:#33cc99\">Solution:</span> As you've seen, `ndigits=-1` rounds to the nearest 10, `ndigits=-2` rounds to the nearest 100 and so on. Where might this be useful? Suppose we're dealing with large numbers:\n",
       "\n",
       "> The area of Finland is 338,424 km²  \n",
       "> The area of Greenland is 2,166,086 km²\n",
       "\n",
       "We probably don't care whether it's really 338,424, or 338,425, or 338,177. All those digits of accuracy are just distracting. We can chop them off by calling `round()` with `ndigits=-3`:\n",
       "\n",
       "> The area of Finland is 338,000 km²  \n",
       "> The area of Greenland is 2,166,000 km²\n",
       "\n",
       "(We'll talk about how we would get the commas later when we talk about string formatting :))\n"
      ],
      "text/plain": [
       "Solution: As you've seen, `ndigits=-1` rounds to the nearest 10, `ndigits=-2` rounds to the nearest 100 and so on. Where might this be useful? Suppose we're dealing with large numbers:\n",
       "\n",
       "> The area of Finland is 338,424 km²  \n",
       "> The area of Greenland is 2,166,086 km²\n",
       "\n",
       "We probably don't care whether it's really 338,424, or 338,425, or 338,177. All those digits of accuracy are just distracting. We can chop them off by calling `round()` with `ndigits=-3`:\n",
       "\n",
       "> The area of Finland is 338,000 km²  \n",
       "> The area of Greenland is 2,166,000 km²\n",
       "\n",
       "(We'll talk about how we would get the commas later when we talk about string formatting :))"
      ]
     },
     "metadata": {},
     "output_type": "display_data"
    }
   ],
   "source": [
    "# Check your answer (Run this code cell to receive credit!)\n",
    "q2.solution()"
   ]
  },
  {
   "cell_type": "markdown",
   "id": "927cc8a4",
   "metadata": {
    "papermill": {
     "duration": 0.00779,
     "end_time": "2023-07-10T23:43:47.589980",
     "exception": false,
     "start_time": "2023-07-10T23:43:47.582190",
     "status": "completed"
    },
    "tags": []
   },
   "source": [
    "# 3.\n",
    "\n",
    "In the previous exercise, the candy-sharing friends Alice, Bob and Carol tried to split candies evenly. For the sake of their friendship, any candies left over would be smashed. For example, if they collectively bring home 91 candies, they'll take 30 each and smash 1.\n",
    "\n",
    "Below is a simple function that will calculate the number of candies to smash for *any* number of total candies.\n",
    "\n",
    "Modify it so that it optionally takes a second argument representing the number of friends the candies are being split between. If no second argument is provided, it should assume 3 friends, as before.\n",
    "\n",
    "Update the docstring to reflect this new behaviour."
   ]
  },
  {
   "cell_type": "code",
   "execution_count": 6,
   "id": "8a180124",
   "metadata": {
    "execution": {
     "iopub.execute_input": "2023-07-10T23:43:47.608225Z",
     "iopub.status.busy": "2023-07-10T23:43:47.607826Z",
     "iopub.status.idle": "2023-07-10T23:43:47.619031Z",
     "shell.execute_reply": "2023-07-10T23:43:47.617242Z"
    },
    "papermill": {
     "duration": 0.024976,
     "end_time": "2023-07-10T23:43:47.623165",
     "exception": false,
     "start_time": "2023-07-10T23:43:47.598189",
     "status": "completed"
    },
    "tags": []
   },
   "outputs": [
    {
     "data": {
      "application/javascript": [
       "parent.postMessage({\"jupyterEvent\": \"custom.exercise_interaction\", \"data\": {\"outcomeType\": 1, \"valueTowardsCompletion\": 0.16666666666666666, \"interactionType\": 1, \"questionType\": 2, \"questionId\": \"3_CandySmashingFunctionProblem\", \"learnToolsVersion\": \"0.3.4\", \"failureMessage\": \"\", \"exceptionClass\": \"\", \"trace\": \"\"}}, \"*\")"
      ],
      "text/plain": [
       "<IPython.core.display.Javascript object>"
      ]
     },
     "metadata": {},
     "output_type": "display_data"
    },
    {
     "data": {
      "text/markdown": [
       "<span style=\"color:#33cc33\">Correct</span>"
      ],
      "text/plain": [
       "Correct"
      ]
     },
     "metadata": {},
     "output_type": "display_data"
    }
   ],
   "source": [
    "def to_smash(total_candies, number_friends=3):\n",
    "    \"\"\"Return the number of leftover candies that must be smashed after distributing\n",
    "    the given number of candies evenly between number_friends friends.\n",
    "    \n",
    "    >>> to_smash(91)\n",
    "    1\n",
    "    \"\"\"\n",
    "\n",
    "    return total_candies % number_friends\n",
    "\n",
    "    print(to_smash(total_candies))\n",
    "\n",
    "# Check your answer\n",
    "q3.check()"
   ]
  },
  {
   "cell_type": "code",
   "execution_count": 7,
   "id": "9eeb9979",
   "metadata": {
    "execution": {
     "iopub.execute_input": "2023-07-10T23:43:47.643132Z",
     "iopub.status.busy": "2023-07-10T23:43:47.642748Z",
     "iopub.status.idle": "2023-07-10T23:43:47.652035Z",
     "shell.execute_reply": "2023-07-10T23:43:47.650701Z"
    },
    "papermill": {
     "duration": 0.021931,
     "end_time": "2023-07-10T23:43:47.654647",
     "exception": false,
     "start_time": "2023-07-10T23:43:47.632716",
     "status": "completed"
    },
    "tags": []
   },
   "outputs": [
    {
     "data": {
      "application/javascript": [
       "parent.postMessage({\"jupyterEvent\": \"custom.exercise_interaction\", \"data\": {\"interactionType\": 2, \"questionType\": 2, \"questionId\": \"3_CandySmashingFunctionProblem\", \"learnToolsVersion\": \"0.3.4\", \"valueTowardsCompletion\": 0.0, \"failureMessage\": \"\", \"exceptionClass\": \"\", \"trace\": \"\", \"outcomeType\": 4}}, \"*\")"
      ],
      "text/plain": [
       "<IPython.core.display.Javascript object>"
      ]
     },
     "metadata": {},
     "output_type": "display_data"
    },
    {
     "data": {
      "text/markdown": [
       "<span style=\"color:#3366cc\">Hint:</span> Refer to the section of the last tutorial notebook where we talked about default arguments"
      ],
      "text/plain": [
       "Hint: Refer to the section of the last tutorial notebook where we talked about default arguments"
      ]
     },
     "metadata": {},
     "output_type": "display_data"
    }
   ],
   "source": [
    "q3.hint()"
   ]
  },
  {
   "cell_type": "code",
   "execution_count": 8,
   "id": "58a36b9b",
   "metadata": {
    "execution": {
     "iopub.execute_input": "2023-07-10T23:43:47.674199Z",
     "iopub.status.busy": "2023-07-10T23:43:47.673811Z",
     "iopub.status.idle": "2023-07-10T23:43:47.683688Z",
     "shell.execute_reply": "2023-07-10T23:43:47.682582Z"
    },
    "papermill": {
     "duration": 0.022474,
     "end_time": "2023-07-10T23:43:47.685964",
     "exception": false,
     "start_time": "2023-07-10T23:43:47.663490",
     "status": "completed"
    },
    "tags": []
   },
   "outputs": [
    {
     "data": {
      "application/javascript": [
       "parent.postMessage({\"jupyterEvent\": \"custom.exercise_interaction\", \"data\": {\"interactionType\": 3, \"questionType\": 2, \"questionId\": \"3_CandySmashingFunctionProblem\", \"learnToolsVersion\": \"0.3.4\", \"valueTowardsCompletion\": 0.0, \"failureMessage\": \"\", \"exceptionClass\": \"\", \"trace\": \"\", \"outcomeType\": 4}}, \"*\")"
      ],
      "text/plain": [
       "<IPython.core.display.Javascript object>"
      ]
     },
     "metadata": {},
     "output_type": "display_data"
    },
    {
     "data": {
      "text/markdown": [
       "<span style=\"color:#33cc99\">Solution:</span> \n",
       "```python\n",
       "def to_smash(total_candies, n_friends=3):\n",
       "    return total_candies % n_friends\n",
       "```"
      ],
      "text/plain": [
       "Solution: \n",
       "```python\n",
       "def to_smash(total_candies, n_friends=3):\n",
       "    return total_candies % n_friends\n",
       "```"
      ]
     },
     "metadata": {},
     "output_type": "display_data"
    }
   ],
   "source": [
    "q3.solution()"
   ]
  },
  {
   "cell_type": "markdown",
   "id": "926baed8",
   "metadata": {
    "papermill": {
     "duration": 0.00883,
     "end_time": "2023-07-10T23:43:47.703850",
     "exception": false,
     "start_time": "2023-07-10T23:43:47.695020",
     "status": "completed"
    },
    "tags": []
   },
   "source": [
    "# 4. (Optional)\n",
    "\n",
    "It may not be fun, but reading and understanding error messages will be an important part of your Python career.\n",
    "\n",
    "Each code cell below contains some commented buggy code. For each cell...\n",
    "\n",
    "1. Read the code and predict what you think will happen when it's run.\n",
    "2. Then uncomment the code and run it to see what happens. (**Tip**: In the kernel editor, you can highlight several lines and press `ctrl`+`/` to toggle commenting.)\n",
    "3. Fix the code (so that it accomplishes its intended purpose without throwing an exception)\n",
    "\n",
    "<!-- TODO: should this be autochecked? Delta is probably pretty small. -->"
   ]
  },
  {
   "cell_type": "code",
   "execution_count": 9,
   "id": "95522ea1",
   "metadata": {
    "execution": {
     "iopub.execute_input": "2023-07-10T23:43:47.723468Z",
     "iopub.status.busy": "2023-07-10T23:43:47.723056Z",
     "iopub.status.idle": "2023-07-10T23:43:47.730787Z",
     "shell.execute_reply": "2023-07-10T23:43:47.729751Z"
    },
    "papermill": {
     "duration": 0.020742,
     "end_time": "2023-07-10T23:43:47.733514",
     "exception": false,
     "start_time": "2023-07-10T23:43:47.712772",
     "status": "completed"
    },
    "tags": []
   },
   "outputs": [
    {
     "data": {
      "text/plain": [
       "9.9999"
      ]
     },
     "execution_count": 9,
     "metadata": {},
     "output_type": "execute_result"
    }
   ],
   "source": [
    "def ruound_to_two_places(number):\n",
    "    return round(number,4)\n",
    "\n",
    "\n",
    "ruound_to_two_places(9.9999)"
   ]
  },
  {
   "cell_type": "code",
   "execution_count": 10,
   "id": "198be5cd",
   "metadata": {
    "execution": {
     "iopub.execute_input": "2023-07-10T23:43:47.754711Z",
     "iopub.status.busy": "2023-07-10T23:43:47.754322Z",
     "iopub.status.idle": "2023-07-10T23:43:47.760105Z",
     "shell.execute_reply": "2023-07-10T23:43:47.758894Z"
    },
    "papermill": {
     "duration": 0.020067,
     "end_time": "2023-07-10T23:43:47.763660",
     "exception": false,
     "start_time": "2023-07-10T23:43:47.743593",
     "status": "completed"
    },
    "tags": []
   },
   "outputs": [
    {
     "name": "stdout",
     "output_type": "stream",
     "text": [
      "5\n"
     ]
    }
   ],
   "source": [
    "x = -10\n",
    "y = 5\n",
    "# Which of the two variables above has the smallest absolute value?\n",
    "smallest_abs = print(min(abs(x), abs(y)))"
   ]
  },
  {
   "cell_type": "code",
   "execution_count": 11,
   "id": "cf5c601a",
   "metadata": {
    "execution": {
     "iopub.execute_input": "2023-07-10T23:43:47.783876Z",
     "iopub.status.busy": "2023-07-10T23:43:47.783450Z",
     "iopub.status.idle": "2023-07-10T23:43:47.789286Z",
     "shell.execute_reply": "2023-07-10T23:43:47.788121Z"
    },
    "papermill": {
     "duration": 0.019306,
     "end_time": "2023-07-10T23:43:47.792283",
     "exception": false,
     "start_time": "2023-07-10T23:43:47.772977",
     "status": "completed"
    },
    "tags": []
   },
   "outputs": [
    {
     "name": "stdout",
     "output_type": "stream",
     "text": [
      "5\n"
     ]
    }
   ],
   "source": [
    "def f(x):\n",
    "    return abs(x)\n",
    "\n",
    "print(f(5))"
   ]
  },
  {
   "cell_type": "markdown",
   "id": "53299e9a",
   "metadata": {
    "papermill": {
     "duration": 0.008978,
     "end_time": "2023-07-10T23:43:47.810562",
     "exception": false,
     "start_time": "2023-07-10T23:43:47.801584",
     "status": "completed"
    },
    "tags": []
   },
   "source": [
    "# Keep Going\n",
    "\n",
    "Nice job with the code. Next up, you'll learn about *conditionals*, which you'll need to **[write interesting programs](https://www.kaggle.com/colinmorris/booleans-and-conditionals)**. "
   ]
  },
  {
   "cell_type": "markdown",
   "id": "8007d759",
   "metadata": {
    "papermill": {
     "duration": 0.00914,
     "end_time": "2023-07-10T23:43:47.828929",
     "exception": false,
     "start_time": "2023-07-10T23:43:47.819789",
     "status": "completed"
    },
    "tags": []
   },
   "source": [
    "---\n",
    "\n",
    "\n",
    "\n",
    "\n",
    "*Have questions or comments? Visit the [course discussion forum](https://www.kaggle.com/learn/python/discussion) to chat with other learners.*"
   ]
  }
 ],
 "metadata": {
  "kernelspec": {
   "display_name": "Python 3",
   "language": "python",
   "name": "python3"
  },
  "language_info": {
   "codemirror_mode": {
    "name": "ipython",
    "version": 3
   },
   "file_extension": ".py",
   "mimetype": "text/x-python",
   "name": "python",
   "nbconvert_exporter": "python",
   "pygments_lexer": "ipython3",
   "version": "3.10.12"
  },
  "papermill": {
   "default_parameters": {},
   "duration": 13.343329,
   "end_time": "2023-07-10T23:43:48.759940",
   "environment_variables": {},
   "exception": null,
   "input_path": "__notebook__.ipynb",
   "output_path": "__notebook__.ipynb",
   "parameters": {},
   "start_time": "2023-07-10T23:43:35.416611",
   "version": "2.4.0"
  }
 },
 "nbformat": 4,
 "nbformat_minor": 5
}
