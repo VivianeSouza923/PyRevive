{
  "cells": [
    {
      "cell_type": "markdown",
      "metadata": {
        "id": "view-in-github",
        "colab_type": "text"
      },
      "source": [
        "<a href=\"https://colab.research.google.com/github/VivianeSouza923/PyRevive/blob/main/pratice_04_loops.ipynb\" target=\"_parent\"><img src=\"https://colab.research.google.com/assets/colab-badge.svg\" alt=\"Open In Colab\"/></a>"
      ]
    },
    {
      "cell_type": "markdown",
      "metadata": {
        "id": "bM8o9DNCmX6e"
      },
      "source": [
        "## **Python Essencial para Data Science**\n",
        "**Prof. Dr. Samuel Martins (@hisamuka @xavecoding)** <br/>\n",
        "xavecoding: https://youtube.com/c/xavecoding <br/><br/>\n",
        "\n",
        "<a rel=\"license\" href=\"http://creativecommons.org/licenses/by-nc-sa/4.0/\"><img alt=\"Creative Commons License\" style=\"border-width:0\" src=\"https://i.creativecommons.org/l/by-nc-sa/4.0/88x31.png\" /></a><br />This work is licensed under a <a rel=\"license\" href=\"http://creativecommons.org/licenses/by-nc-sa/4.0/\">Creative Commons Attribution-NonCommercial-ShareAlike 4.0 International License</a>."
      ]
    },
    {
      "cell_type": "markdown",
      "metadata": {
        "id": "lEwJsZXsmX6f"
      },
      "source": [
        "## Loops\n",
        "Antes de definirmos os *laços de repetição em Python (loops)*, vamos ver como definimos intervalos no Python:"
      ]
    },
    {
      "cell_type": "markdown",
      "metadata": {
        "id": "jmgW07E6mX6g"
      },
      "source": [
        "### Gerando intervalos com `range()`\n",
        "Um dos exemplos mais comuns de loops é iterar para um dado **intervalo de valores**.\n",
        "\n",
        "Suponha que desejamos codificar um loop que itere de 0 até n-1, onde o parâmetro *n* é definido pelo usuários. <br/>\n",
        "Em linguagem C, teríamos algo como:\n",
        "<code>\n",
        "for (int i = 0; i < n; i++) {\n",
        "    ...\n",
        "}\n",
        "</code>\n",
        "    \n",
        "Em *Python*, podemos gerar intervalos de valores muito mais fácil, apenas utilizando o comando `range()`, que possui a assinatura: <br/>\n",
        "`range(start, end, step)`."
      ]
    },
    {
      "cell_type": "markdown",
      "metadata": {
        "id": "9JIy6yEjmX6g"
      },
      "source": [
        "#### Entendendo os índices de um Intervalo\n",
        "Um intervalo em python sempre **inclui** o número passado como **limite inferior** e *exclui* o número do *limite superior* do intervalo.\n",
        "\n",
        "P. ex., o intervalo definido pelos números `10 15` corresponde, na verdade, ao intervalo [10, 15), ou seja, [10, 11, 12, 13, 14]"
      ]
    },
    {
      "cell_type": "markdown",
      "metadata": {
        "id": "FR2CtJuGmX6g"
      },
      "source": [
        "#### Gerando um intervalo de 0..n-1\n",
        "Se passarmos apenas **um valor/parâmetro** para a função `range()`, a mesma retorna um intervalor de 0 até o valor -1."
      ]
    },
    {
      "cell_type": "code",
      "execution_count": 1,
      "metadata": {
        "colab": {
          "base_uri": "https://localhost:8080/"
        },
        "id": "r4KMBOkumX6g",
        "outputId": "d3e400e0-f30b-4618-dec6-ba0057d73c57"
      },
      "outputs": [
        {
          "output_type": "execute_result",
          "data": {
            "text/plain": [
              "range(0, 6)"
            ]
          },
          "metadata": {},
          "execution_count": 1
        }
      ],
      "source": [
        "range(6)"
      ]
    },
    {
      "cell_type": "markdown",
      "metadata": {
        "id": "P9ddYt2OmX6h"
      },
      "source": [
        "Note que o retorno é um `range(0, 6)`. Internamente, este tipo é uma _lista_ contendo todos os números do intervalo. <br/>\n",
        "\n",
        "Para termos acesso a tal lista explicitamente, precisamos converter o range em uma **`list`**:"
      ]
    },
    {
      "cell_type": "code",
      "execution_count": 2,
      "metadata": {
        "colab": {
          "base_uri": "https://localhost:8080/"
        },
        "id": "JiNHFOXimX6h",
        "outputId": "30a67b37-ca0b-4e1d-9845-f1af2ae25f69"
      },
      "outputs": [
        {
          "output_type": "execute_result",
          "data": {
            "text/plain": [
              "[0, 1, 2, 3, 4, 5]"
            ]
          },
          "metadata": {},
          "execution_count": 2
        }
      ],
      "source": [
        "list(range(6))"
      ]
    },
    {
      "cell_type": "markdown",
      "metadata": {
        "id": "ncU-hV77mX6h"
      },
      "source": [
        "#### Gerando um intervalo de Inicio até Fim-1\n",
        "Podemos querer alterar o valor **inicial** do intervalo, que é 0 por padrão. Para isso, devemos passar 2 parâmetros para o `range()`, sendo o primeiro deles o limite inferior (incluso) do intervalo (_lower bound_) e o segundo é o limite superior (excluso) do intevarlo (_upper bound_):"
      ]
    },
    {
      "cell_type": "code",
      "execution_count": 3,
      "metadata": {
        "colab": {
          "base_uri": "https://localhost:8080/"
        },
        "id": "RRCn8kJDmX6h",
        "outputId": "c36685c0-d0d4-41ed-b886-246d4a916737"
      },
      "outputs": [
        {
          "output_type": "execute_result",
          "data": {
            "text/plain": [
              "range(3, 9)"
            ]
          },
          "metadata": {},
          "execution_count": 3
        }
      ],
      "source": [
        "range(3, 9)"
      ]
    },
    {
      "cell_type": "code",
      "execution_count": 4,
      "metadata": {
        "colab": {
          "base_uri": "https://localhost:8080/"
        },
        "id": "fzdVmcYPmX6h",
        "outputId": "aa9ca5fc-6e8d-4f9d-edd6-299dc6771478"
      },
      "outputs": [
        {
          "output_type": "execute_result",
          "data": {
            "text/plain": [
              "[3, 4, 5, 6, 7, 8]"
            ]
          },
          "metadata": {},
          "execution_count": 4
        }
      ],
      "source": [
        "list(range(3,9))"
      ]
    },
    {
      "cell_type": "markdown",
      "metadata": {
        "id": "nendDchumX6i"
      },
      "source": [
        "#### Especificando o passo do intervalo\n",
        "Por padrão, os intervalos fornecem números sequenciais, ou seja, com **passo/incremento** igual a 1. <br/>\n",
        "Podemos alterar tal **passo**. Para isso, basta passarmos um terceiro parâmetro no `range()`"
      ]
    },
    {
      "cell_type": "code",
      "execution_count": 5,
      "metadata": {
        "colab": {
          "base_uri": "https://localhost:8080/"
        },
        "id": "D_XcnCYNmX6i",
        "outputId": "9764b385-b7c1-47ff-c1db-e4a54fe6c469"
      },
      "outputs": [
        {
          "output_type": "execute_result",
          "data": {
            "text/plain": [
              "range(2, 9, 4)"
            ]
          },
          "metadata": {},
          "execution_count": 5
        }
      ],
      "source": [
        "range(2, 9, 4)"
      ]
    },
    {
      "cell_type": "code",
      "execution_count": 6,
      "metadata": {
        "colab": {
          "base_uri": "https://localhost:8080/"
        },
        "id": "m2R-2hoemX6i",
        "outputId": "1fe08a03-2c3d-4e19-d2ae-110072f41f9a"
      },
      "outputs": [
        {
          "output_type": "execute_result",
          "data": {
            "text/plain": [
              "[2, 6]"
            ]
          },
          "metadata": {},
          "execution_count": 6
        }
      ],
      "source": [
        "list(range(2, 9, 4))"
      ]
    },
    {
      "cell_type": "markdown",
      "metadata": {
        "id": "AzXjPqCgmX6i"
      },
      "source": [
        "### `for`\n",
        "O esqueleto de um for-loop é:\n",
        "<code>\n",
        "for i in collection:\n",
        "    Instruction 01\n",
        "    Instruction 02\n",
        "    ...\n",
        "</code><br/>\n",
        "\n",
        "onde _collection_ é uma coleção de valores que será iterado. <br/>\n",
        "No esqueleto acima, a cada iteração, a variável `i` terá um valor da _collection_.\n",
        "\n",
        "A _collection_ pode ser, por exemplo, um `range()` ou uma `list`:"
      ]
    },
    {
      "cell_type": "code",
      "execution_count": 8,
      "metadata": {
        "colab": {
          "base_uri": "https://localhost:8080/"
        },
        "id": "CVSV7-jxmX6i",
        "outputId": "e932b9e7-1d15-40df-e7e5-cef44d1efdb9"
      },
      "outputs": [
        {
          "output_type": "stream",
          "name": "stdout",
          "text": [
            "0\n",
            "1\n",
            "2\n",
            "3\n",
            "4\n",
            "5\n",
            "6\n",
            "7\n",
            "8\n"
          ]
        }
      ],
      "source": [
        "for i in range(9):\n",
        "  print (i)"
      ]
    },
    {
      "cell_type": "code",
      "execution_count": 9,
      "metadata": {
        "colab": {
          "base_uri": "https://localhost:8080/"
        },
        "id": "4Co0M8xNmX6i",
        "outputId": "459b430d-bd11-44ce-95fb-7456fad3dee1"
      },
      "outputs": [
        {
          "output_type": "stream",
          "name": "stdout",
          "text": [
            "i atual eh: 0\n",
            "i atual eh: 1\n",
            "i atual eh: 2\n",
            "i atual eh: 3\n",
            "i atual eh: 4\n",
            "i atual eh: 5\n",
            "i atual eh: 6\n",
            "i atual eh: 7\n",
            "i atual eh: 8\n",
            "i atual eh: 9\n",
            "i atual eh: 10\n",
            "i atual eh: 11\n",
            "i atual eh: 12\n",
            "i atual eh: 13\n"
          ]
        }
      ],
      "source": [
        "for i in range(14):\n",
        "  print(f'i atual eh: {i}')"
      ]
    },
    {
      "cell_type": "code",
      "execution_count": 10,
      "metadata": {
        "colab": {
          "base_uri": "https://localhost:8080/"
        },
        "id": "_h2cLSrDmX6i",
        "outputId": "d16d1f4b-471d-41bd-a18e-8cda7655ec93"
      },
      "outputs": [
        {
          "output_type": "stream",
          "name": "stdout",
          "text": [
            "2\n",
            "3\n",
            "4\n",
            "5\n",
            "6\n"
          ]
        }
      ],
      "source": [
        "for i in range(2, 7):\n",
        "  print (i)"
      ]
    },
    {
      "cell_type": "code",
      "execution_count": 11,
      "metadata": {
        "colab": {
          "base_uri": "https://localhost:8080/"
        },
        "id": "Mw_od8V6mX6i",
        "outputId": "b7422124-9d33-4104-a41a-1c865eb8706f"
      },
      "outputs": [
        {
          "output_type": "stream",
          "name": "stdout",
          "text": [
            "i = 3\n",
            "i = 4\n",
            "i = 5\n",
            "i = 6\n",
            "i = 7\n"
          ]
        }
      ],
      "source": [
        "for i in range(3, 8):\n",
        "  print(f'i = {i}')"
      ]
    },
    {
      "cell_type": "code",
      "source": [
        "for i in range(1, 5, 2):\n",
        "  print(i)"
      ],
      "metadata": {
        "colab": {
          "base_uri": "https://localhost:8080/"
        },
        "id": "QWdI-5dZoGot",
        "outputId": "936371ff-e3b0-4ce0-b0f1-54596c66f3df"
      },
      "execution_count": 12,
      "outputs": [
        {
          "output_type": "stream",
          "name": "stdout",
          "text": [
            "1\n",
            "3\n"
          ]
        }
      ]
    },
    {
      "cell_type": "code",
      "source": [
        "for i in range(3, 65, 7):\n",
        "  print(f'O meu i agora eh: {i}')"
      ],
      "metadata": {
        "colab": {
          "base_uri": "https://localhost:8080/"
        },
        "id": "wjgXNjp_oLxg",
        "outputId": "a0872a7d-d020-47b6-ff93-d4f40689a95d"
      },
      "execution_count": 14,
      "outputs": [
        {
          "output_type": "stream",
          "name": "stdout",
          "text": [
            "O meu i agora eh: 3\n",
            "O meu i agora eh: 10\n",
            "O meu i agora eh: 17\n",
            "O meu i agora eh: 24\n",
            "O meu i agora eh: 31\n",
            "O meu i agora eh: 38\n",
            "O meu i agora eh: 45\n",
            "O meu i agora eh: 52\n",
            "O meu i agora eh: 59\n"
          ]
        }
      ]
    },
    {
      "cell_type": "markdown",
      "metadata": {
        "id": "ZGoOS-BymX6i"
      },
      "source": [
        "### While\n",
        "<code>\n",
        "while condition:\n",
        "    Instruction 01\n",
        "    Instruction 02\n",
        "    ...\n",
        "</code>"
      ]
    },
    {
      "cell_type": "code",
      "execution_count": 15,
      "metadata": {
        "colab": {
          "base_uri": "https://localhost:8080/"
        },
        "id": "tuatOLPlmX6i",
        "outputId": "4b273815-8a6b-4aac-9fd2-4881bcc23ec9"
      },
      "outputs": [
        {
          "output_type": "stream",
          "name": "stdout",
          "text": [
            "0\n",
            "1\n",
            "2\n",
            "3\n",
            "4\n",
            "5\n",
            "6\n",
            "7\n",
            "8\n",
            "9\n",
            "10\n"
          ]
        }
      ],
      "source": [
        "i = 0\n",
        "\n",
        "while i < 11:\n",
        "  print(i)\n",
        "  i += 1"
      ]
    },
    {
      "cell_type": "code",
      "execution_count": 16,
      "metadata": {
        "colab": {
          "base_uri": "https://localhost:8080/"
        },
        "id": "xOtQigDmmX6i",
        "outputId": "30d0a19f-7bb3-4d3a-a553-9cd4cfc18197"
      },
      "outputs": [
        {
          "output_type": "stream",
          "name": "stdout",
          "text": [
            "5\n",
            "4\n",
            "3\n",
            "2\n",
            "1\n",
            "0\n"
          ]
        }
      ],
      "source": [
        "i = 5\n",
        "\n",
        "while i >= 0:\n",
        "  print(i)\n",
        "  i -= 1"
      ]
    },
    {
      "cell_type": "code",
      "source": [
        "i = 0\n",
        "c = 0\n",
        "\n",
        "while i < 3 and c < 6:\n",
        "  print(f'i = {i}')\n",
        "  print(f'i = {c}')\n",
        "\n",
        "  i += 1\n",
        "  c += 1"
      ],
      "metadata": {
        "colab": {
          "base_uri": "https://localhost:8080/"
        },
        "id": "InxeLYBQoosQ",
        "outputId": "91d83c88-f653-401f-a170-bd297226446c"
      },
      "execution_count": 17,
      "outputs": [
        {
          "output_type": "stream",
          "name": "stdout",
          "text": [
            "i = 0\n",
            "i = 0\n",
            "i = 1\n",
            "i = 1\n",
            "i = 2\n",
            "i = 2\n"
          ]
        }
      ]
    },
    {
      "cell_type": "code",
      "source": [
        "i = 6\n",
        "d = 10\n",
        "\n",
        "while i >= 0 or d >= 0:\n",
        "  print(f'i = {i}')\n",
        "  print(f'i = {d}')\n",
        "\n",
        "  i -= 1\n",
        "  d -= 1"
      ],
      "metadata": {
        "colab": {
          "base_uri": "https://localhost:8080/"
        },
        "id": "V4HJEQtLo8kY",
        "outputId": "c5871e64-aa03-4b80-fe1e-b1632b7016a8"
      },
      "execution_count": 18,
      "outputs": [
        {
          "output_type": "stream",
          "name": "stdout",
          "text": [
            "i = 6\n",
            "i = 10\n",
            "i = 5\n",
            "i = 9\n",
            "i = 4\n",
            "i = 8\n",
            "i = 3\n",
            "i = 7\n",
            "i = 2\n",
            "i = 6\n",
            "i = 1\n",
            "i = 5\n",
            "i = 0\n",
            "i = 4\n",
            "i = -1\n",
            "i = 3\n",
            "i = -2\n",
            "i = 2\n",
            "i = -3\n",
            "i = 1\n",
            "i = -4\n",
            "i = 0\n"
          ]
        }
      ]
    }
  ],
  "metadata": {
    "kernelspec": {
      "display_name": "Python 3",
      "language": "python",
      "name": "python3"
    },
    "language_info": {
      "codemirror_mode": {
        "name": "ipython",
        "version": 3
      },
      "file_extension": ".py",
      "mimetype": "text/x-python",
      "name": "python",
      "nbconvert_exporter": "python",
      "pygments_lexer": "ipython3",
      "version": "3.9.0"
    },
    "colab": {
      "provenance": [],
      "include_colab_link": true
    }
  },
  "nbformat": 4,
  "nbformat_minor": 0
}