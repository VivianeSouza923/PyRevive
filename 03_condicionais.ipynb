{
  "cells": [
    {
      "cell_type": "markdown",
      "metadata": {
        "id": "view-in-github",
        "colab_type": "text"
      },
      "source": [
        "<a href=\"https://colab.research.google.com/github/VivianeSouza923/PyRevive/blob/main/03_condicionais.ipynb\" target=\"_parent\"><img src=\"https://colab.research.google.com/assets/colab-badge.svg\" alt=\"Open In Colab\"/></a>"
      ]
    },
    {
      "cell_type": "markdown",
      "metadata": {
        "id": "3psy8O0xzhlq"
      },
      "source": [
        "## **Python Essencial para Data Science**\n",
        "**Prof. Dr. Samuel Martins (@hisamuka @xavecoding)** <br/>\n",
        "xavecoding: https://youtube.com/c/xavecoding <br/><br/>\n",
        "\n",
        "<a rel=\"license\" href=\"http://creativecommons.org/licenses/by-nc-sa/4.0/\"><img alt=\"Creative Commons License\" style=\"border-width:0\" src=\"https://i.creativecommons.org/l/by-nc-sa/4.0/88x31.png\" /></a><br />This work is licensed under a <a rel=\"license\" href=\"http://creativecommons.org/licenses/by-nc-sa/4.0/\">Creative Commons Attribution-NonCommercial-ShareAlike 4.0 International License</a>."
      ]
    },
    {
      "cell_type": "markdown",
      "metadata": {
        "id": "DPI3CQC6zhlr"
      },
      "source": [
        "## Condicionais\n",
        "\n",
        "### Estrutura básica de um IF:\n",
        "<code>\n",
        "if condition 01:\n",
        "    Instruction 01\n",
        "    Instruction 02\n",
        "else:\n",
        "    Instruction 03\n",
        "    Instruction 04\n",
        "<code>"
      ]
    },
    {
      "cell_type": "markdown",
      "metadata": {
        "id": "aBiyR0MHzhls"
      },
      "source": [
        "Note que as **identações** definem o _escopo_ de cada opção resultante do IF.\n",
        "\n",
        "As condições devem resultar um valor boolean (True ou False)."
      ]
    },
    {
      "cell_type": "markdown",
      "metadata": {
        "id": "hH5pcSF-zhls"
      },
      "source": [
        "<code>\n",
        "if condition 01:\n",
        "    Instruction 01\n",
        "    Instruction 02\n",
        "elif (condition 02):\n",
        "    Instruction 03\n",
        "    Instruction 04\n",
        "else:\n",
        "    Instruction 05\n",
        "    Instruction 06\n",
        "<code>"
      ]
    },
    {
      "cell_type": "markdown",
      "metadata": {
        "id": "ATzu7Jpqzhls"
      },
      "source": [
        "### Operadores de Comparação\n",
        "\n",
        "| Operação      | Descrição                           || Operação      | Descrição                           |\n",
        "|---------------|-------------------------------------||---------------|-------------------------------------|\n",
        "| ``a == b``    | ``a`` igual a ``b``                 || ``a != b``    | ``a`` diferente de ``b``            |\n",
        "| ``a < b``     | ``a`` menor do que ``b``            || ``a > b``     | ``a`` maior do que ``b``            |\n",
        "| ``a <= b``    | ``a`` menor do que ou igual a ``b`` || ``a >= b``    | ``a`` maior do que ou igual a ``b`` |"
      ]
    },
    {
      "cell_type": "code",
      "execution_count": 1,
      "metadata": {
        "colab": {
          "base_uri": "https://localhost:8080/"
        },
        "id": "1CjLVlVuzhlt",
        "outputId": "6c3b4359-3e08-4db0-ba1b-3e73cc118b6d"
      },
      "outputs": [
        {
          "output_type": "stream",
          "name": "stdout",
          "text": [
            "Menor de idade\n"
          ]
        }
      ],
      "source": [
        "# criando e inicializado uma variável\n",
        "idade = 16\n",
        "\n",
        "# se essa variável for menor que determinada condição:\n",
        "if idade < 18:\n",
        "    # faça isso\n",
        "    print('Menor de idade')\n",
        "# se não, faça essa outra coisa\n",
        "else:\n",
        "    print('Maior de idade')"
      ]
    },
    {
      "cell_type": "code",
      "execution_count": 2,
      "metadata": {
        "colab": {
          "base_uri": "https://localhost:8080/"
        },
        "id": "GHWuzY9Dzhlu",
        "outputId": "80c73763-35ba-49ae-c9b8-ec7e3e57f7ca"
      },
      "outputs": [
        {
          "output_type": "stream",
          "name": "stdout",
          "text": [
            "Em recuperação\n"
          ]
        }
      ],
      "source": [
        "# reprovado < 4.0\n",
        "# em recuperação: [4.0, 6.0) - [a, b): Inclui a e todos os números entre a e b, excluindo b.\n",
        "# aprovado >= 6.0\n",
        "\n",
        "# criando e inicializando uma variável\n",
        "media_final = 5.0\n",
        "\n",
        "# se essa variável for menor que uma certa condição:\n",
        "if media_final < 4.0:\n",
        "    # eu farei isso\n",
        "    print('Reprovado')\n",
        "# se não, eu vou comparar a uma outra condição e se ela for verdadeira:\n",
        "elif media_final < 6.0:\n",
        "    # farei isso\n",
        "    print('Em recuperação')\n",
        "# caso contrário, se nenhuma das condições anteriores forem verdadeiras:\n",
        "else:\n",
        "    #farei apenas isso\n",
        "    print('Aprovado')"
      ]
    },
    {
      "cell_type": "markdown",
      "metadata": {
        "id": "M-NTzMbhzhlu"
      },
      "source": [
        "Opcionalmente, podemos usar _parênteses_ nas condições."
      ]
    },
    {
      "cell_type": "code",
      "execution_count": 3,
      "metadata": {
        "colab": {
          "base_uri": "https://localhost:8080/"
        },
        "id": "p0vCl41Xzhlu",
        "outputId": "41431e8a-8179-4cc7-cec4-f4c9ac600ac3"
      },
      "outputs": [
        {
          "output_type": "stream",
          "name": "stdout",
          "text": [
            "Em recuperação\n"
          ]
        }
      ],
      "source": [
        "# reprovado < 4.0\n",
        "# em recuperação: [4.0, 6.0)\n",
        "# aprovado >= 6.0\n",
        "\n",
        "media_final = 5.0\n",
        "\n",
        "if (media_final < 4.0):\n",
        "    print('Reprovado')\n",
        "elif (media_final < 6.0):\n",
        "    print('Em recuperação')\n",
        "else:\n",
        "    print('Aprovado')"
      ]
    },
    {
      "cell_type": "markdown",
      "metadata": {
        "id": "NJ7l_Ox2zhlu"
      },
      "source": [
        "### Comparando Booleans"
      ]
    },
    {
      "cell_type": "code",
      "execution_count": 5,
      "metadata": {
        "colab": {
          "base_uri": "https://localhost:8080/"
        },
        "id": "ff43eh5Vzhlv",
        "outputId": "03eef9ae-1adf-486e-f9fb-9b48e918dfcb"
      },
      "outputs": [
        {
          "output_type": "execute_result",
          "data": {
            "text/plain": [
              "(True, False)"
            ]
          },
          "metadata": {},
          "execution_count": 5
        }
      ],
      "source": [
        "# isso vai apenas mostrar na tela esses dois valores (entre parênteses)\n",
        "True, False"
      ]
    },
    {
      "cell_type": "code",
      "execution_count": 6,
      "metadata": {
        "colab": {
          "base_uri": "https://localhost:8080/"
        },
        "id": "idxIiRsTzhlv",
        "outputId": "b0a1f41b-3687-45e7-a899-1c97491db403"
      },
      "outputs": [
        {
          "output_type": "execute_result",
          "data": {
            "text/plain": [
              "bool"
            ]
          },
          "metadata": {},
          "execution_count": 6
        }
      ],
      "source": [
        "# qual o tipo de True? Só usar a função type()\n",
        "type(True)"
      ]
    },
    {
      "cell_type": "code",
      "execution_count": 8,
      "metadata": {
        "colab": {
          "base_uri": "https://localhost:8080/"
        },
        "id": "t0cYImp3zhlv",
        "outputId": "9deb5a48-4778-4600-cfec-f427ca0e26b0"
      },
      "outputs": [
        {
          "output_type": "stream",
          "name": "stdout",
          "text": [
            "Aluno esta matriculado\n"
          ]
        }
      ],
      "source": [
        "# essa variável recebe o valor True, ou seja, ela sempre será sim, 1\n",
        "aluno_esta_matriculado = True\n",
        "\n",
        "# então, se ela é verdade:\n",
        "if aluno_esta_matriculado is True:\n",
        "    # faça isso\n",
        "    print('Aluno esta matriculado')\n",
        "\n",
        "# como ela previamente recebeu o value true, ela vai responder como True mesmo sempre."
      ]
    },
    {
      "cell_type": "code",
      "execution_count": 9,
      "metadata": {
        "colab": {
          "base_uri": "https://localhost:8080/"
        },
        "id": "DnX_Kaanzhlv",
        "outputId": "19b8927b-b391-4493-8f4d-c0cf4d019bf8"
      },
      "outputs": [
        {
          "output_type": "stream",
          "name": "stdout",
          "text": [
            "Aluno esta matriculado\n"
          ]
        }
      ],
      "source": [
        "# como ela tem valor inicial True, ela nem precisa ser seguida de is True\n",
        "if aluno_esta_matriculado:\n",
        "    print('Aluno esta matriculado')"
      ]
    },
    {
      "cell_type": "code",
      "execution_count": 10,
      "metadata": {
        "colab": {
          "base_uri": "https://localhost:8080/"
        },
        "id": "hf89232mzhlv",
        "outputId": "9c0b0489-f6d2-4b43-8cb7-74cf219cabb6"
      },
      "outputs": [
        {
          "output_type": "stream",
          "name": "stdout",
          "text": [
            "Aluno não é um Jedi\n"
          ]
        }
      ],
      "source": [
        "# já nesse caso, estamos fazendo o contrário. Estamos atribuindo false a uma certa variável.\n",
        "aluno_eh_jedi = False\n",
        "\n",
        "# se essa variável for falsa:\n",
        "if aluno_eh_jedi is False:\n",
        "\n",
        "  # faremos isso\n",
        "    print('Aluno não é um Jedi')"
      ]
    },
    {
      "cell_type": "code",
      "execution_count": 11,
      "metadata": {
        "colab": {
          "base_uri": "https://localhost:8080/"
        },
        "id": "3dxbVpuCzhlv",
        "outputId": "4bf6c0f3-3cc4-408c-b032-f33b247860b2"
      },
      "outputs": [
        {
          "output_type": "stream",
          "name": "stdout",
          "text": [
            "Aluno não é um Jedi\n"
          ]
        }
      ],
      "source": [
        "# nem precisamos colocar o is False (já que previamente atribuímos False a essa variável), é só colocar o not na frente da variável e pronto ---> if not nome_Da_variável\n",
        "if not aluno_eh_jedi:\n",
        "    print('Aluno não é um Jedi')"
      ]
    },
    {
      "cell_type": "markdown",
      "metadata": {
        "id": "QXsBGmeOzhlv"
      },
      "source": [
        "### Combinando condições com `and` e`or`"
      ]
    },
    {
      "cell_type": "code",
      "execution_count": 12,
      "metadata": {
        "id": "23tm6dELzhlv"
      },
      "outputs": [],
      "source": [
        "## se vc veio da linguagem C/C++, Java, entre outras, você conhece esta notaçãO\n",
        "# and ==> &&\n",
        "# or ==> ||\n",
        "# not ==> !"
      ]
    },
    {
      "cell_type": "code",
      "execution_count": 13,
      "metadata": {
        "colab": {
          "base_uri": "https://localhost:8080/"
        },
        "id": "YZ2l6nuizhlw",
        "outputId": "ff1bd6f8-d02e-493a-9215-c14f09f1d48b"
      },
      "outputs": [
        {
          "output_type": "execute_result",
          "data": {
            "text/plain": [
              "5.0"
            ]
          },
          "metadata": {},
          "execution_count": 13
        }
      ],
      "source": [
        "\n",
        "media_final"
      ]
    },
    {
      "cell_type": "code",
      "execution_count": 15,
      "metadata": {
        "colab": {
          "base_uri": "https://localhost:8080/"
        },
        "id": "I-JvFKGUzhlw",
        "outputId": "d680a112-13f5-4ac6-def7-5ec6a9d21511"
      },
      "outputs": [
        {
          "output_type": "stream",
          "name": "stdout",
          "text": [
            "Em recuperação\n",
            "Em recuperação\n",
            "Em recuperação\n"
          ]
        }
      ],
      "source": [
        "# se essa variável for maior ou igual a determinada condição E menor que outra condição:\n",
        "if media_final >= 4.0 and media_final < 6.0:\n",
        "  # faça isso\n",
        "    print('Em recuperação')\n",
        "# daí pode colocar parÊnteses\n",
        "if (media_final >= 4.0) and (media_final < 6.0):\n",
        "    print('Em recuperação')\n",
        "\n",
        "# e parênteses em tudo, na condição total e nas condições filhas\n",
        "if ((media_final >= 4.0) and (media_final < 6.0)):\n",
        "    print('Em recuperação')\n",
        "\n",
        "# no final, sai o mesmo resultado"
      ]
    },
    {
      "cell_type": "code",
      "execution_count": 16,
      "metadata": {
        "colab": {
          "base_uri": "https://localhost:8080/"
        },
        "id": "1im8S77Xzhlw",
        "outputId": "4cce6a85-1170-435a-df20-ea39ac2a91b4"
      },
      "outputs": [
        {
          "output_type": "stream",
          "name": "stdout",
          "text": [
            "Não foi para recuperação\n"
          ]
        }
      ],
      "source": [
        "# crio e inicializo uma variável\n",
        "media_final = 3.0\n",
        "\n",
        "# se essa variável for menor que uma certa condição OU maior ou igual a uma outra condição:\n",
        "if media_final < 4.0 or media_final >= 6.0:\n",
        "  # faça isso\n",
        "    print('Não foi para recuperação')"
      ]
    },
    {
      "cell_type": "code",
      "execution_count": 17,
      "metadata": {
        "colab": {
          "base_uri": "https://localhost:8080/"
        },
        "id": "BHnMVnXYzhlw",
        "outputId": "7e16f27e-962c-40cb-c6d3-3ba6157341de"
      },
      "outputs": [
        {
          "output_type": "stream",
          "name": "stdout",
          "text": [
            "Um jedi foi reprovado direto!\n"
          ]
        }
      ],
      "source": [
        "# crio e inicializo uma variável\n",
        "media_final = 3.0\n",
        "# crio e inicializo uma variável\n",
        "aluno_eh_jedi = True\n",
        "\n",
        "# se a variável1 for menor que uma determinada condição E a variável2 for verdadeira:\n",
        "if media_final < 4.0 and aluno_eh_jedi:\n",
        "  # faça isso\n",
        "    print('Um jedi foi reprovado direto!')"
      ]
    },
    {
      "cell_type": "markdown",
      "metadata": {
        "id": "WkUqkbqmzhlw"
      },
      "source": [
        "### Armazenando booleans resultantes de condicionais"
      ]
    },
    {
      "cell_type": "code",
      "execution_count": 18,
      "metadata": {
        "colab": {
          "base_uri": "https://localhost:8080/"
        },
        "id": "5uh5Fhz9zhlw",
        "outputId": "c10814ac-b37d-4e8f-95f5-1d087870de78"
      },
      "outputs": [
        {
          "output_type": "stream",
          "name": "stdout",
          "text": [
            "Foi aprovado? True\n"
          ]
        }
      ],
      "source": [
        "# criando e inicializando uma variável\n",
        "media_final = 7.0\n",
        "\n",
        "# estou criando uma variável e a inicializado com o resultado de uma condição\n",
        "foi_aprovado = media_final >= 6.0\n",
        "# foi_aprovado = (media_final >= 6.0)  # alternativamente, podemos usar parênteses\n",
        "\n",
        "# eai, usa como uma variável para responder alguma coisa porque o resultado será true ou false, né?\n",
        "print(f'Foi aprovado? {foi_aprovado}')"
      ]
    },
    {
      "cell_type": "code",
      "execution_count": 19,
      "metadata": {
        "colab": {
          "base_uri": "https://localhost:8080/"
        },
        "id": "wN6VpQO7zhlw",
        "outputId": "5025035d-f602-4180-d19c-aacfb2304eb9"
      },
      "outputs": [
        {
          "output_type": "stream",
          "name": "stdout",
          "text": [
            "Foi pra recuperação? True\n"
          ]
        }
      ],
      "source": [
        "# criando e inicializando a variável\n",
        "media_final = 5.0\n",
        "\n",
        "# estou criando uma variável e a inicializado com o resultado de uma condição (que pode ser o OR de 2 condições)\n",
        "foi_pra_recuperacao = media_final >= 4.0 or media_final < 6\n",
        "# foi_pra_recuperacao = (media_final >= 4.0) or (media_final < 6)  # alternativamente, podemos usar parênteses\n",
        "\n",
        "# só printar com o resultado da condição armazenada na variável\n",
        "print(f'Foi pra recuperação? {foi_pra_recuperacao}')"
      ]
    },
    {
      "cell_type": "markdown",
      "metadata": {
        "id": "Lj6-IsI4zhlw"
      },
      "source": [
        "### Condicionais em uma única linha"
      ]
    },
    {
      "cell_type": "code",
      "execution_count": 20,
      "metadata": {
        "colab": {
          "base_uri": "https://localhost:8080/"
        },
        "id": "o6ylPfxJzhlw",
        "outputId": "82a69a30-fb37-4286-abb6-3be7d1417b4e"
      },
      "outputs": [
        {
          "output_type": "stream",
          "name": "stdout",
          "text": [
            "status = Reprovado\n"
          ]
        }
      ],
      "source": [
        "# reprovado < 6.0\n",
        "# aprovado >= 6.0\n",
        "\n",
        "# crio e inicializo uma variável\n",
        "media_final = 3.0\n",
        "\n",
        "# essa é a expressão condicional ou operador ternário em Pyhton - valor_se_verdadeiro if condição else valor_se_falso\n",
        "status = 'Reprovado' if media_final < 6.0 else 'Aprovado'\n",
        "\n",
        "## eh o mesmo que este trecho abaixo\n",
        "# if media_final < 6.0:\n",
        "#     status = 'Reprovado'\n",
        "# else:\n",
        "#     status = 'Aprovado'\n",
        "\n",
        "print(f'status = {status}')"
      ]
    }
  ],
  "metadata": {
    "kernelspec": {
      "display_name": "Python 3",
      "language": "python",
      "name": "python3"
    },
    "language_info": {
      "codemirror_mode": {
        "name": "ipython",
        "version": 3
      },
      "file_extension": ".py",
      "mimetype": "text/x-python",
      "name": "python",
      "nbconvert_exporter": "python",
      "pygments_lexer": "ipython3",
      "version": "3.8.5"
    },
    "colab": {
      "provenance": [],
      "include_colab_link": true
    }
  },
  "nbformat": 4,
  "nbformat_minor": 0
}