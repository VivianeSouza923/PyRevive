{
  "cells": [
    {
      "cell_type": "markdown",
      "metadata": {
        "id": "view-in-github",
        "colab_type": "text"
      },
      "source": [
        "<a href=\"https://colab.research.google.com/github/VivianeSouza923/PyRevive/blob/main/03_condicionais.ipynb\" target=\"_parent\"><img src=\"https://colab.research.google.com/assets/colab-badge.svg\" alt=\"Open In Colab\"/></a>"
      ]
    },
    {
      "cell_type": "markdown",
      "metadata": {
        "id": "3zM8hdUBApHM"
      },
      "source": [
        "## **Python Essencial para Data Science**\n",
        "**Prof. Dr. Samuel Martins (@hisamuka @xavecoding)** <br/>\n",
        "xavecoding: https://youtube.com/c/xavecoding <br/><br/>\n",
        "\n",
        "<a rel=\"license\" href=\"http://creativecommons.org/licenses/by-nc-sa/4.0/\"><img alt=\"Creative Commons License\" style=\"border-width:0\" src=\"https://i.creativecommons.org/l/by-nc-sa/4.0/88x31.png\" /></a><br />This work is licensed under a <a rel=\"license\" href=\"http://creativecommons.org/licenses/by-nc-sa/4.0/\">Creative Commons Attribution-NonCommercial-ShareAlike 4.0 International License</a>."
      ]
    },
    {
      "cell_type": "markdown",
      "metadata": {
        "id": "CGjY9AngApHO"
      },
      "source": [
        "## Condicionais\n",
        "\n",
        "### Estrutura básica de um IF:\n",
        "<code>\n",
        "if condition 01:\n",
        "    Instruction 01\n",
        "    Instruction 02\n",
        "elif (condition 02):\n",
        "    Instruction 03\n",
        "    Instruction 04\n",
        "else:\n",
        "    Instruction 05\n",
        "    Instruction 06\n",
        "<code>\n",
        "    \n",
        "Note que as **identações** definem o _escopo_ de cada opção resultante do IF.\n",
        "\n",
        "As condições devem resultar um valor boolean (True ou False)."
      ]
    },
    {
      "cell_type": "markdown",
      "metadata": {
        "id": "kERi-XmTApHO"
      },
      "source": [
        "### Operadores de Comparação\n",
        "\n",
        "| Operação      | Descrição                           || Operação      | Descrição                           |\n",
        "|---------------|-------------------------------------||---------------|-------------------------------------|\n",
        "| ``a == b``    | ``a`` igual a ``b``                 || ``a != b``    | ``a`` diferente de ``b``            |\n",
        "| ``a < b``     | ``a`` menor do que ``b``            || ``a > b``     | ``a`` maior do que ``b``            |\n",
        "| ``a <= b``    | ``a`` menor do que ou igual a ``b`` || ``a >= b``    | ``a`` maior do que ou igual a ``b`` |"
      ]
    },
    {
      "cell_type": "code",
      "execution_count": 2,
      "metadata": {
        "colab": {
          "base_uri": "https://localhost:8080/"
        },
        "id": "5qvednHuApHO",
        "outputId": "6867aa62-a85f-47b0-9f83-58c09ed84cf8"
      },
      "outputs": [
        {
          "output_type": "stream",
          "name": "stdout",
          "text": [
            "Alesi\n"
          ]
        }
      ],
      "source": [
        "idade = 32\n",
        "\n",
        "if idade > 30:\n",
        "  print('Alesi')\n",
        "else:\n",
        "  print('Viviane')"
      ]
    },
    {
      "cell_type": "markdown",
      "metadata": {
        "id": "XKkZZ-p6ApHP"
      },
      "source": [
        "Opcionalmente, podemos usar _parênteses_ nas condições."
      ]
    },
    {
      "cell_type": "code",
      "execution_count": 3,
      "metadata": {
        "colab": {
          "base_uri": "https://localhost:8080/"
        },
        "id": "J8phEHoTApHP",
        "outputId": "4a0e1380-32d9-4ee3-fc7b-08fb2e44e63c"
      },
      "outputs": [
        {
          "output_type": "stream",
          "name": "stdout",
          "text": [
            "Viviane\n"
          ]
        }
      ],
      "source": [
        "idade = 27\n",
        "\n",
        "if (idade > 30):\n",
        "  print('Alesi')\n",
        "else:\n",
        "  print('Viviane')"
      ]
    },
    {
      "cell_type": "markdown",
      "metadata": {
        "id": "cuAuDC8jApHP"
      },
      "source": [
        "### Comparando Booleans"
      ]
    },
    {
      "cell_type": "code",
      "source": [
        "True or False"
      ],
      "metadata": {
        "colab": {
          "base_uri": "https://localhost:8080/"
        },
        "id": "9MtpdZm_CERj",
        "outputId": "3e0034f8-a89d-44a2-8189-0ef34e06d584"
      },
      "execution_count": 7,
      "outputs": [
        {
          "output_type": "execute_result",
          "data": {
            "text/plain": [
              "True"
            ]
          },
          "metadata": {},
          "execution_count": 7
        }
      ]
    },
    {
      "cell_type": "code",
      "source": [
        "True and False"
      ],
      "metadata": {
        "colab": {
          "base_uri": "https://localhost:8080/"
        },
        "id": "3jchiyNsCHTi",
        "outputId": "263bbff4-97f6-4b61-8e9d-36e87a04feac"
      },
      "execution_count": 8,
      "outputs": [
        {
          "output_type": "execute_result",
          "data": {
            "text/plain": [
              "False"
            ]
          },
          "metadata": {},
          "execution_count": 8
        }
      ]
    },
    {
      "cell_type": "markdown",
      "metadata": {
        "id": "HVw5aoZ2ApHP"
      },
      "source": [
        "### Combinando condições com `and` e`or`"
      ]
    },
    {
      "cell_type": "code",
      "execution_count": 9,
      "metadata": {
        "colab": {
          "base_uri": "https://localhost:8080/"
        },
        "id": "A6UmM_VtApHP",
        "outputId": "ed8fda63-532e-4f0f-e82d-20066d7c47dc"
      },
      "outputs": [
        {
          "output_type": "stream",
          "name": "stdout",
          "text": [
            "Alesi\n"
          ]
        }
      ],
      "source": [
        "idade = 30\n",
        "sexo = 'M'\n",
        "\n",
        "if idade >= 30 and sexo == 'M':\n",
        "  print('Alesi')\n",
        "else:\n",
        "  print('Viviane')\n"
      ]
    },
    {
      "cell_type": "code",
      "source": [
        "sexo = True\n",
        "\n",
        "if idade >= 30 or sexo:\n",
        "  print('Não se tem certeza')\n",
        "elif idade >= 30 and sexo:\n",
        "  print('Alesi')\n",
        "else:\n",
        "  print('Viviane')\n"
      ],
      "metadata": {
        "colab": {
          "base_uri": "https://localhost:8080/"
        },
        "id": "OG9pZcy8CkVW",
        "outputId": "c2b6f9a6-c2a6-48f0-f92d-90ad0e8ee5c2"
      },
      "execution_count": 12,
      "outputs": [
        {
          "output_type": "stream",
          "name": "stdout",
          "text": [
            "Não se tem certeza\n"
          ]
        }
      ]
    },
    {
      "cell_type": "markdown",
      "metadata": {
        "id": "y1QJ-t9wApHP"
      },
      "source": [
        "### Armazenando booleans resultantes de condicionais"
      ]
    },
    {
      "cell_type": "code",
      "execution_count": 19,
      "metadata": {
        "colab": {
          "base_uri": "https://localhost:8080/"
        },
        "id": "LmxyisH0ApHP",
        "outputId": "d5e324d5-a781-4481-ceec-fadec4803074"
      },
      "outputs": [
        {
          "output_type": "execute_result",
          "data": {
            "text/plain": [
              "True"
            ]
          },
          "metadata": {},
          "execution_count": 19
        }
      ],
      "source": [
        "barba = True\n",
        "seios = False\n",
        "gogó = True\n",
        "\n",
        "sexoM = not seios and gogó #or barba\n",
        "\n",
        "sexoMas = not seios and gogó or barba\n",
        "\n",
        "sexoM\n"
      ]
    },
    {
      "cell_type": "code",
      "source": [
        "sexoMas"
      ],
      "metadata": {
        "colab": {
          "base_uri": "https://localhost:8080/"
        },
        "id": "_kqpVWylFfR9",
        "outputId": "8eafff85-8132-42d0-f955-6e371a916b05"
      },
      "execution_count": 20,
      "outputs": [
        {
          "output_type": "execute_result",
          "data": {
            "text/plain": [
              "True"
            ]
          },
          "metadata": {},
          "execution_count": 20
        }
      ]
    },
    {
      "cell_type": "markdown",
      "metadata": {
        "id": "fo5d-8pcApHP"
      },
      "source": [
        "### Condicionais em uma única linha"
      ]
    },
    {
      "cell_type": "code",
      "execution_count": 23,
      "metadata": {
        "colab": {
          "base_uri": "https://localhost:8080/",
          "height": 35
        },
        "id": "kT8xBnPbApHP",
        "outputId": "358e8576-49d2-40d1-8b02-29470e842088"
      },
      "outputs": [
        {
          "output_type": "execute_result",
          "data": {
            "text/plain": [
              "'linda'"
            ],
            "application/vnd.google.colaboratory.intrinsic+json": {
              "type": "string"
            }
          },
          "metadata": {},
          "execution_count": 23
        }
      ],
      "source": [
        "a = 7\n",
        "vivi = 'linda' if a == 7 else 'feia' # tarefa01 if condição01 is true else tarefa02\n",
        "vivi"
      ]
    }
  ],
  "metadata": {
    "kernelspec": {
      "display_name": "Python 3",
      "language": "python",
      "name": "python3"
    },
    "language_info": {
      "codemirror_mode": {
        "name": "ipython",
        "version": 3
      },
      "file_extension": ".py",
      "mimetype": "text/x-python",
      "name": "python",
      "nbconvert_exporter": "python",
      "pygments_lexer": "ipython3",
      "version": "3.9.0"
    },
    "colab": {
      "provenance": [],
      "include_colab_link": true
    }
  },
  "nbformat": 4,
  "nbformat_minor": 0
}