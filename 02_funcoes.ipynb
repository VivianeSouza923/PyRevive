{
  "cells": [
    {
      "cell_type": "markdown",
      "metadata": {
        "id": "view-in-github",
        "colab_type": "text"
      },
      "source": [
        "<a href=\"https://colab.research.google.com/github/VivianeSouza923/PyRevive/blob/main/02_funcoes.ipynb\" target=\"_parent\"><img src=\"https://colab.research.google.com/assets/colab-badge.svg\" alt=\"Open In Colab\"/></a>"
      ]
    },
    {
      "cell_type": "markdown",
      "metadata": {
        "id": "bSmvxWMRWsdv"
      },
      "source": [
        "## **Python Essencial para Data Science**\n",
        "**Prof. Dr. Samuel Martins (@hisamuka @xavecoding)** <br/>\n",
        "xavecoding: https://youtube.com/c/xavecoding <br/><br/>\n",
        "\n",
        "<a rel=\"license\" href=\"http://creativecommons.org/licenses/by-nc-sa/4.0/\"><img alt=\"Creative Commons License\" style=\"border-width:0\" src=\"https://i.creativecommons.org/l/by-nc-sa/4.0/88x31.png\" /></a><br />This work is licensed under a <a rel=\"license\" href=\"http://creativecommons.org/licenses/by-nc-sa/4.0/\">Creative Commons Attribution-NonCommercial-ShareAlike 4.0 International License</a>."
      ]
    },
    {
      "cell_type": "markdown",
      "metadata": {
        "id": "cvm59tuvWsdx"
      },
      "source": [
        "## Funções\n",
        "\n",
        "### Esqueleto de uma função em python:\n",
        "<code>\n",
        "def functionName(param1, param2, param3=val):\n",
        "    instruction 01\n",
        "    instruction 02\n",
        "    return X\n",
        "<code>"
      ]
    },
    {
      "cell_type": "markdown",
      "metadata": {
        "id": "bm0yVlBbWsdx"
      },
      "source": [
        "### Funções podem NÃO ter retorno"
      ]
    },
    {
      "cell_type": "code",
      "execution_count": 1,
      "metadata": {
        "colab": {
          "base_uri": "https://localhost:8080/"
        },
        "id": "krTu_Jg8Wsdy",
        "outputId": "be5e4b4b-c9de-49c8-d6dd-ccaafc6b3b3f"
      },
      "outputs": [
        {
          "output_type": "stream",
          "name": "stdout",
          "text": [
            "Imprimindo a variavel x\n",
            "10\n",
            "\n",
            "Imprimindo a variavel x\n",
            "Darth Vader\n",
            "\n"
          ]
        }
      ],
      "source": [
        "def print_parametro(x):\n",
        "    print('Imprimindo a variavel x')\n",
        "    print(x)\n",
        "    print('')\n",
        "\n",
        "a = 10\n",
        "print_parametro(a)\n",
        "\n",
        "nome = 'Darth Vader'\n",
        "print_parametro(nome)"
      ]
    },
    {
      "cell_type": "markdown",
      "metadata": {
        "id": "oDwu4lJmWsdy"
      },
      "source": [
        "### Funções podem ter retorno"
      ]
    },
    {
      "cell_type": "code",
      "execution_count": 2,
      "metadata": {
        "colab": {
          "base_uri": "https://localhost:8080/"
        },
        "id": "MyzsakNBWsdz",
        "outputId": "9acf04aa-2063-43de-a616-f1e22d075d0b"
      },
      "outputs": [
        {
          "output_type": "stream",
          "name": "stdout",
          "text": [
            "30\n"
          ]
        }
      ],
      "source": [
        "def soma(x, y):\n",
        "    return x + y\n",
        "\n",
        "a = 10\n",
        "b = 20\n",
        "c = soma(a, b)\n",
        "\n",
        "print(c)"
      ]
    },
    {
      "cell_type": "code",
      "execution_count": 3,
      "metadata": {
        "colab": {
          "base_uri": "https://localhost:8080/"
        },
        "id": "QKJg4aQQWsdz",
        "outputId": "be1fd2d6-83d7-49f8-b0f3-55a9f90c49ea"
      },
      "outputs": [
        {
          "output_type": "execute_result",
          "data": {
            "text/plain": [
              "function"
            ]
          },
          "metadata": {},
          "execution_count": 3
        }
      ],
      "source": [
        "type(soma)"
      ]
    },
    {
      "cell_type": "markdown",
      "metadata": {
        "id": "JwXUeCJ3Wsdz"
      },
      "source": [
        "### Funções podem ter múltiplos retornos"
      ]
    },
    {
      "cell_type": "code",
      "execution_count": 4,
      "metadata": {
        "colab": {
          "base_uri": "https://localhost:8080/"
        },
        "id": "zkwb2FWIWsdz",
        "outputId": "b6736d1a-1235-409c-dd2d-b9cd86cf622f"
      },
      "outputs": [
        {
          "output_type": "stream",
          "name": "stdout",
          "text": [
            "<class 'int'>\n",
            "10 + 20 = 30\n",
            "10 - 20 = -10\n"
          ]
        }
      ],
      "source": [
        "def soma_e_subtracao(x, y):\n",
        "    soma = x + y\n",
        "    sub = x - y\n",
        "    print(type(soma))\n",
        "\n",
        "    return soma, sub\n",
        "\n",
        "a = 10\n",
        "b = 20\n",
        "\n",
        "soma_ab, sub_ab = soma_e_subtracao(a, b)\n",
        "print(f'{a} + {b} = {soma_ab}\\n{a} - {b} = {sub_ab}')"
      ]
    },
    {
      "cell_type": "code",
      "execution_count": 5,
      "metadata": {
        "colab": {
          "base_uri": "https://localhost:8080/"
        },
        "id": "dS4vQwPZWsdz",
        "outputId": "9cd63dd6-46e7-4d9e-934c-af0371341443"
      },
      "outputs": [
        {
          "output_type": "execute_result",
          "data": {
            "text/plain": [
              "function"
            ]
          },
          "metadata": {},
          "execution_count": 5
        }
      ],
      "source": [
        "type(soma)"
      ]
    },
    {
      "cell_type": "markdown",
      "metadata": {
        "id": "V5z4jimCWsdz"
      },
      "source": [
        "### Escopo\n",
        "Todo **escopo** em Python (funções, loops, condicionais, classes, etc...) usam *dois pontos (:)* e *identação*:\n",
        "Os **dois pontos (:)** servem para _\"abrir\"_ o escopo, e _cada instrução_ dentro do escopo devem ser **identadas** à direita.\n",
        "\n",
        "Convenciona-se usar *espaços* ao invés de *tabs* para a **identação**. Todas as instruções do escopo **devem ter a mesma identação** (p. ex, a mesma quantidade de espaços)."
      ]
    },
    {
      "cell_type": "markdown",
      "metadata": {
        "id": "l4U5ECXFWsd0"
      },
      "source": [
        "<code>\n",
        "def functionName(param1, param2, param3=val):\n",
        "    instruction 01  # 4 espaços de identação\n",
        "    instruction 02  # 4 espaços de identação\n",
        "    return X  # 4 espaços de identação\n",
        "</code>"
      ]
    },
    {
      "cell_type": "markdown",
      "metadata": {
        "id": "B1CQDc9xWsd0"
      },
      "source": [
        "### Funções com parâmetros default (opcionais)"
      ]
    },
    {
      "cell_type": "markdown",
      "metadata": {
        "id": "0dmvybCOWsd0"
      },
      "source": [
        "Os parâmetros opcionais (ou seja, com valores _default_) devem sempre serem **os últimos parâmetros da função**."
      ]
    },
    {
      "cell_type": "code",
      "execution_count": 6,
      "metadata": {
        "id": "bLWS1DCxWsd0"
      },
      "outputs": [],
      "source": [
        "def cadastrar_usuario(sistema, login='user', senha='123'):\n",
        "    print(f'Cadastro de usuários no sistema {sistema}')\n",
        "    print(f'login: {login}')\n",
        "    print(f'senha: {senha}')"
      ]
    },
    {
      "cell_type": "code",
      "execution_count": 7,
      "metadata": {
        "colab": {
          "base_uri": "https://localhost:8080/"
        },
        "id": "pw5jBz3xWsd0",
        "outputId": "dbb86441-6be3-43cb-cd54-717bd32bb9ad"
      },
      "outputs": [
        {
          "output_type": "stream",
          "name": "stdout",
          "text": [
            "Cadastro de usuários no sistema Google\n",
            "login: samuka\n",
            "senha: python_essencial_senha\n"
          ]
        }
      ],
      "source": [
        "sistema_1 = 'Google'\n",
        "login_1 = 'samuka'\n",
        "senha_1 = 'python_essencial_senha'\n",
        "\n",
        "cadastrar_usuario(sistema_1, login_1, senha_1)"
      ]
    },
    {
      "cell_type": "markdown",
      "metadata": {
        "id": "7pR-e2VlWsd0"
      },
      "source": [
        "<br/>\n",
        "Caso o parâmetro não seja chamado, seu valor default é usado."
      ]
    },
    {
      "cell_type": "code",
      "execution_count": 8,
      "metadata": {
        "colab": {
          "base_uri": "https://localhost:8080/"
        },
        "id": "ZKR6NiGNWsd0",
        "outputId": "51ab40ec-7fbd-48db-8418-1409bfec936d"
      },
      "outputs": [
        {
          "output_type": "stream",
          "name": "stdout",
          "text": [
            "Cadastro de usuários no sistema Facebook\n",
            "login: ze\n",
            "senha: 123\n"
          ]
        }
      ],
      "source": [
        "sistema_2 = 'Facebook'\n",
        "login_2 = 'ze'\n",
        "\n",
        "cadastrar_usuario(sistema_2, login_2)"
      ]
    },
    {
      "cell_type": "code",
      "execution_count": null,
      "metadata": {
        "id": "cPSsbDgwWsd0",
        "outputId": "ac11c560-2f8c-4f66-eaba-d8cac07b35df"
      },
      "outputs": [
        {
          "name": "stdout",
          "output_type": "stream",
          "text": [
            "Cadastro de usuários no sistema GitHub\n",
            "login: user\n",
            "senha: 123\n"
          ]
        }
      ],
      "source": [
        "cadastrar_usuario('GitHub')"
      ]
    },
    {
      "cell_type": "code",
      "execution_count": 9,
      "metadata": {
        "colab": {
          "base_uri": "https://localhost:8080/",
          "height": 140
        },
        "id": "mk-0jC6WWsd0",
        "outputId": "2c03ac47-3c52-4795-aad0-1962b050623c"
      },
      "outputs": [
        {
          "output_type": "error",
          "ename": "SyntaxError",
          "evalue": "ignored",
          "traceback": [
            "\u001b[0;36m  File \u001b[0;32m\"<ipython-input-9-a86e099dd46f>\"\u001b[0;36m, line \u001b[0;32m3\u001b[0m\n\u001b[0;31m    def login_no_sistema(login='user', senha):\u001b[0m\n\u001b[0m                                       ^\u001b[0m\n\u001b[0;31mSyntaxError\u001b[0m\u001b[0;31m:\u001b[0m non-default argument follows default argument\n"
          ]
        }
      ],
      "source": [
        "#### NÃO FUNCIONA pq o argumento/parâmetro com valor default (padrão), login, não está\n",
        "# no final dos argumentos da função\n",
        "def login_no_sistema(login='user', senha):\n",
        "    print(f'login: {login}')\n",
        "    print(f'senha: {senha}')"
      ]
    },
    {
      "cell_type": "markdown",
      "metadata": {
        "id": "mbwDEbOnWsd0"
      },
      "source": [
        "### Parâmetros Nomeados\n",
        "Ao chamar uma função, podemos passar seus parâmetros em qualquer ordem. Basta que informemos o nome do argumento/parâmetro da função."
      ]
    },
    {
      "cell_type": "code",
      "execution_count": 10,
      "metadata": {
        "colab": {
          "base_uri": "https://localhost:8080/"
        },
        "id": "Ugx5g-0YWsd1",
        "outputId": "8ad1b0a9-b5d1-4f69-e754-d7034feb1637"
      },
      "outputs": [
        {
          "output_type": "stream",
          "name": "stdout",
          "text": [
            "Cadastro de usuários no sistema YouTube\n",
            "login: user\n",
            "senha: abcdef\n"
          ]
        }
      ],
      "source": [
        "cadastrar_usuario(senha='abcdef', sistema='YouTube')"
      ]
    },
    {
      "cell_type": "markdown",
      "metadata": {
        "id": "Qv2XTzqmWsd1"
      },
      "source": [
        "### Function Annotations (PEP 3107)\n",
        "Há a possibilidade de **indicar** o tipo de parâmetros e o tipo de retorno de funções em Python. <br/>\n",
        "Isso se chama _function annotation_.\n",
        "\n",
        "Os tipos indicados **apenas** servem como indicativo ao programador dos tipos de dados esperados. <br/>\n",
        "Algumas bibliotecas externas também podem interpretar tais \"metas anotações\" para algum propósito.\n",
        "\n",
        "Portanto, o interpretador python **NÃO** leva essas anotações de tipos em consideração durante sua execução."
      ]
    },
    {
      "cell_type": "code",
      "execution_count": 14,
      "metadata": {
        "id": "U5JrXeKLWsd1"
      },
      "outputs": [],
      "source": [
        "# aqui, esse \"-> é só mqio que um marcador, uma hint, para indicar que a função irá retornar/espera um determinado tipo de valor, neste caso, o int.\"\n",
        "def soma_de_inteiros(x: int, y: int) -> int:\n",
        "    return x + y"
      ]
    },
    {
      "cell_type": "code",
      "execution_count": 15,
      "metadata": {
        "colab": {
          "base_uri": "https://localhost:8080/"
        },
        "id": "GOhF-PjFWsd1",
        "outputId": "1dc1381a-ba6e-4de1-d22c-7d7b0ba3fe60"
      },
      "outputs": [
        {
          "output_type": "execute_result",
          "data": {
            "text/plain": [
              "30"
            ]
          },
          "metadata": {},
          "execution_count": 15
        }
      ],
      "source": [
        "soma_de_inteiros(10, 20)"
      ]
    },
    {
      "cell_type": "markdown",
      "metadata": {
        "id": "uv-ee5oxWsd1"
      },
      "source": [
        "Parâmetros de outros tipos são aceitos e processados normalmente."
      ]
    },
    {
      "cell_type": "code",
      "execution_count": 16,
      "metadata": {
        "colab": {
          "base_uri": "https://localhost:8080/"
        },
        "id": "gaV-2qR6Wsd1",
        "outputId": "c31a7a4f-8dc1-4bbd-f76b-10cdcf5cee2c"
      },
      "outputs": [
        {
          "output_type": "execute_result",
          "data": {
            "text/plain": [
              "4.5"
            ]
          },
          "metadata": {},
          "execution_count": 16
        }
      ],
      "source": [
        "soma_de_inteiros(1.5, 3)"
      ]
    },
    {
      "cell_type": "markdown",
      "metadata": {
        "id": "cUrw9JU-Wsd1"
      },
      "source": [
        "### Comentários e Docstring\n",
        "Em Python, comentários são definidos de duas maneiras:\n",
        "\n",
        "1. Utilizando # (comentário de uma linha só)"
      ]
    },
    {
      "cell_type": "code",
      "execution_count": null,
      "metadata": {
        "id": "K4nv0fbyWsd1"
      },
      "outputs": [],
      "source": [
        "# este é um comentário de uma linha só"
      ]
    },
    {
      "cell_type": "markdown",
      "metadata": {
        "id": "PBk7Qi5rWsd1"
      },
      "source": [
        "2. Usando _Docstrings_ (múltiplas linhas)"
      ]
    },
    {
      "cell_type": "code",
      "execution_count": 17,
      "metadata": {
        "colab": {
          "base_uri": "https://localhost:8080/",
          "height": 35
        },
        "id": "GEHsr7qhWsd1",
        "outputId": "5bf88b43-177a-4e48-f32a-e911abdfd032"
      },
      "outputs": [
        {
          "output_type": "execute_result",
          "data": {
            "text/plain": [
              "'Este é um comentário\\nde múltiplas\\nlinhas'"
            ],
            "application/vnd.google.colaboratory.intrinsic+json": {
              "type": "string"
            }
          },
          "metadata": {},
          "execution_count": 17
        }
      ],
      "source": [
        "'''Este é um comentário\n",
        "de múltiplas\n",
        "linhas'''\n"
      ]
    },
    {
      "cell_type": "code",
      "execution_count": 18,
      "metadata": {
        "colab": {
          "base_uri": "https://localhost:8080/",
          "height": 35
        },
        "id": "C0C3Yj7tWsd1",
        "outputId": "70b88e75-7236-431f-b1a4-53a5baacc4e5"
      },
      "outputs": [
        {
          "output_type": "execute_result",
          "data": {
            "text/plain": [
              "'Este é outro comentário\\nde múltiplas\\nlinhas'"
            ],
            "application/vnd.google.colaboratory.intrinsic+json": {
              "type": "string"
            }
          },
          "metadata": {},
          "execution_count": 18
        }
      ],
      "source": [
        "\"\"\"Este é outro comentário\n",
        "de múltiplas\n",
        "linhas\"\"\""
      ]
    },
    {
      "cell_type": "markdown",
      "metadata": {
        "id": "gwCxT8OIWsd1"
      },
      "source": [
        "<br/>\n",
        "Docstrings podem ser usados para documentar funções:"
      ]
    },
    {
      "cell_type": "code",
      "execution_count": 19,
      "metadata": {
        "colab": {
          "base_uri": "https://localhost:8080/"
        },
        "id": "3FAfXBQpWsd1",
        "outputId": "227185ae-f2f4-4c6c-8df0-2ea22f646b20"
      },
      "outputs": [
        {
          "output_type": "stream",
          "name": "stdout",
          "text": [
            "Help on class type in module builtins:\n",
            "\n",
            "class type(object)\n",
            " |  type(object) -> the object's type\n",
            " |  type(name, bases, dict, **kwds) -> a new type\n",
            " |  \n",
            " |  Methods defined here:\n",
            " |  \n",
            " |  __call__(self, /, *args, **kwargs)\n",
            " |      Call self as a function.\n",
            " |  \n",
            " |  __delattr__(self, name, /)\n",
            " |      Implement delattr(self, name).\n",
            " |  \n",
            " |  __dir__(self, /)\n",
            " |      Specialized __dir__ implementation for types.\n",
            " |  \n",
            " |  __getattribute__(self, name, /)\n",
            " |      Return getattr(self, name).\n",
            " |  \n",
            " |  __init__(self, /, *args, **kwargs)\n",
            " |      Initialize self.  See help(type(self)) for accurate signature.\n",
            " |  \n",
            " |  __instancecheck__(self, instance, /)\n",
            " |      Check if an object is an instance.\n",
            " |  \n",
            " |  __or__(self, value, /)\n",
            " |      Return self|value.\n",
            " |  \n",
            " |  __repr__(self, /)\n",
            " |      Return repr(self).\n",
            " |  \n",
            " |  __ror__(self, value, /)\n",
            " |      Return value|self.\n",
            " |  \n",
            " |  __setattr__(self, name, value, /)\n",
            " |      Implement setattr(self, name, value).\n",
            " |  \n",
            " |  __sizeof__(self, /)\n",
            " |      Return memory consumption of the type object.\n",
            " |  \n",
            " |  __subclasscheck__(self, subclass, /)\n",
            " |      Check if a class is a subclass.\n",
            " |  \n",
            " |  __subclasses__(self, /)\n",
            " |      Return a list of immediate subclasses.\n",
            " |  \n",
            " |  mro(self, /)\n",
            " |      Return a type's method resolution order.\n",
            " |  \n",
            " |  ----------------------------------------------------------------------\n",
            " |  Class methods defined here:\n",
            " |  \n",
            " |  __prepare__(...)\n",
            " |      __prepare__() -> dict\n",
            " |      used to create the namespace for the class statement\n",
            " |  \n",
            " |  ----------------------------------------------------------------------\n",
            " |  Static methods defined here:\n",
            " |  \n",
            " |  __new__(*args, **kwargs)\n",
            " |      Create and return a new object.  See help(type) for accurate signature.\n",
            " |  \n",
            " |  ----------------------------------------------------------------------\n",
            " |  Data descriptors defined here:\n",
            " |  \n",
            " |  __abstractmethods__\n",
            " |  \n",
            " |  __annotations__\n",
            " |  \n",
            " |  __dict__\n",
            " |  \n",
            " |  __text_signature__\n",
            " |  \n",
            " |  ----------------------------------------------------------------------\n",
            " |  Data and other attributes defined here:\n",
            " |  \n",
            " |  __base__ = <class 'object'>\n",
            " |      The base class of the class hierarchy.\n",
            " |      \n",
            " |      When called, it accepts no arguments and returns a new featureless\n",
            " |      instance that has no instance attributes and cannot be given any.\n",
            " |  \n",
            " |  \n",
            " |  __bases__ = (<class 'object'>,)\n",
            " |  \n",
            " |  __basicsize__ = 888\n",
            " |  \n",
            " |  __dictoffset__ = 264\n",
            " |  \n",
            " |  __flags__ = 2148031744\n",
            " |  \n",
            " |  __itemsize__ = 40\n",
            " |  \n",
            " |  __mro__ = (<class 'type'>, <class 'object'>)\n",
            " |  \n",
            " |  __weakrefoffset__ = 368\n",
            "\n"
          ]
        }
      ],
      "source": [
        "help(type)"
      ]
    },
    {
      "cell_type": "code",
      "execution_count": 24,
      "metadata": {
        "id": "4mD8YUnVWsd1"
      },
      "outputs": [],
      "source": [
        "def soma(x, y):\n",
        "    r\n",
        "    return x + y"
      ]
    },
    {
      "cell_type": "markdown",
      "metadata": {
        "id": "uSBxq0YMWsd2"
      },
      "source": [
        "<br/>\n",
        "Quando uma função (ou classe) está documentada usando _docstring_, é possível usar a função **help()** para ler a documentação:"
      ]
    },
    {
      "cell_type": "code",
      "execution_count": 25,
      "metadata": {
        "colab": {
          "base_uri": "https://localhost:8080/"
        },
        "id": "gdGwW21EWsd2",
        "outputId": "8f901ac7-368e-4217-8520-6e14a9fb167f"
      },
      "outputs": [
        {
          "output_type": "stream",
          "name": "stdout",
          "text": [
            "Help on function soma in module __main__:\n",
            "\n",
            "soma(x, y)\n",
            "\n"
          ]
        }
      ],
      "source": [
        "help(soma)"
      ]
    },
    {
      "cell_type": "code",
      "source": [],
      "metadata": {
        "id": "1jYLyBUcjm5a"
      },
      "execution_count": null,
      "outputs": []
    }
  ],
  "metadata": {
    "kernelspec": {
      "display_name": "Python 3",
      "language": "python",
      "name": "python3"
    },
    "language_info": {
      "codemirror_mode": {
        "name": "ipython",
        "version": 3
      },
      "file_extension": ".py",
      "mimetype": "text/x-python",
      "name": "python",
      "nbconvert_exporter": "python",
      "pygments_lexer": "ipython3",
      "version": "3.8.5"
    },
    "colab": {
      "provenance": [],
      "include_colab_link": true
    }
  },
  "nbformat": 4,
  "nbformat_minor": 0
}