{
  "cells": [
    {
      "cell_type": "markdown",
      "metadata": {
        "id": "view-in-github",
        "colab_type": "text"
      },
      "source": [
        "<a href=\"https://colab.research.google.com/github/VivianeSouza923/PyRevive/blob/main/07_tuplas.ipynb\" target=\"_parent\"><img src=\"https://colab.research.google.com/assets/colab-badge.svg\" alt=\"Open In Colab\"/></a>"
      ]
    },
    {
      "cell_type": "markdown",
      "metadata": {
        "id": "vHRtYTEWVjnt"
      },
      "source": [
        "## **Python Essencial para Data Science**\n",
        "**Prof. Dr. Samuel Martins (@hisamuka @xavecoding)** <br/>\n",
        "xavecoding: https://youtube.com/c/xavecoding <br/><br/>\n",
        "\n",
        "<a rel=\"license\" href=\"http://creativecommons.org/licenses/by-nc-sa/4.0/\"><img alt=\"Creative Commons License\" style=\"border-width:0\" src=\"https://i.creativecommons.org/l/by-nc-sa/4.0/88x31.png\" /></a><br />This work is licensed under a <a rel=\"license\" href=\"http://creativecommons.org/licenses/by-nc-sa/4.0/\">Creative Commons Attribution-NonCommercial-ShareAlike 4.0 International License</a>."
      ]
    },
    {
      "cell_type": "markdown",
      "metadata": {
        "id": "fnAoVgNEVjnw"
      },
      "source": [
        "## Tuplas\n",
        "Tuplas são estruturas muito semelhantes às listas. Elas diferem de duas maneiras:"
      ]
    },
    {
      "cell_type": "markdown",
      "metadata": {
        "id": "I73bfc5RVjnx"
      },
      "source": [
        "1. Elas usam _parênteses_ ao invés de _colchetes_:"
      ]
    },
    {
      "cell_type": "code",
      "execution_count": 1,
      "metadata": {
        "colab": {
          "base_uri": "https://localhost:8080/"
        },
        "id": "LOp5GYucVjnx",
        "outputId": "59196813-2c6e-4ae1-fcee-7d58e8c708ef"
      },
      "outputs": [
        {
          "output_type": "execute_result",
          "data": {
            "text/plain": [
              "(1, 2, 3)"
            ]
          },
          "metadata": {},
          "execution_count": 1
        }
      ],
      "source": [
        "# então, isso é uma tupla, de cara, n dá para confundir com uma lista.\n",
        "# tá recebendo 3 elementos dentro de 1 parênteses\n",
        "tupla_1 = (1, 2, 3)\n",
        "tupla_1"
      ]
    },
    {
      "cell_type": "code",
      "execution_count": 3,
      "metadata": {
        "colab": {
          "base_uri": "https://localhost:8080/"
        },
        "id": "rJv_DLAMVjn0",
        "outputId": "4b9cf8ec-82db-4ae4-98b6-f837e6082aba"
      },
      "outputs": [
        {
          "output_type": "stream",
          "name": "stdout",
          "text": [
            "<class 'tuple'>\n"
          ]
        }
      ],
      "source": [
        "# qual o tipo desse elemento chamado tupla_1? só usar o type()\n",
        "print(type(tupla_1))"
      ]
    },
    {
      "cell_type": "code",
      "execution_count": 4,
      "metadata": {
        "colab": {
          "base_uri": "https://localhost:8080/"
        },
        "id": "QSLZeZOsVjn1",
        "outputId": "8133cd37-157f-4cc2-c908-3c92417a2e4f"
      },
      "outputs": [
        {
          "output_type": "execute_result",
          "data": {
            "text/plain": [
              "(1, 2, 3)"
            ]
          },
          "metadata": {},
          "execution_count": 4
        }
      ],
      "source": [
        "# só que a tupla é desobrigada a usar parênteses. é opcional.\n",
        "tupla_2 = 1, 2, 3\n",
        "tupla_2"
      ]
    },
    {
      "cell_type": "code",
      "source": [
        "a = 4, 5, 6\n",
        "a"
      ],
      "metadata": {
        "colab": {
          "base_uri": "https://localhost:8080/"
        },
        "id": "eTR5YUP1WHfY",
        "outputId": "c9d96d26-4885-41a3-f96f-9b0c88c7d847"
      },
      "execution_count": 5,
      "outputs": [
        {
          "output_type": "execute_result",
          "data": {
            "text/plain": [
              "(4, 5, 6)"
            ]
          },
          "metadata": {},
          "execution_count": 5
        }
      ]
    },
    {
      "cell_type": "code",
      "execution_count": 7,
      "metadata": {
        "colab": {
          "base_uri": "https://localhost:8080/"
        },
        "id": "byYgfAs1Vjn1",
        "outputId": "a84db49b-c24c-4694-b678-4657027bc6dc"
      },
      "outputs": [
        {
          "output_type": "stream",
          "name": "stdout",
          "text": [
            "(1, 2, 3)\n",
            "<class 'tuple'>\n"
          ]
        }
      ],
      "source": [
        "print(tupla_2)\n",
        "print(type(tupla_2))"
      ]
    },
    {
      "cell_type": "code",
      "execution_count": 8,
      "metadata": {
        "colab": {
          "base_uri": "https://localhost:8080/"
        },
        "id": "tND8COyAVjn1",
        "outputId": "707c4fdb-a20e-47dc-fec2-8527593de806"
      },
      "outputs": [
        {
          "output_type": "stream",
          "name": "stdout",
          "text": [
            "1\n",
            "2\n",
            "3\n"
          ]
        }
      ],
      "source": [
        "# relembrando atribuição múltiplca\n",
        "x, y, z = 1, 2, 3\n",
        "print(x)\n",
        "print(y)\n",
        "print(z)"
      ]
    },
    {
      "cell_type": "code",
      "execution_count": 9,
      "metadata": {
        "colab": {
          "base_uri": "https://localhost:8080/"
        },
        "id": "lXB1IDoTVjn2",
        "outputId": "18dca951-7437-4344-fe9a-6b933b7c56ae"
      },
      "outputs": [
        {
          "output_type": "stream",
          "name": "stdout",
          "text": [
            "1\n",
            "2\n",
            "3\n"
          ]
        }
      ],
      "source": [
        "a, b, c = tupla_1  # \"desempacota\" os elementos da tupla `tupla_1` nas variávels a, b, c\n",
        "print(a)\n",
        "print(b)\n",
        "print(c)"
      ]
    },
    {
      "cell_type": "markdown",
      "metadata": {
        "id": "Y-SwPymjVjn2"
      },
      "source": [
        "2. Elas **não** podem ser modificadas (**imutáveis**)"
      ]
    },
    {
      "cell_type": "code",
      "execution_count": 10,
      "metadata": {
        "colab": {
          "base_uri": "https://localhost:8080/"
        },
        "id": "FHpxyB9hVjn3",
        "outputId": "31b162ef-4b57-4cb4-e3f5-c89497a31ad7"
      },
      "outputs": [
        {
          "output_type": "execute_result",
          "data": {
            "text/plain": [
              "(1, 2, 3)"
            ]
          },
          "metadata": {},
          "execution_count": 10
        }
      ],
      "source": [
        "tupla_1"
      ]
    },
    {
      "cell_type": "code",
      "execution_count": 11,
      "metadata": {
        "colab": {
          "base_uri": "https://localhost:8080/",
          "height": 198
        },
        "id": "C5n6VksaVjn3",
        "outputId": "42480017-2328-4e8f-d47f-2c835ead2ed7"
      },
      "outputs": [
        {
          "output_type": "error",
          "ename": "TypeError",
          "evalue": "'tuple' object does not support item assignment",
          "traceback": [
            "\u001b[0;31m---------------------------------------------------------------------------\u001b[0m",
            "\u001b[0;31mTypeError\u001b[0m                                 Traceback (most recent call last)",
            "\u001b[0;32m<ipython-input-11-888e6481a188>\u001b[0m in \u001b[0;36m<cell line: 2>\u001b[0;34m()\u001b[0m\n\u001b[1;32m      1\u001b[0m \u001b[0;31m# isso é impossível e dará erro. Pq? pq tuplas são imutáveis, é diferente das listas\u001b[0m\u001b[0;34m\u001b[0m\u001b[0;34m\u001b[0m\u001b[0m\n\u001b[0;32m----> 2\u001b[0;31m \u001b[0mtupla_1\u001b[0m\u001b[0;34m[\u001b[0m\u001b[0;36m0\u001b[0m\u001b[0;34m]\u001b[0m \u001b[0;34m=\u001b[0m \u001b[0;36m10\u001b[0m\u001b[0;34m\u001b[0m\u001b[0;34m\u001b[0m\u001b[0m\n\u001b[0m",
            "\u001b[0;31mTypeError\u001b[0m: 'tuple' object does not support item assignment"
          ]
        }
      ],
      "source": [
        "# isso é impossível e dará erro. Pq? pq tuplas são imutáveis, é diferente das listas\n",
        "tupla_1[0] = 10"
      ]
    },
    {
      "cell_type": "markdown",
      "metadata": {
        "id": "6m5Gyb44Vjn4"
      },
      "source": [
        "#### Convertendo uma lista em tuplas e vice-versa"
      ]
    },
    {
      "cell_type": "code",
      "execution_count": 12,
      "metadata": {
        "colab": {
          "base_uri": "https://localhost:8080/"
        },
        "id": "9mCm5wNpVjn4",
        "outputId": "d21f823f-488c-4169-85c3-1e8ccb347da0"
      },
      "outputs": [
        {
          "output_type": "stream",
          "name": "stdout",
          "text": [
            "['Mercúrio', 'Vênus', 'Terra', 'Marte', 'Júpiter', 'Saturno', 'Urano', 'Netuno']\n",
            "<class 'list'>\n"
          ]
        }
      ],
      "source": [
        "# aqui eu tenho uma lista. está sendo atribuída por colchetes\n",
        "planetas = ['Mercúrio', 'Vênus', 'Terra', 'Marte', 'Júpiter', 'Saturno', 'Urano', 'Netuno']\n",
        "print(planetas)\n",
        "# mostra o tipo de planetas\n",
        "print(type(planetas))"
      ]
    },
    {
      "cell_type": "code",
      "execution_count": 14,
      "metadata": {
        "colab": {
          "base_uri": "https://localhost:8080/"
        },
        "id": "Mxp_SZjuVjn4",
        "outputId": "427caa9d-e7df-4042-aa58-6bbe8f0cdc32"
      },
      "outputs": [
        {
          "output_type": "stream",
          "name": "stdout",
          "text": [
            "('Mercúrio', 'Vênus', 'Terra', 'Marte', 'Júpiter', 'Saturno', 'Urano', 'Netuno')\n",
            "<class 'tuple'>\n"
          ]
        }
      ],
      "source": [
        "# JÁ AQUI É UMA TUPLA. ESTOU TRANSFORMANDO PLANETAS, QUE É UMA LISTA, EM UMA TUPLA ATRAVÉS DA FUNÇÃO TUPLE(AQUI_O_NOME_DA_LISTA)\n",
        "planetas_tupla = tuple(planetas)\n",
        "print(planetas_tupla)\n",
        "print(type(planetas_tupla))"
      ]
    },
    {
      "cell_type": "code",
      "execution_count": 15,
      "metadata": {
        "colab": {
          "base_uri": "https://localhost:8080/"
        },
        "id": "8HNQdEOiVjn5",
        "outputId": "04ecede3-7712-4058-c1a6-a6f6db11bc50"
      },
      "outputs": [
        {
          "output_type": "stream",
          "name": "stdout",
          "text": [
            "['MERCÚRIO', 'Vênus', 'Terra', 'Marte', 'Júpiter', 'Saturno', 'Urano', 'Netuno']\n",
            "('Mercúrio', 'Vênus', 'Terra', 'Marte', 'Júpiter', 'Saturno', 'Urano', 'Netuno')\n"
          ]
        }
      ],
      "source": [
        "# AQUI EU VOU FAZER UMA MODIFICAÇÃO, POIS POSSO, JÁ QUE PLANETAS É UMA LISTA. É INTERESSANTE LEMBRAR QUE ISSO N]AO IRÁ ALTERAR A TUPLA\n",
        "planetas[0] = planetas[0].upper()\n",
        "print(planetas)\n",
        "print(planetas_tupla)"
      ]
    },
    {
      "cell_type": "code",
      "execution_count": 16,
      "metadata": {
        "colab": {
          "base_uri": "https://localhost:8080/",
          "height": 234
        },
        "id": "rwpLeqcRVjn5",
        "outputId": "0e290756-abc6-4988-c375-7b7a9e086dca"
      },
      "outputs": [
        {
          "output_type": "error",
          "ename": "TypeError",
          "evalue": "'tuple' object does not support item assignment",
          "traceback": [
            "\u001b[0;31m---------------------------------------------------------------------------\u001b[0m",
            "\u001b[0;31mTypeError\u001b[0m                                 Traceback (most recent call last)",
            "\u001b[0;32m<ipython-input-16-17642dc8b219>\u001b[0m in \u001b[0;36m<cell line: 2>\u001b[0;34m()\u001b[0m\n\u001b[1;32m      1\u001b[0m \u001b[0;31m# O NEGÓCIO FICA DIFERENTE QUANDO EU TENTO FAZER UMA MODIFICAÇÃO IGUAL NA TUPLA, POIS TUPLA É IMUTÁVEL.\u001b[0m\u001b[0;34m\u001b[0m\u001b[0;34m\u001b[0m\u001b[0m\n\u001b[0;32m----> 2\u001b[0;31m \u001b[0mplanetas_tupla\u001b[0m\u001b[0;34m[\u001b[0m\u001b[0;36m0\u001b[0m\u001b[0;34m]\u001b[0m \u001b[0;34m=\u001b[0m \u001b[0mplanetas_tupla\u001b[0m\u001b[0;34m[\u001b[0m\u001b[0;36m0\u001b[0m\u001b[0;34m]\u001b[0m\u001b[0;34m.\u001b[0m\u001b[0mupper\u001b[0m\u001b[0;34m(\u001b[0m\u001b[0;34m)\u001b[0m\u001b[0;34m\u001b[0m\u001b[0;34m\u001b[0m\u001b[0m\n\u001b[0m\u001b[1;32m      3\u001b[0m \u001b[0mprint\u001b[0m\u001b[0;34m(\u001b[0m\u001b[0mplanetas\u001b[0m\u001b[0;34m)\u001b[0m\u001b[0;34m\u001b[0m\u001b[0;34m\u001b[0m\u001b[0m\n\u001b[1;32m      4\u001b[0m \u001b[0mprint\u001b[0m\u001b[0;34m(\u001b[0m\u001b[0mplanetas_tupla\u001b[0m\u001b[0;34m)\u001b[0m\u001b[0;34m\u001b[0m\u001b[0;34m\u001b[0m\u001b[0m\n",
            "\u001b[0;31mTypeError\u001b[0m: 'tuple' object does not support item assignment"
          ]
        }
      ],
      "source": [
        "# O NEGÓCIO FICA DIFERENTE QUANDO EU TENTO FAZER UMA MODIFICAÇÃO IGUAL NA TUPLA, POIS TUPLA É IMUTÁVEL.\n",
        "planetas_tupla[0] = planetas_tupla[0].upper()\n",
        "print(planetas)\n",
        "print(planetas_tupla)"
      ]
    },
    {
      "cell_type": "code",
      "execution_count": 17,
      "metadata": {
        "colab": {
          "base_uri": "https://localhost:8080/"
        },
        "id": "H0z_iKl9Vjn6",
        "outputId": "fea4fd57-7fbd-4adc-f3c5-888e0cd94f4d"
      },
      "outputs": [
        {
          "output_type": "stream",
          "name": "stdout",
          "text": [
            "[1, 2, 3]\n",
            "(1, 2, 3)\n"
          ]
        }
      ],
      "source": [
        "# converter uma tupla para uma lista - BASTA APENAS USAR A FUNÇÃO LIST() E PÔR DENTRO DESSES PARÊNTESES O NOME DA TUPLA\n",
        "lista_1 = list(tupla_1)\n",
        "print(lista_1)\n",
        "print(tupla_1)"
      ]
    },
    {
      "cell_type": "markdown",
      "metadata": {
        "id": "n_LUffE5Vjn6"
      },
      "source": [
        "### Descompactando tuplas"
      ]
    },
    {
      "cell_type": "code",
      "execution_count": 20,
      "metadata": {
        "id": "iaXY4aErVjn6",
        "outputId": "186aad07-d41d-4375-bb28-8eec46fb7881",
        "colab": {
          "base_uri": "https://localhost:8080/"
        }
      },
      "outputs": [
        {
          "output_type": "stream",
          "name": "stdout",
          "text": [
            "(5.0, 10, 2)\n",
            "5.0\n",
            "10\n",
            "2\n",
            "(5.0, 10, 2)\n",
            "6.0\n",
            "10\n",
            "2\n"
          ]
        }
      ],
      "source": [
        "# continuar\n",
        "# tupla em que armazeno notas do semestre\n",
        "notas_do_semestre = (5.0, 10, 2)\n",
        "# aqui eu estou desempacotado, digamos assim a tupĺa. A ordem que eu estou colocando as variáveis, será a ordem que a tupla será desempacotada\n",
        "prova_1, prova_2, projeto = notas_do_semestre\n",
        "\n",
        "print(notas_do_semestre) # print da tupla\n",
        "print(prova_1) # consigo printar cada elemento separadamente, já que desempacotei\n",
        "print(prova_2)\n",
        "print(projeto)\n",
        "\n",
        "# também consigo fazer operações com cada elemento, mas ATENÇÃO, isso não muda o valor dele na TUPLA\n",
        "prova_1 += 1\n",
        "\n",
        "print(notas_do_semestre)\n",
        "print(prova_1)\n",
        "print(prova_2)\n",
        "print(projeto)"
      ]
    },
    {
      "cell_type": "markdown",
      "metadata": {
        "id": "On2oPeXSVjn6"
      },
      "source": [
        "### Zip: Compactando listas"
      ]
    },
    {
      "cell_type": "code",
      "execution_count": 21,
      "metadata": {
        "id": "Goc02KiUVjn7",
        "outputId": "473340b0-5777-4d9c-c36e-72c6a2eaaf95",
        "colab": {
          "base_uri": "https://localhost:8080/"
        }
      },
      "outputs": [
        {
          "output_type": "stream",
          "name": "stdout",
          "text": [
            "['Ônix', 'Gol', 'Uno']\n",
            "[50000, 30000, 20000]\n"
          ]
        }
      ],
      "source": [
        "# VAMOS VER AGORA O ZIP - O QUE É ZIP? É UMA FUNÇÃO QUE COMBINA DUAS OU MAIS ITERÁVEIS (TUPLAS, LISTAS) EM PARES ORDENADOS\n",
        "\n",
        "# AQUI EU TENHO DUAS LISTAS\n",
        "carros = ['Ônix', 'Gol', 'Uno']\n",
        "precos = [50000, 30000, 20000]\n",
        "\n",
        "# PRINT DE CADA LISTA\n",
        "print(carros)\n",
        "print(precos)"
      ]
    },
    {
      "cell_type": "code",
      "execution_count": 24,
      "metadata": {
        "id": "hgUdMz-gVjn7",
        "outputId": "bae06b6e-3ff3-4300-b3e8-9b2f2fe37d38",
        "colab": {
          "base_uri": "https://localhost:8080/"
        }
      },
      "outputs": [
        {
          "output_type": "stream",
          "name": "stdout",
          "text": [
            "<zip object at 0x7d16512e6fc0>\n"
          ]
        }
      ],
      "source": [
        "# AGORA SIM, EU VOU ZIPAR, DIGAMOS ASSIM, AS LISTAS\n",
        "\n",
        "#ZIP(ITERÁVEL1, ITERÁVEL2)\n",
        "carros_com_precos_zip = zip(carros, precos)\n",
        "# observação: não consigo imprimir na tela zip, então eu tenho que transformá-lo em lista ou tupla\n",
        "carros_com_precos_zip\n",
        "print(carros_com_precos_zip)"
      ]
    },
    {
      "cell_type": "code",
      "execution_count": 25,
      "metadata": {
        "id": "S8oZ5HujVjn8",
        "outputId": "638b99e3-0c9e-4be7-a4ef-2161aef29946",
        "colab": {
          "base_uri": "https://localhost:8080/"
        }
      },
      "outputs": [
        {
          "output_type": "execute_result",
          "data": {
            "text/plain": [
              "[('Ônix', 50000), ('Gol', 30000), ('Uno', 20000)]"
            ]
          },
          "metadata": {},
          "execution_count": 25
        }
      ],
      "source": [
        "# transformando em lista\n",
        "# para transformar em lista, é só usar a função list - list(quem eu quero que vire uma lista)\n",
        "carros_com_precos = list(carros_com_precos_zip)\n",
        "carros_com_precos"
      ]
    },
    {
      "cell_type": "code",
      "execution_count": 26,
      "metadata": {
        "id": "7h6_vakDVjn8",
        "outputId": "c5589f39-d990-4e4b-a9ba-5444ad97362e",
        "colab": {
          "base_uri": "https://localhost:8080/"
        }
      },
      "outputs": [
        {
          "output_type": "stream",
          "name": "stdout",
          "text": [
            "('Ônix', 50000)\n",
            "('Gol', 30000)\n",
            "('Uno', 20000)\n"
          ]
        }
      ],
      "source": [
        "for x in carros_com_precos:\n",
        "    print(x)"
      ]
    },
    {
      "cell_type": "code",
      "execution_count": 28,
      "metadata": {
        "id": "s4hjHnzyVjn8",
        "outputId": "7b0ceb58-b76f-454d-89a8-23d7db7512e4",
        "colab": {
          "base_uri": "https://localhost:8080/"
        }
      },
      "outputs": [
        {
          "output_type": "stream",
          "name": "stdout",
          "text": [
            "Ônix\n",
            "50000\n",
            "Gol\n",
            "30000\n",
            "Uno\n",
            "20000\n"
          ]
        }
      ],
      "source": [
        "for nome, preco in carros_com_precos:\n",
        "    print(nome)\n",
        "    print(preco)"
      ]
    },
    {
      "cell_type": "code",
      "execution_count": 32,
      "metadata": {
        "id": "jVs0_60aVjn9",
        "outputId": "26b623ae-7eaf-4be1-ee41-439ed7d482f2",
        "colab": {
          "base_uri": "https://localhost:8080/"
        }
      },
      "outputs": [
        {
          "output_type": "stream",
          "name": "stdout",
          "text": [
            "Ônix\n",
            "50000\n",
            "Gol\n",
            "30000\n",
            "Uno\n",
            "20000\n"
          ]
        }
      ],
      "source": [
        "# isso aqui eu consigo printar, apesar de ser um zip, pois o for com essas duas variáveis descompacta as tuplas geradas pelo zip em cada iteração do for\n",
        "for nome, preco in zip(carros, precos):\n",
        "    print(nome)\n",
        "    print(preco)"
      ]
    }
  ],
  "metadata": {
    "kernelspec": {
      "display_name": "Python 3",
      "language": "python",
      "name": "python3"
    },
    "language_info": {
      "codemirror_mode": {
        "name": "ipython",
        "version": 3
      },
      "file_extension": ".py",
      "mimetype": "text/x-python",
      "name": "python",
      "nbconvert_exporter": "python",
      "pygments_lexer": "ipython3",
      "version": "3.8.5"
    },
    "colab": {
      "provenance": [],
      "include_colab_link": true
    }
  },
  "nbformat": 4,
  "nbformat_minor": 0
}