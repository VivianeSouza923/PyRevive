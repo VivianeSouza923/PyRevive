{
  "cells": [
    {
      "cell_type": "markdown",
      "metadata": {
        "id": "view-in-github",
        "colab_type": "text"
      },
      "source": [
        "<a href=\"https://colab.research.google.com/github/VivianeSouza923/PyRevive/blob/main/07_tuplas.ipynb\" target=\"_parent\"><img src=\"https://colab.research.google.com/assets/colab-badge.svg\" alt=\"Open In Colab\"/></a>"
      ]
    },
    {
      "cell_type": "markdown",
      "metadata": {
        "id": "vHRtYTEWVjnt"
      },
      "source": [
        "## **Python Essencial para Data Science**\n",
        "**Prof. Dr. Samuel Martins (@hisamuka @xavecoding)** <br/>\n",
        "xavecoding: https://youtube.com/c/xavecoding <br/><br/>\n",
        "\n",
        "<a rel=\"license\" href=\"http://creativecommons.org/licenses/by-nc-sa/4.0/\"><img alt=\"Creative Commons License\" style=\"border-width:0\" src=\"https://i.creativecommons.org/l/by-nc-sa/4.0/88x31.png\" /></a><br />This work is licensed under a <a rel=\"license\" href=\"http://creativecommons.org/licenses/by-nc-sa/4.0/\">Creative Commons Attribution-NonCommercial-ShareAlike 4.0 International License</a>."
      ]
    },
    {
      "cell_type": "markdown",
      "metadata": {
        "id": "fnAoVgNEVjnw"
      },
      "source": [
        "## Tuplas\n",
        "Tuplas são estruturas muito semelhantes às listas. Elas diferem de duas maneiras:"
      ]
    },
    {
      "cell_type": "markdown",
      "metadata": {
        "id": "I73bfc5RVjnx"
      },
      "source": [
        "1. Elas usam _parênteses_ ao invés de _colchetes_:"
      ]
    },
    {
      "cell_type": "code",
      "execution_count": 1,
      "metadata": {
        "colab": {
          "base_uri": "https://localhost:8080/"
        },
        "id": "LOp5GYucVjnx",
        "outputId": "09e8479b-019e-4509-f8d1-9374fe9edd92"
      },
      "outputs": [
        {
          "output_type": "execute_result",
          "data": {
            "text/plain": [
              "(1, 2, 3)"
            ]
          },
          "metadata": {},
          "execution_count": 1
        }
      ],
      "source": [
        "# então, isso é uma tupla, de cara, n dá para confundir com uma lista.\n",
        "# tá recebendo 3 elementos dentro de 1 parênteses\n",
        "tupla_1 = (1, 2, 3)\n",
        "tupla_1"
      ]
    },
    {
      "cell_type": "code",
      "execution_count": 3,
      "metadata": {
        "colab": {
          "base_uri": "https://localhost:8080/"
        },
        "id": "rJv_DLAMVjn0",
        "outputId": "37b04eec-41c5-4c75-c6d7-12491bf060dd"
      },
      "outputs": [
        {
          "output_type": "stream",
          "name": "stdout",
          "text": [
            "<class 'tuple'>\n"
          ]
        }
      ],
      "source": [
        "# qual o tipo desse elemento chamado tupla_1? só usar o type()\n",
        "print(type(tupla_1))"
      ]
    },
    {
      "cell_type": "code",
      "execution_count": 6,
      "metadata": {
        "colab": {
          "base_uri": "https://localhost:8080/"
        },
        "id": "QSLZeZOsVjn1",
        "outputId": "6354a4cd-06be-4f81-c4b4-bb8d06e1cd7c"
      },
      "outputs": [
        {
          "output_type": "execute_result",
          "data": {
            "text/plain": [
              "(1, 2, 3)"
            ]
          },
          "metadata": {},
          "execution_count": 6
        }
      ],
      "source": [
        "# só que a tupla é desobrigada a usar parênteses. é opcional.\n",
        "tupla_2 = 1, 2, 3\n",
        "tupla_2"
      ]
    },
    {
      "cell_type": "code",
      "source": [
        "a = 4, 5, 6\n",
        "a"
      ],
      "metadata": {
        "colab": {
          "base_uri": "https://localhost:8080/"
        },
        "id": "eTR5YUP1WHfY",
        "outputId": "9f03b97c-c60f-4915-dd7e-ca63306e5356"
      },
      "execution_count": 5,
      "outputs": [
        {
          "output_type": "execute_result",
          "data": {
            "text/plain": [
              "(4, 5, 6)"
            ]
          },
          "metadata": {},
          "execution_count": 5
        }
      ]
    },
    {
      "cell_type": "code",
      "execution_count": 7,
      "metadata": {
        "colab": {
          "base_uri": "https://localhost:8080/"
        },
        "id": "byYgfAs1Vjn1",
        "outputId": "63a10e01-514f-41f2-fc74-458ac53377f3"
      },
      "outputs": [
        {
          "output_type": "stream",
          "name": "stdout",
          "text": [
            "(1, 2, 3)\n",
            "<class 'tuple'>\n"
          ]
        }
      ],
      "source": [
        "print(tupla_2)\n",
        "print(type(tupla_2))"
      ]
    },
    {
      "cell_type": "code",
      "execution_count": 8,
      "metadata": {
        "colab": {
          "base_uri": "https://localhost:8080/"
        },
        "id": "tND8COyAVjn1",
        "outputId": "d163ffb5-1066-448a-f04b-3702f30857a6"
      },
      "outputs": [
        {
          "output_type": "stream",
          "name": "stdout",
          "text": [
            "1\n",
            "2\n",
            "3\n"
          ]
        }
      ],
      "source": [
        "# relembrando atribuição múltiplca\n",
        "x, y, z = 1, 2, 3\n",
        "print(x)\n",
        "print(y)\n",
        "print(z)"
      ]
    },
    {
      "cell_type": "code",
      "execution_count": 9,
      "metadata": {
        "colab": {
          "base_uri": "https://localhost:8080/"
        },
        "id": "lXB1IDoTVjn2",
        "outputId": "725bd3be-ebe2-4f13-feb1-4b25c8fc5c4f"
      },
      "outputs": [
        {
          "output_type": "stream",
          "name": "stdout",
          "text": [
            "1\n",
            "2\n",
            "3\n"
          ]
        }
      ],
      "source": [
        "a, b, c = tupla_1  # \"desempacota\" os elementos da tupla `tupla_1` nas variávels a, b, c\n",
        "print(a)\n",
        "print(b)\n",
        "print(c)"
      ]
    },
    {
      "cell_type": "markdown",
      "metadata": {
        "id": "Y-SwPymjVjn2"
      },
      "source": [
        "2. Elas **não** podem ser modificadas (**imutáveis**)"
      ]
    },
    {
      "cell_type": "code",
      "execution_count": 10,
      "metadata": {
        "colab": {
          "base_uri": "https://localhost:8080/"
        },
        "id": "FHpxyB9hVjn3",
        "outputId": "5f0e21c1-102e-446a-ace1-de9e99978dba"
      },
      "outputs": [
        {
          "output_type": "execute_result",
          "data": {
            "text/plain": [
              "(1, 2, 3)"
            ]
          },
          "metadata": {},
          "execution_count": 10
        }
      ],
      "source": [
        "tupla_1"
      ]
    },
    {
      "cell_type": "code",
      "execution_count": 13,
      "metadata": {
        "colab": {
          "base_uri": "https://localhost:8080/",
          "height": 198
        },
        "id": "C5n6VksaVjn3",
        "outputId": "c51fbb55-f099-45fc-c681-e9ed3eb05eca"
      },
      "outputs": [
        {
          "output_type": "error",
          "ename": "TypeError",
          "evalue": "'tuple' object does not support item assignment",
          "traceback": [
            "\u001b[0;31m---------------------------------------------------------------------------\u001b[0m",
            "\u001b[0;31mTypeError\u001b[0m                                 Traceback (most recent call last)",
            "\u001b[0;32m<ipython-input-13-888e6481a188>\u001b[0m in \u001b[0;36m<cell line: 2>\u001b[0;34m()\u001b[0m\n\u001b[1;32m      1\u001b[0m \u001b[0;31m# isso é impossível e dará erro. Pq? pq tuplas são imutáveis, é diferente das listas\u001b[0m\u001b[0;34m\u001b[0m\u001b[0;34m\u001b[0m\u001b[0m\n\u001b[0;32m----> 2\u001b[0;31m \u001b[0mtupla_1\u001b[0m\u001b[0;34m[\u001b[0m\u001b[0;36m0\u001b[0m\u001b[0;34m]\u001b[0m \u001b[0;34m=\u001b[0m \u001b[0;36m10\u001b[0m\u001b[0;34m\u001b[0m\u001b[0;34m\u001b[0m\u001b[0m\n\u001b[0m",
            "\u001b[0;31mTypeError\u001b[0m: 'tuple' object does not support item assignment"
          ]
        }
      ],
      "source": [
        "# isso é impossível e dará erro. Pq? pq tuplas são imutáveis, é diferente das listas\n",
        "tupla_1[0] = 10"
      ]
    },
    {
      "cell_type": "markdown",
      "metadata": {
        "id": "6m5Gyb44Vjn4"
      },
      "source": [
        "#### Convertendo uma lista em tuplas e vice-versa"
      ]
    },
    {
      "cell_type": "code",
      "execution_count": 14,
      "metadata": {
        "colab": {
          "base_uri": "https://localhost:8080/"
        },
        "id": "9mCm5wNpVjn4",
        "outputId": "1076babe-87d8-4d7d-85cc-995377a114d9"
      },
      "outputs": [
        {
          "output_type": "stream",
          "name": "stdout",
          "text": [
            "['Mercúrio', 'Vênus', 'Terra', 'Marte', 'Júpiter', 'Saturno', 'Urano', 'Netuno']\n",
            "<class 'list'>\n"
          ]
        }
      ],
      "source": [
        "# aqui eu tenho uma lista. está sendo atribuída por colchetes\n",
        "planetas = ['Mercúrio', 'Vênus', 'Terra', 'Marte', 'Júpiter', 'Saturno', 'Urano', 'Netuno']\n",
        "print(planetas)\n",
        "# mostra o tipo de planetas\n",
        "print(type(planetas))"
      ]
    },
    {
      "cell_type": "code",
      "execution_count": 15,
      "metadata": {
        "colab": {
          "base_uri": "https://localhost:8080/"
        },
        "id": "Mxp_SZjuVjn4",
        "outputId": "9f141e9a-edc2-4de2-c0fd-c401772186c4"
      },
      "outputs": [
        {
          "output_type": "stream",
          "name": "stdout",
          "text": [
            "('Mercúrio', 'Vênus', 'Terra', 'Marte', 'Júpiter', 'Saturno', 'Urano', 'Netuno')\n",
            "<class 'tuple'>\n"
          ]
        }
      ],
      "source": [
        "# JÁ AQUI É UMA TUPLA. ESTOU TRANSFORMANDO PLANETAS, QUE É UMA LISTA, EM UMA TUPLA ATRAVÉS DA FUNÇÃO TUPLE(AQUI_O_NOME_DA_LISTA)\n",
        "planetas_tupla = tuple(planetas)\n",
        "print(planetas_tupla)\n",
        "print(type(planetas_tupla))"
      ]
    },
    {
      "cell_type": "code",
      "execution_count": 17,
      "metadata": {
        "colab": {
          "base_uri": "https://localhost:8080/"
        },
        "id": "8HNQdEOiVjn5",
        "outputId": "09e41622-7002-4053-fecf-34484b968fdc"
      },
      "outputs": [
        {
          "output_type": "stream",
          "name": "stdout",
          "text": [
            "['MERCÚRIO', 'Vênus', 'Terra', 'Marte', 'Júpiter', 'Saturno', 'Urano', 'Netuno']\n",
            "('Mercúrio', 'Vênus', 'Terra', 'Marte', 'Júpiter', 'Saturno', 'Urano', 'Netuno')\n"
          ]
        }
      ],
      "source": [
        "# AQUI EU VOU FAZER UMA MODIFICAÇÃO, POIS POSSO, JÁ QUE PLANETAS É UMA LISTA. É INTERESSANTE LEMBRAR QUE ISSO N]AO IRÁ ALTERAR A TUPLA\n",
        "planetas[0] = planetas[0].upper()\n",
        "print(planetas)\n",
        "print(planetas_tupla)"
      ]
    },
    {
      "cell_type": "code",
      "execution_count": 18,
      "metadata": {
        "colab": {
          "base_uri": "https://localhost:8080/",
          "height": 234
        },
        "id": "rwpLeqcRVjn5",
        "outputId": "72d8fec8-29e5-429b-88a0-9dda018c0a7f"
      },
      "outputs": [
        {
          "output_type": "error",
          "ename": "TypeError",
          "evalue": "'tuple' object does not support item assignment",
          "traceback": [
            "\u001b[0;31m---------------------------------------------------------------------------\u001b[0m",
            "\u001b[0;31mTypeError\u001b[0m                                 Traceback (most recent call last)",
            "\u001b[0;32m<ipython-input-18-17642dc8b219>\u001b[0m in \u001b[0;36m<cell line: 2>\u001b[0;34m()\u001b[0m\n\u001b[1;32m      1\u001b[0m \u001b[0;31m# O NEGÓCIO FICA DIFERENTE QUANDO EU TENTO FAZER UMA MODIFICAÇÃO IGUAL NA TUPLA, POIS TUPLA É IMUTÁVEL.\u001b[0m\u001b[0;34m\u001b[0m\u001b[0;34m\u001b[0m\u001b[0m\n\u001b[0;32m----> 2\u001b[0;31m \u001b[0mplanetas_tupla\u001b[0m\u001b[0;34m[\u001b[0m\u001b[0;36m0\u001b[0m\u001b[0;34m]\u001b[0m \u001b[0;34m=\u001b[0m \u001b[0mplanetas_tupla\u001b[0m\u001b[0;34m[\u001b[0m\u001b[0;36m0\u001b[0m\u001b[0;34m]\u001b[0m\u001b[0;34m.\u001b[0m\u001b[0mupper\u001b[0m\u001b[0;34m(\u001b[0m\u001b[0;34m)\u001b[0m\u001b[0;34m\u001b[0m\u001b[0;34m\u001b[0m\u001b[0m\n\u001b[0m\u001b[1;32m      3\u001b[0m \u001b[0mprint\u001b[0m\u001b[0;34m(\u001b[0m\u001b[0mplanetas\u001b[0m\u001b[0;34m)\u001b[0m\u001b[0;34m\u001b[0m\u001b[0;34m\u001b[0m\u001b[0m\n\u001b[1;32m      4\u001b[0m \u001b[0mprint\u001b[0m\u001b[0;34m(\u001b[0m\u001b[0mplanetas_tupla\u001b[0m\u001b[0;34m)\u001b[0m\u001b[0;34m\u001b[0m\u001b[0;34m\u001b[0m\u001b[0m\n",
            "\u001b[0;31mTypeError\u001b[0m: 'tuple' object does not support item assignment"
          ]
        }
      ],
      "source": [
        "# O NEGÓCIO FICA DIFERENTE QUANDO EU TENTO FAZER UMA MODIFICAÇÃO IGUAL NA TUPLA, POIS TUPLA É IMUTÁVEL.\n",
        "planetas_tupla[0] = planetas_tupla[0].upper()\n",
        "print(planetas)\n",
        "print(planetas_tupla)"
      ]
    },
    {
      "cell_type": "code",
      "execution_count": 20,
      "metadata": {
        "colab": {
          "base_uri": "https://localhost:8080/"
        },
        "id": "H0z_iKl9Vjn6",
        "outputId": "54c64354-06de-4d23-c931-7ddf24b88325"
      },
      "outputs": [
        {
          "output_type": "stream",
          "name": "stdout",
          "text": [
            "[1, 2, 3]\n",
            "(1, 2, 3)\n"
          ]
        }
      ],
      "source": [
        "# converter uma tupla para uma lista - BASTA APENAS USAR A FUNÇÃO LIST() E PÔR DENTRO DESSES PARÊNTESES O NOME DA TUPLA\n",
        "lista_1 = list(tupla_1)\n",
        "print(lista_1)\n",
        "print(tupla_1)"
      ]
    },
    {
      "cell_type": "markdown",
      "metadata": {
        "id": "n_LUffE5Vjn6"
      },
      "source": [
        "### Descompactando tuplas"
      ]
    },
    {
      "cell_type": "code",
      "execution_count": null,
      "metadata": {
        "id": "iaXY4aErVjn6",
        "outputId": "16c3a821-40cb-4822-db80-817088e050a3"
      },
      "outputs": [
        {
          "name": "stdout",
          "output_type": "stream",
          "text": [
            "(5.0, 10, 2)\n",
            "5.0\n",
            "10\n",
            "2\n",
            "(5.0, 10, 2)\n",
            "6.0\n",
            "10\n",
            "2\n"
          ]
        }
      ],
      "source": [
        "# continuar\n",
        "notas_do_semestre = (5.0, 10, 2)\n",
        "prova_1, prova_2, projeto = notas_do_semestre\n",
        "\n",
        "print(notas_do_semestre)\n",
        "print(prova_1)\n",
        "print(prova_2)\n",
        "print(projeto)\n",
        "\n",
        "prova_1 += 1\n",
        "\n",
        "print(notas_do_semestre)\n",
        "print(prova_1)\n",
        "print(prova_2)\n",
        "print(projeto)"
      ]
    },
    {
      "cell_type": "markdown",
      "metadata": {
        "id": "On2oPeXSVjn6"
      },
      "source": [
        "### Zip: Compactando listas"
      ]
    },
    {
      "cell_type": "code",
      "execution_count": null,
      "metadata": {
        "id": "Goc02KiUVjn7",
        "outputId": "d4378bc0-ed4d-40c7-de02-3897b76a26f2"
      },
      "outputs": [
        {
          "name": "stdout",
          "output_type": "stream",
          "text": [
            "['Ônix', 'Gol', 'Uno']\n",
            "[50000, 30000, 20000]\n"
          ]
        }
      ],
      "source": [
        "carros = ['Ônix', 'Gol', 'Uno']\n",
        "precos = [50000, 30000, 20000]\n",
        "\n",
        "print(carros)\n",
        "print(precos)"
      ]
    },
    {
      "cell_type": "code",
      "execution_count": null,
      "metadata": {
        "id": "hgUdMz-gVjn7",
        "outputId": "e7d4d7c7-f0c4-4250-b8da-d3d4712e3fb0"
      },
      "outputs": [
        {
          "data": {
            "text/plain": [
              "<zip at 0x7f81cfe89c80>"
            ]
          },
          "execution_count": 27,
          "metadata": {},
          "output_type": "execute_result"
        }
      ],
      "source": [
        "carros_com_precos_zip = zip(carros, precos)\n",
        "carros_com_precos_zip"
      ]
    },
    {
      "cell_type": "code",
      "execution_count": null,
      "metadata": {
        "id": "S8oZ5HujVjn8",
        "outputId": "a54607b1-aff8-48c5-8fe5-62f7f3d846ae"
      },
      "outputs": [
        {
          "data": {
            "text/plain": [
              "[('Ônix', 50000), ('Gol', 30000), ('Uno', 20000)]"
            ]
          },
          "execution_count": 28,
          "metadata": {},
          "output_type": "execute_result"
        }
      ],
      "source": [
        "carros_com_precos = list(carros_com_precos_zip)\n",
        "carros_com_precos"
      ]
    },
    {
      "cell_type": "code",
      "execution_count": null,
      "metadata": {
        "id": "7h6_vakDVjn8",
        "outputId": "9a225a6b-cfeb-4568-ecaf-ff327e25dfd8"
      },
      "outputs": [
        {
          "name": "stdout",
          "output_type": "stream",
          "text": [
            "('Ônix', 50000)\n",
            "('Gol', 30000)\n",
            "('Uno', 20000)\n"
          ]
        }
      ],
      "source": [
        "for x in carros_com_precos:\n",
        "    print(x)"
      ]
    },
    {
      "cell_type": "code",
      "execution_count": null,
      "metadata": {
        "id": "s4hjHnzyVjn8",
        "outputId": "1df4776c-66a9-4dfc-f97e-246d69bbd7cc"
      },
      "outputs": [
        {
          "name": "stdout",
          "output_type": "stream",
          "text": [
            "Ônix\n",
            "50000\n",
            "Gol\n",
            "30000\n",
            "Uno\n",
            "20000\n"
          ]
        }
      ],
      "source": [
        "for nome, preco in carros_com_precos:\n",
        "    print(nome)\n",
        "    print(preco)"
      ]
    },
    {
      "cell_type": "code",
      "execution_count": null,
      "metadata": {
        "id": "jVs0_60aVjn9",
        "outputId": "20394758-c954-4067-d322-653e620cee25"
      },
      "outputs": [
        {
          "name": "stdout",
          "output_type": "stream",
          "text": [
            "Ônix\n",
            "50000\n",
            "Gol\n",
            "30000\n",
            "Uno\n",
            "20000\n"
          ]
        }
      ],
      "source": [
        "for nome, preco in zip(carros, precos):\n",
        "    print(nome)\n",
        "    print(preco)"
      ]
    }
  ],
  "metadata": {
    "kernelspec": {
      "display_name": "Python 3",
      "language": "python",
      "name": "python3"
    },
    "language_info": {
      "codemirror_mode": {
        "name": "ipython",
        "version": 3
      },
      "file_extension": ".py",
      "mimetype": "text/x-python",
      "name": "python",
      "nbconvert_exporter": "python",
      "pygments_lexer": "ipython3",
      "version": "3.8.5"
    },
    "colab": {
      "provenance": [],
      "include_colab_link": true
    }
  },
  "nbformat": 4,
  "nbformat_minor": 0
}