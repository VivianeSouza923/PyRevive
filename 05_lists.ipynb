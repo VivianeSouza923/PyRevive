{
  "cells": [
    {
      "cell_type": "markdown",
      "metadata": {
        "id": "view-in-github",
        "colab_type": "text"
      },
      "source": [
        "<a href=\"https://colab.research.google.com/github/VivianeSouza923/PyRevive/blob/main/05_lists.ipynb\" target=\"_parent\"><img src=\"https://colab.research.google.com/assets/colab-badge.svg\" alt=\"Open In Colab\"/></a>"
      ]
    },
    {
      "cell_type": "markdown",
      "metadata": {
        "id": "eTAPFhEAxE4L"
      },
      "source": [
        "## **Python Essencial para Data Science**\n",
        "**Prof. Dr. Samuel Martins (@hisamuka @xavecoding)** <br/>\n",
        "xavecoding: https://youtube.com/c/xavecoding <br/><br/>\n",
        "\n",
        "<a rel=\"license\" href=\"http://creativecommons.org/licenses/by-nc-sa/4.0/\"><img alt=\"Creative Commons License\" style=\"border-width:0\" src=\"https://i.creativecommons.org/l/by-nc-sa/4.0/88x31.png\" /></a><br />This work is licensed under a <a rel=\"license\" href=\"http://creativecommons.org/licenses/by-nc-sa/4.0/\">Creative Commons Attribution-NonCommercial-ShareAlike 4.0 International License</a>."
      ]
    },
    {
      "cell_type": "markdown",
      "metadata": {
        "id": "2x5KVQE1xE4M"
      },
      "source": [
        "## Lists\n",
        "Uma lista em Python representa uma **sequência de elementos _ordenados_**."
      ]
    },
    {
      "cell_type": "code",
      "execution_count": 1,
      "metadata": {
        "colab": {
          "base_uri": "https://localhost:8080/"
        },
        "id": "KUyUjmnZxE4M",
        "outputId": "abb890ea-bff3-4507-d2bd-3c03e83c365e"
      },
      "outputs": [
        {
          "output_type": "execute_result",
          "data": {
            "text/plain": [
              "[20, 11, 60, 5, 44, 28]"
            ]
          },
          "metadata": {},
          "execution_count": 1
        }
      ],
      "source": [
        "# criar uma lista em Python é simples, basta botar os elementos dentro de colchetes e atribui-lo a uma variável\n",
        "# nome_Da_variavel = [elemento1, elemento2, ..., elementon]\n",
        "numeros_da_mega_sena = [20, 11, 60, 5, 44, 28]\n",
        "# isso aqui print como lista mesmo, dentro de colchetes\n",
        "numeros_da_mega_sena"
      ]
    },
    {
      "cell_type": "code",
      "execution_count": 2,
      "metadata": {
        "colab": {
          "base_uri": "https://localhost:8080/"
        },
        "id": "I4relgsixE4N",
        "outputId": "6bf212a0-3117-49af-c3e0-9c10f786d8fe"
      },
      "outputs": [
        {
          "output_type": "execute_result",
          "data": {
            "text/plain": [
              "list"
            ]
          },
          "metadata": {},
          "execution_count": 2
        }
      ],
      "source": [
        "# ao verificarmos o tipo da variavel que usamos para receber a lista, vemos que ela é do tipo \"list\", normal\n",
        "type(numeros_da_mega_sena)"
      ]
    },
    {
      "cell_type": "markdown",
      "metadata": {
        "id": "U4S6fsODxE4N"
      },
      "source": [
        "A **ordenação** dos elementos refere-se a seus _posicionamentos_ na lista, ou seja, o primeiro elemento da lista é o 20, o segundo é o 11, e assim por diante. <br/>\n",
        "A **ordem** dos valores/conteúdos é outra coisa."
      ]
    },
    {
      "cell_type": "code",
      "execution_count": 3,
      "metadata": {
        "colab": {
          "base_uri": "https://localhost:8080/"
        },
        "id": "GJsdqsf8xE4O",
        "outputId": "04ae8f91-e413-4510-d86f-3b1c765ec2a2"
      },
      "outputs": [
        {
          "output_type": "execute_result",
          "data": {
            "text/plain": [
              "5"
            ]
          },
          "metadata": {},
          "execution_count": 3
        }
      ],
      "source": [
        "# os índices da lista começam em 0 e vão até n-1, onde n é o número de elementos da lista (tamanho da lista)\n",
        "#nome_da_variavel[numero_da_posição_que_quero]\n",
        "numeros_da_mega_sena[3]"
      ]
    },
    {
      "cell_type": "markdown",
      "metadata": {
        "id": "DNW4wXqdxE4O"
      },
      "source": [
        "#### Listas vazias"
      ]
    },
    {
      "cell_type": "code",
      "execution_count": 4,
      "metadata": {
        "colab": {
          "base_uri": "https://localhost:8080/"
        },
        "id": "lEm3En6IxE4O",
        "outputId": "d5360897-e463-461a-ed9e-1e3658c1ad4e"
      },
      "outputs": [
        {
          "output_type": "execute_result",
          "data": {
            "text/plain": [
              "[]"
            ]
          },
          "metadata": {},
          "execution_count": 4
        }
      ],
      "source": [
        "# para criar listas vazias, basta atribuir um par de colchetes a uma variável. Como é vazio, não precisa colocar nada dentro dos colchetes.\n",
        "lista_vazia_1 = []\n",
        "lista_vazia_1"
      ]
    },
    {
      "cell_type": "code",
      "execution_count": 5,
      "metadata": {
        "colab": {
          "base_uri": "https://localhost:8080/"
        },
        "id": "jzo80l8gxE4O",
        "outputId": "556864ea-b036-47b0-840b-1f31f9efecdb"
      },
      "outputs": [
        {
          "output_type": "execute_result",
          "data": {
            "text/plain": [
              "[]"
            ]
          },
          "metadata": {},
          "execution_count": 5
        }
      ],
      "source": [
        "# outra opção é usando a função list, só atribuir list() a uma variável\n",
        "lista_vazia_2 = list()\n",
        "lista_vazia_2"
      ]
    },
    {
      "cell_type": "markdown",
      "metadata": {
        "id": "htPUcH7mxE4O"
      },
      "source": [
        "#### Listas podem ter elementos de _qualquer tipo_"
      ]
    },
    {
      "cell_type": "code",
      "execution_count": 6,
      "metadata": {
        "colab": {
          "base_uri": "https://localhost:8080/"
        },
        "id": "tMYm9swrxE4O",
        "outputId": "dcab5eb5-9ef0-4186-9c4e-632c5c59871a"
      },
      "outputs": [
        {
          "output_type": "execute_result",
          "data": {
            "text/plain": [
              "['Mercúrio',\n",
              " 'Vênus',\n",
              " 'Terra',\n",
              " 'Marte',\n",
              " 'Júpiter',\n",
              " 'Saturno',\n",
              " 'Urano',\n",
              " 'Netuno']"
            ]
          },
          "metadata": {},
          "execution_count": 6
        }
      ],
      "source": [
        "# elementos do tipo String\n",
        "planetas = ['Mercúrio', 'Vênus', 'Terra', 'Marte', 'Júpiter', 'Saturno', 'Urano', 'Netuno']\n",
        "planetas"
      ]
    },
    {
      "cell_type": "code",
      "execution_count": 7,
      "metadata": {
        "colab": {
          "base_uri": "https://localhost:8080/"
        },
        "id": "w9ujq1h9xE4O",
        "outputId": "43cc1769-5807-4b2b-a057-d029901b62b3"
      },
      "outputs": [
        {
          "output_type": "stream",
          "name": "stdout",
          "text": [
            "['Mercúrio', 'Vênus', 'Terra', 'Marte', 'Júpiter', 'Saturno', 'Urano', 'Netuno']\n"
          ]
        }
      ],
      "source": [
        "# printando a lista\n",
        "print(planetas)"
      ]
    },
    {
      "cell_type": "markdown",
      "metadata": {
        "id": "T8CSNeD_xE4P"
      },
      "source": [
        "#### Listas podem elementos de  _tipos diferentes_:"
      ]
    },
    {
      "cell_type": "code",
      "execution_count": 8,
      "metadata": {
        "colab": {
          "base_uri": "https://localhost:8080/"
        },
        "id": "8FHJO4hgxE4P",
        "outputId": "da0ad2d4-c96b-4be9-f052-8972b1063283"
      },
      "outputs": [
        {
          "output_type": "execute_result",
          "data": {
            "text/plain": [
              "['Mercúrio',\n",
              " 'Vênus',\n",
              " 'Terra',\n",
              " 'Marte',\n",
              " 'Júpiter',\n",
              " 'Saturno',\n",
              " 'Urano',\n",
              " 'Netuno',\n",
              " 1,\n",
              " 2,\n",
              " 3.0]"
            ]
          },
          "metadata": {},
          "execution_count": 8
        }
      ],
      "source": [
        "# lista mesclando elementos do tipo String, do tipo int e do tipo float\n",
        "planetas_e_numeros = ['Mercúrio', 'Vênus', 'Terra', 'Marte', 'Júpiter', 'Saturno', 'Urano', 'Netuno', 1, 2, 3.0]\n",
        "planetas_e_numeros"
      ]
    },
    {
      "cell_type": "markdown",
      "metadata": {
        "id": "Puchrp_JxE4P"
      },
      "source": [
        "#### Podemos ter listas de listas"
      ]
    },
    {
      "cell_type": "code",
      "execution_count": 9,
      "metadata": {
        "id": "HNWmlbzlxE4P"
      },
      "outputs": [],
      "source": [
        "# aqui eu tenho uma lista que tem 4 listas dentro\n",
        "matriz = [\n",
        "    [1, 2, 3],    # [0] ==> primeira linha da matriz\n",
        "    [4, 5, 6],    # [1] ==> segunda linha da matriz\n",
        "    [7, 8, 9],    # [2] ==> terceira linha da matriz\n",
        "    [10, 11, 12]  # [3] ==> quarta linha da matriz\n",
        "]"
      ]
    },
    {
      "cell_type": "code",
      "execution_count": 10,
      "metadata": {
        "colab": {
          "base_uri": "https://localhost:8080/"
        },
        "id": "1IKR0NOlxE4P",
        "outputId": "f5d460d6-b085-4070-b0e6-5338d553291c"
      },
      "outputs": [
        {
          "output_type": "execute_result",
          "data": {
            "text/plain": [
              "[[1, 2, 3], [4, 5, 6], [7, 8, 9], [10, 11, 12]]"
            ]
          },
          "metadata": {},
          "execution_count": 10
        }
      ],
      "source": [
        "# mostrando a lista como um todo\n",
        "matriz"
      ]
    },
    {
      "cell_type": "code",
      "execution_count": 11,
      "metadata": {
        "colab": {
          "base_uri": "https://localhost:8080/"
        },
        "id": "LrBXw2_SxE4P",
        "outputId": "86c2b1be-6329-4a5d-db20-bce566e3aba2"
      },
      "outputs": [
        {
          "output_type": "execute_result",
          "data": {
            "text/plain": [
              "[1, 2, 3]"
            ]
          },
          "metadata": {},
          "execution_count": 11
        }
      ],
      "source": [
        "# mostrando o índice 0 da lista, o primeiro elemento. Ora, se é uma lista de listas, o primeiro elemento (assim como os outros) tem que que ser uma lista, certo?\n",
        "matriz[0]  # imprime a primeira linha da matriz"
      ]
    },
    {
      "cell_type": "code",
      "execution_count": 12,
      "metadata": {
        "colab": {
          "base_uri": "https://localhost:8080/"
        },
        "id": "myRaSiVgxE4P",
        "outputId": "2a033ce7-744a-4301-f1ed-de94d11f9b53"
      },
      "outputs": [
        {
          "output_type": "execute_result",
          "data": {
            "text/plain": [
              "list"
            ]
          },
          "metadata": {},
          "execution_count": 12
        }
      ],
      "source": [
        "# o tipo de uma lista de listas será \"list\", do mesmo jeito\n",
        "type(matriz)"
      ]
    },
    {
      "cell_type": "code",
      "execution_count": 13,
      "metadata": {
        "colab": {
          "base_uri": "https://localhost:8080/"
        },
        "id": "ZqEALhpdxE4P",
        "outputId": "ffcff506-050a-4256-e533-b792249d898e"
      },
      "outputs": [
        {
          "output_type": "execute_result",
          "data": {
            "text/plain": [
              "list"
            ]
          },
          "metadata": {},
          "execution_count": 13
        }
      ],
      "source": [
        "# tipo da lista que tem dentro da lista. Não tem como ser de outro tipo, já que é uma lista normal, certo?\n",
        "type(matriz[0])"
      ]
    },
    {
      "cell_type": "code",
      "execution_count": 14,
      "metadata": {
        "colab": {
          "base_uri": "https://localhost:8080/"
        },
        "id": "7jM9cKOExE4P",
        "outputId": "385c46f9-4abe-4e29-aaf3-721a2a30a7f5"
      },
      "outputs": [
        {
          "output_type": "stream",
          "name": "stdout",
          "text": [
            "[1, 2, 3]\n",
            "[4, 5, 6]\n",
            "[7, 8, 9]\n",
            "[10, 11, 12]\n"
          ]
        }
      ],
      "source": [
        "# trecho de código que imprime a matriz de um jeito mais \"bonitinho\"\n",
        "for linha in matriz:\n",
        "    print(linha)  # linha é uma lista de elementos"
      ]
    },
    {
      "cell_type": "code",
      "execution_count": 15,
      "metadata": {
        "colab": {
          "base_uri": "https://localhost:8080/"
        },
        "id": "Qi83hdlBxE4P",
        "outputId": "c5477732-7b4e-4067-a6b7-91492501fbf7"
      },
      "outputs": [
        {
          "output_type": "execute_result",
          "data": {
            "text/plain": [
              "6"
            ]
          },
          "metadata": {},
          "execution_count": 15
        }
      ],
      "source": [
        "# para acessar um elemento de uma lista da lista (matriz)\n",
        "#nome_da_matriz[linha][coluna]\n",
        "matriz[1][2]  # arcessa o elemento que está na linha 1, coluna 2 da matriz"
      ]
    },
    {
      "cell_type": "markdown",
      "metadata": {
        "id": "iy6oO0toxE4P"
      },
      "source": [
        "### Indexação\n",
        "\n",
        "Cada elemento de uma lista é indexado a uma posição. <br/>\n",
        "Podemos acessar um elemento passando seu índice com []:"
      ]
    },
    {
      "cell_type": "code",
      "execution_count": 16,
      "metadata": {
        "colab": {
          "base_uri": "https://localhost:8080/"
        },
        "id": "ySETG9QCxE4P",
        "outputId": "eb661f4c-975e-491b-b781-949887a6f3f0"
      },
      "outputs": [
        {
          "output_type": "stream",
          "name": "stdout",
          "text": [
            "['Mercúrio', 'Vênus', 'Terra', 'Marte', 'Júpiter', 'Saturno', 'Urano', 'Netuno']\n"
          ]
        }
      ],
      "source": [
        "print(planetas)"
      ]
    },
    {
      "cell_type": "code",
      "execution_count": 17,
      "metadata": {
        "colab": {
          "base_uri": "https://localhost:8080/",
          "height": 35
        },
        "id": "m_e7GhyjxE4Q",
        "outputId": "215e5ba1-0d49-4e02-a1bd-410f9fb9b79e"
      },
      "outputs": [
        {
          "output_type": "execute_result",
          "data": {
            "text/plain": [
              "'Mercúrio'"
            ],
            "application/vnd.google.colaboratory.intrinsic+json": {
              "type": "string"
            }
          },
          "metadata": {},
          "execution_count": 17
        }
      ],
      "source": [
        "# primeiro elemento da lista planetas\n",
        "planetas[0]"
      ]
    },
    {
      "cell_type": "code",
      "execution_count": 18,
      "metadata": {
        "colab": {
          "base_uri": "https://localhost:8080/",
          "height": 35
        },
        "id": "GT8scfKvxE4Q",
        "outputId": "977a32aa-4db7-4028-b845-db8bf81dcfd7"
      },
      "outputs": [
        {
          "output_type": "execute_result",
          "data": {
            "text/plain": [
              "'Terra'"
            ],
            "application/vnd.google.colaboratory.intrinsic+json": {
              "type": "string"
            }
          },
          "metadata": {},
          "execution_count": 18
        }
      ],
      "source": [
        "# terceiro elemento da lista planetas\n",
        "planetas[2]"
      ]
    },
    {
      "cell_type": "code",
      "execution_count": 19,
      "metadata": {
        "colab": {
          "base_uri": "https://localhost:8080/"
        },
        "id": "1H9rUdVyxE4Q",
        "outputId": "f5d9bca8-a3bf-4c87-b427-6af705d183a2"
      },
      "outputs": [
        {
          "output_type": "execute_result",
          "data": {
            "text/plain": [
              "8"
            ]
          },
          "metadata": {},
          "execution_count": 19
        }
      ],
      "source": [
        "# checa o tamanho da lista (o número de elementos da lista)\n",
        "len(planetas)"
      ]
    },
    {
      "cell_type": "code",
      "execution_count": 20,
      "metadata": {
        "colab": {
          "base_uri": "https://localhost:8080/",
          "height": 35
        },
        "id": "R8Ek9Vz6xE4Q",
        "outputId": "b8d7d69b-2594-4d30-a6bc-2d905f648042"
      },
      "outputs": [
        {
          "output_type": "execute_result",
          "data": {
            "text/plain": [
              "'Netuno'"
            ],
            "application/vnd.google.colaboratory.intrinsic+json": {
              "type": "string"
            }
          },
          "metadata": {},
          "execution_count": 20
        }
      ],
      "source": [
        "# o oitavo elemento da lista\n",
        "planetas[7]"
      ]
    },
    {
      "cell_type": "code",
      "execution_count": 21,
      "metadata": {
        "colab": {
          "base_uri": "https://localhost:8080/",
          "height": 194
        },
        "id": "kLUdHLcnxE4Q",
        "outputId": "00a7bc1d-6d55-4612-9495-b4a42665214b"
      },
      "outputs": [
        {
          "output_type": "error",
          "ename": "IndexError",
          "evalue": "ignored",
          "traceback": [
            "\u001b[0;31m---------------------------------------------------------------------------\u001b[0m",
            "\u001b[0;31mIndexError\u001b[0m                                Traceback (most recent call last)",
            "\u001b[0;32m<ipython-input-21-e95cad8187c3>\u001b[0m in \u001b[0;36m<cell line: 2>\u001b[0;34m()\u001b[0m\n\u001b[1;32m      1\u001b[0m \u001b[0;31m# aqui vai dar erro porque a lista não tem 9 elementos, somente 8.\u001b[0m\u001b[0;34m\u001b[0m\u001b[0;34m\u001b[0m\u001b[0m\n\u001b[0;32m----> 2\u001b[0;31m \u001b[0mplanetas\u001b[0m\u001b[0;34m[\u001b[0m\u001b[0;36m8\u001b[0m\u001b[0;34m]\u001b[0m\u001b[0;34m\u001b[0m\u001b[0;34m\u001b[0m\u001b[0m\n\u001b[0m",
            "\u001b[0;31mIndexError\u001b[0m: list index out of range"
          ]
        }
      ],
      "source": [
        "# aqui vai dar erro porque a lista não tem 9 elementos, somente 8.\n",
        "planetas[8]"
      ]
    },
    {
      "cell_type": "markdown",
      "metadata": {
        "id": "whP-YOJGxE4Q"
      },
      "source": [
        "Listas em Python suportam **índices negativos**, cuja ordem de indexação é o contrário, começando do final para o início:"
      ]
    },
    {
      "cell_type": "code",
      "execution_count": 22,
      "metadata": {
        "colab": {
          "base_uri": "https://localhost:8080/",
          "height": 35
        },
        "id": "bhr1vtz4xE4Q",
        "outputId": "5c8dc3bb-d692-4bd8-da67-74085a9ac716"
      },
      "outputs": [
        {
          "output_type": "execute_result",
          "data": {
            "text/plain": [
              "'Netuno'"
            ],
            "application/vnd.google.colaboratory.intrinsic+json": {
              "type": "string"
            }
          },
          "metadata": {},
          "execution_count": 22
        }
      ],
      "source": [
        "# o -1 será o último elemento da lista\n",
        "planetas[-1]  # acessando o último elemento da lista"
      ]
    },
    {
      "cell_type": "code",
      "execution_count": 23,
      "metadata": {
        "colab": {
          "base_uri": "https://localhost:8080/",
          "height": 35
        },
        "id": "QHeBGipyxE4Q",
        "outputId": "6b4dc7a5-854b-45e5-cb4c-d056728a9331"
      },
      "outputs": [
        {
          "output_type": "execute_result",
          "data": {
            "text/plain": [
              "'Urano'"
            ],
            "application/vnd.google.colaboratory.intrinsic+json": {
              "type": "string"
            }
          },
          "metadata": {},
          "execution_count": 23
        }
      ],
      "source": [
        "planetas[-2]  # acessando o penúltimo elemento da lista"
      ]
    },
    {
      "cell_type": "markdown",
      "metadata": {
        "id": "dALTqX0KxE4Q"
      },
      "source": [
        "Podemos também acessar o _último elemento_ da lista desta maneira:"
      ]
    },
    {
      "cell_type": "code",
      "execution_count": 24,
      "metadata": {
        "colab": {
          "base_uri": "https://localhost:8080/"
        },
        "id": "h5VAkH4NxE4Q",
        "outputId": "22fe2db9-4a2d-42fd-85b6-102472e853e5"
      },
      "outputs": [
        {
          "output_type": "execute_result",
          "data": {
            "text/plain": [
              "8"
            ]
          },
          "metadata": {},
          "execution_count": 24
        }
      ],
      "source": [
        "# tamanho da lista\n",
        "len(planetas)"
      ]
    },
    {
      "cell_type": "code",
      "execution_count": 25,
      "metadata": {
        "colab": {
          "base_uri": "https://localhost:8080/",
          "height": 35
        },
        "id": "b3vfeTeVxE4Q",
        "outputId": "53483ed6-5f5e-48dc-c9ca-8993241ecd44"
      },
      "outputs": [
        {
          "output_type": "execute_result",
          "data": {
            "text/plain": [
              "'Netuno'"
            ],
            "application/vnd.google.colaboratory.intrinsic+json": {
              "type": "string"
            }
          },
          "metadata": {},
          "execution_count": 25
        }
      ],
      "source": [
        "# índice = tamanho da lista - 1\n",
        "planetas[len(planetas) - 1]"
      ]
    },
    {
      "cell_type": "markdown",
      "metadata": {
        "id": "txhe2X9AxE4Q"
      },
      "source": [
        "Inline-style:\n",
        "![](https://github.com/VivianeSouza923/PyRevive/blob/main/imagens/exemplo_lista_indices.png?raw=1)"
      ]
    },
    {
      "cell_type": "markdown",
      "metadata": {
        "id": "h96BQEG6xE4Q"
      },
      "source": [
        "### Slicing (fatiamento)\n",
        "Podemos retornar **uma cópia** dos elementos de um **intervalo contínuo** de uma lista."
      ]
    },
    {
      "cell_type": "code",
      "execution_count": 26,
      "metadata": {
        "colab": {
          "base_uri": "https://localhost:8080/"
        },
        "id": "E4lrO2hmxE4R",
        "outputId": "793bb77b-fed8-4383-e19e-4fb6687d5355"
      },
      "outputs": [
        {
          "output_type": "execute_result",
          "data": {
            "text/plain": [
              "['Mercúrio', 'Vênus', 'Terra']"
            ]
          },
          "metadata": {},
          "execution_count": 26
        }
      ],
      "source": [
        "# Quais são os 3 primeiros elementos (planetas) da nossa lista?\n",
        "planetas[0:3]  # 0:3 ==> gera o intervalo [0, 3) ===> [0, 1, 2]"
      ]
    },
    {
      "cell_type": "markdown",
      "metadata": {
        "id": "qeopxR7WxE4R"
      },
      "source": [
        "`planetas[0:3]` é nosso jeito de consultar os elementos da lista `planetas` do índice 0 até o índice 3 (sem incluí-lo)."
      ]
    },
    {
      "cell_type": "markdown",
      "metadata": {
        "id": "qH2ihu9sxE4R"
      },
      "source": [
        "#### Entendendo os índices de um Intervalo\n",
        "Um intervalo em python sempre **inclui** o número passado como **limite inferior** e *exclui* o número do *limite superior* do intervalo.\n",
        "\n",
        "`[10:15]` são os números do intervalo [10, 15), ou seja, [10, 11, 12, 13, 14]"
      ]
    },
    {
      "cell_type": "markdown",
      "metadata": {
        "id": "M9MR2JpaxE4R"
      },
      "source": [
        "#### De volta ao slicing"
      ]
    },
    {
      "cell_type": "markdown",
      "metadata": {
        "id": "pfIcrVYAxE4R"
      },
      "source": [
        "Os índices iniciais e finais do intervalo do _slicing_ são **opcionais**.\n",
        "\n",
        "Se não informarmos o _índice inicial_, o valor 0 é assumido:"
      ]
    },
    {
      "cell_type": "code",
      "execution_count": 27,
      "metadata": {
        "colab": {
          "base_uri": "https://localhost:8080/"
        },
        "id": "hYMf_L1uxE4S",
        "outputId": "6b02a302-ee1c-4344-8fd2-92a699a6cb0a"
      },
      "outputs": [
        {
          "output_type": "stream",
          "name": "stdout",
          "text": [
            "['Mercúrio', 'Vênus', 'Terra', 'Marte', 'Júpiter', 'Saturno', 'Urano', 'Netuno']\n"
          ]
        }
      ],
      "source": [
        "print(planetas)"
      ]
    },
    {
      "cell_type": "code",
      "execution_count": 28,
      "metadata": {
        "colab": {
          "base_uri": "https://localhost:8080/"
        },
        "id": "0qLm5irOxE4S",
        "outputId": "82a78e47-1e22-4cb2-d409-773d64aa15ec"
      },
      "outputs": [
        {
          "output_type": "execute_result",
          "data": {
            "text/plain": [
              "['Mercúrio', 'Vênus', 'Terra']"
            ]
          },
          "metadata": {},
          "execution_count": 28
        }
      ],
      "source": [
        "# Quais são os 3 primeiros elementos (planetas) da nossa lista?\n",
        "planetas[:3]  # retorna os elements do intervalo [0, 3) ==> [0, 1, 2]"
      ]
    },
    {
      "cell_type": "markdown",
      "metadata": {
        "id": "hMTbzjFAxE4S"
      },
      "source": [
        "Se ignorarmos o _índice final_, é assumido o _tamanho da lista_ `len(lista)`:"
      ]
    },
    {
      "cell_type": "code",
      "execution_count": 29,
      "metadata": {
        "colab": {
          "base_uri": "https://localhost:8080/"
        },
        "id": "EKN3oAhwxE4S",
        "outputId": "6bb40f50-ebea-487b-eeb6-bdb1aa6e9e3a"
      },
      "outputs": [
        {
          "output_type": "execute_result",
          "data": {
            "text/plain": [
              "['Marte', 'Júpiter', 'Saturno', 'Urano', 'Netuno']"
            ]
          },
          "metadata": {},
          "execution_count": 29
        }
      ],
      "source": [
        "# retorna todos os elementos do intervalo [3, len(planetas)) ==> 3, 4, 5, 6, 7\n",
        "# outra forma de pensar, considera todos os elementos da lista a partir do índice [3] em diante\n",
        "planetas[3:]"
      ]
    },
    {
      "cell_type": "markdown",
      "metadata": {
        "id": "efaTQg6axE4S"
      },
      "source": [
        "Podemos também fazer o slicing com **índices negativos**:"
      ]
    },
    {
      "cell_type": "code",
      "execution_count": 30,
      "metadata": {
        "colab": {
          "base_uri": "https://localhost:8080/"
        },
        "id": "7y-OAzuGxE4S",
        "outputId": "64ba8159-a9ac-44ce-f69f-aab2b65f700a"
      },
      "outputs": [
        {
          "output_type": "execute_result",
          "data": {
            "text/plain": [
              "['Vênus', 'Terra', 'Marte', 'Júpiter', 'Saturno', 'Urano']"
            ]
          },
          "metadata": {},
          "execution_count": 30
        }
      ],
      "source": [
        "# 1:-1 ==> [1, -1) ==> [1, len(planetas)-1) ==> [1, 7)\n",
        "planetas[1:-1]"
      ]
    },
    {
      "cell_type": "markdown",
      "metadata": {
        "id": "4ohT8kmYxE4S"
      },
      "source": [
        "`planetas[1:-1]` considera o intervalo que vai do índice [1], o **incluindo**, até o índice [-1] ou [len(planetas) - 1], no exemplo é o índice [7], o **excluindo**. <br/>\n",
        "Portanto, o intervalo retornado contém os índices [1, 2, 3, 4, 5, 6]."
      ]
    },
    {
      "cell_type": "markdown",
      "metadata": {
        "id": "OIf3YvxHxE4T"
      },
      "source": [
        "<br/>"
      ]
    },
    {
      "cell_type": "markdown",
      "metadata": {
        "id": "j4RKatKKxE4T"
      },
      "source": [
        "Outro exemplo:"
      ]
    },
    {
      "cell_type": "code",
      "execution_count": 31,
      "metadata": {
        "colab": {
          "base_uri": "https://localhost:8080/"
        },
        "id": "UUGqXDUTxE4T",
        "outputId": "6565c18a-59f6-4d91-af80-b73f567bede9"
      },
      "outputs": [
        {
          "output_type": "stream",
          "name": "stdout",
          "text": [
            "['Mercúrio', 'Vênus', 'Terra', 'Marte', 'Júpiter', 'Saturno', 'Urano', 'Netuno']\n"
          ]
        }
      ],
      "source": [
        "print(planetas)"
      ]
    },
    {
      "cell_type": "code",
      "execution_count": 32,
      "metadata": {
        "colab": {
          "base_uri": "https://localhost:8080/"
        },
        "id": "fbRWghLKxE4T",
        "outputId": "ecb5ca1c-1ad2-4bae-db36-d23769a33711"
      },
      "outputs": [
        {
          "output_type": "execute_result",
          "data": {
            "text/plain": [
              "['Saturno', 'Urano', 'Netuno']"
            ]
          },
          "metadata": {},
          "execution_count": 32
        }
      ],
      "source": [
        "# vai do -3 até o final da lista\n",
        "planetas[-3:]"
      ]
    },
    {
      "cell_type": "markdown",
      "metadata": {
        "id": "krPDle5-xE4T"
      },
      "source": [
        "Vamos entender o intervalo `[-3:]`.\n",
        "\n",
        "O índice `[-3]` corresponde ao índice `[len(planetas) - 3]`, ou seja, o índice `[5]`. <br/>\n",
        "Portanto, `[-3:]` é sinônonimo de `[5:]`.\n",
        "\n",
        "Ao omitir o último índice do intervalo, consideramos por padrão `len(planetas)`, que é 8. <br/>\n",
        "Logo, `[-3:]` é o mesmo que `[5:8]`, que resulta nos índices `[5, 6, 7]`, que são os índices dos 3 últimos elementos dessa lista."
      ]
    },
    {
      "cell_type": "markdown",
      "metadata": {
        "id": "E5rda-NmxE4T"
      },
      "source": [
        "#### Os elementos retornados pelo Slicing de Listas a uma variável são CÓPIAS"
      ]
    },
    {
      "cell_type": "code",
      "execution_count": 33,
      "metadata": {
        "colab": {
          "base_uri": "https://localhost:8080/"
        },
        "id": "grMyTVLwxE4T",
        "outputId": "c7ebf0cc-a192-4f31-be56-9d8d2b1fd110"
      },
      "outputs": [
        {
          "output_type": "stream",
          "name": "stdout",
          "text": [
            "['Saturno', 'Urano', 'Netuno']\n",
            "['Mercúrio', 'Vênus', 'Terra', 'Marte', 'Júpiter', 'Saturno', 'Urano', 'Netuno']\n"
          ]
        }
      ],
      "source": [
        "ultimos_planetas = planetas[-3:]\n",
        "print(ultimos_planetas)\n",
        "print(planetas)"
      ]
    },
    {
      "cell_type": "code",
      "execution_count": 34,
      "metadata": {
        "colab": {
          "base_uri": "https://localhost:8080/"
        },
        "id": "C93O8_twxE4U",
        "outputId": "d8709b2e-c5a6-4e80-d176-8a4c3cac0a49"
      },
      "outputs": [
        {
          "output_type": "stream",
          "name": "stdout",
          "text": [
            "['Brasil', 'Urano', 'Netuno']\n",
            "['Mercúrio', 'Vênus', 'Terra', 'Marte', 'Júpiter', 'Saturno', 'Urano', 'Netuno']\n"
          ]
        }
      ],
      "source": [
        "# substituindo o primeiro elemento da lista por outro\n",
        "ultimos_planetas[0] = 'Brasil'\n",
        "print(ultimos_planetas)\n",
        "print(planetas)"
      ]
    },
    {
      "cell_type": "markdown",
      "metadata": {
        "id": "nPmTtegAxE4U"
      },
      "source": [
        "#### Alteração de Múltiplos elementos de uma Lista via Slicing"
      ]
    },
    {
      "cell_type": "code",
      "execution_count": 35,
      "metadata": {
        "colab": {
          "base_uri": "https://localhost:8080/"
        },
        "id": "LA6YzF2QxE4U",
        "outputId": "808b1378-11e0-435b-8fa9-61bc193dcb71"
      },
      "outputs": [
        {
          "output_type": "stream",
          "name": "stdout",
          "text": [
            "['Mercúrio', 'Vênus', 'Terra', 'Marte', 'Júpiter', 'Saturno', 'Urano', 'Netuno']\n"
          ]
        }
      ],
      "source": [
        "print(planetas)"
      ]
    },
    {
      "cell_type": "code",
      "execution_count": 36,
      "metadata": {
        "colab": {
          "base_uri": "https://localhost:8080/"
        },
        "id": "BSUQLCkdxE4U",
        "outputId": "a1729fe9-b8fb-4ad2-b12e-70abb723f61a"
      },
      "outputs": [
        {
          "output_type": "stream",
          "name": "stdout",
          "text": [
            "['Mercúrio', 'Vênus', 'Terra', 'Marte', 'Júpiter', 'Brasil', 'Holanda', 'Italia']\n"
          ]
        }
      ],
      "source": [
        "# planetas[-3] = 'Brasil'\n",
        "# planetas[-2] = 'Holanda'\n",
        "# planetas[-1] = 'Italia'\n",
        "# isso acima seria a primeira opção e a que a gente pensa primeiro, só que adiciona os elementos 1 por 1\n",
        "\n",
        "## alternativamente\n",
        "planetas[-3:] = ['Brasil', 'Holanda', 'Italia']\n",
        "print(planetas)"
      ]
    },
    {
      "cell_type": "markdown",
      "metadata": {
        "id": "K5YpDStixE4U"
      },
      "source": [
        "<br/>\n",
        "\n",
        "Se o **número de elementos atribuídos for DIFERENTE do número de elementos do slicing**, os elementes excedentos ou faltantes da lista são ignorados ===> TOME CUIDADO"
      ]
    },
    {
      "cell_type": "code",
      "execution_count": 37,
      "metadata": {
        "colab": {
          "base_uri": "https://localhost:8080/"
        },
        "id": "ZUhdLU0YxE4U",
        "outputId": "9fcb1342-4fe9-4d98-8d88-4ee4667749b8"
      },
      "outputs": [
        {
          "output_type": "stream",
          "name": "stdout",
          "text": [
            "['Mercúrio', 'Japão', 'Júpiter', 'Brasil', 'Holanda', 'Italia']\n"
          ]
        }
      ],
      "source": [
        "# o intervalo 1 a 4 é vênus, terra e marte, mas ele foi substituído por somente Japão\n",
        "planetas[1:4] = ['Japão']\n",
        "print(planetas)"
      ]
    },
    {
      "cell_type": "markdown",
      "metadata": {
        "id": "6yJ2GPAxxE4U"
      },
      "source": [
        "### For-each em Listas\n",
        "Como mostrado no notebook anterior, podemos iterar elementos em uma lista:"
      ]
    },
    {
      "cell_type": "code",
      "execution_count": 38,
      "metadata": {
        "colab": {
          "base_uri": "https://localhost:8080/"
        },
        "id": "XbW4OIqsxE4U",
        "outputId": "6eefec19-7f5b-4ce3-c6b1-c0e8c9854902"
      },
      "outputs": [
        {
          "output_type": "execute_result",
          "data": {
            "text/plain": [
              "['Mercúrio',\n",
              " 'Vênus',\n",
              " 'Terra',\n",
              " 'Marte',\n",
              " 'Júpiter',\n",
              " 'Saturno',\n",
              " 'Urano',\n",
              " 'Netuno']"
            ]
          },
          "metadata": {},
          "execution_count": 38
        }
      ],
      "source": [
        "planetas = ['Mercúrio', 'Vênus', 'Terra', 'Marte', 'Júpiter', 'Saturno', 'Urano', 'Netuno']\n",
        "planetas"
      ]
    },
    {
      "cell_type": "code",
      "execution_count": 39,
      "metadata": {
        "colab": {
          "base_uri": "https://localhost:8080/"
        },
        "id": "MzVV95BOxE4U",
        "outputId": "e40f7823-5759-4a0c-a762-804e3815a46d"
      },
      "outputs": [
        {
          "output_type": "stream",
          "name": "stdout",
          "text": [
            "planeta = Mercúrio\n",
            "planeta = Vênus\n",
            "planeta = Terra\n",
            "planeta = Marte\n",
            "planeta = Júpiter\n",
            "planeta = Saturno\n",
            "planeta = Urano\n",
            "planeta = Netuno\n"
          ]
        }
      ],
      "source": [
        "for planeta in planetas:\n",
        "    print(f'planeta = {planeta}')"
      ]
    },
    {
      "cell_type": "code",
      "execution_count": 40,
      "metadata": {
        "colab": {
          "base_uri": "https://localhost:8080/"
        },
        "id": "j972oEFExE4V",
        "outputId": "8cfd8627-59d6-4834-d230-e1f0c56dc68d"
      },
      "outputs": [
        {
          "output_type": "stream",
          "name": "stdout",
          "text": [
            "planeta = Vênus\n",
            "planeta = Terra\n",
            "planeta = Marte\n"
          ]
        }
      ],
      "source": [
        "# queremos iterar no intervalo [1, 4)\n",
        "for planeta in planetas[1:4]:\n",
        "    print(f'planeta = {planeta}')"
      ]
    },
    {
      "cell_type": "markdown",
      "metadata": {
        "id": "BGCaj-5FxE4V"
      },
      "source": [
        "No `for`, podemos também recuperar o **índice** e o *elemento* de uma lista, basta usarmos o comando `enumerate`:\n",
        "\n",
        "<code>\n",
        "    for i, elemento in enumerate(lista):\n",
        "        intrução 01\n",
        "        ....\n",
        "</code>"
      ]
    },
    {
      "cell_type": "code",
      "execution_count": 41,
      "metadata": {
        "colab": {
          "base_uri": "https://localhost:8080/"
        },
        "id": "tqvG3z1bxE4V",
        "outputId": "c7a31d12-b596-471a-c541-c40bbf2cdcd2"
      },
      "outputs": [
        {
          "output_type": "stream",
          "name": "stdout",
          "text": [
            "planeta[0] = Mercúrio, Mercúrio\n",
            "planeta[1] = Vênus, Vênus\n",
            "planeta[2] = Terra, Terra\n",
            "planeta[3] = Marte, Marte\n",
            "planeta[4] = Júpiter, Júpiter\n",
            "planeta[5] = Saturno, Saturno\n",
            "planeta[6] = Urano, Urano\n",
            "planeta[7] = Netuno, Netuno\n"
          ]
        }
      ],
      "source": [
        "for i, plan in enumerate(planetas):\n",
        "    print(f'planeta[{i}] = {plan}, {planetas[i]}')"
      ]
    },
    {
      "cell_type": "code",
      "execution_count": 42,
      "metadata": {
        "colab": {
          "base_uri": "https://localhost:8080/"
        },
        "id": "gAPXLptQxE4V",
        "outputId": "f808aa78-012c-417a-d405-951c98030305"
      },
      "outputs": [
        {
          "output_type": "stream",
          "name": "stdout",
          "text": [
            "planeta[0] = Vênus\n",
            "planeta[1] = Terra\n",
            "planeta[2] = Marte\n"
          ]
        }
      ],
      "source": [
        "# planetas[1:4] ==> gera uma nova lista com os elementos dos índice 1, 2, 3 da lista planetas\n",
        "# os elementos desta nova lista estão indexados a partir do 0\n",
        "\n",
        "for i, plan in enumerate(planetas[1:4]):\n",
        "    print(f'planeta[{i}] = {plan}')"
      ]
    },
    {
      "cell_type": "code",
      "execution_count": 43,
      "metadata": {
        "colab": {
          "base_uri": "https://localhost:8080/"
        },
        "id": "tIh4IC3KxE4V",
        "outputId": "0a5faae1-432b-4e48-c804-68aa9a99cffa"
      },
      "outputs": [
        {
          "output_type": "stream",
          "name": "stdout",
          "text": [
            "planeta[1] = Vênus\n",
            "planeta[2] = Terra\n",
            "planeta[3] = Marte\n"
          ]
        }
      ],
      "source": [
        "for i in range(1, 4): # lembrando que o 4 é exclusivo\n",
        "    print(f'planeta[{i}] = {planetas[i]}')"
      ]
    },
    {
      "cell_type": "markdown",
      "metadata": {
        "id": "CwCrpgRWxE4V"
      },
      "source": [
        "### Funções de Listas"
      ]
    },
    {
      "cell_type": "code",
      "execution_count": 44,
      "metadata": {
        "colab": {
          "base_uri": "https://localhost:8080/"
        },
        "id": "eGTCowifxE4V",
        "outputId": "a57a7d09-683e-4be2-d9c2-267c79da2efb"
      },
      "outputs": [
        {
          "output_type": "stream",
          "name": "stdout",
          "text": [
            "['Mercúrio', 'Vênus', 'Terra', 'Marte', 'Júpiter', 'Saturno', 'Urano', 'Netuno']\n"
          ]
        }
      ],
      "source": [
        "print(planetas)"
      ]
    },
    {
      "cell_type": "markdown",
      "metadata": {
        "id": "HXZiV0TPxE4V"
      },
      "source": [
        "`len` retorna o tamanho de uma lista (número de elementos)"
      ]
    },
    {
      "cell_type": "code",
      "execution_count": 45,
      "metadata": {
        "colab": {
          "base_uri": "https://localhost:8080/"
        },
        "id": "MUblv50gxE4V",
        "outputId": "46600c59-2658-47e1-d5a0-45d701399db4"
      },
      "outputs": [
        {
          "output_type": "execute_result",
          "data": {
            "text/plain": [
              "8"
            ]
          },
          "metadata": {},
          "execution_count": 45
        }
      ],
      "source": [
        "len(planetas)"
      ]
    },
    {
      "cell_type": "markdown",
      "metadata": {
        "id": "UwM0pKvCxE4V"
      },
      "source": [
        "`min` retorna o menor elemento de uma lista"
      ]
    },
    {
      "cell_type": "code",
      "execution_count": 46,
      "metadata": {
        "colab": {
          "base_uri": "https://localhost:8080/"
        },
        "id": "RErVfKh-xE4V",
        "outputId": "87de17d1-7841-42c5-ee16-cbd27fd71bbf"
      },
      "outputs": [
        {
          "output_type": "execute_result",
          "data": {
            "text/plain": [
              "2"
            ]
          },
          "metadata": {},
          "execution_count": 46
        }
      ],
      "source": [
        "lista_de_numeros = [10, 5, 20, 2]\n",
        "min(lista_de_numeros)"
      ]
    },
    {
      "cell_type": "code",
      "execution_count": 47,
      "metadata": {
        "colab": {
          "base_uri": "https://localhost:8080/",
          "height": 35
        },
        "id": "EZRD9J1QxE4V",
        "outputId": "39653e30-4edb-44f2-f8f4-fef1281d8f38"
      },
      "outputs": [
        {
          "output_type": "execute_result",
          "data": {
            "text/plain": [
              "'Júpiter'"
            ],
            "application/vnd.google.colaboratory.intrinsic+json": {
              "type": "string"
            }
          },
          "metadata": {},
          "execution_count": 47
        }
      ],
      "source": [
        "# no caso de uma lista de strings, retorna o 'menor' elemento em ordem alfabética\n",
        "min(planetas)"
      ]
    },
    {
      "cell_type": "markdown",
      "metadata": {
        "id": "eb_XuDeGxE4V"
      },
      "source": [
        "`max` retorna o maior elemento de uma lista"
      ]
    },
    {
      "cell_type": "code",
      "execution_count": 48,
      "metadata": {
        "colab": {
          "base_uri": "https://localhost:8080/"
        },
        "id": "V3FGB0r2xE4W",
        "outputId": "8f1b274f-79cb-41e9-bc5c-994dc8d710ad"
      },
      "outputs": [
        {
          "output_type": "execute_result",
          "data": {
            "text/plain": [
              "20"
            ]
          },
          "metadata": {},
          "execution_count": 48
        }
      ],
      "source": [
        "max(lista_de_numeros)"
      ]
    },
    {
      "cell_type": "code",
      "execution_count": 49,
      "metadata": {
        "colab": {
          "base_uri": "https://localhost:8080/",
          "height": 35
        },
        "id": "V3b6MQjyxE4W",
        "outputId": "4abc0434-90ec-4a6f-f3f3-09698db1cc60"
      },
      "outputs": [
        {
          "output_type": "execute_result",
          "data": {
            "text/plain": [
              "'Vênus'"
            ],
            "application/vnd.google.colaboratory.intrinsic+json": {
              "type": "string"
            }
          },
          "metadata": {},
          "execution_count": 49
        }
      ],
      "source": [
        "# no caso de uma lista de strings, retorna o 'maior' elemento em ordem alfabética\n",
        "max(planetas)"
      ]
    },
    {
      "cell_type": "markdown",
      "metadata": {
        "id": "cdg_W43NxE4W"
      },
      "source": [
        "`sum` retorna a soma de elementos de uma lista"
      ]
    },
    {
      "cell_type": "code",
      "execution_count": 50,
      "metadata": {
        "colab": {
          "base_uri": "https://localhost:8080/"
        },
        "id": "6rAUWxQVxE4W",
        "outputId": "88fb6146-8da6-44a3-a389-1d66868377ae"
      },
      "outputs": [
        {
          "output_type": "execute_result",
          "data": {
            "text/plain": [
              "37"
            ]
          },
          "metadata": {},
          "execution_count": 50
        }
      ],
      "source": [
        "# soma = 0\n",
        "# for num in lista_de_numeros:\n",
        "#     soma += num\n",
        "\n",
        "## alternativamente\n",
        "sum(lista_de_numeros)"
      ]
    },
    {
      "cell_type": "markdown",
      "metadata": {
        "id": "BATeyWAjxE4W"
      },
      "source": [
        "### Métodos de Listas"
      ]
    },
    {
      "cell_type": "markdown",
      "metadata": {
        "id": "T6G091lnxE4W"
      },
      "source": [
        "`list.append` modifica uma lista adicionando um item (de qualquer tipo) no final."
      ]
    },
    {
      "cell_type": "code",
      "execution_count": 51,
      "metadata": {
        "id": "l34p2iBUxE4W",
        "outputId": "68912d20-92ee-4f75-d3bd-a5f80aba8b99",
        "colab": {
          "base_uri": "https://localhost:8080/"
        }
      },
      "outputs": [
        {
          "output_type": "stream",
          "name": "stdout",
          "text": [
            "['Mercúrio', 'Vênus', 'Terra', 'Marte', 'Júpiter', 'Saturno', 'Urano', 'Netuno']\n"
          ]
        }
      ],
      "source": [
        "print(planetas)"
      ]
    },
    {
      "cell_type": "code",
      "execution_count": 52,
      "metadata": {
        "id": "wlODtgJQxE4W",
        "outputId": "129d978b-5275-4b9d-be78-33a1dd63de1a",
        "colab": {
          "base_uri": "https://localhost:8080/"
        }
      },
      "outputs": [
        {
          "output_type": "stream",
          "name": "stdout",
          "text": [
            "['Mercúrio', 'Vênus', 'Terra', 'Marte', 'Júpiter', 'Saturno', 'Urano', 'Netuno', 'Plutão']\n"
          ]
        }
      ],
      "source": [
        "# a função append adiciona o item ao final da lista desejada\n",
        "# lista.append('item que quero add')\n",
        "planetas.append('Plutão')\n",
        "print(planetas)"
      ]
    },
    {
      "cell_type": "markdown",
      "metadata": {
        "id": "C64YFjsexE4W"
      },
      "source": [
        "`list.pop` remove e retorna o último elemento da lista:"
      ]
    },
    {
      "cell_type": "code",
      "execution_count": 53,
      "metadata": {
        "id": "7-5HwTuKxE4W",
        "outputId": "54f2660d-09d4-4a67-abd9-562b99b8f9bd",
        "colab": {
          "base_uri": "https://localhost:8080/"
        }
      },
      "outputs": [
        {
          "output_type": "stream",
          "name": "stdout",
          "text": [
            "Plutão\n",
            "['Mercúrio', 'Vênus', 'Terra', 'Marte', 'Júpiter', 'Saturno', 'Urano', 'Netuno']\n"
          ]
        }
      ],
      "source": [
        "ultimo_planeta = planetas.pop()\n",
        "print(ultimo_planeta)\n",
        "print(planetas)"
      ]
    },
    {
      "cell_type": "code",
      "execution_count": 54,
      "metadata": {
        "id": "xsvzyvpNxE4W",
        "outputId": "eac7e860-9c04-4f96-b9f0-460e0295a3b2",
        "colab": {
          "base_uri": "https://localhost:8080/"
        }
      },
      "outputs": [
        {
          "output_type": "stream",
          "name": "stdout",
          "text": [
            "Vênus\n",
            "['Mercúrio', 'Terra', 'Marte', 'Júpiter', 'Saturno', 'Urano', 'Netuno']\n"
          ]
        }
      ],
      "source": [
        "# quando passado um argumento à função, ele remove de acordo com a posição dele\n",
        "segundo_planeta = planetas.pop(1)\n",
        "print(segundo_planeta)\n",
        "print(planetas)"
      ]
    },
    {
      "cell_type": "markdown",
      "metadata": {
        "id": "cPne0sj4xE4W"
      },
      "source": [
        "`reverse` reverte a ordem dos elementos da lista."
      ]
    },
    {
      "cell_type": "code",
      "execution_count": 55,
      "metadata": {
        "id": "PG7xS8qmxE4X",
        "outputId": "ae6a989b-f160-4a7a-d9eb-4b9a8a937042",
        "colab": {
          "base_uri": "https://localhost:8080/"
        }
      },
      "outputs": [
        {
          "output_type": "stream",
          "name": "stdout",
          "text": [
            "['Mercúrio', 'Vênus', 'Terra', 'Marte', 'Júpiter', 'Saturno', 'Urano', 'Netuno']\n"
          ]
        }
      ],
      "source": [
        "planetas = ['Mercúrio', 'Vênus', 'Terra', 'Marte', 'Júpiter', 'Saturno', 'Urano', 'Netuno']\n",
        "print(planetas)"
      ]
    },
    {
      "cell_type": "code",
      "execution_count": 56,
      "metadata": {
        "id": "biANjP5nxE4X",
        "outputId": "77f69a6f-2579-4c7c-ba9b-33227ae43601",
        "colab": {
          "base_uri": "https://localhost:8080/"
        }
      },
      "outputs": [
        {
          "output_type": "stream",
          "name": "stdout",
          "text": [
            "['Netuno', 'Urano', 'Saturno', 'Júpiter', 'Marte', 'Terra', 'Vênus', 'Mercúrio']\n"
          ]
        }
      ],
      "source": [
        "planetas.reverse()  # reverte os elementos da lista planeta (in place, ou seja, reverte a própria lista)\n",
        "print(planetas)"
      ]
    },
    {
      "cell_type": "markdown",
      "metadata": {
        "id": "CccBe64hxE4X"
      },
      "source": [
        "O possível problema é que a **própria lista** é revertida. <br>\n",
        "Caso você deseje ter uma **cópia revertida** da lista:"
      ]
    },
    {
      "cell_type": "code",
      "execution_count": null,
      "metadata": {
        "id": "0GuIVASsxE4X",
        "outputId": "a843f0fe-4d32-4b1c-db91-091f784a2501"
      },
      "outputs": [
        {
          "name": "stdout",
          "output_type": "stream",
          "text": [
            "['Mercúrio', 'Vênus', 'Terra', 'Marte', 'Júpiter', 'Saturno', 'Urano', 'Netuno']\n"
          ]
        }
      ],
      "source": [
        "planetas = ['Mercúrio', 'Vênus', 'Terra', 'Marte', 'Júpiter', 'Saturno', 'Urano', 'Netuno']\n",
        "print(planetas)"
      ]
    },
    {
      "cell_type": "code",
      "execution_count": 57,
      "metadata": {
        "id": "UZwE_ohmxE4X",
        "outputId": "38189a52-3c75-4908-ff21-8dca53de7caf",
        "colab": {
          "base_uri": "https://localhost:8080/"
        }
      },
      "outputs": [
        {
          "output_type": "stream",
          "name": "stdout",
          "text": [
            "['Netuno', 'Urano', 'Saturno', 'Júpiter', 'Marte', 'Terra', 'Vênus', 'Mercúrio']\n",
            "['Mercúrio', 'Vênus', 'Terra', 'Marte', 'Júpiter', 'Saturno', 'Urano', 'Netuno']\n"
          ]
        }
      ],
      "source": [
        "planetas_revertidos = list(planetas)  # faz uma cópia da lista de planetas\n",
        "planetas_revertidos.reverse()\n",
        "\n",
        "print(planetas)\n",
        "print(planetas_revertidos)"
      ]
    },
    {
      "cell_type": "markdown",
      "metadata": {
        "id": "LWJJLDj3xE4X"
      },
      "source": [
        "#### Ordenação de listas"
      ]
    },
    {
      "cell_type": "markdown",
      "metadata": {
        "id": "N8GYAfd3xE4X"
      },
      "source": [
        "`sorted` retorna uma versão **ordernada (em ordem crescente)** de uma lista (NÃO ALTERA A LISTA ATUAL)"
      ]
    },
    {
      "cell_type": "code",
      "execution_count": 58,
      "metadata": {
        "id": "QLhnh-w9xE4X",
        "outputId": "6599e956-dffd-4dbc-a18a-78166b75a22f",
        "colab": {
          "base_uri": "https://localhost:8080/"
        }
      },
      "outputs": [
        {
          "output_type": "execute_result",
          "data": {
            "text/plain": [
              "[10, 5, 20, 2]"
            ]
          },
          "metadata": {},
          "execution_count": 58
        }
      ],
      "source": [
        "lista_de_numeros"
      ]
    },
    {
      "cell_type": "code",
      "execution_count": 59,
      "metadata": {
        "id": "ifqaFNiixE4X",
        "outputId": "a3f8d33d-171a-42d0-a664-7258404f74c2",
        "colab": {
          "base_uri": "https://localhost:8080/"
        }
      },
      "outputs": [
        {
          "output_type": "stream",
          "name": "stdout",
          "text": [
            "[10, 5, 20, 2]\n",
            "[2, 5, 10, 20]\n"
          ]
        }
      ],
      "source": [
        "lista_de_numeros_ordenada = sorted(lista_de_numeros)\n",
        "\n",
        "print(lista_de_numeros)\n",
        "print(lista_de_numeros_ordenada)"
      ]
    },
    {
      "cell_type": "code",
      "execution_count": 60,
      "metadata": {
        "id": "uWWZ2svWxE4X",
        "outputId": "50fc3076-5330-4e72-81c7-db66b4f40fc4",
        "colab": {
          "base_uri": "https://localhost:8080/"
        }
      },
      "outputs": [
        {
          "output_type": "stream",
          "name": "stdout",
          "text": [
            "['Netuno', 'Urano', 'Saturno', 'Júpiter', 'Marte', 'Terra', 'Vênus', 'Mercúrio']\n",
            "['Júpiter', 'Marte', 'Mercúrio', 'Netuno', 'Saturno', 'Terra', 'Urano', 'Vênus']\n"
          ]
        }
      ],
      "source": [
        "planetas_ordem_alfabetica = sorted(planetas)\n",
        "\n",
        "print(planetas)\n",
        "print(planetas_ordem_alfabetica)"
      ]
    },
    {
      "cell_type": "markdown",
      "metadata": {
        "id": "cBIMUXsYxE4X"
      },
      "source": [
        "##### Para ordernar em **ordem descrente**"
      ]
    },
    {
      "cell_type": "code",
      "execution_count": 61,
      "metadata": {
        "id": "3OliTv8YxE4X",
        "outputId": "7541c37e-c343-4b76-ceb2-038164c4070e",
        "colab": {
          "base_uri": "https://localhost:8080/"
        }
      },
      "outputs": [
        {
          "output_type": "stream",
          "name": "stdout",
          "text": [
            "lista_de_numeros = [10, 5, 20, 2]\n",
            "lista_de_numeros_ordenada = [2, 5, 10, 20]\n",
            "lista_de_numeros_ordem_reversa = [20, 10, 5, 2]\n"
          ]
        }
      ],
      "source": [
        "lista_de_numeros_ordem_reversa = sorted(lista_de_numeros)  # ordena em ordem crescente\n",
        "lista_de_numeros_ordem_reversa.reverse()\n",
        "\n",
        "print(f'lista_de_numeros = {lista_de_numeros}')\n",
        "print(f'lista_de_numeros_ordenada = {lista_de_numeros_ordenada}')\n",
        "print(f'lista_de_numeros_ordem_reversa = {lista_de_numeros_ordem_reversa}')"
      ]
    },
    {
      "cell_type": "code",
      "execution_count": 62,
      "metadata": {
        "id": "ULD-UtPFxE4X",
        "outputId": "769b8c30-3c56-4bd8-b88c-d4396e91a878",
        "colab": {
          "base_uri": "https://localhost:8080/"
        }
      },
      "outputs": [
        {
          "output_type": "stream",
          "name": "stdout",
          "text": [
            "planetas = ['Netuno', 'Urano', 'Saturno', 'Júpiter', 'Marte', 'Terra', 'Vênus', 'Mercúrio']\n",
            "planetas_ordem_alfabetica = ['Júpiter', 'Marte', 'Mercúrio', 'Netuno', 'Saturno', 'Terra', 'Urano', 'Vênus']\n",
            "planetas_ordem_alfabetica_reversa = ['Vênus', 'Urano', 'Terra', 'Saturno', 'Netuno', 'Mercúrio', 'Marte', 'Júpiter']\n"
          ]
        }
      ],
      "source": [
        "planetas_ordem_alfabetica_reversa = sorted(planetas)\n",
        "planetas_ordem_alfabetica_reversa.reverse()\n",
        "\n",
        "print(f'planetas = {planetas}')\n",
        "print(f'planetas_ordem_alfabetica = {planetas_ordem_alfabetica}')\n",
        "print(f'planetas_ordem_alfabetica_reversa = {planetas_ordem_alfabetica_reversa}')"
      ]
    },
    {
      "cell_type": "markdown",
      "metadata": {
        "id": "9vGtVCtmxE4Y"
      },
      "source": [
        "#### Buscando elementos em uma lista"
      ]
    },
    {
      "cell_type": "markdown",
      "metadata": {
        "id": "w5daVOMSxE4Y"
      },
      "source": [
        "`list.index` retorna o índice de um dado elemento da lista, ou lança uma exception caso ele não esteja presente na lista."
      ]
    },
    {
      "cell_type": "code",
      "execution_count": 63,
      "metadata": {
        "id": "5eoP79EbxE4Y",
        "outputId": "f8467226-13dd-450c-8826-8991055b7008",
        "colab": {
          "base_uri": "https://localhost:8080/"
        }
      },
      "outputs": [
        {
          "output_type": "stream",
          "name": "stdout",
          "text": [
            "['Netuno', 'Urano', 'Saturno', 'Júpiter', 'Marte', 'Terra', 'Vênus', 'Mercúrio']\n"
          ]
        }
      ],
      "source": [
        "print(planetas)"
      ]
    },
    {
      "cell_type": "code",
      "execution_count": 64,
      "metadata": {
        "id": "kqBZYaGZxE4Y",
        "outputId": "b230c3a1-95d4-4411-9b97-5b4d216ef309",
        "colab": {
          "base_uri": "https://localhost:8080/"
        }
      },
      "outputs": [
        {
          "output_type": "execute_result",
          "data": {
            "text/plain": [
              "4"
            ]
          },
          "metadata": {},
          "execution_count": 64
        }
      ],
      "source": [
        "# qual é o índice do elemento 'Marte'?\n",
        "planetas.index('Marte')"
      ]
    },
    {
      "cell_type": "code",
      "execution_count": 65,
      "metadata": {
        "id": "3ShTkcMqxE4Y",
        "outputId": "a600a19c-2973-4f98-acc4-00c00249fab0",
        "colab": {
          "base_uri": "https://localhost:8080/",
          "height": 194
        }
      },
      "outputs": [
        {
          "output_type": "error",
          "ename": "ValueError",
          "evalue": "ignored",
          "traceback": [
            "\u001b[0;31m---------------------------------------------------------------------------\u001b[0m",
            "\u001b[0;31mValueError\u001b[0m                                Traceback (most recent call last)",
            "\u001b[0;32m<ipython-input-65-e293f688ce54>\u001b[0m in \u001b[0;36m<cell line: 2>\u001b[0;34m()\u001b[0m\n\u001b[1;32m      1\u001b[0m \u001b[0;31m# qual é o índice do elemento 'Brasil'? ==> lançar (raise) exception\u001b[0m\u001b[0;34m\u001b[0m\u001b[0;34m\u001b[0m\u001b[0m\n\u001b[0;32m----> 2\u001b[0;31m \u001b[0mplanetas\u001b[0m\u001b[0;34m.\u001b[0m\u001b[0mindex\u001b[0m\u001b[0;34m(\u001b[0m\u001b[0;34m'Brasil'\u001b[0m\u001b[0;34m)\u001b[0m\u001b[0;34m\u001b[0m\u001b[0;34m\u001b[0m\u001b[0m\n\u001b[0m",
            "\u001b[0;31mValueError\u001b[0m: 'Brasil' is not in list"
          ]
        }
      ],
      "source": [
        "# qual é o índice do elemento 'Brasil'? ==> lançar (raise) exception\n",
        "planetas.index('Brasil')"
      ]
    },
    {
      "cell_type": "markdown",
      "metadata": {
        "id": "AdOyESN6xE4Y"
      },
      "source": [
        "Outra alternativa melhor para saber se **uma lista contém ou não um dado elemento**, sem o lançamento de exception, é usar o `in`:"
      ]
    },
    {
      "cell_type": "code",
      "execution_count": 66,
      "metadata": {
        "id": "sRU7NVvVxE4Y",
        "outputId": "8c60e2ed-4bb7-4e24-d092-054baefa12d4",
        "colab": {
          "base_uri": "https://localhost:8080/"
        }
      },
      "outputs": [
        {
          "output_type": "execute_result",
          "data": {
            "text/plain": [
              "True"
            ]
          },
          "metadata": {},
          "execution_count": 66
        }
      ],
      "source": [
        "'Marte' in planetas"
      ]
    },
    {
      "cell_type": "code",
      "execution_count": 67,
      "metadata": {
        "id": "M9YqmRLXxE4Y",
        "outputId": "77382a65-af62-4226-d530-d55c53634ae7",
        "colab": {
          "base_uri": "https://localhost:8080/"
        }
      },
      "outputs": [
        {
          "output_type": "execute_result",
          "data": {
            "text/plain": [
              "False"
            ]
          },
          "metadata": {},
          "execution_count": 67
        }
      ],
      "source": [
        "'Brasil' in planetas"
      ]
    },
    {
      "cell_type": "markdown",
      "metadata": {
        "id": "Ay6Q-nNcxE4Y"
      },
      "source": [
        "Podemos ainda usar o `not in` para checar se a lista **não possui um dado elemento**:"
      ]
    },
    {
      "cell_type": "code",
      "execution_count": 68,
      "metadata": {
        "id": "WMvHhm4FxE4Y",
        "outputId": "9fbb6fdd-5abf-4d0f-d140-d006fd93fe7e",
        "colab": {
          "base_uri": "https://localhost:8080/"
        }
      },
      "outputs": [
        {
          "output_type": "execute_result",
          "data": {
            "text/plain": [
              "True"
            ]
          },
          "metadata": {},
          "execution_count": 68
        }
      ],
      "source": [
        "'Brasil' not in planetas"
      ]
    },
    {
      "cell_type": "markdown",
      "metadata": {
        "id": "EjNDisajxE4Y"
      },
      "source": [
        "#### Concatenando listas\n",
        "Suponha que desejamos juntar/concatenar duas listas em uma só. <br/>\n",
        "Podemos tentar usar o método `append`, pois ele adiciona um dado elemento ao final da lista.\n",
        "Vejamos:"
      ]
    },
    {
      "cell_type": "code",
      "execution_count": 69,
      "metadata": {
        "id": "YQcMhtRaxE4Y",
        "outputId": "a625ab20-cd22-4d44-ca1f-b8da5f52ed34",
        "colab": {
          "base_uri": "https://localhost:8080/"
        }
      },
      "outputs": [
        {
          "output_type": "stream",
          "name": "stdout",
          "text": [
            "['São Paulo', 'Santo André', 'São Bernardo', 'São Caetano']\n",
            "['Pompéia', 'Campinas', 'Hortolândia']\n"
          ]
        }
      ],
      "source": [
        "cidades_grande_sp = ['São Paulo', 'Santo André', 'São Bernardo', 'São Caetano']\n",
        "cidades_interior_sp = ['Pompéia', 'Campinas', 'Hortolândia']\n",
        "\n",
        "print(cidades_grande_sp)\n",
        "print(cidades_interior_sp)"
      ]
    },
    {
      "cell_type": "code",
      "execution_count": 70,
      "metadata": {
        "id": "dBLCgk9GxE4Y",
        "outputId": "15442877-497c-477c-e906-7652e692255c",
        "colab": {
          "base_uri": "https://localhost:8080/"
        }
      },
      "outputs": [
        {
          "output_type": "stream",
          "name": "stdout",
          "text": [
            "['São Paulo', 'Santo André', 'São Bernardo', 'São Caetano', 'Pompéia', 'Campinas', 'Hortolândia']\n"
          ]
        }
      ],
      "source": [
        "# ALTERNATIVA 1\n",
        "cidades_estado_sp = cidades_grande_sp + cidades_interior_sp\n",
        "print(cidades_estado_sp)"
      ]
    },
    {
      "cell_type": "code",
      "execution_count": 71,
      "metadata": {
        "id": "gQhg5Q7zxE4Y"
      },
      "outputs": [],
      "source": [
        "# ALTERNATIVA 2 ==> NÃO FUNCIONA COMO ESPERADO\n",
        "cidades_estado_sp = list(cidades_grande_sp)  # copia a cidades_grande_sp\n",
        "cidades_estado_sp.append(cidades_interior_sp)"
      ]
    },
    {
      "cell_type": "code",
      "execution_count": 72,
      "metadata": {
        "id": "kpkTGm6QxE4Y",
        "outputId": "03500fcd-fbea-4c75-9510-6aa45ab391d4",
        "colab": {
          "base_uri": "https://localhost:8080/"
        }
      },
      "outputs": [
        {
          "output_type": "stream",
          "name": "stdout",
          "text": [
            "['São Paulo', 'Santo André', 'São Bernardo', 'São Caetano', ['Pompéia', 'Campinas', 'Hortolândia']]\n"
          ]
        }
      ],
      "source": [
        "print(cidades_estado_sp)"
      ]
    },
    {
      "cell_type": "markdown",
      "metadata": {
        "id": "jeuqGOcyxE4Z"
      },
      "source": [
        "Note que a a lista `cidades_estado_sp` tem agora alguns elementos que são _strings_, e o último elemento é uma _lista_. <br/>\n",
        "O que queremos, na verdade, é ter uma lista **apenas com _strings_**.\n",
        "\n",
        "Para isso, podemo usar o método `lista.extend(lista_2)` que vai copiar todos os elementos dentro da lista `lista_2` e colocá-los no final da lista `lista`."
      ]
    },
    {
      "cell_type": "code",
      "execution_count": 74,
      "metadata": {
        "id": "gHcM_hncxE4Z"
      },
      "outputs": [],
      "source": [
        "# ALTERNATIVA 3\n",
        "cidades_estado_sp = list(cidades_grande_sp)  # copia a cidades_grande_sp\n",
        "cidades_estado_sp.extend(cidades_interior_sp) # é tipo o conceito de herança de OO, lembra?\n"
      ]
    },
    {
      "cell_type": "code",
      "execution_count": 75,
      "metadata": {
        "id": "IRfcWoedxE4Z",
        "outputId": "cc9526a7-bcf7-4bbd-c74b-edd85591edd4",
        "colab": {
          "base_uri": "https://localhost:8080/"
        }
      },
      "outputs": [
        {
          "output_type": "stream",
          "name": "stdout",
          "text": [
            "['São Paulo', 'Santo André', 'São Bernardo', 'São Caetano', 'Pompéia', 'Campinas', 'Hortolândia']\n"
          ]
        }
      ],
      "source": [
        "print(cidades_estado_sp)"
      ]
    },
    {
      "cell_type": "markdown",
      "metadata": {
        "id": "KRmq4RRXxE4Z"
      },
      "source": [
        "### List Comprehensions\n",
        "É uma forma curta de se criar listas."
      ]
    },
    {
      "cell_type": "markdown",
      "metadata": {
        "id": "_qcFDB7zxE4Z"
      },
      "source": [
        "**Ex 1)** Suponha que queremos criar uma lista cujo valor do índice [i] é i^2 (o índice ao quadrado). <br/>\n",
        "Uma forma padrão seria:"
      ]
    },
    {
      "cell_type": "code",
      "execution_count": 76,
      "metadata": {
        "id": "tiyz_L3CxE4Z",
        "outputId": "993bf6c1-444b-4331-80cc-e32fc3cb825d",
        "colab": {
          "base_uri": "https://localhost:8080/"
        }
      },
      "outputs": [
        {
          "output_type": "stream",
          "name": "stdout",
          "text": [
            "[0, 1, 4, 9, 16, 25, 36, 49, 64, 81]\n"
          ]
        }
      ],
      "source": [
        "# [0, 1, 4, 9, ...]\n",
        "\n",
        "quadrados = []\n",
        "\n",
        "for i in range(10):\n",
        "    quadrados.append(i ** 2)\n",
        "\n",
        "print(quadrados)"
      ]
    },
    {
      "cell_type": "code",
      "execution_count": 77,
      "metadata": {
        "id": "PNXWQ8iKxE4Z",
        "outputId": "7139df5f-59f2-4fca-9fc7-d23dceaadee4",
        "colab": {
          "base_uri": "https://localhost:8080/"
        }
      },
      "outputs": [
        {
          "output_type": "stream",
          "name": "stdout",
          "text": [
            "ANTES: [0, 1, 2, 3, 4, 5, 6, 7, 8, 9]\n",
            "DEPOIS: [0, 1, 4, 9, 16, 25, 36, 49, 64, 81]\n"
          ]
        }
      ],
      "source": [
        "quadrados = list(range(10))\n",
        "print(f'ANTES: {quadrados}')\n",
        "\n",
        "\n",
        "for i, num in enumerate(quadrados):\n",
        "    quadrados[i] = num ** 2\n",
        "\n",
        "print(f'DEPOIS: {quadrados}')"
      ]
    },
    {
      "cell_type": "markdown",
      "metadata": {
        "id": "piU_LqTMxE4Z"
      },
      "source": [
        "Usando o **list comprehensions**:"
      ]
    },
    {
      "cell_type": "code",
      "execution_count": 78,
      "metadata": {
        "id": "9uFdfFxhxE4Z",
        "outputId": "dc763bba-6e33-4fc3-bebd-51e0df3a0b9e",
        "colab": {
          "base_uri": "https://localhost:8080/"
        }
      },
      "outputs": [
        {
          "output_type": "stream",
          "name": "stdout",
          "text": [
            "[0, 1, 4, 9, 16, 25, 36, 49, 64, 81]\n"
          ]
        }
      ],
      "source": [
        "quadrados = [i**2 for i in range(10)]\n",
        "print(quadrados)"
      ]
    },
    {
      "cell_type": "markdown",
      "metadata": {
        "id": "013pA-uPxE4Z"
      },
      "source": [
        "**Ex 2)** Filtrando os elementos negativos de uma lista:"
      ]
    },
    {
      "cell_type": "code",
      "execution_count": 79,
      "metadata": {
        "id": "ELOH2F_7xE4Z",
        "outputId": "07015595-1f75-4391-c560-432f3a3e810d",
        "colab": {
          "base_uri": "https://localhost:8080/"
        }
      },
      "outputs": [
        {
          "output_type": "stream",
          "name": "stdout",
          "text": [
            "[10, 25, 99, 1]\n"
          ]
        }
      ],
      "source": [
        "lista_de_numeros = [10, -2, 25, -5, 99, 1]\n",
        "\n",
        "# ALTERNATIVA 1\n",
        "lista_de_numeros_positivos = []\n",
        "for num in lista_de_numeros:\n",
        "    if num >= 0:\n",
        "        lista_de_numeros_positivos.append(num)\n",
        "\n",
        "print(lista_de_numeros_positivos)"
      ]
    },
    {
      "cell_type": "code",
      "execution_count": 80,
      "metadata": {
        "id": "rEdoba9nxE4Z",
        "outputId": "8808cdec-f761-49dc-e63b-dddc91d47b99",
        "colab": {
          "base_uri": "https://localhost:8080/"
        }
      },
      "outputs": [
        {
          "output_type": "stream",
          "name": "stdout",
          "text": [
            "[10, 25, 99, 1]\n"
          ]
        }
      ],
      "source": [
        "lista_de_numeros = [10, -2, 25, -5, 99, 1]\n",
        "\n",
        "# ALTERNATIVA 2\n",
        "lista_de_numeros_positivos = [num for num in lista_de_numeros if num >= 0]\n",
        "print(lista_de_numeros_positivos)"
      ]
    },
    {
      "cell_type": "markdown",
      "metadata": {
        "id": "hCYGRqASxE4Z"
      },
      "source": [
        "Outra maneira de aplicar funções a listas é usar **lambda functions**."
      ]
    },
    {
      "cell_type": "markdown",
      "metadata": {
        "id": "ptSxQK_1xE4Z"
      },
      "source": [
        "**Ex 3) Map e Lambda functions**:"
      ]
    },
    {
      "cell_type": "code",
      "execution_count": 81,
      "metadata": {
        "id": "U36RbhSIxE4Z",
        "outputId": "4bff2400-e08c-4228-fa64-7540df62da44",
        "colab": {
          "base_uri": "https://localhost:8080/"
        }
      },
      "outputs": [
        {
          "output_type": "stream",
          "name": "stdout",
          "text": [
            "[0, 1, 2, 3, 4, 5, 6, 7, 8, 9]\n"
          ]
        }
      ],
      "source": [
        "lista_de_numeros = list(range(10))\n",
        "print(lista_de_numeros)"
      ]
    },
    {
      "cell_type": "code",
      "execution_count": 82,
      "metadata": {
        "id": "kC5N9w9SxE4a"
      },
      "outputs": [],
      "source": [
        "def power_of_2(x):\n",
        "    return x ** 2"
      ]
    },
    {
      "cell_type": "code",
      "execution_count": 85,
      "metadata": {
        "id": "1HFCFTvHxE4a",
        "outputId": "e558d079-7889-4f61-e89d-db5195c66418",
        "colab": {
          "base_uri": "https://localhost:8080/"
        }
      },
      "outputs": [
        {
          "output_type": "stream",
          "name": "stdout",
          "text": [
            "[0, 1, 4, 9, 16, 25, 36, 49, 64, 81]\n"
          ]
        }
      ],
      "source": [
        "# A função map() é útil para aplicar uma operação a todos os elementos de uma coleção de dados sem a necessidade de escrever um loop explícito.\n",
        "quadrados = list(map(power_of_2, lista_de_numeros))\n",
        "print(quadrados)"
      ]
    },
    {
      "cell_type": "markdown",
      "metadata": {
        "id": "Mc5vtfbfxE4a"
      },
      "source": [
        "**Lambda fuction**: Funções anônimas que podem receber qualquer número de parâmetros mas **pode apenas ter UMA única expressão**."
      ]
    },
    {
      "cell_type": "code",
      "execution_count": 86,
      "metadata": {
        "id": "njJyic_NxE4a",
        "outputId": "aa8acc84-970b-48fd-b6fb-6030b4f3bf45",
        "colab": {
          "base_uri": "https://localhost:8080/"
        }
      },
      "outputs": [
        {
          "output_type": "stream",
          "name": "stdout",
          "text": [
            "[0, 1, 4, 9, 16, 25, 36, 49, 64, 81]\n"
          ]
        }
      ],
      "source": [
        "# lambda argumentos: expressao --> são funções que eu posso fazer localmente ali, sem precisar de outro bloco de código fazendo um \"def\". Claro que, essas funções são simples.\n",
        "quadrados_2 = list(map(lambda x: x ** 2, lista_de_numeros))\n",
        "print(quadrados_2)"
      ]
    }
  ],
  "metadata": {
    "kernelspec": {
      "display_name": "Python 3",
      "language": "python",
      "name": "python3"
    },
    "language_info": {
      "codemirror_mode": {
        "name": "ipython",
        "version": 3
      },
      "file_extension": ".py",
      "mimetype": "text/x-python",
      "name": "python",
      "nbconvert_exporter": "python",
      "pygments_lexer": "ipython3",
      "version": "3.8.5"
    },
    "colab": {
      "provenance": [],
      "include_colab_link": true
    }
  },
  "nbformat": 4,
  "nbformat_minor": 0
}