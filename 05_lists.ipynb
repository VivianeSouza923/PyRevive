{
  "cells": [
    {
      "cell_type": "markdown",
      "metadata": {
        "id": "view-in-github",
        "colab_type": "text"
      },
      "source": [
        "<a href=\"https://colab.research.google.com/github/VivianeSouza923/PyRevive/blob/main/05_lists.ipynb\" target=\"_parent\"><img src=\"https://colab.research.google.com/assets/colab-badge.svg\" alt=\"Open In Colab\"/></a>"
      ]
    },
    {
      "cell_type": "markdown",
      "metadata": {
        "id": "eTAPFhEAxE4L"
      },
      "source": [
        "## **Python Essencial para Data Science**\n",
        "**Prof. Dr. Samuel Martins (@hisamuka @xavecoding)** <br/>\n",
        "xavecoding: https://youtube.com/c/xavecoding <br/><br/>\n",
        "\n",
        "<a rel=\"license\" href=\"http://creativecommons.org/licenses/by-nc-sa/4.0/\"><img alt=\"Creative Commons License\" style=\"border-width:0\" src=\"https://i.creativecommons.org/l/by-nc-sa/4.0/88x31.png\" /></a><br />This work is licensed under a <a rel=\"license\" href=\"http://creativecommons.org/licenses/by-nc-sa/4.0/\">Creative Commons Attribution-NonCommercial-ShareAlike 4.0 International License</a>."
      ]
    },
    {
      "cell_type": "markdown",
      "metadata": {
        "id": "2x5KVQE1xE4M"
      },
      "source": [
        "## Lists\n",
        "Uma lista em Python representa uma **sequência de elementos _ordenados_**."
      ]
    },
    {
      "cell_type": "code",
      "execution_count": 1,
      "metadata": {
        "colab": {
          "base_uri": "https://localhost:8080/"
        },
        "id": "KUyUjmnZxE4M",
        "outputId": "70303ce7-ba28-47d1-faee-012c9e14012a"
      },
      "outputs": [
        {
          "output_type": "execute_result",
          "data": {
            "text/plain": [
              "[20, 11, 60, 5, 44, 28]"
            ]
          },
          "metadata": {},
          "execution_count": 1
        }
      ],
      "source": [
        "# criar uma lista em Python é simples, basta botar os elementos dentro de colchetes e atribui-lo a uma variável\n",
        "# nome_Da_variavel = [elemento1, elemento2, ..., elementon]\n",
        "numeros_da_mega_sena = [20, 11, 60, 5, 44, 28]\n",
        "# isso aqui print como lista mesmo, dentro de colchetes\n",
        "numeros_da_mega_sena"
      ]
    },
    {
      "cell_type": "code",
      "execution_count": 2,
      "metadata": {
        "colab": {
          "base_uri": "https://localhost:8080/"
        },
        "id": "I4relgsixE4N",
        "outputId": "8d5cdc39-6d50-4361-a715-66dd88266227"
      },
      "outputs": [
        {
          "output_type": "execute_result",
          "data": {
            "text/plain": [
              "list"
            ]
          },
          "metadata": {},
          "execution_count": 2
        }
      ],
      "source": [
        "# ao verificarmos o tipo da variavel que usamos para receber a lista, vemos que ela é do tipo \"list\", normal\n",
        "type(numeros_da_mega_sena)"
      ]
    },
    {
      "cell_type": "markdown",
      "metadata": {
        "id": "U4S6fsODxE4N"
      },
      "source": [
        "A **ordenação** dos elementos refere-se a seus _posicionamentos_ na lista, ou seja, o primeiro elemento da lista é o 20, o segundo é o 11, e assim por diante. <br/>\n",
        "A **ordem** dos valores/conteúdos é outra coisa."
      ]
    },
    {
      "cell_type": "code",
      "execution_count": 3,
      "metadata": {
        "colab": {
          "base_uri": "https://localhost:8080/"
        },
        "id": "GJsdqsf8xE4O",
        "outputId": "056ccef8-dc91-4324-dd14-e449d1a6557b"
      },
      "outputs": [
        {
          "output_type": "execute_result",
          "data": {
            "text/plain": [
              "5"
            ]
          },
          "metadata": {},
          "execution_count": 3
        }
      ],
      "source": [
        "# os índices da lista começam em 0 e vão até n-1, onde n é o número de elementos da lista (tamanho da lista)\n",
        "#nome_da_variavel[numero_da_posição_que_quero]\n",
        "numeros_da_mega_sena[3]"
      ]
    },
    {
      "cell_type": "markdown",
      "metadata": {
        "id": "DNW4wXqdxE4O"
      },
      "source": [
        "#### Listas vazias"
      ]
    },
    {
      "cell_type": "code",
      "execution_count": 1,
      "metadata": {
        "colab": {
          "base_uri": "https://localhost:8080/"
        },
        "id": "lEm3En6IxE4O",
        "outputId": "1a69f9b8-f9c0-4521-e75f-ec2722893dee"
      },
      "outputs": [
        {
          "output_type": "execute_result",
          "data": {
            "text/plain": [
              "[]"
            ]
          },
          "metadata": {},
          "execution_count": 1
        }
      ],
      "source": [
        "# para criar listas vazias, basta atribuir um par de colchetes a uma variável. Como é vazio, não precisa colocar nada dentro dos colchetes.\n",
        "lista_vazia_1 = []\n",
        "lista_vazia_1"
      ]
    },
    {
      "cell_type": "code",
      "execution_count": 2,
      "metadata": {
        "colab": {
          "base_uri": "https://localhost:8080/"
        },
        "id": "jzo80l8gxE4O",
        "outputId": "47bc6508-8db9-4554-e0fe-51f919cce013"
      },
      "outputs": [
        {
          "output_type": "execute_result",
          "data": {
            "text/plain": [
              "[]"
            ]
          },
          "metadata": {},
          "execution_count": 2
        }
      ],
      "source": [
        "# outra opção é usando a função list, só atribuir list() a uma variável\n",
        "lista_vazia_2 = list()\n",
        "lista_vazia_2"
      ]
    },
    {
      "cell_type": "markdown",
      "metadata": {
        "id": "htPUcH7mxE4O"
      },
      "source": [
        "#### Listas podem ter elementos de _qualquer tipo_"
      ]
    },
    {
      "cell_type": "code",
      "execution_count": 3,
      "metadata": {
        "colab": {
          "base_uri": "https://localhost:8080/"
        },
        "id": "tMYm9swrxE4O",
        "outputId": "37af0b84-7e7a-4221-e56a-ed2912853148"
      },
      "outputs": [
        {
          "output_type": "execute_result",
          "data": {
            "text/plain": [
              "['Mercúrio',\n",
              " 'Vênus',\n",
              " 'Terra',\n",
              " 'Marte',\n",
              " 'Júpiter',\n",
              " 'Saturno',\n",
              " 'Urano',\n",
              " 'Netuno']"
            ]
          },
          "metadata": {},
          "execution_count": 3
        }
      ],
      "source": [
        "# elementos do tipo String\n",
        "planetas = ['Mercúrio', 'Vênus', 'Terra', 'Marte', 'Júpiter', 'Saturno', 'Urano', 'Netuno']\n",
        "planetas"
      ]
    },
    {
      "cell_type": "code",
      "execution_count": 4,
      "metadata": {
        "colab": {
          "base_uri": "https://localhost:8080/"
        },
        "id": "w9ujq1h9xE4O",
        "outputId": "794f25eb-9aa3-40be-b9b0-6ebb942a4588"
      },
      "outputs": [
        {
          "output_type": "stream",
          "name": "stdout",
          "text": [
            "['Mercúrio', 'Vênus', 'Terra', 'Marte', 'Júpiter', 'Saturno', 'Urano', 'Netuno']\n"
          ]
        }
      ],
      "source": [
        "# printando a lista\n",
        "print(planetas)"
      ]
    },
    {
      "cell_type": "markdown",
      "metadata": {
        "id": "T8CSNeD_xE4P"
      },
      "source": [
        "#### Listas podem elementos de  _tipos diferentes_:"
      ]
    },
    {
      "cell_type": "code",
      "execution_count": 5,
      "metadata": {
        "colab": {
          "base_uri": "https://localhost:8080/"
        },
        "id": "8FHJO4hgxE4P",
        "outputId": "e246daef-9a58-4b06-c060-ab172688d8ee"
      },
      "outputs": [
        {
          "output_type": "execute_result",
          "data": {
            "text/plain": [
              "['Mercúrio',\n",
              " 'Vênus',\n",
              " 'Terra',\n",
              " 'Marte',\n",
              " 'Júpiter',\n",
              " 'Saturno',\n",
              " 'Urano',\n",
              " 'Netuno',\n",
              " 1,\n",
              " 2,\n",
              " 3.0]"
            ]
          },
          "metadata": {},
          "execution_count": 5
        }
      ],
      "source": [
        "# lista mesclando elementos do tipo String, do tipo int e do tipo float\n",
        "planetas_e_numeros = ['Mercúrio', 'Vênus', 'Terra', 'Marte', 'Júpiter', 'Saturno', 'Urano', 'Netuno', 1, 2, 3.0]\n",
        "planetas_e_numeros"
      ]
    },
    {
      "cell_type": "markdown",
      "metadata": {
        "id": "Puchrp_JxE4P"
      },
      "source": [
        "#### Podemos ter listas de listas"
      ]
    },
    {
      "cell_type": "code",
      "execution_count": 6,
      "metadata": {
        "id": "HNWmlbzlxE4P"
      },
      "outputs": [],
      "source": [
        "# aqui eu tenho uma lista que tem 4 listas dentro\n",
        "matriz = [\n",
        "    [1, 2, 3],    # [0] ==> primeira linha da matriz\n",
        "    [4, 5, 6],    # [1] ==> segunda linha da matriz\n",
        "    [7, 8, 9],    # [2] ==> terceira linha da matriz\n",
        "    [10, 11, 12]  # [3] ==> quarta linha da matriz\n",
        "]"
      ]
    },
    {
      "cell_type": "code",
      "execution_count": 7,
      "metadata": {
        "colab": {
          "base_uri": "https://localhost:8080/"
        },
        "id": "1IKR0NOlxE4P",
        "outputId": "4acc0478-74c3-4ba8-abe9-8f2af98ad3ff"
      },
      "outputs": [
        {
          "output_type": "execute_result",
          "data": {
            "text/plain": [
              "[[1, 2, 3], [4, 5, 6], [7, 8, 9], [10, 11, 12]]"
            ]
          },
          "metadata": {},
          "execution_count": 7
        }
      ],
      "source": [
        "# mostrando a lista como um todo\n",
        "matriz"
      ]
    },
    {
      "cell_type": "code",
      "execution_count": 8,
      "metadata": {
        "colab": {
          "base_uri": "https://localhost:8080/"
        },
        "id": "LrBXw2_SxE4P",
        "outputId": "72df2e1e-3328-4cbd-d45a-344b7e88cfc7"
      },
      "outputs": [
        {
          "output_type": "execute_result",
          "data": {
            "text/plain": [
              "[1, 2, 3]"
            ]
          },
          "metadata": {},
          "execution_count": 8
        }
      ],
      "source": [
        "# mostrando o índice 0 da lista, o primeiro elemento. Ora, se é uma lista de listas, o primeiro elemento (assim como os outros) tem que que ser uma lista, certo?\n",
        "matriz[0]  # imprime a primeira linha da matriz"
      ]
    },
    {
      "cell_type": "code",
      "execution_count": 9,
      "metadata": {
        "colab": {
          "base_uri": "https://localhost:8080/"
        },
        "id": "myRaSiVgxE4P",
        "outputId": "6c95fcf5-5f1d-4d94-e0f8-f8579d84d36b"
      },
      "outputs": [
        {
          "output_type": "execute_result",
          "data": {
            "text/plain": [
              "list"
            ]
          },
          "metadata": {},
          "execution_count": 9
        }
      ],
      "source": [
        "# o tipo de uma lista de listas será \"list\", do mesmo jeito\n",
        "type(matriz)"
      ]
    },
    {
      "cell_type": "code",
      "execution_count": 10,
      "metadata": {
        "colab": {
          "base_uri": "https://localhost:8080/"
        },
        "id": "ZqEALhpdxE4P",
        "outputId": "e204e690-8f2c-4ae1-dba8-28a21be70982"
      },
      "outputs": [
        {
          "output_type": "execute_result",
          "data": {
            "text/plain": [
              "list"
            ]
          },
          "metadata": {},
          "execution_count": 10
        }
      ],
      "source": [
        "# tipo da lista que tem dentro da lista. Não tem como ser de outro tipo, já que é uma lista normal, certo?\n",
        "type(matriz[0])"
      ]
    },
    {
      "cell_type": "code",
      "execution_count": 11,
      "metadata": {
        "colab": {
          "base_uri": "https://localhost:8080/"
        },
        "id": "7jM9cKOExE4P",
        "outputId": "2c67b903-1d66-4a5f-8a37-491adda51b70"
      },
      "outputs": [
        {
          "output_type": "stream",
          "name": "stdout",
          "text": [
            "[1, 2, 3]\n",
            "[4, 5, 6]\n",
            "[7, 8, 9]\n",
            "[10, 11, 12]\n"
          ]
        }
      ],
      "source": [
        "# trecho de código que imprime a matriz de um jeito mais \"bonitinho\"\n",
        "for linha in matriz:\n",
        "    print(linha)  # linha é uma lista de elementos"
      ]
    },
    {
      "cell_type": "code",
      "execution_count": 12,
      "metadata": {
        "colab": {
          "base_uri": "https://localhost:8080/"
        },
        "id": "Qi83hdlBxE4P",
        "outputId": "030bdd81-2102-4175-daa9-caeb6f91c568"
      },
      "outputs": [
        {
          "output_type": "execute_result",
          "data": {
            "text/plain": [
              "6"
            ]
          },
          "metadata": {},
          "execution_count": 12
        }
      ],
      "source": [
        "# para acessar um elemento de uma lista da lista (matriz)\n",
        "#nome_da_matriz[linha][coluna]\n",
        "matriz[1][2]  # arcessa o elemento que está na linha 1, coluna 2 da matriz"
      ]
    },
    {
      "cell_type": "markdown",
      "metadata": {
        "id": "iy6oO0toxE4P"
      },
      "source": [
        "### Indexação\n",
        "\n",
        "Cada elemento de uma lista é indexado a uma posição. <br/>\n",
        "Podemos acessar um elemento passando seu índice com []:"
      ]
    },
    {
      "cell_type": "code",
      "execution_count": 13,
      "metadata": {
        "colab": {
          "base_uri": "https://localhost:8080/"
        },
        "id": "ySETG9QCxE4P",
        "outputId": "7c689ff1-09b2-4e07-81e5-f4c0a2591b0a"
      },
      "outputs": [
        {
          "output_type": "stream",
          "name": "stdout",
          "text": [
            "['Mercúrio', 'Vênus', 'Terra', 'Marte', 'Júpiter', 'Saturno', 'Urano', 'Netuno']\n"
          ]
        }
      ],
      "source": [
        "print(planetas)"
      ]
    },
    {
      "cell_type": "code",
      "execution_count": 14,
      "metadata": {
        "colab": {
          "base_uri": "https://localhost:8080/",
          "height": 35
        },
        "id": "m_e7GhyjxE4Q",
        "outputId": "da361e7b-753b-4d7f-d3dd-3b6a9ffc3110"
      },
      "outputs": [
        {
          "output_type": "execute_result",
          "data": {
            "text/plain": [
              "'Mercúrio'"
            ],
            "application/vnd.google.colaboratory.intrinsic+json": {
              "type": "string"
            }
          },
          "metadata": {},
          "execution_count": 14
        }
      ],
      "source": [
        "# primeiro elemento da lista planetas\n",
        "planetas[0]"
      ]
    },
    {
      "cell_type": "code",
      "execution_count": 15,
      "metadata": {
        "colab": {
          "base_uri": "https://localhost:8080/",
          "height": 35
        },
        "id": "GT8scfKvxE4Q",
        "outputId": "9183924c-aa94-468c-e9b5-f02a3d91fe2d"
      },
      "outputs": [
        {
          "output_type": "execute_result",
          "data": {
            "text/plain": [
              "'Terra'"
            ],
            "application/vnd.google.colaboratory.intrinsic+json": {
              "type": "string"
            }
          },
          "metadata": {},
          "execution_count": 15
        }
      ],
      "source": [
        "# terceiro elemento da lista planetas\n",
        "planetas[2]"
      ]
    },
    {
      "cell_type": "code",
      "execution_count": 16,
      "metadata": {
        "colab": {
          "base_uri": "https://localhost:8080/"
        },
        "id": "1H9rUdVyxE4Q",
        "outputId": "6d08ffcd-ec73-42a0-8305-0e911defa953"
      },
      "outputs": [
        {
          "output_type": "execute_result",
          "data": {
            "text/plain": [
              "8"
            ]
          },
          "metadata": {},
          "execution_count": 16
        }
      ],
      "source": [
        "# checa o tamanho da lista (o número de elementos da lista)\n",
        "len(planetas)"
      ]
    },
    {
      "cell_type": "code",
      "execution_count": 17,
      "metadata": {
        "colab": {
          "base_uri": "https://localhost:8080/",
          "height": 35
        },
        "id": "R8Ek9Vz6xE4Q",
        "outputId": "60e48c3c-7be9-4618-d7c6-f8b599521ec6"
      },
      "outputs": [
        {
          "output_type": "execute_result",
          "data": {
            "text/plain": [
              "'Netuno'"
            ],
            "application/vnd.google.colaboratory.intrinsic+json": {
              "type": "string"
            }
          },
          "metadata": {},
          "execution_count": 17
        }
      ],
      "source": [
        "# o oitavo elemento da lista\n",
        "planetas[7]"
      ]
    },
    {
      "cell_type": "code",
      "execution_count": 19,
      "metadata": {
        "colab": {
          "base_uri": "https://localhost:8080/",
          "height": 193
        },
        "id": "kLUdHLcnxE4Q",
        "outputId": "ec779a52-e29d-4ab6-8b87-5dec6197d6c5"
      },
      "outputs": [
        {
          "output_type": "error",
          "ename": "IndexError",
          "evalue": "ignored",
          "traceback": [
            "\u001b[0;31m---------------------------------------------------------------------------\u001b[0m",
            "\u001b[0;31mIndexError\u001b[0m                                Traceback (most recent call last)",
            "\u001b[0;32m<ipython-input-19-e95cad8187c3>\u001b[0m in \u001b[0;36m<cell line: 2>\u001b[0;34m()\u001b[0m\n\u001b[1;32m      1\u001b[0m \u001b[0;31m# aqui vai dar erro porque a lista não tem 9 elementos, somente 8.\u001b[0m\u001b[0;34m\u001b[0m\u001b[0;34m\u001b[0m\u001b[0m\n\u001b[0;32m----> 2\u001b[0;31m \u001b[0mplanetas\u001b[0m\u001b[0;34m[\u001b[0m\u001b[0;36m8\u001b[0m\u001b[0;34m]\u001b[0m\u001b[0;34m\u001b[0m\u001b[0;34m\u001b[0m\u001b[0m\n\u001b[0m",
            "\u001b[0;31mIndexError\u001b[0m: list index out of range"
          ]
        }
      ],
      "source": [
        "# aqui vai dar erro porque a lista não tem 9 elementos, somente 8.\n",
        "planetas[8]"
      ]
    },
    {
      "cell_type": "markdown",
      "metadata": {
        "id": "whP-YOJGxE4Q"
      },
      "source": [
        "Listas em Python suportam **índices negativos**, cuja ordem de indexação é o contrário, começando do final para o início:"
      ]
    },
    {
      "cell_type": "code",
      "execution_count": 20,
      "metadata": {
        "colab": {
          "base_uri": "https://localhost:8080/",
          "height": 35
        },
        "id": "bhr1vtz4xE4Q",
        "outputId": "ab2bcf2a-c434-4e57-e852-1beb4aeeb841"
      },
      "outputs": [
        {
          "output_type": "execute_result",
          "data": {
            "text/plain": [
              "'Netuno'"
            ],
            "application/vnd.google.colaboratory.intrinsic+json": {
              "type": "string"
            }
          },
          "metadata": {},
          "execution_count": 20
        }
      ],
      "source": [
        "# o -1 será o último elemento da lista\n",
        "planetas[-1]  # acessando o último elemento da lista"
      ]
    },
    {
      "cell_type": "code",
      "execution_count": 21,
      "metadata": {
        "colab": {
          "base_uri": "https://localhost:8080/",
          "height": 35
        },
        "id": "QHeBGipyxE4Q",
        "outputId": "2502ec79-39cb-485c-e550-e78756d618ae"
      },
      "outputs": [
        {
          "output_type": "execute_result",
          "data": {
            "text/plain": [
              "'Urano'"
            ],
            "application/vnd.google.colaboratory.intrinsic+json": {
              "type": "string"
            }
          },
          "metadata": {},
          "execution_count": 21
        }
      ],
      "source": [
        "planetas[-2]  # acessando o penúltimo elemento da lista"
      ]
    },
    {
      "cell_type": "markdown",
      "metadata": {
        "id": "dALTqX0KxE4Q"
      },
      "source": [
        "Podemos também acessar o _último elemento_ da lista desta maneira:"
      ]
    },
    {
      "cell_type": "code",
      "execution_count": 22,
      "metadata": {
        "colab": {
          "base_uri": "https://localhost:8080/"
        },
        "id": "h5VAkH4NxE4Q",
        "outputId": "d62141af-bf33-43ec-bbe4-675dafa5562a"
      },
      "outputs": [
        {
          "output_type": "execute_result",
          "data": {
            "text/plain": [
              "8"
            ]
          },
          "metadata": {},
          "execution_count": 22
        }
      ],
      "source": [
        "# tamanho da lista\n",
        "len(planetas)"
      ]
    },
    {
      "cell_type": "code",
      "execution_count": 23,
      "metadata": {
        "colab": {
          "base_uri": "https://localhost:8080/",
          "height": 35
        },
        "id": "b3vfeTeVxE4Q",
        "outputId": "e87101d9-9ed8-4352-b516-426ec732fa8a"
      },
      "outputs": [
        {
          "output_type": "execute_result",
          "data": {
            "text/plain": [
              "'Netuno'"
            ],
            "application/vnd.google.colaboratory.intrinsic+json": {
              "type": "string"
            }
          },
          "metadata": {},
          "execution_count": 23
        }
      ],
      "source": [
        "# índice = tamanho da lista - 1\n",
        "planetas[len(planetas) - 1]"
      ]
    },
    {
      "cell_type": "markdown",
      "metadata": {
        "id": "txhe2X9AxE4Q"
      },
      "source": [
        "Inline-style:\n",
        "![](./imagens/exemplo_lista_indices.png)"
      ]
    },
    {
      "cell_type": "markdown",
      "metadata": {
        "id": "h96BQEG6xE4Q"
      },
      "source": [
        "### Slicing (fatiamento)\n",
        "Podemos retornar **uma cópia** dos elementos de um **intervalo contínuo** de uma lista."
      ]
    },
    {
      "cell_type": "code",
      "execution_count": 24,
      "metadata": {
        "colab": {
          "base_uri": "https://localhost:8080/"
        },
        "id": "E4lrO2hmxE4R",
        "outputId": "65c9a181-2059-4be3-b449-68f4ec8ffccd"
      },
      "outputs": [
        {
          "output_type": "execute_result",
          "data": {
            "text/plain": [
              "['Mercúrio', 'Vênus', 'Terra']"
            ]
          },
          "metadata": {},
          "execution_count": 24
        }
      ],
      "source": [
        "# Quais são os 3 primeiros elementos (planetas) da nossa lista?\n",
        "planetas[0:3]  # 0:3 ==> gera o intervalo [0, 3) ===> [0, 1, 2]"
      ]
    },
    {
      "cell_type": "markdown",
      "metadata": {
        "id": "qeopxR7WxE4R"
      },
      "source": [
        "`planetas[0:3]` é nosso jeito de consultar os elementos da lista `planetas` do índice 0 até o índice 3 (sem incluí-lo)."
      ]
    },
    {
      "cell_type": "markdown",
      "metadata": {
        "id": "qH2ihu9sxE4R"
      },
      "source": [
        "#### Entendendo os índices de um Intervalo\n",
        "Um intervalo em python sempre **inclui** o número passado como **limite inferior** e *exclui* o número do *limite superior* do intervalo.\n",
        "\n",
        "`[10:15]` são os números do intervalo [10, 15), ou seja, [10, 11, 12, 13, 14]"
      ]
    },
    {
      "cell_type": "markdown",
      "metadata": {
        "id": "M9MR2JpaxE4R"
      },
      "source": [
        "#### De volta ao slicing"
      ]
    },
    {
      "cell_type": "markdown",
      "metadata": {
        "id": "pfIcrVYAxE4R"
      },
      "source": [
        "Os índices iniciais e finais do intervalo do _slicing_ são **opcionais**.\n",
        "\n",
        "Se não informarmos o _índice inicial_, o valor 0 é assumido:"
      ]
    },
    {
      "cell_type": "code",
      "execution_count": 25,
      "metadata": {
        "colab": {
          "base_uri": "https://localhost:8080/"
        },
        "id": "hYMf_L1uxE4S",
        "outputId": "448ee396-4fee-4dba-ac3a-dadb7991c9f3"
      },
      "outputs": [
        {
          "output_type": "stream",
          "name": "stdout",
          "text": [
            "['Mercúrio', 'Vênus', 'Terra', 'Marte', 'Júpiter', 'Saturno', 'Urano', 'Netuno']\n"
          ]
        }
      ],
      "source": [
        "print(planetas)"
      ]
    },
    {
      "cell_type": "code",
      "execution_count": 26,
      "metadata": {
        "colab": {
          "base_uri": "https://localhost:8080/"
        },
        "id": "0qLm5irOxE4S",
        "outputId": "a93a983e-0495-4b9f-88a2-8d2e359b28e5"
      },
      "outputs": [
        {
          "output_type": "execute_result",
          "data": {
            "text/plain": [
              "['Mercúrio', 'Vênus', 'Terra']"
            ]
          },
          "metadata": {},
          "execution_count": 26
        }
      ],
      "source": [
        "# Quais são os 3 primeiros elementos (planetas) da nossa lista?\n",
        "planetas[:3]  # retorna os elements do intervalo [0, 3) ==> [0, 1, 2]"
      ]
    },
    {
      "cell_type": "markdown",
      "metadata": {
        "id": "hMTbzjFAxE4S"
      },
      "source": [
        "Se ignorarmos o _índice final_, é assumido o _tamanho da lista_ `len(lista)`:"
      ]
    },
    {
      "cell_type": "code",
      "execution_count": 27,
      "metadata": {
        "colab": {
          "base_uri": "https://localhost:8080/"
        },
        "id": "EKN3oAhwxE4S",
        "outputId": "ead4805f-0b54-4f11-a3fc-7fdcdb0ca30b"
      },
      "outputs": [
        {
          "output_type": "execute_result",
          "data": {
            "text/plain": [
              "['Marte', 'Júpiter', 'Saturno', 'Urano', 'Netuno']"
            ]
          },
          "metadata": {},
          "execution_count": 27
        }
      ],
      "source": [
        "# retorna todos os elementos do intervalo [3, len(planetas)) ==> 3, 4, 5, 6, 7\n",
        "# outra forma de pensar, considera todos os elementos da lista a partir do índice [3] em diante\n",
        "planetas[3:]"
      ]
    },
    {
      "cell_type": "markdown",
      "metadata": {
        "id": "efaTQg6axE4S"
      },
      "source": [
        "Podemos também fazer o slicing com **índices negativos**:"
      ]
    },
    {
      "cell_type": "code",
      "execution_count": 28,
      "metadata": {
        "colab": {
          "base_uri": "https://localhost:8080/"
        },
        "id": "7y-OAzuGxE4S",
        "outputId": "e59f8594-e7e8-440a-9276-c0389bf6588e"
      },
      "outputs": [
        {
          "output_type": "execute_result",
          "data": {
            "text/plain": [
              "['Vênus', 'Terra', 'Marte', 'Júpiter', 'Saturno', 'Urano']"
            ]
          },
          "metadata": {},
          "execution_count": 28
        }
      ],
      "source": [
        "# 1:-1 ==> [1, -1) ==> [1, len(planetas)-1) ==> [1, 7)\n",
        "planetas[1:-1]"
      ]
    },
    {
      "cell_type": "markdown",
      "metadata": {
        "id": "4ohT8kmYxE4S"
      },
      "source": [
        "`planetas[1:-1]` considera o intervalo que vai do índice [1], o **incluindo**, até o índice [-1] ou [len(planetas) - 1], no exemplo é o índice [7], o **excluindo**. <br/>\n",
        "Portanto, o intervalo retornado contém os índices [1, 2, 3, 4, 5, 6]."
      ]
    },
    {
      "cell_type": "markdown",
      "metadata": {
        "id": "OIf3YvxHxE4T"
      },
      "source": [
        "<br/>"
      ]
    },
    {
      "cell_type": "markdown",
      "metadata": {
        "id": "j4RKatKKxE4T"
      },
      "source": [
        "Outro exemplo:"
      ]
    },
    {
      "cell_type": "code",
      "execution_count": 29,
      "metadata": {
        "colab": {
          "base_uri": "https://localhost:8080/"
        },
        "id": "UUGqXDUTxE4T",
        "outputId": "6d12fdf8-4d49-44fa-edbb-d5e886c96be3"
      },
      "outputs": [
        {
          "output_type": "stream",
          "name": "stdout",
          "text": [
            "['Mercúrio', 'Vênus', 'Terra', 'Marte', 'Júpiter', 'Saturno', 'Urano', 'Netuno']\n"
          ]
        }
      ],
      "source": [
        "print(planetas)"
      ]
    },
    {
      "cell_type": "code",
      "execution_count": 30,
      "metadata": {
        "colab": {
          "base_uri": "https://localhost:8080/"
        },
        "id": "fbRWghLKxE4T",
        "outputId": "1703a246-c8f8-4f2b-fb0c-9c125dd6c472"
      },
      "outputs": [
        {
          "output_type": "execute_result",
          "data": {
            "text/plain": [
              "['Saturno', 'Urano', 'Netuno']"
            ]
          },
          "metadata": {},
          "execution_count": 30
        }
      ],
      "source": [
        "# vai do -3 até o final da lista\n",
        "planetas[-3:]"
      ]
    },
    {
      "cell_type": "markdown",
      "metadata": {
        "id": "krPDle5-xE4T"
      },
      "source": [
        "Vamos entender o intervalo `[-3:]`.\n",
        "\n",
        "O índice `[-3]` corresponde ao índice `[len(planetas) - 3]`, ou seja, o índice `[5]`. <br/>\n",
        "Portanto, `[-3:]` é sinônonimo de `[5:]`.\n",
        "\n",
        "Ao omitir o último índice do intervalo, consideramos por padrão `len(planetas)`, que é 8. <br/>\n",
        "Logo, `[-3:]` é o mesmo que `[5:8]`, que resulta nos índices `[5, 6, 7]`, que são os índices dos 3 últimos elementos dessa lista."
      ]
    },
    {
      "cell_type": "markdown",
      "metadata": {
        "id": "E5rda-NmxE4T"
      },
      "source": [
        "#### Os elementos retornados pelo Slicing de Listas a uma variável são CÓPIAS"
      ]
    },
    {
      "cell_type": "code",
      "execution_count": 31,
      "metadata": {
        "colab": {
          "base_uri": "https://localhost:8080/"
        },
        "id": "grMyTVLwxE4T",
        "outputId": "295e57d5-298f-45b7-ce3f-e600bd2d249e"
      },
      "outputs": [
        {
          "output_type": "stream",
          "name": "stdout",
          "text": [
            "['Saturno', 'Urano', 'Netuno']\n",
            "['Mercúrio', 'Vênus', 'Terra', 'Marte', 'Júpiter', 'Saturno', 'Urano', 'Netuno']\n"
          ]
        }
      ],
      "source": [
        "ultimos_planetas = planetas[-3:]\n",
        "print(ultimos_planetas)\n",
        "print(planetas)"
      ]
    },
    {
      "cell_type": "code",
      "execution_count": 32,
      "metadata": {
        "colab": {
          "base_uri": "https://localhost:8080/"
        },
        "id": "C93O8_twxE4U",
        "outputId": "3ae0fb87-d1f9-4228-cabc-144acf39fdc9"
      },
      "outputs": [
        {
          "output_type": "stream",
          "name": "stdout",
          "text": [
            "['Brasil', 'Urano', 'Netuno']\n",
            "['Mercúrio', 'Vênus', 'Terra', 'Marte', 'Júpiter', 'Saturno', 'Urano', 'Netuno']\n"
          ]
        }
      ],
      "source": [
        "# substituindo o primeiro elemento da lista por outro\n",
        "ultimos_planetas[0] = 'Brasil'\n",
        "print(ultimos_planetas)\n",
        "print(planetas)"
      ]
    },
    {
      "cell_type": "markdown",
      "metadata": {
        "id": "nPmTtegAxE4U"
      },
      "source": [
        "#### Alteração de Múltiplos elementos de uma Lista via Slicing"
      ]
    },
    {
      "cell_type": "code",
      "execution_count": 33,
      "metadata": {
        "colab": {
          "base_uri": "https://localhost:8080/"
        },
        "id": "LA6YzF2QxE4U",
        "outputId": "d3c3c3f4-694b-4981-f6a5-b914c60589f2"
      },
      "outputs": [
        {
          "output_type": "stream",
          "name": "stdout",
          "text": [
            "['Mercúrio', 'Vênus', 'Terra', 'Marte', 'Júpiter', 'Saturno', 'Urano', 'Netuno']\n"
          ]
        }
      ],
      "source": [
        "print(planetas)"
      ]
    },
    {
      "cell_type": "code",
      "execution_count": 34,
      "metadata": {
        "colab": {
          "base_uri": "https://localhost:8080/"
        },
        "id": "BSUQLCkdxE4U",
        "outputId": "f5f397be-3564-42af-e313-bbc378389665"
      },
      "outputs": [
        {
          "output_type": "stream",
          "name": "stdout",
          "text": [
            "['Mercúrio', 'Vênus', 'Terra', 'Marte', 'Júpiter', 'Brasil', 'Holanda', 'Italia']\n"
          ]
        }
      ],
      "source": [
        "# planetas[-3] = 'Brasil'\n",
        "# planetas[-2] = 'Holanda'\n",
        "# planetas[-1] = 'Italia'\n",
        "# isso acima seria a primeira opção e a que a gente pensa primeiro, só que adiciona os elementos 1 por 1\n",
        "\n",
        "## alternativamente\n",
        "planetas[-3:] = ['Brasil', 'Holanda', 'Italia']\n",
        "print(planetas)"
      ]
    },
    {
      "cell_type": "markdown",
      "metadata": {
        "id": "K5YpDStixE4U"
      },
      "source": [
        "<br/>\n",
        "\n",
        "Se o **número de elementos atribuídos for DIFERENTE do número de elementos do slicing**, os elementes excedentos ou faltantes da lista são ignorados ===> TOME CUIDADO"
      ]
    },
    {
      "cell_type": "code",
      "execution_count": 35,
      "metadata": {
        "colab": {
          "base_uri": "https://localhost:8080/"
        },
        "id": "ZUhdLU0YxE4U",
        "outputId": "63d926fe-e4bc-422e-d6c7-ee8df3387dca"
      },
      "outputs": [
        {
          "output_type": "stream",
          "name": "stdout",
          "text": [
            "['Mercúrio', 'Japão', 'Júpiter', 'Brasil', 'Holanda', 'Italia']\n"
          ]
        }
      ],
      "source": [
        "# o intervalo 1 a 4 é vênus, terra e marte, mas ele foi substituído por somente Japão\n",
        "planetas[1:4] = ['Japão']\n",
        "print(planetas)"
      ]
    },
    {
      "cell_type": "markdown",
      "metadata": {
        "id": "6yJ2GPAxxE4U"
      },
      "source": [
        "### For-each em Listas\n",
        "Como mostrado no notebook anterior, podemos iterar elementos em uma lista:"
      ]
    },
    {
      "cell_type": "code",
      "execution_count": 36,
      "metadata": {
        "colab": {
          "base_uri": "https://localhost:8080/"
        },
        "id": "XbW4OIqsxE4U",
        "outputId": "33e520a5-7d65-4210-fcf3-869148500fab"
      },
      "outputs": [
        {
          "output_type": "execute_result",
          "data": {
            "text/plain": [
              "['Mercúrio',\n",
              " 'Vênus',\n",
              " 'Terra',\n",
              " 'Marte',\n",
              " 'Júpiter',\n",
              " 'Saturno',\n",
              " 'Urano',\n",
              " 'Netuno']"
            ]
          },
          "metadata": {},
          "execution_count": 36
        }
      ],
      "source": [
        "planetas = ['Mercúrio', 'Vênus', 'Terra', 'Marte', 'Júpiter', 'Saturno', 'Urano', 'Netuno']\n",
        "planetas"
      ]
    },
    {
      "cell_type": "code",
      "execution_count": 37,
      "metadata": {
        "colab": {
          "base_uri": "https://localhost:8080/"
        },
        "id": "MzVV95BOxE4U",
        "outputId": "da471c9b-0289-4b0e-db31-c8dbdd2a7887"
      },
      "outputs": [
        {
          "output_type": "stream",
          "name": "stdout",
          "text": [
            "planeta = Mercúrio\n",
            "planeta = Vênus\n",
            "planeta = Terra\n",
            "planeta = Marte\n",
            "planeta = Júpiter\n",
            "planeta = Saturno\n",
            "planeta = Urano\n",
            "planeta = Netuno\n"
          ]
        }
      ],
      "source": [
        "for planeta in planetas:\n",
        "    print(f'planeta = {planeta}')"
      ]
    },
    {
      "cell_type": "code",
      "execution_count": 38,
      "metadata": {
        "colab": {
          "base_uri": "https://localhost:8080/"
        },
        "id": "j972oEFExE4V",
        "outputId": "55f8390d-9ef8-44a8-86f6-c15f14a5f994"
      },
      "outputs": [
        {
          "output_type": "stream",
          "name": "stdout",
          "text": [
            "planeta = Vênus\n",
            "planeta = Terra\n",
            "planeta = Marte\n"
          ]
        }
      ],
      "source": [
        "# queremos iterar no intervalo [1, 4)\n",
        "for planeta in planetas[1:4]:\n",
        "    print(f'planeta = {planeta}')"
      ]
    },
    {
      "cell_type": "markdown",
      "metadata": {
        "id": "BGCaj-5FxE4V"
      },
      "source": [
        "No `for`, podemos também recuperar o **índice** e o *elemento* de uma lista, basta usarmos o comando `enumerate`:\n",
        "\n",
        "<code>\n",
        "    for i, elemento in enumerate(lista):\n",
        "        intrução 01\n",
        "        ....\n",
        "</code>"
      ]
    },
    {
      "cell_type": "code",
      "execution_count": 41,
      "metadata": {
        "colab": {
          "base_uri": "https://localhost:8080/"
        },
        "id": "tqvG3z1bxE4V",
        "outputId": "6f113488-5265-4dc6-9032-06cbc93813e1"
      },
      "outputs": [
        {
          "output_type": "stream",
          "name": "stdout",
          "text": [
            "planeta[0] = Mercúrio, Mercúrio\n",
            "planeta[1] = Vênus, Vênus\n",
            "planeta[2] = Terra, Terra\n",
            "planeta[3] = Marte, Marte\n",
            "planeta[4] = Júpiter, Júpiter\n",
            "planeta[5] = Saturno, Saturno\n",
            "planeta[6] = Urano, Urano\n",
            "planeta[7] = Netuno, Netuno\n"
          ]
        }
      ],
      "source": [
        "for i, plan in enumerate(planetas):\n",
        "    print(f'planeta[{i}] = {plan}, {planetas[i]}')"
      ]
    },
    {
      "cell_type": "code",
      "execution_count": 42,
      "metadata": {
        "colab": {
          "base_uri": "https://localhost:8080/"
        },
        "id": "gAPXLptQxE4V",
        "outputId": "df2d6887-e911-4ea3-ed06-e8c1278a0aa7"
      },
      "outputs": [
        {
          "output_type": "stream",
          "name": "stdout",
          "text": [
            "planeta[0] = Vênus\n",
            "planeta[1] = Terra\n",
            "planeta[2] = Marte\n"
          ]
        }
      ],
      "source": [
        "# planetas[1:4] ==> gera uma nova lista com os elementos dos índice 1, 2, 3 da lista planetas\n",
        "# os elementos desta nova lista estão indexados a partir do 0\n",
        "\n",
        "for i, plan in enumerate(planetas[1:4]):\n",
        "    print(f'planeta[{i}] = {plan}')"
      ]
    },
    {
      "cell_type": "code",
      "execution_count": 43,
      "metadata": {
        "colab": {
          "base_uri": "https://localhost:8080/"
        },
        "id": "tIh4IC3KxE4V",
        "outputId": "32dba5f0-9451-4ade-db7d-b33b998f085f"
      },
      "outputs": [
        {
          "output_type": "stream",
          "name": "stdout",
          "text": [
            "planeta[1] = Vênus\n",
            "planeta[2] = Terra\n",
            "planeta[3] = Marte\n"
          ]
        }
      ],
      "source": [
        "for i in range(1, 4): # lembrando que o 4 é exclusivo\n",
        "    print(f'planeta[{i}] = {planetas[i]}')"
      ]
    },
    {
      "cell_type": "markdown",
      "metadata": {
        "id": "CwCrpgRWxE4V"
      },
      "source": [
        "### Funções de Listas"
      ]
    },
    {
      "cell_type": "code",
      "execution_count": 44,
      "metadata": {
        "colab": {
          "base_uri": "https://localhost:8080/"
        },
        "id": "eGTCowifxE4V",
        "outputId": "e5829ebf-dde7-4fc2-c9b0-659ce1e28c66"
      },
      "outputs": [
        {
          "output_type": "stream",
          "name": "stdout",
          "text": [
            "['Mercúrio', 'Vênus', 'Terra', 'Marte', 'Júpiter', 'Saturno', 'Urano', 'Netuno']\n"
          ]
        }
      ],
      "source": [
        "print(planetas)"
      ]
    },
    {
      "cell_type": "markdown",
      "metadata": {
        "id": "HXZiV0TPxE4V"
      },
      "source": [
        "`len` retorna o tamanho de uma lista (número de elementos)"
      ]
    },
    {
      "cell_type": "code",
      "execution_count": 45,
      "metadata": {
        "colab": {
          "base_uri": "https://localhost:8080/"
        },
        "id": "MUblv50gxE4V",
        "outputId": "05a1166b-b1a0-46e5-d1f4-173bada7af4c"
      },
      "outputs": [
        {
          "output_type": "execute_result",
          "data": {
            "text/plain": [
              "8"
            ]
          },
          "metadata": {},
          "execution_count": 45
        }
      ],
      "source": [
        "len(planetas)"
      ]
    },
    {
      "cell_type": "markdown",
      "metadata": {
        "id": "UwM0pKvCxE4V"
      },
      "source": [
        "`min` retorna o menor elemento de uma lista"
      ]
    },
    {
      "cell_type": "code",
      "execution_count": 46,
      "metadata": {
        "colab": {
          "base_uri": "https://localhost:8080/"
        },
        "id": "RErVfKh-xE4V",
        "outputId": "340eb084-c561-490b-a165-002ae4530c92"
      },
      "outputs": [
        {
          "output_type": "execute_result",
          "data": {
            "text/plain": [
              "2"
            ]
          },
          "metadata": {},
          "execution_count": 46
        }
      ],
      "source": [
        "lista_de_numeros = [10, 5, 20, 2]\n",
        "min(lista_de_numeros)"
      ]
    },
    {
      "cell_type": "code",
      "execution_count": 47,
      "metadata": {
        "colab": {
          "base_uri": "https://localhost:8080/",
          "height": 35
        },
        "id": "EZRD9J1QxE4V",
        "outputId": "03ec9889-6329-42bc-99a1-67afc9cb75cf"
      },
      "outputs": [
        {
          "output_type": "execute_result",
          "data": {
            "text/plain": [
              "'Júpiter'"
            ],
            "application/vnd.google.colaboratory.intrinsic+json": {
              "type": "string"
            }
          },
          "metadata": {},
          "execution_count": 47
        }
      ],
      "source": [
        "# no caso de uma lista de strings, retorna o 'menor' elemento em ordem alfabética\n",
        "min(planetas)"
      ]
    },
    {
      "cell_type": "markdown",
      "metadata": {
        "id": "eb_XuDeGxE4V"
      },
      "source": [
        "`max` retorna o maior elemento de uma lista"
      ]
    },
    {
      "cell_type": "code",
      "execution_count": 48,
      "metadata": {
        "colab": {
          "base_uri": "https://localhost:8080/"
        },
        "id": "V3FGB0r2xE4W",
        "outputId": "04680633-f0ef-4f03-d113-517f104efd4f"
      },
      "outputs": [
        {
          "output_type": "execute_result",
          "data": {
            "text/plain": [
              "20"
            ]
          },
          "metadata": {},
          "execution_count": 48
        }
      ],
      "source": [
        "max(lista_de_numeros)"
      ]
    },
    {
      "cell_type": "code",
      "execution_count": 49,
      "metadata": {
        "colab": {
          "base_uri": "https://localhost:8080/",
          "height": 35
        },
        "id": "V3b6MQjyxE4W",
        "outputId": "21dec251-688f-443e-ccfe-3d986758d51f"
      },
      "outputs": [
        {
          "output_type": "execute_result",
          "data": {
            "text/plain": [
              "'Vênus'"
            ],
            "application/vnd.google.colaboratory.intrinsic+json": {
              "type": "string"
            }
          },
          "metadata": {},
          "execution_count": 49
        }
      ],
      "source": [
        "# no caso de uma lista de strings, retorna o 'maior' elemento em ordem alfabética\n",
        "max(planetas)"
      ]
    },
    {
      "cell_type": "markdown",
      "metadata": {
        "id": "cdg_W43NxE4W"
      },
      "source": [
        "`sum` retorna a soma de elementos de uma lista"
      ]
    },
    {
      "cell_type": "code",
      "execution_count": 50,
      "metadata": {
        "colab": {
          "base_uri": "https://localhost:8080/"
        },
        "id": "6rAUWxQVxE4W",
        "outputId": "7569b169-3abd-43bc-f863-3adb1b6a2ed1"
      },
      "outputs": [
        {
          "output_type": "execute_result",
          "data": {
            "text/plain": [
              "37"
            ]
          },
          "metadata": {},
          "execution_count": 50
        }
      ],
      "source": [
        "# soma = 0\n",
        "# for num in lista_de_numeros:\n",
        "#     soma += num\n",
        "\n",
        "## alternativamente\n",
        "sum(lista_de_numeros)"
      ]
    },
    {
      "cell_type": "markdown",
      "metadata": {
        "id": "BATeyWAjxE4W"
      },
      "source": [
        "### Métodos de Listas"
      ]
    },
    {
      "cell_type": "markdown",
      "metadata": {
        "id": "T6G091lnxE4W"
      },
      "source": [
        "`list.append` modifica uma lista adicionando um item (de qualquer tipo) no final."
      ]
    },
    {
      "cell_type": "code",
      "execution_count": null,
      "metadata": {
        "id": "l34p2iBUxE4W",
        "outputId": "f44f9fab-01bf-4026-a443-70baf1cd2e15"
      },
      "outputs": [
        {
          "name": "stdout",
          "output_type": "stream",
          "text": [
            "['Mercúrio', 'Vênus', 'Terra', 'Marte', 'Júpiter', 'Saturno', 'Urano', 'Netuno']\n"
          ]
        }
      ],
      "source": [
        "# CONTINUAR AQUI - FALTA 40:45 para concluir o tempo!!!!!!!!!!!!\n",
        "print(planetas)"
      ]
    },
    {
      "cell_type": "code",
      "execution_count": null,
      "metadata": {
        "id": "wlODtgJQxE4W",
        "outputId": "277f8710-25ac-4f7d-fd25-3d37b8cbf2b2"
      },
      "outputs": [
        {
          "name": "stdout",
          "output_type": "stream",
          "text": [
            "['Mercúrio', 'Vênus', 'Terra', 'Marte', 'Júpiter', 'Saturno', 'Urano', 'Netuno', 'Plutão']\n"
          ]
        }
      ],
      "source": [
        "planetas.append('Plutão')\n",
        "print(planetas)"
      ]
    },
    {
      "cell_type": "markdown",
      "metadata": {
        "id": "C64YFjsexE4W"
      },
      "source": [
        "`list.pop` remove e retorna o último elemento da lista:"
      ]
    },
    {
      "cell_type": "code",
      "execution_count": null,
      "metadata": {
        "id": "7-5HwTuKxE4W",
        "outputId": "22e72b5c-d928-41eb-8edc-761bc5f501fc"
      },
      "outputs": [
        {
          "name": "stdout",
          "output_type": "stream",
          "text": [
            "Plutão\n",
            "['Mercúrio', 'Vênus', 'Terra', 'Marte', 'Júpiter', 'Saturno', 'Urano', 'Netuno']\n"
          ]
        }
      ],
      "source": [
        "ultimo_planeta = planetas.pop()\n",
        "print(ultimo_planeta)\n",
        "print(planetas)"
      ]
    },
    {
      "cell_type": "code",
      "execution_count": null,
      "metadata": {
        "id": "xsvzyvpNxE4W",
        "outputId": "8047a704-fd66-4f3f-88d0-53d36febd15f"
      },
      "outputs": [
        {
          "name": "stdout",
          "output_type": "stream",
          "text": [
            "Vênus\n",
            "['Mercúrio', 'Terra', 'Marte', 'Júpiter', 'Saturno', 'Urano', 'Netuno']\n"
          ]
        }
      ],
      "source": [
        "segundo_planeta = planetas.pop(1)\n",
        "print(segundo_planeta)\n",
        "print(planetas)"
      ]
    },
    {
      "cell_type": "markdown",
      "metadata": {
        "id": "cPne0sj4xE4W"
      },
      "source": [
        "`reverse` reverte a ordem dos elementos da lista."
      ]
    },
    {
      "cell_type": "code",
      "execution_count": null,
      "metadata": {
        "id": "PG7xS8qmxE4X",
        "outputId": "57141a9c-f983-4143-8781-e59c17f637b0"
      },
      "outputs": [
        {
          "name": "stdout",
          "output_type": "stream",
          "text": [
            "['Mercúrio', 'Vênus', 'Terra', 'Marte', 'Júpiter', 'Saturno', 'Urano', 'Netuno']\n"
          ]
        }
      ],
      "source": [
        "planetas = ['Mercúrio', 'Vênus', 'Terra', 'Marte', 'Júpiter', 'Saturno', 'Urano', 'Netuno']\n",
        "print(planetas)"
      ]
    },
    {
      "cell_type": "code",
      "execution_count": null,
      "metadata": {
        "id": "biANjP5nxE4X",
        "outputId": "83274d49-c852-499b-d952-ad21b53697d8"
      },
      "outputs": [
        {
          "name": "stdout",
          "output_type": "stream",
          "text": [
            "['Netuno', 'Urano', 'Saturno', 'Júpiter', 'Marte', 'Terra', 'Vênus', 'Mercúrio']\n"
          ]
        }
      ],
      "source": [
        "planetas.reverse()  # reverte os elementos da lista planeta (in place, ou seja, reverte a própria lista)\n",
        "print(planetas)"
      ]
    },
    {
      "cell_type": "markdown",
      "metadata": {
        "id": "CccBe64hxE4X"
      },
      "source": [
        "O possível problema é que a **própria lista** é revertida. <br>\n",
        "Caso você deseje ter uma **cópia revertida** da lista:"
      ]
    },
    {
      "cell_type": "code",
      "execution_count": null,
      "metadata": {
        "id": "0GuIVASsxE4X",
        "outputId": "a843f0fe-4d32-4b1c-db91-091f784a2501"
      },
      "outputs": [
        {
          "name": "stdout",
          "output_type": "stream",
          "text": [
            "['Mercúrio', 'Vênus', 'Terra', 'Marte', 'Júpiter', 'Saturno', 'Urano', 'Netuno']\n"
          ]
        }
      ],
      "source": [
        "planetas = ['Mercúrio', 'Vênus', 'Terra', 'Marte', 'Júpiter', 'Saturno', 'Urano', 'Netuno']\n",
        "print(planetas)"
      ]
    },
    {
      "cell_type": "code",
      "execution_count": null,
      "metadata": {
        "id": "UZwE_ohmxE4X",
        "outputId": "5d98ed90-2674-4aa0-d960-c10400c84454"
      },
      "outputs": [
        {
          "name": "stdout",
          "output_type": "stream",
          "text": [
            "['Mercúrio', 'Vênus', 'Terra', 'Marte', 'Júpiter', 'Saturno', 'Urano', 'Netuno']\n",
            "['Netuno', 'Urano', 'Saturno', 'Júpiter', 'Marte', 'Terra', 'Vênus', 'Mercúrio']\n"
          ]
        }
      ],
      "source": [
        "planetas_revertidos = list(planetas)  # faz uma cópia da lista de planetas\n",
        "planetas_revertidos.reverse()\n",
        "\n",
        "print(planetas)\n",
        "print(planetas_revertidos)"
      ]
    },
    {
      "cell_type": "markdown",
      "metadata": {
        "id": "LWJJLDj3xE4X"
      },
      "source": [
        "#### Ordenação de listas"
      ]
    },
    {
      "cell_type": "markdown",
      "metadata": {
        "id": "N8GYAfd3xE4X"
      },
      "source": [
        "`sorted` retorna uma versão **ordernada (em ordem crescente)** de uma lista (NÃO ALTERA A LISTA ATUAL)"
      ]
    },
    {
      "cell_type": "code",
      "execution_count": null,
      "metadata": {
        "id": "QLhnh-w9xE4X",
        "outputId": "ad5cc018-7c37-4865-b817-3668d2cdfad8"
      },
      "outputs": [
        {
          "data": {
            "text/plain": [
              "[10, 5, 20, 2]"
            ]
          },
          "execution_count": 102,
          "metadata": {},
          "output_type": "execute_result"
        }
      ],
      "source": [
        "lista_de_numeros"
      ]
    },
    {
      "cell_type": "code",
      "execution_count": null,
      "metadata": {
        "id": "ifqaFNiixE4X",
        "outputId": "53dfb8c2-c910-4072-ea7b-81c689aa38d8"
      },
      "outputs": [
        {
          "name": "stdout",
          "output_type": "stream",
          "text": [
            "[10, 5, 20, 2]\n",
            "[2, 5, 10, 20]\n"
          ]
        }
      ],
      "source": [
        "lista_de_numeros_ordenada = sorted(lista_de_numeros)\n",
        "\n",
        "print(lista_de_numeros)\n",
        "print(lista_de_numeros_ordenada)"
      ]
    },
    {
      "cell_type": "code",
      "execution_count": null,
      "metadata": {
        "id": "uWWZ2svWxE4X",
        "outputId": "991b2689-ee35-4563-e8ee-d4866524332b"
      },
      "outputs": [
        {
          "name": "stdout",
          "output_type": "stream",
          "text": [
            "['Mercúrio', 'Vênus', 'Terra', 'Marte', 'Júpiter', 'Saturno', 'Urano', 'Netuno']\n",
            "['Júpiter', 'Marte', 'Mercúrio', 'Netuno', 'Saturno', 'Terra', 'Urano', 'Vênus']\n"
          ]
        }
      ],
      "source": [
        "planetas_ordem_alfabetica = sorted(planetas)\n",
        "\n",
        "print(planetas)\n",
        "print(planetas_ordem_alfabetica)"
      ]
    },
    {
      "cell_type": "markdown",
      "metadata": {
        "id": "cBIMUXsYxE4X"
      },
      "source": [
        "##### Para ordernar em **ordem descrente**"
      ]
    },
    {
      "cell_type": "code",
      "execution_count": null,
      "metadata": {
        "id": "3OliTv8YxE4X",
        "outputId": "f7e970c7-ed50-4758-fac0-87d6cff3bc38"
      },
      "outputs": [
        {
          "name": "stdout",
          "output_type": "stream",
          "text": [
            "lista_de_numeros = [10, 5, 20, 2]\n",
            "lista_de_numeros_ordenada = [2, 5, 10, 20]\n",
            "lista_de_numeros_ordem_reversa = [20, 10, 5, 2]\n"
          ]
        }
      ],
      "source": [
        "lista_de_numeros_ordem_reversa = sorted(lista_de_numeros)  # ordena em ordem crescente\n",
        "lista_de_numeros_ordem_reversa.reverse()\n",
        "\n",
        "print(f'lista_de_numeros = {lista_de_numeros}')\n",
        "print(f'lista_de_numeros_ordenada = {lista_de_numeros_ordenada}')\n",
        "print(f'lista_de_numeros_ordem_reversa = {lista_de_numeros_ordem_reversa}')"
      ]
    },
    {
      "cell_type": "code",
      "execution_count": null,
      "metadata": {
        "id": "ULD-UtPFxE4X",
        "outputId": "33d5845d-f67a-4b25-b9e5-d11169020f6f"
      },
      "outputs": [
        {
          "name": "stdout",
          "output_type": "stream",
          "text": [
            "planetas = ['Mercúrio', 'Vênus', 'Terra', 'Marte', 'Júpiter', 'Saturno', 'Urano', 'Netuno']\n",
            "planetas_ordem_alfabetica = ['Júpiter', 'Marte', 'Mercúrio', 'Netuno', 'Saturno', 'Terra', 'Urano', 'Vênus']\n",
            "planetas_ordem_alfabetica_reversa = ['Vênus', 'Urano', 'Terra', 'Saturno', 'Netuno', 'Mercúrio', 'Marte', 'Júpiter']\n"
          ]
        }
      ],
      "source": [
        "planetas_ordem_alfabetica_reversa = sorted(planetas)\n",
        "planetas_ordem_alfabetica_reversa.reverse()\n",
        "\n",
        "print(f'planetas = {planetas}')\n",
        "print(f'planetas_ordem_alfabetica = {planetas_ordem_alfabetica}')\n",
        "print(f'planetas_ordem_alfabetica_reversa = {planetas_ordem_alfabetica_reversa}')"
      ]
    },
    {
      "cell_type": "markdown",
      "metadata": {
        "id": "9vGtVCtmxE4Y"
      },
      "source": [
        "#### Buscando elementos em uma lista"
      ]
    },
    {
      "cell_type": "markdown",
      "metadata": {
        "id": "w5daVOMSxE4Y"
      },
      "source": [
        "`list.index` retorna o índice de um dado elemento da lista, ou lança uma exception caso ele não esteja presente na lista."
      ]
    },
    {
      "cell_type": "code",
      "execution_count": null,
      "metadata": {
        "id": "5eoP79EbxE4Y",
        "outputId": "8e6154eb-7cd0-4060-8be0-3a995c496ca2"
      },
      "outputs": [
        {
          "name": "stdout",
          "output_type": "stream",
          "text": [
            "['Mercúrio', 'Vênus', 'Terra', 'Marte', 'Júpiter', 'Saturno', 'Urano', 'Netuno']\n"
          ]
        }
      ],
      "source": [
        "print(planetas)"
      ]
    },
    {
      "cell_type": "code",
      "execution_count": null,
      "metadata": {
        "id": "kqBZYaGZxE4Y",
        "outputId": "46e7839f-d600-4ea6-a43b-447b03ce4899"
      },
      "outputs": [
        {
          "data": {
            "text/plain": [
              "3"
            ]
          },
          "execution_count": 110,
          "metadata": {},
          "output_type": "execute_result"
        }
      ],
      "source": [
        "# qual é o índice do elemento 'Marte'?\n",
        "planetas.index('Marte')"
      ]
    },
    {
      "cell_type": "code",
      "execution_count": null,
      "metadata": {
        "id": "3ShTkcMqxE4Y",
        "outputId": "c6171449-8469-44ab-dedf-6af7dca494a7"
      },
      "outputs": [
        {
          "ename": "ValueError",
          "evalue": "'Brasil' is not in list",
          "output_type": "error",
          "traceback": [
            "\u001b[0;31m------------------------------------------------------------------\u001b[0m",
            "\u001b[0;31mValueError\u001b[0m                       Traceback (most recent call last)",
            "\u001b[0;32m<ipython-input-111-e293f688ce54>\u001b[0m in \u001b[0;36m<module>\u001b[0;34m\u001b[0m\n\u001b[1;32m      1\u001b[0m \u001b[0;31m# qual é o índice do elemento 'Brasil'? ==> lançar (raise) exception\u001b[0m\u001b[0;34m\u001b[0m\u001b[0;34m\u001b[0m\u001b[0;34m\u001b[0m\u001b[0m\n\u001b[0;32m----> 2\u001b[0;31m \u001b[0mplanetas\u001b[0m\u001b[0;34m.\u001b[0m\u001b[0mindex\u001b[0m\u001b[0;34m(\u001b[0m\u001b[0;34m'Brasil'\u001b[0m\u001b[0;34m)\u001b[0m\u001b[0;34m\u001b[0m\u001b[0;34m\u001b[0m\u001b[0m\n\u001b[0m",
            "\u001b[0;31mValueError\u001b[0m: 'Brasil' is not in list"
          ]
        }
      ],
      "source": [
        "# qual é o índice do elemento 'Brasil'? ==> lançar (raise) exception\n",
        "planetas.index('Brasil')"
      ]
    },
    {
      "cell_type": "markdown",
      "metadata": {
        "id": "AdOyESN6xE4Y"
      },
      "source": [
        "Outra alternativa melhor para saber se **uma lista contém ou não um dado elemento**, sem o lançamento de exception, é usar o `in`:"
      ]
    },
    {
      "cell_type": "code",
      "execution_count": null,
      "metadata": {
        "id": "sRU7NVvVxE4Y",
        "outputId": "094eb4e7-2143-4307-9f9e-5da40dfb9a75"
      },
      "outputs": [
        {
          "data": {
            "text/plain": [
              "True"
            ]
          },
          "execution_count": 112,
          "metadata": {},
          "output_type": "execute_result"
        }
      ],
      "source": [
        "'Marte' in planetas"
      ]
    },
    {
      "cell_type": "code",
      "execution_count": null,
      "metadata": {
        "id": "M9YqmRLXxE4Y",
        "outputId": "2fb17cb9-f8fd-4fe5-b218-5283d742f16e"
      },
      "outputs": [
        {
          "data": {
            "text/plain": [
              "False"
            ]
          },
          "execution_count": 113,
          "metadata": {},
          "output_type": "execute_result"
        }
      ],
      "source": [
        "'Brasil' in planetas"
      ]
    },
    {
      "cell_type": "markdown",
      "metadata": {
        "id": "Ay6Q-nNcxE4Y"
      },
      "source": [
        "Podemos ainda usar o `not in` para checar se a lista **não possui um dado elemento**:"
      ]
    },
    {
      "cell_type": "code",
      "execution_count": null,
      "metadata": {
        "id": "WMvHhm4FxE4Y",
        "outputId": "51c46629-8c15-48a9-d347-4d9b09268dd9"
      },
      "outputs": [
        {
          "data": {
            "text/plain": [
              "True"
            ]
          },
          "execution_count": 114,
          "metadata": {},
          "output_type": "execute_result"
        }
      ],
      "source": [
        "'Brasil' not in planetas"
      ]
    },
    {
      "cell_type": "markdown",
      "metadata": {
        "id": "EjNDisajxE4Y"
      },
      "source": [
        "#### Concatenando listas\n",
        "Suponha que desejamos juntar/concatenar duas listas em uma só. <br/>\n",
        "Podemos tentar usar o método `append`, pois ele adiciona um dado elemento ao final da lista.\n",
        "Vejamos:"
      ]
    },
    {
      "cell_type": "code",
      "execution_count": null,
      "metadata": {
        "id": "YQcMhtRaxE4Y",
        "outputId": "5872e7db-758c-4cbb-c247-d1c1e2aef335"
      },
      "outputs": [
        {
          "name": "stdout",
          "output_type": "stream",
          "text": [
            "['São Paulo', 'Santo André', 'São Bernardo', 'São Caetano']\n",
            "['Pompéia', 'Campinas', 'Hortolândia']\n"
          ]
        }
      ],
      "source": [
        "cidades_grande_sp = ['São Paulo', 'Santo André', 'São Bernardo', 'São Caetano']\n",
        "cidades_interior_sp = ['Pompéia', 'Campinas', 'Hortolândia']\n",
        "\n",
        "print(cidades_grande_sp)\n",
        "print(cidades_interior_sp)"
      ]
    },
    {
      "cell_type": "code",
      "execution_count": null,
      "metadata": {
        "id": "dBLCgk9GxE4Y",
        "outputId": "2f0d404e-d502-4acc-afe2-d25e893ad3f3"
      },
      "outputs": [
        {
          "name": "stdout",
          "output_type": "stream",
          "text": [
            "['São Paulo', 'Santo André', 'São Bernardo', 'São Caetano', 'Pompéia', 'Campinas', 'Hortolândia']\n"
          ]
        }
      ],
      "source": [
        "# ALTERNATIVA 1\n",
        "cidades_estado_sp = cidades_grande_sp + cidades_interior_sp\n",
        "print(cidades_estado_sp)"
      ]
    },
    {
      "cell_type": "code",
      "execution_count": null,
      "metadata": {
        "id": "gQhg5Q7zxE4Y"
      },
      "outputs": [],
      "source": [
        "# ALTERNATIVA 2 ==> NÃO FUNCIONA COMO ESPERADO\n",
        "cidades_estado_sp = list(cidades_grande_sp)  # copia a cidades_grande_sp\n",
        "cidades_estado_sp.append(cidades_interior_sp)"
      ]
    },
    {
      "cell_type": "code",
      "execution_count": null,
      "metadata": {
        "id": "kpkTGm6QxE4Y",
        "outputId": "1b49d969-fe8b-4e33-fceb-0b5996572a0a"
      },
      "outputs": [
        {
          "name": "stdout",
          "output_type": "stream",
          "text": [
            "['São Paulo', 'Santo André', 'São Bernardo', 'São Caetano', ['Pompéia', 'Campinas', 'Hortolândia']]\n"
          ]
        }
      ],
      "source": [
        "print(cidades_estado_sp)"
      ]
    },
    {
      "cell_type": "markdown",
      "metadata": {
        "id": "jeuqGOcyxE4Z"
      },
      "source": [
        "Note que a a lista `cidades_estado_sp` tem agora alguns elementos que são _strings_, e o último elemento é uma _lista_. <br/>\n",
        "O que queremos, na verdade, é ter uma lista **apenas com _strings_**.\n",
        "\n",
        "Para isso, podemo usar o método `lista.extend(lista_2)` que vai copiar todos os elementos dentro da lista `lista_2` e colocá-los no final da lista `lista`."
      ]
    },
    {
      "cell_type": "code",
      "execution_count": null,
      "metadata": {
        "id": "gHcM_hncxE4Z"
      },
      "outputs": [],
      "source": [
        "# ALTERNATIVA 3\n",
        "cidades_estado_sp = list(cidades_grande_sp)  # copia a cidades_grande_sp\n",
        "cidades_estado_sp.extend(cidades_interior_sp)"
      ]
    },
    {
      "cell_type": "code",
      "execution_count": null,
      "metadata": {
        "id": "IRfcWoedxE4Z",
        "outputId": "a2777c6e-d265-4fe1-fd39-d76874e42dad"
      },
      "outputs": [
        {
          "name": "stdout",
          "output_type": "stream",
          "text": [
            "['São Paulo', 'Santo André', 'São Bernardo', 'São Caetano', 'Pompéia', 'Campinas', 'Hortolândia']\n"
          ]
        }
      ],
      "source": [
        "print(cidades_estado_sp)"
      ]
    },
    {
      "cell_type": "markdown",
      "metadata": {
        "id": "KRmq4RRXxE4Z"
      },
      "source": [
        "### List Comprehensions\n",
        "É uma forma curta de se criar listas."
      ]
    },
    {
      "cell_type": "markdown",
      "metadata": {
        "id": "_qcFDB7zxE4Z"
      },
      "source": [
        "**Ex 1)** Suponha que queremos criar uma lista cujo valor do índice [i] é i^2 (o índice ao quadrado). <br/>\n",
        "Uma forma padrão seria:"
      ]
    },
    {
      "cell_type": "code",
      "execution_count": null,
      "metadata": {
        "id": "tiyz_L3CxE4Z",
        "outputId": "25c207e8-472b-4f41-a409-b35d48071e79"
      },
      "outputs": [
        {
          "name": "stdout",
          "output_type": "stream",
          "text": [
            "[0, 1, 4, 9, 16, 25, 36, 49, 64, 81]\n"
          ]
        }
      ],
      "source": [
        "# [0, 1, 4, 9, ...]\n",
        "\n",
        "quadrados = []\n",
        "\n",
        "for i in range(10):\n",
        "    quadrados.append(i ** 2)\n",
        "\n",
        "print(quadrados)"
      ]
    },
    {
      "cell_type": "code",
      "execution_count": null,
      "metadata": {
        "id": "PNXWQ8iKxE4Z",
        "outputId": "976204be-c2b6-426f-eef3-9bc01f948204"
      },
      "outputs": [
        {
          "name": "stdout",
          "output_type": "stream",
          "text": [
            "ANTES: [0, 1, 2, 3, 4, 5, 6, 7, 8, 9]\n",
            "DEPOIS: [0, 1, 4, 9, 16, 25, 36, 49, 64, 81]\n"
          ]
        }
      ],
      "source": [
        "quadrados = list(range(10))\n",
        "print(f'ANTES: {quadrados}')\n",
        "\n",
        "\n",
        "for i, num in enumerate(quadrados):\n",
        "    quadrados[i] = num ** 2\n",
        "\n",
        "print(f'DEPOIS: {quadrados}')"
      ]
    },
    {
      "cell_type": "markdown",
      "metadata": {
        "id": "piU_LqTMxE4Z"
      },
      "source": [
        "Usando o **list comprehensions**:"
      ]
    },
    {
      "cell_type": "code",
      "execution_count": null,
      "metadata": {
        "id": "9uFdfFxhxE4Z",
        "outputId": "6dbed3a4-14dc-414b-bbd0-a9bf279e50cd"
      },
      "outputs": [
        {
          "name": "stdout",
          "output_type": "stream",
          "text": [
            "[0, 1, 4, 9, 16, 25, 36, 49, 64, 81]\n"
          ]
        }
      ],
      "source": [
        "quadrados = [i**2 for i in range(10)]\n",
        "print(quadrados)"
      ]
    },
    {
      "cell_type": "markdown",
      "metadata": {
        "id": "013pA-uPxE4Z"
      },
      "source": [
        "**Ex 2)** Filtrando os elementos negativos de uma lista:"
      ]
    },
    {
      "cell_type": "code",
      "execution_count": null,
      "metadata": {
        "id": "ELOH2F_7xE4Z",
        "outputId": "e5143ceb-f372-4bb2-ef31-94d9e29e2d45"
      },
      "outputs": [
        {
          "name": "stdout",
          "output_type": "stream",
          "text": [
            "[10, 25, 99, 1]\n"
          ]
        }
      ],
      "source": [
        "lista_de_numeros = [10, -2, 25, -5, 99, 1]\n",
        "\n",
        "# ALTERNATIVA 1\n",
        "lista_de_numeros_positivos = []\n",
        "for num in lista_de_numeros:\n",
        "    if num >= 0:\n",
        "        lista_de_numeros_positivos.append(num)\n",
        "\n",
        "print(lista_de_numeros_positivos)"
      ]
    },
    {
      "cell_type": "code",
      "execution_count": null,
      "metadata": {
        "id": "rEdoba9nxE4Z",
        "outputId": "ead10988-89aa-4c30-f922-acd6d2a0ca9d"
      },
      "outputs": [
        {
          "name": "stdout",
          "output_type": "stream",
          "text": [
            "[10, 25, 99, 1]\n"
          ]
        }
      ],
      "source": [
        "lista_de_numeros = [10, -2, 25, -5, 99, 1]\n",
        "\n",
        "# ALTERNATIVA 2\n",
        "lista_de_numeros_positivos = [num for num in lista_de_numeros if num >= 0]\n",
        "print(lista_de_numeros_positivos)"
      ]
    },
    {
      "cell_type": "markdown",
      "metadata": {
        "id": "hCYGRqASxE4Z"
      },
      "source": [
        "Outra maneira de aplicar funções a listas é usar **lambda functions**."
      ]
    },
    {
      "cell_type": "markdown",
      "metadata": {
        "id": "ptSxQK_1xE4Z"
      },
      "source": [
        "**Ex 3) Map e Lambda functions**:"
      ]
    },
    {
      "cell_type": "code",
      "execution_count": null,
      "metadata": {
        "id": "U36RbhSIxE4Z",
        "outputId": "f3913622-1581-4b73-f4d2-c568b87d2a77"
      },
      "outputs": [
        {
          "name": "stdout",
          "output_type": "stream",
          "text": [
            "[0, 1, 2, 3, 4, 5, 6, 7, 8, 9]\n"
          ]
        }
      ],
      "source": [
        "lista_de_numeros = list(range(10))\n",
        "print(lista_de_numeros)"
      ]
    },
    {
      "cell_type": "code",
      "execution_count": null,
      "metadata": {
        "id": "kC5N9w9SxE4a"
      },
      "outputs": [],
      "source": [
        "def power_of_2(x):\n",
        "    return x ** 2"
      ]
    },
    {
      "cell_type": "code",
      "execution_count": null,
      "metadata": {
        "id": "1HFCFTvHxE4a",
        "outputId": "27e13ce0-8be6-47fe-d936-9fa516ff8a21"
      },
      "outputs": [
        {
          "name": "stdout",
          "output_type": "stream",
          "text": [
            "[0, 1, 4, 9, 16, 25, 36, 49, 64, 81]\n"
          ]
        }
      ],
      "source": [
        "quadrados = list(map(power_of_2, lista_de_numeros))\n",
        "print(quadrados)"
      ]
    },
    {
      "cell_type": "markdown",
      "metadata": {
        "id": "Mc5vtfbfxE4a"
      },
      "source": [
        "**Lambda fuction**: Funções anônimas que podem receber qualquer número de parâmetros mas **pode apenas ter UMA única expressão**."
      ]
    },
    {
      "cell_type": "code",
      "execution_count": null,
      "metadata": {
        "id": "njJyic_NxE4a",
        "outputId": "ef7a5cfb-96ce-4f5a-8469-1f628554cb3b"
      },
      "outputs": [
        {
          "name": "stdout",
          "output_type": "stream",
          "text": [
            "[0, 1, 4, 9, 16, 25, 36, 49, 64, 81]\n"
          ]
        }
      ],
      "source": [
        "quadrados_2 = list(map(lambda x: x ** 2, lista_de_numeros))\n",
        "print(quadrados_2)"
      ]
    }
  ],
  "metadata": {
    "kernelspec": {
      "display_name": "Python 3",
      "language": "python",
      "name": "python3"
    },
    "language_info": {
      "codemirror_mode": {
        "name": "ipython",
        "version": 3
      },
      "file_extension": ".py",
      "mimetype": "text/x-python",
      "name": "python",
      "nbconvert_exporter": "python",
      "pygments_lexer": "ipython3",
      "version": "3.8.5"
    },
    "colab": {
      "provenance": [],
      "include_colab_link": true
    }
  },
  "nbformat": 4,
  "nbformat_minor": 0
}