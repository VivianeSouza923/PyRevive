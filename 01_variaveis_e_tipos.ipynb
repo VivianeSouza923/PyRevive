{
  "cells": [
    {
      "cell_type": "markdown",
      "metadata": {
        "id": "view-in-github",
        "colab_type": "text"
      },
      "source": [
        "<a href=\"https://colab.research.google.com/github/VivianeSouza923/PyRevive/blob/main/01_variaveis_e_tipos.ipynb\" target=\"_parent\"><img src=\"https://colab.research.google.com/assets/colab-badge.svg\" alt=\"Open In Colab\"/></a>"
      ]
    },
    {
      "cell_type": "markdown",
      "metadata": {
        "id": "JU9xTTkbGozw"
      },
      "source": [
        "## **Python Essencial para Data Science**\n",
        "**Prof. Dr. Samuel Martins (@hisamuka @xavecoding)** <br/>\n",
        "xavecoding: https://youtube.com/c/xavecoding <br/>\n",
        "\n",
        "Neste tutorial, vamos aprender os conceitos básicos para desenvolvermos nossos primeiros programas em Python! <br/>\n",
        "Boa parte dos exemplos deste tutorial é inspirado no [curso de Python do Kaggle](https://www.kaggle.com/learn/python). <br/><br/>\n",
        "\n",
        "<a rel=\"license\" href=\"http://creativecommons.org/licenses/by-nc-sa/4.0/\"><img alt=\"Creative Commons License\" style=\"border-width:0\" src=\"https://i.creativecommons.org/l/by-nc-sa/4.0/88x31.png\" /></a><br />This work is licensed under a <a rel=\"license\" href=\"http://creativecommons.org/licenses/by-nc-sa/4.0/\">Creative Commons Attribution-NonCommercial-ShareAlike 4.0 International License</a>."
      ]
    },
    {
      "cell_type": "code",
      "execution_count": 1,
      "metadata": {
        "colab": {
          "base_uri": "https://localhost:8080/",
          "height": 17
        },
        "id": "Oi4SJjHVGozx",
        "outputId": "d2b47aec-ad03-4575-c61e-ebf1c9340e79"
      },
      "outputs": [
        {
          "output_type": "display_data",
          "data": {
            "text/plain": [
              "<IPython.core.display.HTML object>"
            ],
            "text/html": [
              "<style>\n",
              "table {float:left}\n",
              "</style>\n"
            ]
          },
          "metadata": {}
        }
      ],
      "source": [
        "%%html\n",
        "<style>\n",
        "table {float:left}\n",
        "</style>"
      ]
    },
    {
      "cell_type": "markdown",
      "metadata": {
        "id": "yX4U97XRGozy"
      },
      "source": [
        "## Variáveis\n",
        "\n",
        "### Tipos\n",
        "Python tem diferentes tipos de dados, mas no fundo, *tudo é um objeto*. <br/>\n",
        "Variáveis podem ser definidas em qualquer lugar.\n",
        "\n",
        "Veja alguns tipos:\n",
        "\n",
        "| Tipo    | Exemplo           |\n",
        "|---------|-------------------|\n",
        "| Integer | 1 10 -4           |\n",
        "| Float   | 1.0 -0.223 3.1415 |\n",
        "| String  | \"Hello world\"     |"
      ]
    },
    {
      "cell_type": "markdown",
      "metadata": {
        "id": "mh1Kp6LFGozy"
      },
      "source": [
        "## Instanciando variáveis"
      ]
    },
    {
      "cell_type": "code",
      "execution_count": 2,
      "metadata": {
        "id": "A3t5j5DHGozz"
      },
      "outputs": [],
      "source": [
        "# somente criar o nome da variável. Como Python é uma linguagem dinamicamente tipada e fortemente tipada, não precisamos colocar o tipo na frente do nome da variável\n",
        "\n",
        "# nome_da_variavel = o que você quer\n",
        "nome = 'Luke skywalker'\n",
        "idade = 18\n",
        "peso = 70.5"
      ]
    },
    {
      "cell_type": "code",
      "execution_count": 3,
      "metadata": {
        "colab": {
          "base_uri": "https://localhost:8080/",
          "height": 35
        },
        "id": "4gGcpyQKGozz",
        "outputId": "93012714-d38e-4472-bcdf-a196fc4e8f73"
      },
      "outputs": [
        {
          "output_type": "execute_result",
          "data": {
            "text/plain": [
              "'Luke skywalker'"
            ],
            "application/vnd.google.colaboratory.intrinsic+json": {
              "type": "string"
            }
          },
          "metadata": {},
          "execution_count": 3
        }
      ],
      "source": [
        "# só saber o que você tem na variável. Se for uma string, ela vem com as as aspas\n",
        "nome"
      ]
    },
    {
      "cell_type": "code",
      "execution_count": 4,
      "metadata": {
        "colab": {
          "base_uri": "https://localhost:8080/"
        },
        "id": "wt9zhIasGozz",
        "outputId": "9aa174e5-9b51-4df0-8c82-3403378bccc6"
      },
      "outputs": [
        {
          "output_type": "execute_result",
          "data": {
            "text/plain": [
              "18"
            ]
          },
          "metadata": {},
          "execution_count": 4
        }
      ],
      "source": [
        "idade"
      ]
    },
    {
      "cell_type": "code",
      "execution_count": 5,
      "metadata": {
        "colab": {
          "base_uri": "https://localhost:8080/"
        },
        "id": "k74HpeK4Gozz",
        "outputId": "689ead56-0a35-4eda-cf01-9f1f047aa881"
      },
      "outputs": [
        {
          "output_type": "execute_result",
          "data": {
            "text/plain": [
              "70.5"
            ]
          },
          "metadata": {},
          "execution_count": 5
        }
      ],
      "source": [
        "peso"
      ]
    },
    {
      "cell_type": "code",
      "execution_count": 6,
      "metadata": {
        "colab": {
          "base_uri": "https://localhost:8080/"
        },
        "id": "UY1IxgHhGozz",
        "outputId": "76c52ba1-d31a-446a-94eb-69cdcad67b64"
      },
      "outputs": [
        {
          "output_type": "stream",
          "name": "stdout",
          "text": [
            "Luke skywalker\n"
          ]
        }
      ],
      "source": [
        "# printando: só precisa colocar o nome da variável, dentro dos parênteses. Já é o suficiente.\n",
        "print(nome)"
      ]
    },
    {
      "cell_type": "code",
      "source": [
        "print(nome, idade, peso)\n",
        "\n",
        "# a célula abaixo é dita incompatível, pois é uma célula de texto, não de código"
      ],
      "metadata": {
        "colab": {
          "base_uri": "https://localhost:8080/"
        },
        "id": "ji3Vt6ElJvFM",
        "outputId": "fa642b5a-93aa-4c87-cdb9-fc1f762127fc"
      },
      "execution_count": 8,
      "outputs": [
        {
          "output_type": "stream",
          "name": "stdout",
          "text": [
            "Luke skywalker 18 70.5\n"
          ]
        }
      ]
    },
    {
      "cell_type": "raw",
      "metadata": {
        "id": "M2CVag_BGoz0"
      },
      "source": [
        "print(nome, idade, peso)"
      ]
    },
    {
      "cell_type": "markdown",
      "metadata": {
        "id": "4pGoH8CJGoz0"
      },
      "source": [
        "### Type()\n",
        "Use a função <code>type()</code> para descobrir o tipo de uma variável."
      ]
    },
    {
      "cell_type": "code",
      "execution_count": 9,
      "metadata": {
        "colab": {
          "base_uri": "https://localhost:8080/"
        },
        "id": "R8S8Tw8cGoz0",
        "outputId": "969bf89a-04db-4202-f73e-5a7813fd0e4f"
      },
      "outputs": [
        {
          "output_type": "execute_result",
          "data": {
            "text/plain": [
              "str"
            ]
          },
          "metadata": {},
          "execution_count": 9
        }
      ],
      "source": [
        "# retorna o tipo. Só precisa colocar o nome da variável dentro dos parÊnteses, não precisa de mais nada\n",
        "type(nome)"
      ]
    },
    {
      "cell_type": "code",
      "execution_count": 10,
      "metadata": {
        "colab": {
          "base_uri": "https://localhost:8080/"
        },
        "id": "ZXg3c5b0Goz0",
        "outputId": "c3880383-3726-4ddf-ccc3-1fba8824b1d7"
      },
      "outputs": [
        {
          "output_type": "execute_result",
          "data": {
            "text/plain": [
              "int"
            ]
          },
          "metadata": {},
          "execution_count": 10
        }
      ],
      "source": [
        "type(idade)"
      ]
    },
    {
      "cell_type": "code",
      "execution_count": 11,
      "metadata": {
        "colab": {
          "base_uri": "https://localhost:8080/"
        },
        "id": "_RlkibucGoz0",
        "outputId": "013d0fe2-0565-4d53-ba88-6e61f54917db"
      },
      "outputs": [
        {
          "output_type": "execute_result",
          "data": {
            "text/plain": [
              "float"
            ]
          },
          "metadata": {},
          "execution_count": 11
        }
      ],
      "source": [
        "type(peso)"
      ]
    },
    {
      "cell_type": "code",
      "execution_count": 12,
      "metadata": {
        "colab": {
          "base_uri": "https://localhost:8080/"
        },
        "id": "8zjeuRtdGoz0",
        "outputId": "05c3e195-975a-4912-97ef-3b0cdd14be09"
      },
      "outputs": [
        {
          "output_type": "execute_result",
          "data": {
            "text/plain": [
              "float"
            ]
          },
          "metadata": {},
          "execution_count": 12
        }
      ],
      "source": [
        "type(10.0)"
      ]
    },
    {
      "cell_type": "code",
      "execution_count": 13,
      "metadata": {
        "colab": {
          "base_uri": "https://localhost:8080/"
        },
        "id": "w4yCq-juGoz0",
        "outputId": "00cdb15b-0d4b-4c2c-ed7e-1d2fe93cdc15"
      },
      "outputs": [
        {
          "output_type": "execute_result",
          "data": {
            "text/plain": [
              "int"
            ]
          },
          "metadata": {},
          "execution_count": 13
        }
      ],
      "source": [
        "type(10)"
      ]
    },
    {
      "cell_type": "markdown",
      "metadata": {
        "id": "HIT7vzaSGoz1"
      },
      "source": [
        "### Dir()\n",
        "Use a função <code>dir()</code> para descobrir **todos os métodos** associados a um objeto:"
      ]
    },
    {
      "cell_type": "code",
      "execution_count": 14,
      "metadata": {
        "colab": {
          "base_uri": "https://localhost:8080/"
        },
        "id": "GFUKA9cWGoz1",
        "outputId": "c4f4ec16-3ffe-48ba-dfb1-643109abeb5f"
      },
      "outputs": [
        {
          "output_type": "execute_result",
          "data": {
            "text/plain": [
              "['__add__',\n",
              " '__class__',\n",
              " '__contains__',\n",
              " '__delattr__',\n",
              " '__dir__',\n",
              " '__doc__',\n",
              " '__eq__',\n",
              " '__format__',\n",
              " '__ge__',\n",
              " '__getattribute__',\n",
              " '__getitem__',\n",
              " '__getnewargs__',\n",
              " '__gt__',\n",
              " '__hash__',\n",
              " '__init__',\n",
              " '__init_subclass__',\n",
              " '__iter__',\n",
              " '__le__',\n",
              " '__len__',\n",
              " '__lt__',\n",
              " '__mod__',\n",
              " '__mul__',\n",
              " '__ne__',\n",
              " '__new__',\n",
              " '__reduce__',\n",
              " '__reduce_ex__',\n",
              " '__repr__',\n",
              " '__rmod__',\n",
              " '__rmul__',\n",
              " '__setattr__',\n",
              " '__sizeof__',\n",
              " '__str__',\n",
              " '__subclasshook__',\n",
              " 'capitalize',\n",
              " 'casefold',\n",
              " 'center',\n",
              " 'count',\n",
              " 'encode',\n",
              " 'endswith',\n",
              " 'expandtabs',\n",
              " 'find',\n",
              " 'format',\n",
              " 'format_map',\n",
              " 'index',\n",
              " 'isalnum',\n",
              " 'isalpha',\n",
              " 'isascii',\n",
              " 'isdecimal',\n",
              " 'isdigit',\n",
              " 'isidentifier',\n",
              " 'islower',\n",
              " 'isnumeric',\n",
              " 'isprintable',\n",
              " 'isspace',\n",
              " 'istitle',\n",
              " 'isupper',\n",
              " 'join',\n",
              " 'ljust',\n",
              " 'lower',\n",
              " 'lstrip',\n",
              " 'maketrans',\n",
              " 'partition',\n",
              " 'removeprefix',\n",
              " 'removesuffix',\n",
              " 'replace',\n",
              " 'rfind',\n",
              " 'rindex',\n",
              " 'rjust',\n",
              " 'rpartition',\n",
              " 'rsplit',\n",
              " 'rstrip',\n",
              " 'split',\n",
              " 'splitlines',\n",
              " 'startswith',\n",
              " 'strip',\n",
              " 'swapcase',\n",
              " 'title',\n",
              " 'translate',\n",
              " 'upper',\n",
              " 'zfill']"
            ]
          },
          "metadata": {},
          "execution_count": 14
        }
      ],
      "source": [
        "dir(nome)"
      ]
    },
    {
      "cell_type": "markdown",
      "metadata": {
        "id": "GzaXayM5Goz1"
      },
      "source": [
        "### Usando métodos\n",
        "Métodos podem ser acessados usando: <code>objeto.metodo</code>"
      ]
    },
    {
      "cell_type": "code",
      "execution_count": 15,
      "metadata": {
        "colab": {
          "base_uri": "https://localhost:8080/",
          "height": 35
        },
        "id": "VDRulhFDGoz1",
        "outputId": "da6f120c-f855-4dec-b53b-ffda005f23cf"
      },
      "outputs": [
        {
          "output_type": "execute_result",
          "data": {
            "text/plain": [
              "'Luke skywalker'"
            ],
            "application/vnd.google.colaboratory.intrinsic+json": {
              "type": "string"
            }
          },
          "metadata": {},
          "execution_count": 15
        }
      ],
      "source": [
        "nome"
      ]
    },
    {
      "cell_type": "code",
      "execution_count": 16,
      "metadata": {
        "colab": {
          "base_uri": "https://localhost:8080/",
          "height": 35
        },
        "id": "6nQee2bpGoz1",
        "outputId": "cb4c30aa-62c5-4ddf-e4b0-2cd5c5c33b5c"
      },
      "outputs": [
        {
          "output_type": "execute_result",
          "data": {
            "text/plain": [
              "'LUKE SKYWALKER'"
            ],
            "application/vnd.google.colaboratory.intrinsic+json": {
              "type": "string"
            }
          },
          "metadata": {},
          "execution_count": 16
        }
      ],
      "source": [
        "nome.upper()"
      ]
    },
    {
      "cell_type": "markdown",
      "metadata": {
        "id": "melUheolGoz1"
      },
      "source": [
        "### Atribuição Múltipla"
      ]
    },
    {
      "cell_type": "code",
      "execution_count": 17,
      "metadata": {
        "id": "oqphQu_OGoz1"
      },
      "outputs": [],
      "source": [
        "nome, idade, peso = 'Yoda', 1000, 10.5"
      ]
    },
    {
      "cell_type": "code",
      "execution_count": 18,
      "metadata": {
        "colab": {
          "base_uri": "https://localhost:8080/"
        },
        "id": "1CZfROq0Goz1",
        "outputId": "7de8336e-4502-422d-9957-505639f14b65"
      },
      "outputs": [
        {
          "output_type": "stream",
          "name": "stdout",
          "text": [
            "Yoda 1000 10.5\n"
          ]
        }
      ],
      "source": [
        "print(nome, idade, peso)"
      ]
    },
    {
      "cell_type": "markdown",
      "metadata": {
        "id": "tPrS2aO-Goz1"
      },
      "source": [
        "### Python é uma linguagem *case-sensitive*\n",
        "\n",
        "\n",
        "Uma linguagem é considerada \"case sensitive\" (sensível a maiúsculas e minúsculas) quando faz uma distinção entre letras maiúsculas e minúsculas. Isso significa que, dentro dessa linguagem de programação ou contexto, \"A\" e \"a\" são tratados como caracteres diferentes e distintos."
      ]
    },
    {
      "cell_type": "code",
      "execution_count": 19,
      "metadata": {
        "colab": {
          "base_uri": "https://localhost:8080/"
        },
        "id": "pvHQsO6-Goz1",
        "outputId": "b9ce506f-0444-46df-b014-238699617cee"
      },
      "outputs": [
        {
          "output_type": "stream",
          "name": "stdout",
          "text": [
            "15\n"
          ]
        }
      ],
      "source": [
        "a = 10\n",
        "b = 5\n",
        "c = a + b\n",
        "print(c)"
      ]
    },
    {
      "cell_type": "code",
      "execution_count": 20,
      "metadata": {
        "colab": {
          "base_uri": "https://localhost:8080/"
        },
        "id": "uAefXQiZGoz1",
        "outputId": "177204e7-dfa6-477f-f5d2-6077a920199b"
      },
      "outputs": [
        {
          "output_type": "stream",
          "name": "stdout",
          "text": [
            "11\n"
          ]
        }
      ],
      "source": [
        "B = 1\n",
        "d = a + B\n",
        "print(d)"
      ]
    },
    {
      "cell_type": "markdown",
      "metadata": {
        "id": "BuLntvf0Goz1"
      },
      "source": [
        "### Dinamicamente e Fortemente tipada\n",
        "\n",
        "**Dinamicamente:** o tipo é definido no momento da atribuição <br/>\n",
        "**Fortemente:** o interpretador não muda o tipo de uma variável inesperadamente"
      ]
    },
    {
      "cell_type": "code",
      "execution_count": 21,
      "metadata": {
        "colab": {
          "base_uri": "https://localhost:8080/"
        },
        "id": "yf310StLGoz1",
        "outputId": "196d811a-532f-480a-d656-9d8aa66917ad"
      },
      "outputs": [
        {
          "output_type": "execute_result",
          "data": {
            "text/plain": [
              "10"
            ]
          },
          "metadata": {},
          "execution_count": 21
        }
      ],
      "source": [
        "a"
      ]
    },
    {
      "cell_type": "code",
      "execution_count": 22,
      "metadata": {
        "colab": {
          "base_uri": "https://localhost:8080/"
        },
        "id": "mMbpuzMHGoz1",
        "outputId": "48a6e07f-ff76-4dba-f0e8-3d8f85d3daaa"
      },
      "outputs": [
        {
          "output_type": "stream",
          "name": "stdout",
          "text": [
            "<class 'int'>\n",
            "<class 'str'>\n"
          ]
        }
      ],
      "source": [
        "print(type(a))\n",
        "\n",
        "a = '10'\n",
        "print(type(a))"
      ]
    },
    {
      "cell_type": "code",
      "execution_count": 23,
      "metadata": {
        "colab": {
          "base_uri": "https://localhost:8080/",
          "height": 175
        },
        "id": "Hf4Qdz_hGoz1",
        "outputId": "b946922c-ab95-407f-b2c5-13e2d6d5bbba"
      },
      "outputs": [
        {
          "output_type": "error",
          "ename": "TypeError",
          "evalue": "ignored",
          "traceback": [
            "\u001b[0;31m---------------------------------------------------------------------------\u001b[0m",
            "\u001b[0;31mTypeError\u001b[0m                                 Traceback (most recent call last)",
            "\u001b[0;32m<ipython-input-23-1674f6151070>\u001b[0m in \u001b[0;36m<cell line: 1>\u001b[0;34m()\u001b[0m\n\u001b[0;32m----> 1\u001b[0;31m \u001b[0mc\u001b[0m \u001b[0;34m=\u001b[0m \u001b[0ma\u001b[0m \u001b[0;34m+\u001b[0m \u001b[0mb\u001b[0m\u001b[0;34m\u001b[0m\u001b[0;34m\u001b[0m\u001b[0m\n\u001b[0m",
            "\u001b[0;31mTypeError\u001b[0m: can only concatenate str (not \"int\") to str"
          ]
        }
      ],
      "source": [
        "c = a + b"
      ]
    },
    {
      "cell_type": "code",
      "execution_count": 25,
      "metadata": {
        "colab": {
          "base_uri": "https://localhost:8080/",
          "height": 35
        },
        "id": "_ZSkabEDGoz2",
        "outputId": "88debe3f-7f4d-4481-fe86-927f0b38d154"
      },
      "outputs": [
        {
          "output_type": "execute_result",
          "data": {
            "text/plain": [
              "'Luke Skywalker'"
            ],
            "application/vnd.google.colaboratory.intrinsic+json": {
              "type": "string"
            }
          },
          "metadata": {},
          "execution_count": 25
        }
      ],
      "source": [
        "# concatenação de strings\n",
        "'Luke ' + 'Skywalker'"
      ]
    },
    {
      "cell_type": "markdown",
      "metadata": {
        "id": "NUEoZpAWGoz2"
      },
      "source": [
        "### Conversão de Tipos (*Casting*)"
      ]
    },
    {
      "cell_type": "code",
      "execution_count": 26,
      "metadata": {
        "colab": {
          "base_uri": "https://localhost:8080/",
          "height": 35
        },
        "id": "tv79ZImgGoz2",
        "outputId": "5e63905c-04cb-4f19-8f1f-8ef52741928a"
      },
      "outputs": [
        {
          "output_type": "execute_result",
          "data": {
            "text/plain": [
              "'10'"
            ],
            "application/vnd.google.colaboratory.intrinsic+json": {
              "type": "string"
            }
          },
          "metadata": {},
          "execution_count": 26
        }
      ],
      "source": [
        "a"
      ]
    },
    {
      "cell_type": "code",
      "execution_count": 27,
      "metadata": {
        "colab": {
          "base_uri": "https://localhost:8080/"
        },
        "id": "zHZdGiHMGoz2",
        "outputId": "dcf09288-ceca-4ec6-bad4-f08fc52851d9"
      },
      "outputs": [
        {
          "output_type": "execute_result",
          "data": {
            "text/plain": [
              "5"
            ]
          },
          "metadata": {},
          "execution_count": 27
        }
      ],
      "source": [
        "b"
      ]
    },
    {
      "cell_type": "code",
      "execution_count": 28,
      "metadata": {
        "colab": {
          "base_uri": "https://localhost:8080/"
        },
        "id": "vK14tJjsGoz2",
        "outputId": "528d0a5f-1ae8-41f3-fcfb-257dd2258199"
      },
      "outputs": [
        {
          "output_type": "stream",
          "name": "stdout",
          "text": [
            "15\n"
          ]
        }
      ],
      "source": [
        "# a função retorna uma cópia convertida do que foi passado pra ela, ou seja, ela não altera\n",
        "# a variável (ou valor) que foi passado pra ela\n",
        "c = int(a) + b\n",
        "print(c)"
      ]
    },
    {
      "cell_type": "code",
      "execution_count": 29,
      "metadata": {
        "colab": {
          "base_uri": "https://localhost:8080/",
          "height": 35
        },
        "id": "IfAUHPXNGoz2",
        "outputId": "ce25705d-86ba-4076-d4fa-e0c028d8a1e3"
      },
      "outputs": [
        {
          "output_type": "execute_result",
          "data": {
            "text/plain": [
              "'10'"
            ],
            "application/vnd.google.colaboratory.intrinsic+json": {
              "type": "string"
            }
          },
          "metadata": {},
          "execution_count": 29
        }
      ],
      "source": [
        "a"
      ]
    },
    {
      "cell_type": "markdown",
      "metadata": {
        "id": "4ECIk5xXGoz2"
      },
      "source": [
        "### Operadores Aritméticos\n",
        "\n",
        "| Operador     | Nome                 | Descrição                                                                            |\n",
        "|--------------|----------------------|--------------------------------------------------------------------------------------|\n",
        "| ``a + b``    | Adição               | Soma de ``a`` e ``b``                                                                |\n",
        "| ``a - b``    | Subtração            | Diferença de ``a`` e ``b``                                                           |\n",
        "| ``a * b``    | Multiplicação        | Produto de ``a`` e ``b``                                                             |\n",
        "| ``a / b``    | Divisão 'verdadeira' | Quociente de ``a`` e ``b``                                                           |\n",
        "| ``a // b``   | Piso da Divisão      | Quociente de ``a`` e ``b``, removendo partes fracionadas (arredondamento para baixo) |\n",
        "| ``a % b``    | Módulo               | Resto da divisão de a ``a`` por ``b``                                                |\n",
        "| ``a ** b``   | Exponenciação        | ``a`` elevado a ``b``                                                                |\n",
        "| ``-a``       | Negação              | Negativo de ``a``                                                                    |"
      ]
    },
    {
      "cell_type": "code",
      "execution_count": 30,
      "metadata": {
        "colab": {
          "base_uri": "https://localhost:8080/"
        },
        "id": "jMR8Mr79Goz2",
        "outputId": "a3bc7f2a-1f15-4d95-d18b-07aa9c1dad55"
      },
      "outputs": [
        {
          "output_type": "stream",
          "name": "stdout",
          "text": [
            "2.5\n",
            "3.0\n",
            "3.0\n"
          ]
        }
      ],
      "source": [
        "# Divisão 'verdadeira'\n",
        "print(5 / 2)\n",
        "print(6 / 2)\n",
        "print(6 / 2.0)"
      ]
    },
    {
      "cell_type": "code",
      "execution_count": 31,
      "metadata": {
        "colab": {
          "base_uri": "https://localhost:8080/"
        },
        "id": "XYjWLwVeGoz7",
        "outputId": "b8dd830e-ac52-4e82-8186-58969058f3a7"
      },
      "outputs": [
        {
          "output_type": "stream",
          "name": "stdout",
          "text": [
            "2\n",
            "2.0\n",
            "3\n",
            "3.0\n"
          ]
        }
      ],
      "source": [
        "# Piso da divisão - ignora os decimais do resultado\n",
        "print(5 // 2)\n",
        "print(5 // 2.0)\n",
        "print(6 // 2)\n",
        "print(6 // 2.0)"
      ]
    },
    {
      "cell_type": "markdown",
      "metadata": {
        "id": "gfhmG8pmGoz8"
      },
      "source": [
        "### A função print()\n",
        "A função _print()_ imprime uma string na tela/console. <br/>\n",
        "Uma string pode ser definida com **aspas simples ''** ou **aspas duplas \"\"**.\n",
        "\n",
        "Por convenção, a comunidade usa **aspas simples ''**"
      ]
    },
    {
      "cell_type": "code",
      "execution_count": 32,
      "metadata": {
        "colab": {
          "base_uri": "https://localhost:8080/"
        },
        "id": "js63BUWqGoz8",
        "outputId": "bb816690-2a07-47a4-b4c0-caa7b270e396"
      },
      "outputs": [
        {
          "output_type": "stream",
          "name": "stdout",
          "text": [
            "Imprimindo com aspas simples!\n",
            "Imprimindo com aspas duplas!\n"
          ]
        }
      ],
      "source": [
        "print('Imprimindo com aspas simples!')\n",
        "print(\"Imprimindo com aspas duplas!\")"
      ]
    },
    {
      "cell_type": "markdown",
      "metadata": {
        "id": "ObptBnyUGoz8"
      },
      "source": [
        "<br/>Para imprimir valores de _variáveis_ junto com uma _string/texto_, utilize a letra **_f_** antes das primeiras aspas, e coloque a variável entre **_{}_** (Python 3.6+):"
      ]
    },
    {
      "cell_type": "code",
      "execution_count": 33,
      "metadata": {
        "colab": {
          "base_uri": "https://localhost:8080/"
        },
        "id": "3kxxtpd5Goz8",
        "outputId": "28c9628c-0e35-468a-9b5a-488a59c7a6b2"
      },
      "outputs": [
        {
          "output_type": "execute_result",
          "data": {
            "text/plain": [
              "('Yoda', 1000, 10.5)"
            ]
          },
          "metadata": {},
          "execution_count": 33
        }
      ],
      "source": [
        "nome, idade, peso"
      ]
    },
    {
      "cell_type": "code",
      "execution_count": 35,
      "metadata": {
        "colab": {
          "base_uri": "https://localhost:8080/"
        },
        "id": "vXjs4vbQGoz8",
        "outputId": "f7243fe1-4a16-4422-c35d-9dc81efbd2ed"
      },
      "outputs": [
        {
          "output_type": "stream",
          "name": "stdout",
          "text": [
            "Meu nome eh Yoda\n",
            "Tenho 1000 anos\n",
            "Peso 10.5 kg\n"
          ]
        }
      ],
      "source": [
        "print(f'Meu nome eh {nome}')\n",
        "print(f'Tenho {idade} anos')\n",
        "print(f'Peso {peso} kg')"
      ]
    },
    {
      "cell_type": "code",
      "execution_count": 36,
      "metadata": {
        "colab": {
          "base_uri": "https://localhost:8080/"
        },
        "id": "NF6xEPXlGoz8",
        "outputId": "aa3e7e5d-55ce-4173-8bd9-1e03c1759e9a"
      },
      "outputs": [
        {
          "output_type": "stream",
          "name": "stdout",
          "text": [
            "Meu nome eh Yoda\n",
            "Tenho 1000 anos\n",
            "Peso 10.5 kg\n"
          ]
        }
      ],
      "source": [
        "print(f'Meu nome eh {nome}\\nTenho {idade} anos\\nPeso {peso} kg')"
      ]
    },
    {
      "cell_type": "markdown",
      "metadata": {
        "id": "E-EzQ8WHGoz8"
      },
      "source": [
        "<br/>\n",
        "Alternativa, temos outras formas de impressão vindas de versões mais antigas do Python, porém ainda válidas:"
      ]
    },
    {
      "cell_type": "code",
      "execution_count": 37,
      "metadata": {
        "colab": {
          "base_uri": "https://localhost:8080/"
        },
        "id": "klndqe33Goz8",
        "outputId": "26421786-58fb-49c2-badc-30a4869f5b72"
      },
      "outputs": [
        {
          "output_type": "stream",
          "name": "stdout",
          "text": [
            "Meu nome eh Yoda\n",
            "Tenho 1000 anos\n",
            "Peso 10.5 kg\n",
            "\n",
            "Meu nome eh Yoda\n",
            "Tenho 1000 anos\n",
            "Peso 10.5 kg\n"
          ]
        }
      ],
      "source": [
        "# usando .format\n",
        "print('Meu nome eh {}'.format(nome))\n",
        "print('Tenho {} anos'.format(idade))\n",
        "print('Peso {} kg\\n'.format(peso))\n",
        "\n",
        "print('Meu nome eh {0}\\nTenho {1} anos\\nPeso {2} kg'.format(nome, idade, peso))"
      ]
    },
    {
      "cell_type": "code",
      "execution_count": 38,
      "metadata": {
        "colab": {
          "base_uri": "https://localhost:8080/"
        },
        "id": "0EX-jFY0Goz8",
        "outputId": "168d128b-1fc8-4465-fdf0-fb13747c92d4"
      },
      "outputs": [
        {
          "output_type": "stream",
          "name": "stdout",
          "text": [
            "Meu nome eh Yoda\n",
            "Tenho 1000 anos\n",
            "Peso 10.500000 kg\n",
            "\n",
            "Meu nome eh Yoda\n",
            "Tenho 1000 anos\n",
            "Peso 10.500000 kg\n"
          ]
        }
      ],
      "source": [
        "# usando % (é o jeito mais próximo de C)\n",
        "print('Meu nome eh %s' % nome)\n",
        "print('Tenho %d anos' % idade)\n",
        "print('Peso %f kg\\n' % peso)\n",
        "\n",
        "print('Meu nome eh %s\\nTenho %d anos\\nPeso %f kg' % (nome, idade, peso))"
      ]
    }
  ],
  "metadata": {
    "kernelspec": {
      "display_name": "Python 3",
      "language": "python",
      "name": "python3"
    },
    "language_info": {
      "codemirror_mode": {
        "name": "ipython",
        "version": 3
      },
      "file_extension": ".py",
      "mimetype": "text/x-python",
      "name": "python",
      "nbconvert_exporter": "python",
      "pygments_lexer": "ipython3",
      "version": "3.8.5"
    },
    "colab": {
      "provenance": [],
      "include_colab_link": true
    }
  },
  "nbformat": 4,
  "nbformat_minor": 0
}