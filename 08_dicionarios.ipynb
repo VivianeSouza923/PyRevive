{
  "cells": [
    {
      "cell_type": "markdown",
      "metadata": {
        "id": "view-in-github",
        "colab_type": "text"
      },
      "source": [
        "<a href=\"https://colab.research.google.com/github/VivianeSouza923/PyRevive/blob/main/08_dicionarios.ipynb\" target=\"_parent\"><img src=\"https://colab.research.google.com/assets/colab-badge.svg\" alt=\"Open In Colab\"/></a>"
      ]
    },
    {
      "cell_type": "markdown",
      "metadata": {
        "id": "ppbxCkvKqS2P"
      },
      "source": [
        "## **Python Essencial para Data Science**\n",
        "**Prof. Dr. Samuel Martins (@hisamuka @xavecoding)** <br/>\n",
        "xavecoding: https://youtube.com/c/xavecoding <br/><br/>\n",
        "\n",
        "<a rel=\"license\" href=\"http://creativecommons.org/licenses/by-nc-sa/4.0/\"><img alt=\"Creative Commons License\" style=\"border-width:0\" src=\"https://i.creativecommons.org/l/by-nc-sa/4.0/88x31.png\" /></a><br />This work is licensed under a <a rel=\"license\" href=\"http://creativecommons.org/licenses/by-nc-sa/4.0/\">Creative Commons Attribution-NonCommercial-ShareAlike 4.0 International License</a>."
      ]
    },
    {
      "cell_type": "markdown",
      "metadata": {
        "id": "87g-T4yWqS2R"
      },
      "source": [
        "## Dicionários (tabelas hash)\n",
        "Dicionários são tabelas hash: estruturas que mapeiams _chaves_ à _valores_. <br/>\n",
        "Muito utilizado quando queremos **acesso rápido** (_O(1)_) a elementos/valores associados a uma dada chave."
      ]
    },
    {
      "cell_type": "code",
      "execution_count": 1,
      "metadata": {
        "id": "AOP1WxvfqS2R"
      },
      "outputs": [],
      "source": [
        "# ALTERNATIVA 1 ==> VALORES EM VARIÁVEIS SOLTAS\n",
        "nome = 'Luke Skywalker'\n",
        "idade = 16\n",
        "peso = 60.0"
      ]
    },
    {
      "cell_type": "code",
      "execution_count": 4,
      "metadata": {
        "colab": {
          "base_uri": "https://localhost:8080/"
        },
        "id": "639dsBGzqS2S",
        "outputId": "733fb800-3cd1-4670-9f36-ba28aeadca8d"
      },
      "outputs": [
        {
          "output_type": "execute_result",
          "data": {
            "text/plain": [
              "['Luke Skywalker', 16, 60.0]"
            ]
          },
          "metadata": {},
          "execution_count": 4
        }
      ],
      "source": [
        "# ALTERNATIVA 2 (usando listas ou tuplas) ==> você precisa decorar quais são os índices que\n",
        "#                                             guardam cada um dos elementos\n",
        "luke_lista = ['Luke Skywalker', 16, 60.0]\n",
        "luke_lista"
      ]
    },
    {
      "cell_type": "code",
      "execution_count": 5,
      "metadata": {
        "colab": {
          "base_uri": "https://localhost:8080/"
        },
        "id": "6clngPMtqS2S",
        "outputId": "090d7d65-e46c-4c5e-82b9-1e2dba3a4de8"
      },
      "outputs": [
        {
          "output_type": "execute_result",
          "data": {
            "text/plain": [
              "{'nome': 'Luke Skywalker', 'idade': 16, 'peso': 60.0}"
            ]
          },
          "metadata": {},
          "execution_count": 5
        }
      ],
      "source": [
        "# ALTERNATIVA 3 (dicionários)\n",
        "# atribui chave e valor, separados por dois pontos.\n",
        "luke = {'nome': 'Luke Skywalker', 'idade': 16, 'peso': 60.0}\n",
        "luke"
      ]
    },
    {
      "cell_type": "markdown",
      "metadata": {
        "id": "JNbhYEWpqS2S"
      },
      "source": [
        "Neste caso, 'nome', 'idade' e 'peso' sãos as chaves com os respectivos valores 'Luke Skywalker', 16, 60.0."
      ]
    },
    {
      "cell_type": "markdown",
      "metadata": {
        "id": "On-3U5WTqS2S"
      },
      "source": [
        "Um dado _valor_ é acessado passando a _chave_ via **colchetes**:"
      ]
    },
    {
      "cell_type": "code",
      "execution_count": 7,
      "metadata": {
        "colab": {
          "base_uri": "https://localhost:8080/",
          "height": 36
        },
        "id": "zKftyDMhqS2S",
        "outputId": "a4bb6f73-3561-416a-ec2d-662529023acf"
      },
      "outputs": [
        {
          "output_type": "execute_result",
          "data": {
            "text/plain": [
              "'Luke Skywalker'"
            ],
            "application/vnd.google.colaboratory.intrinsic+json": {
              "type": "string"
            }
          },
          "metadata": {},
          "execution_count": 7
        }
      ],
      "source": [
        "# é como se as chaves virassem índices\n",
        "luke['nome']"
      ]
    },
    {
      "cell_type": "code",
      "execution_count": 8,
      "metadata": {
        "colab": {
          "base_uri": "https://localhost:8080/"
        },
        "id": "j-KTqcUfqS2T",
        "outputId": "5f3fd367-4745-45e0-94f6-a685cd533f83"
      },
      "outputs": [
        {
          "output_type": "execute_result",
          "data": {
            "text/plain": [
              "16"
            ]
          },
          "metadata": {},
          "execution_count": 8
        }
      ],
      "source": [
        "luke['idade']"
      ]
    },
    {
      "cell_type": "code",
      "execution_count": 9,
      "metadata": {
        "colab": {
          "base_uri": "https://localhost:8080/"
        },
        "id": "VGmkhEaxqS2T",
        "outputId": "f8c3b887-837b-4ca1-83ae-ec678f62ae4d"
      },
      "outputs": [
        {
          "output_type": "execute_result",
          "data": {
            "text/plain": [
              "60.0"
            ]
          },
          "metadata": {},
          "execution_count": 9
        }
      ],
      "source": [
        "luke['peso']"
      ]
    },
    {
      "cell_type": "markdown",
      "metadata": {
        "id": "HVn11KPNqS2T"
      },
      "source": [
        "Podemos alterar um valor acessando da mesma maneira:"
      ]
    },
    {
      "cell_type": "code",
      "execution_count": 10,
      "metadata": {
        "colab": {
          "base_uri": "https://localhost:8080/"
        },
        "id": "D_4CnWOAqS2T",
        "outputId": "fde6950f-dd9d-4b74-90a7-c0cc0f7aadbd"
      },
      "outputs": [
        {
          "output_type": "stream",
          "name": "stdout",
          "text": [
            "{'nome': 'Luke Skywalker', 'idade': 16, 'peso': 70}\n"
          ]
        }
      ],
      "source": [
        "luke['peso'] = 70\n",
        "print(luke)"
      ]
    },
    {
      "cell_type": "markdown",
      "metadata": {
        "id": "hwT5gpPUqS2U"
      },
      "source": [
        "Podemos **adicionar** um novo elemento, apenas informando o novo _par de chaves e valor_:"
      ]
    },
    {
      "cell_type": "code",
      "execution_count": 11,
      "metadata": {
        "colab": {
          "base_uri": "https://localhost:8080/"
        },
        "id": "F8Ybnr4qqS2U",
        "outputId": "84f62380-4a8c-48c4-fc43-c4f371fc6660"
      },
      "outputs": [
        {
          "output_type": "stream",
          "name": "stdout",
          "text": [
            "{'nome': 'Luke Skywalker', 'idade': 16, 'peso': 70, 'eh_jedi': True}\n"
          ]
        }
      ],
      "source": [
        "luke['eh_jedi'] = True\n",
        "print(luke)"
      ]
    },
    {
      "cell_type": "code",
      "execution_count": 12,
      "metadata": {
        "colab": {
          "base_uri": "https://localhost:8080/"
        },
        "id": "fXjoJRwzqS2U",
        "outputId": "95ea48be-a72a-4a26-f81f-9747008e3b49"
      },
      "outputs": [
        {
          "output_type": "stream",
          "name": "stdout",
          "text": [
            "{'nome': 'Luke Skywalker', 'idade': 16, 'peso': 70, 'eh_jedi': True, 'notas': [10.0, 5.0, 2.2]}\n"
          ]
        }
      ],
      "source": [
        "luke['notas'] = [10.0, 5.0, 2.2]\n",
        "print(luke)"
      ]
    },
    {
      "cell_type": "markdown",
      "metadata": {
        "id": "vYO3rVWqqS2U"
      },
      "source": [
        "Note que usamos **diversos tipos** de _valores_ no mesmo dicionário. Podemos também usar **mais de um tipo de chaves**, apesar que, geralmente, isso não é muito usado."
      ]
    },
    {
      "cell_type": "code",
      "execution_count": 13,
      "metadata": {
        "colab": {
          "base_uri": "https://localhost:8080/"
        },
        "id": "wynX7nAMqS2U",
        "outputId": "ea2f0305-2e16-4c37-d284-58c3a3296e8b"
      },
      "outputs": [
        {
          "output_type": "stream",
          "name": "stdout",
          "text": [
            "{'nome': 'Luke Skywalker', 'idade': 16, 'peso': 70, 'eh_jedi': True, 'notas': [10.0, 5.0, 2.2], 1: 'Um'}\n"
          ]
        }
      ],
      "source": [
        "luke[1] = 'Um'\n",
        "print(luke)"
      ]
    },
    {
      "cell_type": "markdown",
      "metadata": {
        "id": "Xef4-njHqS2U"
      },
      "source": [
        "Para copiar um dicionário:"
      ]
    },
    {
      "cell_type": "code",
      "execution_count": 16,
      "metadata": {
        "colab": {
          "base_uri": "https://localhost:8080/"
        },
        "id": "sIK7PntgqS2U",
        "outputId": "ddd395e5-d16f-434d-9f09-4979205d7e9b"
      },
      "outputs": [
        {
          "output_type": "stream",
          "name": "stdout",
          "text": [
            "{'nome': 'Luke Skywalker', 'idade': 16, 'peso': 70, 'eh_jedi': True, 'notas': [10.0, 5.0, 2.2]}\n",
            "{'nome': 'Luke Skywalker', 'idade': 16, 'peso': 70, 'eh_jedi': True, 'notas': [10.0, 5.0, 2.2]}\n"
          ]
        }
      ],
      "source": [
        "luke_copia = dict(luke)  # retorna uma cópia do dicionário `luke`\n",
        "luke.pop(1, None)  # remove a chave 1 do dicionário, esse None é usado para evitar erro, caso não hava essa chave 1\n",
        "\n",
        "print(luke)\n",
        "print(luke_copia)"
      ]
    },
    {
      "cell_type": "markdown",
      "metadata": {
        "id": "LpYv6o-lqS2U"
      },
      "source": [
        "#### Checando se um dicionário possui uma dada chave"
      ]
    },
    {
      "cell_type": "code",
      "execution_count": 18,
      "metadata": {
        "colab": {
          "base_uri": "https://localhost:8080/"
        },
        "id": "buhjO-eQqS2V",
        "outputId": "a90f75bc-8d7c-4d67-94fd-27753c4de81c"
      },
      "outputs": [
        {
          "output_type": "execute_result",
          "data": {
            "text/plain": [
              "{'nome': 'Luke Skywalker',\n",
              " 'idade': 16,\n",
              " 'peso': 70,\n",
              " 'eh_jedi': True,\n",
              " 'notas': [10.0, 5.0, 2.2]}"
            ]
          },
          "metadata": {},
          "execution_count": 18
        }
      ],
      "source": [
        "luke"
      ]
    },
    {
      "cell_type": "code",
      "execution_count": 19,
      "metadata": {
        "colab": {
          "base_uri": "https://localhost:8080/"
        },
        "id": "iXB1hCPpqS2V",
        "outputId": "4e46c204-90d2-43d0-a309-49ec2326a54f"
      },
      "outputs": [
        {
          "output_type": "execute_result",
          "data": {
            "text/plain": [
              "True"
            ]
          },
          "metadata": {},
          "execution_count": 19
        }
      ],
      "source": [
        "# obviamente, o retorno é booleano\n",
        "'nome' in luke"
      ]
    },
    {
      "cell_type": "code",
      "execution_count": 20,
      "metadata": {
        "colab": {
          "base_uri": "https://localhost:8080/"
        },
        "id": "Ngap2WLKqS2V",
        "outputId": "93167889-a990-497b-ed07-61c721602ffe"
      },
      "outputs": [
        {
          "output_type": "execute_result",
          "data": {
            "text/plain": [
              "False"
            ]
          },
          "metadata": {},
          "execution_count": 20
        }
      ],
      "source": [
        "'profissao' in luke"
      ]
    },
    {
      "cell_type": "code",
      "execution_count": 21,
      "metadata": {
        "colab": {
          "base_uri": "https://localhost:8080/"
        },
        "id": "VIs6tfDbqS2V",
        "outputId": "d3480f84-921f-45ae-d3e3-6322002bac83"
      },
      "outputs": [
        {
          "output_type": "execute_result",
          "data": {
            "text/plain": [
              "True"
            ]
          },
          "metadata": {},
          "execution_count": 21
        }
      ],
      "source": [
        "'profissisao' not in luke"
      ]
    },
    {
      "cell_type": "markdown",
      "metadata": {
        "id": "0QPfqcghqS2V"
      },
      "source": [
        "#### For-each em Dicionários"
      ]
    },
    {
      "cell_type": "code",
      "execution_count": 22,
      "metadata": {
        "colab": {
          "base_uri": "https://localhost:8080/"
        },
        "id": "TBM_4dQiqS2V",
        "outputId": "e0cac2c4-0bde-4c9b-d29c-3c7fa52cf72d"
      },
      "outputs": [
        {
          "output_type": "stream",
          "name": "stdout",
          "text": [
            "luke['nome'] = Luke Skywalker\n",
            "luke['idade'] = 16\n",
            "luke['peso'] = 70\n",
            "luke['eh_jedi'] = True\n",
            "luke['notas'] = [10.0, 5.0, 2.2]\n"
          ]
        }
      ],
      "source": [
        "for chave in luke:\n",
        "    print(f'luke[\\'{chave}\\'] = {luke[chave]}')"
      ]
    },
    {
      "cell_type": "code",
      "execution_count": 24,
      "metadata": {
        "colab": {
          "base_uri": "https://localhost:8080/"
        },
        "id": "B9lQDTaeqS2V",
        "outputId": "6f4557a0-ee2b-408a-c80c-c3be82e2cedb"
      },
      "outputs": [
        {
          "output_type": "execute_result",
          "data": {
            "text/plain": [
              "dict_keys(['nome', 'idade', 'peso', 'eh_jedi', 'notas'])"
            ]
          },
          "metadata": {},
          "execution_count": 24
        }
      ],
      "source": [
        "luke.keys()  # retorna uma lista com todas as chaves do dicionário"
      ]
    },
    {
      "cell_type": "code",
      "execution_count": 25,
      "metadata": {
        "colab": {
          "base_uri": "https://localhost:8080/"
        },
        "id": "ZaCOEwy1qS2W",
        "outputId": "f80ab457-8680-4ace-8d29-9afcca422b99"
      },
      "outputs": [
        {
          "output_type": "stream",
          "name": "stdout",
          "text": [
            "luke['nome'] = Luke Skywalker\n",
            "luke['idade'] = 16\n",
            "luke['peso'] = 70\n",
            "luke['eh_jedi'] = True\n",
            "luke['notas'] = [10.0, 5.0, 2.2]\n"
          ]
        }
      ],
      "source": [
        "for chave in luke.keys():\n",
        "    print(f'luke[\\'{chave}\\'] = {luke[chave]}')"
      ]
    },
    {
      "cell_type": "code",
      "execution_count": 26,
      "metadata": {
        "colab": {
          "base_uri": "https://localhost:8080/"
        },
        "id": "04tBqA7wqS2W",
        "outputId": "be355acc-2ffd-4a3a-a516-d07e5fd8161a"
      },
      "outputs": [
        {
          "output_type": "execute_result",
          "data": {
            "text/plain": [
              "dict_values(['Luke Skywalker', 16, 70, True, [10.0, 5.0, 2.2]])"
            ]
          },
          "metadata": {},
          "execution_count": 26
        }
      ],
      "source": [
        "luke.values()  # retorna uma lista com todos os valores do dicionário"
      ]
    },
    {
      "cell_type": "code",
      "execution_count": 27,
      "metadata": {
        "colab": {
          "base_uri": "https://localhost:8080/"
        },
        "id": "SUWili3-qS2W",
        "outputId": "e2ebf26e-9835-41dd-a126-62985816ef7f"
      },
      "outputs": [
        {
          "output_type": "stream",
          "name": "stdout",
          "text": [
            "Luke Skywalker\n",
            "16\n",
            "70\n",
            "True\n",
            "[10.0, 5.0, 2.2]\n"
          ]
        }
      ],
      "source": [
        "for valor in luke.values():\n",
        "    print(f'{valor}')"
      ]
    },
    {
      "cell_type": "code",
      "execution_count": 28,
      "metadata": {
        "colab": {
          "base_uri": "https://localhost:8080/"
        },
        "id": "7CDVnQQHqS2W",
        "outputId": "981fcf89-6490-415a-8dae-811de7912f68"
      },
      "outputs": [
        {
          "output_type": "execute_result",
          "data": {
            "text/plain": [
              "dict_items([('nome', 'Luke Skywalker'), ('idade', 16), ('peso', 70), ('eh_jedi', True), ('notas', [10.0, 5.0, 2.2])])"
            ]
          },
          "metadata": {},
          "execution_count": 28
        }
      ],
      "source": [
        "luke.items()  # retorna uma lista de tuplas, onde cada tupla representa um par chave e valor do dicionário"
      ]
    },
    {
      "cell_type": "code",
      "execution_count": 36,
      "metadata": {
        "colab": {
          "base_uri": "https://localhost:8080/"
        },
        "id": "21GMdv0EqS2W",
        "outputId": "942cda34-6d53-484e-846f-9fa80729a83f"
      },
      "outputs": [
        {
          "output_type": "stream",
          "name": "stdout",
          "text": [
            "luke['nome'] = Luke Skywalker\n",
            "luke['idade'] = 16\n",
            "luke['peso'] = 70\n",
            "luke['eh_jedi'] = True\n",
            "luke['notas'] = [10.0, 5.0, 2.2]\n"
          ]
        }
      ],
      "source": [
        "for chave, valor in luke.items():\n",
        "    print(f'luke[\\'{chave}\\'] = {valor}')"
      ]
    },
    {
      "cell_type": "markdown",
      "metadata": {
        "id": "hYdw0ANEqS2W"
      },
      "source": [
        "#### Dictionary Comprehensions"
      ]
    },
    {
      "cell_type": "code",
      "execution_count": null,
      "metadata": {
        "id": "QECB8baWqS2W",
        "outputId": "44c0bea1-e6f7-4ce5-e5b0-5c2f62ca490b"
      },
      "outputs": [
        {
          "name": "stdout",
          "output_type": "stream",
          "text": [
            "['Mercúrio', 'Vênus', 'Terra', 'Marte', 'Júpiter', 'Saturno', 'Urano', 'Netuno']\n"
          ]
        }
      ],
      "source": [
        "# CONTINUAAAAAAAR\n",
        "planetas = ['Mercúrio', 'Vênus', 'Terra', 'Marte', 'Júpiter', 'Saturno', 'Urano', 'Netuno']\n",
        "print(planetas)"
      ]
    },
    {
      "cell_type": "code",
      "execution_count": null,
      "metadata": {
        "id": "_gy6ZhpvqS2W",
        "outputId": "57908b62-b5aa-4639-fced-d4abc05d396c"
      },
      "outputs": [
        {
          "data": {
            "text/plain": [
              "{'Mercúrio': 'M',\n",
              " 'Vênus': 'V',\n",
              " 'Terra': 'T',\n",
              " 'Marte': 'M',\n",
              " 'Júpiter': 'J',\n",
              " 'Saturno': 'S',\n",
              " 'Urano': 'U',\n",
              " 'Netuno': 'N'}"
            ]
          },
          "execution_count": 27,
          "metadata": {},
          "output_type": "execute_result"
        }
      ],
      "source": [
        "# queremos construir um dicionário, onde cada chave é o nome do planeta, e seu respectivo valor é a inicial do planeta\n",
        "iniciais_dos_planetas = {plan: plan[0]  for plan in planetas}  # para cada planeta da nossa lista\n",
        "iniciais_dos_planetas"
      ]
    },
    {
      "cell_type": "code",
      "execution_count": null,
      "metadata": {
        "id": "9qui_nFFqS2X"
      },
      "outputs": [],
      "source": []
    }
  ],
  "metadata": {
    "kernelspec": {
      "display_name": "Python 3",
      "language": "python",
      "name": "python3"
    },
    "language_info": {
      "codemirror_mode": {
        "name": "ipython",
        "version": 3
      },
      "file_extension": ".py",
      "mimetype": "text/x-python",
      "name": "python",
      "nbconvert_exporter": "python",
      "pygments_lexer": "ipython3",
      "version": "3.8.5"
    },
    "colab": {
      "provenance": [],
      "include_colab_link": true
    }
  },
  "nbformat": 4,
  "nbformat_minor": 0
}