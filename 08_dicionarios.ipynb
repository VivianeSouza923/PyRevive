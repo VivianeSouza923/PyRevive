{
  "cells": [
    {
      "cell_type": "markdown",
      "metadata": {
        "id": "view-in-github",
        "colab_type": "text"
      },
      "source": [
        "<a href=\"https://colab.research.google.com/github/VivianeSouza923/PyRevive/blob/main/08_dicionarios.ipynb\" target=\"_parent\"><img src=\"https://colab.research.google.com/assets/colab-badge.svg\" alt=\"Open In Colab\"/></a>"
      ]
    },
    {
      "cell_type": "markdown",
      "metadata": {
        "id": "ppbxCkvKqS2P"
      },
      "source": [
        "## **Python Essencial para Data Science**\n",
        "**Prof. Dr. Samuel Martins (@hisamuka @xavecoding)** <br/>\n",
        "xavecoding: https://youtube.com/c/xavecoding <br/><br/>\n",
        "\n",
        "<a rel=\"license\" href=\"http://creativecommons.org/licenses/by-nc-sa/4.0/\"><img alt=\"Creative Commons License\" style=\"border-width:0\" src=\"https://i.creativecommons.org/l/by-nc-sa/4.0/88x31.png\" /></a><br />This work is licensed under a <a rel=\"license\" href=\"http://creativecommons.org/licenses/by-nc-sa/4.0/\">Creative Commons Attribution-NonCommercial-ShareAlike 4.0 International License</a>."
      ]
    },
    {
      "cell_type": "markdown",
      "metadata": {
        "id": "87g-T4yWqS2R"
      },
      "source": [
        "## Dicionários (tabelas hash)\n",
        "Dicionários são tabelas hash: estruturas que mapeiams _chaves_ à _valores_. <br/>\n",
        "Muito utilizado quando queremos **acesso rápido** (_O(1)_) a elementos/valores associados a uma dada chave."
      ]
    },
    {
      "cell_type": "code",
      "execution_count": 1,
      "metadata": {
        "id": "AOP1WxvfqS2R"
      },
      "outputs": [],
      "source": [
        "# ALTERNATIVA 1 ==> VALORES EM VARIÁVEIS SOLTAS\n",
        "nome = 'Luke Skywalker'\n",
        "idade = 16\n",
        "peso = 60.0"
      ]
    },
    {
      "cell_type": "code",
      "execution_count": 2,
      "metadata": {
        "colab": {
          "base_uri": "https://localhost:8080/"
        },
        "id": "639dsBGzqS2S",
        "outputId": "419e8fd1-b0ec-407a-b3ba-e87f7d939323"
      },
      "outputs": [
        {
          "output_type": "execute_result",
          "data": {
            "text/plain": [
              "['Luke Skywalker', 16, 60.0]"
            ]
          },
          "metadata": {},
          "execution_count": 2
        }
      ],
      "source": [
        "# ALTERNATIVA 2 (usando listas ou tuplas) ==> você precisa decorar quais são os índices que\n",
        "#                                             guardam cada um dos elementos\n",
        "luke_lista = ['Luke Skywalker', 16, 60.0]\n",
        "luke_lista"
      ]
    },
    {
      "cell_type": "code",
      "execution_count": 3,
      "metadata": {
        "colab": {
          "base_uri": "https://localhost:8080/"
        },
        "id": "6clngPMtqS2S",
        "outputId": "7aabf3c8-5343-49ee-fe9f-37f8b7eb9bd6"
      },
      "outputs": [
        {
          "output_type": "execute_result",
          "data": {
            "text/plain": [
              "{'nome': 'Luke Skywalker', 'idade': 16, 'peso': 60.0}"
            ]
          },
          "metadata": {},
          "execution_count": 3
        }
      ],
      "source": [
        "# ALTERNATIVA 3 (dicionários)\n",
        "# atribui chave e valor, separados por dois pontos.\n",
        "luke = {'nome': 'Luke Skywalker', 'idade': 16, 'peso': 60.0}\n",
        "luke"
      ]
    },
    {
      "cell_type": "markdown",
      "metadata": {
        "id": "JNbhYEWpqS2S"
      },
      "source": [
        "Neste caso, 'nome', 'idade' e 'peso' sãos as chaves com os respectivos valores 'Luke Skywalker', 16, 60.0."
      ]
    },
    {
      "cell_type": "markdown",
      "metadata": {
        "id": "On-3U5WTqS2S"
      },
      "source": [
        "Um dado _valor_ é acessado passando a _chave_ via **colchetes**:"
      ]
    },
    {
      "cell_type": "code",
      "execution_count": 4,
      "metadata": {
        "colab": {
          "base_uri": "https://localhost:8080/",
          "height": 36
        },
        "id": "zKftyDMhqS2S",
        "outputId": "5932c5a7-f4c2-4ff0-a80d-b1ed8732ac64"
      },
      "outputs": [
        {
          "output_type": "execute_result",
          "data": {
            "text/plain": [
              "'Luke Skywalker'"
            ],
            "application/vnd.google.colaboratory.intrinsic+json": {
              "type": "string"
            }
          },
          "metadata": {},
          "execution_count": 4
        }
      ],
      "source": [
        "# é como se as chaves virassem índices\n",
        "luke['nome']"
      ]
    },
    {
      "cell_type": "code",
      "execution_count": 5,
      "metadata": {
        "colab": {
          "base_uri": "https://localhost:8080/"
        },
        "id": "j-KTqcUfqS2T",
        "outputId": "7bdce343-266e-460c-dbd1-e27ca33356fd"
      },
      "outputs": [
        {
          "output_type": "execute_result",
          "data": {
            "text/plain": [
              "16"
            ]
          },
          "metadata": {},
          "execution_count": 5
        }
      ],
      "source": [
        "luke['idade']"
      ]
    },
    {
      "cell_type": "code",
      "execution_count": 6,
      "metadata": {
        "colab": {
          "base_uri": "https://localhost:8080/"
        },
        "id": "VGmkhEaxqS2T",
        "outputId": "59812fe5-aab9-4439-cf9b-2053c9680611"
      },
      "outputs": [
        {
          "output_type": "execute_result",
          "data": {
            "text/plain": [
              "60.0"
            ]
          },
          "metadata": {},
          "execution_count": 6
        }
      ],
      "source": [
        "luke['peso']"
      ]
    },
    {
      "cell_type": "markdown",
      "metadata": {
        "id": "HVn11KPNqS2T"
      },
      "source": [
        "Podemos alterar um valor acessando da mesma maneira:"
      ]
    },
    {
      "cell_type": "code",
      "execution_count": 7,
      "metadata": {
        "colab": {
          "base_uri": "https://localhost:8080/"
        },
        "id": "D_4CnWOAqS2T",
        "outputId": "c2e20fcd-bd5b-4911-fe29-e1ab0d68c664"
      },
      "outputs": [
        {
          "output_type": "stream",
          "name": "stdout",
          "text": [
            "{'nome': 'Luke Skywalker', 'idade': 16, 'peso': 70}\n"
          ]
        }
      ],
      "source": [
        "luke['peso'] = 70\n",
        "print(luke)"
      ]
    },
    {
      "cell_type": "markdown",
      "metadata": {
        "id": "hwT5gpPUqS2U"
      },
      "source": [
        "Podemos **adicionar** um novo elemento, apenas informando o novo _par de chaves e valor_:"
      ]
    },
    {
      "cell_type": "code",
      "execution_count": 8,
      "metadata": {
        "colab": {
          "base_uri": "https://localhost:8080/"
        },
        "id": "F8Ybnr4qqS2U",
        "outputId": "e4d8d97d-fc90-4ae5-e35d-7b227c0a8dc8"
      },
      "outputs": [
        {
          "output_type": "stream",
          "name": "stdout",
          "text": [
            "{'nome': 'Luke Skywalker', 'idade': 16, 'peso': 70, 'eh_jedi': True}\n"
          ]
        }
      ],
      "source": [
        "luke['eh_jedi'] = True\n",
        "print(luke)"
      ]
    },
    {
      "cell_type": "code",
      "execution_count": 9,
      "metadata": {
        "colab": {
          "base_uri": "https://localhost:8080/"
        },
        "id": "fXjoJRwzqS2U",
        "outputId": "72e9409c-2675-4473-841e-0c840225287b"
      },
      "outputs": [
        {
          "output_type": "stream",
          "name": "stdout",
          "text": [
            "{'nome': 'Luke Skywalker', 'idade': 16, 'peso': 70, 'eh_jedi': True, 'notas': [10.0, 5.0, 2.2]}\n"
          ]
        }
      ],
      "source": [
        "luke['notas'] = [10.0, 5.0, 2.2]\n",
        "print(luke)"
      ]
    },
    {
      "cell_type": "markdown",
      "metadata": {
        "id": "vYO3rVWqqS2U"
      },
      "source": [
        "Note que usamos **diversos tipos** de _valores_ no mesmo dicionário. Podemos também usar **mais de um tipo de chaves**, apesar que, geralmente, isso não é muito usado."
      ]
    },
    {
      "cell_type": "code",
      "execution_count": 10,
      "metadata": {
        "colab": {
          "base_uri": "https://localhost:8080/"
        },
        "id": "wynX7nAMqS2U",
        "outputId": "f91ddf80-4c71-4edc-9254-6588ef0c91c7"
      },
      "outputs": [
        {
          "output_type": "stream",
          "name": "stdout",
          "text": [
            "{'nome': 'Luke Skywalker', 'idade': 16, 'peso': 70, 'eh_jedi': True, 'notas': [10.0, 5.0, 2.2], 1: 'Um'}\n"
          ]
        }
      ],
      "source": [
        "luke[1] = 'Um'\n",
        "print(luke)"
      ]
    },
    {
      "cell_type": "markdown",
      "metadata": {
        "id": "Xef4-njHqS2U"
      },
      "source": [
        "Para copiar um dicionário:"
      ]
    },
    {
      "cell_type": "code",
      "execution_count": 11,
      "metadata": {
        "colab": {
          "base_uri": "https://localhost:8080/"
        },
        "id": "sIK7PntgqS2U",
        "outputId": "d32e10bd-4e39-4514-d603-ae69383300a2"
      },
      "outputs": [
        {
          "output_type": "stream",
          "name": "stdout",
          "text": [
            "{'nome': 'Luke Skywalker', 'idade': 16, 'peso': 70, 'eh_jedi': True, 'notas': [10.0, 5.0, 2.2]}\n",
            "{'nome': 'Luke Skywalker', 'idade': 16, 'peso': 70, 'eh_jedi': True, 'notas': [10.0, 5.0, 2.2], 1: 'Um'}\n"
          ]
        }
      ],
      "source": [
        "luke_copia = dict(luke)  # retorna uma cópia do dicionário `luke`\n",
        "luke.pop(1, None)  # remove a chave 1 do dicionário, esse None é usado para evitar erro, caso não hava essa chave 1\n",
        "\n",
        "print(luke)\n",
        "print(luke_copia)"
      ]
    },
    {
      "cell_type": "markdown",
      "metadata": {
        "id": "LpYv6o-lqS2U"
      },
      "source": [
        "#### Checando se um dicionário possui uma dada chave"
      ]
    },
    {
      "cell_type": "code",
      "execution_count": 12,
      "metadata": {
        "colab": {
          "base_uri": "https://localhost:8080/"
        },
        "id": "buhjO-eQqS2V",
        "outputId": "f3dc7fed-af72-4a0e-f042-cd191f8fa05f"
      },
      "outputs": [
        {
          "output_type": "execute_result",
          "data": {
            "text/plain": [
              "{'nome': 'Luke Skywalker',\n",
              " 'idade': 16,\n",
              " 'peso': 70,\n",
              " 'eh_jedi': True,\n",
              " 'notas': [10.0, 5.0, 2.2]}"
            ]
          },
          "metadata": {},
          "execution_count": 12
        }
      ],
      "source": [
        "luke"
      ]
    },
    {
      "cell_type": "code",
      "execution_count": 13,
      "metadata": {
        "colab": {
          "base_uri": "https://localhost:8080/"
        },
        "id": "iXB1hCPpqS2V",
        "outputId": "7831d147-c7c0-484b-fc63-2ba782788f24"
      },
      "outputs": [
        {
          "output_type": "execute_result",
          "data": {
            "text/plain": [
              "True"
            ]
          },
          "metadata": {},
          "execution_count": 13
        }
      ],
      "source": [
        "# obviamente, o retorno é booleano\n",
        "'nome' in luke"
      ]
    },
    {
      "cell_type": "code",
      "execution_count": 14,
      "metadata": {
        "colab": {
          "base_uri": "https://localhost:8080/"
        },
        "id": "Ngap2WLKqS2V",
        "outputId": "c95a163b-95ee-44f2-ea79-d6661d2bb8f4"
      },
      "outputs": [
        {
          "output_type": "execute_result",
          "data": {
            "text/plain": [
              "False"
            ]
          },
          "metadata": {},
          "execution_count": 14
        }
      ],
      "source": [
        "'profissao' in luke"
      ]
    },
    {
      "cell_type": "code",
      "execution_count": 15,
      "metadata": {
        "colab": {
          "base_uri": "https://localhost:8080/"
        },
        "id": "VIs6tfDbqS2V",
        "outputId": "c8e4f553-eed8-46c4-efb0-d6f7aa88af27"
      },
      "outputs": [
        {
          "output_type": "execute_result",
          "data": {
            "text/plain": [
              "True"
            ]
          },
          "metadata": {},
          "execution_count": 15
        }
      ],
      "source": [
        "'profissisao' not in luke"
      ]
    },
    {
      "cell_type": "markdown",
      "metadata": {
        "id": "0QPfqcghqS2V"
      },
      "source": [
        "#### For-each em Dicionários"
      ]
    },
    {
      "cell_type": "code",
      "execution_count": 16,
      "metadata": {
        "colab": {
          "base_uri": "https://localhost:8080/"
        },
        "id": "TBM_4dQiqS2V",
        "outputId": "fbd04c96-2406-4590-b180-e53fe17e5875"
      },
      "outputs": [
        {
          "output_type": "stream",
          "name": "stdout",
          "text": [
            "luke['nome'] = Luke Skywalker\n",
            "luke['idade'] = 16\n",
            "luke['peso'] = 70\n",
            "luke['eh_jedi'] = True\n",
            "luke['notas'] = [10.0, 5.0, 2.2]\n"
          ]
        }
      ],
      "source": [
        "for chave in luke:\n",
        "    print(f'luke[\\'{chave}\\'] = {luke[chave]}')"
      ]
    },
    {
      "cell_type": "code",
      "execution_count": 17,
      "metadata": {
        "colab": {
          "base_uri": "https://localhost:8080/"
        },
        "id": "B9lQDTaeqS2V",
        "outputId": "d92b6291-e525-4395-ed90-02907f0289da"
      },
      "outputs": [
        {
          "output_type": "execute_result",
          "data": {
            "text/plain": [
              "dict_keys(['nome', 'idade', 'peso', 'eh_jedi', 'notas'])"
            ]
          },
          "metadata": {},
          "execution_count": 17
        }
      ],
      "source": [
        "luke.keys()  # retorna uma lista com todas as chaves do dicionário"
      ]
    },
    {
      "cell_type": "code",
      "execution_count": 18,
      "metadata": {
        "colab": {
          "base_uri": "https://localhost:8080/"
        },
        "id": "ZaCOEwy1qS2W",
        "outputId": "12090156-5de7-4746-ce43-0cd0323a8bb1"
      },
      "outputs": [
        {
          "output_type": "stream",
          "name": "stdout",
          "text": [
            "luke['nome'] = Luke Skywalker\n",
            "luke['idade'] = 16\n",
            "luke['peso'] = 70\n",
            "luke['eh_jedi'] = True\n",
            "luke['notas'] = [10.0, 5.0, 2.2]\n"
          ]
        }
      ],
      "source": [
        "for chave in luke.keys():\n",
        "    print(f'luke[\\'{chave}\\'] = {luke[chave]}')"
      ]
    },
    {
      "cell_type": "code",
      "execution_count": 19,
      "metadata": {
        "colab": {
          "base_uri": "https://localhost:8080/"
        },
        "id": "04tBqA7wqS2W",
        "outputId": "1dcc4e38-ece7-4519-d9b4-5bba7b0a6ee5"
      },
      "outputs": [
        {
          "output_type": "execute_result",
          "data": {
            "text/plain": [
              "dict_values(['Luke Skywalker', 16, 70, True, [10.0, 5.0, 2.2]])"
            ]
          },
          "metadata": {},
          "execution_count": 19
        }
      ],
      "source": [
        "luke.values()  # retorna uma lista com todos os valores do dicionário"
      ]
    },
    {
      "cell_type": "code",
      "execution_count": 20,
      "metadata": {
        "colab": {
          "base_uri": "https://localhost:8080/"
        },
        "id": "SUWili3-qS2W",
        "outputId": "66d8f52d-ef02-487f-ed54-d082dff0dca3"
      },
      "outputs": [
        {
          "output_type": "stream",
          "name": "stdout",
          "text": [
            "Luke Skywalker\n",
            "16\n",
            "70\n",
            "True\n",
            "[10.0, 5.0, 2.2]\n"
          ]
        }
      ],
      "source": [
        "for valor in luke.values():\n",
        "    print(f'{valor}')"
      ]
    },
    {
      "cell_type": "code",
      "execution_count": 21,
      "metadata": {
        "colab": {
          "base_uri": "https://localhost:8080/"
        },
        "id": "7CDVnQQHqS2W",
        "outputId": "09b5564c-60b1-4405-eb1f-57646ccda1bf"
      },
      "outputs": [
        {
          "output_type": "execute_result",
          "data": {
            "text/plain": [
              "dict_items([('nome', 'Luke Skywalker'), ('idade', 16), ('peso', 70), ('eh_jedi', True), ('notas', [10.0, 5.0, 2.2])])"
            ]
          },
          "metadata": {},
          "execution_count": 21
        }
      ],
      "source": [
        "luke.items()  # retorna uma lista de tuplas, onde cada tupla representa um par chave e valor do dicionário"
      ]
    },
    {
      "cell_type": "code",
      "execution_count": 22,
      "metadata": {
        "colab": {
          "base_uri": "https://localhost:8080/"
        },
        "id": "21GMdv0EqS2W",
        "outputId": "bd46f9f4-2169-4ffa-a549-a775f7717442"
      },
      "outputs": [
        {
          "output_type": "stream",
          "name": "stdout",
          "text": [
            "luke['nome'] = Luke Skywalker\n",
            "luke['idade'] = 16\n",
            "luke['peso'] = 70\n",
            "luke['eh_jedi'] = True\n",
            "luke['notas'] = [10.0, 5.0, 2.2]\n"
          ]
        }
      ],
      "source": [
        "for chave, valor in luke.items():\n",
        "    print(f'luke[\\'{chave}\\'] = {valor}')"
      ]
    },
    {
      "cell_type": "markdown",
      "metadata": {
        "id": "hYdw0ANEqS2W"
      },
      "source": [
        "#### Dictionary Comprehensions"
      ]
    },
    {
      "cell_type": "code",
      "execution_count": 23,
      "metadata": {
        "id": "QECB8baWqS2W",
        "outputId": "5abe64ba-9d6e-47c5-d66d-0916e3636eb3",
        "colab": {
          "base_uri": "https://localhost:8080/"
        }
      },
      "outputs": [
        {
          "output_type": "stream",
          "name": "stdout",
          "text": [
            "['Mercúrio', 'Vênus', 'Terra', 'Marte', 'Júpiter', 'Saturno', 'Urano', 'Netuno']\n"
          ]
        }
      ],
      "source": [
        "# aqui eu pego uma lista de Strings\n",
        "planetas = ['Mercúrio', 'Vênus', 'Terra', 'Marte', 'Júpiter', 'Saturno', 'Urano', 'Netuno']\n",
        "# print dessa lista\n",
        "print(planetas)"
      ]
    },
    {
      "cell_type": "code",
      "execution_count": 24,
      "metadata": {
        "id": "_gy6ZhpvqS2W",
        "outputId": "71cba32c-733f-4a7f-da4e-a203b222d169",
        "colab": {
          "base_uri": "https://localhost:8080/"
        }
      },
      "outputs": [
        {
          "output_type": "execute_result",
          "data": {
            "text/plain": [
              "{'Mercúrio': 'M',\n",
              " 'Vênus': 'V',\n",
              " 'Terra': 'T',\n",
              " 'Marte': 'M',\n",
              " 'Júpiter': 'J',\n",
              " 'Saturno': 'S',\n",
              " 'Urano': 'U',\n",
              " 'Netuno': 'N'}"
            ]
          },
          "metadata": {},
          "execution_count": 24
        }
      ],
      "source": [
        "# queremos construir um dicionário, onde cada chave é o nome do planeta, e seu respectivo valor é a inicial do planeta\n",
        "iniciais_dos_planetas = {plan: plan[0]  for plan in planetas}  # para cada planeta da nossa lista\n",
        "iniciais_dos_planetas"
      ]
    }
  ],
  "metadata": {
    "kernelspec": {
      "display_name": "Python 3",
      "language": "python",
      "name": "python3"
    },
    "language_info": {
      "codemirror_mode": {
        "name": "ipython",
        "version": 3
      },
      "file_extension": ".py",
      "mimetype": "text/x-python",
      "name": "python",
      "nbconvert_exporter": "python",
      "pygments_lexer": "ipython3",
      "version": "3.8.5"
    },
    "colab": {
      "provenance": [],
      "include_colab_link": true
    }
  },
  "nbformat": 4,
  "nbformat_minor": 0
}